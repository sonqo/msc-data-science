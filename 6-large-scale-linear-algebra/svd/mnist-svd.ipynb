{
 "cells": [
  {
   "cell_type": "markdown",
   "id": "d5d332ea",
   "metadata": {},
   "source": [
    "# Digit Image Classification Through SVD\n",
    "---\n",
    "\n",
    "The goal of this exercise is the classification of hand written digit images by utilizng SVD."
   ]
  },
  {
   "cell_type": "code",
   "execution_count": 1,
   "id": "26266e62",
   "metadata": {},
   "outputs": [],
   "source": [
    "import random\n",
    "import warnings\n",
    "import numpy as np\n",
    "import pandas as pd\n",
    "import seaborn as sns\n",
    "import openpyxl as op\n",
    "import matplotlib.pyplot as plt\n",
    "from sklearn.model_selection import train_test_split\n",
    "\n",
    "sns.set()\n",
    "warnings.simplefilter(\"ignore\")"
   ]
  },
  {
   "cell_type": "markdown",
   "id": "b55bb223",
   "metadata": {},
   "source": [
    "## Data Preprocessing\n",
    "---\n",
    "\n",
    "Our dataset consists of handwritten digit images splitted into training and test subsets with 1707 and 2007 instances, respectively."
   ]
  },
  {
   "cell_type": "code",
   "execution_count": 2,
   "id": "6a14ef84",
   "metadata": {},
   "outputs": [],
   "source": [
    "# load traing\n",
    "x_train = pd.read_excel('./data.xlsx', sheet_name='azip', header=None).T\n",
    "y_train = pd.read_excel('./data.xlsx', sheet_name='dzip', header=None).T\n",
    "\n",
    "# load testing\n",
    "x_test = pd.read_excel('./data.xlsx', sheet_name='testzip', header=None).T\n",
    "y_test = pd.read_excel('./data.xlsx', sheet_name='dtest', header=None).T"
   ]
  },
  {
   "cell_type": "markdown",
   "id": "7153d09d",
   "metadata": {},
   "source": [
    "We'll implement the `display_image` function for visualizing a digit image given its 1-dimensional format:"
   ]
  },
  {
   "cell_type": "code",
   "execution_count": 3,
   "id": "d53a7b18",
   "metadata": {},
   "outputs": [],
   "source": [
    "def display_image(x: pd.core.series.Series) -> None:\n",
    "    \n",
    "    \"\"\"\n",
    "    A function that accepts an image in pandas Series form and displays it.\n",
    "    \n",
    "    PARAMETERS\n",
    "        @ x: pandas Series object corresponding to image array\n",
    "\n",
    "    RETURNS\n",
    "        None, displays image through matplotlib\n",
    "    \"\"\"\n",
    "    \n",
    "    image_list = x.tolist() # Series to list\n",
    "    image_2d = np.reshape(image_list, (16, 16)) # transform 1x256 to 16x16\n",
    "    plt.imshow(image_2d, cmap='gray') # display"
   ]
  },
  {
   "cell_type": "markdown",
   "id": "2b57ad18",
   "metadata": {},
   "source": [
    "Before moving on, it is worth exploring the centroids of the digits in the training set:"
   ]
  },
  {
   "cell_type": "code",
   "execution_count": 4,
   "id": "4403df9d",
   "metadata": {},
   "outputs": [
    {
     "data": {
      "image/png": "[encoded data removed]",
      "text/plain": [
       "<Figure size 1000x400 with 10 Axes>"
      ]
     },
     "metadata": {},
     "output_type": "display_data"
    }
   ],
   "source": [
    "fig = plt.figure(figsize=(10, 4))\n",
    "fig.suptitle('Centroids of training set digits')\n",
    "\n",
    "for i in range(1, 11):\n",
    "    ax = fig.add_subplot(2, 5, i)\n",
    "    ax.set_xticks([]) # remove x-ticks\n",
    "    ax.set_yticks([]) # remove y-ticks\n",
    "    display_image(x_train.loc[y_train[0] == i-1].mean())"
   ]
  },
  {
   "cell_type": "markdown",
   "id": "85946650",
   "metadata": {},
   "source": [
    "Taking a closer look at the above results we get the impression that the majority (if not all) of the digits are well written. This indicates that the clusters of digits are well separated."
   ]
  },
  {
   "cell_type": "markdown",
   "id": "4fa85b94",
   "metadata": {},
   "source": [
    "## 2 Stage Classification Algorithm\n",
    "---\n",
    "\n",
    "Given a matrix A, we know its SVD factorization:\n",
    "\n",
    "$$\n",
    "    A = U Σ V^T = \\sum \\limits _{i=1} ^m σ_i u_i v_i^Τ\n",
    "$$\n",
    "\n",
    "Expanding on this formula, we assume that an image can be accurately approximated by its first singular components. Given that, we will calculate the first couple singular images for every cluster of digits aiming to use that information to classify seemingly unknown inputs. \n",
    "\n",
    "The proposed algorithm consists of **2 stages**: \n",
    "\n",
    "- During the first phase we will compare the unknown digit to the **first singular vector** of each class. If the residual for one class is significantly smaller than for others we will classify the image as that class\n",
    "- If no significant difference occurs, the algorithm proceeds to the second phase, where the images is compared against a **fixed basis (5) of singular vectors** for every class. The class with the smaller residual vector is deemed as the most dominant one. The respective least squares problem is formulated as follows:\n",
    "\n",
    "$$\n",
    "    min || z - \\sum \\limits _{i=1} ^k u_i ||_2\n",
    "$$\n",
    "\n",
    "where the unknown digit is denoted with *z*. \n",
    "\n",
    "We will start by calculating the SVD matrices of basis 1 and 5 for every digit cluster 0-9. We will store the resulting matrices in a dictionary:"
   ]
  },
  {
   "cell_type": "code",
   "execution_count": 6,
   "id": "d0fcaca3",
   "metadata": {},
   "outputs": [],
   "source": [
    "acc = {}\n",
    "for digit in range(10):\n",
    "    # calculate svd\n",
    "    u, s, vh = np.linalg.svd(np.reshape(\n",
    "        x_train.loc[y_train[0] == digit].mean().tolist(),\n",
    "        (16, 16)), \n",
    "        full_matrices=True\n",
    "    )\n",
    "    sum_singular = 0\n",
    "    first_singular = 0\n",
    "    for comp in range(5):\n",
    "        if comp == 0:\n",
    "            # reconstruct basis - 1\n",
    "            first_singular = ( u.T[comp] * s[comp] ).reshape(16, 1) @ \\\n",
    "                             ( vh[comp].reshape(1, 16) )\n",
    "        else:\n",
    "            # reconstruct basis, add to previous singular components\n",
    "            # (add first singular at the end of the process)\n",
    "            sum_singular += ( u.T[comp] * s[comp] ).reshape(16, 1) @ \\\n",
    "                            ( vh[comp].reshape(1, 16) )\n",
    "    # return a tuple with (basis-1, basis-5)\n",
    "    acc[digit] = (first_singular, first_singular + sum_singular)"
   ]
  },
  {
   "cell_type": "markdown",
   "id": "c768ff47",
   "metadata": {},
   "source": [
    "We will now move on with the proposed algorirthm:\n",
    "\n",
    "We clarify that the purpose of the first phase it to explore in what extend we can avoid unnecessary calculations for the classification of a digit. The criterion we choose for deciding whether the basis-1 residual for a given class is significantly smaller than other classes is the following:\n",
    "\n",
    "$$\n",
    "    \\frac { | ( residual_{a} - \\sum \\limits _{i=0} ^9 residual_{i} | } { \\sum \\limits _{i=0} ^9 residual_{i} } >= 0.65\n",
    "$$\n",
    "\n",
    "The threshold described is directly connected to the task at hand. It should be small enough to avoid as much calculations as possible and large enough to classify a digit infallibly. We went for a percentage difference of **70%** after checking a variety of thresholds on the **training set**."
   ]
  },
  {
   "cell_type": "code",
   "execution_count": 7,
   "id": "73f21e3a",
   "metadata": {},
   "outputs": [],
   "source": [
    "# accumulators for base-1 and base-5 predictions\n",
    "first_basis, fifth_basis = [], []\n",
    "\n",
    "for i in range(x_test.to_numpy().shape[0]):\n",
    "    \n",
    "    # flag in case base-1 solution is found\n",
    "    flag = 0\n",
    "    \n",
    "    # prepare image-to-classify\n",
    "    curr = np.reshape(x_test.iloc[i].to_numpy(), (16, 16))\n",
    "    \n",
    "    # calculate norm-2 of the residual for every base-1 class\n",
    "    lst = []\n",
    "    for digit in range(10):\n",
    "        diff = curr - acc[digit][0] # basis-1\n",
    "        norm = np.linalg.norm(diff, 2) # norm-2\n",
    "        lst.append(norm)\n",
    "        \n",
    "    # 1-stage: decide if basis-1 is sufficient for classification\n",
    "    mean_lst_threshold = ( sum(lst) / len(lst) ) \n",
    "    for j in range(len(lst)):\n",
    "        if (abs(lst[j]-mean_lst_threshold)) / mean_lst_threshold >= 0.70:\n",
    "            first_basis.append((i, j, y_test.iloc[i][0]))\n",
    "    \n",
    "    # set found-solution-flag\n",
    "    if first_basis:\n",
    "        if first_basis[-1][0] == i:\n",
    "            flag = 1\n",
    "            \n",
    "    # stage-2: predict according to minimum norm-2 residual\n",
    "    if flag == 1:\n",
    "        continue\n",
    "        \n",
    "    # calculate norm-2 of the residual for every base-5 class\n",
    "    else:\n",
    "        lst = []\n",
    "        for digit in range(10):\n",
    "            diff = curr - acc[digit][1] # basis-5\n",
    "            norm = np.linalg.norm(diff, 2) # norm-2\n",
    "            lst.append(norm)\n",
    "        pred = lst.index(min(lst))\n",
    "        fifth_basis.append((pred, y_test.iloc[i][0]))"
   ]
  },
  {
   "cell_type": "markdown",
   "id": "34b49666",
   "metadata": {},
   "source": [
    "After calculating some key metrics for our predictions we get:"
   ]
  },
  {
   "cell_type": "code",
   "execution_count": 8,
   "id": "6dc92f71",
   "metadata": {
    "scrolled": true
   },
   "outputs": [
    {
     "name": "stdout",
     "output_type": "stream",
     "text": [
      "Stage One:\n",
      "==========\n",
      "Accuracy: 100.00%\n",
      "Number of predictions: 83\n",
      "Percentage of test set: 4.14%\n",
      "Variation of digits: {1}\n"
     ]
    }
   ],
   "source": [
    "print('Stage One:')\n",
    "print('==========')\n",
    "print('Accuracy: {:.2f}%'.format(\n",
    "    len([x for x in first_basis if x[1]==x[2]]) / len(first_basis) * 100))\n",
    "print('Number of predictions: {}'.format(len(first_basis)))\n",
    "print('Percentage of test set: {:.2f}%'.format((\n",
    "    len(first_basis) / len(x_test)) * 100))\n",
    "print('Variation of digits: {}'.format(\n",
    "    set([x[1] for x in first_basis])))"
   ]
  },
  {
   "cell_type": "code",
   "execution_count": 9,
   "id": "44fabda7",
   "metadata": {},
   "outputs": [
    {
     "name": "stdout",
     "output_type": "stream",
     "text": [
      "Stage Two:\n",
      "==========\n",
      "Accuracy: 76.51%\n",
      "Number of predictions: 1924\n",
      "Percentage of test set: 95.86%\n",
      "Variation of digits: {0, 1, 2, 3, 4, 5, 6, 7, 8, 9}\n"
     ]
    }
   ],
   "source": [
    "print('Stage Two:')\n",
    "print('==========')\n",
    "print('Accuracy: {:.2f}%'.format(\n",
    "    len([x for x in fifth_basis if x[0]==x[1]]) / len(fifth_basis) * 100))\n",
    "print('Number of predictions: {}'.format(len(fifth_basis)))\n",
    "print('Percentage of test set: {:.2f}%'.format((\n",
    "    len(fifth_basis) / len(x_test)) * 100))\n",
    "print('Variation of digits: {}'.format(\n",
    "    set([x[1] for x in fifth_basis])))"
   ]
  },
  {
   "cell_type": "markdown",
   "id": "825e6af5",
   "metadata": {},
   "source": [
    "We note the following points:\n",
    "\n",
    "- Stage one can avoid unnecessary calculations for roughly the **4%** of our test dataset, leading to **100%** accuracy\n",
    "- Stage one was only efficient, however, for images corresponding to digit **1**\n",
    "- Stage two achieves roughly **77%** accuracy for the rest **96%** of the test subset\n"
   ]
  },
  {
   "cell_type": "markdown",
   "id": "eca2471b",
   "metadata": {},
   "source": [
    "## Exploration of Different Number of Basis Vectors and Accuracy\n",
    "---\n",
    "\n",
    "At this section we will explore how different number of basis vectors affect the accuracy of classification for each different class. We will start with the re-population of our dictionary of different basis vectors:"
   ]
  },
  {
   "cell_type": "code",
   "execution_count": 11,
   "id": "cec0674b",
   "metadata": {},
   "outputs": [],
   "source": [
    "acc = {}\n",
    "for digit in range(10):\n",
    "    # calculate svd\n",
    "    u, s, vh = np.linalg.svd(\n",
    "        np.reshape(x_train.loc[y_train[0] == digit].mean().tolist(), \n",
    "        (16, 16)), \n",
    "        full_matrices=True\n",
    "    )\n",
    "    sum_singular = 0\n",
    "    first_singular = 0\n",
    "    for comp in range(9):\n",
    "        if comp == 0:\n",
    "            # reconstruct basis - 1\n",
    "            first_singular = ( u.T[comp] * s[comp] ).reshape(16, 1) @ \\\n",
    "                             ( vh[comp].reshape(1, 16) )\n",
    "            acc[(digit, 1)] = first_singular\n",
    "        else:\n",
    "            # reconstruct basis, add to previous singular components\n",
    "            # (add first singular at the end of the process)\n",
    "            sum_singular += ( ( u.T[comp] * s[comp] ).reshape(16, 1) @ \\\n",
    "                              ( vh[comp].reshape(1, 16) ) )\n",
    "            acc[(digit, comp+1)] = first_singular + sum_singular"
   ]
  },
  {
   "cell_type": "markdown",
   "id": "0a9c16aa",
   "metadata": {},
   "source": [
    "We move on to the prediction phase on the test set:"
   ]
  },
  {
   "cell_type": "code",
   "execution_count": 12,
   "id": "9a6031fe",
   "metadata": {},
   "outputs": [],
   "source": [
    "final = []\n",
    "for i in range(x_test.to_numpy().shape[0]):\n",
    "    \n",
    "    # prepare image-to-classify\n",
    "    curr = np.reshape(x_test.iloc[i].to_numpy(), (16, 16))\n",
    "    \n",
    "    # calculate norm-2 of the residual for every base-x class\n",
    "    for base in range(1, 10):\n",
    "        lst = []\n",
    "        for digit in range(10):\n",
    "            diff = curr - acc[(digit, base)]\n",
    "            norm = np.linalg.norm(diff, 2) # norm-2\n",
    "            lst.append(norm)\n",
    "        pred = lst.index(min(lst))\n",
    "        final.append((i, base, pred, y_test.iloc[i][0]))\n",
    "        \n",
    "# calculate accuracy\n",
    "results = []\n",
    "for digit in range(10):\n",
    "    # select digit\n",
    "    curr = [x for x in final if x[3] == digit]\n",
    "    for base in range(1, 10):\n",
    "        # select base\n",
    "        curr_b = [x for x in curr if x[1] == base]\n",
    "        # calculate accuracy\n",
    "        res = (len([x for x in curr_b if x[2]==x[3]]) / len(curr_b)) * 100\n",
    "        results.append((digit, base, round(res, 2)))"
   ]
  },
  {
   "cell_type": "markdown",
   "id": "464b6e71",
   "metadata": {},
   "source": [
    "Visualing the results we get:"
   ]
  },
  {
   "cell_type": "code",
   "execution_count": 13,
   "id": "a72c21b6",
   "metadata": {},
   "outputs": [
    {
     "data": {
      "text/html": [
       "<style type=\"text/css\">\n",
       "#T_43e33_row2_col1, #T_43e33_row2_col7, #T_43e33_row3_col0, #T_43e33_row3_col1, #T_43e33_row3_col5, #T_43e33_row3_col9, #T_43e33_row4_col1, #T_43e33_row4_col3, #T_43e33_row4_col4, #T_43e33_row4_col6, #T_43e33_row4_col8, #T_43e33_row5_col1, #T_43e33_row5_col2, #T_43e33_row5_col3, #T_43e33_row5_col4, #T_43e33_row6_col1, #T_43e33_row6_col2, #T_43e33_row6_col3, #T_43e33_row6_col4, #T_43e33_row6_col8, #T_43e33_row7_col1, #T_43e33_row7_col2, #T_43e33_row7_col3, #T_43e33_row7_col4, #T_43e33_row7_col8, #T_43e33_row7_col10, #T_43e33_row8_col1, #T_43e33_row8_col2, #T_43e33_row8_col3, #T_43e33_row8_col4, #T_43e33_row8_col8, #T_43e33_row8_col10 {\n",
       "  background-color: lightgreen;\n",
       "}\n",
       "</style>\n",
       "<table id=\"T_43e33\">\n",
       "  <thead>\n",
       "    <tr>\n",
       "      <th class=\"index_name level0\" >digit</th>\n",
       "      <th id=\"T_43e33_level0_col0\" class=\"col_heading level0 col0\" >0</th>\n",
       "      <th id=\"T_43e33_level0_col1\" class=\"col_heading level0 col1\" >1</th>\n",
       "      <th id=\"T_43e33_level0_col2\" class=\"col_heading level0 col2\" >2</th>\n",
       "      <th id=\"T_43e33_level0_col3\" class=\"col_heading level0 col3\" >3</th>\n",
       "      <th id=\"T_43e33_level0_col4\" class=\"col_heading level0 col4\" >4</th>\n",
       "      <th id=\"T_43e33_level0_col5\" class=\"col_heading level0 col5\" >5</th>\n",
       "      <th id=\"T_43e33_level0_col6\" class=\"col_heading level0 col6\" >6</th>\n",
       "      <th id=\"T_43e33_level0_col7\" class=\"col_heading level0 col7\" >7</th>\n",
       "      <th id=\"T_43e33_level0_col8\" class=\"col_heading level0 col8\" >8</th>\n",
       "      <th id=\"T_43e33_level0_col9\" class=\"col_heading level0 col9\" >9</th>\n",
       "      <th id=\"T_43e33_level0_col10\" class=\"col_heading level0 col10\" >average</th>\n",
       "    </tr>\n",
       "    <tr>\n",
       "      <th class=\"index_name level0\" >base</th>\n",
       "      <th class=\"blank col0\" >&nbsp;</th>\n",
       "      <th class=\"blank col1\" >&nbsp;</th>\n",
       "      <th class=\"blank col2\" >&nbsp;</th>\n",
       "      <th class=\"blank col3\" >&nbsp;</th>\n",
       "      <th class=\"blank col4\" >&nbsp;</th>\n",
       "      <th class=\"blank col5\" >&nbsp;</th>\n",
       "      <th class=\"blank col6\" >&nbsp;</th>\n",
       "      <th class=\"blank col7\" >&nbsp;</th>\n",
       "      <th class=\"blank col8\" >&nbsp;</th>\n",
       "      <th class=\"blank col9\" >&nbsp;</th>\n",
       "      <th class=\"blank col10\" >&nbsp;</th>\n",
       "    </tr>\n",
       "  </thead>\n",
       "  <tbody>\n",
       "    <tr>\n",
       "      <th id=\"T_43e33_level0_row0\" class=\"row_heading level0 row0\" >1</th>\n",
       "      <td id=\"T_43e33_row0_col0\" class=\"data row0 col0\" >51.53</td>\n",
       "      <td id=\"T_43e33_row0_col1\" class=\"data row0 col1\" >92.05</td>\n",
       "      <td id=\"T_43e33_row0_col2\" class=\"data row0 col2\" >45.45</td>\n",
       "      <td id=\"T_43e33_row0_col3\" class=\"data row0 col3\" >21.08</td>\n",
       "      <td id=\"T_43e33_row0_col4\" class=\"data row0 col4\" >53.50</td>\n",
       "      <td id=\"T_43e33_row0_col5\" class=\"data row0 col5\" >22.50</td>\n",
       "      <td id=\"T_43e33_row0_col6\" class=\"data row0 col6\" >35.88</td>\n",
       "      <td id=\"T_43e33_row0_col7\" class=\"data row0 col7\" >58.50</td>\n",
       "      <td id=\"T_43e33_row0_col8\" class=\"data row0 col8\" >42.77</td>\n",
       "      <td id=\"T_43e33_row0_col9\" class=\"data row0 col9\" >42.94</td>\n",
       "      <td id=\"T_43e33_row0_col10\" class=\"data row0 col10\" >46.62</td>\n",
       "    </tr>\n",
       "    <tr>\n",
       "      <th id=\"T_43e33_level0_row1\" class=\"row_heading level0 row1\" >2</th>\n",
       "      <td id=\"T_43e33_row1_col0\" class=\"data row1 col0\" >78.55</td>\n",
       "      <td id=\"T_43e33_row1_col1\" class=\"data row1 col1\" >95.08</td>\n",
       "      <td id=\"T_43e33_row1_col2\" class=\"data row1 col2\" >60.61</td>\n",
       "      <td id=\"T_43e33_row1_col3\" class=\"data row1 col3\" >65.06</td>\n",
       "      <td id=\"T_43e33_row1_col4\" class=\"data row1 col4\" >51.50</td>\n",
       "      <td id=\"T_43e33_row1_col5\" class=\"data row1 col5\" >49.38</td>\n",
       "      <td id=\"T_43e33_row1_col6\" class=\"data row1 col6\" >72.35</td>\n",
       "      <td id=\"T_43e33_row1_col7\" class=\"data row1 col7\" >78.91</td>\n",
       "      <td id=\"T_43e33_row1_col8\" class=\"data row1 col8\" >63.86</td>\n",
       "      <td id=\"T_43e33_row1_col9\" class=\"data row1 col9\" >68.93</td>\n",
       "      <td id=\"T_43e33_row1_col10\" class=\"data row1 col10\" >68.42</td>\n",
       "    </tr>\n",
       "    <tr>\n",
       "      <th id=\"T_43e33_level0_row2\" class=\"row_heading level0 row2\" >3</th>\n",
       "      <td id=\"T_43e33_row2_col0\" class=\"data row2 col0\" >82.45</td>\n",
       "      <td id=\"T_43e33_row2_col1\" class=\"data row2 col1\" >95.45</td>\n",
       "      <td id=\"T_43e33_row2_col2\" class=\"data row2 col2\" >64.65</td>\n",
       "      <td id=\"T_43e33_row2_col3\" class=\"data row2 col3\" >68.67</td>\n",
       "      <td id=\"T_43e33_row2_col4\" class=\"data row2 col4\" >68.50</td>\n",
       "      <td id=\"T_43e33_row2_col5\" class=\"data row2 col5\" >63.75</td>\n",
       "      <td id=\"T_43e33_row2_col6\" class=\"data row2 col6\" >75.88</td>\n",
       "      <td id=\"T_43e33_row2_col7\" class=\"data row2 col7\" >86.39</td>\n",
       "      <td id=\"T_43e33_row2_col8\" class=\"data row2 col8\" >66.27</td>\n",
       "      <td id=\"T_43e33_row2_col9\" class=\"data row2 col9\" >75.71</td>\n",
       "      <td id=\"T_43e33_row2_col10\" class=\"data row2 col10\" >74.77</td>\n",
       "    </tr>\n",
       "    <tr>\n",
       "      <th id=\"T_43e33_level0_row3\" class=\"row_heading level0 row3\" >4</th>\n",
       "      <td id=\"T_43e33_row3_col0\" class=\"data row3 col0\" >82.73</td>\n",
       "      <td id=\"T_43e33_row3_col1\" class=\"data row3 col1\" >95.45</td>\n",
       "      <td id=\"T_43e33_row3_col2\" class=\"data row3 col2\" >66.16</td>\n",
       "      <td id=\"T_43e33_row3_col3\" class=\"data row3 col3\" >71.08</td>\n",
       "      <td id=\"T_43e33_row3_col4\" class=\"data row3 col4\" >68.00</td>\n",
       "      <td id=\"T_43e33_row3_col5\" class=\"data row3 col5\" >67.50</td>\n",
       "      <td id=\"T_43e33_row3_col6\" class=\"data row3 col6\" >78.82</td>\n",
       "      <td id=\"T_43e33_row3_col7\" class=\"data row3 col7\" >80.95</td>\n",
       "      <td id=\"T_43e33_row3_col8\" class=\"data row3 col8\" >68.67</td>\n",
       "      <td id=\"T_43e33_row3_col9\" class=\"data row3 col9\" >79.66</td>\n",
       "      <td id=\"T_43e33_row3_col10\" class=\"data row3 col10\" >75.90</td>\n",
       "    </tr>\n",
       "    <tr>\n",
       "      <th id=\"T_43e33_level0_row4\" class=\"row_heading level0 row4\" >5</th>\n",
       "      <td id=\"T_43e33_row4_col0\" class=\"data row4 col0\" >82.17</td>\n",
       "      <td id=\"T_43e33_row4_col1\" class=\"data row4 col1\" >95.45</td>\n",
       "      <td id=\"T_43e33_row4_col2\" class=\"data row4 col2\" >66.67</td>\n",
       "      <td id=\"T_43e33_row4_col3\" class=\"data row4 col3\" >71.69</td>\n",
       "      <td id=\"T_43e33_row4_col4\" class=\"data row4 col4\" >69.50</td>\n",
       "      <td id=\"T_43e33_row4_col5\" class=\"data row4 col5\" >65.62</td>\n",
       "      <td id=\"T_43e33_row4_col6\" class=\"data row4 col6\" >80.00</td>\n",
       "      <td id=\"T_43e33_row4_col7\" class=\"data row4 col7\" >82.99</td>\n",
       "      <td id=\"T_43e33_row4_col8\" class=\"data row4 col8\" >69.88</td>\n",
       "      <td id=\"T_43e33_row4_col9\" class=\"data row4 col9\" >78.53</td>\n",
       "      <td id=\"T_43e33_row4_col10\" class=\"data row4 col10\" >76.25</td>\n",
       "    </tr>\n",
       "    <tr>\n",
       "      <th id=\"T_43e33_level0_row5\" class=\"row_heading level0 row5\" >6</th>\n",
       "      <td id=\"T_43e33_row5_col0\" class=\"data row5 col0\" >81.89</td>\n",
       "      <td id=\"T_43e33_row5_col1\" class=\"data row5 col1\" >95.45</td>\n",
       "      <td id=\"T_43e33_row5_col2\" class=\"data row5 col2\" >67.17</td>\n",
       "      <td id=\"T_43e33_row5_col3\" class=\"data row5 col3\" >71.69</td>\n",
       "      <td id=\"T_43e33_row5_col4\" class=\"data row5 col4\" >69.50</td>\n",
       "      <td id=\"T_43e33_row5_col5\" class=\"data row5 col5\" >66.25</td>\n",
       "      <td id=\"T_43e33_row5_col6\" class=\"data row5 col6\" >79.41</td>\n",
       "      <td id=\"T_43e33_row5_col7\" class=\"data row5 col7\" >82.99</td>\n",
       "      <td id=\"T_43e33_row5_col8\" class=\"data row5 col8\" >69.28</td>\n",
       "      <td id=\"T_43e33_row5_col9\" class=\"data row5 col9\" >78.53</td>\n",
       "      <td id=\"T_43e33_row5_col10\" class=\"data row5 col10\" >76.22</td>\n",
       "    </tr>\n",
       "    <tr>\n",
       "      <th id=\"T_43e33_level0_row6\" class=\"row_heading level0 row6\" >7</th>\n",
       "      <td id=\"T_43e33_row6_col0\" class=\"data row6 col0\" >81.89</td>\n",
       "      <td id=\"T_43e33_row6_col1\" class=\"data row6 col1\" >95.45</td>\n",
       "      <td id=\"T_43e33_row6_col2\" class=\"data row6 col2\" >67.17</td>\n",
       "      <td id=\"T_43e33_row6_col3\" class=\"data row6 col3\" >71.69</td>\n",
       "      <td id=\"T_43e33_row6_col4\" class=\"data row6 col4\" >69.50</td>\n",
       "      <td id=\"T_43e33_row6_col5\" class=\"data row6 col5\" >66.25</td>\n",
       "      <td id=\"T_43e33_row6_col6\" class=\"data row6 col6\" >79.41</td>\n",
       "      <td id=\"T_43e33_row6_col7\" class=\"data row6 col7\" >82.99</td>\n",
       "      <td id=\"T_43e33_row6_col8\" class=\"data row6 col8\" >69.88</td>\n",
       "      <td id=\"T_43e33_row6_col9\" class=\"data row6 col9\" >77.97</td>\n",
       "      <td id=\"T_43e33_row6_col10\" class=\"data row6 col10\" >76.22</td>\n",
       "    </tr>\n",
       "    <tr>\n",
       "      <th id=\"T_43e33_level0_row7\" class=\"row_heading level0 row7\" >8</th>\n",
       "      <td id=\"T_43e33_row7_col0\" class=\"data row7 col0\" >81.89</td>\n",
       "      <td id=\"T_43e33_row7_col1\" class=\"data row7 col1\" >95.45</td>\n",
       "      <td id=\"T_43e33_row7_col2\" class=\"data row7 col2\" >67.17</td>\n",
       "      <td id=\"T_43e33_row7_col3\" class=\"data row7 col3\" >71.69</td>\n",
       "      <td id=\"T_43e33_row7_col4\" class=\"data row7 col4\" >69.50</td>\n",
       "      <td id=\"T_43e33_row7_col5\" class=\"data row7 col5\" >66.25</td>\n",
       "      <td id=\"T_43e33_row7_col6\" class=\"data row7 col6\" >79.41</td>\n",
       "      <td id=\"T_43e33_row7_col7\" class=\"data row7 col7\" >82.99</td>\n",
       "      <td id=\"T_43e33_row7_col8\" class=\"data row7 col8\" >69.88</td>\n",
       "      <td id=\"T_43e33_row7_col9\" class=\"data row7 col9\" >78.53</td>\n",
       "      <td id=\"T_43e33_row7_col10\" class=\"data row7 col10\" >76.28</td>\n",
       "    </tr>\n",
       "    <tr>\n",
       "      <th id=\"T_43e33_level0_row8\" class=\"row_heading level0 row8\" >9</th>\n",
       "      <td id=\"T_43e33_row8_col0\" class=\"data row8 col0\" >81.89</td>\n",
       "      <td id=\"T_43e33_row8_col1\" class=\"data row8 col1\" >95.45</td>\n",
       "      <td id=\"T_43e33_row8_col2\" class=\"data row8 col2\" >67.17</td>\n",
       "      <td id=\"T_43e33_row8_col3\" class=\"data row8 col3\" >71.69</td>\n",
       "      <td id=\"T_43e33_row8_col4\" class=\"data row8 col4\" >69.50</td>\n",
       "      <td id=\"T_43e33_row8_col5\" class=\"data row8 col5\" >66.25</td>\n",
       "      <td id=\"T_43e33_row8_col6\" class=\"data row8 col6\" >79.41</td>\n",
       "      <td id=\"T_43e33_row8_col7\" class=\"data row8 col7\" >82.99</td>\n",
       "      <td id=\"T_43e33_row8_col8\" class=\"data row8 col8\" >69.88</td>\n",
       "      <td id=\"T_43e33_row8_col9\" class=\"data row8 col9\" >78.53</td>\n",
       "      <td id=\"T_43e33_row8_col10\" class=\"data row8 col10\" >76.28</td>\n",
       "    </tr>\n",
       "  </tbody>\n",
       "</table>\n"
      ],
      "text/plain": [
       "<pandas.io.formats.style.Styler at 0x7f9d27bc15d0>"
      ]
     },
     "execution_count": 13,
     "metadata": {},
     "output_type": "execute_result"
    }
   ],
   "source": [
    "# format results to dataframe\n",
    "df = pd.DataFrame.from_dict(\n",
    "    {\n",
    "        'digit': [x[0] for x in results],\n",
    "        'base': [x[1] for x in results],\n",
    "        'accuracy': [x[2] for x in results],  \n",
    "    }\n",
    ")\n",
    "\n",
    "df = df.pivot(index='base', columns='digit', values='accuracy')\n",
    "df['average'] = df.mean(numeric_only=True, axis=1)\n",
    "df.style.highlight_max(color='lightgreen', axis=0).format(precision=2)"
   ]
  },
  {
   "cell_type": "code",
   "execution_count": 14,
   "id": "2cc5d934",
   "metadata": {},
   "outputs": [
    {
     "data": {
      "image/png": "[encoded data removed]",
      "text/plain": [
       "<Figure size 640x480 with 1 Axes>"
      ]
     },
     "metadata": {},
     "output_type": "display_data"
    }
   ],
   "source": [
    "# plot accuracy against base\n",
    "plt.plot(df)\n",
    "plt.ylabel('Accuracy')\n",
    "plt.xlabel('Base Vectors')\n",
    "plt.legend('0123456789', title='digits', ncol=5, loc='lower right');"
   ]
  },
  {
   "cell_type": "markdown",
   "id": "5ee2649f",
   "metadata": {},
   "source": [
    "Summarizing the above, we conclude that a different number of signular vectors is needed for each class to get classified optimally. \n",
    "\n",
    "**Digits 1** and **7** require the least amount of singular components **(3)** to achieve their best accuracy, while **digit 6** requires the most singular components **(6)** given our dataset.\n",
    "\n",
    "For exploratory purposes we will visualize a couple of images that were misclassified:"
   ]
  },
  {
   "cell_type": "code",
   "execution_count": 15,
   "id": "daccb4c9",
   "metadata": {},
   "outputs": [
    {
     "data": {
      "image/png": "[encoded data removed]",
      "text/plain": [
       "<Figure size 2000x400 with 20 Axes>"
      ]
     },
     "metadata": {},
     "output_type": "display_data"
    }
   ],
   "source": [
    "fig = plt.figure(figsize=(20, 4))\n",
    "fig.suptitle('Missclassified digits')\n",
    "\n",
    "miss_img = []\n",
    "miss = [x for x in final if x[2] != x[3]]\n",
    "for digit in range(10):\n",
    "    for i in range(2):\n",
    "        r = random.choice(miss)\n",
    "        while r[3] != digit:\n",
    "            r = random.choice(miss)\n",
    "        miss_img.append(r)\n",
    "    \n",
    "for i in range(1, 21):\n",
    "    ax = fig.add_subplot(2, 10, i)\n",
    "    ax.set_xticks([]) # remove x-ticks\n",
    "    ax.set_yticks([]) # remove y-ticks\n",
    "    display_image(x_test.iloc[miss_img[i-1][0]])"
   ]
  },
  {
   "cell_type": "markdown",
   "id": "21085a51",
   "metadata": {},
   "source": [
    "We can clearly see that most of the misclassified digits are indeed badly written. Most noticable examples are digits **2, 4, 7** and **8**."
   ]
  }
 ],
 "metadata": {
  "kernelspec": {
   "display_name": "Python 3 (ipykernel)",
   "language": "python",
   "name": "python3"
  },
  "language_info": {
   "codemirror_mode": {
    "name": "ipython",
    "version": 3
   },
   "file_extension": ".py",
   "mimetype": "text/x-python",
   "name": "python",
   "nbconvert_exporter": "python",
   "pygments_lexer": "ipython3",
   "version": "3.10.6"
  }
 },
 "nbformat": 4,
 "nbformat_minor": 5
}
