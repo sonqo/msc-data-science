{
 "cells": [
  {
   "cell_type": "markdown",
   "metadata": {},
   "source": [
    "# Pagerank Assignment\n",
    "---\n",
    "\n",
    "The goal of this exercise is to experiment on the Pagerank problem by utilizing the power method."
   ]
  },
  {
   "cell_type": "code",
   "execution_count": 1,
   "metadata": {},
   "outputs": [],
   "source": [
    "import warnings\n",
    "import numpy as np\n",
    "import pandas as pd\n",
    "import seaborn as sns\n",
    "from scipy import sparse\n",
    "import matplotlib.pyplot as plt\n",
    "from scipy.sparse import SparseEfficiencyWarning\n",
    "\n",
    "warnings.simplefilter('ignore', SparseEfficiencyWarning)"
   ]
  },
  {
   "cell_type": "markdown",
   "metadata": {},
   "source": [
    "## Data Preprocessing\n",
    "---\n",
    "\n",
    "We will start by creating the transition matrix of our problem. Its shape would be square and its dimensions are directly connected to the number of unique nodes. Given the large number of nodes, we will store the transition matrix in a sparse format:"
   ]
  },
  {
   "cell_type": "code",
   "execution_count": 2,
   "metadata": {},
   "outputs": [
    {
     "data": {
      "text/plain": [
       "(281903, 281903)"
      ]
     },
     "execution_count": 2,
     "metadata": {},
     "output_type": "execute_result"
    }
   ],
   "source": [
    "# load data\n",
    "df = pd.read_csv('stanweb.dat', sep='\\s+', names=['source', 'dest', 'value'])\n",
    "\n",
    "# creation of transition matrix\n",
    "data = np.array(df) # convert to numpy array\n",
    "n = np.max(df['source']) # calculate dimensions of transition matrix\n",
    "P_trans = sparse.csr_matrix((data[:, 2], (data[:, 0]-1, data[:, 1]-1)), shape = (n, n))\n",
    "P_trans.shape"
   ]
  },
  {
   "cell_type": "markdown",
   "metadata": {},
   "source": [
    "## 1a. Power Method with a=0.85\n",
    "---"
   ]
  },
  {
   "cell_type": "code",
   "execution_count": 3,
   "metadata": {},
   "outputs": [
    {
     "name": "stdout",
     "output_type": "stream",
     "text": [
      "Number of iterations: 96\n",
      "Nodes with the 10 largest eignevalues: 89072 226410 241453 262859 134831 234703 136820 68888 105606 "
     ]
    }
   ],
   "source": [
    "alpha = 0.85\n",
    "\n",
    "it = 1\n",
    "tol = 1e-8\n",
    "error = 42\n",
    "\n",
    "v = sparse.csr_matrix(np.ones(shape = (n, 1)) / n)\n",
    "x_0 = sparse.csr_matrix(np.ones(shape = (n, 1)) / n)\n",
    "a = np.asarray((np.sum(P_trans, axis = 1)[:, 0] == 0))\n",
    "\n",
    "while error > tol:\n",
    "\n",
    "    x = (alpha * x_0.T).dot(P_trans) + ((alpha * x_0.T).dot(a) + (1 - alpha))[0, 0] * v.T\n",
    "    \n",
    "    error = np.linalg.norm((x.T - x_0).toarray()) / np.linalg.norm(x.T.toarray())\n",
    "    \n",
    "    x_0 = x.T.copy()\n",
    "    \n",
    "    it += 1\n",
    "    \n",
    "print('Number of iterations: {}'.format(it))\n",
    "print('Nodes with the 10 largest eignevalues:', end=\" \")\n",
    "for i in range(1, 10):\n",
    "    print(np.argsort(-x.toarray())[0][i-1], end=\" \")"
   ]
  },
  {
   "cell_type": "markdown",
   "metadata": {},
   "source": [
    "We notice how the power method for `alpha=0.85` lasted **96** iterations."
   ]
  },
  {
   "cell_type": "code",
   "execution_count": 4,
   "metadata": {},
   "outputs": [],
   "source": [
    "# accumulator initialization for question 1c\n",
    "acc = {}\n",
    "for i in range(1, 11):\n",
    "    acc[-i] = np.argsort(-x.toarray())[0][-i]\n",
    "    acc[i-1] = np.argsort(-x.toarray())[0][i-1]"
   ]
  },
  {
   "cell_type": "markdown",
   "metadata": {},
   "source": [
    "## 1b. Power Method with a=0.99\n",
    "---"
   ]
  },
  {
   "cell_type": "code",
   "execution_count": 5,
   "metadata": {},
   "outputs": [
    {
     "name": "stdout",
     "output_type": "stream",
     "text": [
      "Number of iterations: 1513\n",
      "Nodes with the 10 largest eignevalues: 89072 281771 174664 226410 179644 271408 262859 136820 68888 77987 "
     ]
    }
   ],
   "source": [
    "alpha = 0.99\n",
    "\n",
    "it = 1\n",
    "tol = 1e-8\n",
    "error = 42\n",
    "\n",
    "v = sparse.csr_matrix(np.ones(shape = (n, 1)) / n)\n",
    "x_0 = sparse.csr_matrix(np.ones(shape = (n, 1)) / n)\n",
    "a = np.asarray((np.sum(P_trans, axis = 1)[:, 0] == 0))\n",
    "\n",
    "while error > tol:\n",
    "\n",
    "    x = (alpha * x_0.T).dot(P_trans) + ((alpha * x_0.T).dot(a) + (1 - alpha))[0, 0] * v.T\n",
    "    \n",
    "    error = np.linalg.norm((x.T - x_0).toarray()) / np.linalg.norm(x.T.toarray())\n",
    "    \n",
    "    x_0 = x.T.copy()\n",
    "    \n",
    "    it += 1\n",
    "    \n",
    "print('Number of iterations: {}'.format(it))\n",
    "print('Nodes with the 10 largest eignevalues:', end=\" \")\n",
    "for i in range(10):\n",
    "    print(np.argsort(-x.toarray())[0][i], end=\" \")"
   ]
  },
  {
   "cell_type": "markdown",
   "metadata": {},
   "source": [
    "We notice how for `alpha=0.99` the power method lasted **1513** iterations, nearly 15 times as much than the previous section. It is also worth noting, that even though the node that corresponds to the larger eigenvalue remains the same for the different alphas, the rest are not 100% the same. Reason suggests, that the larger number of iterations enabled a solution of a more stable state that the one of the previous section."
   ]
  },
  {
   "cell_type": "markdown",
   "metadata": {},
   "source": [
    "## 1c. Speed of covergence for more / less important eigenvalues\n",
    "---"
   ]
  },
  {
   "cell_type": "markdown",
   "metadata": {},
   "source": [
    "At this section we will experiment on how fast components of difference importance converge. We will set our to `alpha=0.85`:"
   ]
  },
  {
   "cell_type": "code",
   "execution_count": 6,
   "metadata": {},
   "outputs": [],
   "source": [
    "alpha = 0.85\n",
    "\n",
    "it = 1\n",
    "tol = 1e-8\n",
    "error = 42\n",
    "\n",
    "sonqo = [[] for i in range(20)]\n",
    "\n",
    "v = sparse.csr_matrix(np.ones(shape = (n, 1)) / n)\n",
    "x_0 = sparse.csr_matrix(np.ones(shape = (n, 1)) / n)\n",
    "a = np.asarray((np.sum(P_trans, axis = 1)[:, 0] == 0))\n",
    "\n",
    "while error > tol:\n",
    "\n",
    "    x = (alpha * x_0.T).dot(P_trans) + ((alpha * x_0.T).dot(a) + (1 - alpha))[0, 0] * v.T\n",
    "    \n",
    "    error = np.linalg.norm((x.T - x_0).toarray()) / np.linalg.norm(x.T.toarray())\n",
    "    \n",
    "    x_0 = x.T.copy()\n",
    "    \n",
    "    it += 1\n",
    "    \n",
    "    for i in range(1, 11):\n",
    "        if np.argsort(-x.toarray())[0][-i] == acc[-i]:\n",
    "            sonqo[-i].append(1)\n",
    "        else:\n",
    "            sonqo[-i].append(0)\n",
    "        if np.argsort(-x.toarray())[0][i-1] == acc[i-1]:\n",
    "            sonqo[i-1].append(1)\n",
    "        else:\n",
    "            sonqo[i-1].append(0)"
   ]
  },
  {
   "cell_type": "markdown",
   "metadata": {},
   "source": [
    "Visualizing the results we get:"
   ]
  },
  {
   "cell_type": "code",
   "execution_count": 7,
   "metadata": {},
   "outputs": [
    {
     "data": {
      "image/png": "[encoded data removed]",
      "text/plain": [
       "<Figure size 1200x800 with 20 Axes>"
      ]
     },
     "metadata": {},
     "output_type": "display_data"
    }
   ],
   "source": [
    "fig, axes = plt.subplots(10, 2, figsize=(12, 8))\n",
    "fig.suptitle('Convergence speed for larger and smaller eignevalues')\n",
    "\n",
    "# plotting top-10 eigenvalues\n",
    "eig = 0\n",
    "for i in range(10):\n",
    "    sns.lineplot(x=[j for j in range(95)], y=sonqo[eig], ax=axes[i, 0])\n",
    "    axes[i, 0].set_yticks([0, 1])\n",
    "    axes[i, 0].set_xticks([])\n",
    "    eig += 1\n",
    "    \n",
    "# plotting bottom-10 eigenvalues\n",
    "eig = -1\n",
    "for i in range(10):\n",
    "    sns.lineplot(x=[j for j in range(95)], y=sonqo[eig], ax=axes[i, 1])\n",
    "    axes[i, 1].set_yticks([0, 1])\n",
    "    axes[i, 1].set_xticks([])\n",
    "    eig -= 1\n",
    "    \n",
    "axes[0, 0].set_title('largest eigenvalues', fontsize=10)\n",
    "axes[0, 1].set_title('smallest eigenvalues', fontsize=10)\n",
    "\n",
    "axes[9, 0].set_xticks([0, 10, 20, 30, 40, 50, 60, 70, 80, 90])\n",
    "axes[9, 1].set_xticks([0, 10, 20, 30, 40, 50, 60, 70, 80, 90])\n",
    "\n",
    "plt.show()"
   ]
  },
  {
   "cell_type": "markdown",
   "metadata": {},
   "source": [
    "We notice how the eigenvalues that correspond to the most important nodes tend to converge faster than the less important ones. However, it is worth noting that the smallest eigenvalue converged from the first iteration, possibly indicating very few, if any, connections on the transition matrix."
   ]
  },
  {
   "cell_type": "markdown",
   "metadata": {},
   "source": [
    "## 2a. Creation of page X\n",
    "---\n",
    "\n",
    "We will create a new page `X` with not in- or out-links and see how it ranks into our dataset:"
   ]
  },
  {
   "cell_type": "code",
   "execution_count": 8,
   "metadata": {},
   "outputs": [
    {
     "data": {
      "text/plain": [
       "(281904, 281904)"
      ]
     },
     "execution_count": 8,
     "metadata": {},
     "output_type": "execute_result"
    }
   ],
   "source": [
    "# initialize page X and alter transition matrix\n",
    "X = np.array([np.max(data[:, 0])+1, np.max(data[:, 0])+1, 1]) # X links to itself\n",
    "data_X = np.vstack((data, X)) # combine with previous\n",
    "P_trans_X = sparse.csr_matrix((data_X[:, 2], (data_X[:, 0]-1, data_X[:, 1]-1)), shape = (n+1, n+1))\n",
    "P_trans_X.shape"
   ]
  },
  {
   "cell_type": "code",
   "execution_count": 9,
   "metadata": {},
   "outputs": [
    {
     "name": "stdout",
     "output_type": "stream",
     "text": [
      "Number of iterations: 96\n",
      "Nodes with the 10 largest eignevalues: 89072 226410 241453 262859 134831 234703 136820 68888 105606 "
     ]
    }
   ],
   "source": [
    "alpha = 0.85\n",
    "\n",
    "it = 1\n",
    "tol = 1e-8\n",
    "error = 42\n",
    "\n",
    "v = sparse.csr_matrix(np.ones(shape = (n+1, 1)) / (n+1))\n",
    "x_0 = sparse.csr_matrix(np.ones(shape = (n+1, 1)) / (n+1))\n",
    "a = np.asarray((np.sum(P_trans_X, axis = 1)[:, 0] == 0))\n",
    "\n",
    "while error > tol:\n",
    "\n",
    "    x = (alpha * x_0.T).dot(P_trans_X) + ((alpha * x_0.T).dot(a) + (1 - alpha))[0, 0] * v.T\n",
    "    \n",
    "    error = np.linalg.norm((x.T - x_0).toarray()) / np.linalg.norm(x.T.toarray())\n",
    "    \n",
    "    x_0 = x.T.copy()\n",
    "    \n",
    "    it += 1\n",
    "    \n",
    "print('Number of iterations: {}'.format(it))\n",
    "print('Nodes with the 10 largest eignevalues:', end=\" \")\n",
    "for i in range(1, 10):\n",
    "    print(np.argsort(-x.toarray())[0][i-1], end=\" \")"
   ]
  },
  {
   "cell_type": "code",
   "execution_count": 10,
   "metadata": {},
   "outputs": [
    {
     "name": "stdout",
     "output_type": "stream",
     "text": [
      "Rank of added page: 48383\n"
     ]
    }
   ],
   "source": [
    "print('Rank of added page: {}'.format(np.argsort(-x.toarray()).tolist()[0].index(281903)))"
   ]
  },
  {
   "cell_type": "markdown",
   "metadata": {},
   "source": [
    "## 2b. Creation of page Y\n",
    "---\n",
    "\n",
    "Aiming to improve the ranking of our page `X` we add another page `Y` only linking to `X`:"
   ]
  },
  {
   "cell_type": "code",
   "execution_count": 11,
   "metadata": {},
   "outputs": [
    {
     "data": {
      "text/plain": [
       "(281905, 281905)"
      ]
     },
     "execution_count": 11,
     "metadata": {},
     "output_type": "execute_result"
    }
   ],
   "source": [
    "# initialize page Y and alter transition matrix\n",
    "Y = np.array([np.max(data_X[:, 0])+1, np.max(data_X[:, 0]), 1]) # Y links to X\n",
    "data_Y = np.vstack((data_X, Y)) # combine with previous\n",
    "P_trans_Y = sparse.csr_matrix((data_Y[:, 2], (data_Y[:, 0]-1, data_Y[:, 1]-1)), shape = (n+2, n+2))\n",
    "P_trans_Y.shape"
   ]
  },
  {
   "cell_type": "code",
   "execution_count": 12,
   "metadata": {},
   "outputs": [
    {
     "name": "stdout",
     "output_type": "stream",
     "text": [
      "Number of iterations: 96\n",
      "Nodes with the 10 largest eignevalues: 89072 226410 241453 262859 134831 234703 136820 68888 105606 "
     ]
    }
   ],
   "source": [
    "alpha = 0.85\n",
    "\n",
    "it = 1\n",
    "tol = 1e-8\n",
    "error = 42\n",
    "\n",
    "v = sparse.csr_matrix(np.ones(shape = (n+2, 1)) / (n+2))\n",
    "x_0 = sparse.csr_matrix(np.ones(shape = (n+2, 1)) / (n+2))\n",
    "a = np.asarray((np.sum(P_trans_Y, axis = 1)[:, 0] == 0))\n",
    "\n",
    "while error > tol:\n",
    "\n",
    "    x = (alpha * x_0.T).dot(P_trans_Y) + ((alpha * x_0.T).dot(a) + (1 - alpha))[0, 0] * v.T\n",
    "    \n",
    "    error = np.linalg.norm((x.T - x_0).toarray()) / np.linalg.norm(x.T.toarray())\n",
    "    \n",
    "    x_0 = x.T.copy()\n",
    "    \n",
    "    it += 1\n",
    "    \n",
    "print('Number of iterations: {}'.format(it))\n",
    "print('Nodes with the 10 largest eignevalues:', end=\" \")\n",
    "for i in range(1, 10):\n",
    "    print(np.argsort(-x.toarray())[0][i-1], end=\" \")"
   ]
  },
  {
   "cell_type": "code",
   "execution_count": 13,
   "metadata": {},
   "outputs": [
    {
     "name": "stdout",
     "output_type": "stream",
     "text": [
      "Rank of added page: 16180\n"
     ]
    }
   ],
   "source": [
    "print('Rank of added page: {}'.format(np.argsort(-x.toarray()).tolist()[0].index(281903)))"
   ]
  },
  {
   "cell_type": "markdown",
   "metadata": {},
   "source": [
    "We can see that the ranking of our page significantly improves.\n",
    "\n",
    "## 2c. Creation of page Z\n",
    "---\n",
    "\n",
    "In order to further improve our ranking, we will add a third page `Z` which will also link to `X`:"
   ]
  },
  {
   "cell_type": "code",
   "execution_count": 15,
   "metadata": {},
   "outputs": [
    {
     "data": {
      "text/plain": [
       "(281906, 281906)"
      ]
     },
     "execution_count": 15,
     "metadata": {},
     "output_type": "execute_result"
    }
   ],
   "source": [
    "# initialize page Z and alter transition matrix\n",
    "Z = np.array([np.max(data_Y[:, 0])+1, np.max(data_Y[:, 0])-1, 1]) # Z links to X\n",
    "data_Z = np.vstack((data_Y, Z))\n",
    "P_trans_Z = sparse.csr_matrix((data_Z[:, 2], (data_Z[:, 0]-1, data_Z[:, 1]-1)), shape = (n+3, n+3))\n",
    "P_trans_Z.shape"
   ]
  },
  {
   "cell_type": "code",
   "execution_count": 16,
   "metadata": {},
   "outputs": [
    {
     "name": "stdout",
     "output_type": "stream",
     "text": [
      "Number of iterations: 96\n",
      "Nodes with the 10 largest eignevalues: 89072 226410 241453 262859 134831 234703 136820 68888 105606 "
     ]
    }
   ],
   "source": [
    "alpha = 0.85\n",
    "\n",
    "it = 1\n",
    "tol = 1e-8\n",
    "error = 42\n",
    "\n",
    "v = sparse.csr_matrix(np.ones(shape = (n+3, 1)) / (n+3))\n",
    "x_0 = sparse.csr_matrix(np.ones(shape = (n+3, 1)) / (n+3))\n",
    "a = np.asarray((np.sum(P_trans_Z, axis = 1)[:, 0] == 0))\n",
    "\n",
    "while error > tol:\n",
    "\n",
    "    x = (alpha * x_0.T).dot(P_trans_Z) + ((alpha * x_0.T).dot(a) + (1 - alpha))[0, 0] * v.T\n",
    "    \n",
    "    error = np.linalg.norm((x.T - x_0).toarray()) / np.linalg.norm(x.T.toarray())\n",
    "    \n",
    "    x_0 = x.T.copy()\n",
    "    \n",
    "    it += 1\n",
    "    \n",
    "print('Number of iterations: {}'.format(it))\n",
    "print('Nodes with the 10 largest eignevalues:', end=\" \")\n",
    "for i in range(1, 10):\n",
    "    print(np.argsort(-x.toarray())[0][i-1], end=\" \")"
   ]
  },
  {
   "cell_type": "code",
   "execution_count": 17,
   "metadata": {},
   "outputs": [
    {
     "name": "stdout",
     "output_type": "stream",
     "text": [
      "Rank of added page: 11114\n"
     ]
    }
   ],
   "source": [
    "print('Rank of added page: {}'.format(np.argsort(-x.toarray()).tolist()[0].index(281903)))"
   ]
  },
  {
   "cell_type": "markdown",
   "metadata": {},
   "source": [
    "We can see that the ranking of our page, again, significantly improves. It is worth mentioning that we also tried linking `Z` to both `X` and `Y` with varying propabilities, but the approach followed above maximized the ranking for our page.\n",
    "\n",
    "## 2d. Creation of page W\n",
    "---\n",
    "\n",
    "We will now alter our page `X` and switch its internal linking to the top-5 popular pages:"
   ]
  },
  {
   "cell_type": "code",
   "execution_count": 18,
   "metadata": {},
   "outputs": [
    {
     "data": {
      "text/plain": [
       "(281906, 281906)"
      ]
     },
     "execution_count": 18,
     "metadata": {},
     "output_type": "execute_result"
    }
   ],
   "source": [
    "# our page X correspond to node 281903!\n",
    "P_trans_Z[281903, 281903] = 0\n",
    "for page in [89072, 226410, 241453, 262859, 134831]:\n",
    "    P_trans_Z[281903, page-1] = 0.20\n",
    "P_trans_Z.shape"
   ]
  },
  {
   "cell_type": "code",
   "execution_count": 19,
   "metadata": {},
   "outputs": [
    {
     "name": "stdout",
     "output_type": "stream",
     "text": [
      "Number of iterations: 96\n",
      "Nodes with the 10 largest eignevalues: 89072 226410 241453 262859 134831 234703 136820 68888 105606 "
     ]
    }
   ],
   "source": [
    "alpha = 0.85\n",
    "\n",
    "it = 1\n",
    "tol = 1e-8\n",
    "error = 42\n",
    "\n",
    "v = sparse.csr_matrix(np.ones(shape = (n+3, 1)) / (n+3))\n",
    "x_0 = sparse.csr_matrix(np.ones(shape = (n+3, 1)) / (n+3))\n",
    "a = np.asarray((np.sum(P_trans_Z, axis = 1)[:, 0] == 0))\n",
    "\n",
    "while error > tol:\n",
    "\n",
    "    x = (alpha * x_0.T).dot(P_trans_Z) + ((alpha * x_0.T).dot(a) + (1 - alpha))[0, 0] * v.T\n",
    "    \n",
    "    error = np.linalg.norm((x.T - x_0).toarray()) / np.linalg.norm(x.T.toarray())\n",
    "    \n",
    "    x_0 = x.T.copy()\n",
    "    \n",
    "    it += 1\n",
    "    \n",
    "print('Number of iterations: {}'.format(it))\n",
    "print('Nodes with the 10 largest eignevalues:', end=\" \")\n",
    "for i in range(1, 10):\n",
    "    print(np.argsort(-x.toarray())[0][i-1], end=\" \")"
   ]
  },
  {
   "cell_type": "code",
   "execution_count": 20,
   "metadata": {},
   "outputs": [
    {
     "name": "stdout",
     "output_type": "stream",
     "text": [
      "Rank of added page: 109087\n"
     ]
    }
   ],
   "source": [
    "print('Rank of added page: {}'.format(np.argsort(-x.toarray()).tolist()[0].index(281903)))"
   ]
  },
  {
   "cell_type": "markdown",
   "metadata": {},
   "source": [
    "We can see how adding links from our page to the most important pages of our dataset worsened our ranking.\n",
    "\n",
    "## 2e. Further improving our rank\n",
    "---\n",
    "\n",
    "Summarizing our findings we conclude that:\n",
    "\n",
    "- adding more links to our page improves its ranking \n",
    "- creating external links from it to any other page, regardless of their importance, drops its ranking\n",
    "\n",
    "Taking the above due consideration, the best way to improve the ranking of our page would be to add external links from the most important pages to our page `X`. Should we do this consistently to the descending ranking list, we can force our page to reach the top places."
   ]
  }
 ],
 "metadata": {
  "kernelspec": {
   "display_name": "Python 3 (ipykernel)",
   "language": "python",
   "name": "python3"
  },
  "language_info": {
   "codemirror_mode": {
    "name": "ipython",
    "version": 3
   },
   "file_extension": ".py",
   "mimetype": "text/x-python",
   "name": "python",
   "nbconvert_exporter": "python",
   "pygments_lexer": "ipython3",
   "version": "3.10.6"
  }
 },
 "nbformat": 4,
 "nbformat_minor": 4
}
