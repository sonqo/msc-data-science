{
 "cells": [
  {
   "cell_type": "code",
   "execution_count": 24,
   "id": "451e7313",
   "metadata": {},
   "outputs": [],
   "source": [
    "import os\n",
    "import pandas as pd"
   ]
  },
  {
   "cell_type": "code",
   "execution_count": 25,
   "id": "ffc074a6",
   "metadata": {},
   "outputs": [],
   "source": [
    "columns = {\n",
    "    'task_a': 'A',\n",
    "    'task_b': 'B',\n",
    "    'task a': 'A',\n",
    "    'task b': 'B',\n",
    "    'task_A': 'A',\n",
    "    'task_B': 'B',\n",
    "    'Task A': 'A',\n",
    "    'Task B': 'B',\n",
    "    'taskA': 'A',\n",
    "    'taskB': 'B',\n",
    "    'Tasks A': 'A',\n",
    "    'Tasks B': 'B',\n",
    "    'task A': 'A',\n",
    "    'task B': 'B',\n",
    "    'Sexist_Comment': 'A',\n",
    "    'Category': 'B',\n",
    "    'Source': 'source',\n",
    "    'label sexist': 'A',\n",
    "    'label category': 'B'\n",
    "}\n",
    "\n",
    "source = {\n",
    "    'GAB': 'gab',\n",
    "    'Reddit': 'reddit',\n",
    "    'From reddit': 'reddit',\n",
    "    'From gab': 'gab'\n",
    "}\n",
    "\n",
    "A = {\n",
    "    'F': 0,\n",
    "    'T': 1,\n",
    "    'non sexist': 0,\n",
    "    'sexist': 1,\n",
    "    'not sexist': 0\n",
    "}\n",
    "\n",
    "B = {\n",
    "    'animosity': 3,\n",
    "    'A': 3,\n",
    "    'PD': 4,\n",
    "    'D': 2,\n",
    "    'T': 1,\n",
    "    'prejudiced': 4,\n",
    "    'N': 0,\n",
    "    '2.derogation': 2,\n",
    "    '3.animosity': 3,\n",
    "    '1. Threats, plans to harm and incitement ': 1,\n",
    "    '1.threats.plans to harm and incitement': 1,\n",
    "    '4.Prejudiced Discussion': 4,\n",
    "    'derogation': 2,\n",
    "    'animocity': 3,\n",
    "    'threats': 1,\n",
    "    'prejudiced discussion': 4,\n",
    "    'none': 0,\n",
    "    '1. Threats, plans to harm and incitement': 1\n",
    "}\n",
    "\n",
    "B_ = {\n",
    "    'A': 1,\n",
    "    'B': 2,\n",
    "    'C': 3,\n",
    "    'D': 4,\n",
    "    ' ': 0\n",
    "}"
   ]
  },
  {
   "cell_type": "code",
   "execution_count": null,
   "id": "d11e1cfa",
   "metadata": {
    "pycharm": {
     "is_executing": true
    }
   },
   "outputs": [],
   "source": [
    "acc = {} # accumulator\n",
    "data_dir = \".data/annotations/\"\n",
    "all_files = os.listdir(data_dir) \n",
    "for file in all_files:\n",
    "    df = pd.read_excel(data_dir + file)\n",
    "    df = df.rename(columns=columns)\n",
    "    df = df[['text', 'source', 'A', 'B']]\n",
    "    key_ = file.split('.')[0]\n",
    "    if key_[0] == 'F':\n",
    "        key_ = key_.replace('F', 'f')\n",
    "    elif key_[0] != 'f':\n",
    "        key_ = 'f'+ key_\n",
    "    acc[key_] = df"
   ]
  },
  {
   "cell_type": "code",
   "execution_count": 27,
   "id": "92280c2a",
   "metadata": {},
   "outputs": [],
   "source": [
    "for key, value in acc.items():\n",
    "    curr = value\n",
    "    curr['source'] = curr['source'].replace(source)\n",
    "    curr['A'] = curr['A'].replace(A)\n",
    "    if key != 'f3352210':\n",
    "        curr['B'] = curr['B'].replace(B)\n",
    "    else:\n",
    "        curr['B'] = curr['B'].replace(B_)\n",
    "    acc[key] = curr"
   ]
  },
  {
   "cell_type": "code",
   "execution_count": 28,
   "id": "a74e675c",
   "metadata": {},
   "outputs": [],
   "source": [
    "df = pd.DataFrame()\n",
    "for key, value in acc.items():\n",
    "    df = pd.concat([df, value])"
   ]
  },
  {
   "cell_type": "code",
   "execution_count": 29,
   "id": "96c9efa1",
   "metadata": {},
   "outputs": [
    {
     "data": {
      "text/plain": [
       "external    735\n",
       "gab         395\n",
       "reddit      355\n",
       "Name: source, dtype: int64"
      ]
     },
     "execution_count": 29,
     "metadata": {},
     "output_type": "execute_result"
    }
   ],
   "source": [
    "df['source'].value_counts()"
   ]
  },
  {
   "cell_type": "code",
   "execution_count": 30,
   "id": "234cd898",
   "metadata": {},
   "outputs": [
    {
     "data": {
      "text/plain": [
       "0.0    892\n",
       "1.0    515\n",
       "Name: A, dtype: int64"
      ]
     },
     "execution_count": 30,
     "metadata": {},
     "output_type": "execute_result"
    }
   ],
   "source": [
    "df['A'].value_counts()"
   ]
  },
  {
   "cell_type": "code",
   "execution_count": 31,
   "id": "958561c2",
   "metadata": {},
   "outputs": [
    {
     "data": {
      "text/plain": [
       "0.0    404\n",
       "3.0    230\n",
       "2.0    158\n",
       "4.0     71\n",
       "1.0     56\n",
       "Name: B, dtype: int64"
      ]
     },
     "execution_count": 31,
     "metadata": {},
     "output_type": "execute_result"
    }
   ],
   "source": [
    "df['B'].value_counts()"
   ]
  },
  {
   "cell_type": "code",
   "execution_count": 32,
   "id": "8d83e07b",
   "metadata": {},
   "outputs": [],
   "source": [
    "for key, value in acc.items():\n",
    "    value.to_excel('./submissions/{}.xlsx'.format(key))"
   ]
  }
 ],
 "metadata": {
  "kernelspec": {
   "display_name": "Python 3 (ipykernel)",
   "language": "python",
   "name": "python3"
  },
  "language_info": {
   "codemirror_mode": {
    "name": "ipython",
    "version": 3
   },
   "file_extension": ".py",
   "mimetype": "text/x-python",
   "name": "python",
   "nbconvert_exporter": "python",
   "pygments_lexer": "ipython3",
   "version": "3.8.13"
  }
 },
 "nbformat": 4,
 "nbformat_minor": 5
}
