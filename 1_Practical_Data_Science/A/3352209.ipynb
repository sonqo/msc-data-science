{
 "cells": [
  {
   "cell_type": "code",
   "execution_count": 1,
   "id": "30908565",
   "metadata": {},
   "outputs": [],
   "source": [
    "import os\n",
    "import pandas as pd\n",
    "import matplotlib.pyplot as plt\n",
    "from sklearn.metrics import cohen_kappa_score as kappa"
   ]
  },
  {
   "cell_type": "markdown",
   "id": "96fc2bb9",
   "metadata": {},
   "source": [
    "## A. Data Processing\n",
    "---"
   ]
  },
  {
   "cell_type": "markdown",
   "id": "0bcc87f0",
   "metadata": {},
   "source": [
    "### 1.\n",
    "As a first step we will download the dataset of EDOS. Since this exercise wasn't conducted in Google Colab, the dataset has been downloaded and stored under the ```data/``` folder in the project's directory."
   ]
  },
  {
   "cell_type": "code",
   "execution_count": 2,
   "id": "6b508b33",
   "metadata": {},
   "outputs": [],
   "source": [
    "# Read .csv files\n",
    "gab = pd.read_csv('data/gab_1M_unlabelled.csv')\n",
    "reddit = pd.read_csv('data/reddit_1M_unlabelled.csv')\n",
    "\n",
    "curr = gab['text'].str.len() # series data-structure of text length\n",
    "min_gab, max_gab, avg_gab = curr.min(), curr.max(), curr.mean() # compute min, max, mean of series\n",
    "\n",
    "curr = reddit['text'].str.len()\n",
    "min_reddit, max_reddit, avg_reddit = curr.min(), curr.max(), curr.mean()"
   ]
  },
  {
   "cell_type": "code",
   "execution_count": 3,
   "id": "afb59811",
   "metadata": {},
   "outputs": [
    {
     "data": {
      "text/plain": "(1, 250, 93.44149)"
     },
     "execution_count": 3,
     "metadata": {},
     "output_type": "execute_result"
    }
   ],
   "source": [
    "min_gab, max_gab, avg_gab"
   ]
  },
  {
   "cell_type": "code",
   "execution_count": 4,
   "id": "ba71a22e",
   "metadata": {},
   "outputs": [
    {
     "data": {
      "text/plain": "(1, 250, 95.663112)"
     },
     "execution_count": 4,
     "metadata": {},
     "output_type": "execute_result"
    }
   ],
   "source": [
    "min_reddit, max_reddit, avg_reddit"
   ]
  },
  {
   "cell_type": "markdown",
   "id": "20f73028",
   "metadata": {},
   "source": [
    "We notice that the minimum and maximum lengths of characters for the two datasets are the same and equal to 0 and 250, respectively. The average character count is roughly the same, with reddit averaging 93.4 characters per comment and gab 95.6 characters."
   ]
  },
  {
   "cell_type": "markdown",
   "source": [
    "### 2."
   ],
   "metadata": {
    "collapsed": false
   }
  },
  {
   "cell_type": "code",
   "execution_count": 5,
   "id": "a5e97c4d",
   "metadata": {},
   "outputs": [],
   "source": [
    "# Add source columns\n",
    "gab['source'] = 'gab'\n",
    "reddit['source'] = 'reddit'\n",
    "\n",
    "# Combine the two dataframes into one\n",
    "unlabeled = pd.concat([gab, reddit])"
   ]
  },
  {
   "cell_type": "code",
   "execution_count": 6,
   "id": "b7af778e",
   "metadata": {},
   "outputs": [],
   "source": [
    "# Sample\n",
    "my_sample = unlabeled.sample(n=50, random_state=42)\n",
    "\n",
    "curr = my_sample['text'].str.len() # series data-structure of text length\n",
    "min_sample, max_sample, avg_sample = curr.min(), curr.max(), curr.mean() # compute min, max, mean of series"
   ]
  },
  {
   "cell_type": "code",
   "execution_count": 7,
   "id": "530eb6aa",
   "metadata": {},
   "outputs": [
    {
     "data": {
      "text/plain": "(4, 240, 93.82)"
     },
     "execution_count": 7,
     "metadata": {},
     "output_type": "execute_result"
    }
   ],
   "source": [
    "min_sample, max_sample, avg_sample"
   ]
  },
  {
   "cell_type": "markdown",
   "id": "2932904a",
   "metadata": {},
   "source": [
    "The minimum character length of our sample is 4, while the maximum 240. The average comment length is 93.8 characters."
   ]
  },
  {
   "cell_type": "markdown",
   "source": [
    "### 3."
   ],
   "metadata": {
    "collapsed": false
   }
  },
  {
   "cell_type": "code",
   "execution_count": 8,
   "id": "5b7d3a25",
   "metadata": {},
   "outputs": [
    {
     "data": {
      "text/plain": "<Figure size 640x480 with 1 Axes>",
      "image/png": "[encoded data removed]"
     },
     "metadata": {},
     "output_type": "display_data"
    }
   ],
   "source": [
    "# Plotting sample\n",
    "colors = ['tab:blue', 'tab:orange', 'tab:green', 'tab:red', 'tab:purple'] # global color list\n",
    "\n",
    "plot = my_sample['source'].value_counts().sort_index().plot(kind='bar', rot=0, color=colors) # sort index is necessary for the data labels\n",
    "\n",
    "i = 0 # data label counter\n",
    "# https://bit.ly/3DteCBO | place value annotations at the center of the bars\n",
    "for rect in plot.patches:\n",
    "    x_value = rect.get_x() + rect.get_width() / 2\n",
    "    y_value = rect.get_height() - 5\n",
    "    plt.annotate(my_sample['source'].value_counts()[i], xy = (x_value, y_value), ha='center', fontsize=12, color='white')\n",
    "    i += 1"
   ]
  },
  {
   "cell_type": "markdown",
   "id": "329a3569",
   "metadata": {},
   "source": [
    "Our sample happens to be perfectly balanced with 25 entries sourcing from gab and 25 entries sourcing from reddit."
   ]
  },
  {
   "cell_type": "markdown",
   "id": "b2e9cdd7",
   "metadata": {},
   "source": [
    "## B. Data Annotation\n",
    "---"
   ]
  },
  {
   "cell_type": "markdown",
   "id": "169dd900",
   "metadata": {},
   "source": [
    "### 1.\n",
    "As a next step, we will load the ```PDS2022A1_unlabelled_by_KK.csv```, label it as an external data source and merge it with our sample. Once again, the external file was stored under the ```data/input/``` folder of the project's directory."
   ]
  },
  {
   "cell_type": "code",
   "execution_count": 9,
   "id": "f4c4e2d8",
   "metadata": {},
   "outputs": [],
   "source": [
    "# Read external .csv file\n",
    "external = pd.read_csv('data/input/PDS2022A1_unlabelled_by_KK.csv')\n",
    "external['source'] = 'external' # annotate source\n",
    "\n",
    "full = pd.concat([my_sample, external]) # merge with sample\n",
    "full.to_excel('./3352209.xlsx') # store to .xlsx file"
   ]
  },
  {
   "cell_type": "markdown",
   "id": "a9c6ca3d",
   "metadata": {},
   "source": [
    "## C. Inter-annotator Agreement\n",
    "---"
   ]
  },
  {
   "cell_type": "markdown",
   "id": "f8da73a3",
   "metadata": {},
   "source": [
    "### 1.\n",
    "For the following tasks, the ```annotations.zip``` was used. The ```.xlsx``` files included were not uniform regarding their encoding and layout, meaning that not all files followed the 0, 1 encoding for task 1 and 0, 1, 2, 3, 4 encoding for task 2. The files were cleaned with the use of the ```data_cleaning``` notebook that is attached along with this notebook and their corrected versions where stored under the ```data/submissions/``` folder of the project's directory.\n",
    "\n",
    "The procedure of the cleaning was basically checking the columns and value counts of every different dataframe and column and creating replacement dictionaries that were utilized at the end of the process. In addition, the naming of the files was changed to a uniform format, e.g. ```f#######.xlsx```. It is worth noting that manual changes took place in 2 files (```f3352205.xlsx``` and ```f3352216.xlsx```). These changes included:\n",
    "- the deletion of a file sheet, so that only one remains active\n",
    "- the renaming of a task B column from an empty string to B\n",
    "\n",
    "In addition, the gold annotations were stored in the ```data/input/``` folder of the project's directory."
   ]
  },
  {
   "cell_type": "code",
   "execution_count": 10,
   "id": "93da45aa",
   "metadata": {},
   "outputs": [
    {
     "data": {
      "text/plain": "                                                text  source  A  B\n0  That isn't anywhere in the story. You're grasp...  reddit  0  0\n1  we are calling it technoprepping. Move all you...     gab  0  0\n2  \"Interactive map of US military incursions out...     gab  0  0\n3  Just FYI, \"water proofing\" isn't a feature you...     gab  0  0\n4  Hi all, can you direct me to where I can join ...     gab  0  0",
      "text/html": "<div>\n<style scoped>\n    .dataframe tbody tr th:only-of-type {\n        vertical-align: middle;\n    }\n\n    .dataframe tbody tr th {\n        vertical-align: top;\n    }\n\n    .dataframe thead th {\n        text-align: right;\n    }\n</style>\n<table border=\"1\" class=\"dataframe\">\n  <thead>\n    <tr style=\"text-align: right;\">\n      <th></th>\n      <th>text</th>\n      <th>source</th>\n      <th>A</th>\n      <th>B</th>\n    </tr>\n  </thead>\n  <tbody>\n    <tr>\n      <th>0</th>\n      <td>That isn't anywhere in the story. You're grasp...</td>\n      <td>reddit</td>\n      <td>0</td>\n      <td>0</td>\n    </tr>\n    <tr>\n      <th>1</th>\n      <td>we are calling it technoprepping. Move all you...</td>\n      <td>gab</td>\n      <td>0</td>\n      <td>0</td>\n    </tr>\n    <tr>\n      <th>2</th>\n      <td>\"Interactive map of US military incursions out...</td>\n      <td>gab</td>\n      <td>0</td>\n      <td>0</td>\n    </tr>\n    <tr>\n      <th>3</th>\n      <td>Just FYI, \"water proofing\" isn't a feature you...</td>\n      <td>gab</td>\n      <td>0</td>\n      <td>0</td>\n    </tr>\n    <tr>\n      <th>4</th>\n      <td>Hi all, can you direct me to where I can join ...</td>\n      <td>gab</td>\n      <td>0</td>\n      <td>0</td>\n    </tr>\n  </tbody>\n</table>\n</div>"
     },
     "execution_count": 10,
     "metadata": {},
     "output_type": "execute_result"
    }
   ],
   "source": [
    "# Create dictionary of dataframes\n",
    "acc = {} # accumulator\n",
    "data_dir = \"./data/submissions/\"\n",
    "all_files = os.listdir(data_dir) # fetch all files under data/submissions/ directory\n",
    "for file in all_files:\n",
    "    df = pd.read_excel(data_dir + file)\n",
    "    df = df[['text', 'source', 'A', 'B']] # discard columns other than text, source, A, B\n",
    "    acc[file.split('.')[0]] = df # student ID as key\n",
    "\n",
    "acc['f3342208'].head() # example of student's annotation dataset"
   ]
  },
  {
   "cell_type": "markdown",
   "source": [
    "### 2."
   ],
   "metadata": {
    "collapsed": false
   }
  },
  {
   "cell_type": "code",
   "execution_count": 11,
   "id": "82f58a70",
   "metadata": {},
   "outputs": [
    {
     "data": {
      "text/plain": "                                                text  label\n0  \\tShe's an evil bitch who deserves whatever sh...      1\n1               A whore with clearly defined pricing      1\n2  Military wives are often cheating, mooching bi...      1\n3  And they are all whores that do anything to ge...      1\n4  By the time a bitch sees your dick in person t...      1",
      "text/html": "<div>\n<style scoped>\n    .dataframe tbody tr th:only-of-type {\n        vertical-align: middle;\n    }\n\n    .dataframe tbody tr th {\n        vertical-align: top;\n    }\n\n    .dataframe thead th {\n        text-align: right;\n    }\n</style>\n<table border=\"1\" class=\"dataframe\">\n  <thead>\n    <tr style=\"text-align: right;\">\n      <th></th>\n      <th>text</th>\n      <th>label</th>\n    </tr>\n  </thead>\n  <tbody>\n    <tr>\n      <th>0</th>\n      <td>\\tShe's an evil bitch who deserves whatever sh...</td>\n      <td>1</td>\n    </tr>\n    <tr>\n      <th>1</th>\n      <td>A whore with clearly defined pricing</td>\n      <td>1</td>\n    </tr>\n    <tr>\n      <th>2</th>\n      <td>Military wives are often cheating, mooching bi...</td>\n      <td>1</td>\n    </tr>\n    <tr>\n      <th>3</th>\n      <td>And they are all whores that do anything to ge...</td>\n      <td>1</td>\n    </tr>\n    <tr>\n      <th>4</th>\n      <td>By the time a bitch sees your dick in person t...</td>\n      <td>1</td>\n    </tr>\n  </tbody>\n</table>\n</div>"
     },
     "execution_count": 11,
     "metadata": {},
     "output_type": "execute_result"
    }
   ],
   "source": [
    "# Load gold annotations\n",
    "gold = pd.read_excel('./data/input/PDS2022A1_labelled_by_KK.xlsx')\n",
    "gold.head()"
   ]
  },
  {
   "cell_type": "markdown",
   "id": "76dee61c",
   "metadata": {},
   "source": [
    "We are going to compare the gold annotations against the students' dataframes. To do so, we need to make sure that all involved dataframes are sorted in the same manner, and thus have a 1-1 correspondence between string comments and indexes across all data sources, enabling correct joining. This check is important if we consider the following example:"
   ]
  },
  {
   "cell_type": "code",
   "execution_count": 12,
   "id": "ff9f48d4",
   "metadata": {},
   "outputs": [
    {
     "data": {
      "text/plain": "                                                text\n0  ***\"Most whores are just honest women. Most wo...\n1  A fat ugly bitch like that should be grateful ...\n2             A modern solution to a modern problem.",
      "text/html": "<div>\n<style scoped>\n    .dataframe tbody tr th:only-of-type {\n        vertical-align: middle;\n    }\n\n    .dataframe tbody tr th {\n        vertical-align: top;\n    }\n\n    .dataframe thead th {\n        text-align: right;\n    }\n</style>\n<table border=\"1\" class=\"dataframe\">\n  <thead>\n    <tr style=\"text-align: right;\">\n      <th></th>\n      <th>text</th>\n    </tr>\n  </thead>\n  <tbody>\n    <tr>\n      <th>0</th>\n      <td>***\"Most whores are just honest women. Most wo...</td>\n    </tr>\n    <tr>\n      <th>1</th>\n      <td>A fat ugly bitch like that should be grateful ...</td>\n    </tr>\n    <tr>\n      <th>2</th>\n      <td>A modern solution to a modern problem.</td>\n    </tr>\n  </tbody>\n</table>\n</div>"
     },
     "execution_count": 12,
     "metadata": {},
     "output_type": "execute_result"
    }
   ],
   "source": [
    "acc['f3352217'][acc['f3352217']['source'] == 'external'][['text']].sort_values(by=['text']).reset_index(drop=True).head(3)"
   ]
  },
  {
   "cell_type": "code",
   "execution_count": 13,
   "id": "ff285296",
   "metadata": {},
   "outputs": [
    {
     "data": {
      "text/plain": "                                                text\n0  \\tShe's an evil bitch who deserves whatever sh...\n1  ***\"Most whores are just honest women. Most wo...\n2  A fat ugly bitch like that should be grateful ...",
      "text/html": "<div>\n<style scoped>\n    .dataframe tbody tr th:only-of-type {\n        vertical-align: middle;\n    }\n\n    .dataframe tbody tr th {\n        vertical-align: top;\n    }\n\n    .dataframe thead th {\n        text-align: right;\n    }\n</style>\n<table border=\"1\" class=\"dataframe\">\n  <thead>\n    <tr style=\"text-align: right;\">\n      <th></th>\n      <th>text</th>\n    </tr>\n  </thead>\n  <tbody>\n    <tr>\n      <th>0</th>\n      <td>\\tShe's an evil bitch who deserves whatever sh...</td>\n    </tr>\n    <tr>\n      <th>1</th>\n      <td>***\"Most whores are just honest women. Most wo...</td>\n    </tr>\n    <tr>\n      <th>2</th>\n      <td>A fat ugly bitch like that should be grateful ...</td>\n    </tr>\n  </tbody>\n</table>\n</div>"
     },
     "execution_count": 13,
     "metadata": {},
     "output_type": "execute_result"
    }
   ],
   "source": [
    "acc['f3352218'][acc['f3352218']['source'] == 'external'][['text']].sort_values(by=['text']).reset_index(drop=True).head(3)"
   ]
  },
  {
   "cell_type": "markdown",
   "id": "545a48a4",
   "metadata": {},
   "source": [
    "We notice that the comment that starts with ```***``` is assigned an index of 0 in the first dataset and an index of 1 in the second one, if we sort them by the text column. This apparently is due to leading characters that exist in some datasets, which possibly occurs due to different encoding of the files. This would introduce errors in the potential joining and thus produce false results. We are going to handle that case by stripping comments from leading characters and see if that step is enough to achieve a 1-1 correspondence between indexes and comments.\n",
    "\n",
    "The following cell carries through that check:"
   ]
  },
  {
   "cell_type": "code",
   "execution_count": 14,
   "id": "c5c4e421",
   "metadata": {},
   "outputs": [
    {
     "name": "stdout",
     "output_type": "stream",
     "text": [
      "A 1-1 correspondence between indexes and comments has been achieved.\n"
     ]
    }
   ],
   "source": [
    "# Ensure 1-1 correspondence between indexes and texts for sorted dataframes\n",
    "gold['text'] = gold['text'].str.lstrip() # remove leading from the left\n",
    "gold = gold[['text', 'label']].sort_values(by=['text']).reset_index(drop=True) # sort, reset index, save as new\n",
    "\n",
    "f = 0 # flag of 1-1 correspondence\n",
    "acc_gold = {} # create a new dictionary for task C, with sorted comments and 1-1 correspondence with indexes for students\n",
    "for key, value in acc.items():\n",
    "    curr = value # current dataframe\n",
    "    curr['text'] = curr['text'].str.lstrip() # remove leading from the left\n",
    "    curr = curr[curr['source'] == 'external'][['text', 'A', 'B']].sort_values(by=['text']).reset_index(drop=True) # select only external sources and columns text, A\n",
    "    acc_gold[key] = curr # save to new dataframe\n",
    "    if not gold['text'].equals(curr['text']): # check if (index, text) combinations are equal\n",
    "        f = 1\n",
    "\n",
    "if f:\n",
    "    print('A single index corresponds to more than one comment.')\n",
    "else:\n",
    "    print('A 1-1 correspondence between indexes and comments has been achieved.')"
   ]
  },
  {
   "cell_type": "markdown",
   "id": "084ec37a",
   "metadata": {},
   "source": [
    "Since we have achieved a 1-1 correspondence we will create an augmented dataframe combing the gold labels with students' annotations, per text."
   ]
  },
  {
   "cell_type": "code",
   "execution_count": 15,
   "id": "fa514eaf",
   "metadata": {},
   "outputs": [
    {
     "data": {
      "text/plain": "                                                text  label  f3342208_A  \\\n0  ***\"Most whores are just honest women. Most wo...      1           1   \n1  A fat ugly bitch like that should be grateful ...      1           1   \n2             A modern solution to a modern problem.      0           0   \n3               A whore with clearly defined pricing      1           1   \n4  All femoids are worthless whores and deserve e...      1           1   \n\n   f3342208_B  f3352201_A  f3352201_B  f3352202_A  f3352202_B  f3352203_A  \\\n0           3           1           3           1           4           1   \n1           3           1           2           1           3           1   \n2           0           0           0           0           0           0   \n3           2           1           2           1           3           1   \n4           1           1           2           1           3           1   \n\n   f3352203_B  ...  f3352214_A  f3352214_B  f3352215_A  f3352215_B  \\\n0           3  ...           1           4           1           4   \n1           3  ...           1           3           1           3   \n2           0  ...           0           0           0           0   \n3           3  ...           1           3           1           4   \n4           1  ...           1           3           1           3   \n\n   f3352216_A  f3352216_B  f3352217_A  f3352217_B  f3352218_A  f3352218_B  \n0           1           2           1           2           0           0  \n1           1           3           1           3           1           3  \n2           0           0           0           0           0           0  \n3           1           3           1           2           1           2  \n4           1           3           1           1           1           1  \n\n[5 rows x 32 columns]",
      "text/html": "<div>\n<style scoped>\n    .dataframe tbody tr th:only-of-type {\n        vertical-align: middle;\n    }\n\n    .dataframe tbody tr th {\n        vertical-align: top;\n    }\n\n    .dataframe thead th {\n        text-align: right;\n    }\n</style>\n<table border=\"1\" class=\"dataframe\">\n  <thead>\n    <tr style=\"text-align: right;\">\n      <th></th>\n      <th>text</th>\n      <th>label</th>\n      <th>f3342208_A</th>\n      <th>f3342208_B</th>\n      <th>f3352201_A</th>\n      <th>f3352201_B</th>\n      <th>f3352202_A</th>\n      <th>f3352202_B</th>\n      <th>f3352203_A</th>\n      <th>f3352203_B</th>\n      <th>...</th>\n      <th>f3352214_A</th>\n      <th>f3352214_B</th>\n      <th>f3352215_A</th>\n      <th>f3352215_B</th>\n      <th>f3352216_A</th>\n      <th>f3352216_B</th>\n      <th>f3352217_A</th>\n      <th>f3352217_B</th>\n      <th>f3352218_A</th>\n      <th>f3352218_B</th>\n    </tr>\n  </thead>\n  <tbody>\n    <tr>\n      <th>0</th>\n      <td>***\"Most whores are just honest women. Most wo...</td>\n      <td>1</td>\n      <td>1</td>\n      <td>3</td>\n      <td>1</td>\n      <td>3</td>\n      <td>1</td>\n      <td>4</td>\n      <td>1</td>\n      <td>3</td>\n      <td>...</td>\n      <td>1</td>\n      <td>4</td>\n      <td>1</td>\n      <td>4</td>\n      <td>1</td>\n      <td>2</td>\n      <td>1</td>\n      <td>2</td>\n      <td>0</td>\n      <td>0</td>\n    </tr>\n    <tr>\n      <th>1</th>\n      <td>A fat ugly bitch like that should be grateful ...</td>\n      <td>1</td>\n      <td>1</td>\n      <td>3</td>\n      <td>1</td>\n      <td>2</td>\n      <td>1</td>\n      <td>3</td>\n      <td>1</td>\n      <td>3</td>\n      <td>...</td>\n      <td>1</td>\n      <td>3</td>\n      <td>1</td>\n      <td>3</td>\n      <td>1</td>\n      <td>3</td>\n      <td>1</td>\n      <td>3</td>\n      <td>1</td>\n      <td>3</td>\n    </tr>\n    <tr>\n      <th>2</th>\n      <td>A modern solution to a modern problem.</td>\n      <td>0</td>\n      <td>0</td>\n      <td>0</td>\n      <td>0</td>\n      <td>0</td>\n      <td>0</td>\n      <td>0</td>\n      <td>0</td>\n      <td>0</td>\n      <td>...</td>\n      <td>0</td>\n      <td>0</td>\n      <td>0</td>\n      <td>0</td>\n      <td>0</td>\n      <td>0</td>\n      <td>0</td>\n      <td>0</td>\n      <td>0</td>\n      <td>0</td>\n    </tr>\n    <tr>\n      <th>3</th>\n      <td>A whore with clearly defined pricing</td>\n      <td>1</td>\n      <td>1</td>\n      <td>2</td>\n      <td>1</td>\n      <td>2</td>\n      <td>1</td>\n      <td>3</td>\n      <td>1</td>\n      <td>3</td>\n      <td>...</td>\n      <td>1</td>\n      <td>3</td>\n      <td>1</td>\n      <td>4</td>\n      <td>1</td>\n      <td>3</td>\n      <td>1</td>\n      <td>2</td>\n      <td>1</td>\n      <td>2</td>\n    </tr>\n    <tr>\n      <th>4</th>\n      <td>All femoids are worthless whores and deserve e...</td>\n      <td>1</td>\n      <td>1</td>\n      <td>1</td>\n      <td>1</td>\n      <td>2</td>\n      <td>1</td>\n      <td>3</td>\n      <td>1</td>\n      <td>1</td>\n      <td>...</td>\n      <td>1</td>\n      <td>3</td>\n      <td>1</td>\n      <td>3</td>\n      <td>1</td>\n      <td>3</td>\n      <td>1</td>\n      <td>1</td>\n      <td>1</td>\n      <td>1</td>\n    </tr>\n  </tbody>\n</table>\n<p>5 rows × 32 columns</p>\n</div>"
     },
     "execution_count": 15,
     "metadata": {},
     "output_type": "execute_result"
    }
   ],
   "source": [
    "# Combining text, gold task A annotations, students' task A, B annotations\n",
    "aug = gold.copy()\n",
    "for key, value in acc_gold.items():\n",
    "    aug = pd.merge(aug, value[['A', 'B']], left_index=True, right_index=True) # join on index\n",
    "    aug = aug.rename(columns={\n",
    "        \"A\": \"{}_A\".format(key),\n",
    "        \"B\": \"{}_B\".format(key)\n",
    "    }) # rename annotation column of student to student's ID\n",
    "aug.head()"
   ]
  },
  {
   "cell_type": "markdown",
   "id": "203304e6",
   "metadata": {},
   "source": [
    "We are going to create two more columns corresponding to the average decision per text per task:"
   ]
  },
  {
   "cell_type": "code",
   "execution_count": 16,
   "id": "d0e89d22",
   "metadata": {},
   "outputs": [
    {
     "data": {
      "text/plain": "                                                text  label  f3342208_A  \\\n0  ***\"Most whores are just honest women. Most wo...      1           1   \n1  A fat ugly bitch like that should be grateful ...      1           1   \n2             A modern solution to a modern problem.      0           0   \n3               A whore with clearly defined pricing      1           1   \n4  All femoids are worthless whores and deserve e...      1           1   \n\n   f3342208_B  f3352201_A  f3352201_B  f3352202_A  f3352202_B  f3352203_A  \\\n0           3           1           3           1           4           1   \n1           3           1           2           1           3           1   \n2           0           0           0           0           0           0   \n3           2           1           2           1           3           1   \n4           1           1           2           1           3           1   \n\n   f3352203_B  ...  f3352215_A  f3352215_B  f3352216_A  f3352216_B  \\\n0           3  ...           1           4           1           2   \n1           3  ...           1           3           1           3   \n2           0  ...           0           0           0           0   \n3           3  ...           1           4           1           3   \n4           1  ...           1           3           1           3   \n\n   f3352217_A  f3352217_B  f3352218_A  f3352218_B  avr_label_A  avr_label_B  \n0           1           2           0           0            1            3  \n1           1           3           1           3            1            3  \n2           0           0           0           0            0            0  \n3           1           2           1           2            1            2  \n4           1           1           1           1            1            2  \n\n[5 rows x 34 columns]",
      "text/html": "<div>\n<style scoped>\n    .dataframe tbody tr th:only-of-type {\n        vertical-align: middle;\n    }\n\n    .dataframe tbody tr th {\n        vertical-align: top;\n    }\n\n    .dataframe thead th {\n        text-align: right;\n    }\n</style>\n<table border=\"1\" class=\"dataframe\">\n  <thead>\n    <tr style=\"text-align: right;\">\n      <th></th>\n      <th>text</th>\n      <th>label</th>\n      <th>f3342208_A</th>\n      <th>f3342208_B</th>\n      <th>f3352201_A</th>\n      <th>f3352201_B</th>\n      <th>f3352202_A</th>\n      <th>f3352202_B</th>\n      <th>f3352203_A</th>\n      <th>f3352203_B</th>\n      <th>...</th>\n      <th>f3352215_A</th>\n      <th>f3352215_B</th>\n      <th>f3352216_A</th>\n      <th>f3352216_B</th>\n      <th>f3352217_A</th>\n      <th>f3352217_B</th>\n      <th>f3352218_A</th>\n      <th>f3352218_B</th>\n      <th>avr_label_A</th>\n      <th>avr_label_B</th>\n    </tr>\n  </thead>\n  <tbody>\n    <tr>\n      <th>0</th>\n      <td>***\"Most whores are just honest women. Most wo...</td>\n      <td>1</td>\n      <td>1</td>\n      <td>3</td>\n      <td>1</td>\n      <td>3</td>\n      <td>1</td>\n      <td>4</td>\n      <td>1</td>\n      <td>3</td>\n      <td>...</td>\n      <td>1</td>\n      <td>4</td>\n      <td>1</td>\n      <td>2</td>\n      <td>1</td>\n      <td>2</td>\n      <td>0</td>\n      <td>0</td>\n      <td>1</td>\n      <td>3</td>\n    </tr>\n    <tr>\n      <th>1</th>\n      <td>A fat ugly bitch like that should be grateful ...</td>\n      <td>1</td>\n      <td>1</td>\n      <td>3</td>\n      <td>1</td>\n      <td>2</td>\n      <td>1</td>\n      <td>3</td>\n      <td>1</td>\n      <td>3</td>\n      <td>...</td>\n      <td>1</td>\n      <td>3</td>\n      <td>1</td>\n      <td>3</td>\n      <td>1</td>\n      <td>3</td>\n      <td>1</td>\n      <td>3</td>\n      <td>1</td>\n      <td>3</td>\n    </tr>\n    <tr>\n      <th>2</th>\n      <td>A modern solution to a modern problem.</td>\n      <td>0</td>\n      <td>0</td>\n      <td>0</td>\n      <td>0</td>\n      <td>0</td>\n      <td>0</td>\n      <td>0</td>\n      <td>0</td>\n      <td>0</td>\n      <td>...</td>\n      <td>0</td>\n      <td>0</td>\n      <td>0</td>\n      <td>0</td>\n      <td>0</td>\n      <td>0</td>\n      <td>0</td>\n      <td>0</td>\n      <td>0</td>\n      <td>0</td>\n    </tr>\n    <tr>\n      <th>3</th>\n      <td>A whore with clearly defined pricing</td>\n      <td>1</td>\n      <td>1</td>\n      <td>2</td>\n      <td>1</td>\n      <td>2</td>\n      <td>1</td>\n      <td>3</td>\n      <td>1</td>\n      <td>3</td>\n      <td>...</td>\n      <td>1</td>\n      <td>4</td>\n      <td>1</td>\n      <td>3</td>\n      <td>1</td>\n      <td>2</td>\n      <td>1</td>\n      <td>2</td>\n      <td>1</td>\n      <td>2</td>\n    </tr>\n    <tr>\n      <th>4</th>\n      <td>All femoids are worthless whores and deserve e...</td>\n      <td>1</td>\n      <td>1</td>\n      <td>1</td>\n      <td>1</td>\n      <td>2</td>\n      <td>1</td>\n      <td>3</td>\n      <td>1</td>\n      <td>1</td>\n      <td>...</td>\n      <td>1</td>\n      <td>3</td>\n      <td>1</td>\n      <td>3</td>\n      <td>1</td>\n      <td>1</td>\n      <td>1</td>\n      <td>1</td>\n      <td>1</td>\n      <td>2</td>\n    </tr>\n  </tbody>\n</table>\n<p>5 rows × 34 columns</p>\n</div>"
     },
     "execution_count": 16,
     "metadata": {},
     "output_type": "execute_result"
    }
   ],
   "source": [
    "# Average coder columns creation\n",
    "aug['avr_label_A'] = aug[aug.columns[~aug.columns.isin(['text', 'label']) & aug.columns.str.contains('A')]].mean(axis=1).round().astype(int)\n",
    "aug['avr_label_B'] = aug[aug.columns[~aug.columns.isin(['text', 'label']) & aug.columns.str.contains('B')]].mean(axis=1).round().astype(int)\n",
    "aug.head()"
   ]
  },
  {
   "cell_type": "markdown",
   "id": "89689cac",
   "metadata": {},
   "source": [
    "Next we compute the percentage agreement and Cohen's Kappa for each text between the gold annotations and each different student, regarding task A. We also compute these metrics for the average coder as well."
   ]
  },
  {
   "cell_type": "code",
   "execution_count": 17,
   "id": "5daf9c29",
   "metadata": {},
   "outputs": [
    {
     "name": "stdout",
     "output_type": "stream",
     "text": [
      "Average coder agreement: 1.0, kappa: 1.0\n"
     ]
    },
    {
     "data": {
      "text/plain": "   annotator  agreement     kappa\n0   f3342208   1.000000  1.000000\n1   f3352201   1.000000  1.000000\n2   f3352202   1.000000  1.000000\n9   f3352213   0.979592  0.958084\n5   f3352206   0.959184  0.916808\n6   f3352209   0.959184  0.914186\n7   f3352210   0.959184  0.914186\n10  f3352214   0.959184  0.914186\n11  f3352215   0.959184  0.914186\n12  f3352216   0.959184  0.916808\n13  f3352217   0.959184  0.914186\n8   f3352212   0.897959  0.783760\n4   f3352205   0.795918  0.542056\n3   f3352203   0.755102  0.529600\n14  f3352218   0.734694  0.501175",
      "text/html": "<div>\n<style scoped>\n    .dataframe tbody tr th:only-of-type {\n        vertical-align: middle;\n    }\n\n    .dataframe tbody tr th {\n        vertical-align: top;\n    }\n\n    .dataframe thead th {\n        text-align: right;\n    }\n</style>\n<table border=\"1\" class=\"dataframe\">\n  <thead>\n    <tr style=\"text-align: right;\">\n      <th></th>\n      <th>annotator</th>\n      <th>agreement</th>\n      <th>kappa</th>\n    </tr>\n  </thead>\n  <tbody>\n    <tr>\n      <th>0</th>\n      <td>f3342208</td>\n      <td>1.000000</td>\n      <td>1.000000</td>\n    </tr>\n    <tr>\n      <th>1</th>\n      <td>f3352201</td>\n      <td>1.000000</td>\n      <td>1.000000</td>\n    </tr>\n    <tr>\n      <th>2</th>\n      <td>f3352202</td>\n      <td>1.000000</td>\n      <td>1.000000</td>\n    </tr>\n    <tr>\n      <th>9</th>\n      <td>f3352213</td>\n      <td>0.979592</td>\n      <td>0.958084</td>\n    </tr>\n    <tr>\n      <th>5</th>\n      <td>f3352206</td>\n      <td>0.959184</td>\n      <td>0.916808</td>\n    </tr>\n    <tr>\n      <th>6</th>\n      <td>f3352209</td>\n      <td>0.959184</td>\n      <td>0.914186</td>\n    </tr>\n    <tr>\n      <th>7</th>\n      <td>f3352210</td>\n      <td>0.959184</td>\n      <td>0.914186</td>\n    </tr>\n    <tr>\n      <th>10</th>\n      <td>f3352214</td>\n      <td>0.959184</td>\n      <td>0.914186</td>\n    </tr>\n    <tr>\n      <th>11</th>\n      <td>f3352215</td>\n      <td>0.959184</td>\n      <td>0.914186</td>\n    </tr>\n    <tr>\n      <th>12</th>\n      <td>f3352216</td>\n      <td>0.959184</td>\n      <td>0.916808</td>\n    </tr>\n    <tr>\n      <th>13</th>\n      <td>f3352217</td>\n      <td>0.959184</td>\n      <td>0.914186</td>\n    </tr>\n    <tr>\n      <th>8</th>\n      <td>f3352212</td>\n      <td>0.897959</td>\n      <td>0.783760</td>\n    </tr>\n    <tr>\n      <th>4</th>\n      <td>f3352205</td>\n      <td>0.795918</td>\n      <td>0.542056</td>\n    </tr>\n    <tr>\n      <th>3</th>\n      <td>f3352203</td>\n      <td>0.755102</td>\n      <td>0.529600</td>\n    </tr>\n    <tr>\n      <th>14</th>\n      <td>f3352218</td>\n      <td>0.734694</td>\n      <td>0.501175</td>\n    </tr>\n  </tbody>\n</table>\n</div>"
     },
     "execution_count": 17,
     "metadata": {},
     "output_type": "execute_result"
    }
   ],
   "source": [
    "# Compute percentage agreement for students for task A\n",
    "t_acc = {}\n",
    "for key, _ in acc_gold.items():\n",
    "    curr_agreement = (aug['label'] == aug[\"{}_A\".format(key)]).mean() # percentage agreement with gold\n",
    "    curr_kappa = kappa(aug['label'], aug[\"{}_A\".format(key)])\n",
    "    t_acc[key] = (curr_agreement, curr_kappa) # save (percentage_agreement, kappa)\n",
    "\n",
    "# Compute percentage agreement for average coder for task A\n",
    "avr_column_perc_agreement = (aug['label'] == aug['avr_label_A']).mean()\n",
    "avr_column_kappa = kappa(aug['label'], aug['avr_label_A'])\n",
    "print('Average coder agreement: {}, kappa: {}'.format(avr_column_perc_agreement, avr_column_kappa))\n",
    "\n",
    "agr = pd.DataFrame.from_dict(t_acc, orient='index', columns=['agreement', 'kappa']).reset_index().rename(columns={'index': 'annotator'}) # dataframe from dictionary\n",
    "agr.sort_values(by=['agreement'], ascending=False)"
   ]
  },
  {
   "cell_type": "markdown",
   "id": "0444a809",
   "metadata": {},
   "source": [
    "## D. Exploratory Analysis\n",
    "---"
   ]
  },
  {
   "cell_type": "markdown",
   "id": "4c712ff0",
   "metadata": {},
   "source": [
    "### 1.\n",
    "We will compare the distributions of task A and task B between the average coder and each student's annotator. Firstly, we visualize the average coder distribution for task A:"
   ]
  },
  {
   "cell_type": "code",
   "execution_count": 18,
   "id": "1eccd28b",
   "metadata": {},
   "outputs": [
    {
     "data": {
      "text/plain": "<Figure size 640x480 with 1 Axes>",
      "image/png": "[encoded data removed]"
     },
     "metadata": {},
     "output_type": "display_data"
    }
   ],
   "source": [
    "# Plotting : Average coder | Task A Distribution\n",
    "plot = aug['avr_label_A'].value_counts().sort_index().plot(kind='bar', title='Average Coder | Task A Distribution', rot=0, color=colors)\n",
    "\n",
    "i = 0\n",
    "for rect in plot.patches:\n",
    "    x_value = rect.get_x() + rect.get_width() / 2\n",
    "    y_value = rect.get_height() - 5\n",
    "    plt.annotate(aug['avr_label_A'].value_counts()[i], xy = (x_value, y_value), ha='center', fontsize=12, color='white')\n",
    "    i += 1"
   ]
  },
  {
   "cell_type": "markdown",
   "id": "45f2400e",
   "metadata": {},
   "source": [
    "We will compare the distributions of the students' annotators through the difference between the mean values of the datasets."
   ]
  },
  {
   "cell_type": "code",
   "execution_count": 19,
   "id": "c0b4cade",
   "metadata": {},
   "outputs": [
    {
     "data": {
      "text/plain": "     student  dist_diff\n14  f3352218   0.265306\n3   f3352203   0.204082\n4   f3352205   0.204082\n8   f3352212   0.061224\n5   f3352206   0.040816",
      "text/html": "<div>\n<style scoped>\n    .dataframe tbody tr th:only-of-type {\n        vertical-align: middle;\n    }\n\n    .dataframe tbody tr th {\n        vertical-align: top;\n    }\n\n    .dataframe thead th {\n        text-align: right;\n    }\n</style>\n<table border=\"1\" class=\"dataframe\">\n  <thead>\n    <tr style=\"text-align: right;\">\n      <th></th>\n      <th>student</th>\n      <th>dist_diff</th>\n    </tr>\n  </thead>\n  <tbody>\n    <tr>\n      <th>14</th>\n      <td>f3352218</td>\n      <td>0.265306</td>\n    </tr>\n    <tr>\n      <th>3</th>\n      <td>f3352203</td>\n      <td>0.204082</td>\n    </tr>\n    <tr>\n      <th>4</th>\n      <td>f3352205</td>\n      <td>0.204082</td>\n    </tr>\n    <tr>\n      <th>8</th>\n      <td>f3352212</td>\n      <td>0.061224</td>\n    </tr>\n    <tr>\n      <th>5</th>\n      <td>f3352206</td>\n      <td>0.040816</td>\n    </tr>\n  </tbody>\n</table>\n</div>"
     },
     "execution_count": 19,
     "metadata": {},
     "output_type": "execute_result"
    }
   ],
   "source": [
    "# Calculation of students' annotation distribution disagreement with gold for task A\n",
    "global_mean = aug['avr_label_A'].mean() # gold annotator task A mean\n",
    "\n",
    "dA_acc = {}\n",
    "for key, _ in acc.items():\n",
    "    curr_mean = aug[\"{}_A\".format(key)].mean() # mean for task A annotation of student\n",
    "    diff_mean = abs(global_mean - curr_mean) # difference of mean value of student from gold\n",
    "    dA_acc[key] = diff_mean\n",
    "\n",
    "distribution_A = pd.DataFrame.from_dict(dA_acc, orient='index', columns=['dist_diff']).reset_index().rename(columns={'index': 'student'})\n",
    "distribution_A.sort_values(by=['dist_diff'], ascending=False).head(5) # top 5"
   ]
  },
  {
   "cell_type": "markdown",
   "id": "040d631d",
   "metadata": {},
   "source": [
    "The top 3 students' annotators that deviate the most from the average coder are ```f3352218```, ```f3352203```, ```f3352205```. For reference, we will visualize the distribution of the most different one:"
   ]
  },
  {
   "cell_type": "code",
   "execution_count": 20,
   "id": "31ebc2c3",
   "metadata": {},
   "outputs": [
    {
     "data": {
      "text/plain": "<Figure size 640x480 with 1 Axes>",
      "image/png": "[encoded data removed]"
     },
     "metadata": {},
     "output_type": "display_data"
    }
   ],
   "source": [
    "# Plotting : f3352218 | Task A Distribution\n",
    "plot = aug['f3352218_A'].value_counts().sort_index().plot(kind='bar', title='f3352218_A | Task A Distribution', rot=0, color=colors)\n",
    "\n",
    "i = 0\n",
    "for rect in plot.patches:\n",
    "    x_value = rect.get_x() + rect.get_width() / 2\n",
    "    y_value = rect.get_height() - 5\n",
    "    plt.annotate(aug['f3352218_A'].value_counts()[i], xy = (x_value, y_value), ha='center', fontsize=12, color='white')\n",
    "    i += 1"
   ]
  },
  {
   "cell_type": "markdown",
   "id": "9b5a157e",
   "metadata": {},
   "source": [
    "We move on to task B:"
   ]
  },
  {
   "cell_type": "code",
   "execution_count": 21,
   "id": "2c19d9bf",
   "metadata": {},
   "outputs": [
    {
     "data": {
      "text/plain": "<Figure size 640x480 with 1 Axes>",
      "image/png": "[encoded data removed]"
     },
     "metadata": {},
     "output_type": "display_data"
    }
   ],
   "source": [
    "# Plotting : Average coder | Task B Distribution\n",
    "plot = aug['avr_label_B'].value_counts().sort_index().plot(kind='bar', title='Average Coder | Task B Distribution', rot=0, color=colors)\n",
    "\n",
    "i = 0\n",
    "for rect in plot.patches:\n",
    "    x_value = rect.get_x() + rect.get_width() / 2\n",
    "    y_value = rect.get_height() - 1\n",
    "    plt.annotate(aug['avr_label_B'].value_counts()[i], xy = (x_value, y_value), ha='center', fontsize=12, color='white')\n",
    "    i += 1"
   ]
  },
  {
   "cell_type": "code",
   "execution_count": 22,
   "id": "b676c8f1",
   "metadata": {},
   "outputs": [
    {
     "data": {
      "text/plain": "     student  dist_diff\n14  f3352218   0.673469\n11  f3352215   0.489796\n4   f3352205   0.428571\n3   f3352203   0.387755\n10  f3352214   0.306122",
      "text/html": "<div>\n<style scoped>\n    .dataframe tbody tr th:only-of-type {\n        vertical-align: middle;\n    }\n\n    .dataframe tbody tr th {\n        vertical-align: top;\n    }\n\n    .dataframe thead th {\n        text-align: right;\n    }\n</style>\n<table border=\"1\" class=\"dataframe\">\n  <thead>\n    <tr style=\"text-align: right;\">\n      <th></th>\n      <th>student</th>\n      <th>dist_diff</th>\n    </tr>\n  </thead>\n  <tbody>\n    <tr>\n      <th>14</th>\n      <td>f3352218</td>\n      <td>0.673469</td>\n    </tr>\n    <tr>\n      <th>11</th>\n      <td>f3352215</td>\n      <td>0.489796</td>\n    </tr>\n    <tr>\n      <th>4</th>\n      <td>f3352205</td>\n      <td>0.428571</td>\n    </tr>\n    <tr>\n      <th>3</th>\n      <td>f3352203</td>\n      <td>0.387755</td>\n    </tr>\n    <tr>\n      <th>10</th>\n      <td>f3352214</td>\n      <td>0.306122</td>\n    </tr>\n  </tbody>\n</table>\n</div>"
     },
     "execution_count": 22,
     "metadata": {},
     "output_type": "execute_result"
    }
   ],
   "source": [
    "# Calculation of students' annotation distribution disagreement with gold for task B\n",
    "global_mean = aug['avr_label_B'].mean() # gold annotator task B mean\n",
    "\n",
    "dB_acc = {}\n",
    "for key, _ in acc.items():\n",
    "    curr_mean = aug[\"{}_B\".format(key)].mean() # fetch mean for task B annotation of student\n",
    "    diff_mean = abs(global_mean - curr_mean) # difference of mean value of student from gold\n",
    "    dB_acc[key] = diff_mean\n",
    "\n",
    "distribution_B = pd.DataFrame.from_dict(dB_acc, orient='index', columns=['dist_diff']).reset_index().rename(columns={'index': 'student'})\n",
    "distribution_B.sort_values(by=['dist_diff'], ascending=False).head(5) # top 5"
   ]
  },
  {
   "cell_type": "markdown",
   "id": "987d1ea4",
   "metadata": {},
   "source": [
    "The top 3 students' annotators that deviate the most from the average coder are ```f3352218```, ```f3352215```, ```f3352205```. For reference, we will visualize the distribution of the most different one:"
   ]
  },
  {
   "cell_type": "code",
   "execution_count": 23,
   "id": "2e2696c3",
   "metadata": {},
   "outputs": [
    {
     "data": {
      "text/plain": "<Figure size 640x480 with 1 Axes>",
      "image/png": "[encoded data removed]"
     },
     "metadata": {},
     "output_type": "display_data"
    }
   ],
   "source": [
    "# Plotting : f3352218 | Task B Distribution\n",
    "plot = aug['f3352218_B'].value_counts().sort_index().plot(kind='bar', title='f3352218 | Task B Distribution', rot=0, color=colors)\n",
    "\n",
    "i = 0\n",
    "for rect in plot.patches:\n",
    "    x_value = rect.get_x() + rect.get_width() / 2\n",
    "    y_value = rect.get_height() - 2\n",
    "    plt.annotate(aug['f3352218_B'].value_counts()[i], xy = (x_value, y_value), ha='center', fontsize=12, color='white')\n",
    "    i += 1"
   ]
  },
  {
   "cell_type": "markdown",
   "id": "69f466cc",
   "metadata": {},
   "source": [
    "### 2.\n",
    "We will then locate the comments that annotators agree and disagree more with the gold annotator. We will do so by calculating the number of disagreeing annotators for every text."
   ]
  },
  {
   "cell_type": "code",
   "execution_count": 24,
   "id": "e13fd53a",
   "metadata": {},
   "outputs": [
    {
     "data": {
      "text/plain": "                                                 text  label  disagreements\n18       I just happen not to support modern feminism      0              0\n34                                They're all whores.      1              0\n28  She's an evil bitch who deserves whatever she ...      1              0\n26  Military wives are often cheating, mooching bi...      1              0\n47  who knows if the charges will stick, and if th...      0              0\n40  Whores spread disease and need money. Just ano...      1              0\n22  Just a bunch of lying bitches. Me too is a jok...      1              0\n21  It's not worth a false rape allegation. Better...      1              0\n19  If she banged a random dude after an hour thou...      1              0\n17  I don’t see how this is relevant to men’s rights.      0              0\n15  I don't see the evidence that this is as a fun...      0              0\n14                   Hygiene is probably the culprit.      0              0\n36  To be fair, he couldn’t stand marriage more th...      0              0\n4   All femoids are worthless whores and deserve e...      1              0\n43                You hit the nail right on the head.      0              0\n1   A fat ugly bitch like that should be grateful ...      1              0\n7   Cope. She was a giant whore who fucked a long ...      1              0\n2              A modern solution to a modern problem.      0              0\n5   And they are all whores that do anything to ge...      1              0\n3                A whore with clearly defined pricing      1              0\n33  They would plead the 5th and demand a safe spa...      0              1\n37  Treat a whore like a lady, and treat a lady li...      1              1\n38  Unhygenic shit and fucking a bitch who is chea...      1              1\n30  Stick a fork in this dumb old demented bitch. ...      1              1\n29  Simply put, women tend to destroy men's confid...      1              1\n27                         No, I do not have a penis.      0              1\n13  Horrible? They get sex and relationships all t...      0              1\n6   By the time a bitch sees your dick in person t...      1              1\n20  It seems like the definition of a strong indep...      1              1\n35                       Throw me in the pool of acid      0              1\n0   ***\"Most whores are just honest women. Most wo...      1              1\n42  You LTRed a cheating whore. But now it's over,...      1              2\n46                a loudmouthed criminal nigger bitch      1              2\n45            [USER] Yay!!!!! the more the merrier!!!      0              2\n41  With a prostitute, nobody is getting hurt. Mos...      1              2\n44  Yup. Absolute crickets from the media and femi...      1              2\n39  Whore's are too expensive. Get a pocket pussy ...      1              2\n24           Love is blind. Lust has 20/10 vision. :)      0              2\n25   Men can easily build families in their thirties.      0              2\n16                          I don’t hate women at all      0              2\n12   Fucking bitches willing to die to satisfie chad.      1              2\n10     FUCK HER IN THE WOODS! BITCHES LOVE THAT SHIT!      1              2\n8               Damn, these bitches are ugly as fuck!      1              2\n31  That would make abortion rights a little more ...      0              3\n23   Lock that bitch up in a mental asylum, and fast.      1              3\n9             Even as a female...this makes laugh.😂😂😂      0              3\n48  😂 Oh nooo. It's 2021. Fit and no children are ...      0              3\n11       Fix the holes and slap a turbo on that bitch      1              4\n32                    The price you pay for equality.      0              4",
      "text/html": "<div>\n<style scoped>\n    .dataframe tbody tr th:only-of-type {\n        vertical-align: middle;\n    }\n\n    .dataframe tbody tr th {\n        vertical-align: top;\n    }\n\n    .dataframe thead th {\n        text-align: right;\n    }\n</style>\n<table border=\"1\" class=\"dataframe\">\n  <thead>\n    <tr style=\"text-align: right;\">\n      <th></th>\n      <th>text</th>\n      <th>label</th>\n      <th>disagreements</th>\n    </tr>\n  </thead>\n  <tbody>\n    <tr>\n      <th>18</th>\n      <td>I just happen not to support modern feminism</td>\n      <td>0</td>\n      <td>0</td>\n    </tr>\n    <tr>\n      <th>34</th>\n      <td>They're all whores.</td>\n      <td>1</td>\n      <td>0</td>\n    </tr>\n    <tr>\n      <th>28</th>\n      <td>She's an evil bitch who deserves whatever she ...</td>\n      <td>1</td>\n      <td>0</td>\n    </tr>\n    <tr>\n      <th>26</th>\n      <td>Military wives are often cheating, mooching bi...</td>\n      <td>1</td>\n      <td>0</td>\n    </tr>\n    <tr>\n      <th>47</th>\n      <td>who knows if the charges will stick, and if th...</td>\n      <td>0</td>\n      <td>0</td>\n    </tr>\n    <tr>\n      <th>40</th>\n      <td>Whores spread disease and need money. Just ano...</td>\n      <td>1</td>\n      <td>0</td>\n    </tr>\n    <tr>\n      <th>22</th>\n      <td>Just a bunch of lying bitches. Me too is a jok...</td>\n      <td>1</td>\n      <td>0</td>\n    </tr>\n    <tr>\n      <th>21</th>\n      <td>It's not worth a false rape allegation. Better...</td>\n      <td>1</td>\n      <td>0</td>\n    </tr>\n    <tr>\n      <th>19</th>\n      <td>If she banged a random dude after an hour thou...</td>\n      <td>1</td>\n      <td>0</td>\n    </tr>\n    <tr>\n      <th>17</th>\n      <td>I don’t see how this is relevant to men’s rights.</td>\n      <td>0</td>\n      <td>0</td>\n    </tr>\n    <tr>\n      <th>15</th>\n      <td>I don't see the evidence that this is as a fun...</td>\n      <td>0</td>\n      <td>0</td>\n    </tr>\n    <tr>\n      <th>14</th>\n      <td>Hygiene is probably the culprit.</td>\n      <td>0</td>\n      <td>0</td>\n    </tr>\n    <tr>\n      <th>36</th>\n      <td>To be fair, he couldn’t stand marriage more th...</td>\n      <td>0</td>\n      <td>0</td>\n    </tr>\n    <tr>\n      <th>4</th>\n      <td>All femoids are worthless whores and deserve e...</td>\n      <td>1</td>\n      <td>0</td>\n    </tr>\n    <tr>\n      <th>43</th>\n      <td>You hit the nail right on the head.</td>\n      <td>0</td>\n      <td>0</td>\n    </tr>\n    <tr>\n      <th>1</th>\n      <td>A fat ugly bitch like that should be grateful ...</td>\n      <td>1</td>\n      <td>0</td>\n    </tr>\n    <tr>\n      <th>7</th>\n      <td>Cope. She was a giant whore who fucked a long ...</td>\n      <td>1</td>\n      <td>0</td>\n    </tr>\n    <tr>\n      <th>2</th>\n      <td>A modern solution to a modern problem.</td>\n      <td>0</td>\n      <td>0</td>\n    </tr>\n    <tr>\n      <th>5</th>\n      <td>And they are all whores that do anything to ge...</td>\n      <td>1</td>\n      <td>0</td>\n    </tr>\n    <tr>\n      <th>3</th>\n      <td>A whore with clearly defined pricing</td>\n      <td>1</td>\n      <td>0</td>\n    </tr>\n    <tr>\n      <th>33</th>\n      <td>They would plead the 5th and demand a safe spa...</td>\n      <td>0</td>\n      <td>1</td>\n    </tr>\n    <tr>\n      <th>37</th>\n      <td>Treat a whore like a lady, and treat a lady li...</td>\n      <td>1</td>\n      <td>1</td>\n    </tr>\n    <tr>\n      <th>38</th>\n      <td>Unhygenic shit and fucking a bitch who is chea...</td>\n      <td>1</td>\n      <td>1</td>\n    </tr>\n    <tr>\n      <th>30</th>\n      <td>Stick a fork in this dumb old demented bitch. ...</td>\n      <td>1</td>\n      <td>1</td>\n    </tr>\n    <tr>\n      <th>29</th>\n      <td>Simply put, women tend to destroy men's confid...</td>\n      <td>1</td>\n      <td>1</td>\n    </tr>\n    <tr>\n      <th>27</th>\n      <td>No, I do not have a penis.</td>\n      <td>0</td>\n      <td>1</td>\n    </tr>\n    <tr>\n      <th>13</th>\n      <td>Horrible? They get sex and relationships all t...</td>\n      <td>0</td>\n      <td>1</td>\n    </tr>\n    <tr>\n      <th>6</th>\n      <td>By the time a bitch sees your dick in person t...</td>\n      <td>1</td>\n      <td>1</td>\n    </tr>\n    <tr>\n      <th>20</th>\n      <td>It seems like the definition of a strong indep...</td>\n      <td>1</td>\n      <td>1</td>\n    </tr>\n    <tr>\n      <th>35</th>\n      <td>Throw me in the pool of acid</td>\n      <td>0</td>\n      <td>1</td>\n    </tr>\n    <tr>\n      <th>0</th>\n      <td>***\"Most whores are just honest women. Most wo...</td>\n      <td>1</td>\n      <td>1</td>\n    </tr>\n    <tr>\n      <th>42</th>\n      <td>You LTRed a cheating whore. But now it's over,...</td>\n      <td>1</td>\n      <td>2</td>\n    </tr>\n    <tr>\n      <th>46</th>\n      <td>a loudmouthed criminal nigger bitch</td>\n      <td>1</td>\n      <td>2</td>\n    </tr>\n    <tr>\n      <th>45</th>\n      <td>[USER] Yay!!!!! the more the merrier!!!</td>\n      <td>0</td>\n      <td>2</td>\n    </tr>\n    <tr>\n      <th>41</th>\n      <td>With a prostitute, nobody is getting hurt. Mos...</td>\n      <td>1</td>\n      <td>2</td>\n    </tr>\n    <tr>\n      <th>44</th>\n      <td>Yup. Absolute crickets from the media and femi...</td>\n      <td>1</td>\n      <td>2</td>\n    </tr>\n    <tr>\n      <th>39</th>\n      <td>Whore's are too expensive. Get a pocket pussy ...</td>\n      <td>1</td>\n      <td>2</td>\n    </tr>\n    <tr>\n      <th>24</th>\n      <td>Love is blind. Lust has 20/10 vision. :)</td>\n      <td>0</td>\n      <td>2</td>\n    </tr>\n    <tr>\n      <th>25</th>\n      <td>Men can easily build families in their thirties.</td>\n      <td>0</td>\n      <td>2</td>\n    </tr>\n    <tr>\n      <th>16</th>\n      <td>I don’t hate women at all</td>\n      <td>0</td>\n      <td>2</td>\n    </tr>\n    <tr>\n      <th>12</th>\n      <td>Fucking bitches willing to die to satisfie chad.</td>\n      <td>1</td>\n      <td>2</td>\n    </tr>\n    <tr>\n      <th>10</th>\n      <td>FUCK HER IN THE WOODS! BITCHES LOVE THAT SHIT!</td>\n      <td>1</td>\n      <td>2</td>\n    </tr>\n    <tr>\n      <th>8</th>\n      <td>Damn, these bitches are ugly as fuck!</td>\n      <td>1</td>\n      <td>2</td>\n    </tr>\n    <tr>\n      <th>31</th>\n      <td>That would make abortion rights a little more ...</td>\n      <td>0</td>\n      <td>3</td>\n    </tr>\n    <tr>\n      <th>23</th>\n      <td>Lock that bitch up in a mental asylum, and fast.</td>\n      <td>1</td>\n      <td>3</td>\n    </tr>\n    <tr>\n      <th>9</th>\n      <td>Even as a female...this makes laugh.😂😂😂</td>\n      <td>0</td>\n      <td>3</td>\n    </tr>\n    <tr>\n      <th>48</th>\n      <td>😂 Oh nooo. It's 2021. Fit and no children are ...</td>\n      <td>0</td>\n      <td>3</td>\n    </tr>\n    <tr>\n      <th>11</th>\n      <td>Fix the holes and slap a turbo on that bitch</td>\n      <td>1</td>\n      <td>4</td>\n    </tr>\n    <tr>\n      <th>32</th>\n      <td>The price you pay for equality.</td>\n      <td>0</td>\n      <td>4</td>\n    </tr>\n  </tbody>\n</table>\n</div>"
     },
     "execution_count": 24,
     "metadata": {},
     "output_type": "execute_result"
    }
   ],
   "source": [
    "# Texts that annotators agree/disagree the most\n",
    "aug_v2 = aug.copy()\n",
    "aug_v2 = aug_v2[aug_v2.columns[~aug_v2.columns.str.contains('B') & ~aug_v2.columns.isin(['avr_label_A'])]] # keep only students' annotations for task A\n",
    "# if external = 1 then subtract row sum from 15 to find count of disagreements, if external = 0 then the row sum is the count of disagreements\n",
    "aug_v2['disagreements'] = abs(15 * aug_v2['label'] - aug_v2[aug_v2.columns[aug_v2.columns.str.contains('A')]].sum(axis=1)) # sum in context of row\n",
    "aug_v2[['text', 'label', 'disagreements']].sort_values(by=['disagreements'])"
   ]
  },
  {
   "cell_type": "markdown",
   "id": "7498d3de",
   "metadata": {},
   "source": [
    "We notice that there are 20 comments for which the annotators agree with the gold annotations. The texts for which the set of annotators disagree the most are 2 and consist of 4 disagreements in total."
   ]
  },
  {
   "cell_type": "markdown",
   "id": "cf14c088",
   "metadata": {},
   "source": [
    "### 3.\n",
    "To select the most reliable coders, we are going to check the disagreement dataframe:"
   ]
  },
  {
   "cell_type": "code",
   "execution_count": 25,
   "id": "f3466751",
   "metadata": {},
   "outputs": [
    {
     "data": {
      "text/plain": "  annotator  agreement     kappa\n0  f3342208   1.000000  1.000000\n1  f3352201   1.000000  1.000000\n2  f3352202   1.000000  1.000000\n9  f3352213   0.979592  0.958084\n5  f3352206   0.959184  0.916808",
      "text/html": "<div>\n<style scoped>\n    .dataframe tbody tr th:only-of-type {\n        vertical-align: middle;\n    }\n\n    .dataframe tbody tr th {\n        vertical-align: top;\n    }\n\n    .dataframe thead th {\n        text-align: right;\n    }\n</style>\n<table border=\"1\" class=\"dataframe\">\n  <thead>\n    <tr style=\"text-align: right;\">\n      <th></th>\n      <th>annotator</th>\n      <th>agreement</th>\n      <th>kappa</th>\n    </tr>\n  </thead>\n  <tbody>\n    <tr>\n      <th>0</th>\n      <td>f3342208</td>\n      <td>1.000000</td>\n      <td>1.000000</td>\n    </tr>\n    <tr>\n      <th>1</th>\n      <td>f3352201</td>\n      <td>1.000000</td>\n      <td>1.000000</td>\n    </tr>\n    <tr>\n      <th>2</th>\n      <td>f3352202</td>\n      <td>1.000000</td>\n      <td>1.000000</td>\n    </tr>\n    <tr>\n      <th>9</th>\n      <td>f3352213</td>\n      <td>0.979592</td>\n      <td>0.958084</td>\n    </tr>\n    <tr>\n      <th>5</th>\n      <td>f3352206</td>\n      <td>0.959184</td>\n      <td>0.916808</td>\n    </tr>\n  </tbody>\n</table>\n</div>"
     },
     "execution_count": 25,
     "metadata": {},
     "output_type": "execute_result"
    }
   ],
   "source": [
    "top_coders = agr.sort_values(by=['agreement'], ascending=False).head(5)\n",
    "top_coders"
   ]
  },
  {
   "cell_type": "code",
   "execution_count": 26,
   "id": "ac3e9201",
   "metadata": {},
   "outputs": [
    {
     "data": {
      "text/plain": "                                                text  source  A  B\n0  That isn't anywhere in the story. You're grasp...  reddit  0  0\n1  we are calling it technoprepping. Move all you...     gab  0  0\n2  \"Interactive map of US military incursions out...     gab  0  0\n3  Just FYI, \"water proofing\" isn't a feature you...     gab  0  0\n4  Hi all, can you direct me to where I can join ...     gab  0  0",
      "text/html": "<div>\n<style scoped>\n    .dataframe tbody tr th:only-of-type {\n        vertical-align: middle;\n    }\n\n    .dataframe tbody tr th {\n        vertical-align: top;\n    }\n\n    .dataframe thead th {\n        text-align: right;\n    }\n</style>\n<table border=\"1\" class=\"dataframe\">\n  <thead>\n    <tr style=\"text-align: right;\">\n      <th></th>\n      <th>text</th>\n      <th>source</th>\n      <th>A</th>\n      <th>B</th>\n    </tr>\n  </thead>\n  <tbody>\n    <tr>\n      <th>0</th>\n      <td>That isn't anywhere in the story. You're grasp...</td>\n      <td>reddit</td>\n      <td>0</td>\n      <td>0</td>\n    </tr>\n    <tr>\n      <th>1</th>\n      <td>we are calling it technoprepping. Move all you...</td>\n      <td>gab</td>\n      <td>0</td>\n      <td>0</td>\n    </tr>\n    <tr>\n      <th>2</th>\n      <td>\"Interactive map of US military incursions out...</td>\n      <td>gab</td>\n      <td>0</td>\n      <td>0</td>\n    </tr>\n    <tr>\n      <th>3</th>\n      <td>Just FYI, \"water proofing\" isn't a feature you...</td>\n      <td>gab</td>\n      <td>0</td>\n      <td>0</td>\n    </tr>\n    <tr>\n      <th>4</th>\n      <td>Hi all, can you direct me to where I can join ...</td>\n      <td>gab</td>\n      <td>0</td>\n      <td>0</td>\n    </tr>\n  </tbody>\n</table>\n</div>"
     },
     "execution_count": 26,
     "metadata": {},
     "output_type": "execute_result"
    }
   ],
   "source": [
    "final = pd.DataFrame()\n",
    "for student in top_coders['annotator'].tolist():\n",
    "    curr = acc[student]\n",
    "    curr = curr[curr['source'] != 'external'] # discard external sources\n",
    "    final = pd.concat([final, curr])\n",
    "final = final.drop_duplicates(subset=['text']) # drop duplicate texts\n",
    "final.head()"
   ]
  },
  {
   "cell_type": "code",
   "execution_count": 27,
   "id": "65319b0b",
   "metadata": {},
   "outputs": [
    {
     "data": {
      "text/plain": "<Figure size 640x480 with 1 Axes>",
      "image/png": "[encoded data removed]"
     },
     "metadata": {},
     "output_type": "display_data"
    }
   ],
   "source": [
    "# Plotting : Final Dataset | Task A Distribution\n",
    "plot = final['A'].value_counts().sort_index().plot(kind='bar', title='Final Dataset | Task A Distribution', rot=0, color=colors)\n",
    "\n",
    "i = 0\n",
    "for rect in plot.patches:\n",
    "    x_value = rect.get_x() + rect.get_width() / 2\n",
    "    y_value = rect.get_height() - 18\n",
    "    plt.annotate(final['A'].value_counts()[i], xy = (x_value, y_value), ha='center', fontsize=12, color='black')\n",
    "    i += 1"
   ]
  },
  {
   "cell_type": "code",
   "execution_count": 28,
   "id": "f8adceea",
   "metadata": {},
   "outputs": [
    {
     "data": {
      "text/plain": "<Figure size 640x480 with 1 Axes>",
      "image/png": "[encoded data removed]"
     },
     "metadata": {},
     "output_type": "display_data"
    }
   ],
   "source": [
    "# Plotting : Final Dataset | Task B Distribution\n",
    "plot = final['B'].value_counts().sort_index().plot(kind='bar', title='Final Dataset | Task B Distribution', rot=0, color=colors)\n",
    "\n",
    "i = 0\n",
    "for rect in plot.patches:\n",
    "    x_value = rect.get_x() + rect.get_width() / 2\n",
    "    y_value = rect.get_height() + 2\n",
    "    plt.annotate(final['B'].value_counts()[i], xy = (x_value, y_value), ha='center', fontsize=12, color='black')\n",
    "    i += 1"
   ]
  },
  {
   "cell_type": "code",
   "execution_count": 29,
   "id": "90b98c55",
   "metadata": {},
   "outputs": [],
   "source": [
    "final.to_csv('./3352209_final.csv', index=False)"
   ]
  }
 ],
 "metadata": {
  "kernelspec": {
   "display_name": "Python 3 (ipykernel)",
   "language": "python",
   "name": "python3"
  },
  "language_info": {
   "codemirror_mode": {
    "name": "ipython",
    "version": 3
   },
   "file_extension": ".py",
   "mimetype": "text/x-python",
   "name": "python",
   "nbconvert_exporter": "python",
   "pygments_lexer": "ipython3",
   "version": "3.8.13"
  }
 },
 "nbformat": 4,
 "nbformat_minor": 5
}
