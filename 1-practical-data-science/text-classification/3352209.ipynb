{
 "cells": [
  {
   "cell_type": "code",
   "execution_count": 2,
   "metadata": {
    "collapsed": true
   },
   "outputs": [],
   "source": [
    "import os\n",
    "import numpy as np\n",
    "import pandas as pd\n",
    "import xml.etree.ElementTree as XMLTree\n",
    "\n",
    "import matplotlib.pyplot as plt\n",
    "\n",
    "from skimage import io\n",
    "from skimage import color\n",
    "from skimage.transform import resize\n",
    "\n",
    "from sklearn import metrics\n",
    "from sklearn.metrics import confusion_matrix\n",
    "from sklearn.utils import compute_class_weight\n",
    "from sklearn.model_selection import train_test_split\n",
    "\n",
    "import tensorflow as tf\n",
    "from tensorflow.keras import layers\n",
    "from tensorflow.keras import models"
   ]
  },
  {
   "cell_type": "markdown",
   "source": [
    "## Part 1 | Data Processing\n",
    "---"
   ],
   "metadata": {
    "collapsed": false
   }
  },
  {
   "cell_type": "markdown",
   "source": [
    "The data was downloaded and stored under the `data/` folder of the project's directory. Two sub-folders were created, namely `xml/` and `img/` for storing project's respective data types. Last but not least, the TM `.csv` file was stored under the same directory as well.\n",
    "\n",
    "We will approach the data structuring of the project as follows:\n",
    "- load the `.csv` metadata file and keep just the TM and date columns into `df_TM` dataframe\n",
    "- traverse `.xml` files, extract respective image's text and store the filename, TM and corpus data for every file\n",
    "- transform the above stored information into a new dataframe, `df_corpus`\n",
    "- load images into `df_img` along with their TM info\n",
    "- merge all the above dataframes starting from `df_corpus` to `df_img` on file name and then `df_TM` on TM label\n",
    "\n",
    "We start the `.csv` metadata file:"
   ],
   "metadata": {
    "collapsed": false
   }
  },
  {
   "cell_type": "code",
   "execution_count": 3,
   "outputs": [
    {
     "data": {
      "text/plain": "  TM_Number Date_notBefore Date_notAfter Date_when\n0         1            NaN           NaN      -154\n1        10            NaN           NaN      -129\n2       100            NaN           NaN      -125\n3      1000            NaN           NaN      -259\n4       101            NaN           NaN      -126",
      "text/html": "<div>\n<style scoped>\n    .dataframe tbody tr th:only-of-type {\n        vertical-align: middle;\n    }\n\n    .dataframe tbody tr th {\n        vertical-align: top;\n    }\n\n    .dataframe thead th {\n        text-align: right;\n    }\n</style>\n<table border=\"1\" class=\"dataframe\">\n  <thead>\n    <tr style=\"text-align: right;\">\n      <th></th>\n      <th>TM_Number</th>\n      <th>Date_notBefore</th>\n      <th>Date_notAfter</th>\n      <th>Date_when</th>\n    </tr>\n  </thead>\n  <tbody>\n    <tr>\n      <th>0</th>\n      <td>1</td>\n      <td>NaN</td>\n      <td>NaN</td>\n      <td>-154</td>\n    </tr>\n    <tr>\n      <th>1</th>\n      <td>10</td>\n      <td>NaN</td>\n      <td>NaN</td>\n      <td>-129</td>\n    </tr>\n    <tr>\n      <th>2</th>\n      <td>100</td>\n      <td>NaN</td>\n      <td>NaN</td>\n      <td>-125</td>\n    </tr>\n    <tr>\n      <th>3</th>\n      <td>1000</td>\n      <td>NaN</td>\n      <td>NaN</td>\n      <td>-259</td>\n    </tr>\n    <tr>\n      <th>4</th>\n      <td>101</td>\n      <td>NaN</td>\n      <td>NaN</td>\n      <td>-126</td>\n    </tr>\n  </tbody>\n</table>\n</div>"
     },
     "execution_count": 3,
     "metadata": {},
     "output_type": "execute_result"
    }
   ],
   "source": [
    "# Read TM .csv file\n",
    "df_TM = pd.read_csv('data/TM_Date_Place.csv', low_memory=False)\n",
    "df_TM = df_TM[['TM_Number', 'Date_notBefore', 'Date_notAfter', 'Date_when']] # keep only needed columns\n",
    "df_TM.head()"
   ],
   "metadata": {
    "collapsed": false
   }
  },
  {
   "cell_type": "markdown",
   "source": [
    "We move on to the corpus of the `.xml` files:"
   ],
   "metadata": {
    "collapsed": false
   }
  },
  {
   "cell_type": "code",
   "execution_count": 4,
   "outputs": [
    {
     "data": {
      "text/plain": "                               file     TM  \\\n0  10545_columbia.apis.p244.f.0.600  10545   \n1  10546_columbia.apis.p246.f.0.600  10546   \n2  10547_columbia.apis.p248.f.0.600  10547   \n3  10548_columbia.apis.p253.f.0.600  10548   \n4  10549_columbia.apis.p258.f.0.600  10549   \n\n                                              corpus  \n0  ΑΣΚΛΗΠΙΑΔΗΙΒΑΣΙΛΙΚΩΙΓΡΑΜΜΑ̣ΤΙ̣ΠΑΡΑΜΑΡΣΙ̣ΣΟΥΧΟΥ...  \n1  [? ?]ΑΣΚΛΗΠΙΑΔΗΙΤΩΙΔΙΟΙΚΗΤΗΙ[? ?]ΧΑΙΡΕΙΝ[-----...  \n2  [-----]Τ̣ΗΙΓΕΓΥΜ̣Ν̣ΑΣΙΑΡΧΗΚ̣ΟΤΕΙΚ̣[------][ΠΑΤ...  \n3  [-----]ΜΑΙΩΙΒΑΣΙΛΓΡΑΑΡΠΟΛΜΕΡΙΔΟΣ[----]Τ̣ΑΑΡΜΙΥ...  \n4  ΑΝΤ[ΙΓΡ](ΑΦΟΝ)Χ̣[ΕΙΡΟΓΡ]Α̣ΦΟΥΚΛΑΥΔΙΟΣΚΑΛΛΙΝΙΚΟ...  ",
      "text/html": "<div>\n<style scoped>\n    .dataframe tbody tr th:only-of-type {\n        vertical-align: middle;\n    }\n\n    .dataframe tbody tr th {\n        vertical-align: top;\n    }\n\n    .dataframe thead th {\n        text-align: right;\n    }\n</style>\n<table border=\"1\" class=\"dataframe\">\n  <thead>\n    <tr style=\"text-align: right;\">\n      <th></th>\n      <th>file</th>\n      <th>TM</th>\n      <th>corpus</th>\n    </tr>\n  </thead>\n  <tbody>\n    <tr>\n      <th>0</th>\n      <td>10545_columbia.apis.p244.f.0.600</td>\n      <td>10545</td>\n      <td>ΑΣΚΛΗΠΙΑΔΗΙΒΑΣΙΛΙΚΩΙΓΡΑΜΜΑ̣ΤΙ̣ΠΑΡΑΜΑΡΣΙ̣ΣΟΥΧΟΥ...</td>\n    </tr>\n    <tr>\n      <th>1</th>\n      <td>10546_columbia.apis.p246.f.0.600</td>\n      <td>10546</td>\n      <td>[? ?]ΑΣΚΛΗΠΙΑΔΗΙΤΩΙΔΙΟΙΚΗΤΗΙ[? ?]ΧΑΙΡΕΙΝ[-----...</td>\n    </tr>\n    <tr>\n      <th>2</th>\n      <td>10547_columbia.apis.p248.f.0.600</td>\n      <td>10547</td>\n      <td>[-----]Τ̣ΗΙΓΕΓΥΜ̣Ν̣ΑΣΙΑΡΧΗΚ̣ΟΤΕΙΚ̣[------][ΠΑΤ...</td>\n    </tr>\n    <tr>\n      <th>3</th>\n      <td>10548_columbia.apis.p253.f.0.600</td>\n      <td>10548</td>\n      <td>[-----]ΜΑΙΩΙΒΑΣΙΛΓΡΑΑΡΠΟΛΜΕΡΙΔΟΣ[----]Τ̣ΑΑΡΜΙΥ...</td>\n    </tr>\n    <tr>\n      <th>4</th>\n      <td>10549_columbia.apis.p258.f.0.600</td>\n      <td>10549</td>\n      <td>ΑΝΤ[ΙΓΡ](ΑΦΟΝ)Χ̣[ΕΙΡΟΓΡ]Α̣ΦΟΥΚΛΑΥΔΙΟΣΚΑΛΛΙΝΙΚΟ...</td>\n    </tr>\n  </tbody>\n</table>\n</div>"
     },
     "execution_count": 4,
     "metadata": {},
     "output_type": "execute_result"
    }
   ],
   "source": [
    "# Read .xml files\n",
    "data_dir = './data/xml/'\n",
    "all_files = os.listdir(data_dir)\n",
    "files, TM, corpus = [], [], []\n",
    "for file in all_files: # traverse directory files\n",
    "    text = []\n",
    "    xml_tree = XMLTree.parse(data_dir + file)\n",
    "    for elem in xml_tree.iter(): # traverser xml object\n",
    "        if 'CONTENT' in elem.attrib: # string corpus under CONTENT tag\n",
    "            curr = elem.attrib['CONTENT']\n",
    "            if curr != '': # discard empty tags\n",
    "                text.append(curr)\n",
    "    TM.append(file.split('_')[0]) # TM of object\n",
    "    files.append(file.split('.xml')[0].split('.jpg')[0]) # file name\n",
    "    corpus.append(''.join(text)) # corpus of object\n",
    "\n",
    "df_corpus = pd.DataFrame({\n",
    "    'file': files,\n",
    "    'TM': TM,\n",
    "    'corpus': corpus\n",
    "})\n",
    "df_corpus.head()"
   ],
   "metadata": {
    "collapsed": false
   }
  },
  {
   "cell_type": "markdown",
   "source": [
    "To read the images of the project we will utilize the function `read_image`. The function reads an image, converts it to the grayscale color space and resizes it to a `200x200` format:"
   ],
   "metadata": {
    "collapsed": false
   }
  },
  {
   "cell_type": "code",
   "execution_count": 5,
   "outputs": [],
   "source": [
    "def read_image(path: str, h: int=200, w: int=200) -> list:\n",
    "\n",
    "    \"\"\"\n",
    "    Read and return a (h, w) array of the image from given directory.\n",
    "\n",
    "    PARAMETERS\n",
    "        @ path: string of directory\n",
    "        @ h: height of desired image resize\n",
    "        @ w: width of desired image resize\n",
    "        @ color: color space conversion code\n",
    "\n",
    "    RETURNS\n",
    "        (h, w) array of image\n",
    "    \"\"\"\n",
    "\n",
    "    img = io.imread(path)\n",
    "    img = resize(img, (h, w), anti_aliasing=True)\n",
    "    img = color.rgb2gray(img[:, :, :3]) # discard alpha (transparency) channel, function expect a 3-dimension RGB image\n",
    "    return img"
   ],
   "metadata": {
    "collapsed": false
   }
  },
  {
   "cell_type": "markdown",
   "source": [
    "We then read the images into a new dataframe:"
   ],
   "metadata": {
    "collapsed": false
   }
  },
  {
   "cell_type": "code",
   "execution_count": 6,
   "outputs": [
    {
     "data": {
      "text/plain": "                               file     TM  \\\n0  10545_columbia.apis.p244.f.0.600  10545   \n1  10546_columbia.apis.p246.f.0.600  10546   \n2  10547_columbia.apis.p248.f.0.600  10547   \n3  10548_columbia.apis.p253.f.0.600  10548   \n4  10549_columbia.apis.p258.f.0.600  10549   \n\n                                               image  \n0  [[0.5334817612127536, 0.5317219513713985, 0.53...  \n1  [[1.0, 1.0, 1.0, 1.0, 1.0, 1.0, 1.0, 1.0, 1.0,...  \n2  [[0.5565292344553376, 0.543096439712372, 0.538...  \n3  [[1.0, 1.0, 1.0, 1.0, 1.0, 1.0, 1.0, 0.9999991...  \n4  [[1.0, 0.9999704221032993, 0.9982836217819988,...  ",
      "text/html": "<div>\n<style scoped>\n    .dataframe tbody tr th:only-of-type {\n        vertical-align: middle;\n    }\n\n    .dataframe tbody tr th {\n        vertical-align: top;\n    }\n\n    .dataframe thead th {\n        text-align: right;\n    }\n</style>\n<table border=\"1\" class=\"dataframe\">\n  <thead>\n    <tr style=\"text-align: right;\">\n      <th></th>\n      <th>file</th>\n      <th>TM</th>\n      <th>image</th>\n    </tr>\n  </thead>\n  <tbody>\n    <tr>\n      <th>0</th>\n      <td>10545_columbia.apis.p244.f.0.600</td>\n      <td>10545</td>\n      <td>[[0.5334817612127536, 0.5317219513713985, 0.53...</td>\n    </tr>\n    <tr>\n      <th>1</th>\n      <td>10546_columbia.apis.p246.f.0.600</td>\n      <td>10546</td>\n      <td>[[1.0, 1.0, 1.0, 1.0, 1.0, 1.0, 1.0, 1.0, 1.0,...</td>\n    </tr>\n    <tr>\n      <th>2</th>\n      <td>10547_columbia.apis.p248.f.0.600</td>\n      <td>10547</td>\n      <td>[[0.5565292344553376, 0.543096439712372, 0.538...</td>\n    </tr>\n    <tr>\n      <th>3</th>\n      <td>10548_columbia.apis.p253.f.0.600</td>\n      <td>10548</td>\n      <td>[[1.0, 1.0, 1.0, 1.0, 1.0, 1.0, 1.0, 0.9999991...</td>\n    </tr>\n    <tr>\n      <th>4</th>\n      <td>10549_columbia.apis.p258.f.0.600</td>\n      <td>10549</td>\n      <td>[[1.0, 0.9999704221032993, 0.9982836217819988,...</td>\n    </tr>\n  </tbody>\n</table>\n</div>"
     },
     "execution_count": 6,
     "metadata": {},
     "output_type": "execute_result"
    }
   ],
   "source": [
    "# Read images\n",
    "files, TM, images = [], [], []\n",
    "data_dir = './data/img/'\n",
    "for img_path in os.listdir(data_dir):\n",
    "    curr = read_image(f\"{data_dir}/{img_path}\")\n",
    "    images.append(curr) # image\n",
    "    TM.append(img_path.split('_')[0]) # TM of image\n",
    "    files.append(img_path.split('.xml')[0].split('.jpg')[0]) # name of image file\n",
    "\n",
    "df_img = pd.DataFrame({\n",
    "    'file': files,\n",
    "    'TM': TM,\n",
    "    'image': images\n",
    "})\n",
    "df_img.head()"
   ],
   "metadata": {
    "collapsed": false
   }
  },
  {
   "cell_type": "markdown",
   "source": [
    "As a last step we will combine the above dataframes:"
   ],
   "metadata": {
    "collapsed": false
   }
  },
  {
   "cell_type": "code",
   "execution_count": 7,
   "outputs": [],
   "source": [
    "# Merge dataframes\n",
    "df = df_corpus.merge(df_img, left_on='file', right_on='file', suffixes=('', '_y')) # merge image and corpus on file name\n",
    "df = df.merge(df_TM, left_on='TM', right_on='TM_Number') # merge images and metadata on TM"
   ],
   "metadata": {
    "collapsed": false
   }
  },
  {
   "cell_type": "markdown",
   "source": [
    "Before creating the century column we will handle the missing dates for our images. Since we are using `Date_notBefore` as our final date column, we would need to impute/infer the respective missing values. In order to avoid assumptions, whenever a missing value is encountered in the `Date_notBefore` column, we will replace it with the year value found in `Date_when`. We chose not to use the `Date_notAfter` column, in order to keep the essence of *not before* column intact."
   ],
   "metadata": {
    "collapsed": false
   }
  },
  {
   "cell_type": "code",
   "execution_count": 8,
   "outputs": [
    {
     "data": {
      "text/plain": "                               file     TM  \\\n0  10545_columbia.apis.p244.f.0.600  10545   \n1  10546_columbia.apis.p246.f.0.600  10546   \n2  10547_columbia.apis.p248.f.0.600  10547   \n3  10548_columbia.apis.p253.f.0.600  10548   \n4  10549_columbia.apis.p258.f.0.600  10549   \n\n                                               image  \\\n0  [[0.5334817612127536, 0.5317219513713985, 0.53...   \n1  [[1.0, 1.0, 1.0, 1.0, 1.0, 1.0, 1.0, 1.0, 1.0,...   \n2  [[0.5565292344553376, 0.543096439712372, 0.538...   \n3  [[1.0, 1.0, 1.0, 1.0, 1.0, 1.0, 1.0, 0.9999991...   \n4  [[1.0, 0.9999704221032993, 0.9982836217819988,...   \n\n                                              corpus  century  \n0  ΑΣΚΛΗΠΙΑΔΗΙΒΑΣΙΛΙΚΩΙΓΡΑΜΜΑ̣ΤΙ̣ΠΑΡΑΜΑΡΣΙ̣ΣΟΥΧΟΥ...        1  \n1  [? ?]ΑΣΚΛΗΠΙΑΔΗΙΤΩΙΔΙΟΙΚΗΤΗΙ[? ?]ΧΑΙΡΕΙΝ[-----...        1  \n2  [-----]Τ̣ΗΙΓΕΓΥΜ̣Ν̣ΑΣΙΑΡΧΗΚ̣ΟΤΕΙΚ̣[------][ΠΑΤ...        1  \n3  [-----]ΜΑΙΩΙΒΑΣΙΛΓΡΑΑΡΠΟΛΜΕΡΙΔΟΣ[----]Τ̣ΑΑΡΜΙΥ...        2  \n4  ΑΝΤ[ΙΓΡ](ΑΦΟΝ)Χ̣[ΕΙΡΟΓΡ]Α̣ΦΟΥΚΛΑΥΔΙΟΣΚΑΛΛΙΝΙΚΟ...        2  ",
      "text/html": "<div>\n<style scoped>\n    .dataframe tbody tr th:only-of-type {\n        vertical-align: middle;\n    }\n\n    .dataframe tbody tr th {\n        vertical-align: top;\n    }\n\n    .dataframe thead th {\n        text-align: right;\n    }\n</style>\n<table border=\"1\" class=\"dataframe\">\n  <thead>\n    <tr style=\"text-align: right;\">\n      <th></th>\n      <th>file</th>\n      <th>TM</th>\n      <th>image</th>\n      <th>corpus</th>\n      <th>century</th>\n    </tr>\n  </thead>\n  <tbody>\n    <tr>\n      <th>0</th>\n      <td>10545_columbia.apis.p244.f.0.600</td>\n      <td>10545</td>\n      <td>[[0.5334817612127536, 0.5317219513713985, 0.53...</td>\n      <td>ΑΣΚΛΗΠΙΑΔΗΙΒΑΣΙΛΙΚΩΙΓΡΑΜΜΑ̣ΤΙ̣ΠΑΡΑΜΑΡΣΙ̣ΣΟΥΧΟΥ...</td>\n      <td>1</td>\n    </tr>\n    <tr>\n      <th>1</th>\n      <td>10546_columbia.apis.p246.f.0.600</td>\n      <td>10546</td>\n      <td>[[1.0, 1.0, 1.0, 1.0, 1.0, 1.0, 1.0, 1.0, 1.0,...</td>\n      <td>[? ?]ΑΣΚΛΗΠΙΑΔΗΙΤΩΙΔΙΟΙΚΗΤΗΙ[? ?]ΧΑΙΡΕΙΝ[-----...</td>\n      <td>1</td>\n    </tr>\n    <tr>\n      <th>2</th>\n      <td>10547_columbia.apis.p248.f.0.600</td>\n      <td>10547</td>\n      <td>[[0.5565292344553376, 0.543096439712372, 0.538...</td>\n      <td>[-----]Τ̣ΗΙΓΕΓΥΜ̣Ν̣ΑΣΙΑΡΧΗΚ̣ΟΤΕΙΚ̣[------][ΠΑΤ...</td>\n      <td>1</td>\n    </tr>\n    <tr>\n      <th>3</th>\n      <td>10548_columbia.apis.p253.f.0.600</td>\n      <td>10548</td>\n      <td>[[1.0, 1.0, 1.0, 1.0, 1.0, 1.0, 1.0, 0.9999991...</td>\n      <td>[-----]ΜΑΙΩΙΒΑΣΙΛΓΡΑΑΡΠΟΛΜΕΡΙΔΟΣ[----]Τ̣ΑΑΡΜΙΥ...</td>\n      <td>2</td>\n    </tr>\n    <tr>\n      <th>4</th>\n      <td>10549_columbia.apis.p258.f.0.600</td>\n      <td>10549</td>\n      <td>[[1.0, 0.9999704221032993, 0.9982836217819988,...</td>\n      <td>ΑΝΤ[ΙΓΡ](ΑΦΟΝ)Χ̣[ΕΙΡΟΓΡ]Α̣ΦΟΥΚΛΑΥΔΙΟΣΚΑΛΛΙΝΙΚΟ...</td>\n      <td>2</td>\n    </tr>\n  </tbody>\n</table>\n</div>"
     },
     "execution_count": 8,
     "metadata": {},
     "output_type": "execute_result"
    }
   ],
   "source": [
    "# Handle missing dates, create century column\n",
    "df['Date_when'] = df['Date_when'].fillna(0) # replace NaN with 0\n",
    "df['Date_notBefore'] = df['Date_notBefore'].fillna(0)\n",
    "\n",
    "df['Date_when'] = df['Date_when'].apply(lambda x: int(x.split('-')[0]) if len(str(x)) > 4 else int(x)) # clean dates, keep just the year\n",
    "df['Date_notBefore'] = df['Date_notBefore'].apply(lambda x: int(x.split('-')[0]) if len(str(x)) > 4 else int(x))\n",
    "\n",
    "df['date'] = np.where(df['Date_notBefore'] != 0, df['Date_notBefore'], df['Date_when']) # final date column\n",
    "df = df.drop(df[df['date'] == 0].index) # remove instances where year is not available and can not be imputed\n",
    "df['century'] = df['date'].apply(lambda x: x//100 + 1 if x >= 0 else -1 * (abs(x)//100) -1) # compute century\n",
    "\n",
    "df = df[['file', 'TM', 'image', 'corpus', 'century']] # keep just needed columns\n",
    "df.head()"
   ],
   "metadata": {
    "collapsed": false
   }
  },
  {
   "cell_type": "markdown",
   "source": [
    "We will then visualize the century distribution:"
   ],
   "metadata": {
    "collapsed": false
   }
  },
  {
   "cell_type": "code",
   "execution_count": 9,
   "outputs": [
    {
     "data": {
      "text/plain": "<Figure size 640x480 with 1 Axes>",
      "image/png": "[encoded data removed]"
     },
     "metadata": {},
     "output_type": "display_data"
    }
   ],
   "source": [
    "colors = ['tab:blue', 'tab:orange', 'tab:green', 'tab:red', 'tab:purple'] # global color list\n",
    "\n",
    "# sort index, necessary for the data label positioning\n",
    "plot = df['century'].value_counts().sort_index().plot(kind='bar', title='Century Frequency', rot=0, color=colors)\n",
    "\n",
    "i = 0 # data label counter\n",
    "# https://bit.ly/3DteCBO | place value annotations at the center of the bars\n",
    "for rect in plot.patches:\n",
    "    x_value = rect.get_x() + rect.get_width() / 2\n",
    "    y_value = rect.get_height() + 0.5\n",
    "    plt.annotate(list(df['century'].value_counts().sort_index())[i], xy = (x_value, y_value), ha='center', fontsize=12, color='black')\n",
    "    i += 1"
   ],
   "metadata": {
    "collapsed": false
   }
  },
  {
   "cell_type": "markdown",
   "source": [
    "We notice that centuries -2 and 7 have only one image instance, which in a classification task, does not cover the bare minimum requirements for training. Hence, we will remove these instances from our dataset:"
   ],
   "metadata": {
    "collapsed": false
   }
  },
  {
   "cell_type": "code",
   "execution_count": 10,
   "outputs": [
    {
     "name": "stdout",
     "output_type": "stream",
     "text": [
      "Total images after preprocessing: 101\n"
     ]
    }
   ],
   "source": [
    "# Discard unwanted instances\n",
    "df = df.drop(df[(df['century'] == -2) | (df['century'] == 7)].index).reset_index(drop=True)\n",
    "df = df.drop_duplicates('file') # discard duplicate files created from metadata joining\n",
    "\n",
    "print('Total images after preprocessing: {}'.format(len(df.index)))"
   ],
   "metadata": {
    "collapsed": false
   }
  },
  {
   "cell_type": "markdown",
   "source": [
    "## Part 2 | Century Classification with respect to Images\n",
    "---"
   ],
   "metadata": {
    "collapsed": false
   }
  },
  {
   "cell_type": "markdown",
   "source": [
    "We are going to use the Convolutional Neural Network that we developed during the previous assignment in order to classify the images with respect to their century.\n",
    "\n",
    "As a first step we will separate our datasets and compute the class weight of the centuries, a dictionary that will be passed to the training step of the algorithm and indicates from which class or classes the model ought to learn more. This step is important considering that our centuries are not balanced among the images:"
   ],
   "metadata": {
    "collapsed": false
   }
  },
  {
   "cell_type": "code",
   "execution_count": 11,
   "outputs": [],
   "source": [
    "# Prepare data for CNN input\n",
    "x_ds1 = np.array(df['image'].tolist()) # select just the 2d images\n",
    "_, y_ds1 = np.unique(df['century'], return_inverse=True)\n",
    "\n",
    "# Compute class weight\n",
    "class_weight_ds1 = compute_class_weight(class_weight='balanced', classes=np.unique(y_ds1), y=y_ds1)\n",
    "class_weight_ds1 = dict(enumerate(class_weight_ds1)) # https://bit.ly/3EU5NAL | numpy array to dictionary"
   ],
   "metadata": {
    "collapsed": false
   }
  },
  {
   "cell_type": "markdown",
   "source": [
    "We are going to split the data in 80% training and 20% testing. From the training data we will use 15% for validation:"
   ],
   "metadata": {
    "collapsed": false
   }
  },
  {
   "cell_type": "code",
   "execution_count": 12,
   "outputs": [
    {
     "name": "stdout",
     "output_type": "stream",
     "text": [
      "Dataset 1\n",
      "Train:       X=(68, 200, 200), y=(68,)\n",
      "Validation:  X=(12, 200, 200),  y=(12,)\n",
      "Test:        X=(21, 200, 200), y=(21,)\n"
     ]
    }
   ],
   "source": [
    "# Dataset 1\n",
    "X_train_ds1, X_test_ds1, y_train_ds1, y_test_ds1 = train_test_split(x_ds1, y_ds1, test_size=0.20, random_state=42) # split test\n",
    "X_train_ds1, X_val_ds1, y_train_ds1, y_val_ds1 = train_test_split(X_train_ds1, y_train_ds1, test_size=0.15, random_state=42) # split train, validation\n",
    "\n",
    "# Summary\n",
    "print('Dataset 1')\n",
    "print('Train:       X=%s, y=%s' % (X_train_ds1.shape, y_train_ds1.shape))\n",
    "print('Validation:  X=%s,  y=%s' % (X_val_ds1.shape, y_val_ds1.shape))\n",
    "print('Test:        X=%s, y=%s' % (X_test_ds1.shape, y_test_ds1.shape))"
   ],
   "metadata": {
    "collapsed": false
   }
  },
  {
   "cell_type": "markdown",
   "source": [
    "For the training procedure we will use the `input_fn` function, which basically receives X and y training data and returns PrefetchedDataset objects. The latter are Tensorflow objects that enable faster training, since the model can read the next-to-train batch of data while training the current batch. The batch size, which is set to 8, correspond to the number of images that will flow through the network before a back-propagation operation, and hence a fine-tuning of the weights, takes place. The batch size was set to 8 considering the fact that we do not have much training instances at our disposal."
   ],
   "metadata": {
    "collapsed": false
   }
  },
  {
   "cell_type": "code",
   "execution_count": 13,
   "outputs": [],
   "source": [
    "BATCH_SIZE = 8\n",
    "AUTOTUNE = tf.data.experimental.AUTOTUNE # size of prefetched data will be optimized at runtime\n",
    "\n",
    "def input_fn(X: np.ndarray, y: np.ndarray, batch_size: int=BATCH_SIZE):\n",
    "\n",
    "    \"\"\"\n",
    "    Receives X and y training data and transforms them in PrefetchDataset objects.\n",
    "    The data is shuffled and batched in the specified size.\n",
    "    tf.data.experimental.AUTOTUNE is used for calculating the size of prefetched data at runtime according to resource heuristics.\n",
    "\n",
    "    PARAMETERS\n",
    "        @ X: X training numpy array\n",
    "        @ y: y training numpy array\n",
    "        @ BATCH_SIZE: int corresponding to the training batch size\n",
    "\n",
    "    RETURNS\n",
    "        PrefetchedDataset object dataset\n",
    "    \"\"\"\n",
    "\n",
    "    # https://bit.ly/3uiStRi | shuffle, repeat, batch\n",
    "    curr_ds = tf.data.Dataset.from_tensor_slices((X, y)) # initialize dataset\n",
    "    curr_ds = curr_ds.shuffle(buffer_size=len(X_train_ds1)) # shuffle data, buffer size = maximum size of training data\n",
    "    curr_ds = curr_ds.repeat() # repeat indefinitely\n",
    "    curr_ds = curr_ds.batch(batch_size) # batch in specified size\n",
    "    curr_ds = curr_ds.prefetch(buffer_size=AUTOTUNE) # PrefetchDataset object\n",
    "    return curr_ds"
   ],
   "metadata": {
    "collapsed": false
   }
  },
  {
   "cell_type": "markdown",
   "source": [
    "We initialize the training and testing datastreams:"
   ],
   "metadata": {
    "collapsed": false
   }
  },
  {
   "cell_type": "code",
   "execution_count": 14,
   "outputs": [],
   "source": [
    "train_ds1 = input_fn(X_train_ds1, y_train_ds1, BATCH_SIZE) # PrefetchedDataset objects\n",
    "validation_ds1 = input_fn(X_val_ds1, y_val_ds1, BATCH_SIZE)\n",
    "test_ds1 = input_fn(X_test_ds1, y_test_ds1, BATCH_SIZE)"
   ],
   "metadata": {
    "collapsed": false
   }
  },
  {
   "cell_type": "markdown",
   "source": [
    "As mentioned above we will utilize the LeNet inspired model we developed during the second assignment of the course. Considering the small amount of image instances that our dataset holds, the two hidden layers seem enough, since adding more layers, and as a result more parameters, will enable over-fitting. For the same reason, we made the decision not to include Dropout layers. Last but not least, the loss function the training model is trying to minimize is the Sparse Categorical Cross Entropy, since our labels are not one-hot-encoded. We note that the last fully-connected layer of the network is set to the number of classes of the classification task, i.e. 7."
   ],
   "metadata": {
    "collapsed": false
   }
  },
  {
   "cell_type": "code",
   "execution_count": 15,
   "outputs": [],
   "source": [
    "def init_adam_model(summary: bool, nodes: int) -> models.Sequential:\n",
    "\n",
    "    \"\"\"\n",
    "    Sets up and returns a LeNet inspired CNN architecture.\n",
    "    Optimizer: Adam\n",
    "    Loss: Sparse Categorical Cross Entropy\n",
    "\n",
    "    PARAMETERS\n",
    "        @ summary: boolean, display model summary\n",
    "        @ nodes: number of nodes at the last fully-connected layer\n",
    "\n",
    "    RETURNS\n",
    "        keras sequential model\n",
    "    \"\"\"\n",
    "\n",
    "    # https://bit.ly/3Ummevd | LeNet architecture\n",
    "    model = models.Sequential()\n",
    "\n",
    "    model.add(layers.Conv2D(20, 5, activation='relu', padding='same', input_shape=(200, 200, 1)))\n",
    "    model.add(layers.MaxPooling2D(pool_size=(2, 2), strides=(2, 2)))\n",
    "\n",
    "    model.add(layers.Conv2D(50, 5, activation='relu', padding=\"same\"))\n",
    "    model.add(layers.MaxPooling2D(pool_size=(2, 2), strides=(2, 2)))\n",
    "\n",
    "    model.add(layers.Flatten())\n",
    "\n",
    "    model.add(layers.Dense(500, activation='relu'))\n",
    "\n",
    "    model.add(layers.Dense(100, activation='relu'))\n",
    "\n",
    "    model.add(layers.Dense(nodes, activation='softmax'))\n",
    "\n",
    "    model.compile(optimizer=tf.optimizers.Adam(learning_rate=0.001), loss=tf.keras.losses.sparse_categorical_crossentropy, metrics=['accuracy'])\n",
    "\n",
    "    if summary:\n",
    "        model.summary()\n",
    "\n",
    "    return model"
   ],
   "metadata": {
    "collapsed": false
   }
  },
  {
   "cell_type": "markdown",
   "source": [
    "We will also implement the following functions that help us visualize the learning curves of the training process and evaluates the model on the test set:"
   ],
   "metadata": {
    "collapsed": false
   }
  },
  {
   "cell_type": "code",
   "execution_count": 16,
   "outputs": [],
   "source": [
    "def summarize_diagnostics(history: tf.keras.callbacks.History) -> plt.figure :\n",
    "\n",
    "    \"\"\"\n",
    "    Plots training and validation learning curves.\n",
    "    Two subplots are created, each one of them comparing training/validation loss and accuracy respectively.\n",
    "\n",
    "    PARAMETERS\n",
    "        @ history: model history callback\n",
    "\n",
    "    RETURNS\n",
    "        a matplot figure consisting of two subplots, one for loss, one for accuracy\n",
    "\n",
    "    \"\"\"\n",
    "\n",
    "    plt.figure(figsize=(16, 8))\n",
    "    plt.suptitle('Training Curves')\n",
    "    plt.subplot(1, 2, 1) # plot loss\n",
    "    plt.title('Cross Entropy Loss')\n",
    "    plt.plot(history['loss'], color='tab:blue', label='train')\n",
    "    plt.plot(history['val_loss'], color='tab:orange', label='val')\n",
    "    plt.legend(loc='upper right')\n",
    "    plt.subplot(1, 2, 2) # plot accuracy\n",
    "    plt.title('Classification Accuracy')\n",
    "    plt.plot(history['accuracy'], color='tab:blue', label='train')\n",
    "    plt.plot(history['val_accuracy'], color='tab:orange', label='val')\n",
    "    plt.legend(loc='lower right')\n",
    "    return plt\n",
    "\n",
    "def model_evaluation(model: models.Sequential, test_ds, X_test: np.ndarray) -> None:\n",
    "\n",
    "    \"\"\"\n",
    "    Evaluates given model to given test set.\n",
    "    Prints test and evaluation metrics.\n",
    "\n",
    "    PARAMETERS\n",
    "        @ model: keras model that will be evaluated on given testing data\n",
    "        @ test_ds: PrefetchedDataset object corresponding to testing data X, y\n",
    "        @ X_test: numpy array corresponding to X testing data, used for calculating evaluations steps\n",
    "\n",
    "    RETURNS\n",
    "        None\n",
    "    \"\"\"\n",
    "\n",
    "    print('Test set evaluation metrics')\n",
    "    loss, accuracy = model.evaluate(test_ds, steps=X_test.shape[0]//BATCH_SIZE) # steps are given since our data is PrefetcedDataset objects!\n",
    "    print(\"Cross Entropy Loss: {:.2f}\".format(loss))\n",
    "    print(\"Accuracy: {:.2f}\".format(accuracy))\n",
    "\n",
    "def model_report(model: models.Sequential, history: tf.keras.callbacks.History, test_ds, X_test: np.ndarray) -> None:\n",
    "\n",
    "    \"\"\"\n",
    "    Wrapper function of summarize_diagnostics and model_evaluation functions.\n",
    "    Evaluates given model on testing data.\n",
    "    Plots learning curves for training and validation steps.\n",
    "\n",
    "    PARAMS\n",
    "        @ model: keras model that will be evaluated on given testing data\n",
    "        @ history: model history callback\n",
    "        @ test_ds: PrefetchedDataset object corresponding to testing data X, y\n",
    "        @ X_test: numpy array corresponding to X testing data, used for calculating evaluations steps\n",
    "\n",
    "    RETURNS\n",
    "        None\n",
    "    \"\"\"\n",
    "\n",
    "    plt = summarize_diagnostics(history)\n",
    "    plt.show()\n",
    "    model_evaluation(model, test_ds, X_test)"
   ],
   "metadata": {
    "collapsed": false
   }
  },
  {
   "cell_type": "markdown",
   "source": [
    "We will start the training process by initializing the CNN model:"
   ],
   "metadata": {
    "collapsed": false
   }
  },
  {
   "cell_type": "code",
   "execution_count": 17,
   "outputs": [
    {
     "name": "stdout",
     "output_type": "stream",
     "text": [
      "Model: \"sequential\"\n",
      "_________________________________________________________________\n",
      " Layer (type)                Output Shape              Param #   \n",
      "=================================================================\n",
      " conv2d (Conv2D)             (None, 200, 200, 20)      520       \n",
      "                                                                 \n",
      " max_pooling2d (MaxPooling2D  (None, 100, 100, 20)     0         \n",
      " )                                                               \n",
      "                                                                 \n",
      " conv2d_1 (Conv2D)           (None, 100, 100, 50)      25050     \n",
      "                                                                 \n",
      " max_pooling2d_1 (MaxPooling  (None, 50, 50, 50)       0         \n",
      " 2D)                                                             \n",
      "                                                                 \n",
      " flatten (Flatten)           (None, 125000)            0         \n",
      "                                                                 \n",
      " dense (Dense)               (None, 500)               62500500  \n",
      "                                                                 \n",
      " dense_1 (Dense)             (None, 100)               50100     \n",
      "                                                                 \n",
      " dense_2 (Dense)             (None, 7)                 707       \n",
      "                                                                 \n",
      "=================================================================\n",
      "Total params: 62,576,877\n",
      "Trainable params: 62,576,877\n",
      "Non-trainable params: 0\n",
      "_________________________________________________________________\n"
     ]
    }
   ],
   "source": [
    "model_ds1 = init_adam_model(summary=True, nodes=7) # 7 centuries"
   ],
   "metadata": {
    "collapsed": false
   }
  },
  {
   "cell_type": "markdown",
   "source": [
    "The model has 62 million trainable parameters. We move on to training the model for 50 epochs:"
   ],
   "metadata": {
    "collapsed": false
   }
  },
  {
   "cell_type": "code",
   "execution_count": 18,
   "outputs": [
    {
     "name": "stdout",
     "output_type": "stream",
     "text": [
      "Epoch 1/50\n",
      "8/8 [==============================] - 3s 347ms/step - loss: 3.8404 - accuracy: 0.1875 - val_loss: 1.8566 - val_accuracy: 0.2500\n",
      "Epoch 2/50\n",
      "8/8 [==============================] - 2s 302ms/step - loss: 1.9110 - accuracy: 0.3750 - val_loss: 1.9365 - val_accuracy: 0.3750\n",
      "Epoch 3/50\n",
      "8/8 [==============================] - 2s 282ms/step - loss: 1.5681 - accuracy: 0.6250 - val_loss: 1.8630 - val_accuracy: 0.3750\n",
      "Epoch 4/50\n",
      "8/8 [==============================] - 2s 300ms/step - loss: 1.7164 - accuracy: 0.7188 - val_loss: 1.6629 - val_accuracy: 0.3750\n",
      "Epoch 5/50\n",
      "8/8 [==============================] - 3s 328ms/step - loss: 0.8224 - accuracy: 0.8281 - val_loss: 3.1636 - val_accuracy: 0.3750\n",
      "Epoch 6/50\n",
      "8/8 [==============================] - 3s 338ms/step - loss: 0.4025 - accuracy: 0.7812 - val_loss: 1.6829 - val_accuracy: 0.6250\n",
      "Epoch 7/50\n",
      "8/8 [==============================] - 2s 305ms/step - loss: 0.3255 - accuracy: 0.9531 - val_loss: 6.1621 - val_accuracy: 0.2500\n",
      "Epoch 8/50\n",
      "8/8 [==============================] - 3s 352ms/step - loss: 0.4673 - accuracy: 0.9219 - val_loss: 1.4309 - val_accuracy: 0.5000\n",
      "Epoch 9/50\n",
      "8/8 [==============================] - 2s 302ms/step - loss: 0.4241 - accuracy: 0.9375 - val_loss: 2.7586 - val_accuracy: 0.3750\n",
      "Epoch 10/50\n",
      "8/8 [==============================] - 2s 297ms/step - loss: 0.1725 - accuracy: 0.9531 - val_loss: 2.6471 - val_accuracy: 0.6250\n",
      "Epoch 11/50\n",
      "8/8 [==============================] - 2s 311ms/step - loss: 0.1055 - accuracy: 0.9688 - val_loss: 3.2998 - val_accuracy: 0.3750\n",
      "Epoch 12/50\n",
      "8/8 [==============================] - 2s 304ms/step - loss: 0.0410 - accuracy: 1.0000 - val_loss: 3.9280 - val_accuracy: 0.5000\n",
      "Epoch 13/50\n",
      "8/8 [==============================] - 2s 300ms/step - loss: 0.0037 - accuracy: 1.0000 - val_loss: 5.6253 - val_accuracy: 0.5000\n",
      "Epoch 14/50\n",
      "8/8 [==============================] - 2s 292ms/step - loss: 4.8145e-04 - accuracy: 1.0000 - val_loss: 4.3522 - val_accuracy: 0.5000\n",
      "Epoch 15/50\n",
      "8/8 [==============================] - 3s 332ms/step - loss: 1.6585e-04 - accuracy: 1.0000 - val_loss: 5.4972 - val_accuracy: 0.5000\n",
      "Epoch 16/50\n",
      "8/8 [==============================] - 3s 327ms/step - loss: 5.3420e-05 - accuracy: 1.0000 - val_loss: 7.5684 - val_accuracy: 0.2500\n",
      "Epoch 17/50\n",
      "8/8 [==============================] - 3s 360ms/step - loss: 3.3024e-05 - accuracy: 1.0000 - val_loss: 7.3006 - val_accuracy: 0.3750\n",
      "Epoch 18/50\n",
      "8/8 [==============================] - 3s 363ms/step - loss: 2.3231e-05 - accuracy: 1.0000 - val_loss: 5.9864 - val_accuracy: 0.5000\n",
      "Epoch 19/50\n",
      "8/8 [==============================] - 3s 348ms/step - loss: 1.9414e-05 - accuracy: 1.0000 - val_loss: 3.8777 - val_accuracy: 0.6250\n",
      "Epoch 20/50\n",
      "8/8 [==============================] - 3s 341ms/step - loss: 1.3241e-05 - accuracy: 1.0000 - val_loss: 5.9166 - val_accuracy: 0.3750\n",
      "Epoch 21/50\n",
      "8/8 [==============================] - 3s 324ms/step - loss: 1.9057e-05 - accuracy: 1.0000 - val_loss: 5.9084 - val_accuracy: 0.3750\n",
      "Epoch 22/50\n",
      "8/8 [==============================] - 3s 359ms/step - loss: 1.2027e-05 - accuracy: 1.0000 - val_loss: 4.4515 - val_accuracy: 0.3750\n",
      "Epoch 23/50\n",
      "8/8 [==============================] - 3s 319ms/step - loss: 1.0933e-05 - accuracy: 1.0000 - val_loss: 2.4085 - val_accuracy: 0.6250\n",
      "Epoch 24/50\n",
      "8/8 [==============================] - 3s 343ms/step - loss: 1.4307e-05 - accuracy: 1.0000 - val_loss: 5.4706 - val_accuracy: 0.5000\n",
      "Epoch 25/50\n",
      "8/8 [==============================] - 3s 325ms/step - loss: 1.3943e-05 - accuracy: 1.0000 - val_loss: 3.3291 - val_accuracy: 0.6250\n",
      "Epoch 26/50\n",
      "8/8 [==============================] - 3s 338ms/step - loss: 1.5540e-05 - accuracy: 1.0000 - val_loss: 6.4044 - val_accuracy: 0.3750\n",
      "Epoch 27/50\n",
      "8/8 [==============================] - 3s 324ms/step - loss: 1.2159e-05 - accuracy: 1.0000 - val_loss: 4.2576 - val_accuracy: 0.5000\n",
      "Epoch 28/50\n",
      "8/8 [==============================] - 3s 318ms/step - loss: 6.6525e-06 - accuracy: 1.0000 - val_loss: 3.3123 - val_accuracy: 0.6250\n",
      "Epoch 29/50\n",
      "8/8 [==============================] - 3s 315ms/step - loss: 1.2679e-05 - accuracy: 1.0000 - val_loss: 6.4117 - val_accuracy: 0.5000\n",
      "Epoch 30/50\n",
      "8/8 [==============================] - 3s 313ms/step - loss: 1.0825e-05 - accuracy: 1.0000 - val_loss: 5.6441 - val_accuracy: 0.6250\n",
      "Epoch 31/50\n",
      "8/8 [==============================] - 2s 312ms/step - loss: 9.2421e-06 - accuracy: 1.0000 - val_loss: 4.2956 - val_accuracy: 0.6250\n",
      "Epoch 32/50\n",
      "8/8 [==============================] - 3s 328ms/step - loss: 1.0725e-05 - accuracy: 1.0000 - val_loss: 5.7673 - val_accuracy: 0.5000\n",
      "Epoch 33/50\n",
      "8/8 [==============================] - 3s 338ms/step - loss: 1.0821e-05 - accuracy: 1.0000 - val_loss: 4.6032 - val_accuracy: 0.6250\n",
      "Epoch 34/50\n",
      "8/8 [==============================] - 3s 315ms/step - loss: 8.4416e-06 - accuracy: 1.0000 - val_loss: 2.8120 - val_accuracy: 0.6250\n",
      "Epoch 35/50\n",
      "8/8 [==============================] - 2s 297ms/step - loss: 9.4729e-06 - accuracy: 1.0000 - val_loss: 5.6843 - val_accuracy: 0.6250\n",
      "Epoch 36/50\n",
      "8/8 [==============================] - 3s 399ms/step - loss: 8.9157e-06 - accuracy: 1.0000 - val_loss: 1.7395 - val_accuracy: 0.6250\n",
      "Epoch 37/50\n",
      "8/8 [==============================] - 3s 410ms/step - loss: 8.0048e-06 - accuracy: 1.0000 - val_loss: 6.0186 - val_accuracy: 0.3750\n",
      "Epoch 38/50\n",
      "8/8 [==============================] - 3s 380ms/step - loss: 9.3381e-06 - accuracy: 1.0000 - val_loss: 7.6524 - val_accuracy: 0.2500\n",
      "Epoch 39/50\n",
      "8/8 [==============================] - 3s 391ms/step - loss: 5.8029e-06 - accuracy: 1.0000 - val_loss: 3.3586 - val_accuracy: 0.5000\n",
      "Epoch 40/50\n",
      "8/8 [==============================] - 3s 393ms/step - loss: 7.5464e-06 - accuracy: 1.0000 - val_loss: 7.4228 - val_accuracy: 0.3750\n",
      "Epoch 41/50\n",
      "8/8 [==============================] - 3s 333ms/step - loss: 6.2833e-06 - accuracy: 1.0000 - val_loss: 5.5381 - val_accuracy: 0.5000\n",
      "Epoch 42/50\n",
      "8/8 [==============================] - 2s 306ms/step - loss: 1.1134e-05 - accuracy: 1.0000 - val_loss: 5.7990 - val_accuracy: 0.5000\n",
      "Epoch 43/50\n",
      "8/8 [==============================] - 2s 300ms/step - loss: 3.0420e-06 - accuracy: 1.0000 - val_loss: 5.2807 - val_accuracy: 0.6250\n",
      "Epoch 44/50\n",
      "8/8 [==============================] - 2s 314ms/step - loss: 8.9775e-06 - accuracy: 1.0000 - val_loss: 5.5547 - val_accuracy: 0.5000\n",
      "Epoch 45/50\n",
      "8/8 [==============================] - 2s 310ms/step - loss: 6.3738e-06 - accuracy: 1.0000 - val_loss: 4.5489 - val_accuracy: 0.3750\n",
      "Epoch 46/50\n",
      "8/8 [==============================] - 3s 317ms/step - loss: 6.1348e-06 - accuracy: 1.0000 - val_loss: 2.8658 - val_accuracy: 0.6250\n",
      "Epoch 47/50\n",
      "8/8 [==============================] - 2s 295ms/step - loss: 9.2934e-06 - accuracy: 1.0000 - val_loss: 4.6339 - val_accuracy: 0.6250\n",
      "Epoch 48/50\n",
      "8/8 [==============================] - 2s 295ms/step - loss: 2.7484e-06 - accuracy: 1.0000 - val_loss: 3.1099 - val_accuracy: 0.6250\n",
      "Epoch 49/50\n",
      "8/8 [==============================] - 2s 303ms/step - loss: 5.9862e-06 - accuracy: 1.0000 - val_loss: 4.0649 - val_accuracy: 0.5000\n",
      "Epoch 50/50\n",
      "8/8 [==============================] - 3s 318ms/step - loss: 7.5465e-06 - accuracy: 1.0000 - val_loss: 6.1121 - val_accuracy: 0.3750\n"
     ]
    }
   ],
   "source": [
    "model_train_ds1 = model_ds1.fit(\n",
    "    train_ds1,\n",
    "    epochs=50,\n",
    "    steps_per_epoch=X_train_ds1.shape[0]//BATCH_SIZE,\n",
    "    validation_data=validation_ds1,\n",
    "    validation_steps=X_val_ds1.shape[0]//BATCH_SIZE,\n",
    "    class_weight=class_weight_ds1\n",
    ")"
   ],
   "metadata": {
    "collapsed": false
   }
  },
  {
   "cell_type": "code",
   "execution_count": 19,
   "outputs": [
    {
     "data": {
      "text/plain": "<Figure size 1600x800 with 2 Axes>",
      "image/png": "[encoded data removed]"
     },
     "metadata": {},
     "output_type": "display_data"
    },
    {
     "name": "stdout",
     "output_type": "stream",
     "text": [
      "Test set evaluation metrics\n",
      "2/2 [==============================] - 0s 69ms/step - loss: 3.7819 - accuracy: 0.6875\n",
      "Cross Entropy Loss: 3.78\n",
      "Accuracy: 0.69\n"
     ]
    }
   ],
   "source": [
    "model_report(model_ds1, model_train_ds1.history, test_ds1, X_test_ds1)"
   ],
   "metadata": {
    "collapsed": false
   }
  },
  {
   "cell_type": "markdown",
   "source": [
    "The learning curves of the training process indicate clear over-fitting. We notice how both training lines have reached the minimum and maximum cross entropy loss and classification accuracy, respectively. We note the accuracy achieved on the test set, which barely crosses the 50% mark."
   ],
   "metadata": {
    "collapsed": false
   }
  },
  {
   "cell_type": "code",
   "execution_count": 20,
   "outputs": [
    {
     "name": "stdout",
     "output_type": "stream",
     "text": [
      "1/1 [==============================] - 0s 276ms/step\n"
     ]
    },
    {
     "data": {
      "text/plain": "<Figure size 800x800 with 2 Axes>",
      "image/png": "[encoded data removed]"
     },
     "metadata": {},
     "output_type": "display_data"
    }
   ],
   "source": [
    "predict_ds1 = model_ds1.predict(X_test_ds1) # prediction probabilities for every class\n",
    "y_predicted_ds1 = np.argmax(predict_ds1, axis=1) # https://bit.ly/3Vebalb | calculate max probability for every row = predicted class\n",
    "\n",
    "conf_matrix = confusion_matrix(y_test_ds1, y_predicted_ds1)\n",
    "cm_display = metrics.ConfusionMatrixDisplay(confusion_matrix = conf_matrix, display_labels=np.unique(df['century']))\n",
    "fig, ax = plt.subplots(figsize=(8, 8))\n",
    "cm_display.plot(ax=ax, cmap='BuGn')\n",
    "ax.set_title('Century Classification')\n",
    "ax.set_xlabel('predicted')\n",
    "ax.set_ylabel('true')\n",
    "plt.show()"
   ],
   "metadata": {
    "collapsed": false
   }
  },
  {
   "cell_type": "markdown",
   "source": [
    "Moving on to the confusion matrix, we notice that the model achieves the highest precision and recall scores for images coming from the 3rd BC, as well as the 4th AD centuries. The inadequate amount of data becomes apparent, especially for classes 1, 3 5 and 6 where only one support instance is present."
   ],
   "metadata": {
    "collapsed": false
   }
  },
  {
   "cell_type": "markdown",
   "source": [
    "## Part 3 | Century Classification with respect to Corpus\n",
    "---"
   ],
   "metadata": {
    "collapsed": false
   }
  },
  {
   "cell_type": "markdown",
   "source": [
    "We will first remove characters that do not correspond to usual alphabets:"
   ],
   "metadata": {
    "collapsed": false
   }
  },
  {
   "cell_type": "code",
   "execution_count": 21,
   "outputs": [],
   "source": [
    "df['corpus'] = df['corpus'].apply(lambda x: ''.join(e for e in x if e.isalnum()))\n",
    "df = df.drop(df[df['corpus'] == '' ].index)"
   ],
   "metadata": {
    "collapsed": false
   }
  },
  {
   "cell_type": "markdown",
   "source": [
    "We will split to training and testing:"
   ],
   "metadata": {
    "collapsed": false
   }
  },
  {
   "cell_type": "code",
   "execution_count": 22,
   "outputs": [],
   "source": [
    "X = df['corpus']\n",
    "y = df['century']\n",
    "\n",
    "X_train, X_test, Y_train, Y_test = train_test_split(X, y, test_size=0.20, random_state=42)"
   ],
   "metadata": {
    "collapsed": false
   }
  },
  {
   "cell_type": "markdown",
   "source": [
    "Since our corpus consist of single-string instances we will use n-grams to compute different length words:"
   ],
   "metadata": {
    "collapsed": false
   }
  },
  {
   "cell_type": "code",
   "execution_count": 23,
   "outputs": [],
   "source": [
    "from sklearn.feature_extraction.text import CountVectorizer\n",
    "\n",
    "cv = CountVectorizer(analyzer = 'char_wb', ngram_range=(2, 20))\n",
    "\n",
    "X_train_cv = cv.fit_transform(X_train)\n",
    "X_test_cv = cv.transform(X_test)"
   ],
   "metadata": {
    "collapsed": false
   }
  },
  {
   "cell_type": "markdown",
   "source": [
    "We will train a Naive Bayes classifier:"
   ],
   "metadata": {
    "collapsed": false
   }
  },
  {
   "cell_type": "code",
   "execution_count": 24,
   "outputs": [],
   "source": [
    "from sklearn.naive_bayes import MultinomialNB\n",
    "\n",
    "clf = MultinomialNB()\n",
    "\n",
    "clf.fit(X_train_cv, Y_train.ravel())\n",
    "\n",
    "y_pred = clf.predict(X_test_cv)"
   ],
   "metadata": {
    "collapsed": false
   }
  },
  {
   "cell_type": "code",
   "execution_count": 25,
   "outputs": [
    {
     "name": "stdout",
     "output_type": "stream",
     "text": [
      "F-1 score : 0.7\n"
     ]
    }
   ],
   "source": [
    "from sklearn.metrics import f1_score\n",
    "\n",
    "score = f1_score(Y_test, y_pred, average='micro')\n",
    "print('F-1 score : {}'.format(np.round(score,4)))"
   ],
   "metadata": {
    "collapsed": false
   }
  },
  {
   "cell_type": "code",
   "execution_count": 26,
   "outputs": [
    {
     "name": "stdout",
     "output_type": "stream",
     "text": [
      "              precision    recall  f1-score   support\n",
      "\n",
      "          -3       0.83      1.00      0.91         5\n",
      "           2       0.50      1.00      0.67         2\n",
      "           4       0.00      0.00      0.00         2\n",
      "           5       0.00      0.00      0.00         1\n",
      "\n",
      "    accuracy                           0.70        10\n",
      "   macro avg       0.33      0.50      0.39        10\n",
      "weighted avg       0.52      0.70      0.59        10\n",
      "\n"
     ]
    }
   ],
   "source": [
    "from sklearn.metrics import classification_report\n",
    "\n",
    "print(classification_report(Y_test, y_pred, target_names=['-3', '2', '4', '5'], zero_division=0))"
   ],
   "metadata": {
    "collapsed": false
   }
  },
  {
   "cell_type": "markdown",
   "source": [
    "We get an F1-score of roughly 70%, but only predicting on 4 out 7 classes."
   ],
   "metadata": {
    "collapsed": false
   }
  }
 ],
 "metadata": {
  "kernelspec": {
   "display_name": "Python 3",
   "language": "python",
   "name": "python3"
  },
  "language_info": {
   "codemirror_mode": {
    "name": "ipython",
    "version": 2
   },
   "file_extension": ".py",
   "mimetype": "text/x-python",
   "name": "python",
   "nbconvert_exporter": "python",
   "pygments_lexer": "ipython2",
   "version": "2.7.6"
  }
 },
 "nbformat": 4,
 "nbformat_minor": 0
}
