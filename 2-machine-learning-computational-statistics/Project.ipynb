{
 "cells": [
  {
   "cell_type": "code",
   "execution_count": 1,
   "metadata": {},
   "outputs": [],
   "source": [
    "import numpy as np\n",
    "import pandas as pd\n",
    "import scipy.io as sio\n",
    "import matplotlib.pyplot as plt\n",
    "from scipy.spatial.distance import cdist\n",
    "from scipy.stats import multivariate_normal\n",
    "\n",
    "from sklearn import metrics\n",
    "from sklearn import model_selection\n",
    "from sklearn.linear_model import Lasso\n",
    "from sklearn.naive_bayes import GaussianNB\n",
    "from sklearn.linear_model import LinearRegression\n",
    "from sklearn.neighbors import KNeighborsClassifier\n",
    "from sklearn.ensemble import RandomForestClassifier"
   ]
  },
  {
   "cell_type": "code",
   "execution_count": 2,
   "metadata": {},
   "outputs": [],
   "source": [
    "import warnings\n",
    "\n",
    "def warn(*args, **kwargs):\n",
    "    pass\n",
    "\n",
    "warnings.warn = warn"
   ]
  },
  {
   "cell_type": "markdown",
   "metadata": {},
   "source": [
    "As a first step we are going to fetch the needed data:"
   ]
  },
  {
   "cell_type": "code",
   "execution_count": 3,
   "metadata": {
    "scrolled": true
   },
   "outputs": [],
   "source": [
    "# read data\n",
    "salinas = sio.loadmat('data/Salinas_cube.mat')\n",
    "HSI = salinas['salinas_cube'] # image: 220x120x204\n",
    "\n",
    "salinas_endm = sio.loadmat('data/Salinas_endmembers.mat')\n",
    "endmembers = salinas_endm['salinas_endmembers'] # endmembers: 204x7\n",
    "\n",
    "salinas_gt = sio.loadmat(\"data/Salinas_gt.mat\")\n",
    "labels = salinas_gt[\"salinas_gt\"] # label: 204x7\n",
    "\n",
    "class_names = {0: 'None', 1: 'Grapes', 2: 'Broccoli', 3: 'Fallow 1', 4: 'Fallow 2', 5: 'Fallow 3', 6: 'Stubble', 7: 'Celery'}"
   ]
  },
  {
   "cell_type": "markdown",
   "metadata": {},
   "source": [
    "## Part 1 | Spectral Unmixing\n",
    "---\n",
    "\n",
    "### A. Unconstrainted Least Squares\n",
    "\n",
    "Following the linear spectral unmixing hypothesis, we will use:\n",
    "\n",
    "$$ y = Xθ + n \\Leftrightarrow \\hat θ = (X^TX)^{-1}X^Ty $$"
   ]
  },
  {
   "cell_type": "code",
   "execution_count": 4,
   "metadata": {},
   "outputs": [
    {
     "data": {
      "text/plain": [
       "(7, 16929)"
      ]
     },
     "execution_count": 4,
     "metadata": {},
     "output_type": "execute_result"
    }
   ],
   "source": [
    "X = endmembers\n",
    "y = HSI[labels != 0].T # non-zero labels\n",
    "\n",
    "# compute theta\n",
    "theta = np.dot(np.dot(np.linalg.inv(np.dot(X.T, X)), X.T), y)\n",
    "theta.shape # abundance map"
   ]
  },
  {
   "cell_type": "code",
   "execution_count": 5,
   "metadata": {},
   "outputs": [
    {
     "name": "stdout",
     "output_type": "stream",
     "text": [
      "Reconstruction error: 35058.88\n"
     ]
    }
   ],
   "source": [
    "# compute MSE for every pixel\n",
    "reconstruction = y - np.dot(X, theta)\n",
    "errors = np.trace(np.dot(reconstruction.T, reconstruction)) / 16929\n",
    "\n",
    "print('Reconstruction error: {}'.format(round(errors, 2)))"
   ]
  },
  {
   "cell_type": "markdown",
   "metadata": {},
   "source": [
    "### B. Least Squares imposing sum-to-one constraint\n",
    "\n",
    "By imposing the sum-to-one constraint, the formulation of the problem becomes:\n",
    "\n",
    "$$ y = Xθ + n \\text{ subject to } \\sum_{i=1}^Nθ_i=1 \\Leftrightarrow θ_1 + θ_2 + θ_3 + θ_4 + θ_5 + θ_6 + θ_7 = 1 $$\n",
    "\n",
    "The equation now is:\n",
    "\n",
    "$$ y - x_7 = θ_1(x_1 - x_7) + θ_2(x_2 - x_7) + θ_3(x_3 - x_7) + θ_4(x_4 - x_7) + θ_5(x_5 - x_7) + θ_6(x_6 - x_7) \\Leftrightarrow y'=X'Θ' + η $$"
   ]
  },
  {
   "cell_type": "code",
   "execution_count": 6,
   "metadata": {},
   "outputs": [
    {
     "data": {
      "text/plain": [
       "(6, 16929)"
      ]
     },
     "execution_count": 6,
     "metadata": {},
     "output_type": "execute_result"
    }
   ],
   "source": [
    "# compute new x-values through the substractions\n",
    "X_sto = endmembers[:, :-1] - endmembers[:, -1:] \n",
    "\n",
    "# compute new y-values | # https://bit.ly/3juOQG8\n",
    "y_sto = (y.T - endmembers[:, -1]).T\n",
    "\n",
    "# compute theta\n",
    "theta_sto = np.dot(np.dot(np.linalg.inv(np.dot(X_sto.T, X_sto)), X_sto.T), y_sto)\n",
    "theta_sto.shape # abundance map, 6 since have new thetas"
   ]
  },
  {
   "cell_type": "code",
   "execution_count": 7,
   "metadata": {},
   "outputs": [
    {
     "name": "stdout",
     "output_type": "stream",
     "text": [
      "Reconstruction error: 43082.58\n"
     ]
    }
   ],
   "source": [
    "# compute MSE for every pixel\n",
    "reconstruction_sto = y_sto - np.dot(X_sto, theta_sto)\n",
    "errors_sto = np.trace(np.dot(reconstruction_sto.T, reconstruction_sto)) / 16929\n",
    "\n",
    "print('Reconstruction error: {}'.format(round(errors_sto, 2)))"
   ]
  },
  {
   "cell_type": "markdown",
   "metadata": {},
   "source": [
    "### C. Least Squares imposing non-negativity constraint \n",
    "\n",
    "Imposing the non-negativity constraint we get the following problem formulation:\n",
    "\n",
    "$$ y = Xθ \\text{ subject to } θ_i >= 0 \\text{ } \\forall i $$"
   ]
  },
  {
   "cell_type": "code",
   "execution_count": 8,
   "metadata": {},
   "outputs": [
    {
     "data": {
      "text/plain": [
       "(7, 16929)"
      ]
     },
     "execution_count": 8,
     "metadata": {},
     "output_type": "execute_result"
    }
   ],
   "source": [
    "# initialize linear regression with positivity constraint\n",
    "nnls = LinearRegression(positive=True)\n",
    "\n",
    "# compute theta\n",
    "theta_nn = nnls.fit(X, y).coef_.T\n",
    "theta_nn.shape # abundance map"
   ]
  },
  {
   "cell_type": "code",
   "execution_count": 9,
   "metadata": {},
   "outputs": [
    {
     "name": "stdout",
     "output_type": "stream",
     "text": [
      "Reconstruction error: 194728.94\n"
     ]
    }
   ],
   "source": [
    "reconstruction_nn = y - np.dot(X, theta_nn)\n",
    "errors_nn = np.trace(np.dot(reconstruction_nn.T, reconstruction_nn)) / 16929\n",
    "\n",
    "print('Reconstruction error: {}'.format(round(errors_nn, 2)))"
   ]
  },
  {
   "cell_type": "markdown",
   "metadata": {},
   "source": [
    "### D. Least Squares imposing sum-to-one and non-negativity contraint\n",
    "\n",
    "Combining methods *B* and *C* we formulate the problem as follows:\n",
    "\n",
    "$$ y = Xθ \\text{ subject to } θ_i >= 0 \\text{ } \\forall i \\text{ and } \\sum_{i=1}^Nθ_i=1 $$"
   ]
  },
  {
   "cell_type": "code",
   "execution_count": 10,
   "metadata": {},
   "outputs": [
    {
     "data": {
      "text/plain": [
       "(6, 16929)"
      ]
     },
     "execution_count": 10,
     "metadata": {},
     "output_type": "execute_result"
    }
   ],
   "source": [
    "# compute theta\n",
    "theta_sto_nn = nnls.fit(X_sto, y_sto).coef_.T\n",
    "theta_sto_nn.shape # abundance map"
   ]
  },
  {
   "cell_type": "code",
   "execution_count": 11,
   "metadata": {},
   "outputs": [
    {
     "name": "stdout",
     "output_type": "stream",
     "text": [
      "Reconstruction error: 373768488.94\n"
     ]
    }
   ],
   "source": [
    "reconstruction_sto_nn = y - np.dot(X_sto, theta_sto_nn)\n",
    "errors_sto_nn = np.trace(np.dot(reconstruction_sto_nn.T, reconstruction_sto_nn)) / 16929\n",
    "\n",
    "print('Reconstruction error: {}'.format(round(errors_sto_nn, 2)))"
   ]
  },
  {
   "cell_type": "markdown",
   "metadata": {},
   "source": [
    "### E. LASSO\n",
    "\n",
    "The problem formulates as follows: \n",
    "\n",
    "$$ y = Xθ +λ\\sum_{i=1}^N||θ_i||_1 $$"
   ]
  },
  {
   "cell_type": "code",
   "execution_count": 12,
   "metadata": {},
   "outputs": [
    {
     "data": {
      "text/plain": [
       "(7, 16929)"
      ]
     },
     "execution_count": 12,
     "metadata": {},
     "output_type": "execute_result"
    }
   ],
   "source": [
    "lasso = Lasso(alpha=0.01, fit_intercept=False)\n",
    "\n",
    "# compute theta\n",
    "theta_lss = lasso.fit(X, y).coef_.T\n",
    "theta_lss.shape # abundance map"
   ]
  },
  {
   "cell_type": "code",
   "execution_count": 13,
   "metadata": {},
   "outputs": [
    {
     "name": "stdout",
     "output_type": "stream",
     "text": [
      "Reconstruction error: 83217.45\n"
     ]
    }
   ],
   "source": [
    "reconstruction_lss = y - np.dot(X, theta_lss)\n",
    "errors_lss = np.trace(np.dot(reconstruction_lss.T, reconstruction_lss)) / 16929\n",
    "\n",
    "print('Reconstruction error: {}'.format(round(errors_lss, 2)))"
   ]
  },
  {
   "cell_type": "markdown",
   "metadata": {},
   "source": [
    "### Part 1 Summary\n",
    "\n",
    "We tried solving the problem at hand through unconstrained and constrained approaches. The reason why the latter methods were tested is due to that fact that constraint estimators can achieve better performance, by intoducing bias into the estimator aiming at potentially minimizing its variance. Unfortunately, that was not the case with our problem.\n",
    "\n",
    "We notice that the unconstrained least squares approach achieves the lowest reconstruction error. If we were to rank the methods tested we would have:\n",
    "\n",
    "1. Unconstrained Least Squares\n",
    "2. Least Squares imposing sum-to-one constraint\n",
    "3. LASSO regression\n",
    "4. Least Squares imposing non-negativity constraint\n",
    "5. Least Squares imposing sum-to-one and non-negativity constraints"
   ]
  },
  {
   "cell_type": "markdown",
   "metadata": {},
   "source": [
    "## Part 2 | Classification\n",
    "---\n",
    "We move on to the calssification task:"
   ]
  },
  {
   "cell_type": "code",
   "execution_count": 14,
   "metadata": {},
   "outputs": [],
   "source": [
    "# read data\n",
    "salinas_labels = sio.loadmat('data/classification_labels_Salinas.mat')\n",
    "training_set = (np.reshape(salinas_labels['training_set'], (120, 220))).T\n",
    "test_set = (np.reshape(salinas_labels['test_set'], (120, 220))).T\n",
    "operational_set = (np.reshape(salinas_labels['operational_set'], (120, 220))).T\n",
    "\n",
    "# initialize training split\n",
    "X_train = HSI[training_set > 0]\n",
    "y_train = training_set[training_set > 0]\n",
    "y_train = y_train.reshape(y_train.shape[0], 1) # convert to 2d, needed for the algos\n",
    "\n",
    "# initialize test split\n",
    "X_test = HSI[test_set > 0]\n",
    "y_test = test_set[test_set > 0]\n",
    "y_test = y_test.reshape(y_test.shape[0], 1)\n",
    "\n",
    "# initialize 10-fold cross validation\n",
    "kfold = model_selection.KFold(n_splits=10)"
   ]
  },
  {
   "cell_type": "markdown",
   "metadata": {},
   "source": [
    "### A. Naive Bayes Classifier"
   ]
  },
  {
   "cell_type": "code",
   "execution_count": 15,
   "metadata": {},
   "outputs": [
    {
     "name": "stdout",
     "output_type": "stream",
     "text": [
      "Cross-validation \n",
      "\t mean error: 3.23% \n",
      "\t mean standard deviation: 4.99\n"
     ]
    }
   ],
   "source": [
    "# initialize classifier\n",
    "naiveb = GaussianNB()\n",
    "naiveb_valScore = model_selection.cross_val_score(naiveb, X_train, y_train, cv=kfold)\n",
    "\n",
    "std_devt = round(naiveb_valScore.std()*100, 2)\n",
    "error = round(100 - naiveb_valScore.mean()*100, 2)\n",
    "\n",
    "print(\"Cross-validation \\n\\t mean error: {}% \\n\\t mean standard deviation: {}\".format(error, std_devt))"
   ]
  },
  {
   "cell_type": "code",
   "execution_count": 16,
   "metadata": {},
   "outputs": [
    {
     "data": {
      "image/png": "[encoded data removed]",
      "text/plain": [
       "<Figure size 640x480 with 2 Axes>"
      ]
     },
     "metadata": {},
     "output_type": "display_data"
    }
   ],
   "source": [
    "# predict on test\n",
    "naiveb.fit(X_train, y_train)\n",
    "y_pred = naiveb.predict(X_test)\n",
    "\n",
    "confusion_matrix = metrics.confusion_matrix(y_test, y_pred)\n",
    "cm_display = metrics.ConfusionMatrixDisplay(confusion_matrix = confusion_matrix, display_labels=[i for i in range(1, 8)])\n",
    "cm_display.plot()\n",
    "plt.show()"
   ]
  },
  {
   "cell_type": "code",
   "execution_count": 17,
   "metadata": {},
   "outputs": [
    {
     "name": "stdout",
     "output_type": "stream",
     "text": [
      "Success rate: 98.13%\n"
     ]
    }
   ],
   "source": [
    "success_rate = np.trace(confusion_matrix) / np.sum(confusion_matrix)\n",
    "print('Success rate: {}%'.format(round(success_rate * 100, 2)))"
   ]
  },
  {
   "cell_type": "markdown",
   "metadata": {},
   "source": [
    "### B. Minimum Distance Classifier"
   ]
  },
  {
   "cell_type": "code",
   "execution_count": 18,
   "metadata": {},
   "outputs": [],
   "source": [
    "# https://bit.ly/3vcd62b\n",
    "class MDC():\n",
    "    def __init__(self):\n",
    "        self.class_list = {}\n",
    "        self.centroids = {}\n",
    "    \n",
    "    def fit(self, X, y):\n",
    "        self.class_list = np.unique(y, axis=0)\n",
    "        \n",
    "        self.centroids = np.zeros((len(self.class_list), X.shape[1])) # each row is a centroid\n",
    "        for i in range(len(self.class_list)): # for each class, we evaluate its centroid\n",
    "            temp = np.where(y==self.class_list[i])[0]\n",
    "            self.centroids[i,:] = np.mean(X[temp],axis=0)\n",
    "            \n",
    "            \n",
    "    def predict(self, X):\n",
    "        temp = np.argmin(\n",
    "            cdist(X, self.centroids), # distance between each pair of the two collections of inputs\n",
    "            axis=1\n",
    "        )\n",
    "        y_pred = np.array([self.class_list[i] for i in temp])\n",
    "\n",
    "        return y_pred"
   ]
  },
  {
   "cell_type": "code",
   "execution_count": 19,
   "metadata": {},
   "outputs": [
    {
     "name": "stdout",
     "output_type": "stream",
     "text": [
      "Cross-validation \n",
      "\t mean error: 5.51% \n",
      "\t mean standard deviation: 7.68\n"
     ]
    }
   ],
   "source": [
    "# cross-validation\n",
    "acc = []\n",
    "for train_index, validation_index in kfold.split(X_train, y_train):\n",
    "    X_train_curr, y_train_curr = X_train[train_index, :], y_train[train_index]\n",
    "    X_validation_curr, y_validation_curr = X_train[validation_index, :], y_train[validation_index]\n",
    "    \n",
    "    mdc = MDC()\n",
    "    mdc.fit(X_train_curr, y_train_curr)\n",
    "    y_pred_curr = mdc.predict(X_validation_curr)\n",
    "    \n",
    "    confusion_matrix = metrics.confusion_matrix(y_validation_curr, y_pred_curr)\n",
    "    err = (1 - np.trace(confusion_matrix) / np.sum(confusion_matrix)) * 100\n",
    "    acc.append(err)\n",
    "\n",
    "print(\"Cross-validation \\n\\t mean error: {}% \\n\\t mean standard deviation: {}\".format(round(sum(acc)/10, 2), round(np.std(acc), 2)))"
   ]
  },
  {
   "cell_type": "code",
   "execution_count": 20,
   "metadata": {},
   "outputs": [
    {
     "data": {
      "image/png": "[encoded data removed]",
      "text/plain": [
       "<Figure size 640x480 with 2 Axes>"
      ]
     },
     "metadata": {},
     "output_type": "display_data"
    }
   ],
   "source": [
    "# predict on test\n",
    "mdc = MDC()\n",
    "\n",
    "mdc.fit(X_train, y_train)\n",
    "y_pred = mdc.predict(X_test)\n",
    "\n",
    "confusion_matrix = metrics.confusion_matrix(y_test, y_pred)\n",
    "cm_display = metrics.ConfusionMatrixDisplay(confusion_matrix = confusion_matrix, display_labels=[i for i in range(1, 8)])\n",
    "cm_display.plot()\n",
    "plt.show()"
   ]
  },
  {
   "cell_type": "code",
   "execution_count": 21,
   "metadata": {},
   "outputs": [
    {
     "name": "stdout",
     "output_type": "stream",
     "text": [
      "Success rate: 95.91%\n"
     ]
    }
   ],
   "source": [
    "success_rate = np.trace(confusion_matrix) / np.sum(confusion_matrix)\n",
    "print('Success rate: {}%'.format(round(success_rate * 100, 2)))"
   ]
  },
  {
   "cell_type": "markdown",
   "metadata": {},
   "source": [
    "### C. K-nearest Neighbors Classifier"
   ]
  },
  {
   "cell_type": "code",
   "execution_count": 22,
   "metadata": {},
   "outputs": [
    {
     "name": "stdout",
     "output_type": "stream",
     "text": [
      "Cross-validation \n",
      "\t mean error: 2.0% \n",
      "\t mean standard deviation: 2.85\n"
     ]
    }
   ],
   "source": [
    "# initialize calssifier\n",
    "kneighb = KNeighborsClassifier(n_neighbors=10)\n",
    "kneighb_valScore = model_selection.cross_val_score(kneighb, X_train, y_train, cv=kfold)\n",
    "\n",
    "std_devt = round(kneighb_valScore.std()*100, 2)\n",
    "error = round(100 - kneighb_valScore.mean()*100, 2)\n",
    "\n",
    "print(\"Cross-validation \\n\\t mean error: {}% \\n\\t mean standard deviation: {}\".format(error, std_devt))"
   ]
  },
  {
   "cell_type": "code",
   "execution_count": 23,
   "metadata": {},
   "outputs": [
    {
     "data": {
      "image/png": "[encoded data removed]",
      "text/plain": [
       "<Figure size 640x480 with 2 Axes>"
      ]
     },
     "metadata": {},
     "output_type": "display_data"
    }
   ],
   "source": [
    "# predict on test\n",
    "kneighb.fit(X_train, y_train)\n",
    "y_pred = kneighb.predict(X_test)\n",
    "\n",
    "confusion_matrix = metrics.confusion_matrix(y_test, y_pred)\n",
    "cm_display = metrics.ConfusionMatrixDisplay(confusion_matrix = confusion_matrix, display_labels=[i for i in range(1, 8)])\n",
    "cm_display.plot()\n",
    "plt.show()"
   ]
  },
  {
   "cell_type": "code",
   "execution_count": 24,
   "metadata": {},
   "outputs": [
    {
     "name": "stdout",
     "output_type": "stream",
     "text": [
      "Success rate: 99.43%\n"
     ]
    }
   ],
   "source": [
    "success_rate = np.trace(confusion_matrix) / np.sum(confusion_matrix)\n",
    "print('Success rate: {}%'.format(round(success_rate * 100, 2)))"
   ]
  },
  {
   "cell_type": "markdown",
   "metadata": {},
   "source": [
    "### E. Random Forests (out of scope)"
   ]
  },
  {
   "cell_type": "code",
   "execution_count": 25,
   "metadata": {},
   "outputs": [
    {
     "name": "stdout",
     "output_type": "stream",
     "text": [
      "Cross-validation \n",
      "\t mean error: 0.89% \n",
      "\t mean standard deviation: 2.85\n"
     ]
    }
   ],
   "source": [
    "# initialize calssifier\n",
    "rf = RandomForestClassifier()\n",
    "rf_valScore = model_selection.cross_val_score(rf, X_train, y_train.ravel(), cv=kfold)\n",
    "\n",
    "std_dev = round(rf_valScore.std()*100, 2)\n",
    "error = round(100 - rf_valScore.mean()*100, 2)\n",
    "\n",
    "print(\"Cross-validation \\n\\t mean error: {}% \\n\\t mean standard deviation: {}\".format(error, std_devt))"
   ]
  },
  {
   "cell_type": "code",
   "execution_count": 26,
   "metadata": {},
   "outputs": [
    {
     "data": {
      "image/png": "[encoded data removed]",
      "text/plain": [
       "<Figure size 640x480 with 2 Axes>"
      ]
     },
     "metadata": {},
     "output_type": "display_data"
    }
   ],
   "source": [
    "# predict on test\n",
    "rf.fit(X_train, y_train.ravel())\n",
    "y_pred = rf.predict(X_test)\n",
    "\n",
    "confusion_matrix = metrics.confusion_matrix(y_test, y_pred)\n",
    "cm_display = metrics.ConfusionMatrixDisplay(confusion_matrix = confusion_matrix, display_labels=[i for i in range(1, 8)])\n",
    "cm_display.plot()\n",
    "plt.show()"
   ]
  },
  {
   "cell_type": "code",
   "execution_count": 27,
   "metadata": {},
   "outputs": [
    {
     "name": "stdout",
     "output_type": "stream",
     "text": [
      "Success rate: 99.76%\n"
     ]
    }
   ],
   "source": [
    "success_rate = np.trace(confusion_matrix) / np.sum(confusion_matrix)\n",
    "print('Success rate: {}%'.format(round(success_rate * 100, 2)))"
   ]
  },
  {
   "cell_type": "markdown",
   "metadata": {},
   "source": [
    "### Part 2 Summary\n",
    "\n",
    "The ranking of the classifiers that were tested has the following order:\n",
    "\n",
    "1. Random Forests\n",
    "2. K-nearest neighbors\n",
    "3. Naive Bayes\n",
    "4. Minimum distance classifier\n",
    "\n",
    "We can clearly state that the performance of the classifiers is outstanding in the current dataset. We notice in all four confusion matrices a clear diagonal line, meaning that they classify the majority of data instances in their true class."
   ]
  },
  {
   "cell_type": "markdown",
   "metadata": {},
   "source": [
    "## Part 3 | Combination\n",
    "---\n",
    "\n",
    "Comparing the tasks of spectral unmixing and image classification, we can reach the conclusion that the latter is superior in annotating a data instance with the correct class. The becomes apparent if we compare the reconstruction error and success rate from the first and second approaches, respectively. The meaning behind this behaviour could be that the spectral information alone is not enough to distinguish points from different classes. However, we note that our dataset consists of similar-like classes, making their visual, at least, distinguishment far from obvious. Hence, in a different dataset with vastly different class types, i.e., water and mountain, the spectral information could prove worth looking into."
   ]
  }
 ],
 "metadata": {
  "kernelspec": {
   "display_name": "Python 3 (ipykernel)",
   "language": "python",
   "name": "python3"
  },
  "language_info": {
   "codemirror_mode": {
    "name": "ipython",
    "version": 3
   },
   "file_extension": ".py",
   "mimetype": "text/x-python",
   "name": "python",
   "nbconvert_exporter": "python",
   "pygments_lexer": "ipython3",
   "version": "3.8.13"
  }
 },
 "nbformat": 4,
 "nbformat_minor": 2
}
