{
 "cells": [
  {
   "cell_type": "code",
   "execution_count": 1,
   "metadata": {},
   "outputs": [],
   "source": [
    "import pandas as pd"
   ]
  },
  {
   "cell_type": "code",
   "execution_count": 2,
   "metadata": {},
   "outputs": [],
   "source": [
    "df = pd.read_csv('zillow.csv')\n",
    "\n",
    "# splits features column to bedrooms, bathrooms, square feet\n",
    "df[['bedrooms', 'bathrooms', 'sqft']] = df['facts and features'].str.split(',', expand=True)\n",
    "\n",
    "# transform bedrooms to integer\n",
    "df['bedrooms'] = df['bedrooms'].str.replace(' bds', '').replace('None', '-1').astype(int)\n",
    "\n",
    "# transform bathrooms to integer\n",
    "df['bathrooms'] = df['bathrooms'].str.replace('None', '-1.0').str.split('.', n=1, expand=True)\n",
    "df['bathrooms'] = df['bathrooms'].str.strip().astype(int)\n",
    "\n",
    "# transfrom square feet to integer\n",
    "df['sqft'] = df['sqft'].str.split(' sqft', n=1, expand=True)\n",
    "df['sqft'] = df['sqft'].str.replace('None', '-1')\n",
    "df['sqft'] = df['sqft'].str.strip().astype(int)\n",
    "\n",
    "# transform price to integer\n",
    "df[['dollar', 'price']] = df['price'].str.split('$', n=2, expand=True)\n",
    "df['price'] = df['price'].str.replace(',', '')\n",
    "df['price'] = df['price'].str.replace('+', '').astype(int)\n",
    "\n",
    "df = df.rename(columns={\n",
    "    'real estate provider': 'provider'\n",
    "})\n",
    "\n",
    "# cast provider column to unicode\n",
    "df['provider'] = df['provider'].replace({r'[^\\x00-\\x7F]+':''}, regex=True)\n",
    "\n",
    "# select final columns\n",
    "df = df[[\n",
    "    'title', 'address', 'city', 'state', 'postal_code', 'bedrooms', 'bathrooms', 'sqft', 'price', 'provider', 'url'\n",
    "]]"
   ]
  },
  {
   "cell_type": "code",
   "execution_count": 5,
   "metadata": {},
   "outputs": [
    {
     "ename": "SyntaxError",
     "evalue": "invalid syntax (<ipython-input-5-64a734fdabda>, line 4)",
     "output_type": "error",
     "traceback": [
      "\u001b[0;36m  File \u001b[0;32m\"<ipython-input-5-64a734fdabda>\"\u001b[0;36m, line \u001b[0;32m4\u001b[0m\n\u001b[0;31m    return 'condo':\u001b[0m\n\u001b[0m                  ^\u001b[0m\n\u001b[0;31mSyntaxError\u001b[0m\u001b[0;31m:\u001b[0m invalid syntax\n"
     ]
    }
   ],
   "source": [
    "if 'house' in string.lower():\n",
    "    return 'house'\n",
    "elif 'condo' in string.lower():\n",
    "    return 'condo'\n",
    "elif 'multi-family' in string.lower():\n",
    "    return 'apartment'\n",
    "elif 'land' in string.lower():\n",
    "    return 'land'\n",
    "elif 'townhouse' in string.lower():\n",
    "    return 'townhouse'\n",
    "elif 'forclosure' in string.lower():\n",
    "    return 'forclosure'\n",
    "else:\n",
    "    return 'new-construction'"
   ]
  },
  {
   "cell_type": "code",
   "execution_count": 4,
   "metadata": {},
   "outputs": [
    {
     "data": {
      "text/plain": [
       "Condo for sale                71271\n",
       "House for sale                22554\n",
       "Multi-family home for sale     5309\n",
       "Lot / Land for sale             647\n",
       "Foreclosure                     295\n",
       "New construction                177\n",
       "Townhouse for sale               59\n",
       "Name: title, dtype: int64"
      ]
     },
     "execution_count": 4,
     "metadata": {},
     "output_type": "execute_result"
    }
   ],
   "source": [
    "df['title'].value_counts()"
   ]
  },
  {
   "cell_type": "code",
   "execution_count": 3,
   "metadata": {},
   "outputs": [
    {
     "data": {
      "text/html": [
       "<div>\n",
       "<style scoped>\n",
       "    .dataframe tbody tr th:only-of-type {\n",
       "        vertical-align: middle;\n",
       "    }\n",
       "\n",
       "    .dataframe tbody tr th {\n",
       "        vertical-align: top;\n",
       "    }\n",
       "\n",
       "    .dataframe thead th {\n",
       "        text-align: right;\n",
       "    }\n",
       "</style>\n",
       "<table border=\"1\" class=\"dataframe\">\n",
       "  <thead>\n",
       "    <tr style=\"text-align: right;\">\n",
       "      <th></th>\n",
       "      <th>title</th>\n",
       "      <th>address</th>\n",
       "      <th>city</th>\n",
       "      <th>state</th>\n",
       "      <th>postal_code</th>\n",
       "      <th>bedrooms</th>\n",
       "      <th>bathrooms</th>\n",
       "      <th>sqft</th>\n",
       "      <th>price</th>\n",
       "      <th>provider</th>\n",
       "      <th>url</th>\n",
       "    </tr>\n",
       "  </thead>\n",
       "  <tbody>\n",
       "    <tr>\n",
       "      <th>0</th>\n",
       "      <td>Condo for sale</td>\n",
       "      <td>NaN</td>\n",
       "      <td>Somerville</td>\n",
       "      <td>MA</td>\n",
       "      <td>2145</td>\n",
       "      <td>2</td>\n",
       "      <td>1</td>\n",
       "      <td>705</td>\n",
       "      <td>342000</td>\n",
       "      <td>William Raveis R.E. &amp; Home Services</td>\n",
       "      <td>https://www.zillow.com/homedetails/163-Glen-St...</td>\n",
       "    </tr>\n",
       "    <tr>\n",
       "      <th>1</th>\n",
       "      <td>Condo for sale</td>\n",
       "      <td>NaN</td>\n",
       "      <td>Boston</td>\n",
       "      <td>MA</td>\n",
       "      <td>2116</td>\n",
       "      <td>2</td>\n",
       "      <td>2</td>\n",
       "      <td>1228</td>\n",
       "      <td>1700000</td>\n",
       "      <td>Century 21 North East</td>\n",
       "      <td>https://www.zillow.com/homedetails/6-Edgerly-P...</td>\n",
       "    </tr>\n",
       "    <tr>\n",
       "      <th>2</th>\n",
       "      <td>Condo for sale</td>\n",
       "      <td>NaN</td>\n",
       "      <td>Boston</td>\n",
       "      <td>MA</td>\n",
       "      <td>2118</td>\n",
       "      <td>1</td>\n",
       "      <td>1</td>\n",
       "      <td>1000</td>\n",
       "      <td>336500</td>\n",
       "      <td>Maloney Properties, Inc.</td>\n",
       "      <td>https://www.zillow.com/homedetails/1180-1200-W...</td>\n",
       "    </tr>\n",
       "    <tr>\n",
       "      <th>3</th>\n",
       "      <td>House for sale</td>\n",
       "      <td>NaN</td>\n",
       "      <td>Boston</td>\n",
       "      <td>MA</td>\n",
       "      <td>2118</td>\n",
       "      <td>4</td>\n",
       "      <td>7</td>\n",
       "      <td>6836</td>\n",
       "      <td>9950000</td>\n",
       "      <td>Campion &amp; Company Fine Homes Real Estate</td>\n",
       "      <td>https://www.zillow.com/homedetails/5-Union-Par...</td>\n",
       "    </tr>\n",
       "    <tr>\n",
       "      <th>4</th>\n",
       "      <td>Condo for sale</td>\n",
       "      <td>NaN</td>\n",
       "      <td>Boston</td>\n",
       "      <td>MA</td>\n",
       "      <td>2128</td>\n",
       "      <td>2</td>\n",
       "      <td>3</td>\n",
       "      <td>1000</td>\n",
       "      <td>479000</td>\n",
       "      <td>Berkshire Hathaway HomeServices Commonwealth R...</td>\n",
       "      <td>https://www.zillow.com/homedetails/213-Trenton...</td>\n",
       "    </tr>\n",
       "  </tbody>\n",
       "</table>\n",
       "</div>"
      ],
      "text/plain": [
       "            title  address        city state  postal_code  bedrooms  \\\n",
       "0  Condo for sale      NaN  Somerville    MA         2145         2   \n",
       "1  Condo for sale      NaN      Boston    MA         2116         2   \n",
       "2  Condo for sale      NaN      Boston    MA         2118         1   \n",
       "3  House for sale      NaN      Boston    MA         2118         4   \n",
       "4  Condo for sale      NaN      Boston    MA         2128         2   \n",
       "\n",
       "   bathrooms  sqft    price  \\\n",
       "0          1   705   342000   \n",
       "1          2  1228  1700000   \n",
       "2          1  1000   336500   \n",
       "3          7  6836  9950000   \n",
       "4          3  1000   479000   \n",
       "\n",
       "                                            provider  \\\n",
       "0                William Raveis R.E. & Home Services   \n",
       "1                              Century 21 North East   \n",
       "2                           Maloney Properties, Inc.   \n",
       "3           Campion & Company Fine Homes Real Estate   \n",
       "4  Berkshire Hathaway HomeServices Commonwealth R...   \n",
       "\n",
       "                                                 url  \n",
       "0  https://www.zillow.com/homedetails/163-Glen-St...  \n",
       "1  https://www.zillow.com/homedetails/6-Edgerly-P...  \n",
       "2  https://www.zillow.com/homedetails/1180-1200-W...  \n",
       "3  https://www.zillow.com/homedetails/5-Union-Par...  \n",
       "4  https://www.zillow.com/homedetails/213-Trenton...  "
      ]
     },
     "execution_count": 3,
     "metadata": {},
     "output_type": "execute_result"
    }
   ],
   "source": [
    "df.head()"
   ]
  }
 ],
 "metadata": {
  "kernelspec": {
   "display_name": "Python 3",
   "language": "python",
   "name": "python3"
  },
  "language_info": {
   "codemirror_mode": {
    "name": "ipython",
    "version": 3
   },
   "file_extension": ".py",
   "mimetype": "text/x-python",
   "name": "python",
   "nbconvert_exporter": "python",
   "pygments_lexer": "ipython3",
   "version": "3.8.3"
  }
 },
 "nbformat": 4,
 "nbformat_minor": 4
}
