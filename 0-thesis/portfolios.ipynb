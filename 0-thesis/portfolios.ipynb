{
 "cells": [
  {
   "cell_type": "code",
   "execution_count": null,
   "id": "5a052f9b",
   "metadata": {},
   "outputs": [],
   "source": [
    "import os\n",
    "import numpy as np\n",
    "import pandas as pd\n",
    "import datetime as dt\n",
    "from scipy import stats\n",
    "import sqlalchemy as db\n",
    "from dotenv import load_dotenv\n",
    "import matplotlib.pyplot as plt\n",
    "from pandas.tseries.offsets import *"
   ]
  },
  {
   "cell_type": "code",
   "execution_count": null,
   "id": "60a1e5e7",
   "metadata": {},
   "outputs": [],
   "source": [
    "load_dotenv()\n",
    "\n",
    "# config and credentials\n",
    "server = os.getenv('server')\n",
    "database = os.getenv('database')\n",
    "username = os.getenv('username')\n",
    "password = os.getenv('password')\n",
    "\n",
    "# connection\n",
    "engine = db.create_engine(\n",
    "    'mssql://{}:{}@{}/{}?driver=ODBC+Driver+18+for+SQL+Server'.format(\n",
    "        username, password, server, database\n",
    "    )\n",
    ")\n",
    "\n",
    "# establish connection\n",
    "connection = engine.connect()"
   ]
  },
  {
   "cell_type": "code",
   "execution_count": null,
   "id": "46fc8b35",
   "metadata": {},
   "outputs": [],
   "source": [
    "query = 'SELECT * FROM BondReturns'\n",
    "\n",
    "df = pd.read_sql(query, connection)"
   ]
  },
  {
   "cell_type": "code",
   "execution_count": null,
   "id": "a049d645",
   "metadata": {},
   "outputs": [],
   "source": [
    "df.head()"
   ]
  },
  {
   "cell_type": "code",
   "execution_count": null,
   "id": "f5edd7a5",
   "metadata": {},
   "outputs": [],
   "source": [
    "df['R'] = df['R'].fillna(0)"
   ]
  },
  {
   "cell_type": "code",
   "execution_count": null,
   "id": "82b9f9ba",
   "metadata": {},
   "outputs": [],
   "source": [
    "df.head()"
   ]
  },
  {
   "cell_type": "code",
   "execution_count": null,
   "id": "2d5c3827",
   "metadata": {},
   "outputs": [],
   "source": [
    "df['logR'] = np.log(1 + df['R'])"
   ]
  },
  {
   "cell_type": "code",
   "execution_count": null,
   "id": "3144ca56",
   "metadata": {},
   "outputs": [],
   "source": [
    "df.head()"
   ]
  },
  {
   "cell_type": "code",
   "execution_count": null,
   "id": "4fcdb723",
   "metadata": {},
   "outputs": [],
   "source": [
    "J = 6 # formation period\n",
    "\n",
    "df_ = df[\n",
    "    ['CusipId', 'LtTrdExctnDt', 'R', 'logR']\n",
    "].sort_values(['CusipId', 'LtTrdExctnDt']).set_index('LtTrdExctnDt')\n",
    "\n",
    "cumr = df_.groupby(['CusipId'])['logR'].rolling(J).sum().reset_index()\n",
    "cumr = cumr.rename(columns={'logR': 'SumLogR'})\n",
    "cumr['CumRet']=np.exp(cumr['SumLogR'])-1"
   ]
  },
  {
   "cell_type": "code",
   "execution_count": null,
   "id": "ef2ea4e8",
   "metadata": {},
   "outputs": [],
   "source": [
    "cumr.tail(10)"
   ]
  },
  {
   "cell_type": "code",
   "execution_count": null,
   "id": "df7ced8b",
   "metadata": {},
   "outputs": [],
   "source": [
    "r = 10 # momentum ranking\n",
    "\n",
    "cumr = cumr.dropna(axis=0, subset=['CumRet'])\n",
    "\n",
    "cumr['MomR'] = cumr.groupby('LtTrdExctnDt')['CumRet'].transform(lambda x: pd.qcut(x, r, labels=False))\n",
    "cumr['MomR'] = 1 + cumr['MomR'].astype(int)"
   ]
  },
  {
   "cell_type": "code",
   "execution_count": null,
   "id": "7aa00351",
   "metadata": {},
   "outputs": [],
   "source": [
    "cumr.head()"
   ]
  },
  {
   "cell_type": "code",
   "execution_count": null,
   "id": "d8454d43",
   "metadata": {},
   "outputs": [],
   "source": [
    "cumr.groupby('MomR')['CumRet'].mean()"
   ]
  },
  {
   "cell_type": "code",
   "execution_count": null,
   "id": "2eeee8db",
   "metadata": {},
   "outputs": [],
   "source": [
    "K = 6 # Holding Period Length: K can be between 3 to 12 months\n",
    "\n",
    "cumr['form_date'] = cumr['LtTrdExctnDt']\n",
    "cumr['medate'] = cumr['LtTrdExctnDt'] + MonthEnd(0)\n",
    "cumr['hdate1'] = cumr['medate'] + MonthBegin(1)\n",
    "cumr['hdate2'] = cumr['medate'] + MonthEnd(K)\n",
    "cumr = cumr[['CusipId', 'form_date','MomR','hdate1','hdate2']]"
   ]
  },
  {
   "cell_type": "code",
   "execution_count": null,
   "id": "a0fcd2aa",
   "metadata": {},
   "outputs": [],
   "source": [
    "cumr.head()"
   ]
  },
  {
   "cell_type": "code",
   "execution_count": null,
   "id": "3ba4657e",
   "metadata": {},
   "outputs": [],
   "source": [
    "port = pd.merge(df[['CusipId', 'LtTrdExctnDt', 'R']], cumr, on=['CusipId'], how='inner')\n",
    "port = port[(port['hdate1']<=port['LtTrdExctnDt']) & (port['LtTrdExctnDt']<=port['hdate2'])]\n",
    "port = port[['CusipId','form_date', 'MomR', 'hdate1','hdate2', 'LtTrdExctnDt', 'R']]"
   ]
  },
  {
   "cell_type": "code",
   "execution_count": null,
   "id": "50bc92ce",
   "metadata": {},
   "outputs": [],
   "source": [
    "port.head()"
   ]
  },
  {
   "cell_type": "code",
   "execution_count": null,
   "id": "3fd36985",
   "metadata": {},
   "outputs": [],
   "source": [
    "port['LtTrdExctnDt'] = pd.to_datetime(port['LtTrdExctnDt'])"
   ]
  },
  {
   "cell_type": "code",
   "execution_count": null,
   "id": "5d870f75",
   "metadata": {},
   "outputs": [],
   "source": [
    "port.head()"
   ]
  },
  {
   "cell_type": "code",
   "execution_count": null,
   "id": "191008cc",
   "metadata": {},
   "outputs": [],
   "source": [
    "cumr_port = port.groupby(['LtTrdExctnDt','MomR', 'form_date'])['R'].mean().reset_index()\n",
    "start_yr = cumr_port['LtTrdExctnDt'].dt.year.min()+2\n",
    "cumr_port = cumr_port.loc[cumr_port.LtTrdExctnDt.dt.year>=start_yr]\n",
    "cumr_port = cumr_port.sort_values(by=['LtTrdExctnDt','MomR'])"
   ]
  },
  {
   "cell_type": "code",
   "execution_count": null,
   "id": "e92d4bc0",
   "metadata": {},
   "outputs": [],
   "source": [
    "cumr_port.head()"
   ]
  },
  {
   "cell_type": "code",
   "execution_count": null,
   "id": "eee9e06a",
   "metadata": {},
   "outputs": [],
   "source": [
    "ewret = cumr_port.groupby(['LtTrdExctnDt','MomR'])['R'].mean().reset_index()\n",
    "ewstd = cumr_port.groupby(['LtTrdExctnDt','MomR'])['R'].std().reset_index()\n",
    "\n",
    "ewret = ewret.rename(columns={'R_new':'ewret'})\n",
    "ewstd = ewstd.rename(columns={'R_new':'ewretstd'})\n",
    "\n",
    "ewretdf = pd.merge(ewret, ewstd, on=['LtTrdExctnDt','MomR'], how='inner')\n",
    "ewretdf = ewretdf.sort_values(by=['MomR', 'LtTrdExctnDt'])"
   ]
  },
  {
   "cell_type": "code",
   "execution_count": null,
   "id": "1c228b8e",
   "metadata": {},
   "outputs": [],
   "source": [
    "ewretdf.head()"
   ]
  },
  {
   "cell_type": "code",
   "execution_count": null,
   "id": "a025a20a",
   "metadata": {},
   "outputs": [],
   "source": [
    "ewretdf.groupby(['MomR'])['ewret'].describe()[['count','mean', 'std']].reset_index()"
   ]
  },
  {
   "cell_type": "code",
   "execution_count": null,
   "id": "0d041aed",
   "metadata": {},
   "outputs": [],
   "source": [
    "ewret_t = ewretdf.pivot(index='LtTrdExctnDt', columns='MomR', values='ewret') \n",
    "\n",
    "# Add prefix port in front of each column \n",
    "ewret_t = ewret_t.add_prefix('port') \n",
    "ewret_t = ewret_t.rename(columns={'port1':'losers', 'port10':'winners'}) \n",
    "ewret_t['long_short'] = ewret_t.winners - ewret_t.losers"
   ]
  },
  {
   "cell_type": "code",
   "execution_count": null,
   "id": "2900cc08",
   "metadata": {},
   "outputs": [],
   "source": [
    "ewret_t.head()"
   ]
  },
  {
   "cell_type": "code",
   "execution_count": null,
   "id": "982f2fa7",
   "metadata": {},
   "outputs": [],
   "source": [
    "ewret_t['cumret_winners'] = (1 + ewret_t.winners).cumprod()-1 \n",
    "ewret_t['cumret_losers'] = (1 + ewret_t.losers).cumprod()-1\n",
    "ewret_t['cumret_long_short'] = (1 + ewret_t.long_short).cumprod()-1"
   ]
  },
  {
   "cell_type": "code",
   "execution_count": null,
   "id": "de9d17b7",
   "metadata": {},
   "outputs": [],
   "source": [
    "mom_mean = ewret_t[['winners', 'losers', 'long_short']].mean().to_frame() \n",
    "mom_mean = mom_mean.rename(columns={0:'mean'}).reset_index() \n",
    "mom_mean"
   ]
  },
  {
   "cell_type": "code",
   "execution_count": null,
   "id": "2b4a08fd",
   "metadata": {},
   "outputs": [],
   "source": [
    "t_losers = pd.Series(stats.ttest_1samp(ewret_t['losers'],0.0)).to_frame().T \n",
    "t_winners = pd.Series(stats.ttest_1samp(ewret_t['winners'],0.0)).to_frame().T \n",
    "t_long_short = pd.Series(stats.ttest_1samp(ewret_t['long_short'],0.0)).to_frame().T\n",
    "\n",
    "t_losers['MomR']='losers' \n",
    "t_winners['MomR']='winners' \n",
    "t_long_short['MomR']='long_short'"
   ]
  },
  {
   "cell_type": "code",
   "execution_count": null,
   "id": "48920137",
   "metadata": {},
   "outputs": [],
   "source": [
    "t_output =pd.concat([t_winners, t_losers, t_long_short]).rename(columns={0:'t-stat', 1:'p-value'}) \n",
    "\n",
    "# Combine mean, t and p and format output \n",
    "mom_output = pd.merge(mom_mean, t_output, on=['MomR'], how='inner')\n",
    "\n",
    "mom_output['mean'] = mom_output['mean'].map('{:.2%}'.format) \n",
    "mom_output['t-stat'] = mom_output['t-stat'].map('{:.2f}'.format) \n",
    "mom_output['p-value'] = mom_output['p-value'].map('{:.2f}'.format) \n",
    "\n",
    "print('Momentum Strategy Summary:\\n\\n', mom_output)"
   ]
  },
  {
   "cell_type": "code",
   "execution_count": null,
   "id": "92fe6de4",
   "metadata": {},
   "outputs": [],
   "source": [
    "plt.figure(figsize=(12,9)) \n",
    "plt.suptitle('Momentum Strategy', fontsize=20) \n",
    "\n",
    "ax1 = plt.subplot(211) \n",
    "ax1.set_title('Long/Short Momentum Strategy', fontsize=15) \n",
    "ax1.plot(ewret_t['cumret_long_short']) \n",
    "\n",
    "ax2 = plt.subplot(212) \n",
    "ax2.set_title('Cumulative Momentum Portfolios', fontsize=15) \n",
    "ax2.plot(ewret_t['cumret_winners'], 'b-', ewret_t['cumret_losers'], 'r--') \n",
    "ax2.legend(('Winners','Losers'), loc='upper left', shadow=True) \n",
    "\n",
    "plt.subplots_adjust(top=0.92, hspace=0.2)"
   ]
  },
  {
   "cell_type": "code",
   "execution_count": null,
   "id": "ab9ac743",
   "metadata": {},
   "outputs": [],
   "source": []
  }
 ],
 "metadata": {
  "kernelspec": {
   "display_name": "Python 3 (ipykernel)",
   "language": "python",
   "name": "python3"
  },
  "language_info": {
   "codemirror_mode": {
    "name": "ipython",
    "version": 3
   },
   "file_extension": ".py",
   "mimetype": "text/x-python",
   "name": "python",
   "nbconvert_exporter": "python",
   "pygments_lexer": "ipython3",
   "version": "3.11.4"
  }
 },
 "nbformat": 4,
 "nbformat_minor": 5
}
