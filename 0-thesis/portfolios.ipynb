{
 "cells": [
  {
   "cell_type": "code",
   "execution_count": 39,
   "id": "5a052f9b",
   "metadata": {},
   "outputs": [],
   "source": [
    "import os\n",
    "import numpy as np\n",
    "import pandas as pd\n",
    "import datetime as dt\n",
    "from scipy import stats\n",
    "import sqlalchemy as db\n",
    "from dotenv import load_dotenv\n",
    "import matplotlib.pyplot as plt\n",
    "from pandas.tseries.offsets import *\n",
    "\n",
    "np.seterr(divide = 'ignore')\n",
    "pd.set_option('display.max_rows', 500)"
   ]
  },
  {
   "cell_type": "code",
   "execution_count": 40,
   "id": "60a1e5e7",
   "metadata": {},
   "outputs": [],
   "source": [
    "load_dotenv()\n",
    "\n",
    "# config and credentials\n",
    "server = os.getenv('server')\n",
    "database = os.getenv('database')\n",
    "username = os.getenv('username')\n",
    "password = os.getenv('password')\n",
    "\n",
    "# connection\n",
    "engine = db.create_engine(\n",
    "    'mssql://{}:{}@{}/{}?driver=ODBC+Driver+18+for+SQL+Server'.format(\n",
    "        username, password, server, database\n",
    "    )\n",
    ")\n",
    "\n",
    "# establish connection\n",
    "connection = engine.connect()"
   ]
  },
  {
   "cell_type": "code",
   "execution_count": 56,
   "id": "6764cb89",
   "metadata": {},
   "outputs": [],
   "source": [
    "def get_sample_particulars(df):\n",
    "    print('Number of observations: {:,}'.format(len(df.index)))\n",
    "    print('Returns: Mean: {:.5f} | Median: {:.5f} | Std returns: {:.5f}'.format(\n",
    "        100 * df['R'].mean(), 100 * df['R'].median(), 100 * df['R'].std()))\n",
    "    print('Volume mean: {:.5f}'.format(df['TDvolume'].mean()))\n",
    "    print('Coupon mean: {:.5f}'.format(df['Coupon'].mean()))\n",
    "    print('Yield mean: {:.5f}'.format(df['Yield'].mean()))"
   ]
  },
  {
   "cell_type": "markdown",
   "id": "5ba6d2bb",
   "metadata": {},
   "source": [
    "### Query Selection"
   ]
  },
  {
   "cell_type": "code",
   "execution_count": 42,
   "id": "46fc8b35",
   "metadata": {},
   "outputs": [],
   "source": [
    "# vanilla\n",
    "bondReturns_vanilla = '''\n",
    "    SELECT\n",
    "        Date,\n",
    "        Cusip,\n",
    "        CompanySymbol,\n",
    "        Coupon,\n",
    "        Yield,\n",
    "        TDvolume,\n",
    "        RetEom / 100 AS R,\n",
    "        RatingNum,\n",
    "        RatingClass,\n",
    "        CASE\n",
    "            WHEN DATEDIFF(DAY, OfferingDate, Maturity) * 1.0 / 360 < 5 THEN 1\n",
    "            WHEN DATEDIFF(DAY, OfferingDate, Maturity) * 1.0 / 360 < 15 THEN 2\n",
    "            ELSE 3\n",
    "        END AS MaturityBand\n",
    "    FROM \n",
    "        BondReturns\n",
    "    WHERE\n",
    "        Cusip IN (SELECT DISTINCT CusipId FROM Trace_filtered_withRatings )\n",
    "'''\n",
    "\n",
    "# top performing bonds\n",
    "bondReturns_topPerforming = '''\n",
    "    SELECT\n",
    "        A.Date,\n",
    "        A.Cusip,\n",
    "        A.CompanySymbol,\n",
    "        A.Coupon,\n",
    "        A.Yield,\n",
    "        A.TDvolume,\n",
    "        A.RetEom / 100 AS R,\n",
    "        A.RatingNum,\n",
    "        A.RatingClass,\n",
    "        CASE\n",
    "            WHEN DATEDIFF(DAY, A.OfferingDate, A.Maturity) * 1.0 / 360 < 5 THEN 1\n",
    "            WHEN DATEDIFF(DAY, A.OfferingDate, A.Maturity) * 1.0 / 360 < 15 THEN 2\n",
    "            ELSE 3\n",
    "        END AS MaturityBand\n",
    "    FROM\n",
    "        BondReturns A\n",
    "    INNER JOIN (\n",
    "        SELECT\n",
    "            Date,\n",
    "            CompanySymbol,\n",
    "            MAX(TDvolume) AS MaxVolume\n",
    "        FROM \n",
    "            BondReturns\n",
    "        WHERE\n",
    "            Cusip IN (SELECT DISTINCT CusipId FROM Trace_filtered_withRatings)\n",
    "        GROUP BY\n",
    "            Date,\n",
    "            CompanySymbol\n",
    "    ) B ON A.Date = B.Date AND A.CompanySymbol = B.CompanySymbol AND A.TDvolume = B.MaxVolume\n",
    "'''"
   ]
  },
  {
   "cell_type": "code",
   "execution_count": 6,
   "id": "b4590732",
   "metadata": {},
   "outputs": [
    {
     "name": "stdout",
     "output_type": "stream",
     "text": [
      "Please type: vanilla | topPerforming\n",
      "vanilla\n"
     ]
    }
   ],
   "source": [
    "query_selection = input('Please type: vanilla | topPerforming\\n')"
   ]
  },
  {
   "cell_type": "code",
   "execution_count": 43,
   "id": "872a34b8",
   "metadata": {},
   "outputs": [],
   "source": [
    "if query_selection == 'vanilla':\n",
    "    query = bondReturns_vanilla\n",
    "    query_n = 'bondReturns_vanilla'\n",
    "else:\n",
    "    query = bondReturns_topPerforming\n",
    "    query_n = 'bondReturns_topPerforming'\n",
    "\n",
    "# read sql\n",
    "df = pd.read_sql(query, connection)\n",
    "df.to_csv('data/output/bonds/{}.csv'.format(query_n), index=False)\n",
    "\n",
    "# read csv\n",
    "df = pd.read_csv('data/output/bonds/{}.csv'.format(query_n))\n",
    "df['Date'] = pd.to_datetime(df['Date'])"
   ]
  },
  {
   "cell_type": "markdown",
   "id": "baca9eda",
   "metadata": {},
   "source": [
    "### Quantile Filtering and Outlier Visualization"
   ]
  },
  {
   "cell_type": "code",
   "execution_count": 44,
   "id": "e77aec74",
   "metadata": {},
   "outputs": [],
   "source": [
    "df['quantiles'] = pd.qcut(df.R, np.linspace(0, 1, 201), labels=np.linspace(0, 1, 200)).astype(float)\n",
    "df['outliers'] = np.where((df['quantiles'] > 0.995) | (df['quantiles'] < 0.005), 1, 0)\n",
    "df['Year'] = df['Date'].dt.year"
   ]
  },
  {
   "cell_type": "code",
   "execution_count": 45,
   "id": "4549431a",
   "metadata": {},
   "outputs": [
    {
     "data": {
      "image/png": "[encoded data removed]",
      "text/plain": [
       "<Figure size 1200x500 with 1 Axes>"
      ]
     },
     "metadata": {},
     "output_type": "display_data"
    }
   ],
   "source": [
    "df_g = df.groupby('Year')['outliers'].sum().reset_index()\n",
    "\n",
    "plt.figure(figsize=(12, 5))\n",
    "plt.title('Outliers Distribution')\n",
    "plt.bar(df_g['Year'], df_g['outliers'], width = 0.6)\n",
    "plt.xticks([i for i in range(2002, 2023)], fontsize=8)\n",
    "plt.show()"
   ]
  },
  {
   "cell_type": "code",
   "execution_count": 46,
   "id": "a8f46fdf",
   "metadata": {},
   "outputs": [],
   "source": [
    "# filter out outliers\n",
    "df = df[df['outliers'] == 0]"
   ]
  },
  {
   "cell_type": "markdown",
   "id": "ec23624e",
   "metadata": {},
   "source": [
    "### Exploratory Analysis"
   ]
  },
  {
   "cell_type": "code",
   "execution_count": 47,
   "id": "9484ce81",
   "metadata": {},
   "outputs": [
    {
     "data": {
      "text/plain": [
       "60013"
      ]
     },
     "execution_count": 47,
     "metadata": {},
     "output_type": "execute_result"
    }
   ],
   "source": [
    "df['Cusip'].nunique()"
   ]
  },
  {
   "cell_type": "code",
   "execution_count": 48,
   "id": "91690134",
   "metadata": {},
   "outputs": [
    {
     "data": {
      "text/plain": [
       "0.IG    1081436\n",
       "1.HY     227090\n",
       "NaN      138051\n",
       "Name: RatingClass, dtype: int64"
      ]
     },
     "execution_count": 48,
     "metadata": {},
     "output_type": "execute_result"
    }
   ],
   "source": [
    "# number of entries\n",
    "df['RatingClass'].value_counts(dropna=False)"
   ]
  },
  {
   "cell_type": "code",
   "execution_count": 49,
   "id": "4c391225",
   "metadata": {},
   "outputs": [
    {
     "data": {
      "text/plain": [
       "RatingClass\n",
       "0.IG    22601\n",
       "1.HY     5662\n",
       "NaN     38275\n",
       "Name: Cusip, dtype: int64"
      ]
     },
     "execution_count": 49,
     "metadata": {},
     "output_type": "execute_result"
    }
   ],
   "source": [
    "# number of distinct Cusips\n",
    "df.groupby('RatingClass', dropna=False).Cusip.nunique()"
   ]
  },
  {
   "cell_type": "code",
   "execution_count": 50,
   "id": "253eb4e5",
   "metadata": {},
   "outputs": [
    {
     "data": {
      "text/plain": [
       "2    844810\n",
       "3    386935\n",
       "1     78071\n",
       "Name: MaturityBand, dtype: int64"
      ]
     },
     "execution_count": 50,
     "metadata": {},
     "output_type": "execute_result"
    }
   ],
   "source": [
    "# drop NR\n",
    "df = df.dropna(subset=['RatingNum'])\n",
    "\n",
    "# number of entries\n",
    "df['MaturityBand'].value_counts(dropna=False)"
   ]
  },
  {
   "cell_type": "code",
   "execution_count": 51,
   "id": "510b02ca",
   "metadata": {},
   "outputs": [
    {
     "data": {
      "text/plain": [
       "MaturityBand\n",
       "1     4327\n",
       "2    17281\n",
       "3     4484\n",
       "Name: Cusip, dtype: int64"
      ]
     },
     "execution_count": 51,
     "metadata": {},
     "output_type": "execute_result"
    }
   ],
   "source": [
    "# number of distinct Cusips\n",
    "df.groupby('MaturityBand').Cusip.nunique()"
   ]
  },
  {
   "cell_type": "code",
   "execution_count": 52,
   "id": "5279fc8f",
   "metadata": {},
   "outputs": [
    {
     "data": {
      "text/plain": [
       "26092"
      ]
     },
     "execution_count": 52,
     "metadata": {},
     "output_type": "execute_result"
    }
   ],
   "source": [
    "df['Cusip'].nunique()"
   ]
  },
  {
   "cell_type": "code",
   "execution_count": 43,
   "id": "98565e7a",
   "metadata": {},
   "outputs": [],
   "source": [
    "# filtering\n",
    "# df = df[df['MaturityBand'] == 1]\n",
    "# df = df[df['RatingClass'] == '1.HY']"
   ]
  },
  {
   "cell_type": "code",
   "execution_count": 57,
   "id": "f400fc67",
   "metadata": {},
   "outputs": [
    {
     "name": "stdout",
     "output_type": "stream",
     "text": [
      "Number of observations: 1,309,816\n",
      "Returns: Mean: 0.38354 | Median: 0.21060 | Std returns: 2.59558\n",
      "Volume mean: 51078836.47833\n",
      "Coupon mean: 5.32929\n",
      "Yield mean: 4.40405\n"
     ]
    }
   ],
   "source": [
    "get_sample_particulars(df)"
   ]
  },
  {
   "cell_type": "markdown",
   "id": "09eb3055",
   "metadata": {},
   "source": [
    "### Portfolio Analysis"
   ]
  },
  {
   "cell_type": "code",
   "execution_count": 58,
   "id": "f5edd7a5",
   "metadata": {},
   "outputs": [],
   "source": [
    "# fill NULL returns\n",
    "df['R'] = df['R'].fillna(0)\n",
    "\n",
    "# log returns\n",
    "df['logR'] = np.log(1 + df['R'])"
   ]
  },
  {
   "cell_type": "code",
   "execution_count": 59,
   "id": "4fcdb723",
   "metadata": {},
   "outputs": [],
   "source": [
    "J = 6 # formation period\n",
    "\n",
    "df_ = df[\n",
    "    ['Cusip', 'Date', 'R', 'logR']\n",
    "].sort_values(['Cusip', 'Date']).set_index('Date')\n",
    "\n",
    "cumr = df_.groupby(['Cusip'])['logR'].rolling(J, min_periods=J).sum().reset_index()\n",
    "cumr = cumr.rename(columns = {'logR': 'SumLogR'})\n",
    "\n",
    "cumr['CumRet'] = np.exp(cumr['SumLogR'])-1"
   ]
  },
  {
   "cell_type": "code",
   "execution_count": 60,
   "id": "df7ced8b",
   "metadata": {},
   "outputs": [],
   "source": [
    "r = 10 # momentum ranking\n",
    "\n",
    "cumr = cumr.dropna(axis=0, subset=['CumRet'])\n",
    "\n",
    "cumr['MomR'] = cumr.groupby('Date')['CumRet'].transform(lambda x: pd.qcut(x, r, labels=False))\n",
    "cumr['MomR'] = 1 + cumr['MomR'].astype(int)"
   ]
  },
  {
   "cell_type": "code",
   "execution_count": 61,
   "id": "33a68ede",
   "metadata": {},
   "outputs": [
    {
     "data": {
      "text/plain": [
       "MomR\n",
       "1    -0.052158\n",
       "2    -0.014285\n",
       "3    -0.001259\n",
       "4     0.008666\n",
       "5     0.017445\n",
       "6     0.026247\n",
       "7     0.035904\n",
       "8     0.048338\n",
       "9     0.067143\n",
       "10    0.121236\n",
       "Name: CumRet, dtype: float64"
      ]
     },
     "execution_count": 61,
     "metadata": {},
     "output_type": "execute_result"
    }
   ],
   "source": [
    "cumr.groupby('MomR')['CumRet'].mean()"
   ]
  },
  {
   "cell_type": "code",
   "execution_count": 62,
   "id": "2eeee8db",
   "metadata": {},
   "outputs": [],
   "source": [
    "K = 6 # Holding Period Length: K can be between 3 to 12 months\n",
    "\n",
    "cumr['form_date'] = cumr['Date']\n",
    "cumr['medate'] = cumr['Date'] + MonthEnd(0)\n",
    "cumr['hdate1'] = cumr['medate'] + MonthBegin(1)\n",
    "cumr['hdate2'] = cumr['medate'] + MonthEnd(K)\n",
    "cumr = cumr[['Cusip', 'form_date','MomR','hdate1','hdate2']]\n",
    "\n",
    "port = pd.merge(df[['Cusip', 'Date', 'R']], cumr, on=['Cusip'], how='inner')\n",
    "port = port[(port['hdate1'] <= port['Date']) & (port['Date'] <= port['hdate2'])]\n",
    "port = port[['Cusip','form_date', 'MomR', 'hdate1','hdate2', 'Date', 'R']]\n",
    "port['Date'] = pd.to_datetime(port['Date'])"
   ]
  },
  {
   "cell_type": "code",
   "execution_count": 63,
   "id": "191008cc",
   "metadata": {},
   "outputs": [],
   "source": [
    "cumr_port = port.groupby(['Date','MomR', 'form_date'])['R'].mean().reset_index()\n",
    "\n",
    "start_yr = cumr_port['Date'].dt.year.min()+2\n",
    "cumr_port = cumr_port.loc[cumr_port.Date.dt.year >= start_yr]\n",
    "cumr_port = cumr_port.sort_values(by=['Date','MomR'])\n",
    "\n",
    "ewret = cumr_port.groupby(['Date','MomR'])['R'].mean().reset_index()\n",
    "ewstd = cumr_port.groupby(['Date','MomR'])['R'].std().reset_index()\n",
    "\n",
    "ewret = ewret.rename(columns={'R':'ewret'})\n",
    "ewstd = ewstd.rename(columns={'R':'ewretstd'})\n",
    "\n",
    "ewretdf = pd.merge(ewret, ewstd, on=['Date','MomR'], how='inner')\n",
    "ewretdf = ewretdf.sort_values(by=['MomR', 'Date'])"
   ]
  },
  {
   "cell_type": "code",
   "execution_count": 64,
   "id": "a025a20a",
   "metadata": {},
   "outputs": [
    {
     "data": {
      "text/html": [
       "<div>\n",
       "<style scoped>\n",
       "    .dataframe tbody tr th:only-of-type {\n",
       "        vertical-align: middle;\n",
       "    }\n",
       "\n",
       "    .dataframe tbody tr th {\n",
       "        vertical-align: top;\n",
       "    }\n",
       "\n",
       "    .dataframe thead th {\n",
       "        text-align: right;\n",
       "    }\n",
       "</style>\n",
       "<table border=\"1\" class=\"dataframe\">\n",
       "  <thead>\n",
       "    <tr style=\"text-align: right;\">\n",
       "      <th></th>\n",
       "      <th>MomR</th>\n",
       "      <th>count</th>\n",
       "      <th>mean</th>\n",
       "      <th>std</th>\n",
       "    </tr>\n",
       "  </thead>\n",
       "  <tbody>\n",
       "    <tr>\n",
       "      <th>0</th>\n",
       "      <td>1</td>\n",
       "      <td>213.0</td>\n",
       "      <td>0.005824</td>\n",
       "      <td>0.018677</td>\n",
       "    </tr>\n",
       "    <tr>\n",
       "      <th>1</th>\n",
       "      <td>2</td>\n",
       "      <td>213.0</td>\n",
       "      <td>0.003785</td>\n",
       "      <td>0.014712</td>\n",
       "    </tr>\n",
       "    <tr>\n",
       "      <th>2</th>\n",
       "      <td>3</td>\n",
       "      <td>213.0</td>\n",
       "      <td>0.003432</td>\n",
       "      <td>0.012813</td>\n",
       "    </tr>\n",
       "    <tr>\n",
       "      <th>3</th>\n",
       "      <td>4</td>\n",
       "      <td>213.0</td>\n",
       "      <td>0.003312</td>\n",
       "      <td>0.011587</td>\n",
       "    </tr>\n",
       "    <tr>\n",
       "      <th>4</th>\n",
       "      <td>5</td>\n",
       "      <td>213.0</td>\n",
       "      <td>0.003214</td>\n",
       "      <td>0.011258</td>\n",
       "    </tr>\n",
       "    <tr>\n",
       "      <th>5</th>\n",
       "      <td>6</td>\n",
       "      <td>213.0</td>\n",
       "      <td>0.003250</td>\n",
       "      <td>0.011235</td>\n",
       "    </tr>\n",
       "    <tr>\n",
       "      <th>6</th>\n",
       "      <td>7</td>\n",
       "      <td>213.0</td>\n",
       "      <td>0.003332</td>\n",
       "      <td>0.011624</td>\n",
       "    </tr>\n",
       "    <tr>\n",
       "      <th>7</th>\n",
       "      <td>8</td>\n",
       "      <td>213.0</td>\n",
       "      <td>0.003515</td>\n",
       "      <td>0.012988</td>\n",
       "    </tr>\n",
       "    <tr>\n",
       "      <th>8</th>\n",
       "      <td>9</td>\n",
       "      <td>213.0</td>\n",
       "      <td>0.003832</td>\n",
       "      <td>0.014921</td>\n",
       "    </tr>\n",
       "    <tr>\n",
       "      <th>9</th>\n",
       "      <td>10</td>\n",
       "      <td>213.0</td>\n",
       "      <td>0.004557</td>\n",
       "      <td>0.017126</td>\n",
       "    </tr>\n",
       "  </tbody>\n",
       "</table>\n",
       "</div>"
      ],
      "text/plain": [
       "   MomR  count      mean       std\n",
       "0     1  213.0  0.005824  0.018677\n",
       "1     2  213.0  0.003785  0.014712\n",
       "2     3  213.0  0.003432  0.012813\n",
       "3     4  213.0  0.003312  0.011587\n",
       "4     5  213.0  0.003214  0.011258\n",
       "5     6  213.0  0.003250  0.011235\n",
       "6     7  213.0  0.003332  0.011624\n",
       "7     8  213.0  0.003515  0.012988\n",
       "8     9  213.0  0.003832  0.014921\n",
       "9    10  213.0  0.004557  0.017126"
      ]
     },
     "execution_count": 64,
     "metadata": {},
     "output_type": "execute_result"
    }
   ],
   "source": [
    "ewretdf.groupby(['MomR'])['ewret'].describe()[['count','mean', 'std']].reset_index()"
   ]
  },
  {
   "cell_type": "code",
   "execution_count": 65,
   "id": "0d041aed",
   "metadata": {},
   "outputs": [
    {
     "data": {
      "text/html": [
       "<div>\n",
       "<style scoped>\n",
       "    .dataframe tbody tr th:only-of-type {\n",
       "        vertical-align: middle;\n",
       "    }\n",
       "\n",
       "    .dataframe tbody tr th {\n",
       "        vertical-align: top;\n",
       "    }\n",
       "\n",
       "    .dataframe thead th {\n",
       "        text-align: right;\n",
       "    }\n",
       "</style>\n",
       "<table border=\"1\" class=\"dataframe\">\n",
       "  <thead>\n",
       "    <tr style=\"text-align: right;\">\n",
       "      <th>MomR</th>\n",
       "      <th>losers</th>\n",
       "      <th>port2</th>\n",
       "      <th>port3</th>\n",
       "      <th>port4</th>\n",
       "      <th>port5</th>\n",
       "      <th>port6</th>\n",
       "      <th>port7</th>\n",
       "      <th>port8</th>\n",
       "      <th>port9</th>\n",
       "      <th>winners</th>\n",
       "      <th>long_short</th>\n",
       "    </tr>\n",
       "    <tr>\n",
       "      <th>Date</th>\n",
       "      <th></th>\n",
       "      <th></th>\n",
       "      <th></th>\n",
       "      <th></th>\n",
       "      <th></th>\n",
       "      <th></th>\n",
       "      <th></th>\n",
       "      <th></th>\n",
       "      <th></th>\n",
       "      <th></th>\n",
       "      <th></th>\n",
       "    </tr>\n",
       "  </thead>\n",
       "  <tbody>\n",
       "    <tr>\n",
       "      <th>2005-01-31</th>\n",
       "      <td>0.005021</td>\n",
       "      <td>0.004182</td>\n",
       "      <td>0.003360</td>\n",
       "      <td>0.003040</td>\n",
       "      <td>0.003771</td>\n",
       "      <td>0.005100</td>\n",
       "      <td>0.007284</td>\n",
       "      <td>0.008823</td>\n",
       "      <td>0.011559</td>\n",
       "      <td>0.008950</td>\n",
       "      <td>0.003929</td>\n",
       "    </tr>\n",
       "    <tr>\n",
       "      <th>2005-02-28</th>\n",
       "      <td>0.006777</td>\n",
       "      <td>0.001432</td>\n",
       "      <td>0.000113</td>\n",
       "      <td>0.000123</td>\n",
       "      <td>0.000083</td>\n",
       "      <td>0.000485</td>\n",
       "      <td>0.001010</td>\n",
       "      <td>0.003076</td>\n",
       "      <td>0.005849</td>\n",
       "      <td>0.011759</td>\n",
       "      <td>0.004982</td>\n",
       "    </tr>\n",
       "    <tr>\n",
       "      <th>2005-03-31</th>\n",
       "      <td>-0.011626</td>\n",
       "      <td>-0.003088</td>\n",
       "      <td>-0.004497</td>\n",
       "      <td>-0.007961</td>\n",
       "      <td>-0.010757</td>\n",
       "      <td>-0.013995</td>\n",
       "      <td>-0.016157</td>\n",
       "      <td>-0.020687</td>\n",
       "      <td>-0.022786</td>\n",
       "      <td>-0.027260</td>\n",
       "      <td>-0.015634</td>\n",
       "    </tr>\n",
       "    <tr>\n",
       "      <th>2005-04-30</th>\n",
       "      <td>0.001709</td>\n",
       "      <td>0.005602</td>\n",
       "      <td>0.006009</td>\n",
       "      <td>0.006271</td>\n",
       "      <td>0.007352</td>\n",
       "      <td>0.008046</td>\n",
       "      <td>0.009698</td>\n",
       "      <td>0.011426</td>\n",
       "      <td>0.011549</td>\n",
       "      <td>0.003050</td>\n",
       "      <td>0.001342</td>\n",
       "    </tr>\n",
       "    <tr>\n",
       "      <th>2005-05-31</th>\n",
       "      <td>0.009633</td>\n",
       "      <td>0.006597</td>\n",
       "      <td>0.005428</td>\n",
       "      <td>0.006437</td>\n",
       "      <td>0.007134</td>\n",
       "      <td>0.009290</td>\n",
       "      <td>0.010387</td>\n",
       "      <td>0.011875</td>\n",
       "      <td>0.013713</td>\n",
       "      <td>0.016243</td>\n",
       "      <td>0.006610</td>\n",
       "    </tr>\n",
       "  </tbody>\n",
       "</table>\n",
       "</div>"
      ],
      "text/plain": [
       "MomR          losers     port2     port3     port4     port5     port6  \\\n",
       "Date                                                                     \n",
       "2005-01-31  0.005021  0.004182  0.003360  0.003040  0.003771  0.005100   \n",
       "2005-02-28  0.006777  0.001432  0.000113  0.000123  0.000083  0.000485   \n",
       "2005-03-31 -0.011626 -0.003088 -0.004497 -0.007961 -0.010757 -0.013995   \n",
       "2005-04-30  0.001709  0.005602  0.006009  0.006271  0.007352  0.008046   \n",
       "2005-05-31  0.009633  0.006597  0.005428  0.006437  0.007134  0.009290   \n",
       "\n",
       "MomR           port7     port8     port9   winners  long_short  \n",
       "Date                                                            \n",
       "2005-01-31  0.007284  0.008823  0.011559  0.008950    0.003929  \n",
       "2005-02-28  0.001010  0.003076  0.005849  0.011759    0.004982  \n",
       "2005-03-31 -0.016157 -0.020687 -0.022786 -0.027260   -0.015634  \n",
       "2005-04-30  0.009698  0.011426  0.011549  0.003050    0.001342  \n",
       "2005-05-31  0.010387  0.011875  0.013713  0.016243    0.006610  "
      ]
     },
     "execution_count": 65,
     "metadata": {},
     "output_type": "execute_result"
    }
   ],
   "source": [
    "ewret_t = ewretdf.pivot(index='Date', columns='MomR', values='ewret') \n",
    "\n",
    "# Add prefix port in front of each column \n",
    "ewret_t = ewret_t.add_prefix('port') \n",
    "ewret_t = ewret_t.rename(columns={'port1':'losers', 'port10':'winners'}) \n",
    "ewret_t['long_short'] = ewret_t.winners - ewret_t.losers\n",
    "ewret_t.head()"
   ]
  },
  {
   "cell_type": "code",
   "execution_count": 66,
   "id": "982f2fa7",
   "metadata": {},
   "outputs": [
    {
     "data": {
      "text/html": [
       "<div>\n",
       "<style scoped>\n",
       "    .dataframe tbody tr th:only-of-type {\n",
       "        vertical-align: middle;\n",
       "    }\n",
       "\n",
       "    .dataframe tbody tr th {\n",
       "        vertical-align: top;\n",
       "    }\n",
       "\n",
       "    .dataframe thead th {\n",
       "        text-align: right;\n",
       "    }\n",
       "</style>\n",
       "<table border=\"1\" class=\"dataframe\">\n",
       "  <thead>\n",
       "    <tr style=\"text-align: right;\">\n",
       "      <th></th>\n",
       "      <th>MomR</th>\n",
       "      <th>mean</th>\n",
       "    </tr>\n",
       "  </thead>\n",
       "  <tbody>\n",
       "    <tr>\n",
       "      <th>0</th>\n",
       "      <td>winners</td>\n",
       "      <td>0.004557</td>\n",
       "    </tr>\n",
       "    <tr>\n",
       "      <th>1</th>\n",
       "      <td>losers</td>\n",
       "      <td>0.005824</td>\n",
       "    </tr>\n",
       "    <tr>\n",
       "      <th>2</th>\n",
       "      <td>long_short</td>\n",
       "      <td>-0.001267</td>\n",
       "    </tr>\n",
       "  </tbody>\n",
       "</table>\n",
       "</div>"
      ],
      "text/plain": [
       "         MomR      mean\n",
       "0     winners  0.004557\n",
       "1      losers  0.005824\n",
       "2  long_short -0.001267"
      ]
     },
     "execution_count": 66,
     "metadata": {},
     "output_type": "execute_result"
    }
   ],
   "source": [
    "ewret_t['cumret_winners'] = (1 + ewret_t.winners).cumprod() - 1 \n",
    "ewret_t['cumret_losers'] = (1 + ewret_t.losers).cumprod() - 1\n",
    "ewret_t['cumret_long_short'] = (1 + ewret_t.long_short).cumprod() - 1\n",
    "\n",
    "mom_mean = ewret_t[['winners', 'losers', 'long_short']].mean().to_frame() \n",
    "mom_mean = mom_mean.rename(columns={0:'mean'}).reset_index() \n",
    "mom_mean"
   ]
  },
  {
   "cell_type": "code",
   "execution_count": 67,
   "id": "2b4a08fd",
   "metadata": {},
   "outputs": [],
   "source": [
    "t_losers = pd.Series(stats.ttest_1samp(ewret_t['losers'], 0.0)).to_frame().T \n",
    "t_winners = pd.Series(stats.ttest_1samp(ewret_t['winners'], 0.0)).to_frame().T \n",
    "t_long_short = pd.Series(stats.ttest_1samp(ewret_t['long_short'], 0.0)).to_frame().T\n",
    "\n",
    "t_losers['MomR'] = 'losers' \n",
    "t_winners['MomR'] = 'winners' \n",
    "t_long_short['MomR'] = 'long_short'"
   ]
  },
  {
   "cell_type": "code",
   "execution_count": 68,
   "id": "48920137",
   "metadata": {},
   "outputs": [
    {
     "name": "stdout",
     "output_type": "stream",
     "text": [
      "Momentum Strategy Summary:\n",
      "\n",
      "          MomR    mean t-stat p-value\n",
      "0     winners   0.46%   3.88    0.00\n",
      "1      losers   0.58%   4.55    0.00\n",
      "2  long_short  -0.13%  -1.28    0.20\n"
     ]
    }
   ],
   "source": [
    "t_output = pd.concat([t_winners, t_losers, t_long_short]).rename(columns={0:'t-stat', 1:'p-value'}) \n",
    "\n",
    "# Combine mean, t and p and format output \n",
    "mom_output = pd.merge(mom_mean, t_output, on=['MomR'], how='inner')\n",
    "\n",
    "mom_output['mean'] = mom_output['mean'].map('{:.2%}'.format) \n",
    "mom_output['t-stat'] = mom_output['t-stat'].map('{:.2f}'.format) \n",
    "mom_output['p-value'] = mom_output['p-value'].map('{:.2f}'.format) \n",
    "\n",
    "print('Momentum Strategy Summary:\\n\\n', mom_output)"
   ]
  },
  {
   "cell_type": "code",
   "execution_count": 69,
   "id": "92fe6de4",
   "metadata": {},
   "outputs": [
    {
     "data": {
      "image/png": "[encoded data removed]",
      "text/plain": [
       "<Figure size 1200x900 with 2 Axes>"
      ]
     },
     "metadata": {},
     "output_type": "display_data"
    }
   ],
   "source": [
    "plt.figure(figsize=(12,9)) \n",
    "plt.suptitle('Momentum Strategy', fontsize=20) \n",
    "\n",
    "ax1 = plt.subplot(211) \n",
    "ax1.set_title('Long/Short Momentum Strategy', fontsize=15) \n",
    "ax1.plot(ewret_t['cumret_long_short']) \n",
    "\n",
    "ax2 = plt.subplot(212) \n",
    "ax2.set_title('Cumulative Momentum Portfolios', fontsize=15) \n",
    "ax2.plot(ewret_t['cumret_winners'], 'b-', ewret_t['cumret_losers'], 'r--') \n",
    "ax2.legend(('Winners','Losers'), loc='upper left', shadow=True) \n",
    "\n",
    "plt.subplots_adjust(top=0.92, hspace=0.2)"
   ]
  }
 ],
 "metadata": {
  "kernelspec": {
   "display_name": "Python 3 (ipykernel)",
   "language": "python",
   "name": "python3"
  },
  "language_info": {
   "codemirror_mode": {
    "name": "ipython",
    "version": 3
   },
   "file_extension": ".py",
   "mimetype": "text/x-python",
   "name": "python",
   "nbconvert_exporter": "python",
   "pygments_lexer": "ipython3",
   "version": "3.10.12"
  }
 },
 "nbformat": 4,
 "nbformat_minor": 5
}
