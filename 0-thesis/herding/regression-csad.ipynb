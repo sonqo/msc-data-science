{
 "cells": [
  {
   "cell_type": "code",
   "execution_count": 1,
   "id": "cde8ac56",
   "metadata": {},
   "outputs": [],
   "source": [
    "import pandas as pd\n",
    "from linearmodels.iv import IVGMM\n",
    "from statsmodels.api import add_constant"
   ]
  },
  {
   "cell_type": "code",
   "execution_count": 2,
   "id": "5ae279b1",
   "metadata": {},
   "outputs": [
    {
     "data": {
      "text/html": [
       "<div>\n",
       "<style scoped>\n",
       "    .dataframe tbody tr th:only-of-type {\n",
       "        vertical-align: middle;\n",
       "    }\n",
       "\n",
       "    .dataframe tbody tr th {\n",
       "        vertical-align: top;\n",
       "    }\n",
       "\n",
       "    .dataframe thead th {\n",
       "        text-align: right;\n",
       "    }\n",
       "</style>\n",
       "<table border=\"1\" class=\"dataframe\">\n",
       "  <thead>\n",
       "    <tr style=\"text-align: right;\">\n",
       "      <th></th>\n",
       "      <th>const</th>\n",
       "      <th>Date</th>\n",
       "      <th>Rm</th>\n",
       "      <th>AbsoluteRm</th>\n",
       "      <th>SquaredRm</th>\n",
       "      <th>Csad</th>\n",
       "      <th>Index</th>\n",
       "    </tr>\n",
       "  </thead>\n",
       "  <tbody>\n",
       "    <tr>\n",
       "      <th>0</th>\n",
       "      <td>1.0</td>\n",
       "      <td>2002-08-31</td>\n",
       "      <td>0.000217</td>\n",
       "      <td>0.000217</td>\n",
       "      <td>4.722692e-08</td>\n",
       "      <td>0.019748</td>\n",
       "      <td>0</td>\n",
       "    </tr>\n",
       "    <tr>\n",
       "      <th>1</th>\n",
       "      <td>1.0</td>\n",
       "      <td>2002-09-30</td>\n",
       "      <td>0.000085</td>\n",
       "      <td>0.000085</td>\n",
       "      <td>7.273449e-09</td>\n",
       "      <td>0.002995</td>\n",
       "      <td>1</td>\n",
       "    </tr>\n",
       "    <tr>\n",
       "      <th>2</th>\n",
       "      <td>1.0</td>\n",
       "      <td>2002-10-31</td>\n",
       "      <td>0.000002</td>\n",
       "      <td>0.000002</td>\n",
       "      <td>3.082264e-12</td>\n",
       "      <td>0.000002</td>\n",
       "      <td>2</td>\n",
       "    </tr>\n",
       "    <tr>\n",
       "      <th>3</th>\n",
       "      <td>1.0</td>\n",
       "      <td>2002-11-30</td>\n",
       "      <td>0.000320</td>\n",
       "      <td>0.000320</td>\n",
       "      <td>1.025770e-07</td>\n",
       "      <td>0.026083</td>\n",
       "      <td>3</td>\n",
       "    </tr>\n",
       "    <tr>\n",
       "      <th>4</th>\n",
       "      <td>1.0</td>\n",
       "      <td>2002-12-31</td>\n",
       "      <td>0.000254</td>\n",
       "      <td>0.000254</td>\n",
       "      <td>6.429772e-08</td>\n",
       "      <td>0.007987</td>\n",
       "      <td>4</td>\n",
       "    </tr>\n",
       "  </tbody>\n",
       "</table>\n",
       "</div>"
      ],
      "text/plain": [
       "   const        Date        Rm  AbsoluteRm     SquaredRm      Csad  Index\n",
       "0    1.0  2002-08-31  0.000217    0.000217  4.722692e-08  0.019748      0\n",
       "1    1.0  2002-09-30  0.000085    0.000085  7.273449e-09  0.002995      1\n",
       "2    1.0  2002-10-31  0.000002    0.000002  3.082264e-12  0.000002      2\n",
       "3    1.0  2002-11-30  0.000320    0.000320  1.025770e-07  0.026083      3\n",
       "4    1.0  2002-12-31  0.000254    0.000254  6.429772e-08  0.007987      4"
      ]
     },
     "execution_count": 2,
     "metadata": {},
     "output_type": "execute_result"
    }
   ],
   "source": [
    "# all\n",
    "df = pd.read_csv('source/csad.csv')\n",
    "\n",
    "# # add constant\n",
    "df = add_constant(df, has_constant='add')\n",
    "df = df.sort_values(by='Date').reset_index(drop=True)\n",
    "df['Index'] = df.index\n",
    "\n",
    "df.head()"
   ]
  },
  {
   "cell_type": "markdown",
   "id": "88ec72c3",
   "metadata": {},
   "source": [
    "## Model 1: All"
   ]
  },
  {
   "cell_type": "markdown",
   "id": "246bcce8",
   "metadata": {},
   "source": [
    "#### TSNL"
   ]
  },
  {
   "cell_type": "code",
   "execution_count": 3,
   "id": "42ff48f2",
   "metadata": {},
   "outputs": [
    {
     "name": "stdout",
     "output_type": "stream",
     "text": [
      "                          IV-GMM Estimation Summary                           \n",
      "==============================================================================\n",
      "Dep. Variable:                   Csad   R-squared:                      0.7218\n",
      "Estimator:                     IV-GMM   Adj. R-squared:                 0.7171\n",
      "No. Observations:                 242   F-statistic:                    627.80\n",
      "Date:                Fri, Sep 15 2023   P-value (F-stat)                0.0000\n",
      "Time:                        00:33:59   Distribution:                  chi2(4)\n",
      "Cov. Estimator:            unadjusted                                         \n",
      "                                                                              \n",
      "                             Parameter Estimates                              \n",
      "==============================================================================\n",
      "            Parameter  Std. Err.     T-stat    P-value    Lower CI    Upper CI\n",
      "------------------------------------------------------------------------------\n",
      "Rm            -2.2504     1.7362    -1.2961     0.1949     -5.6533      1.1525\n",
      "AbsoluteRm     71.878     5.4475     13.195     0.0000      61.201      82.555\n",
      "SquaredRm  -3.329e+04     9566.2    -3.4797     0.0005  -5.204e+04  -1.454e+04\n",
      "Index       1.297e-05  3.823e-06     3.3923     0.0007   5.475e-06   2.046e-05\n",
      "const         -0.0014     0.0007    -2.1614     0.0307     -0.0027     -0.0001\n",
      "==============================================================================\n"
     ]
    }
   ],
   "source": [
    "res_ols_v1 = IVGMM(\n",
    "    df.Csad, df[\n",
    "        ['Rm', 'AbsoluteRm', 'SquaredRm', 'Index', 'const']\n",
    "    ], None, None\n",
    ").fit(cov_type='unadjusted')\n",
    "\n",
    "print(res_ols_v1)"
   ]
  }
 ],
 "metadata": {
  "kernelspec": {
   "display_name": "Python 3 (ipykernel)",
   "language": "python",
   "name": "python3"
  },
  "language_info": {
   "codemirror_mode": {
    "name": "ipython",
    "version": 3
   },
   "file_extension": ".py",
   "mimetype": "text/x-python",
   "name": "python",
   "nbconvert_exporter": "python",
   "pygments_lexer": "ipython3",
   "version": "3.11.4"
  }
 },
 "nbformat": 4,
 "nbformat_minor": 5
}
