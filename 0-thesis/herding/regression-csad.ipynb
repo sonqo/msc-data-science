{
 "cells": [
  {
   "cell_type": "code",
   "execution_count": 4,
   "id": "cde8ac56",
   "metadata": {},
   "outputs": [],
   "source": [
    "import pandas as pd\n",
    "from linearmodels.iv import IVGMM\n",
    "from statsmodels.api import add_constant"
   ]
  },
  {
   "cell_type": "code",
   "execution_count": 2,
   "id": "5ae279b1",
   "metadata": {},
   "outputs": [
    {
     "data": {
      "text/html": [
       "<div>\n",
       "<style scoped>\n",
       "    .dataframe tbody tr th:only-of-type {\n",
       "        vertical-align: middle;\n",
       "    }\n",
       "\n",
       "    .dataframe tbody tr th {\n",
       "        vertical-align: top;\n",
       "    }\n",
       "\n",
       "    .dataframe thead th {\n",
       "        text-align: right;\n",
       "    }\n",
       "</style>\n",
       "<table border=\"1\" class=\"dataframe\">\n",
       "  <thead>\n",
       "    <tr style=\"text-align: right;\">\n",
       "      <th></th>\n",
       "      <th>const</th>\n",
       "      <th>Date</th>\n",
       "      <th>Rm</th>\n",
       "      <th>AbsoluteRm</th>\n",
       "      <th>SquaredRm</th>\n",
       "      <th>Csad</th>\n",
       "      <th>Index</th>\n",
       "    </tr>\n",
       "  </thead>\n",
       "  <tbody>\n",
       "    <tr>\n",
       "      <th>0</th>\n",
       "      <td>1.0</td>\n",
       "      <td>2002-08-31</td>\n",
       "      <td>0.021732</td>\n",
       "      <td>0.021732</td>\n",
       "      <td>4.722692e-04</td>\n",
       "      <td>0.019743</td>\n",
       "      <td>0</td>\n",
       "    </tr>\n",
       "    <tr>\n",
       "      <th>1</th>\n",
       "      <td>1.0</td>\n",
       "      <td>2002-09-30</td>\n",
       "      <td>0.008528</td>\n",
       "      <td>0.008528</td>\n",
       "      <td>7.273449e-05</td>\n",
       "      <td>0.002993</td>\n",
       "      <td>1</td>\n",
       "    </tr>\n",
       "    <tr>\n",
       "      <th>2</th>\n",
       "      <td>1.0</td>\n",
       "      <td>2002-10-31</td>\n",
       "      <td>0.000176</td>\n",
       "      <td>0.000176</td>\n",
       "      <td>3.082264e-08</td>\n",
       "      <td>0.000002</td>\n",
       "      <td>2</td>\n",
       "    </tr>\n",
       "    <tr>\n",
       "      <th>3</th>\n",
       "      <td>1.0</td>\n",
       "      <td>2002-11-30</td>\n",
       "      <td>0.032028</td>\n",
       "      <td>0.032028</td>\n",
       "      <td>1.025770e-03</td>\n",
       "      <td>0.026076</td>\n",
       "      <td>3</td>\n",
       "    </tr>\n",
       "    <tr>\n",
       "      <th>4</th>\n",
       "      <td>1.0</td>\n",
       "      <td>2002-12-31</td>\n",
       "      <td>0.025357</td>\n",
       "      <td>0.025357</td>\n",
       "      <td>6.429772e-04</td>\n",
       "      <td>0.007982</td>\n",
       "      <td>4</td>\n",
       "    </tr>\n",
       "  </tbody>\n",
       "</table>\n",
       "</div>"
      ],
      "text/plain": [
       "   const        Date        Rm  AbsoluteRm     SquaredRm      Csad  Index\n",
       "0    1.0  2002-08-31  0.021732    0.021732  4.722692e-04  0.019743      0\n",
       "1    1.0  2002-09-30  0.008528    0.008528  7.273449e-05  0.002993      1\n",
       "2    1.0  2002-10-31  0.000176    0.000176  3.082264e-08  0.000002      2\n",
       "3    1.0  2002-11-30  0.032028    0.032028  1.025770e-03  0.026076      3\n",
       "4    1.0  2002-12-31  0.025357    0.025357  6.429772e-04  0.007982      4"
      ]
     },
     "execution_count": 2,
     "metadata": {},
     "output_type": "execute_result"
    }
   ],
   "source": [
    "# all\n",
    "df = pd.read_csv('source/csad.csv')\n",
    "\n",
    "# # add constant\n",
    "df = add_constant(df, has_constant='add')\n",
    "df = df.sort_values(by='Date').reset_index(drop=True)\n",
    "df['Index'] = df.index\n",
    "\n",
    "df.head()"
   ]
  },
  {
   "cell_type": "markdown",
   "id": "88ec72c3",
   "metadata": {},
   "source": [
    "## Model 1: All"
   ]
  },
  {
   "cell_type": "markdown",
   "id": "246bcce8",
   "metadata": {},
   "source": [
    "#### TSNL"
   ]
  },
  {
   "cell_type": "code",
   "execution_count": 5,
   "id": "42ff48f2",
   "metadata": {},
   "outputs": [
    {
     "name": "stdout",
     "output_type": "stream",
     "text": [
      "                          IV-GMM Estimation Summary                           \n",
      "==============================================================================\n",
      "Dep. Variable:                   Csad   R-squared:                      0.7084\n",
      "Estimator:                     IV-GMM   Adj. R-squared:                 0.7047\n",
      "No. Observations:                 242   F-statistic:                    587.88\n",
      "Date:                Fri, Sep 15 2023   P-value (F-stat)                0.0000\n",
      "Time:                        15:58:11   Distribution:                  chi2(3)\n",
      "Cov. Estimator:            unadjusted                                         \n",
      "                                                                              \n",
      "                             Parameter Estimates                              \n",
      "==============================================================================\n",
      "            Parameter  Std. Err.     T-stat    P-value    Lower CI    Upper CI\n",
      "------------------------------------------------------------------------------\n",
      "Rm            -0.0319     0.0175    -1.8153     0.0695     -0.0662      0.0025\n",
      "AbsoluteRm     0.7226     0.0557     12.963     0.0000      0.6133      0.8319\n",
      "SquaredRm     -3.4183     0.9788    -3.4924     0.0005     -5.3367     -1.4999\n",
      "const          0.0002     0.0005     0.3252     0.7450     -0.0008      0.0011\n",
      "==============================================================================\n"
     ]
    }
   ],
   "source": [
    "res_ols_v1 = IVGMM(\n",
    "    df.Csad, df[\n",
    "        ['Rm', 'AbsoluteRm', 'SquaredRm', 'const']\n",
    "    ], None, None\n",
    ").fit(cov_type='unadjusted')\n",
    "\n",
    "print(res_ols_v1)"
   ]
  }
 ],
 "metadata": {
  "kernelspec": {
   "display_name": "Python 3 (ipykernel)",
   "language": "python",
   "name": "python3"
  },
  "language_info": {
   "codemirror_mode": {
    "name": "ipython",
    "version": 3
   },
   "file_extension": ".py",
   "mimetype": "text/x-python",
   "name": "python",
   "nbconvert_exporter": "python",
   "pygments_lexer": "ipython3",
   "version": "3.10.12"
  }
 },
 "nbformat": 4,
 "nbformat_minor": 5
}
