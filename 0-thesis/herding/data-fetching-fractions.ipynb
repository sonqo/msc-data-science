{
 "cells": [
  {
   "cell_type": "code",
   "execution_count": 1,
   "metadata": {},
   "outputs": [],
   "source": [
    "import os\n",
    "import pandas as pd\n",
    "import sqlalchemy as db\n",
    "from dotenv import load_dotenv"
   ]
  },
  {
   "cell_type": "code",
   "execution_count": 2,
   "metadata": {},
   "outputs": [],
   "source": [
    "load_dotenv()\n",
    "\n",
    "# config and credentials\n",
    "server = os.getenv('server')\n",
    "database = os.getenv('database')\n",
    "username = os.getenv('username')\n",
    "password = os.getenv('password')\n",
    "\n",
    "# connection\n",
    "engine = db.create_engine(\n",
    "    'mssql://{}:{}@{}/{}?driver=ODBC+Driver+18+for+SQL+Server'.format(\n",
    "        username, password, server, database\n",
    "    )\n",
    ")\n",
    "\n",
    "# establish connection\n",
    "connection = engine.connect()"
   ]
  },
  {
   "cell_type": "markdown",
   "metadata": {},
   "source": [
    "### Cusips"
   ]
  },
  {
   "cell_type": "code",
   "execution_count": 3,
   "metadata": {},
   "outputs": [],
   "source": [
    "query = '''\n",
    "    DECLARE @RC int\n",
    "    EXECUTE @RC = [dbo].[Herding_FractionsCusips]\n",
    "        {}\n",
    "'''\n",
    "\n",
    "timeframe = {\n",
    "    1: '-daily', 7: '-weekly', 30: '-monthly', 90: '-quarterly', 360: '-yearly'\n",
    "}\n",
    "\n",
    "for tf, tf_desc in timeframe.items():\n",
    "    df = pd.read_sql_query(query.format(tf), connection)\n",
    "    df.to_csv('source/fractions-cusips{}.csv'.format(tf_desc), index=False)"
   ]
  },
  {
   "cell_type": "markdown",
   "metadata": {},
   "source": [
    "### Issuers"
   ]
  },
  {
   "cell_type": "code",
   "execution_count": 4,
   "metadata": {},
   "outputs": [],
   "source": [
    "query = '''\n",
    "    DECLARE @RC int\n",
    "    EXECUTE @RC = [dbo].[Herding_FractionsIssuers]\n",
    "        {}\n",
    "'''\n",
    "\n",
    "timeframe = {\n",
    "    1: '-daily', 7: '-weekly', 30: '-monthly', 90: '-quarterly', 360: '-yearly'\n",
    "}\n",
    "\n",
    "for tf, tf_desc in timeframe.items():\n",
    "    df = pd.read_sql_query(query.format(tf), connection)\n",
    "    df.to_csv('source/fractions-issuers{}.csv'.format(tf_desc), index=False)"
   ]
  }
 ],
 "metadata": {
  "kernelspec": {
   "display_name": "msc-thesis",
   "language": "python",
   "name": "python3"
  },
  "language_info": {
   "codemirror_mode": {
    "name": "ipython",
    "version": 3
   },
   "file_extension": ".py",
   "mimetype": "text/x-python",
   "name": "python",
   "nbconvert_exporter": "python",
   "pygments_lexer": "ipython3",
   "version": "3.11.4"
  },
  "orig_nbformat": 4
 },
 "nbformat": 4,
 "nbformat_minor": 2
}
