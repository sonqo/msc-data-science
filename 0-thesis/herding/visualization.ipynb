{
 "cells": [
  {
   "cell_type": "code",
   "execution_count": null,
   "metadata": {},
   "outputs": [],
   "source": [
    "### Cross SectionAL Absolute Deviation\n",
    "\n",
    "df = pd.read_csv('source/herding_bondMarket_None_2002-2022.csv')\n",
    "\n",
    "df['Datadate_'] = pd.to_datetime(df['Date'])\n",
    "\n",
    "fig, ax = plt.subplots(figsize=(18, 6))\n",
    "\n",
    "plt.title('Cross Sectional Absolute Deviation (CSAD) for the US bond market (2002–2022)')\n",
    "\n",
    "ax.plot(df['Datadate_'], df['Csad'])\n",
    "\n",
    "ax.xaxis.set_major_locator(mdates.YearLocator())\n",
    "\n",
    "plt.xticks(rotation=90)\n",
    "plt.xlim([pd.to_datetime('2002-04-01'), pd.to_datetime('2023-01-31')])\n",
    "\n",
    "plt.show()"
   ]
  }
 ],
 "metadata": {
  "language_info": {
   "name": "python"
  },
  "orig_nbformat": 4
 },
 "nbformat": 4,
 "nbformat_minor": 2
}
