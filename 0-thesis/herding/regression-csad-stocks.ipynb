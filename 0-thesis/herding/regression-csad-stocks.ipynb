{
 "cells": [
  {
   "cell_type": "code",
   "execution_count": 1,
   "id": "cde8ac56",
   "metadata": {},
   "outputs": [],
   "source": [
    "import numpy as np\n",
    "import pandas as pd\n",
    "from linearmodels.iv import IV2SLS\n",
    "from statsmodels.api import add_constant"
   ]
  },
  {
   "cell_type": "code",
   "execution_count": 2,
   "id": "5ae279b1",
   "metadata": {},
   "outputs": [
    {
     "data": {
      "text/html": [
       "<div>\n",
       "<style scoped>\n",
       "    .dataframe tbody tr th:only-of-type {\n",
       "        vertical-align: middle;\n",
       "    }\n",
       "\n",
       "    .dataframe tbody tr th {\n",
       "        vertical-align: top;\n",
       "    }\n",
       "\n",
       "    .dataframe thead th {\n",
       "        text-align: right;\n",
       "    }\n",
       "</style>\n",
       "<table border=\"1\" class=\"dataframe\">\n",
       "  <thead>\n",
       "    <tr style=\"text-align: right;\">\n",
       "      <th></th>\n",
       "      <th>const</th>\n",
       "      <th>Datadate</th>\n",
       "      <th>MktRf</th>\n",
       "      <th>Smb</th>\n",
       "      <th>Hml</th>\n",
       "      <th>Rmw</th>\n",
       "      <th>Cma</th>\n",
       "      <th>Rf</th>\n",
       "      <th>Mom</th>\n",
       "      <th>Rm</th>\n",
       "      <th>AbsoluteRm</th>\n",
       "      <th>SquaredRm</th>\n",
       "      <th>Csad</th>\n",
       "      <th>index</th>\n",
       "    </tr>\n",
       "  </thead>\n",
       "  <tbody>\n",
       "    <tr>\n",
       "      <th>1</th>\n",
       "      <td>1.0</td>\n",
       "      <td>2002-02-28</td>\n",
       "      <td>-0.001153</td>\n",
       "      <td>-0.000232</td>\n",
       "      <td>0.001205</td>\n",
       "      <td>0.004358</td>\n",
       "      <td>0.002695</td>\n",
       "      <td>0.00007</td>\n",
       "      <td>0.002826</td>\n",
       "      <td>-0.001083</td>\n",
       "      <td>0.001083</td>\n",
       "      <td>1.172091e-06</td>\n",
       "      <td>0.082511</td>\n",
       "      <td>1</td>\n",
       "    </tr>\n",
       "    <tr>\n",
       "      <th>2</th>\n",
       "      <td>1.0</td>\n",
       "      <td>2002-03-31</td>\n",
       "      <td>0.002135</td>\n",
       "      <td>0.001985</td>\n",
       "      <td>0.000500</td>\n",
       "      <td>-0.000895</td>\n",
       "      <td>0.000255</td>\n",
       "      <td>0.00007</td>\n",
       "      <td>-0.000380</td>\n",
       "      <td>0.002205</td>\n",
       "      <td>0.002205</td>\n",
       "      <td>4.862025e-06</td>\n",
       "      <td>0.082475</td>\n",
       "      <td>2</td>\n",
       "    </tr>\n",
       "    <tr>\n",
       "      <th>3</th>\n",
       "      <td>1.0</td>\n",
       "      <td>2002-04-30</td>\n",
       "      <td>-0.002382</td>\n",
       "      <td>0.003118</td>\n",
       "      <td>0.001764</td>\n",
       "      <td>0.002077</td>\n",
       "      <td>0.002418</td>\n",
       "      <td>0.00007</td>\n",
       "      <td>0.003732</td>\n",
       "      <td>-0.002312</td>\n",
       "      <td>0.002312</td>\n",
       "      <td>5.344503e-06</td>\n",
       "      <td>0.013145</td>\n",
       "      <td>3</td>\n",
       "    </tr>\n",
       "    <tr>\n",
       "      <th>4</th>\n",
       "      <td>1.0</td>\n",
       "      <td>2002-05-31</td>\n",
       "      <td>-0.000545</td>\n",
       "      <td>-0.001436</td>\n",
       "      <td>0.000655</td>\n",
       "      <td>0.001023</td>\n",
       "      <td>0.001077</td>\n",
       "      <td>0.00007</td>\n",
       "      <td>0.001668</td>\n",
       "      <td>-0.000475</td>\n",
       "      <td>0.000475</td>\n",
       "      <td>2.260570e-07</td>\n",
       "      <td>0.012443</td>\n",
       "      <td>4</td>\n",
       "    </tr>\n",
       "    <tr>\n",
       "      <th>5</th>\n",
       "      <td>1.0</td>\n",
       "      <td>2002-06-30</td>\n",
       "      <td>-0.003675</td>\n",
       "      <td>0.002010</td>\n",
       "      <td>0.000010</td>\n",
       "      <td>0.002040</td>\n",
       "      <td>0.001275</td>\n",
       "      <td>0.00006</td>\n",
       "      <td>0.003695</td>\n",
       "      <td>-0.003615</td>\n",
       "      <td>0.003615</td>\n",
       "      <td>1.306822e-05</td>\n",
       "      <td>0.052099</td>\n",
       "      <td>5</td>\n",
       "    </tr>\n",
       "  </tbody>\n",
       "</table>\n",
       "</div>"
      ],
      "text/plain": [
       "   const    Datadate     MktRf       Smb       Hml       Rmw       Cma  \\\n",
       "1    1.0  2002-02-28 -0.001153 -0.000232  0.001205  0.004358  0.002695   \n",
       "2    1.0  2002-03-31  0.002135  0.001985  0.000500 -0.000895  0.000255   \n",
       "3    1.0  2002-04-30 -0.002382  0.003118  0.001764  0.002077  0.002418   \n",
       "4    1.0  2002-05-31 -0.000545 -0.001436  0.000655  0.001023  0.001077   \n",
       "5    1.0  2002-06-30 -0.003675  0.002010  0.000010  0.002040  0.001275   \n",
       "\n",
       "        Rf       Mom        Rm  AbsoluteRm     SquaredRm      Csad  index  \n",
       "1  0.00007  0.002826 -0.001083    0.001083  1.172091e-06  0.082511      1  \n",
       "2  0.00007 -0.000380  0.002205    0.002205  4.862025e-06  0.082475      2  \n",
       "3  0.00007  0.003732 -0.002312    0.002312  5.344503e-06  0.013145      3  \n",
       "4  0.00007  0.001668 -0.000475    0.000475  2.260570e-07  0.012443      4  \n",
       "5  0.00006  0.003695 -0.003615    0.003615  1.306822e-05  0.052099      5  "
      ]
     },
     "execution_count": 2,
     "metadata": {},
     "output_type": "execute_result"
    }
   ],
   "source": [
    "np.seterr(divide = 'ignore')\n",
    "\n",
    "df = pd.read_csv('source/csad-stocks.csv')\n",
    "df = df.dropna()\n",
    "\n",
    "# add constant\n",
    "df['index'] = df.index \n",
    "df = add_constant(df, has_constant='add')\n",
    "\n",
    "df.head()"
   ]
  },
  {
   "cell_type": "markdown",
   "id": "88ec72c3",
   "metadata": {},
   "source": [
    "## Model 1"
   ]
  },
  {
   "cell_type": "code",
   "execution_count": 3,
   "id": "38f365d0",
   "metadata": {},
   "outputs": [
    {
     "name": "stdout",
     "output_type": "stream",
     "text": [
      "                            OLS Estimation Summary                            \n",
      "==============================================================================\n",
      "Dep. Variable:                   Csad   R-squared:                      0.5300\n",
      "Estimator:                        OLS   Adj. R-squared:                 0.5222\n",
      "No. Observations:                 245   F-statistic:                    276.27\n",
      "Date:                Sat, Sep 16 2023   P-value (F-stat)                0.0000\n",
      "Time:                        17:12:32   Distribution:                  chi2(4)\n",
      "Cov. Estimator:            unadjusted                                         \n",
      "                                                                              \n",
      "                             Parameter Estimates                              \n",
      "==============================================================================\n",
      "            Parameter  Std. Err.     T-stat    P-value    Lower CI    Upper CI\n",
      "------------------------------------------------------------------------------\n",
      "Rm             4.9593     0.9483     5.2298     0.0000      3.1007      6.8179\n",
      "AbsoluteRm     8.9916     4.2394     2.1209     0.0339      0.6825      17.301\n",
      "SquaredRm      2749.0     802.21     3.4268     0.0006      1176.7      4321.3\n",
      "index       5.088e-05  2.728e-05     1.8653     0.0621  -2.583e-06      0.0001\n",
      "const          0.0142     0.0054     2.6141     0.0089      0.0036      0.0249\n",
      "==============================================================================\n"
     ]
    }
   ],
   "source": [
    "res_ols_v1 = IV2SLS(\n",
    "    df.Csad, df[\n",
    "        ['Rm', 'AbsoluteRm', 'SquaredRm', 'index', 'const']\n",
    "    ], None, None\n",
    ").fit(cov_type='unadjusted')\n",
    "\n",
    "print(res_ols_v1)"
   ]
  },
  {
   "cell_type": "markdown",
   "id": "a5eaf39c",
   "metadata": {},
   "source": [
    "## Model 2"
   ]
  },
  {
   "cell_type": "code",
   "execution_count": 4,
   "id": "9693ad70",
   "metadata": {},
   "outputs": [
    {
     "name": "stdout",
     "output_type": "stream",
     "text": [
      "                            OLS Estimation Summary                            \n",
      "==============================================================================\n",
      "Dep. Variable:                   Csad   R-squared:                      0.1223\n",
      "Estimator:                        OLS   Adj. R-squared:                 0.1002\n",
      "No. Observations:                 245   F-statistic:                    34.132\n",
      "Date:                Sat, Sep 16 2023   P-value (F-stat)                0.0000\n",
      "Time:                        17:12:32   Distribution:                  chi2(6)\n",
      "Cov. Estimator:            unadjusted                                         \n",
      "                                                                              \n",
      "                             Parameter Estimates                              \n",
      "==============================================================================\n",
      "            Parameter  Std. Err.     T-stat    P-value    Lower CI    Upper CI\n",
      "------------------------------------------------------------------------------\n",
      "MktRf          4.2559     1.4445     2.9464     0.0032      1.4248      7.0871\n",
      "Smb            5.9771     2.4606     2.4291     0.0151      1.1544      10.800\n",
      "Hml           -6.0346     2.2509    -2.6810     0.0073     -10.446     -1.6229\n",
      "Rmw            4.1024     2.9046     1.4124     0.1578     -1.5905      9.7952\n",
      "Cma            14.347     3.7004     3.8771     0.0001      7.0942      21.599\n",
      "index       8.097e-05  3.747e-05     2.1610     0.0307   7.533e-06      0.0002\n",
      "const          0.0357     0.0054     6.6623     0.0000      0.0252      0.0461\n",
      "==============================================================================\n"
     ]
    }
   ],
   "source": [
    "res_ols_v21 = IV2SLS(\n",
    "    df.Csad, df[\n",
    "        ['MktRf', 'Smb', 'Hml', 'Rmw', 'Cma', 'index', 'const']\n",
    "    ], None, None\n",
    ").fit(cov_type='unadjusted')\n",
    "\n",
    "print(res_ols_v21)"
   ]
  },
  {
   "cell_type": "code",
   "execution_count": 5,
   "id": "a4fbc298",
   "metadata": {},
   "outputs": [
    {
     "name": "stdout",
     "output_type": "stream",
     "text": [
      "                            OLS Estimation Summary                            \n",
      "==============================================================================\n",
      "Dep. Variable:                   Csad   R-squared:                      0.1258\n",
      "Estimator:                        OLS   Adj. R-squared:                 0.1075\n",
      "No. Observations:                 245   F-statistic:                    35.249\n",
      "Date:                Sat, Sep 16 2023   P-value (F-stat)                0.0000\n",
      "Time:                        17:12:32   Distribution:                  chi2(5)\n",
      "Cov. Estimator:            unadjusted                                         \n",
      "                                                                              \n",
      "                             Parameter Estimates                              \n",
      "==============================================================================\n",
      "            Parameter  Std. Err.     T-stat    P-value    Lower CI    Upper CI\n",
      "------------------------------------------------------------------------------\n",
      "MktRf          0.1508     1.5171     0.0994     0.9208     -2.8226      3.1242\n",
      "Smb            5.3691     2.3710     2.2645     0.0235      0.7220      10.016\n",
      "Hml           -3.3600     1.9522    -1.7211     0.0852     -7.1862      0.4662\n",
      "Mom           -5.8062     1.4117    -4.1128     0.0000     -8.5731     -3.0392\n",
      "index        8.35e-05   3.74e-05     2.2327     0.0256    1.02e-05      0.0002\n",
      "const          0.0390     0.0053     7.3629     0.0000      0.0286      0.0494\n",
      "==============================================================================\n"
     ]
    }
   ],
   "source": [
    "res_ols_v22 = IV2SLS(\n",
    "    df.Csad, df[\n",
    "        ['MktRf', 'Smb', 'Hml', 'Mom', 'index', 'const']\n",
    "    ], None, None\n",
    ").fit(cov_type='unadjusted')\n",
    "\n",
    "print(res_ols_v22)"
   ]
  },
  {
   "cell_type": "markdown",
   "id": "2033f7e5",
   "metadata": {},
   "source": [
    "## Model 3"
   ]
  },
  {
   "cell_type": "code",
   "execution_count": 6,
   "id": "a4cec20a",
   "metadata": {},
   "outputs": [
    {
     "name": "stdout",
     "output_type": "stream",
     "text": [
      "                            OLS Estimation Summary                            \n",
      "==============================================================================\n",
      "Dep. Variable:              Csad_Fund   R-squared:                      0.4141\n",
      "Estimator:                        OLS   Adj. R-squared:                 0.4043\n",
      "No. Observations:                 245   F-statistic:                    173.14\n",
      "Date:                Sat, Sep 16 2023   P-value (F-stat)                0.0000\n",
      "Time:                        17:12:32   Distribution:                  chi2(4)\n",
      "Cov. Estimator:            unadjusted                                         \n",
      "                                                                              \n",
      "                             Parameter Estimates                              \n",
      "==============================================================================\n",
      "            Parameter  Std. Err.     T-stat    P-value    Lower CI    Upper CI\n",
      "------------------------------------------------------------------------------\n",
      "Rm             3.9468     0.3702     10.660     0.0000      3.2212      4.6725\n",
      "AbsoluteRm    -1.0792     1.6552    -0.6520     0.5144     -4.3234      2.1649\n",
      "SquaredRm      419.38     313.21     1.3390     0.1806     -194.50      1033.3\n",
      "index       7.299e-05  1.065e-05     6.8534     0.0000   5.212e-05   9.386e-05\n",
      "const          0.0386     0.0021     18.194     0.0000      0.0344      0.0428\n",
      "==============================================================================\n"
     ]
    }
   ],
   "source": [
    "df['Csad_Fund'] = df['Csad'] - res_ols_v21.resids\n",
    "\n",
    "res_ols_v3 = IV2SLS(\n",
    "    df.Csad_Fund, df[\n",
    "        ['Rm', 'AbsoluteRm', 'SquaredRm', 'index', 'const']\n",
    "    ], None, None\n",
    ").fit(cov_type='unadjusted')\n",
    "\n",
    "print(res_ols_v3)"
   ]
  },
  {
   "cell_type": "code",
   "execution_count": 7,
   "id": "e0c0d02a",
   "metadata": {},
   "outputs": [
    {
     "name": "stdout",
     "output_type": "stream",
     "text": [
      "                            OLS Estimation Summary                            \n",
      "==============================================================================\n",
      "Dep. Variable:              Csad_Fund   R-squared:                      0.4288\n",
      "Estimator:                        OLS   Adj. R-squared:                 0.4192\n",
      "No. Observations:                 245   F-statistic:                    183.89\n",
      "Date:                Sat, Sep 16 2023   P-value (F-stat)                0.0000\n",
      "Time:                        17:12:32   Distribution:                  chi2(4)\n",
      "Cov. Estimator:            unadjusted                                         \n",
      "                                                                              \n",
      "                             Parameter Estimates                              \n",
      "==============================================================================\n",
      "            Parameter  Std. Err.     T-stat    P-value    Lower CI    Upper CI\n",
      "------------------------------------------------------------------------------\n",
      "Rm             4.0123     0.3708     10.822     0.0000      3.2856      4.7389\n",
      "AbsoluteRm    -0.9533     1.6575    -0.5751     0.5652     -4.2021      2.2954\n",
      "SquaredRm      597.73     313.65     1.9057     0.0567     -17.018      1212.5\n",
      "index       7.182e-05  1.067e-05     6.7343     0.0000   5.092e-05   9.273e-05\n",
      "const          0.0377     0.0021     17.757     0.0000      0.0336      0.0419\n",
      "==============================================================================\n"
     ]
    }
   ],
   "source": [
    "df['Csad_Fund'] = df['Csad'] - res_ols_v22.resids\n",
    "\n",
    "res_ols_v3 = IV2SLS(\n",
    "    df.Csad_Fund, df[\n",
    "        ['Rm', 'AbsoluteRm', 'SquaredRm', 'index', 'const']\n",
    "    ], None, None\n",
    ").fit(cov_type='unadjusted')\n",
    "\n",
    "print(res_ols_v3)"
   ]
  },
  {
   "cell_type": "markdown",
   "id": "b0fa11d6",
   "metadata": {},
   "source": [
    "## Model 4"
   ]
  },
  {
   "cell_type": "code",
   "execution_count": 8,
   "id": "b6c17ed0",
   "metadata": {},
   "outputs": [
    {
     "name": "stdout",
     "output_type": "stream",
     "text": [
      "                            OLS Estimation Summary                            \n",
      "==============================================================================\n",
      "Dep. Variable:           CSAD_nonFund   R-squared:                      0.4965\n",
      "Estimator:                        OLS   Adj. R-squared:                 0.4881\n",
      "No. Observations:                 245   F-statistic:                    241.55\n",
      "Date:                Sat, Sep 16 2023   P-value (F-stat)                0.0000\n",
      "Time:                        17:12:32   Distribution:                  chi2(4)\n",
      "Cov. Estimator:            unadjusted                                         \n",
      "                                                                              \n",
      "                             Parameter Estimates                              \n",
      "==============================================================================\n",
      "            Parameter  Std. Err.     T-stat    P-value    Lower CI    Upper CI\n",
      "------------------------------------------------------------------------------\n",
      "Rm             1.0125     0.9196     1.1010     0.2709     -0.7899      2.8148\n",
      "AbsoluteRm     10.071     4.1111     2.4497     0.0143      2.0133      18.128\n",
      "SquaredRm      2329.6     777.92     2.9947     0.0027      804.92      3854.3\n",
      "index      -2.211e-05  2.645e-05    -0.8358     0.4033  -7.395e-05   2.974e-05\n",
      "const         -0.0244     0.0053    -4.6296     0.0000     -0.0347     -0.0141\n",
      "==============================================================================\n"
     ]
    }
   ],
   "source": [
    "df['CSAD_nonFund'] = res_ols_v21.resids\n",
    "\n",
    "res_ols_v4 = IV2SLS(\n",
    "    df.CSAD_nonFund, df[\n",
    "        ['Rm', 'AbsoluteRm', 'SquaredRm', 'index', 'const']\n",
    "    ], None, None\n",
    ").fit(cov_type='unadjusted')\n",
    "\n",
    "print(res_ols_v4)"
   ]
  },
  {
   "cell_type": "code",
   "execution_count": 10,
   "id": "35cf73c1",
   "metadata": {},
   "outputs": [
    {
     "name": "stdout",
     "output_type": "stream",
     "text": [
      "                            OLS Estimation Summary                            \n",
      "==============================================================================\n",
      "Dep. Variable:           CSAD_nonFund   R-squared:                      0.4519\n",
      "Estimator:                        OLS   Adj. R-squared:                 0.4428\n",
      "No. Observations:                 245   F-statistic:                    202.01\n",
      "Date:                Sat, Sep 16 2023   P-value (F-stat)                0.0000\n",
      "Time:                        17:13:13   Distribution:                  chi2(4)\n",
      "Cov. Estimator:            unadjusted                                         \n",
      "                                                                              \n",
      "                             Parameter Estimates                              \n",
      "==============================================================================\n",
      "            Parameter  Std. Err.     T-stat    P-value    Lower CI    Upper CI\n",
      "------------------------------------------------------------------------------\n",
      "Rm             0.9471     0.9575     0.9891     0.3226     -0.9295      2.8237\n",
      "AbsoluteRm     9.9449     4.2805     2.3233     0.0202      1.5554      18.334\n",
      "SquaredRm      2151.3     809.98     2.6560     0.0079      563.74      3738.8\n",
      "index      -2.094e-05  2.754e-05    -0.7603     0.4470  -7.492e-05   3.304e-05\n",
      "const         -0.0235     0.0055    -4.2871     0.0000     -0.0343     -0.0128\n",
      "==============================================================================\n"
     ]
    }
   ],
   "source": [
    "df['CSAD_nonFund'] = res_ols_v22.resids\n",
    "\n",
    "res_ols_v4 = IV2SLS(\n",
    "    df.CSAD_nonFund, df[\n",
    "        ['Rm', 'AbsoluteRm', 'SquaredRm', 'index', 'const']\n",
    "    ], None, None\n",
    ").fit(cov_type='unadjusted')\n",
    "\n",
    "print(res_ols_v4)"
   ]
  }
 ],
 "metadata": {
  "kernelspec": {
   "display_name": "Python 3 (ipykernel)",
   "language": "python",
   "name": "python3"
  },
  "language_info": {
   "codemirror_mode": {
    "name": "ipython",
    "version": 3
   },
   "file_extension": ".py",
   "mimetype": "text/x-python",
   "name": "python",
   "nbconvert_exporter": "python",
   "pygments_lexer": "ipython3",
   "version": "3.11.4"
  }
 },
 "nbformat": 4,
 "nbformat_minor": 5
}
