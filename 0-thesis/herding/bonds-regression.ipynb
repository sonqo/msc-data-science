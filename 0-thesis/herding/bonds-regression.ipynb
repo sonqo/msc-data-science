{
 "cells": [
  {
   "cell_type": "code",
   "execution_count": 16,
   "id": "cde8ac56",
   "metadata": {},
   "outputs": [],
   "source": [
    "import numpy as np\n",
    "import pandas as pd\n",
    "import statsmodels.api as sm\n",
    "from linearmodels.iv import IVGMM\n",
    "from linearmodels.iv import IV2SLS\n",
    "from statsmodels.api import add_constant"
   ]
  },
  {
   "cell_type": "code",
   "execution_count": 17,
   "id": "5ae279b1",
   "metadata": {},
   "outputs": [
    {
     "data": {
      "text/html": [
       "<div>\n",
       "<style scoped>\n",
       "    .dataframe tbody tr th:only-of-type {\n",
       "        vertical-align: middle;\n",
       "    }\n",
       "\n",
       "    .dataframe tbody tr th {\n",
       "        vertical-align: top;\n",
       "    }\n",
       "\n",
       "    .dataframe thead th {\n",
       "        text-align: right;\n",
       "    }\n",
       "</style>\n",
       "<table border=\"1\" class=\"dataframe\">\n",
       "  <thead>\n",
       "    <tr style=\"text-align: right;\">\n",
       "      <th></th>\n",
       "      <th>const</th>\n",
       "      <th>Date</th>\n",
       "      <th>Rm</th>\n",
       "      <th>AbsoluteRm</th>\n",
       "      <th>SquaredRm</th>\n",
       "      <th>Csad</th>\n",
       "      <th>Index</th>\n",
       "    </tr>\n",
       "  </thead>\n",
       "  <tbody>\n",
       "    <tr>\n",
       "      <th>0</th>\n",
       "      <td>1.0</td>\n",
       "      <td>2002-08-31</td>\n",
       "      <td>0.051597</td>\n",
       "      <td>0.051597</td>\n",
       "      <td>0.002662</td>\n",
       "      <td>0.092318</td>\n",
       "      <td>0</td>\n",
       "    </tr>\n",
       "    <tr>\n",
       "      <th>1</th>\n",
       "      <td>1.0</td>\n",
       "      <td>2002-09-30</td>\n",
       "      <td>0.045583</td>\n",
       "      <td>0.045583</td>\n",
       "      <td>0.002078</td>\n",
       "      <td>0.053442</td>\n",
       "      <td>1</td>\n",
       "    </tr>\n",
       "    <tr>\n",
       "      <th>2</th>\n",
       "      <td>1.0</td>\n",
       "      <td>2002-10-31</td>\n",
       "      <td>0.058757</td>\n",
       "      <td>0.058757</td>\n",
       "      <td>0.003452</td>\n",
       "      <td>0.056179</td>\n",
       "      <td>2</td>\n",
       "    </tr>\n",
       "    <tr>\n",
       "      <th>3</th>\n",
       "      <td>1.0</td>\n",
       "      <td>2002-11-30</td>\n",
       "      <td>0.177366</td>\n",
       "      <td>0.177366</td>\n",
       "      <td>0.031459</td>\n",
       "      <td>0.451172</td>\n",
       "      <td>3</td>\n",
       "    </tr>\n",
       "    <tr>\n",
       "      <th>4</th>\n",
       "      <td>1.0</td>\n",
       "      <td>2002-12-31</td>\n",
       "      <td>0.064664</td>\n",
       "      <td>0.064664</td>\n",
       "      <td>0.004181</td>\n",
       "      <td>0.076362</td>\n",
       "      <td>4</td>\n",
       "    </tr>\n",
       "  </tbody>\n",
       "</table>\n",
       "</div>"
      ],
      "text/plain": [
       "   const        Date        Rm  AbsoluteRm  SquaredRm      Csad  Index\n",
       "0    1.0  2002-08-31  0.051597    0.051597   0.002662  0.092318      0\n",
       "1    1.0  2002-09-30  0.045583    0.045583   0.002078  0.053442      1\n",
       "2    1.0  2002-10-31  0.058757    0.058757   0.003452  0.056179      2\n",
       "3    1.0  2002-11-30  0.177366    0.177366   0.031459  0.451172      3\n",
       "4    1.0  2002-12-31  0.064664    0.064664   0.004181  0.076362      4"
      ]
     },
     "execution_count": 17,
     "metadata": {},
     "output_type": "execute_result"
    }
   ],
   "source": [
    "np.seterr(divide = 'ignore')\n",
    "\n",
    "# all\n",
    "df = pd.read_csv('source/csad.csv')\n",
    "\n",
    "# # add constant\n",
    "df = add_constant(df, has_constant='add')\n",
    "df = df.sort_values(by='Date').reset_index(drop=True)\n",
    "df['Index'] = df.index\n",
    "\n",
    "df.head()"
   ]
  },
  {
   "cell_type": "markdown",
   "id": "88ec72c3",
   "metadata": {},
   "source": [
    "## Model 1: All"
   ]
  },
  {
   "cell_type": "markdown",
   "id": "246bcce8",
   "metadata": {},
   "source": [
    "#### TSNL"
   ]
  },
  {
   "cell_type": "code",
   "execution_count": 25,
   "id": "42ff48f2",
   "metadata": {},
   "outputs": [
    {
     "name": "stdout",
     "output_type": "stream",
     "text": [
      "                          IV-GMM Estimation Summary                           \n",
      "==============================================================================\n",
      "Dep. Variable:                   Csad   R-squared:                      0.9996\n",
      "Estimator:                     IV-GMM   Adj. R-squared:                 0.9995\n",
      "No. Observations:                 242   F-statistic:                 1.868e-08\n",
      "Date:                Wed, Sep 13 2023   P-value (F-stat)                1.0000\n",
      "Time:                        17:16:20   Distribution:                  chi2(4)\n",
      "Cov. Estimator:            unadjusted                                         \n",
      "                                                                              \n",
      "                             Parameter Estimates                              \n",
      "==============================================================================\n",
      "            Parameter  Std. Err.     T-stat    P-value    Lower CI    Upper CI\n",
      "------------------------------------------------------------------------------\n",
      "Rm             2.5000  6.539e+04  3.823e-05     1.0000  -1.282e+05   1.282e+05\n",
      "AbsoluteRm    -4.0000  9.203e+04 -4.346e-05     1.0000  -1.804e+05   1.804e+05\n",
      "SquaredRm      0.0664     546.18     0.0001     0.9999     -1070.4      1070.6\n",
      "Index         -0.0010     51.711 -1.888e-05     1.0000     -101.35      101.35\n",
      "const          0.1250     7286.9  1.715e-05     1.0000  -1.428e+04   1.428e+04\n",
      "==============================================================================\n"
     ]
    }
   ],
   "source": [
    "res_ols_v1 = IVGMM(\n",
    "    df.Csad, df[\n",
    "        ['Rm', 'AbsoluteRm', 'SquaredRm', 'Index', 'const']\n",
    "    ], None, None\n",
    ").fit(cov_type='unadjusted')\n",
    "\n",
    "print(res_ols_v1)"
   ]
  },
  {
   "cell_type": "code",
   "execution_count": null,
   "id": "a9e4deaf",
   "metadata": {},
   "outputs": [],
   "source": []
  }
 ],
 "metadata": {
  "kernelspec": {
   "display_name": "Python 3 (ipykernel)",
   "language": "python",
   "name": "python3"
  },
  "language_info": {
   "codemirror_mode": {
    "name": "ipython",
    "version": 3
   },
   "file_extension": ".py",
   "mimetype": "text/x-python",
   "name": "python",
   "nbconvert_exporter": "python",
   "pygments_lexer": "ipython3",
   "version": "3.10.12"
  }
 },
 "nbformat": 4,
 "nbformat_minor": 5
}
