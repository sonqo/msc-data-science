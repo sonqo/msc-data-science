{
 "cells": [
  {
   "cell_type": "code",
   "execution_count": 4,
   "id": "cde8ac56",
   "metadata": {},
   "outputs": [],
   "source": [
    "import pandas as pd\n",
    "from linearmodels.iv import IVGMM\n",
    "from statsmodels.api import add_constant"
   ]
  },
  {
   "cell_type": "code",
   "execution_count": 5,
   "id": "5ae279b1",
   "metadata": {},
   "outputs": [
    {
     "data": {
      "text/html": [
       "<div>\n",
       "<style scoped>\n",
       "    .dataframe tbody tr th:only-of-type {\n",
       "        vertical-align: middle;\n",
       "    }\n",
       "\n",
       "    .dataframe tbody tr th {\n",
       "        vertical-align: top;\n",
       "    }\n",
       "\n",
       "    .dataframe thead th {\n",
       "        text-align: right;\n",
       "    }\n",
       "</style>\n",
       "<table border=\"1\" class=\"dataframe\">\n",
       "  <thead>\n",
       "    <tr style=\"text-align: right;\">\n",
       "      <th></th>\n",
       "      <th>const</th>\n",
       "      <th>Date</th>\n",
       "      <th>Rm</th>\n",
       "      <th>AbsoluteRm</th>\n",
       "      <th>SquaredRm</th>\n",
       "      <th>Csad</th>\n",
       "      <th>index</th>\n",
       "    </tr>\n",
       "  </thead>\n",
       "  <tbody>\n",
       "    <tr>\n",
       "      <th>0</th>\n",
       "      <td>1.0</td>\n",
       "      <td>2002-08-31</td>\n",
       "      <td>0.021615</td>\n",
       "      <td>0.021615</td>\n",
       "      <td>4.671990e-04</td>\n",
       "      <td>0.019632</td>\n",
       "      <td>0</td>\n",
       "    </tr>\n",
       "    <tr>\n",
       "      <th>1</th>\n",
       "      <td>1.0</td>\n",
       "      <td>2002-09-30</td>\n",
       "      <td>0.008123</td>\n",
       "      <td>0.008123</td>\n",
       "      <td>6.598464e-05</td>\n",
       "      <td>0.002849</td>\n",
       "      <td>1</td>\n",
       "    </tr>\n",
       "    <tr>\n",
       "      <th>2</th>\n",
       "      <td>1.0</td>\n",
       "      <td>2002-10-31</td>\n",
       "      <td>-0.000005</td>\n",
       "      <td>0.000005</td>\n",
       "      <td>3.012884e-11</td>\n",
       "      <td>0.000147</td>\n",
       "      <td>2</td>\n",
       "    </tr>\n",
       "    <tr>\n",
       "      <th>3</th>\n",
       "      <td>1.0</td>\n",
       "      <td>2002-11-30</td>\n",
       "      <td>0.031713</td>\n",
       "      <td>0.031713</td>\n",
       "      <td>1.005708e-03</td>\n",
       "      <td>0.026022</td>\n",
       "      <td>3</td>\n",
       "    </tr>\n",
       "    <tr>\n",
       "      <th>4</th>\n",
       "      <td>1.0</td>\n",
       "      <td>2002-12-31</td>\n",
       "      <td>0.025259</td>\n",
       "      <td>0.025259</td>\n",
       "      <td>6.380362e-04</td>\n",
       "      <td>0.007882</td>\n",
       "      <td>4</td>\n",
       "    </tr>\n",
       "  </tbody>\n",
       "</table>\n",
       "</div>"
      ],
      "text/plain": [
       "   const        Date        Rm  AbsoluteRm     SquaredRm      Csad  index\n",
       "0    1.0  2002-08-31  0.021615    0.021615  4.671990e-04  0.019632      0\n",
       "1    1.0  2002-09-30  0.008123    0.008123  6.598464e-05  0.002849      1\n",
       "2    1.0  2002-10-31 -0.000005    0.000005  3.012884e-11  0.000147      2\n",
       "3    1.0  2002-11-30  0.031713    0.031713  1.005708e-03  0.026022      3\n",
       "4    1.0  2002-12-31  0.025259    0.025259  6.380362e-04  0.007882      4"
      ]
     },
     "execution_count": 5,
     "metadata": {},
     "output_type": "execute_result"
    }
   ],
   "source": [
    "# all\n",
    "df = pd.read_csv('source/csad-bonds.csv')\n",
    "\n",
    "# # add constant\n",
    "df = add_constant(df, has_constant='add')\n",
    "df = df.sort_values(by='Date').reset_index(drop=True)\n",
    "df['index'] = df.index\n",
    "\n",
    "df.head()"
   ]
  },
  {
   "cell_type": "markdown",
   "id": "88ec72c3",
   "metadata": {},
   "source": [
    "## Model 1: All"
   ]
  },
  {
   "cell_type": "markdown",
   "id": "246bcce8",
   "metadata": {},
   "source": [
    "#### TSNL"
   ]
  },
  {
   "cell_type": "code",
   "execution_count": 6,
   "id": "42ff48f2",
   "metadata": {},
   "outputs": [
    {
     "name": "stdout",
     "output_type": "stream",
     "text": [
      "                          IV-GMM Estimation Summary                           \n",
      "==============================================================================\n",
      "Dep. Variable:                   Csad   R-squared:                      0.7238\n",
      "Estimator:                     IV-GMM   Adj. R-squared:                 0.7192\n",
      "No. Observations:                 242   F-statistic:                    634.26\n",
      "Date:                Sat, Sep 16 2023   P-value (F-stat)                0.0000\n",
      "Time:                        18:42:41   Distribution:                  chi2(4)\n",
      "Cov. Estimator:            unadjusted                                         \n",
      "                                                                              \n",
      "                             Parameter Estimates                              \n",
      "==============================================================================\n",
      "            Parameter  Std. Err.     T-stat    P-value    Lower CI    Upper CI\n",
      "------------------------------------------------------------------------------\n",
      "Rm            -0.0237     0.0173    -1.3714     0.1703     -0.0576      0.0102\n",
      "AbsoluteRm     0.7166     0.0546     13.121     0.0000      0.6095      0.8236\n",
      "SquaredRm     -3.2675     0.9632    -3.3922     0.0007     -5.1554     -1.3796\n",
      "index       1.276e-05   3.81e-06     3.3499     0.0008   5.295e-06   2.023e-05\n",
      "const         -0.0014     0.0007    -2.1469     0.0318     -0.0027     -0.0001\n",
      "==============================================================================\n"
     ]
    }
   ],
   "source": [
    "res_ols_v1 = IVGMM(\n",
    "    df.Csad, df[\n",
    "        ['Rm', 'AbsoluteRm', 'SquaredRm', 'index', 'const']\n",
    "    ], None, None\n",
    ").fit(cov_type='unadjusted')\n",
    "\n",
    "print(res_ols_v1)"
   ]
  }
 ],
 "metadata": {
  "kernelspec": {
   "display_name": "Python 3 (ipykernel)",
   "language": "python",
   "name": "python3"
  },
  "language_info": {
   "codemirror_mode": {
    "name": "ipython",
    "version": 3
   },
   "file_extension": ".py",
   "mimetype": "text/x-python",
   "name": "python",
   "nbconvert_exporter": "python",
   "pygments_lexer": "ipython3",
   "version": "3.11.4"
  }
 },
 "nbformat": 4,
 "nbformat_minor": 5
}
