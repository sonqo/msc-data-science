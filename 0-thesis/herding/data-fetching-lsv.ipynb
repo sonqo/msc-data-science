{
 "cells": [
  {
   "cell_type": "code",
   "execution_count": 1,
   "metadata": {},
   "outputs": [],
   "source": [
    "import os\n",
    "import pandas as pd\n",
    "import sqlalchemy as db\n",
    "from dotenv import load_dotenv"
   ]
  },
  {
   "cell_type": "code",
   "execution_count": 2,
   "metadata": {},
   "outputs": [],
   "source": [
    "load_dotenv()\n",
    "\n",
    "# config and credentials\n",
    "server = os.getenv('server')\n",
    "database = os.getenv('database')\n",
    "username = os.getenv('username')\n",
    "password = os.getenv('password')\n",
    "\n",
    "# connection\n",
    "engine = db.create_engine(\n",
    "    'mssql://{}:{}@{}/{}?driver=ODBC+Driver+18+for+SQL+Server'.format(\n",
    "        username, password, server, database\n",
    "    )\n",
    ")\n",
    "\n",
    "# establish connection\n",
    "connection = engine.connect()"
   ]
  },
  {
   "cell_type": "markdown",
   "metadata": {},
   "source": [
    "### LSV"
   ]
  },
  {
   "cell_type": "code",
   "execution_count": 3,
   "metadata": {},
   "outputs": [],
   "source": [
    "query = '''\n",
    "    DECLARE @RC int\n",
    "    DECLARE @TimeFrame int\n",
    "    DECLARE @Investor int\n",
    "    DECLARE @CreditRisk int\n",
    "\n",
    "    EXECUTE @RC = [dbo].[Measures_Lsv_Bionomial] \n",
    "        {},\n",
    "        {},\n",
    "        {}\n",
    "'''\n",
    "\n",
    "credit = {\n",
    "    'NULL': '', 1: '-hy', 2: '-ig'\n",
    "}\n",
    "investor = {\n",
    "    2: '-retail', 3: '-institutional'\n",
    "}\n",
    "timeframe = {\n",
    "    1: '-daily', 2: '-weekly', 3: '-monthly', 4: '-quarterly', 5: '-yearly'\n",
    "}\n",
    "\n",
    "for tf, tf_desc in timeframe.items():\n",
    "    for inv, inv_desc in investor.items():\n",
    "        for crd, crd_desc in credit.items():\n",
    "            df = pd.read_sql_query(query.format(tf, inv, crd), connection)\n",
    "            df.to_csv('source/lsv{}{}{}.csv'.format(inv_desc, crd_desc, tf_desc), index=False)"
   ]
  }
 ],
 "metadata": {
  "kernelspec": {
   "display_name": "Python 3 (ipykernel)",
   "language": "python",
   "name": "python3"
  },
  "language_info": {
   "codemirror_mode": {
    "name": "ipython",
    "version": 3
   },
   "file_extension": ".py",
   "mimetype": "text/x-python",
   "name": "python",
   "nbconvert_exporter": "python",
   "pygments_lexer": "ipython3",
   "version": "3.11.4"
  }
 },
 "nbformat": 4,
 "nbformat_minor": 2
}
