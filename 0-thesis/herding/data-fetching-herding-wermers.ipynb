{
 "cells": [
  {
   "cell_type": "code",
   "execution_count": 1,
   "metadata": {},
   "outputs": [],
   "source": [
    "import os\n",
    "import pandas as pd\n",
    "import sqlalchemy as db\n",
    "from dotenv import load_dotenv"
   ]
  },
  {
   "cell_type": "code",
   "execution_count": 2,
   "metadata": {},
   "outputs": [],
   "source": [
    "load_dotenv()\n",
    "\n",
    "# config and credentials\n",
    "server = os.getenv('server')\n",
    "database = os.getenv('database')\n",
    "username = os.getenv('username')\n",
    "password = os.getenv('password')\n",
    "\n",
    "# connection\n",
    "engine = db.create_engine(\n",
    "    'mssql://{}:{}@{}/{}?driver=ODBC+Driver+18+for+SQL+Server'.format(\n",
    "        username, password, server, database\n",
    "    )\n",
    ")\n",
    "\n",
    "# establish connection\n",
    "connection = engine.connect()"
   ]
  },
  {
   "cell_type": "markdown",
   "metadata": {},
   "source": [
    "### Wermers"
   ]
  },
  {
   "cell_type": "code",
   "execution_count": 4,
   "metadata": {},
   "outputs": [],
   "source": [
    "query = '''\n",
    "    DECLARE @RC int\n",
    "    DECLARE @TimeFrame int\n",
    "    DECLARE @Investor int\n",
    "\n",
    "    EXECUTE @RC = [dbo].[Herding-Measures-Wermers] \n",
    "        {},\n",
    "        {}\n",
    "'''\n",
    "\n",
    "investor = {\n",
    "    1: '', 2: '-retail', 3: '-institutional',\n",
    "}\n",
    "timeframe = {\n",
    "    1: '-daily', 2: '-weekly', 3: '-monthly', 4: '-quarterly', 5: '-yearly'\n",
    "}\n",
    "\n",
    "for tf, tf_desc in timeframe.items():\n",
    "    for inv, inv_desc in investor.items():\n",
    "        df = pd.read_sql_query(query.format(tf, inv), connection)\n",
    "        df.to_csv('source/herding-wermers{}{}.csv'.format(inv_desc, tf_desc), index=False)\n"
   ]
  }
 ],
 "metadata": {
  "kernelspec": {
   "display_name": "Python 3 (ipykernel)",
   "language": "python",
   "name": "python3"
  },
  "language_info": {
   "codemirror_mode": {
    "name": "ipython",
    "version": 3
   },
   "file_extension": ".py",
   "mimetype": "text/x-python",
   "name": "python",
   "nbconvert_exporter": "python",
   "pygments_lexer": "ipython3",
   "version": "3.10.12"
  }
 },
 "nbformat": 4,
 "nbformat_minor": 2
}
