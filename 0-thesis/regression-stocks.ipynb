{
 "cells": [
  {
   "cell_type": "code",
   "execution_count": 1,
   "id": "cde8ac56",
   "metadata": {},
   "outputs": [],
   "source": [
    "import numpy as np\n",
    "import pandas as pd\n",
    "from linearmodels.iv import IVGMM\n",
    "from linearmodels.iv import IV2SLS\n",
    "from statsmodels.api import add_constant"
   ]
  },
  {
   "cell_type": "code",
   "execution_count": 2,
   "id": "5ae279b1",
   "metadata": {},
   "outputs": [
    {
     "data": {
      "text/html": [
       "<div>\n",
       "<style scoped>\n",
       "    .dataframe tbody tr th:only-of-type {\n",
       "        vertical-align: middle;\n",
       "    }\n",
       "\n",
       "    .dataframe tbody tr th {\n",
       "        vertical-align: top;\n",
       "    }\n",
       "\n",
       "    .dataframe thead th {\n",
       "        text-align: right;\n",
       "    }\n",
       "</style>\n",
       "<table border=\"1\" class=\"dataframe\">\n",
       "  <thead>\n",
       "    <tr style=\"text-align: right;\">\n",
       "      <th></th>\n",
       "      <th>const</th>\n",
       "      <th>Datadate</th>\n",
       "      <th>MktRf</th>\n",
       "      <th>Smb</th>\n",
       "      <th>Hml</th>\n",
       "      <th>Rmw</th>\n",
       "      <th>Cma</th>\n",
       "      <th>Rf</th>\n",
       "      <th>Mom</th>\n",
       "      <th>Rm</th>\n",
       "      <th>AbsoluteRm</th>\n",
       "      <th>SquaredRm</th>\n",
       "      <th>Csad</th>\n",
       "      <th>LeftTail</th>\n",
       "      <th>RightTail</th>\n",
       "      <th>Index</th>\n",
       "    </tr>\n",
       "  </thead>\n",
       "  <tbody>\n",
       "    <tr>\n",
       "      <th>1</th>\n",
       "      <td>1.0</td>\n",
       "      <td>2002-01-03</td>\n",
       "      <td>0.0099</td>\n",
       "      <td>0.0077</td>\n",
       "      <td>-0.0040</td>\n",
       "      <td>-0.0030</td>\n",
       "      <td>-0.0080</td>\n",
       "      <td>0.00007</td>\n",
       "      <td>-0.0043</td>\n",
       "      <td>0.00997</td>\n",
       "      <td>0.00997</td>\n",
       "      <td>0.000099</td>\n",
       "      <td>0.012959</td>\n",
       "      <td>0</td>\n",
       "      <td>0</td>\n",
       "      <td>1</td>\n",
       "    </tr>\n",
       "    <tr>\n",
       "      <th>2</th>\n",
       "      <td>1.0</td>\n",
       "      <td>2002-01-04</td>\n",
       "      <td>0.0070</td>\n",
       "      <td>0.0020</td>\n",
       "      <td>0.0039</td>\n",
       "      <td>-0.0008</td>\n",
       "      <td>-0.0023</td>\n",
       "      <td>0.00007</td>\n",
       "      <td>-0.0029</td>\n",
       "      <td>0.00707</td>\n",
       "      <td>0.00707</td>\n",
       "      <td>0.000050</td>\n",
       "      <td>0.010224</td>\n",
       "      <td>0</td>\n",
       "      <td>0</td>\n",
       "      <td>2</td>\n",
       "    </tr>\n",
       "    <tr>\n",
       "      <th>3</th>\n",
       "      <td>1.0</td>\n",
       "      <td>2002-01-07</td>\n",
       "      <td>-0.0070</td>\n",
       "      <td>-0.0024</td>\n",
       "      <td>0.0085</td>\n",
       "      <td>-0.0007</td>\n",
       "      <td>0.0016</td>\n",
       "      <td>0.00007</td>\n",
       "      <td>0.0036</td>\n",
       "      <td>-0.00693</td>\n",
       "      <td>0.00693</td>\n",
       "      <td>0.000048</td>\n",
       "      <td>0.001126</td>\n",
       "      <td>0</td>\n",
       "      <td>0</td>\n",
       "      <td>3</td>\n",
       "    </tr>\n",
       "    <tr>\n",
       "      <th>4</th>\n",
       "      <td>1.0</td>\n",
       "      <td>2002-01-08</td>\n",
       "      <td>-0.0023</td>\n",
       "      <td>0.0121</td>\n",
       "      <td>0.0029</td>\n",
       "      <td>-0.0021</td>\n",
       "      <td>-0.0001</td>\n",
       "      <td>0.00007</td>\n",
       "      <td>0.0035</td>\n",
       "      <td>-0.00223</td>\n",
       "      <td>0.00223</td>\n",
       "      <td>0.000005</td>\n",
       "      <td>0.006180</td>\n",
       "      <td>0</td>\n",
       "      <td>0</td>\n",
       "      <td>4</td>\n",
       "    </tr>\n",
       "    <tr>\n",
       "      <th>5</th>\n",
       "      <td>1.0</td>\n",
       "      <td>2002-01-09</td>\n",
       "      <td>-0.0045</td>\n",
       "      <td>0.0008</td>\n",
       "      <td>-0.0011</td>\n",
       "      <td>0.0022</td>\n",
       "      <td>0.0007</td>\n",
       "      <td>0.00007</td>\n",
       "      <td>0.0005</td>\n",
       "      <td>-0.00443</td>\n",
       "      <td>0.00443</td>\n",
       "      <td>0.000020</td>\n",
       "      <td>0.000681</td>\n",
       "      <td>0</td>\n",
       "      <td>0</td>\n",
       "      <td>5</td>\n",
       "    </tr>\n",
       "  </tbody>\n",
       "</table>\n",
       "</div>"
      ],
      "text/plain": [
       "   const    Datadate   MktRf     Smb     Hml     Rmw     Cma       Rf     Mom  \\\n",
       "1    1.0  2002-01-03  0.0099  0.0077 -0.0040 -0.0030 -0.0080  0.00007 -0.0043   \n",
       "2    1.0  2002-01-04  0.0070  0.0020  0.0039 -0.0008 -0.0023  0.00007 -0.0029   \n",
       "3    1.0  2002-01-07 -0.0070 -0.0024  0.0085 -0.0007  0.0016  0.00007  0.0036   \n",
       "4    1.0  2002-01-08 -0.0023  0.0121  0.0029 -0.0021 -0.0001  0.00007  0.0035   \n",
       "5    1.0  2002-01-09 -0.0045  0.0008 -0.0011  0.0022  0.0007  0.00007  0.0005   \n",
       "\n",
       "        Rm  AbsoluteRm  SquaredRm      Csad  LeftTail  RightTail  Index  \n",
       "1  0.00997     0.00997   0.000099  0.012959         0          0      1  \n",
       "2  0.00707     0.00707   0.000050  0.010224         0          0      2  \n",
       "3 -0.00693     0.00693   0.000048  0.001126         0          0      3  \n",
       "4 -0.00223     0.00223   0.000005  0.006180         0          0      4  \n",
       "5 -0.00443     0.00443   0.000020  0.000681         0          0      5  "
      ]
     },
     "execution_count": 2,
     "metadata": {},
     "output_type": "execute_result"
    }
   ],
   "source": [
    "np.seterr(divide = 'ignore')\n",
    "\n",
    "df = pd.read_csv('data/output/stocks/herding_stockMarket_2002-2022.csv')\n",
    "df = df.dropna()\n",
    "\n",
    "# add constant\n",
    "df['Index'] = df.index \n",
    "df = add_constant(df, has_constant='add')\n",
    "\n",
    "df.head()"
   ]
  },
  {
   "cell_type": "code",
   "execution_count": 3,
   "id": "d6df4881",
   "metadata": {},
   "outputs": [],
   "source": [
    "# period splitting\n",
    "df = df[(df['Datadate'] >= '2002-01-01') & (df['Datadate'] < '2023-01-01')]"
   ]
  },
  {
   "cell_type": "markdown",
   "id": "88ec72c3",
   "metadata": {},
   "source": [
    "## Model 1"
   ]
  },
  {
   "cell_type": "code",
   "execution_count": 4,
   "id": "38f365d0",
   "metadata": {},
   "outputs": [
    {
     "name": "stdout",
     "output_type": "stream",
     "text": [
      "                            OLS Estimation Summary                            \n",
      "==============================================================================\n",
      "Dep. Variable:                   Csad   R-squared:                      0.6811\n",
      "Estimator:                        OLS   Adj. R-squared:                 0.6808\n",
      "No. Observations:                5035   F-statistic:                 1.075e+04\n",
      "Date:                Wed, Aug 30 2023   P-value (F-stat)                0.0000\n",
      "Time:                        12:44:13   Distribution:                  chi2(4)\n",
      "Cov. Estimator:            unadjusted                                         \n",
      "                                                                              \n",
      "                             Parameter Estimates                              \n",
      "==============================================================================\n",
      "            Parameter  Std. Err.     T-stat    P-value    Lower CI    Upper CI\n",
      "------------------------------------------------------------------------------\n",
      "Rm             0.0121     0.0063     1.9021     0.0572     -0.0004      0.0245\n",
      "AbsoluteRm     0.8268     0.0154     53.723     0.0000      0.7967      0.8570\n",
      "SquaredRm      0.7935     0.2620     3.0292     0.0025      0.2801      1.3069\n",
      "Index       5.983e-07  5.354e-08     11.175     0.0000   4.934e-07   7.032e-07\n",
      "const          0.0007     0.0002     3.5937     0.0003      0.0003      0.0010\n",
      "==============================================================================\n"
     ]
    }
   ],
   "source": [
    "res_ols_v1 = IV2SLS(\n",
    "    df.Csad, df[\n",
    "        ['Rm', 'AbsoluteRm', 'SquaredRm', 'Index', 'const']\n",
    "    ], None, None\n",
    ").fit(cov_type='unadjusted')\n",
    "\n",
    "print(res_ols_v1)"
   ]
  },
  {
   "cell_type": "markdown",
   "id": "a5eaf39c",
   "metadata": {},
   "source": [
    "## Model 2"
   ]
  },
  {
   "cell_type": "code",
   "execution_count": 5,
   "id": "9693ad70",
   "metadata": {},
   "outputs": [
    {
     "name": "stdout",
     "output_type": "stream",
     "text": [
      "                            OLS Estimation Summary                            \n",
      "==============================================================================\n",
      "Dep. Variable:                   Csad   R-squared:                      0.0061\n",
      "Estimator:                        OLS   Adj. R-squared:                 0.0049\n",
      "No. Observations:                5035   F-statistic:                    30.665\n",
      "Date:                Wed, Aug 30 2023   P-value (F-stat)                0.0000\n",
      "Time:                        12:44:14   Distribution:                  chi2(6)\n",
      "Cov. Estimator:            unadjusted                                         \n",
      "                                                                              \n",
      "                             Parameter Estimates                              \n",
      "==============================================================================\n",
      "            Parameter  Std. Err.     T-stat    P-value    Lower CI    Upper CI\n",
      "------------------------------------------------------------------------------\n",
      "MktRf         -0.0285     0.0123    -2.3106     0.0209     -0.0526     -0.0043\n",
      "Smb            0.0521     0.0235     2.2178     0.0266      0.0061      0.0981\n",
      "Hml            0.0325     0.0210     1.5442     0.1225     -0.0087      0.0737\n",
      "Rmw           -0.0135     0.0327    -0.4135     0.6792     -0.0775      0.0505\n",
      "Cma            0.0811     0.0446     1.8168     0.0693     -0.0064      0.1685\n",
      "Index       3.121e-07  9.425e-08     3.3116     0.0009   1.274e-07   4.968e-07\n",
      "const          0.0081     0.0003     29.718     0.0000      0.0076      0.0087\n",
      "==============================================================================\n"
     ]
    }
   ],
   "source": [
    "res_ols_v21 = IV2SLS(\n",
    "    df.Csad, df[\n",
    "        ['MktRf', 'Smb', 'Hml', 'Rmw', 'Cma', 'Index', 'const']\n",
    "    ], None, None\n",
    ").fit(cov_type='unadjusted')\n",
    "\n",
    "print(res_ols_v21)"
   ]
  },
  {
   "cell_type": "code",
   "execution_count": 6,
   "id": "a4fbc298",
   "metadata": {},
   "outputs": [
    {
     "name": "stdout",
     "output_type": "stream",
     "text": [
      "                            OLS Estimation Summary                            \n",
      "==============================================================================\n",
      "Dep. Variable:                   Csad   R-squared:                      0.0194\n",
      "Estimator:                        OLS   Adj. R-squared:                 0.0185\n",
      "No. Observations:                5035   F-statistic:                    99.790\n",
      "Date:                Wed, Aug 30 2023   P-value (F-stat)                0.0000\n",
      "Time:                        12:44:15   Distribution:                  chi2(5)\n",
      "Cov. Estimator:            unadjusted                                         \n",
      "                                                                              \n",
      "                             Parameter Estimates                              \n",
      "==============================================================================\n",
      "            Parameter  Std. Err.     T-stat    P-value    Lower CI    Upper CI\n",
      "------------------------------------------------------------------------------\n",
      "MktRf         -0.0493     0.0117    -4.2099     0.0000     -0.0723     -0.0264\n",
      "Smb            0.0639     0.0229     2.7942     0.0052      0.0191      0.1088\n",
      "Hml           -0.0514     0.0225    -2.2849     0.0223     -0.0955     -0.0073\n",
      "Mom           -0.1377     0.0162    -8.5001     0.0000     -0.1695     -0.1059\n",
      "Index       2.956e-07  9.362e-08     3.1578     0.0016   1.121e-07   4.791e-07\n",
      "const          0.0082     0.0003     30.147     0.0000      0.0077      0.0087\n",
      "==============================================================================\n"
     ]
    }
   ],
   "source": [
    "res_ols_v22 = IV2SLS(\n",
    "    df.Csad, df[\n",
    "        ['MktRf', 'Smb', 'Hml', 'Mom', 'Index', 'const']\n",
    "    ], None, None\n",
    ").fit(cov_type='unadjusted')\n",
    "\n",
    "print(res_ols_v22)"
   ]
  },
  {
   "cell_type": "markdown",
   "id": "2033f7e5",
   "metadata": {},
   "source": [
    "## Model 3"
   ]
  },
  {
   "cell_type": "code",
   "execution_count": 7,
   "id": "a4cec20a",
   "metadata": {},
   "outputs": [
    {
     "name": "stdout",
     "output_type": "stream",
     "text": [
      "                            OLS Estimation Summary                            \n",
      "==============================================================================\n",
      "Dep. Variable:              Csad_Fund   R-squared:                      0.4251\n",
      "Estimator:                        OLS   Adj. R-squared:                 0.4247\n",
      "No. Observations:                5035   F-statistic:                    3723.8\n",
      "Date:                Wed, Aug 30 2023   P-value (F-stat)                0.0000\n",
      "Time:                        12:44:17   Distribution:                  chi2(4)\n",
      "Cov. Estimator:            unadjusted                                         \n",
      "                                                                              \n",
      "                             Parameter Estimates                              \n",
      "==============================================================================\n",
      "            Parameter  Std. Err.     T-stat    P-value    Lower CI    Upper CI\n",
      "------------------------------------------------------------------------------\n",
      "Rm            -0.0199     0.0007    -30.014     0.0000     -0.0212     -0.0186\n",
      "AbsoluteRm     0.0040     0.0016     2.4750     0.0133      0.0008      0.0071\n",
      "SquaredRm     -0.1160     0.0274    -4.2375     0.0000     -0.1696     -0.0623\n",
      "Index       2.992e-07  5.593e-09     53.500     0.0000   2.882e-07   3.102e-07\n",
      "const          0.0082  1.951e-05     418.65     0.0000      0.0081      0.0082\n",
      "==============================================================================\n"
     ]
    }
   ],
   "source": [
    "df['Csad_Fund'] = df['Csad'] - res_ols_v21.resids\n",
    "\n",
    "res_ols_v3 = IV2SLS(\n",
    "    df.Csad_Fund, df[\n",
    "        ['Rm', 'AbsoluteRm', 'SquaredRm', 'Index', 'const']\n",
    "    ], None, None\n",
    ").fit(cov_type='unadjusted')\n",
    "\n",
    "print(res_ols_v3)"
   ]
  },
  {
   "cell_type": "code",
   "execution_count": 8,
   "id": "e0c0d02a",
   "metadata": {},
   "outputs": [
    {
     "name": "stdout",
     "output_type": "stream",
     "text": [
      "                            OLS Estimation Summary                            \n",
      "==============================================================================\n",
      "Dep. Variable:              Csad_Fund   R-squared:                      0.1335\n",
      "Estimator:                        OLS   Adj. R-squared:                 0.1328\n",
      "No. Observations:                5035   F-statistic:                    775.83\n",
      "Date:                Wed, Aug 30 2023   P-value (F-stat)                0.0000\n",
      "Time:                        12:44:18   Distribution:                  chi2(4)\n",
      "Cov. Estimator:            unadjusted                                         \n",
      "                                                                              \n",
      "                             Parameter Estimates                              \n",
      "==============================================================================\n",
      "            Parameter  Std. Err.     T-stat    P-value    Lower CI    Upper CI\n",
      "------------------------------------------------------------------------------\n",
      "Rm            -0.0196     0.0015    -13.480     0.0000     -0.0225     -0.0168\n",
      "AbsoluteRm     0.0109     0.0035     3.0933     0.0020      0.0040      0.0179\n",
      "SquaredRm     -0.1209     0.0602    -2.0086     0.0446     -0.2389     -0.0029\n",
      "Index       3.017e-07   1.23e-08     24.521     0.0000   2.776e-07   3.258e-07\n",
      "const          0.0081  4.291e-05     188.89     0.0000      0.0080      0.0082\n",
      "==============================================================================\n"
     ]
    }
   ],
   "source": [
    "df['Csad_Fund'] = df['Csad'] - res_ols_v22.resids\n",
    "\n",
    "res_ols_v3 = IV2SLS(\n",
    "    df.Csad_Fund, df[\n",
    "        ['Rm', 'AbsoluteRm', 'SquaredRm', 'Index', 'const']\n",
    "    ], None, None\n",
    ").fit(cov_type='unadjusted')\n",
    "\n",
    "print(res_ols_v3)"
   ]
  },
  {
   "cell_type": "markdown",
   "id": "b0fa11d6",
   "metadata": {},
   "source": [
    "## Model 4"
   ]
  },
  {
   "cell_type": "code",
   "execution_count": 9,
   "id": "b6c17ed0",
   "metadata": {},
   "outputs": [
    {
     "name": "stdout",
     "output_type": "stream",
     "text": [
      "                            OLS Estimation Summary                            \n",
      "==============================================================================\n",
      "Dep. Variable:           CSAD_nonFund   R-squared:                      0.6856\n",
      "Estimator:                        OLS   Adj. R-squared:                 0.6853\n",
      "No. Observations:                5035   F-statistic:                 1.098e+04\n",
      "Date:                Wed, Aug 30 2023   P-value (F-stat)                0.0000\n",
      "Time:                        12:44:20   Distribution:                  chi2(4)\n",
      "Cov. Estimator:            unadjusted                                         \n",
      "                                                                              \n",
      "                             Parameter Estimates                              \n",
      "==============================================================================\n",
      "            Parameter  Std. Err.     T-stat    P-value    Lower CI    Upper CI\n",
      "------------------------------------------------------------------------------\n",
      "Rm             0.0319     0.0063     5.0885     0.0000      0.0196      0.0442\n",
      "AbsoluteRm     0.8228     0.0152     54.007     0.0000      0.7930      0.8527\n",
      "SquaredRm      0.9095     0.2593     3.5072     0.0005      0.4012      1.4177\n",
      "Index       2.991e-07    5.3e-08     5.6428     0.0000   1.952e-07    4.03e-07\n",
      "const         -0.0075     0.0002    -40.547     0.0000     -0.0079     -0.0071\n",
      "==============================================================================\n"
     ]
    }
   ],
   "source": [
    "df['CSAD_nonFund'] = res_ols_v21.resids\n",
    "\n",
    "res_ols_v4 = IV2SLS(\n",
    "    df.CSAD_nonFund, df[\n",
    "        ['Rm', 'AbsoluteRm', 'SquaredRm', 'Index', 'const']\n",
    "    ], None, None\n",
    ").fit(cov_type='unadjusted')\n",
    "\n",
    "print(res_ols_v4)"
   ]
  },
  {
   "cell_type": "code",
   "execution_count": 10,
   "id": "35cf73c1",
   "metadata": {},
   "outputs": [
    {
     "name": "stdout",
     "output_type": "stream",
     "text": [
      "                            OLS Estimation Summary                            \n",
      "==============================================================================\n",
      "Dep. Variable:           CSAD_nonFund   R-squared:                      0.6842\n",
      "Estimator:                        OLS   Adj. R-squared:                 0.6840\n",
      "No. Observations:                5035   F-statistic:                 1.091e+04\n",
      "Date:                Wed, Aug 30 2023   P-value (F-stat)                0.0000\n",
      "Time:                        12:44:21   Distribution:                  chi2(4)\n",
      "Cov. Estimator:            unadjusted                                         \n",
      "                                                                              \n",
      "                             Parameter Estimates                              \n",
      "==============================================================================\n",
      "            Parameter  Std. Err.     T-stat    P-value    Lower CI    Upper CI\n",
      "------------------------------------------------------------------------------\n",
      "Rm             0.0317     0.0062     5.0741     0.0000      0.0194      0.0439\n",
      "AbsoluteRm     0.8159     0.0152     53.800     0.0000      0.7862      0.8456\n",
      "SquaredRm      0.9144     0.2581     3.5427     0.0004      0.4085      1.4203\n",
      "Index       2.966e-07  5.276e-08     5.6224     0.0000   1.932e-07       4e-07\n",
      "const         -0.0074     0.0002    -40.402     0.0000     -0.0078     -0.0071\n",
      "==============================================================================\n"
     ]
    }
   ],
   "source": [
    "df['CSAD_nonFund'] = res_ols_v22.resids\n",
    "\n",
    "res_ols_v4 = IV2SLS(\n",
    "    df.CSAD_nonFund, df[\n",
    "        ['Rm', 'AbsoluteRm', 'SquaredRm', 'Index', 'const']\n",
    "    ], None, None\n",
    ").fit(cov_type='unadjusted')\n",
    "\n",
    "print(res_ols_v4)"
   ]
  }
 ],
 "metadata": {
  "kernelspec": {
   "display_name": "Python 3 (ipykernel)",
   "language": "python",
   "name": "python3"
  },
  "language_info": {
   "codemirror_mode": {
    "name": "ipython",
    "version": 3
   },
   "file_extension": ".py",
   "mimetype": "text/x-python",
   "name": "python",
   "nbconvert_exporter": "python",
   "pygments_lexer": "ipython3",
   "version": "3.11.4"
  }
 },
 "nbformat": 4,
 "nbformat_minor": 5
}
