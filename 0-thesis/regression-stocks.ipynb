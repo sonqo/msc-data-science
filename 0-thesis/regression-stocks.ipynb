{
 "cells": [
  {
   "cell_type": "code",
   "execution_count": 1,
   "id": "cde8ac56",
   "metadata": {},
   "outputs": [],
   "source": [
    "import numpy as np\n",
    "import pandas as pd\n",
    "from linearmodels.iv import IVGMM\n",
    "from linearmodels.iv import IV2SLS\n",
    "from statsmodels.api import add_constant"
   ]
  },
  {
   "cell_type": "code",
   "execution_count": 2,
   "id": "5ae279b1",
   "metadata": {},
   "outputs": [
    {
     "data": {
      "text/html": [
       "<div>\n",
       "<style scoped>\n",
       "    .dataframe tbody tr th:only-of-type {\n",
       "        vertical-align: middle;\n",
       "    }\n",
       "\n",
       "    .dataframe tbody tr th {\n",
       "        vertical-align: top;\n",
       "    }\n",
       "\n",
       "    .dataframe thead th {\n",
       "        text-align: right;\n",
       "    }\n",
       "</style>\n",
       "<table border=\"1\" class=\"dataframe\">\n",
       "  <thead>\n",
       "    <tr style=\"text-align: right;\">\n",
       "      <th></th>\n",
       "      <th>const</th>\n",
       "      <th>Datadate</th>\n",
       "      <th>MktRf</th>\n",
       "      <th>Smb</th>\n",
       "      <th>Hml</th>\n",
       "      <th>Rmw</th>\n",
       "      <th>Cma</th>\n",
       "      <th>Rf</th>\n",
       "      <th>Mom</th>\n",
       "      <th>Rm</th>\n",
       "      <th>AbsoluteRm</th>\n",
       "      <th>SquaredRm</th>\n",
       "      <th>Csad</th>\n",
       "      <th>LeftTail</th>\n",
       "      <th>RightTail</th>\n",
       "    </tr>\n",
       "  </thead>\n",
       "  <tbody>\n",
       "    <tr>\n",
       "      <th>1</th>\n",
       "      <td>1.0</td>\n",
       "      <td>2002-01-03</td>\n",
       "      <td>0.0099</td>\n",
       "      <td>0.0077</td>\n",
       "      <td>-0.0040</td>\n",
       "      <td>-0.0030</td>\n",
       "      <td>-0.0080</td>\n",
       "      <td>0.00007</td>\n",
       "      <td>-0.0043</td>\n",
       "      <td>0.00997</td>\n",
       "      <td>0.00997</td>\n",
       "      <td>0.000099</td>\n",
       "      <td>0.012651</td>\n",
       "      <td>0</td>\n",
       "      <td>0</td>\n",
       "    </tr>\n",
       "    <tr>\n",
       "      <th>2</th>\n",
       "      <td>1.0</td>\n",
       "      <td>2002-01-04</td>\n",
       "      <td>0.0070</td>\n",
       "      <td>0.0020</td>\n",
       "      <td>0.0039</td>\n",
       "      <td>-0.0008</td>\n",
       "      <td>-0.0023</td>\n",
       "      <td>0.00007</td>\n",
       "      <td>-0.0029</td>\n",
       "      <td>0.00707</td>\n",
       "      <td>0.00707</td>\n",
       "      <td>0.000050</td>\n",
       "      <td>0.009823</td>\n",
       "      <td>0</td>\n",
       "      <td>0</td>\n",
       "    </tr>\n",
       "    <tr>\n",
       "      <th>3</th>\n",
       "      <td>1.0</td>\n",
       "      <td>2002-01-07</td>\n",
       "      <td>-0.0070</td>\n",
       "      <td>-0.0024</td>\n",
       "      <td>0.0085</td>\n",
       "      <td>-0.0007</td>\n",
       "      <td>0.0016</td>\n",
       "      <td>0.00007</td>\n",
       "      <td>0.0036</td>\n",
       "      <td>-0.00693</td>\n",
       "      <td>0.00693</td>\n",
       "      <td>0.000048</td>\n",
       "      <td>0.001171</td>\n",
       "      <td>0</td>\n",
       "      <td>0</td>\n",
       "    </tr>\n",
       "    <tr>\n",
       "      <th>4</th>\n",
       "      <td>1.0</td>\n",
       "      <td>2002-01-08</td>\n",
       "      <td>-0.0023</td>\n",
       "      <td>0.0121</td>\n",
       "      <td>0.0029</td>\n",
       "      <td>-0.0021</td>\n",
       "      <td>-0.0001</td>\n",
       "      <td>0.00007</td>\n",
       "      <td>0.0035</td>\n",
       "      <td>-0.00223</td>\n",
       "      <td>0.00223</td>\n",
       "      <td>0.000005</td>\n",
       "      <td>0.005999</td>\n",
       "      <td>0</td>\n",
       "      <td>0</td>\n",
       "    </tr>\n",
       "    <tr>\n",
       "      <th>5</th>\n",
       "      <td>1.0</td>\n",
       "      <td>2002-01-09</td>\n",
       "      <td>-0.0045</td>\n",
       "      <td>0.0008</td>\n",
       "      <td>-0.0011</td>\n",
       "      <td>0.0022</td>\n",
       "      <td>0.0007</td>\n",
       "      <td>0.00007</td>\n",
       "      <td>0.0005</td>\n",
       "      <td>-0.00443</td>\n",
       "      <td>0.00443</td>\n",
       "      <td>0.000020</td>\n",
       "      <td>0.000605</td>\n",
       "      <td>0</td>\n",
       "      <td>0</td>\n",
       "    </tr>\n",
       "  </tbody>\n",
       "</table>\n",
       "</div>"
      ],
      "text/plain": [
       "   const    Datadate   MktRf     Smb     Hml     Rmw     Cma       Rf     Mom  \\\n",
       "1    1.0  2002-01-03  0.0099  0.0077 -0.0040 -0.0030 -0.0080  0.00007 -0.0043   \n",
       "2    1.0  2002-01-04  0.0070  0.0020  0.0039 -0.0008 -0.0023  0.00007 -0.0029   \n",
       "3    1.0  2002-01-07 -0.0070 -0.0024  0.0085 -0.0007  0.0016  0.00007  0.0036   \n",
       "4    1.0  2002-01-08 -0.0023  0.0121  0.0029 -0.0021 -0.0001  0.00007  0.0035   \n",
       "5    1.0  2002-01-09 -0.0045  0.0008 -0.0011  0.0022  0.0007  0.00007  0.0005   \n",
       "\n",
       "        Rm  AbsoluteRm  SquaredRm      Csad  LeftTail  RightTail  \n",
       "1  0.00997     0.00997   0.000099  0.012651         0          0  \n",
       "2  0.00707     0.00707   0.000050  0.009823         0          0  \n",
       "3 -0.00693     0.00693   0.000048  0.001171         0          0  \n",
       "4 -0.00223     0.00223   0.000005  0.005999         0          0  \n",
       "5 -0.00443     0.00443   0.000020  0.000605         0          0  "
      ]
     },
     "execution_count": 2,
     "metadata": {},
     "output_type": "execute_result"
    }
   ],
   "source": [
    "np.seterr(divide = 'ignore')\n",
    "\n",
    "df = pd.read_csv('data/output/stocks/herding_stockMarket_2002-2022.csv')\n",
    "df = df.dropna()\n",
    "\n",
    "# add constant\n",
    "df = add_constant(df, has_constant='add')\n",
    "\n",
    "df.head()"
   ]
  },
  {
   "cell_type": "code",
   "execution_count": 3,
   "id": "d6df4881",
   "metadata": {},
   "outputs": [],
   "source": [
    "# period splitting\n",
    "df = df[(df['Datadate'] >= '2002-01-01') & (df['Datadate'] < '2023-01-01')]"
   ]
  },
  {
   "cell_type": "markdown",
   "id": "88ec72c3",
   "metadata": {},
   "source": [
    "## Model 1"
   ]
  },
  {
   "cell_type": "code",
   "execution_count": 4,
   "id": "38f365d0",
   "metadata": {},
   "outputs": [
    {
     "name": "stdout",
     "output_type": "stream",
     "text": [
      "                            OLS Estimation Summary                            \n",
      "==============================================================================\n",
      "Dep. Variable:                   Csad   R-squared:                      0.6853\n",
      "Estimator:                        OLS   Adj. R-squared:                 0.6851\n",
      "No. Observations:                5139   F-statistic:                 1.119e+04\n",
      "Date:                Mon, Aug 21 2023   P-value (F-stat)                0.0000\n",
      "Time:                        19:00:57   Distribution:                  chi2(3)\n",
      "Cov. Estimator:            unadjusted                                         \n",
      "                                                                              \n",
      "                             Parameter Estimates                              \n",
      "==============================================================================\n",
      "            Parameter  Std. Err.     T-stat    P-value    Lower CI    Upper CI\n",
      "------------------------------------------------------------------------------\n",
      "Rm             0.0125     0.0062     2.0193     0.0435      0.0004      0.0247\n",
      "AbsoluteRm     0.8059     0.0150     53.586     0.0000      0.7765      0.8354\n",
      "SquaredRm      1.2622     0.2588     4.8769     0.0000      0.7549      1.7695\n",
      "const          0.0021     0.0001     18.013     0.0000      0.0019      0.0024\n",
      "==============================================================================\n"
     ]
    }
   ],
   "source": [
    "res_ols_v1 = IV2SLS(\n",
    "    df.Csad, df[\n",
    "        ['Rm', 'AbsoluteRm', 'SquaredRm', 'const']\n",
    "    ], None, None\n",
    ").fit(cov_type='unadjusted')\n",
    "\n",
    "print(res_ols_v1)"
   ]
  },
  {
   "cell_type": "markdown",
   "id": "a5eaf39c",
   "metadata": {},
   "source": [
    "## Model 2"
   ]
  },
  {
   "cell_type": "code",
   "execution_count": 5,
   "id": "9693ad70",
   "metadata": {},
   "outputs": [
    {
     "name": "stdout",
     "output_type": "stream",
     "text": [
      "                            OLS Estimation Summary                            \n",
      "==============================================================================\n",
      "Dep. Variable:                   Csad   R-squared:                      0.0331\n",
      "Estimator:                        OLS   Adj. R-squared:                 0.0318\n",
      "No. Observations:                5139   F-statistic:                    175.89\n",
      "Date:                Mon, Aug 21 2023   P-value (F-stat)                0.0000\n",
      "Time:                        19:00:57   Distribution:                  chi2(7)\n",
      "Cov. Estimator:            unadjusted                                         \n",
      "                                                                              \n",
      "                             Parameter Estimates                              \n",
      "==============================================================================\n",
      "            Parameter  Std. Err.     T-stat    P-value    Lower CI    Upper CI\n",
      "------------------------------------------------------------------------------\n",
      "MktRf         -0.0484     0.0121    -4.0025     0.0001     -0.0721     -0.0247\n",
      "Smb            0.0582     0.0229     2.5362     0.0112      0.0132      0.1032\n",
      "Hml           -0.0714     0.0232    -3.0778     0.0021     -0.1168     -0.0259\n",
      "Rmw            0.0122     0.0312     0.3901     0.6965     -0.0490      0.0734\n",
      "Cma            0.1174     0.0431     2.7222     0.0065      0.0329      0.2019\n",
      "Rf            -19.293     2.3162    -8.3297     0.0000     -23.833     -14.754\n",
      "Mom           -0.1439     0.0157    -9.1464     0.0000     -0.1747     -0.1130\n",
      "const          0.0098     0.0002     57.299     0.0000      0.0094      0.0101\n",
      "==============================================================================\n"
     ]
    }
   ],
   "source": [
    "res_ols_v2 = IV2SLS(\n",
    "    df.Csad, df[\n",
    "        ['MktRf', 'Smb', 'Hml', 'Rmw', 'Cma', 'Rf', 'Mom', 'const']\n",
    "    ], None, None\n",
    ").fit(cov_type='unadjusted')\n",
    "\n",
    "print(res_ols_v2)"
   ]
  },
  {
   "cell_type": "markdown",
   "id": "2033f7e5",
   "metadata": {},
   "source": [
    "## Model 3"
   ]
  },
  {
   "cell_type": "code",
   "execution_count": 6,
   "id": "a4cec20a",
   "metadata": {},
   "outputs": [
    {
     "name": "stdout",
     "output_type": "stream",
     "text": [
      "                            OLS Estimation Summary                            \n",
      "==============================================================================\n",
      "Dep. Variable:              Csad_Fund   R-squared:                      0.0337\n",
      "Estimator:                        OLS   Adj. R-squared:                 0.0332\n",
      "No. Observations:                5139   F-statistic:                    179.38\n",
      "Date:                Mon, Aug 21 2023   P-value (F-stat)                0.0000\n",
      "Time:                        19:00:57   Distribution:                  chi2(3)\n",
      "Cov. Estimator:            unadjusted                                         \n",
      "                                                                              \n",
      "                             Parameter Estimates                              \n",
      "==============================================================================\n",
      "            Parameter  Std. Err.     T-stat    P-value    Lower CI    Upper CI\n",
      "------------------------------------------------------------------------------\n",
      "Rm            -0.0227     0.0020    -11.503     0.0000     -0.0266     -0.0189\n",
      "AbsoluteRm     0.0251     0.0048     5.2346     0.0000      0.0157      0.0345\n",
      "SquaredRm     -0.1997     0.0825    -2.4204     0.0155     -0.3614     -0.0380\n",
      "const          0.0087  3.804e-05     229.35     0.0000      0.0086      0.0088\n",
      "==============================================================================\n"
     ]
    }
   ],
   "source": [
    "df['Csad_Fund'] = df['Csad'] - res_ols_v2.resids\n",
    "\n",
    "res_ols_v3 = IV2SLS(\n",
    "    df.Csad_Fund, df[\n",
    "        ['Rm', 'AbsoluteRm', 'SquaredRm', 'const']\n",
    "    ], None, None\n",
    ").fit(cov_type='unadjusted')\n",
    "\n",
    "print(res_ols_v3)"
   ]
  },
  {
   "cell_type": "markdown",
   "id": "b0fa11d6",
   "metadata": {},
   "source": [
    "## Model 4"
   ]
  },
  {
   "cell_type": "code",
   "execution_count": 7,
   "id": "b6c17ed0",
   "metadata": {},
   "outputs": [
    {
     "name": "stdout",
     "output_type": "stream",
     "text": [
      "                            OLS Estimation Summary                            \n",
      "==============================================================================\n",
      "Dep. Variable:              Csad_Fund   R-squared:                      0.0337\n",
      "Estimator:                        OLS   Adj. R-squared:                 0.0332\n",
      "No. Observations:                5139   F-statistic:                    179.38\n",
      "Date:                Mon, Aug 21 2023   P-value (F-stat)                0.0000\n",
      "Time:                        19:00:57   Distribution:                  chi2(3)\n",
      "Cov. Estimator:            unadjusted                                         \n",
      "                                                                              \n",
      "                             Parameter Estimates                              \n",
      "==============================================================================\n",
      "            Parameter  Std. Err.     T-stat    P-value    Lower CI    Upper CI\n",
      "------------------------------------------------------------------------------\n",
      "Rm            -0.0227     0.0020    -11.503     0.0000     -0.0266     -0.0189\n",
      "AbsoluteRm     0.0251     0.0048     5.2346     0.0000      0.0157      0.0345\n",
      "SquaredRm     -0.1997     0.0825    -2.4204     0.0155     -0.3614     -0.0380\n",
      "const          0.0087  3.804e-05     229.35     0.0000      0.0086      0.0088\n",
      "==============================================================================\n"
     ]
    }
   ],
   "source": [
    "df['CSAD_nonFund'] = res_ols_v2.resids\n",
    "\n",
    "res_ols_v4 = IV2SLS(\n",
    "    df.Csad_Fund, df[\n",
    "        ['Rm', 'AbsoluteRm', 'SquaredRm', 'const']\n",
    "    ], None, None\n",
    ").fit(cov_type='unadjusted')\n",
    "\n",
    "print(res_ols_v4)"
   ]
  }
 ],
 "metadata": {
  "kernelspec": {
   "display_name": "Python 3 (ipykernel)",
   "language": "python",
   "name": "python3"
  },
  "language_info": {
   "codemirror_mode": {
    "name": "ipython",
    "version": 3
   },
   "file_extension": ".py",
   "mimetype": "text/x-python",
   "name": "python",
   "nbconvert_exporter": "python",
   "pygments_lexer": "ipython3",
   "version": "3.11.4"
  }
 },
 "nbformat": 4,
 "nbformat_minor": 5
}
