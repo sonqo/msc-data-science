{
 "cells": [
  {
   "cell_type": "code",
   "execution_count": 1,
   "id": "cde8ac56",
   "metadata": {},
   "outputs": [],
   "source": [
    "import numpy as np\n",
    "import pandas as pd\n",
    "import statsmodels.api as sm\n",
    "import matplotlib.pyplot as plt"
   ]
  },
  {
   "cell_type": "code",
   "execution_count": 2,
   "id": "5ae279b1",
   "metadata": {},
   "outputs": [
    {
     "data": {
      "text/html": [
       "<div>\n",
       "<style scoped>\n",
       "    .dataframe tbody tr th:only-of-type {\n",
       "        vertical-align: middle;\n",
       "    }\n",
       "\n",
       "    .dataframe tbody tr th {\n",
       "        vertical-align: top;\n",
       "    }\n",
       "\n",
       "    .dataframe thead th {\n",
       "        text-align: right;\n",
       "    }\n",
       "</style>\n",
       "<table border=\"1\" class=\"dataframe\">\n",
       "  <thead>\n",
       "    <tr style=\"text-align: right;\">\n",
       "      <th></th>\n",
       "      <th>Datadate</th>\n",
       "      <th>MktRf</th>\n",
       "      <th>Smb</th>\n",
       "      <th>Hml</th>\n",
       "      <th>Rmw</th>\n",
       "      <th>Cma</th>\n",
       "      <th>Rf</th>\n",
       "      <th>Mom</th>\n",
       "      <th>Rm</th>\n",
       "      <th>AbsoluteRm</th>\n",
       "      <th>SquaredRm</th>\n",
       "      <th>Csad</th>\n",
       "      <th>LeftTail</th>\n",
       "      <th>RightTail</th>\n",
       "    </tr>\n",
       "  </thead>\n",
       "  <tbody>\n",
       "    <tr>\n",
       "      <th>1</th>\n",
       "      <td>2002-01-03</td>\n",
       "      <td>0.0099</td>\n",
       "      <td>0.0077</td>\n",
       "      <td>-0.0040</td>\n",
       "      <td>-0.0030</td>\n",
       "      <td>-0.0080</td>\n",
       "      <td>0.00007</td>\n",
       "      <td>-0.0043</td>\n",
       "      <td>0.00997</td>\n",
       "      <td>0.00997</td>\n",
       "      <td>0.000099</td>\n",
       "      <td>0.012651</td>\n",
       "      <td>0</td>\n",
       "      <td>0</td>\n",
       "    </tr>\n",
       "    <tr>\n",
       "      <th>2</th>\n",
       "      <td>2002-01-04</td>\n",
       "      <td>0.0070</td>\n",
       "      <td>0.0020</td>\n",
       "      <td>0.0039</td>\n",
       "      <td>-0.0008</td>\n",
       "      <td>-0.0023</td>\n",
       "      <td>0.00007</td>\n",
       "      <td>-0.0029</td>\n",
       "      <td>0.00707</td>\n",
       "      <td>0.00707</td>\n",
       "      <td>0.000050</td>\n",
       "      <td>0.009823</td>\n",
       "      <td>0</td>\n",
       "      <td>0</td>\n",
       "    </tr>\n",
       "    <tr>\n",
       "      <th>3</th>\n",
       "      <td>2002-01-07</td>\n",
       "      <td>-0.0070</td>\n",
       "      <td>-0.0024</td>\n",
       "      <td>0.0085</td>\n",
       "      <td>-0.0007</td>\n",
       "      <td>0.0016</td>\n",
       "      <td>0.00007</td>\n",
       "      <td>0.0036</td>\n",
       "      <td>-0.00693</td>\n",
       "      <td>0.00693</td>\n",
       "      <td>0.000048</td>\n",
       "      <td>0.001171</td>\n",
       "      <td>0</td>\n",
       "      <td>0</td>\n",
       "    </tr>\n",
       "    <tr>\n",
       "      <th>4</th>\n",
       "      <td>2002-01-08</td>\n",
       "      <td>-0.0023</td>\n",
       "      <td>0.0121</td>\n",
       "      <td>0.0029</td>\n",
       "      <td>-0.0021</td>\n",
       "      <td>-0.0001</td>\n",
       "      <td>0.00007</td>\n",
       "      <td>0.0035</td>\n",
       "      <td>-0.00223</td>\n",
       "      <td>0.00223</td>\n",
       "      <td>0.000005</td>\n",
       "      <td>0.005999</td>\n",
       "      <td>0</td>\n",
       "      <td>0</td>\n",
       "    </tr>\n",
       "    <tr>\n",
       "      <th>5</th>\n",
       "      <td>2002-01-09</td>\n",
       "      <td>-0.0045</td>\n",
       "      <td>0.0008</td>\n",
       "      <td>-0.0011</td>\n",
       "      <td>0.0022</td>\n",
       "      <td>0.0007</td>\n",
       "      <td>0.00007</td>\n",
       "      <td>0.0005</td>\n",
       "      <td>-0.00443</td>\n",
       "      <td>0.00443</td>\n",
       "      <td>0.000020</td>\n",
       "      <td>0.000605</td>\n",
       "      <td>0</td>\n",
       "      <td>0</td>\n",
       "    </tr>\n",
       "  </tbody>\n",
       "</table>\n",
       "</div>"
      ],
      "text/plain": [
       "     Datadate   MktRf     Smb     Hml     Rmw     Cma       Rf     Mom  \\\n",
       "1  2002-01-03  0.0099  0.0077 -0.0040 -0.0030 -0.0080  0.00007 -0.0043   \n",
       "2  2002-01-04  0.0070  0.0020  0.0039 -0.0008 -0.0023  0.00007 -0.0029   \n",
       "3  2002-01-07 -0.0070 -0.0024  0.0085 -0.0007  0.0016  0.00007  0.0036   \n",
       "4  2002-01-08 -0.0023  0.0121  0.0029 -0.0021 -0.0001  0.00007  0.0035   \n",
       "5  2002-01-09 -0.0045  0.0008 -0.0011  0.0022  0.0007  0.00007  0.0005   \n",
       "\n",
       "        Rm  AbsoluteRm  SquaredRm      Csad  LeftTail  RightTail  \n",
       "1  0.00997     0.00997   0.000099  0.012651         0          0  \n",
       "2  0.00707     0.00707   0.000050  0.009823         0          0  \n",
       "3 -0.00693     0.00693   0.000048  0.001171         0          0  \n",
       "4 -0.00223     0.00223   0.000005  0.005999         0          0  \n",
       "5 -0.00443     0.00443   0.000020  0.000605         0          0  "
      ]
     },
     "execution_count": 2,
     "metadata": {},
     "output_type": "execute_result"
    }
   ],
   "source": [
    "np.seterr(divide = 'ignore')\n",
    "\n",
    "df = pd.read_csv('data/output/stocks/herding_stockMarket_2002-2022.csv')\n",
    "df = df.dropna()\n",
    "df.head()"
   ]
  },
  {
   "cell_type": "code",
   "execution_count": 3,
   "id": "d6df4881",
   "metadata": {},
   "outputs": [],
   "source": [
    "# period splitting\n",
    "df = df[(df['Datadate'] >= '2002-01-01') & (df['Datadate'] < '2023-01-01')]"
   ]
  },
  {
   "cell_type": "markdown",
   "id": "88ec72c3",
   "metadata": {},
   "source": [
    "## Model 1"
   ]
  },
  {
   "cell_type": "code",
   "execution_count": 4,
   "id": "42ff48f2",
   "metadata": {},
   "outputs": [
    {
     "name": "stdout",
     "output_type": "stream",
     "text": [
      "                            OLS Regression Results                            \n",
      "==============================================================================\n",
      "Dep. Variable:                   Csad   R-squared:                       0.685\n",
      "Model:                            OLS   Adj. R-squared:                  0.685\n",
      "Method:                 Least Squares   F-statistic:                     3727.\n",
      "Date:                Fri, 18 Aug 2023   Prob (F-statistic):               0.00\n",
      "Time:                        07:05:50   Log-Likelihood:                 19464.\n",
      "No. Observations:                5139   AIC:                        -3.892e+04\n",
      "Df Residuals:                    5135   BIC:                        -3.889e+04\n",
      "Df Model:                           3                                         \n",
      "Covariance Type:            nonrobust                                         \n",
      "==============================================================================\n",
      "                 coef    std err          t      P>|t|      [0.025      0.975]\n",
      "------------------------------------------------------------------------------\n",
      "const          0.0021      0.000     18.006      0.000       0.002       0.002\n",
      "Rm             0.0125      0.006      2.019      0.044       0.000       0.025\n",
      "AbsoluteRm     0.8059      0.015     53.565      0.000       0.776       0.835\n",
      "SquaredRm      1.2622      0.259      4.875      0.000       0.755       1.770\n",
      "==============================================================================\n",
      "Omnibus:                     6621.711   Durbin-Watson:                   1.790\n",
      "Prob(Omnibus):                  0.000   Jarque-Bera (JB):          4284225.073\n",
      "Skew:                           6.592   Prob(JB):                         0.00\n",
      "Kurtosis:                     143.834   Cond. No.                     3.39e+03\n",
      "==============================================================================\n",
      "\n",
      "Notes:\n",
      "[1] Standard Errors assume that the covariance matrix of the errors is correctly specified.\n",
      "[2] The condition number is large, 3.39e+03. This might indicate that there are\n",
      "strong multicollinearity or other numerical problems.\n"
     ]
    }
   ],
   "source": [
    "x1 = df[\n",
    "    ['Rm', 'AbsoluteRm', 'SquaredRm']\n",
    "]\n",
    "y1 = df['Csad']\n",
    "\n",
    "x1 = sm.add_constant(x1)\n",
    "\n",
    "model1 = sm.OLS(y1, x1).fit()\n",
    "\n",
    "print(model1.summary())"
   ]
  },
  {
   "cell_type": "markdown",
   "id": "a5eaf39c",
   "metadata": {},
   "source": [
    "## Model 2"
   ]
  },
  {
   "cell_type": "code",
   "execution_count": 5,
   "id": "ca15ebfd",
   "metadata": {},
   "outputs": [
    {
     "name": "stdout",
     "output_type": "stream",
     "text": [
      "                            OLS Regression Results                            \n",
      "==============================================================================\n",
      "Dep. Variable:                   Csad   R-squared:                       0.033\n",
      "Model:                            OLS   Adj. R-squared:                  0.032\n",
      "Method:                 Least Squares   F-statistic:                     25.09\n",
      "Date:                Fri, 18 Aug 2023   Prob (F-statistic):           6.57e-34\n",
      "Time:                        07:05:50   Log-Likelihood:                 16580.\n",
      "No. Observations:                5139   AIC:                        -3.314e+04\n",
      "Df Residuals:                    5131   BIC:                        -3.309e+04\n",
      "Df Model:                           7                                         \n",
      "Covariance Type:            nonrobust                                         \n",
      "==============================================================================\n",
      "                 coef    std err          t      P>|t|      [0.025      0.975]\n",
      "------------------------------------------------------------------------------\n",
      "const          0.0098      0.000     57.254      0.000       0.009       0.010\n",
      "MktRf         -0.0484      0.012     -3.999      0.000      -0.072      -0.025\n",
      "Smb            0.0582      0.023      2.534      0.011       0.013       0.103\n",
      "Hml           -0.0714      0.023     -3.075      0.002      -0.117      -0.026\n",
      "Rmw            0.0122      0.031      0.390      0.697      -0.049       0.073\n",
      "Cma            0.1174      0.043      2.720      0.007       0.033       0.202\n",
      "Rf           -19.2932      2.318     -8.323      0.000     -23.837     -14.749\n",
      "Mom           -0.1439      0.016     -9.139      0.000      -0.175      -0.113\n",
      "==============================================================================\n",
      "Omnibus:                     4368.180   Durbin-Watson:                   1.434\n",
      "Prob(Omnibus):                  0.000   Jarque-Bera (JB):           189303.961\n",
      "Skew:                           3.847   Prob(JB):                         0.00\n",
      "Kurtosis:                      31.721   Cond. No.                     1.73e+04\n",
      "==============================================================================\n",
      "\n",
      "Notes:\n",
      "[1] Standard Errors assume that the covariance matrix of the errors is correctly specified.\n",
      "[2] The condition number is large, 1.73e+04. This might indicate that there are\n",
      "strong multicollinearity or other numerical problems.\n"
     ]
    }
   ],
   "source": [
    "x2 = df[\n",
    "    ['MktRf', 'Smb', 'Hml', 'Rmw', 'Cma', 'Rf', 'Mom']\n",
    "]\n",
    "y2 = df['Csad']\n",
    "\n",
    "x2 = sm.add_constant(x2)\n",
    "\n",
    "model2 = sm.OLS(y2, x2).fit()\n",
    "\n",
    "print(model2.summary())"
   ]
  },
  {
   "cell_type": "markdown",
   "id": "2033f7e5",
   "metadata": {},
   "source": [
    "## Model 3"
   ]
  },
  {
   "cell_type": "code",
   "execution_count": 6,
   "id": "a4cec20a",
   "metadata": {},
   "outputs": [],
   "source": [
    "df['Csad_Fund'] = df['Csad'] - np.sqrt(model2.scale)"
   ]
  },
  {
   "cell_type": "code",
   "execution_count": 7,
   "id": "55807c7c",
   "metadata": {},
   "outputs": [
    {
     "name": "stdout",
     "output_type": "stream",
     "text": [
      "                            OLS Regression Results                            \n",
      "==============================================================================\n",
      "Dep. Variable:              Csad_Fund   R-squared:                       0.685\n",
      "Model:                            OLS   Adj. R-squared:                  0.685\n",
      "Method:                 Least Squares   F-statistic:                     3727.\n",
      "Date:                Fri, 18 Aug 2023   Prob (F-statistic):               0.00\n",
      "Time:                        07:05:50   Log-Likelihood:                 19464.\n",
      "No. Observations:                5139   AIC:                        -3.892e+04\n",
      "Df Residuals:                    5135   BIC:                        -3.889e+04\n",
      "Df Model:                           3                                         \n",
      "Covariance Type:            nonrobust                                         \n",
      "==============================================================================\n",
      "                 coef    std err          t      P>|t|      [0.025      0.975]\n",
      "------------------------------------------------------------------------------\n",
      "const         -0.0075      0.000    -62.533      0.000      -0.008      -0.007\n",
      "Rm             0.0125      0.006      2.019      0.044       0.000       0.025\n",
      "AbsoluteRm     0.8059      0.015     53.565      0.000       0.776       0.835\n",
      "SquaredRm      1.2622      0.259      4.875      0.000       0.755       1.770\n",
      "==============================================================================\n",
      "Omnibus:                     6621.711   Durbin-Watson:                   1.790\n",
      "Prob(Omnibus):                  0.000   Jarque-Bera (JB):          4284225.073\n",
      "Skew:                           6.592   Prob(JB):                         0.00\n",
      "Kurtosis:                     143.834   Cond. No.                     3.39e+03\n",
      "==============================================================================\n",
      "\n",
      "Notes:\n",
      "[1] Standard Errors assume that the covariance matrix of the errors is correctly specified.\n",
      "[2] The condition number is large, 3.39e+03. This might indicate that there are\n",
      "strong multicollinearity or other numerical problems.\n"
     ]
    }
   ],
   "source": [
    "x3 = df[\n",
    "    ['Rm', 'AbsoluteRm', 'SquaredRm']\n",
    "]\n",
    "y3 = df['Csad_Fund']\n",
    "\n",
    "x3 = sm.add_constant(x3)\n",
    "\n",
    "model3 = sm.OLS(y3, x3).fit()\n",
    "\n",
    "print(model3.summary())"
   ]
  },
  {
   "cell_type": "markdown",
   "id": "b0fa11d6",
   "metadata": {},
   "source": [
    "## Model 4"
   ]
  },
  {
   "cell_type": "code",
   "execution_count": 8,
   "id": "b6c17ed0",
   "metadata": {},
   "outputs": [],
   "source": [
    "df['CSAD_nonFund'] = np.sqrt(model2.scale)"
   ]
  },
  {
   "cell_type": "code",
   "execution_count": 9,
   "id": "c846fa25",
   "metadata": {},
   "outputs": [
    {
     "name": "stdout",
     "output_type": "stream",
     "text": [
      "                            OLS Regression Results                            \n",
      "==============================================================================\n",
      "Dep. Variable:           CSAD_nonFund   R-squared:                        -inf\n",
      "Model:                            OLS   Adj. R-squared:                   -inf\n",
      "Method:                 Least Squares   F-statistic:                    -1712.\n",
      "Date:                Fri, 18 Aug 2023   Prob (F-statistic):               1.00\n",
      "Time:                        07:05:50   Log-Likelihood:             1.9718e+05\n",
      "No. Observations:                5139   AIC:                        -3.943e+05\n",
      "Df Residuals:                    5135   BIC:                        -3.943e+05\n",
      "Df Model:                           3                                         \n",
      "Covariance Type:            nonrobust                                         \n",
      "==============================================================================\n",
      "                 coef    std err          t      P>|t|      [0.025      0.975]\n",
      "------------------------------------------------------------------------------\n",
      "const          0.0096   1.14e-19   8.41e+16      0.000       0.010       0.010\n",
      "Rm         -2.602e-18   5.94e-18     -0.438      0.662   -1.43e-17    9.05e-18\n",
      "AbsoluteRm -1.388e-17   1.44e-17     -0.963      0.336   -4.21e-17    1.44e-17\n",
      "SquaredRm   6.939e-16   2.48e-16      2.797      0.005    2.08e-16    1.18e-15\n",
      "==============================================================================\n",
      "Omnibus:                     8973.875   Durbin-Watson:                   0.005\n",
      "Prob(Omnibus):                  0.000   Jarque-Bera (JB):         10570480.533\n",
      "Skew:                         -12.233   Prob(JB):                         0.00\n",
      "Kurtosis:                     223.833   Cond. No.                     3.39e+03\n",
      "==============================================================================\n",
      "\n",
      "Notes:\n",
      "[1] Standard Errors assume that the covariance matrix of the errors is correctly specified.\n",
      "[2] The condition number is large, 3.39e+03. This might indicate that there are\n",
      "strong multicollinearity or other numerical problems.\n"
     ]
    }
   ],
   "source": [
    "x4 = df[\n",
    "    ['Rm', 'AbsoluteRm', 'SquaredRm']\n",
    "]\n",
    "y4 = df['CSAD_nonFund']\n",
    "\n",
    "x4 = sm.add_constant(x3)\n",
    "\n",
    "model4 = sm.OLS(y4, x4).fit()\n",
    "\n",
    "print(model4.summary())"
   ]
  }
 ],
 "metadata": {
  "kernelspec": {
   "display_name": "Python 3 (ipykernel)",
   "language": "python",
   "name": "python3"
  },
  "language_info": {
   "codemirror_mode": {
    "name": "ipython",
    "version": 3
   },
   "file_extension": ".py",
   "mimetype": "text/x-python",
   "name": "python",
   "nbconvert_exporter": "python",
   "pygments_lexer": "ipython3",
   "version": "3.11.4"
  }
 },
 "nbformat": 4,
 "nbformat_minor": 5
}
