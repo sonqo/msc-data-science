{
 "cells": [
  {
   "cell_type": "code",
   "execution_count": 1,
   "id": "cde8ac56",
   "metadata": {},
   "outputs": [],
   "source": [
    "import numpy as np\n",
    "import pandas as pd\n",
    "from linearmodels.iv import IVGMM\n",
    "from linearmodels.iv import IV2SLS\n",
    "from statsmodels.api import add_constant"
   ]
  },
  {
   "cell_type": "code",
   "execution_count": 2,
   "id": "5ae279b1",
   "metadata": {},
   "outputs": [
    {
     "data": {
      "text/html": [
       "<div>\n",
       "<style scoped>\n",
       "    .dataframe tbody tr th:only-of-type {\n",
       "        vertical-align: middle;\n",
       "    }\n",
       "\n",
       "    .dataframe tbody tr th {\n",
       "        vertical-align: top;\n",
       "    }\n",
       "\n",
       "    .dataframe thead th {\n",
       "        text-align: right;\n",
       "    }\n",
       "</style>\n",
       "<table border=\"1\" class=\"dataframe\">\n",
       "  <thead>\n",
       "    <tr style=\"text-align: right;\">\n",
       "      <th></th>\n",
       "      <th>const</th>\n",
       "      <th>Datadate</th>\n",
       "      <th>MktRf</th>\n",
       "      <th>Smb</th>\n",
       "      <th>Hml</th>\n",
       "      <th>Rmw</th>\n",
       "      <th>Cma</th>\n",
       "      <th>Rf</th>\n",
       "      <th>Mom</th>\n",
       "      <th>Rm</th>\n",
       "      <th>AbsoluteRm</th>\n",
       "      <th>SquaredRm</th>\n",
       "      <th>Csad</th>\n",
       "      <th>LeftTail</th>\n",
       "      <th>RightTail</th>\n",
       "      <th>Index</th>\n",
       "    </tr>\n",
       "  </thead>\n",
       "  <tbody>\n",
       "    <tr>\n",
       "      <th>1</th>\n",
       "      <td>1.0</td>\n",
       "      <td>2002-01-03</td>\n",
       "      <td>0.0099</td>\n",
       "      <td>0.0077</td>\n",
       "      <td>-0.0040</td>\n",
       "      <td>-0.0030</td>\n",
       "      <td>-0.0080</td>\n",
       "      <td>0.00007</td>\n",
       "      <td>-0.0043</td>\n",
       "      <td>0.00997</td>\n",
       "      <td>0.00997</td>\n",
       "      <td>0.000099</td>\n",
       "      <td>0.012651</td>\n",
       "      <td>0</td>\n",
       "      <td>0</td>\n",
       "      <td>1</td>\n",
       "    </tr>\n",
       "    <tr>\n",
       "      <th>2</th>\n",
       "      <td>1.0</td>\n",
       "      <td>2002-01-04</td>\n",
       "      <td>0.0070</td>\n",
       "      <td>0.0020</td>\n",
       "      <td>0.0039</td>\n",
       "      <td>-0.0008</td>\n",
       "      <td>-0.0023</td>\n",
       "      <td>0.00007</td>\n",
       "      <td>-0.0029</td>\n",
       "      <td>0.00707</td>\n",
       "      <td>0.00707</td>\n",
       "      <td>0.000050</td>\n",
       "      <td>0.009823</td>\n",
       "      <td>0</td>\n",
       "      <td>0</td>\n",
       "      <td>2</td>\n",
       "    </tr>\n",
       "    <tr>\n",
       "      <th>3</th>\n",
       "      <td>1.0</td>\n",
       "      <td>2002-01-07</td>\n",
       "      <td>-0.0070</td>\n",
       "      <td>-0.0024</td>\n",
       "      <td>0.0085</td>\n",
       "      <td>-0.0007</td>\n",
       "      <td>0.0016</td>\n",
       "      <td>0.00007</td>\n",
       "      <td>0.0036</td>\n",
       "      <td>-0.00693</td>\n",
       "      <td>0.00693</td>\n",
       "      <td>0.000048</td>\n",
       "      <td>0.001171</td>\n",
       "      <td>0</td>\n",
       "      <td>0</td>\n",
       "      <td>3</td>\n",
       "    </tr>\n",
       "    <tr>\n",
       "      <th>4</th>\n",
       "      <td>1.0</td>\n",
       "      <td>2002-01-08</td>\n",
       "      <td>-0.0023</td>\n",
       "      <td>0.0121</td>\n",
       "      <td>0.0029</td>\n",
       "      <td>-0.0021</td>\n",
       "      <td>-0.0001</td>\n",
       "      <td>0.00007</td>\n",
       "      <td>0.0035</td>\n",
       "      <td>-0.00223</td>\n",
       "      <td>0.00223</td>\n",
       "      <td>0.000005</td>\n",
       "      <td>0.005999</td>\n",
       "      <td>0</td>\n",
       "      <td>0</td>\n",
       "      <td>4</td>\n",
       "    </tr>\n",
       "    <tr>\n",
       "      <th>5</th>\n",
       "      <td>1.0</td>\n",
       "      <td>2002-01-09</td>\n",
       "      <td>-0.0045</td>\n",
       "      <td>0.0008</td>\n",
       "      <td>-0.0011</td>\n",
       "      <td>0.0022</td>\n",
       "      <td>0.0007</td>\n",
       "      <td>0.00007</td>\n",
       "      <td>0.0005</td>\n",
       "      <td>-0.00443</td>\n",
       "      <td>0.00443</td>\n",
       "      <td>0.000020</td>\n",
       "      <td>0.000605</td>\n",
       "      <td>0</td>\n",
       "      <td>0</td>\n",
       "      <td>5</td>\n",
       "    </tr>\n",
       "  </tbody>\n",
       "</table>\n",
       "</div>"
      ],
      "text/plain": [
       "   const    Datadate   MktRf     Smb     Hml     Rmw     Cma       Rf     Mom  \\\n",
       "1    1.0  2002-01-03  0.0099  0.0077 -0.0040 -0.0030 -0.0080  0.00007 -0.0043   \n",
       "2    1.0  2002-01-04  0.0070  0.0020  0.0039 -0.0008 -0.0023  0.00007 -0.0029   \n",
       "3    1.0  2002-01-07 -0.0070 -0.0024  0.0085 -0.0007  0.0016  0.00007  0.0036   \n",
       "4    1.0  2002-01-08 -0.0023  0.0121  0.0029 -0.0021 -0.0001  0.00007  0.0035   \n",
       "5    1.0  2002-01-09 -0.0045  0.0008 -0.0011  0.0022  0.0007  0.00007  0.0005   \n",
       "\n",
       "        Rm  AbsoluteRm  SquaredRm      Csad  LeftTail  RightTail  Index  \n",
       "1  0.00997     0.00997   0.000099  0.012651         0          0      1  \n",
       "2  0.00707     0.00707   0.000050  0.009823         0          0      2  \n",
       "3 -0.00693     0.00693   0.000048  0.001171         0          0      3  \n",
       "4 -0.00223     0.00223   0.000005  0.005999         0          0      4  \n",
       "5 -0.00443     0.00443   0.000020  0.000605         0          0      5  "
      ]
     },
     "execution_count": 2,
     "metadata": {},
     "output_type": "execute_result"
    }
   ],
   "source": [
    "np.seterr(divide = 'ignore')\n",
    "\n",
    "df = pd.read_csv('data/output/stocks/herding_stockMarket_2002-2022.csv')\n",
    "df = df.dropna()\n",
    "\n",
    "# add constant\n",
    "df['Index'] = df.index \n",
    "df = add_constant(df, has_constant='add')\n",
    "\n",
    "df.head()"
   ]
  },
  {
   "cell_type": "code",
   "execution_count": 3,
   "id": "d6df4881",
   "metadata": {},
   "outputs": [],
   "source": [
    "# period splitting\n",
    "df = df[(df['Datadate'] >= '2002-01-01') & (df['Datadate'] < '2023-01-01')]"
   ]
  },
  {
   "cell_type": "markdown",
   "id": "88ec72c3",
   "metadata": {},
   "source": [
    "## Model 1"
   ]
  },
  {
   "cell_type": "code",
   "execution_count": 4,
   "id": "38f365d0",
   "metadata": {},
   "outputs": [
    {
     "name": "stdout",
     "output_type": "stream",
     "text": [
      "                            OLS Estimation Summary                            \n",
      "==============================================================================\n",
      "Dep. Variable:                   Csad   R-squared:                      0.6927\n",
      "Estimator:                        OLS   Adj. R-squared:                 0.6924\n",
      "No. Observations:                5139   F-statistic:                 1.158e+04\n",
      "Date:                Thu, Aug 24 2023   P-value (F-stat)                0.0000\n",
      "Time:                        20:10:18   Distribution:                  chi2(4)\n",
      "Cov. Estimator:            unadjusted                                         \n",
      "                                                                              \n",
      "                             Parameter Estimates                              \n",
      "==============================================================================\n",
      "            Parameter  Std. Err.     T-stat    P-value    Lower CI    Upper CI\n",
      "------------------------------------------------------------------------------\n",
      "Rm             0.0118     0.0061     1.9237     0.0544     -0.0002      0.0238\n",
      "AbsoluteRm     0.8149     0.0149     54.752     0.0000      0.7858      0.8441\n",
      "SquaredRm      1.1413     0.2560     4.4586     0.0000      0.6396      1.6431\n",
      "Index        5.67e-07  5.101e-08     11.116     0.0000    4.67e-07    6.67e-07\n",
      "const          0.0006     0.0002     3.5431     0.0004      0.0003      0.0010\n",
      "==============================================================================\n"
     ]
    }
   ],
   "source": [
    "res_ols_v1 = IV2SLS(\n",
    "    df.Csad, df[\n",
    "        ['Rm', 'AbsoluteRm', 'SquaredRm', 'Index', 'const']\n",
    "    ], None, None\n",
    ").fit(cov_type='unadjusted')\n",
    "\n",
    "print(res_ols_v1)"
   ]
  },
  {
   "cell_type": "markdown",
   "id": "a5eaf39c",
   "metadata": {},
   "source": [
    "## Model 2"
   ]
  },
  {
   "cell_type": "code",
   "execution_count": 5,
   "id": "9693ad70",
   "metadata": {},
   "outputs": [
    {
     "name": "stdout",
     "output_type": "stream",
     "text": [
      "                            OLS Estimation Summary                            \n",
      "==============================================================================\n",
      "Dep. Variable:                   Csad   R-squared:                      0.0073\n",
      "Estimator:                        OLS   Adj. R-squared:                 0.0062\n",
      "No. Observations:                5139   F-statistic:                    37.916\n",
      "Date:                Thu, Aug 24 2023   P-value (F-stat)                0.0000\n",
      "Time:                        20:10:18   Distribution:                  chi2(6)\n",
      "Cov. Estimator:            unadjusted                                         \n",
      "                                                                              \n",
      "                             Parameter Estimates                              \n",
      "==============================================================================\n",
      "            Parameter  Std. Err.     T-stat    P-value    Lower CI    Upper CI\n",
      "------------------------------------------------------------------------------\n",
      "MktRf         -0.0314     0.0121    -2.5919     0.0095     -0.0552     -0.0077\n",
      "Smb            0.0572     0.0233     2.4613     0.0138      0.0117      0.1028\n",
      "Hml            0.0316     0.0205     1.5396     0.1236     -0.0086      0.0719\n",
      "Rmw           -0.0080     0.0315    -0.2532     0.8001     -0.0698      0.0538\n",
      "Cma            0.0510     0.0430     1.1877     0.2349     -0.0332      0.1353\n",
      "Index       3.942e-07  9.156e-08     4.3056     0.0000   2.148e-07   5.737e-07\n",
      "const          0.0079     0.0003     28.979     0.0000      0.0073      0.0084\n",
      "==============================================================================\n"
     ]
    }
   ],
   "source": [
    "res_ols_v21 = IV2SLS(\n",
    "    df.Csad, df[\n",
    "        ['MktRf', 'Smb', 'Hml', 'Rmw', 'Cma', 'Index', 'const']\n",
    "    ], None, None\n",
    ").fit(cov_type='unadjusted')\n",
    "\n",
    "print(res_ols_v21)"
   ]
  },
  {
   "cell_type": "code",
   "execution_count": 6,
   "id": "a4fbc298",
   "metadata": {},
   "outputs": [
    {
     "name": "stdout",
     "output_type": "stream",
     "text": [
      "                            OLS Estimation Summary                            \n",
      "==============================================================================\n",
      "Dep. Variable:                   Csad   R-squared:                      0.0220\n",
      "Estimator:                        OLS   Adj. R-squared:                 0.0210\n",
      "No. Observations:                5139   F-statistic:                    115.54\n",
      "Date:                Thu, Aug 24 2023   P-value (F-stat)                0.0000\n",
      "Time:                        20:10:18   Distribution:                  chi2(5)\n",
      "Cov. Estimator:            unadjusted                                         \n",
      "                                                                              \n",
      "                             Parameter Estimates                              \n",
      "==============================================================================\n",
      "            Parameter  Std. Err.     T-stat    P-value    Lower CI    Upper CI\n",
      "------------------------------------------------------------------------------\n",
      "MktRf         -0.0555     0.0115    -4.8250     0.0000     -0.0781     -0.0330\n",
      "Smb            0.0621     0.0226     2.7476     0.0060      0.0178      0.1064\n",
      "Hml           -0.0424     0.0207    -2.0480     0.0406     -0.0830     -0.0018\n",
      "Mom           -0.1375     0.0155    -8.8634     0.0000     -0.1680     -0.1071\n",
      "Index       3.912e-07  9.088e-08     4.3045     0.0000   2.131e-07   5.693e-07\n",
      "const          0.0079     0.0003     29.333     0.0000      0.0074      0.0084\n",
      "==============================================================================\n"
     ]
    }
   ],
   "source": [
    "res_ols_v22 = IV2SLS(\n",
    "    df.Csad, df[\n",
    "        ['MktRf', 'Smb', 'Hml', 'Mom', 'Index', 'const']\n",
    "    ], None, None\n",
    ").fit(cov_type='unadjusted')\n",
    "\n",
    "print(res_ols_v22)"
   ]
  },
  {
   "cell_type": "markdown",
   "id": "2033f7e5",
   "metadata": {},
   "source": [
    "## Model 3"
   ]
  },
  {
   "cell_type": "code",
   "execution_count": 7,
   "id": "a4cec20a",
   "metadata": {},
   "outputs": [
    {
     "name": "stdout",
     "output_type": "stream",
     "text": [
      "                            OLS Estimation Summary                            \n",
      "==============================================================================\n",
      "Dep. Variable:              Csad_Fund   R-squared:                      0.5895\n",
      "Estimator:                        OLS   Adj. R-squared:                 0.5891\n",
      "No. Observations:                5139   F-statistic:                    7378.5\n",
      "Date:                Thu, Aug 24 2023   P-value (F-stat)                0.0000\n",
      "Time:                        20:10:18   Distribution:                  chi2(4)\n",
      "Cov. Estimator:            unadjusted                                         \n",
      "                                                                              \n",
      "                             Parameter Estimates                              \n",
      "==============================================================================\n",
      "            Parameter  Std. Err.     T-stat    P-value    Lower CI    Upper CI\n",
      "------------------------------------------------------------------------------\n",
      "Rm            -0.0236     0.0006    -38.953     0.0000     -0.0248     -0.0224\n",
      "AbsoluteRm     0.0048     0.0015     3.2567     0.0011      0.0019      0.0077\n",
      "SquaredRm     -0.1341     0.0253    -5.2947     0.0000     -0.1837     -0.0844\n",
      "Index        3.88e-07  5.045e-09     76.912     0.0000   3.781e-07   3.979e-07\n",
      "const          0.0079   1.78e-05     442.70     0.0000      0.0078      0.0079\n",
      "==============================================================================\n"
     ]
    }
   ],
   "source": [
    "df['Csad_Fund'] = df['Csad'] - res_ols_v21.resids\n",
    "\n",
    "res_ols_v3 = IV2SLS(\n",
    "    df.Csad_Fund, df[\n",
    "        ['Rm', 'AbsoluteRm', 'SquaredRm', 'Index', 'const']\n",
    "    ], None, None\n",
    ").fit(cov_type='unadjusted')\n",
    "\n",
    "print(res_ols_v3)"
   ]
  },
  {
   "cell_type": "code",
   "execution_count": 8,
   "id": "e0c0d02a",
   "metadata": {},
   "outputs": [
    {
     "name": "stdout",
     "output_type": "stream",
     "text": [
      "                            OLS Estimation Summary                            \n",
      "==============================================================================\n",
      "Dep. Variable:              Csad_Fund   R-squared:                      0.1974\n",
      "Estimator:                        OLS   Adj. R-squared:                 0.1968\n",
      "No. Observations:                5139   F-statistic:                    1264.0\n",
      "Date:                Thu, Aug 24 2023   P-value (F-stat)                0.0000\n",
      "Time:                        20:10:18   Distribution:                  chi2(4)\n",
      "Cov. Estimator:            unadjusted                                         \n",
      "                                                                              \n",
      "                             Parameter Estimates                              \n",
      "==============================================================================\n",
      "            Parameter  Std. Err.     T-stat    P-value    Lower CI    Upper CI\n",
      "------------------------------------------------------------------------------\n",
      "Rm            -0.0233     0.0015    -15.887     0.0000     -0.0262     -0.0204\n",
      "AbsoluteRm     0.0118     0.0036     3.3138     0.0009      0.0048      0.0188\n",
      "SquaredRm     -0.1321     0.0613    -2.1536     0.0313     -0.2523     -0.0119\n",
      "Index       3.896e-07  1.222e-08     31.872     0.0000   3.656e-07   4.135e-07\n",
      "const          0.0078  4.313e-05     181.31     0.0000      0.0077      0.0079\n",
      "==============================================================================\n"
     ]
    }
   ],
   "source": [
    "df['Csad_Fund'] = df['Csad'] - res_ols_v22.resids\n",
    "\n",
    "res_ols_v3 = IV2SLS(\n",
    "    df.Csad_Fund, df[\n",
    "        ['Rm', 'AbsoluteRm', 'SquaredRm', 'Index', 'const']\n",
    "    ], None, None\n",
    ").fit(cov_type='unadjusted')\n",
    "\n",
    "print(res_ols_v3)"
   ]
  },
  {
   "cell_type": "markdown",
   "id": "b0fa11d6",
   "metadata": {},
   "source": [
    "## Model 4"
   ]
  },
  {
   "cell_type": "code",
   "execution_count": 9,
   "id": "b6c17ed0",
   "metadata": {},
   "outputs": [
    {
     "name": "stdout",
     "output_type": "stream",
     "text": [
      "                            OLS Estimation Summary                            \n",
      "==============================================================================\n",
      "Dep. Variable:           CSAD_nonFund   R-squared:                      0.6965\n",
      "Estimator:                        OLS   Adj. R-squared:                 0.6963\n",
      "No. Observations:                5139   F-statistic:                 1.179e+04\n",
      "Date:                Thu, Aug 24 2023   P-value (F-stat)                0.0000\n",
      "Time:                        20:10:18   Distribution:                  chi2(4)\n",
      "Cov. Estimator:            unadjusted                                         \n",
      "                                                                              \n",
      "                             Parameter Estimates                              \n",
      "==============================================================================\n",
      "            Parameter  Std. Err.     T-stat    P-value    Lower CI    Upper CI\n",
      "------------------------------------------------------------------------------\n",
      "Rm             0.0354     0.0061     5.8343     0.0000      0.0235      0.0473\n",
      "AbsoluteRm     0.8101     0.0147     54.973     0.0000      0.7813      0.8390\n",
      "SquaredRm      1.2754     0.2535     5.0321     0.0000      0.7786      1.7722\n",
      "Index        1.79e-07   5.05e-08     3.5438     0.0004   7.999e-08    2.78e-07\n",
      "const         -0.0072     0.0002    -40.647     0.0000     -0.0076     -0.0069\n",
      "==============================================================================\n"
     ]
    }
   ],
   "source": [
    "df['CSAD_nonFund'] = res_ols_v21.resids\n",
    "\n",
    "res_ols_v4 = IV2SLS(\n",
    "    df.CSAD_nonFund, df[\n",
    "        ['Rm', 'AbsoluteRm', 'SquaredRm', 'Index', 'const']\n",
    "    ], None, None\n",
    ").fit(cov_type='unadjusted')\n",
    "\n",
    "print(res_ols_v4)"
   ]
  },
  {
   "cell_type": "code",
   "execution_count": 10,
   "id": "35cf73c1",
   "metadata": {},
   "outputs": [
    {
     "name": "stdout",
     "output_type": "stream",
     "text": [
      "                            OLS Estimation Summary                            \n",
      "==============================================================================\n",
      "Dep. Variable:           CSAD_nonFund   R-squared:                      0.6955\n",
      "Estimator:                        OLS   Adj. R-squared:                 0.6952\n",
      "No. Observations:                5139   F-statistic:                 1.174e+04\n",
      "Date:                Thu, Aug 24 2023   P-value (F-stat)                0.0000\n",
      "Time:                        20:10:18   Distribution:                  chi2(4)\n",
      "Cov. Estimator:            unadjusted                                         \n",
      "                                                                              \n",
      "                             Parameter Estimates                              \n",
      "==============================================================================\n",
      "            Parameter  Std. Err.     T-stat    P-value    Lower CI    Upper CI\n",
      "------------------------------------------------------------------------------\n",
      "Rm             0.0351     0.0060     5.8211     0.0000      0.0233      0.0469\n",
      "AbsoluteRm     0.8031     0.0147     54.810     0.0000      0.7744      0.8318\n",
      "SquaredRm      1.2735     0.2520     5.0533     0.0000      0.7795      1.7674\n",
      "Index       1.774e-07  5.021e-08     3.5337     0.0004   7.902e-08   2.759e-07\n",
      "const         -0.0072     0.0002    -40.535     0.0000     -0.0075     -0.0068\n",
      "==============================================================================\n"
     ]
    }
   ],
   "source": [
    "df['CSAD_nonFund'] = res_ols_v22.resids\n",
    "\n",
    "res_ols_v4 = IV2SLS(\n",
    "    df.CSAD_nonFund, df[\n",
    "        ['Rm', 'AbsoluteRm', 'SquaredRm', 'Index', 'const']\n",
    "    ], None, None\n",
    ").fit(cov_type='unadjusted')\n",
    "\n",
    "print(res_ols_v4)"
   ]
  }
 ],
 "metadata": {
  "kernelspec": {
   "display_name": "Python 3 (ipykernel)",
   "language": "python",
   "name": "python3"
  },
  "language_info": {
   "codemirror_mode": {
    "name": "ipython",
    "version": 3
   },
   "file_extension": ".py",
   "mimetype": "text/x-python",
   "name": "python",
   "nbconvert_exporter": "python",
   "pygments_lexer": "ipython3",
   "version": "3.11.4"
  }
 },
 "nbformat": 4,
 "nbformat_minor": 5
}
