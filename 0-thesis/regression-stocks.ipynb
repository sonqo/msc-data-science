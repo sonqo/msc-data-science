{
 "cells": [
  {
   "cell_type": "code",
   "execution_count": 11,
   "id": "cde8ac56",
   "metadata": {},
   "outputs": [],
   "source": [
    "import numpy as np\n",
    "import pandas as pd\n",
    "from linearmodels.iv import IVGMM\n",
    "from linearmodels.iv import IV2SLS\n",
    "from statsmodels.api import add_constant"
   ]
  },
  {
   "cell_type": "code",
   "execution_count": 12,
   "id": "5ae279b1",
   "metadata": {},
   "outputs": [
    {
     "data": {
      "text/html": [
       "<div>\n",
       "<style scoped>\n",
       "    .dataframe tbody tr th:only-of-type {\n",
       "        vertical-align: middle;\n",
       "    }\n",
       "\n",
       "    .dataframe tbody tr th {\n",
       "        vertical-align: top;\n",
       "    }\n",
       "\n",
       "    .dataframe thead th {\n",
       "        text-align: right;\n",
       "    }\n",
       "</style>\n",
       "<table border=\"1\" class=\"dataframe\">\n",
       "  <thead>\n",
       "    <tr style=\"text-align: right;\">\n",
       "      <th></th>\n",
       "      <th>const</th>\n",
       "      <th>Datadate</th>\n",
       "      <th>MktRf</th>\n",
       "      <th>Smb</th>\n",
       "      <th>Hml</th>\n",
       "      <th>Rmw</th>\n",
       "      <th>Cma</th>\n",
       "      <th>Rf</th>\n",
       "      <th>Mom</th>\n",
       "      <th>Rm</th>\n",
       "      <th>AbsoluteRm</th>\n",
       "      <th>SquaredRm</th>\n",
       "      <th>Csad</th>\n",
       "      <th>LeftTail</th>\n",
       "      <th>RightTail</th>\n",
       "      <th>Index</th>\n",
       "    </tr>\n",
       "  </thead>\n",
       "  <tbody>\n",
       "    <tr>\n",
       "      <th>1</th>\n",
       "      <td>1.0</td>\n",
       "      <td>2002-01-03</td>\n",
       "      <td>0.0099</td>\n",
       "      <td>0.0077</td>\n",
       "      <td>-0.0040</td>\n",
       "      <td>-0.0030</td>\n",
       "      <td>-0.0080</td>\n",
       "      <td>0.00007</td>\n",
       "      <td>-0.0043</td>\n",
       "      <td>0.00997</td>\n",
       "      <td>0.00997</td>\n",
       "      <td>0.000099</td>\n",
       "      <td>0.012959</td>\n",
       "      <td>0</td>\n",
       "      <td>0</td>\n",
       "      <td>1</td>\n",
       "    </tr>\n",
       "    <tr>\n",
       "      <th>2</th>\n",
       "      <td>1.0</td>\n",
       "      <td>2002-01-04</td>\n",
       "      <td>0.0070</td>\n",
       "      <td>0.0020</td>\n",
       "      <td>0.0039</td>\n",
       "      <td>-0.0008</td>\n",
       "      <td>-0.0023</td>\n",
       "      <td>0.00007</td>\n",
       "      <td>-0.0029</td>\n",
       "      <td>0.00707</td>\n",
       "      <td>0.00707</td>\n",
       "      <td>0.000050</td>\n",
       "      <td>0.010224</td>\n",
       "      <td>0</td>\n",
       "      <td>0</td>\n",
       "      <td>2</td>\n",
       "    </tr>\n",
       "    <tr>\n",
       "      <th>3</th>\n",
       "      <td>1.0</td>\n",
       "      <td>2002-01-07</td>\n",
       "      <td>-0.0070</td>\n",
       "      <td>-0.0024</td>\n",
       "      <td>0.0085</td>\n",
       "      <td>-0.0007</td>\n",
       "      <td>0.0016</td>\n",
       "      <td>0.00007</td>\n",
       "      <td>0.0036</td>\n",
       "      <td>-0.00693</td>\n",
       "      <td>0.00693</td>\n",
       "      <td>0.000048</td>\n",
       "      <td>0.001126</td>\n",
       "      <td>0</td>\n",
       "      <td>0</td>\n",
       "      <td>3</td>\n",
       "    </tr>\n",
       "    <tr>\n",
       "      <th>4</th>\n",
       "      <td>1.0</td>\n",
       "      <td>2002-01-08</td>\n",
       "      <td>-0.0023</td>\n",
       "      <td>0.0121</td>\n",
       "      <td>0.0029</td>\n",
       "      <td>-0.0021</td>\n",
       "      <td>-0.0001</td>\n",
       "      <td>0.00007</td>\n",
       "      <td>0.0035</td>\n",
       "      <td>-0.00223</td>\n",
       "      <td>0.00223</td>\n",
       "      <td>0.000005</td>\n",
       "      <td>0.006180</td>\n",
       "      <td>0</td>\n",
       "      <td>0</td>\n",
       "      <td>4</td>\n",
       "    </tr>\n",
       "    <tr>\n",
       "      <th>5</th>\n",
       "      <td>1.0</td>\n",
       "      <td>2002-01-09</td>\n",
       "      <td>-0.0045</td>\n",
       "      <td>0.0008</td>\n",
       "      <td>-0.0011</td>\n",
       "      <td>0.0022</td>\n",
       "      <td>0.0007</td>\n",
       "      <td>0.00007</td>\n",
       "      <td>0.0005</td>\n",
       "      <td>-0.00443</td>\n",
       "      <td>0.00443</td>\n",
       "      <td>0.000020</td>\n",
       "      <td>0.000681</td>\n",
       "      <td>0</td>\n",
       "      <td>0</td>\n",
       "      <td>5</td>\n",
       "    </tr>\n",
       "  </tbody>\n",
       "</table>\n",
       "</div>"
      ],
      "text/plain": [
       "   const    Datadate   MktRf     Smb     Hml     Rmw     Cma       Rf     Mom  \\\n",
       "1    1.0  2002-01-03  0.0099  0.0077 -0.0040 -0.0030 -0.0080  0.00007 -0.0043   \n",
       "2    1.0  2002-01-04  0.0070  0.0020  0.0039 -0.0008 -0.0023  0.00007 -0.0029   \n",
       "3    1.0  2002-01-07 -0.0070 -0.0024  0.0085 -0.0007  0.0016  0.00007  0.0036   \n",
       "4    1.0  2002-01-08 -0.0023  0.0121  0.0029 -0.0021 -0.0001  0.00007  0.0035   \n",
       "5    1.0  2002-01-09 -0.0045  0.0008 -0.0011  0.0022  0.0007  0.00007  0.0005   \n",
       "\n",
       "        Rm  AbsoluteRm  SquaredRm      Csad  LeftTail  RightTail  Index  \n",
       "1  0.00997     0.00997   0.000099  0.012959         0          0      1  \n",
       "2  0.00707     0.00707   0.000050  0.010224         0          0      2  \n",
       "3 -0.00693     0.00693   0.000048  0.001126         0          0      3  \n",
       "4 -0.00223     0.00223   0.000005  0.006180         0          0      4  \n",
       "5 -0.00443     0.00443   0.000020  0.000681         0          0      5  "
      ]
     },
     "execution_count": 12,
     "metadata": {},
     "output_type": "execute_result"
    }
   ],
   "source": [
    "np.seterr(divide = 'ignore')\n",
    "\n",
    "df = pd.read_csv('data/output/stocks/herding_stockMarket_2002-2022.csv')\n",
    "df = df.dropna()\n",
    "\n",
    "# add constant\n",
    "df['Index'] = df.index \n",
    "df = add_constant(df, has_constant='add')\n",
    "\n",
    "df.head()"
   ]
  },
  {
   "cell_type": "code",
   "execution_count": 13,
   "id": "d6df4881",
   "metadata": {},
   "outputs": [],
   "source": [
    "# period splitting\n",
    "df = df[(df['Datadate'] >= '2002-01-01') & (df['Datadate'] < '2023-01-01')]"
   ]
  },
  {
   "cell_type": "markdown",
   "id": "88ec72c3",
   "metadata": {},
   "source": [
    "## Model 1"
   ]
  },
  {
   "cell_type": "code",
   "execution_count": 14,
   "id": "38f365d0",
   "metadata": {},
   "outputs": [
    {
     "name": "stdout",
     "output_type": "stream",
     "text": [
      "                            OLS Estimation Summary                            \n",
      "==============================================================================\n",
      "Dep. Variable:                   Csad   R-squared:                      0.6815\n",
      "Estimator:                        OLS   Adj. R-squared:                 0.6812\n",
      "No. Observations:                5139   F-statistic:                   1.1e+04\n",
      "Date:                Tue, Aug 29 2023   P-value (F-stat)                0.0000\n",
      "Time:                        15:14:51   Distribution:                  chi2(4)\n",
      "Cov. Estimator:            unadjusted                                         \n",
      "                                                                              \n",
      "                             Parameter Estimates                              \n",
      "==============================================================================\n",
      "            Parameter  Std. Err.     T-stat    P-value    Lower CI    Upper CI\n",
      "------------------------------------------------------------------------------\n",
      "Rm             0.0145     0.0062     2.3268     0.0200      0.0023      0.0268\n",
      "AbsoluteRm     0.8265     0.0152     54.484     0.0000      0.7968      0.8562\n",
      "SquaredRm      0.7790     0.2609     2.9859     0.0028      0.2677      1.2904\n",
      "Index       6.122e-07  5.198e-08     11.776     0.0000   5.103e-07   7.141e-07\n",
      "const          0.0007     0.0002     3.5519     0.0004      0.0003      0.0010\n",
      "==============================================================================\n"
     ]
    }
   ],
   "source": [
    "res_ols_v1 = IV2SLS(\n",
    "    df.Csad, df[\n",
    "        ['Rm', 'AbsoluteRm', 'SquaredRm', 'Index', 'const']\n",
    "    ], None, None\n",
    ").fit(cov_type='unadjusted')\n",
    "\n",
    "print(res_ols_v1)"
   ]
  },
  {
   "cell_type": "markdown",
   "id": "a5eaf39c",
   "metadata": {},
   "source": [
    "## Model 2"
   ]
  },
  {
   "cell_type": "code",
   "execution_count": 15,
   "id": "9693ad70",
   "metadata": {},
   "outputs": [
    {
     "name": "stdout",
     "output_type": "stream",
     "text": [
      "                            OLS Estimation Summary                            \n",
      "==============================================================================\n",
      "Dep. Variable:                   Csad   R-squared:                      0.0079\n",
      "Estimator:                        OLS   Adj. R-squared:                 0.0067\n",
      "No. Observations:                5139   F-statistic:                    40.736\n",
      "Date:                Tue, Aug 29 2023   P-value (F-stat)                0.0000\n",
      "Time:                        15:14:51   Distribution:                  chi2(6)\n",
      "Cov. Estimator:            unadjusted                                         \n",
      "                                                                              \n",
      "                             Parameter Estimates                              \n",
      "==============================================================================\n",
      "            Parameter  Std. Err.     T-stat    P-value    Lower CI    Upper CI\n",
      "------------------------------------------------------------------------------\n",
      "MktRf         -0.0275     0.0121    -2.2690     0.0233     -0.0513     -0.0037\n",
      "Smb            0.0564     0.0233     2.4220     0.0154      0.0108      0.1020\n",
      "Hml            0.0287     0.0206     1.3964     0.1626     -0.0116      0.0690\n",
      "Rmw           -0.0076     0.0316    -0.2408     0.8097     -0.0695      0.0543\n",
      "Cma            0.0583     0.0430     1.3564     0.1750     -0.0260      0.1426\n",
      "Index       4.374e-07  9.164e-08     4.7728     0.0000   2.578e-07    6.17e-07\n",
      "const          0.0079     0.0003     29.162     0.0000      0.0074      0.0085\n",
      "==============================================================================\n"
     ]
    }
   ],
   "source": [
    "res_ols_v21 = IV2SLS(\n",
    "    df.Csad, df[\n",
    "        ['MktRf', 'Smb', 'Hml', 'Rmw', 'Cma', 'Index', 'const']\n",
    "    ], None, None\n",
    ").fit(cov_type='unadjusted')\n",
    "\n",
    "print(res_ols_v21)"
   ]
  },
  {
   "cell_type": "code",
   "execution_count": 16,
   "id": "a4fbc298",
   "metadata": {},
   "outputs": [
    {
     "name": "stdout",
     "output_type": "stream",
     "text": [
      "                            OLS Estimation Summary                            \n",
      "==============================================================================\n",
      "Dep. Variable:                   Csad   R-squared:                      0.0219\n",
      "Estimator:                        OLS   Adj. R-squared:                 0.0210\n",
      "No. Observations:                5139   F-statistic:                    115.11\n",
      "Date:                Tue, Aug 29 2023   P-value (F-stat)                0.0000\n",
      "Time:                        15:14:51   Distribution:                  chi2(5)\n",
      "Cov. Estimator:            unadjusted                                         \n",
      "                                                                              \n",
      "                             Parameter Estimates                              \n",
      "==============================================================================\n",
      "            Parameter  Std. Err.     T-stat    P-value    Lower CI    Upper CI\n",
      "------------------------------------------------------------------------------\n",
      "MktRf         -0.0518     0.0115    -4.4921     0.0000     -0.0743     -0.0292\n",
      "Smb            0.0612     0.0226     2.7060     0.0068      0.0169      0.1055\n",
      "Hml           -0.0424     0.0207    -2.0455     0.0408     -0.0831     -0.0018\n",
      "Mom           -0.1352     0.0155    -8.7020     0.0000     -0.1657     -0.1048\n",
      "Index       4.345e-07  9.099e-08     4.7753     0.0000   2.562e-07   6.128e-07\n",
      "const          0.0080     0.0003     29.509     0.0000      0.0074      0.0085\n",
      "==============================================================================\n"
     ]
    }
   ],
   "source": [
    "res_ols_v22 = IV2SLS(\n",
    "    df.Csad, df[\n",
    "        ['MktRf', 'Smb', 'Hml', 'Mom', 'Index', 'const']\n",
    "    ], None, None\n",
    ").fit(cov_type='unadjusted')\n",
    "\n",
    "print(res_ols_v22)"
   ]
  },
  {
   "cell_type": "markdown",
   "id": "2033f7e5",
   "metadata": {},
   "source": [
    "## Model 3"
   ]
  },
  {
   "cell_type": "code",
   "execution_count": 17,
   "id": "a4cec20a",
   "metadata": {},
   "outputs": [
    {
     "name": "stdout",
     "output_type": "stream",
     "text": [
      "                            OLS Estimation Summary                            \n",
      "==============================================================================\n",
      "Dep. Variable:              Csad_Fund   R-squared:                      0.6235\n",
      "Estimator:                        OLS   Adj. R-squared:                 0.6232\n",
      "No. Observations:                5139   F-statistic:                    8509.8\n",
      "Date:                Tue, Aug 29 2023   P-value (F-stat)                0.0000\n",
      "Time:                        15:14:51   Distribution:                  chi2(4)\n",
      "Cov. Estimator:            unadjusted                                         \n",
      "                                                                              \n",
      "                             Parameter Estimates                              \n",
      "==============================================================================\n",
      "            Parameter  Std. Err.     T-stat    P-value    Lower CI    Upper CI\n",
      "------------------------------------------------------------------------------\n",
      "Rm            -0.0204     0.0006    -33.948     0.0000     -0.0216     -0.0193\n",
      "AbsoluteRm     0.0046     0.0015     3.1506     0.0016      0.0017      0.0075\n",
      "SquaredRm     -0.1275     0.0252    -5.0690     0.0000     -0.1768     -0.0782\n",
      "Index       4.314e-07  5.012e-09     86.071     0.0000   4.216e-07   4.413e-07\n",
      "const          0.0079  1.769e-05     448.83     0.0000      0.0079      0.0080\n",
      "==============================================================================\n"
     ]
    }
   ],
   "source": [
    "df['Csad_Fund'] = df['Csad'] - res_ols_v21.resids\n",
    "\n",
    "res_ols_v3 = IV2SLS(\n",
    "    df.Csad_Fund, df[\n",
    "        ['Rm', 'AbsoluteRm', 'SquaredRm', 'Index', 'const']\n",
    "    ], None, None\n",
    ").fit(cov_type='unadjusted')\n",
    "\n",
    "print(res_ols_v3)"
   ]
  },
  {
   "cell_type": "code",
   "execution_count": 18,
   "id": "e0c0d02a",
   "metadata": {},
   "outputs": [
    {
     "name": "stdout",
     "output_type": "stream",
     "text": [
      "                            OLS Estimation Summary                            \n",
      "==============================================================================\n",
      "Dep. Variable:              Csad_Fund   R-squared:                      0.2249\n",
      "Estimator:                        OLS   Adj. R-squared:                 0.2243\n",
      "No. Observations:                5139   F-statistic:                    1491.1\n",
      "Date:                Tue, Aug 29 2023   P-value (F-stat)                0.0000\n",
      "Time:                        15:14:51   Distribution:                  chi2(4)\n",
      "Cov. Estimator:            unadjusted                                         \n",
      "                                                                              \n",
      "                             Parameter Estimates                              \n",
      "==============================================================================\n",
      "            Parameter  Std. Err.     T-stat    P-value    Lower CI    Upper CI\n",
      "------------------------------------------------------------------------------\n",
      "Rm            -0.0202     0.0014    -13.987     0.0000     -0.0230     -0.0173\n",
      "AbsoluteRm     0.0116     0.0035     3.3126     0.0009      0.0047      0.0185\n",
      "SquaredRm     -0.1293     0.0602    -2.1472     0.0318     -0.2474     -0.0113\n",
      "Index       4.329e-07    1.2e-08     36.068     0.0000   4.094e-07   4.565e-07\n",
      "const          0.0079  4.236e-05     185.99     0.0000      0.0078      0.0080\n",
      "==============================================================================\n"
     ]
    }
   ],
   "source": [
    "df['Csad_Fund'] = df['Csad'] - res_ols_v22.resids\n",
    "\n",
    "res_ols_v3 = IV2SLS(\n",
    "    df.Csad_Fund, df[\n",
    "        ['Rm', 'AbsoluteRm', 'SquaredRm', 'Index', 'const']\n",
    "    ], None, None\n",
    ").fit(cov_type='unadjusted')\n",
    "\n",
    "print(res_ols_v3)"
   ]
  },
  {
   "cell_type": "markdown",
   "id": "b0fa11d6",
   "metadata": {},
   "source": [
    "## Model 4"
   ]
  },
  {
   "cell_type": "code",
   "execution_count": 19,
   "id": "b6c17ed0",
   "metadata": {},
   "outputs": [
    {
     "name": "stdout",
     "output_type": "stream",
     "text": [
      "                            OLS Estimation Summary                            \n",
      "==============================================================================\n",
      "Dep. Variable:           CSAD_nonFund   R-squared:                      0.6847\n",
      "Estimator:                        OLS   Adj. R-squared:                 0.6844\n",
      "No. Observations:                5139   F-statistic:                 1.116e+04\n",
      "Date:                Tue, Aug 29 2023   P-value (F-stat)                0.0000\n",
      "Time:                        15:14:51   Distribution:                  chi2(4)\n",
      "Cov. Estimator:            unadjusted                                         \n",
      "                                                                              \n",
      "                             Parameter Estimates                              \n",
      "==============================================================================\n",
      "            Parameter  Std. Err.     T-stat    P-value    Lower CI    Upper CI\n",
      "------------------------------------------------------------------------------\n",
      "Rm             0.0350     0.0062     5.6506     0.0000      0.0228      0.0471\n",
      "AbsoluteRm     0.8219     0.0150     54.669     0.0000      0.7924      0.8514\n",
      "SquaredRm      0.9065     0.2586     3.5060     0.0005      0.3997      1.4133\n",
      "Index       1.807e-07  5.152e-08     3.5081     0.0005   7.976e-08   2.817e-07\n",
      "const         -0.0073     0.0002    -40.083     0.0000     -0.0076     -0.0069\n",
      "==============================================================================\n"
     ]
    }
   ],
   "source": [
    "df['CSAD_nonFund'] = res_ols_v21.resids\n",
    "\n",
    "res_ols_v4 = IV2SLS(\n",
    "    df.CSAD_nonFund, df[\n",
    "        ['Rm', 'AbsoluteRm', 'SquaredRm', 'Index', 'const']\n",
    "    ], None, None\n",
    ").fit(cov_type='unadjusted')\n",
    "\n",
    "print(res_ols_v4)"
   ]
  },
  {
   "cell_type": "code",
   "execution_count": 20,
   "id": "35cf73c1",
   "metadata": {},
   "outputs": [
    {
     "name": "stdout",
     "output_type": "stream",
     "text": [
      "                            OLS Estimation Summary                            \n",
      "==============================================================================\n",
      "Dep. Variable:           CSAD_nonFund   R-squared:                      0.6835\n",
      "Estimator:                        OLS   Adj. R-squared:                 0.6833\n",
      "No. Observations:                5139   F-statistic:                  1.11e+04\n",
      "Date:                Tue, Aug 29 2023   P-value (F-stat)                0.0000\n",
      "Time:                        15:14:51   Distribution:                  chi2(4)\n",
      "Cov. Estimator:            unadjusted                                         \n",
      "                                                                              \n",
      "                             Parameter Estimates                              \n",
      "==============================================================================\n",
      "            Parameter  Std. Err.     T-stat    P-value    Lower CI    Upper CI\n",
      "------------------------------------------------------------------------------\n",
      "Rm             0.0347     0.0062     5.6362     0.0000      0.0226      0.0468\n",
      "AbsoluteRm     0.8149     0.0150     54.489     0.0000      0.7856      0.8442\n",
      "SquaredRm      0.9084     0.2572     3.5316     0.0004      0.4042      1.4125\n",
      "Index       1.792e-07  5.125e-08     3.4970     0.0005   7.877e-08   2.797e-07\n",
      "const         -0.0072     0.0002    -39.960     0.0000     -0.0076     -0.0069\n",
      "==============================================================================\n"
     ]
    }
   ],
   "source": [
    "df['CSAD_nonFund'] = res_ols_v22.resids\n",
    "\n",
    "res_ols_v4 = IV2SLS(\n",
    "    df.CSAD_nonFund, df[\n",
    "        ['Rm', 'AbsoluteRm', 'SquaredRm', 'Index', 'const']\n",
    "    ], None, None\n",
    ").fit(cov_type='unadjusted')\n",
    "\n",
    "print(res_ols_v4)"
   ]
  }
 ],
 "metadata": {
  "kernelspec": {
   "display_name": "Python 3 (ipykernel)",
   "language": "python",
   "name": "python3"
  },
  "language_info": {
   "codemirror_mode": {
    "name": "ipython",
    "version": 3
   },
   "file_extension": ".py",
   "mimetype": "text/x-python",
   "name": "python",
   "nbconvert_exporter": "python",
   "pygments_lexer": "ipython3",
   "version": "3.10.12"
  }
 },
 "nbformat": 4,
 "nbformat_minor": 5
}
