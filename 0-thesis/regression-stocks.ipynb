{
 "cells": [
  {
   "cell_type": "code",
   "execution_count": 1,
   "id": "cde8ac56",
   "metadata": {},
   "outputs": [],
   "source": [
    "import pandas as pd\n",
    "import numpy as np\n",
    "import statsmodels.api as sm\n",
    "import matplotlib.pyplot as plt"
   ]
  },
  {
   "cell_type": "code",
   "execution_count": 2,
   "id": "5ae279b1",
   "metadata": {},
   "outputs": [
    {
     "data": {
      "text/html": [
       "<div>\n",
       "<style scoped>\n",
       "    .dataframe tbody tr th:only-of-type {\n",
       "        vertical-align: middle;\n",
       "    }\n",
       "\n",
       "    .dataframe tbody tr th {\n",
       "        vertical-align: top;\n",
       "    }\n",
       "\n",
       "    .dataframe thead th {\n",
       "        text-align: right;\n",
       "    }\n",
       "</style>\n",
       "<table border=\"1\" class=\"dataframe\">\n",
       "  <thead>\n",
       "    <tr style=\"text-align: right;\">\n",
       "      <th></th>\n",
       "      <th>Datadate</th>\n",
       "      <th>MktRf</th>\n",
       "      <th>Smb</th>\n",
       "      <th>Hml</th>\n",
       "      <th>Rmw</th>\n",
       "      <th>Cma</th>\n",
       "      <th>Rf</th>\n",
       "      <th>Rm</th>\n",
       "      <th>AbsoluteRm</th>\n",
       "      <th>SquaredRm</th>\n",
       "      <th>Csad</th>\n",
       "      <th>LeftTail</th>\n",
       "      <th>RightTail</th>\n",
       "    </tr>\n",
       "  </thead>\n",
       "  <tbody>\n",
       "    <tr>\n",
       "      <th>1</th>\n",
       "      <td>2002-01-03</td>\n",
       "      <td>0.99</td>\n",
       "      <td>0.77</td>\n",
       "      <td>-0.40</td>\n",
       "      <td>-0.30</td>\n",
       "      <td>-0.80</td>\n",
       "      <td>0.007</td>\n",
       "      <td>0.997</td>\n",
       "      <td>0.997</td>\n",
       "      <td>0.994009</td>\n",
       "      <td>0.004671</td>\n",
       "      <td>0</td>\n",
       "      <td>0</td>\n",
       "    </tr>\n",
       "    <tr>\n",
       "      <th>2</th>\n",
       "      <td>2002-01-04</td>\n",
       "      <td>0.70</td>\n",
       "      <td>0.20</td>\n",
       "      <td>0.39</td>\n",
       "      <td>-0.08</td>\n",
       "      <td>-0.23</td>\n",
       "      <td>0.007</td>\n",
       "      <td>0.707</td>\n",
       "      <td>0.707</td>\n",
       "      <td>0.499849</td>\n",
       "      <td>0.001662</td>\n",
       "      <td>0</td>\n",
       "      <td>0</td>\n",
       "    </tr>\n",
       "    <tr>\n",
       "      <th>3</th>\n",
       "      <td>2002-01-07</td>\n",
       "      <td>-0.70</td>\n",
       "      <td>-0.24</td>\n",
       "      <td>0.85</td>\n",
       "      <td>-0.07</td>\n",
       "      <td>0.16</td>\n",
       "      <td>0.007</td>\n",
       "      <td>-0.693</td>\n",
       "      <td>0.693</td>\n",
       "      <td>0.480249</td>\n",
       "      <td>0.001818</td>\n",
       "      <td>0</td>\n",
       "      <td>0</td>\n",
       "    </tr>\n",
       "    <tr>\n",
       "      <th>4</th>\n",
       "      <td>2002-01-08</td>\n",
       "      <td>-0.23</td>\n",
       "      <td>1.21</td>\n",
       "      <td>0.29</td>\n",
       "      <td>-0.21</td>\n",
       "      <td>-0.01</td>\n",
       "      <td>0.007</td>\n",
       "      <td>-0.223</td>\n",
       "      <td>0.223</td>\n",
       "      <td>0.049729</td>\n",
       "      <td>0.000661</td>\n",
       "      <td>0</td>\n",
       "      <td>0</td>\n",
       "    </tr>\n",
       "    <tr>\n",
       "      <th>5</th>\n",
       "      <td>2002-01-09</td>\n",
       "      <td>-0.45</td>\n",
       "      <td>0.08</td>\n",
       "      <td>-0.11</td>\n",
       "      <td>0.22</td>\n",
       "      <td>0.07</td>\n",
       "      <td>0.007</td>\n",
       "      <td>-0.443</td>\n",
       "      <td>0.443</td>\n",
       "      <td>0.196249</td>\n",
       "      <td>0.000602</td>\n",
       "      <td>0</td>\n",
       "      <td>0</td>\n",
       "    </tr>\n",
       "  </tbody>\n",
       "</table>\n",
       "</div>"
      ],
      "text/plain": [
       "     Datadate  MktRf   Smb   Hml   Rmw   Cma     Rf     Rm  AbsoluteRm  \\\n",
       "1  2002-01-03   0.99  0.77 -0.40 -0.30 -0.80  0.007  0.997       0.997   \n",
       "2  2002-01-04   0.70  0.20  0.39 -0.08 -0.23  0.007  0.707       0.707   \n",
       "3  2002-01-07  -0.70 -0.24  0.85 -0.07  0.16  0.007 -0.693       0.693   \n",
       "4  2002-01-08  -0.23  1.21  0.29 -0.21 -0.01  0.007 -0.223       0.223   \n",
       "5  2002-01-09  -0.45  0.08 -0.11  0.22  0.07  0.007 -0.443       0.443   \n",
       "\n",
       "   SquaredRm      Csad  LeftTail  RightTail  \n",
       "1   0.994009  0.004671         0          0  \n",
       "2   0.499849  0.001662         0          0  \n",
       "3   0.480249  0.001818         0          0  \n",
       "4   0.049729  0.000661         0          0  \n",
       "5   0.196249  0.000602         0          0  "
      ]
     },
     "execution_count": 2,
     "metadata": {},
     "output_type": "execute_result"
    }
   ],
   "source": [
    "np.seterr(divide = 'ignore')\n",
    "\n",
    "df = pd.read_csv('data/output/stocks/herding_stockMarket_2002-2022.csv')\n",
    "df = df.dropna()\n",
    "df.head()"
   ]
  },
  {
   "cell_type": "code",
   "execution_count": 3,
   "id": "d6df4881",
   "metadata": {},
   "outputs": [],
   "source": [
    "# period splitting\n",
    "# df = df[(df['Datadate'] >= '2004-01-01') & (df['Datadate'] < '2008-01-01')]"
   ]
  },
  {
   "cell_type": "markdown",
   "id": "88ec72c3",
   "metadata": {},
   "source": [
    "## Model 1"
   ]
  },
  {
   "cell_type": "code",
   "execution_count": 4,
   "id": "42ff48f2",
   "metadata": {},
   "outputs": [
    {
     "name": "stdout",
     "output_type": "stream",
     "text": [
      "                            OLS Regression Results                            \n",
      "==============================================================================\n",
      "Dep. Variable:                   Csad   R-squared:                       0.000\n",
      "Model:                            OLS   Adj. R-squared:                 -0.000\n",
      "Method:                 Least Squares   F-statistic:                    0.7607\n",
      "Date:                Wed, 09 Aug 2023   Prob (F-statistic):              0.516\n",
      "Time:                        16:25:10   Log-Likelihood:                 2410.7\n",
      "No. Observations:                5286   AIC:                            -4813.\n",
      "Df Residuals:                    5282   BIC:                            -4787.\n",
      "Df Model:                           3                                         \n",
      "Covariance Type:            nonrobust                                         \n",
      "==============================================================================\n",
      "                 coef    std err          t      P>|t|      [0.025      0.975]\n",
      "------------------------------------------------------------------------------\n",
      "const          0.0086      0.003      2.597      0.009       0.002       0.015\n",
      "Rm            -0.0001      0.002     -0.064      0.949      -0.003       0.003\n",
      "AbsoluteRm    -0.0003      0.004     -0.077      0.939      -0.008       0.008\n",
      "SquaredRm      0.0006      0.001      0.884      0.377      -0.001       0.002\n",
      "==============================================================================\n",
      "Omnibus:                    17995.418   Durbin-Watson:                   2.001\n",
      "Prob(Omnibus):                  0.000   Jarque-Bera (JB):       3808665190.408\n",
      "Skew:                          61.788   Prob(JB):                         0.00\n",
      "Kurtosis:                    4159.584   Cond. No.                         13.5\n",
      "==============================================================================\n",
      "\n",
      "Notes:\n",
      "[1] Standard Errors assume that the covariance matrix of the errors is correctly specified.\n"
     ]
    }
   ],
   "source": [
    "x1 = df[\n",
    "    ['Rm', 'AbsoluteRm', 'SquaredRm']\n",
    "]\n",
    "y1 = df['Csad']\n",
    "\n",
    "x1 = sm.add_constant(x1)\n",
    "\n",
    "model1 = sm.OLS(y1, x1).fit()\n",
    "\n",
    "print(model1.summary())"
   ]
  },
  {
   "cell_type": "markdown",
   "id": "a5eaf39c",
   "metadata": {},
   "source": [
    "## Model 2"
   ]
  },
  {
   "cell_type": "code",
   "execution_count": 5,
   "id": "ca15ebfd",
   "metadata": {},
   "outputs": [
    {
     "name": "stdout",
     "output_type": "stream",
     "text": [
      "                            OLS Regression Results                            \n",
      "==============================================================================\n",
      "Dep. Variable:                   Csad   R-squared:                       0.001\n",
      "Model:                            OLS   Adj. R-squared:                  0.000\n",
      "Method:                 Least Squares   F-statistic:                     1.113\n",
      "Date:                Wed, 09 Aug 2023   Prob (F-statistic):              0.352\n",
      "Time:                        16:25:10   Log-Likelihood:                 2412.9\n",
      "No. Observations:                5286   AIC:                            -4812.\n",
      "Df Residuals:                    5279   BIC:                            -4766.\n",
      "Df Model:                           6                                         \n",
      "Covariance Type:            nonrobust                                         \n",
      "==============================================================================\n",
      "                 coef    std err          t      P>|t|      [0.025      0.975]\n",
      "------------------------------------------------------------------------------\n",
      "const          0.0051      0.003      1.895      0.058      -0.000       0.010\n",
      "MktRf         -0.0003      0.002     -0.147      0.883      -0.004       0.003\n",
      "Smb           -0.0005      0.004     -0.133      0.894      -0.008       0.007\n",
      "Hml           -0.0003      0.003     -0.087      0.930      -0.007       0.006\n",
      "Rmw         7.444e-05      0.005      0.016      0.988      -0.009       0.009\n",
      "Cma           -0.0035      0.006     -0.538      0.590      -0.016       0.009\n",
      "Rf             0.9012      0.363      2.481      0.013       0.189       1.613\n",
      "==============================================================================\n",
      "Omnibus:                    17982.977   Durbin-Watson:                   2.003\n",
      "Prob(Omnibus):                  0.000   Jarque-Bera (JB):       3789136479.344\n",
      "Skew:                          61.663   Prob(JB):                         0.00\n",
      "Kurtosis:                    4148.912   Cond. No.                         219.\n",
      "==============================================================================\n",
      "\n",
      "Notes:\n",
      "[1] Standard Errors assume that the covariance matrix of the errors is correctly specified.\n"
     ]
    }
   ],
   "source": [
    "x2 = df[\n",
    "    ['MktRf', 'Smb', 'Hml', 'Rmw', 'Cma', 'Rf']\n",
    "]\n",
    "y2 = df['Csad']\n",
    "\n",
    "x2 = sm.add_constant(x2)\n",
    "\n",
    "model2 = sm.OLS(y2, x2).fit()\n",
    "\n",
    "print(model2.summary())"
   ]
  },
  {
   "cell_type": "markdown",
   "id": "2033f7e5",
   "metadata": {},
   "source": [
    "## Model 3"
   ]
  },
  {
   "cell_type": "code",
   "execution_count": 6,
   "id": "a4cec20a",
   "metadata": {},
   "outputs": [],
   "source": [
    "df['Csad_Fund'] = df['Csad'] - np.sqrt(model2.scale)"
   ]
  },
  {
   "cell_type": "code",
   "execution_count": 7,
   "id": "55807c7c",
   "metadata": {},
   "outputs": [
    {
     "name": "stdout",
     "output_type": "stream",
     "text": [
      "                            OLS Regression Results                            \n",
      "==============================================================================\n",
      "Dep. Variable:              Csad_Fund   R-squared:                       0.000\n",
      "Model:                            OLS   Adj. R-squared:                 -0.000\n",
      "Method:                 Least Squares   F-statistic:                    0.7607\n",
      "Date:                Wed, 09 Aug 2023   Prob (F-statistic):              0.516\n",
      "Time:                        16:25:10   Log-Likelihood:                 2410.7\n",
      "No. Observations:                5286   AIC:                            -4813.\n",
      "Df Residuals:                    5282   BIC:                            -4787.\n",
      "Df Model:                           3                                         \n",
      "Covariance Type:            nonrobust                                         \n",
      "==============================================================================\n",
      "                 coef    std err          t      P>|t|      [0.025      0.975]\n",
      "------------------------------------------------------------------------------\n",
      "const         -0.1448      0.003    -43.823      0.000      -0.151      -0.138\n",
      "Rm            -0.0001      0.002     -0.064      0.949      -0.003       0.003\n",
      "AbsoluteRm    -0.0003      0.004     -0.077      0.939      -0.008       0.008\n",
      "SquaredRm      0.0006      0.001      0.884      0.377      -0.001       0.002\n",
      "==============================================================================\n",
      "Omnibus:                    17995.418   Durbin-Watson:                   2.001\n",
      "Prob(Omnibus):                  0.000   Jarque-Bera (JB):       3808665190.408\n",
      "Skew:                          61.788   Prob(JB):                         0.00\n",
      "Kurtosis:                    4159.584   Cond. No.                         13.5\n",
      "==============================================================================\n",
      "\n",
      "Notes:\n",
      "[1] Standard Errors assume that the covariance matrix of the errors is correctly specified.\n"
     ]
    }
   ],
   "source": [
    "x3 = df[\n",
    "    ['Rm', 'AbsoluteRm', 'SquaredRm']\n",
    "]\n",
    "y3 = df['Csad_Fund']\n",
    "\n",
    "x3 = sm.add_constant(x3)\n",
    "\n",
    "model3 = sm.OLS(y3, x3).fit()\n",
    "\n",
    "print(model3.summary())"
   ]
  },
  {
   "cell_type": "markdown",
   "id": "b0fa11d6",
   "metadata": {},
   "source": [
    "## Model 4"
   ]
  },
  {
   "cell_type": "code",
   "execution_count": 8,
   "id": "b6c17ed0",
   "metadata": {},
   "outputs": [],
   "source": [
    "df['CSAD_nonFund'] = np.sqrt(model2.scale)"
   ]
  },
  {
   "cell_type": "code",
   "execution_count": 9,
   "id": "c846fa25",
   "metadata": {},
   "outputs": [
    {
     "name": "stdout",
     "output_type": "stream",
     "text": [
      "                            OLS Regression Results                            \n",
      "==============================================================================\n",
      "Dep. Variable:           CSAD_nonFund   R-squared:                        -inf\n",
      "Model:                            OLS   Adj. R-squared:                   -inf\n",
      "Method:                 Least Squares   F-statistic:                    -1761.\n",
      "Date:                Wed, 09 Aug 2023   Prob (F-statistic):               1.00\n",
      "Time:                        16:25:10   Log-Likelihood:             1.8949e+05\n",
      "No. Observations:                5286   AIC:                        -3.790e+05\n",
      "Df Residuals:                    5282   BIC:                        -3.789e+05\n",
      "Df Model:                           3                                         \n",
      "Covariance Type:            nonrobust                                         \n",
      "==============================================================================\n",
      "                 coef    std err          t      P>|t|      [0.025      0.975]\n",
      "------------------------------------------------------------------------------\n",
      "const          0.1534   1.41e-18   1.09e+17      0.000       0.153       0.153\n",
      "Rm         -1.995e-17   7.23e-19    -27.581      0.000   -2.14e-17   -1.85e-17\n",
      "AbsoluteRm  4.077e-17   1.76e-18     23.117      0.000    3.73e-17    4.42e-17\n",
      "SquaredRm  -1.317e-17   3.07e-19    -42.967      0.000   -1.38e-17   -1.26e-17\n",
      "==============================================================================\n",
      "Omnibus:                     9432.337   Durbin-Watson:                   1.020\n",
      "Prob(Omnibus):                  0.000   Jarque-Bera (JB):         15713806.728\n",
      "Skew:                          12.665   Prob(JB):                         0.00\n",
      "Kurtosis:                     268.902   Cond. No.                         13.5\n",
      "==============================================================================\n",
      "\n",
      "Notes:\n",
      "[1] Standard Errors assume that the covariance matrix of the errors is correctly specified.\n"
     ]
    }
   ],
   "source": [
    "x4 = df[\n",
    "    ['Rm', 'AbsoluteRm', 'SquaredRm']\n",
    "]\n",
    "y4 = df['CSAD_nonFund']\n",
    "\n",
    "x4 = sm.add_constant(x3)\n",
    "\n",
    "model4 = sm.OLS(y4, x4).fit()\n",
    "\n",
    "print(model4.summary())"
   ]
  }
 ],
 "metadata": {
  "kernelspec": {
   "display_name": "Python 3 (ipykernel)",
   "language": "python",
   "name": "python3"
  },
  "language_info": {
   "codemirror_mode": {
    "name": "ipython",
    "version": 3
   },
   "file_extension": ".py",
   "mimetype": "text/x-python",
   "name": "python",
   "nbconvert_exporter": "python",
   "pygments_lexer": "ipython3",
   "version": "3.11.4"
  }
 },
 "nbformat": 4,
 "nbformat_minor": 5
}
