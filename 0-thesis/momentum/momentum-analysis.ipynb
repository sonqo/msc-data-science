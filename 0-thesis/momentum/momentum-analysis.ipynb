{
 "cells": [
  {
   "cell_type": "code",
   "execution_count": 1,
   "id": "5a052f9b",
   "metadata": {},
   "outputs": [],
   "source": [
    "import os\n",
    "import numpy as np\n",
    "import pandas as pd\n",
    "import datetime as dt\n",
    "from scipy import stats\n",
    "import sqlalchemy as db\n",
    "from dotenv import load_dotenv\n",
    "import matplotlib.pyplot as plt\n",
    "from pandas.tseries.offsets import *\n",
    "\n",
    "np.seterr(divide = 'ignore')\n",
    "pd.set_option('display.max_rows', 500)"
   ]
  },
  {
   "cell_type": "code",
   "execution_count": 2,
   "id": "60a1e5e7",
   "metadata": {},
   "outputs": [],
   "source": [
    "load_dotenv()\n",
    "\n",
    "# config and credentials\n",
    "server = os.getenv('server')\n",
    "database = os.getenv('database')\n",
    "username = os.getenv('username')\n",
    "password = os.getenv('password')\n",
    "\n",
    "# connection\n",
    "engine = db.create_engine(\n",
    "    'mssql://{}:{}@{}/{}?driver=ODBC+Driver+18+for+SQL+Server'.format(\n",
    "        username, password, server, database\n",
    "    )\n",
    ")\n",
    "\n",
    "# establish connection\n",
    "connection = engine.connect()"
   ]
  },
  {
   "cell_type": "code",
   "execution_count": 3,
   "id": "6764cb89",
   "metadata": {},
   "outputs": [],
   "source": [
    "def get_sample_particulars(df):\n",
    "    print('Number of observations: {:,}'.format(len(df.index)))\n",
    "    print('Returns: Mean: {:.5f} | Median: {:.5f} | Std returns: {:.5f}'.format(\n",
    "        100 * df['R'].mean(), 100 * df['R'].median(), df['R'].std()))\n",
    "    print('Volume mean: {:.5f}'.format(df['Volume'].mean()))\n",
    "    print('Coupon mean: {:.5f}'.format(df['Coupon'].mean()))"
   ]
  },
  {
   "cell_type": "markdown",
   "id": "5ba6d2bb",
   "metadata": {},
   "source": [
    "### Query Selection"
   ]
  },
  {
   "cell_type": "code",
   "execution_count": 6,
   "id": "872a34b8",
   "metadata": {},
   "outputs": [],
   "source": [
    "query_top = '''\n",
    "    DECLARE @RC int\n",
    "    EXECUTE @RC = [dbo].[Momentum_topBonds] \n",
    "        3, -- # of TopBonds\n",
    "        NULL, -- CreditRisk : IG | HY\n",
    "        NULL -- Ownership : Private | Public\n",
    "'''\n",
    "\n",
    "# read sql\n",
    "df = pd.read_sql_query(query_top, connection)\n",
    "df.to_csv('source/topBonds.csv', index=False)"
   ]
  },
  {
   "cell_type": "code",
   "execution_count": null,
   "id": "9e28e3c3",
   "metadata": {},
   "outputs": [],
   "source": [
    "# read csv\n",
    "df = pd.read_csv(\n",
    "    'data/output/momentum/mom-top3Bonds.csv', \n",
    "    dtype={\n",
    "        'CusipId': 'string',\n",
    "        'TrdExctnDtEOM': 'string',\n",
    "        'Coupon': 'float64',\n",
    "        'RatingClass': 'string',\n",
    "        'MaturityBand': 'string',\n",
    "        'Volume': 'float64',\n",
    "        'R': 'float64'\n",
    "    },\n",
    "    parse_dates=['TrdExctnDtEOM']\n",
    ")\n",
    "\n",
    "df.columns = ['Cusip', 'Date', 'Coupon', 'RatingClass', 'MaturityBand', 'Volume', 'R']"
   ]
  },
  {
   "cell_type": "markdown",
   "id": "baca9eda",
   "metadata": {},
   "source": [
    "### Quantile Filtering and Outlier Visualization"
   ]
  },
  {
   "cell_type": "code",
   "execution_count": null,
   "id": "e77aec74",
   "metadata": {},
   "outputs": [],
   "source": [
    "df['quantiles'] = pd.qcut(df.R, np.linspace(0, 1, 201), labels=np.linspace(0, 1, 200)).astype(float)\n",
    "df['outliers'] = np.where((df['quantiles'] > 0.995) | (df['quantiles'] < 0.005), 1, 0)\n",
    "df['Year'] = df['Date'].dt.year"
   ]
  },
  {
   "cell_type": "code",
   "execution_count": null,
   "id": "4549431a",
   "metadata": {
    "scrolled": false
   },
   "outputs": [],
   "source": [
    "df_g = df.groupby('Year')['outliers'].sum().reset_index()\n",
    "\n",
    "plt.figure(figsize=(12, 5))\n",
    "plt.title('Outliers Distribution')\n",
    "plt.bar(df_g['Year'], df_g['outliers'], width = 0.6)\n",
    "plt.xticks([i for i in range(2002, 2023)], fontsize=8)\n",
    "plt.show()"
   ]
  },
  {
   "cell_type": "code",
   "execution_count": null,
   "id": "a8f46fdf",
   "metadata": {},
   "outputs": [],
   "source": [
    "# filter out outliers\n",
    "df['R'] = np.where(df['outliers'] == 0, df['R'], np.nan)"
   ]
  },
  {
   "cell_type": "markdown",
   "id": "ec23624e",
   "metadata": {},
   "source": [
    "### Exploratory Analysis"
   ]
  },
  {
   "cell_type": "code",
   "execution_count": null,
   "id": "9484ce81",
   "metadata": {},
   "outputs": [],
   "source": [
    "df['Cusip'].nunique()"
   ]
  },
  {
   "cell_type": "code",
   "execution_count": null,
   "id": "91690134",
   "metadata": {},
   "outputs": [],
   "source": [
    "# number of entries\n",
    "df['RatingClass'].value_counts()"
   ]
  },
  {
   "cell_type": "code",
   "execution_count": null,
   "id": "4c391225",
   "metadata": {},
   "outputs": [],
   "source": [
    "# number of distinct Cusips\n",
    "df.groupby('RatingClass').Cusip.nunique()"
   ]
  },
  {
   "cell_type": "code",
   "execution_count": null,
   "id": "253eb4e5",
   "metadata": {},
   "outputs": [],
   "source": [
    "# number of entries\n",
    "df['MaturityBand'].value_counts()"
   ]
  },
  {
   "cell_type": "code",
   "execution_count": null,
   "id": "510b02ca",
   "metadata": {},
   "outputs": [],
   "source": [
    "# number of distinct Cusips\n",
    "df.groupby('MaturityBand').Cusip.nunique()"
   ]
  },
  {
   "cell_type": "code",
   "execution_count": null,
   "id": "f400fc67",
   "metadata": {},
   "outputs": [],
   "source": [
    "get_sample_particulars(df)"
   ]
  },
  {
   "cell_type": "markdown",
   "id": "09eb3055",
   "metadata": {},
   "source": [
    "### Portfolio Analysis"
   ]
  },
  {
   "cell_type": "code",
   "execution_count": null,
   "id": "f5edd7a5",
   "metadata": {},
   "outputs": [],
   "source": [
    "# log returns\n",
    "df['logR'] = np.log(1 + df['R'])"
   ]
  },
  {
   "cell_type": "code",
   "execution_count": null,
   "id": "4fcdb723",
   "metadata": {},
   "outputs": [],
   "source": [
    "J = 2 # formation period\n",
    "\n",
    "df_ = df[\n",
    "    ['Cusip', 'Date', 'R', 'logR']\n",
    "].sort_values(['Cusip', 'Date']).set_index('Date')\n",
    "\n",
    "cumr = df_.groupby(['Cusip'])['logR'].rolling(J, min_periods=J).sum().reset_index()\n",
    "cumr = cumr.rename(columns = {'logR': 'SumLogR'})\n",
    "\n",
    "cumr['CumRet'] = np.exp(cumr['SumLogR'])-1"
   ]
  },
  {
   "cell_type": "code",
   "execution_count": null,
   "id": "df7ced8b",
   "metadata": {},
   "outputs": [],
   "source": [
    "r = 10 # momentum ranking\n",
    "\n",
    "cumr = cumr.dropna(axis=0, subset=['CumRet'])\n",
    "\n",
    "cumr['MomR'] = cumr.groupby('Date')['CumRet'].transform(lambda x: pd.qcut(x, r, labels=False, duplicates='drop'))\n",
    "cumr['MomR'] = 1 + cumr['MomR'].astype(int)"
   ]
  },
  {
   "cell_type": "code",
   "execution_count": null,
   "id": "33a68ede",
   "metadata": {},
   "outputs": [],
   "source": [
    "cumr.groupby('MomR')['CumRet'].mean()"
   ]
  },
  {
   "cell_type": "code",
   "execution_count": null,
   "id": "2eeee8db",
   "metadata": {},
   "outputs": [],
   "source": [
    "K = 5 # Holding Period Length: K can be between 3 to 12 months\n",
    "\n",
    "cumr['form_date'] = cumr['Date']\n",
    "cumr['medate'] = cumr['Date'] + MonthEnd(0)\n",
    "cumr['hdate1'] = cumr['medate'] + MonthBegin(1)\n",
    "cumr['hdate2'] = cumr['medate'] + MonthEnd(K)\n",
    "cumr = cumr[['Cusip', 'form_date','MomR','hdate1','hdate2']]\n",
    "\n",
    "port = pd.merge(df[['Cusip', 'Date', 'R']], cumr, on=['Cusip'], how='inner')\n",
    "port = port[(port['hdate1'] <= port['Date']) & (port['Date'] <= port['hdate2'])]\n",
    "port = port[['Cusip','form_date', 'MomR', 'hdate1','hdate2', 'Date', 'R']]\n",
    "port['Date'] = pd.to_datetime(port['Date'])"
   ]
  },
  {
   "cell_type": "code",
   "execution_count": null,
   "id": "191008cc",
   "metadata": {},
   "outputs": [],
   "source": [
    "cumr_port = port.groupby(['Date','MomR', 'form_date'])['R'].mean().reset_index()\n",
    "\n",
    "start_yr = cumr_port['Date'].dt.year.min() + 2\n",
    "cumr_port = cumr_port.loc[cumr_port.Date.dt.year >= start_yr]\n",
    "cumr_port = cumr_port.sort_values(by=['Date','MomR'])\n",
    "\n",
    "ewret = cumr_port.groupby(['Date','MomR'])['R'].mean().reset_index()\n",
    "ewstd = cumr_port.groupby(['Date','MomR'])['R'].std().reset_index()\n",
    "\n",
    "ewret = ewret.rename(columns={'R':'ewret'})\n",
    "ewstd = ewstd.rename(columns={'R':'ewretstd'})\n",
    "\n",
    "ewretdf = pd.merge(ewret, ewstd, on=['Date','MomR'], how='inner')\n",
    "ewretdf = ewretdf.sort_values(by=['MomR', 'Date'])"
   ]
  },
  {
   "cell_type": "code",
   "execution_count": null,
   "id": "a025a20a",
   "metadata": {},
   "outputs": [],
   "source": [
    "ewretdf.groupby(['MomR'])['ewret'].describe()[['count','mean', 'std']].reset_index()"
   ]
  },
  {
   "cell_type": "code",
   "execution_count": null,
   "id": "0d041aed",
   "metadata": {},
   "outputs": [],
   "source": [
    "ewret_t = ewretdf.pivot(index='Date', columns='MomR', values='ewret') \n",
    "\n",
    "# Add prefix port in front of each column \n",
    "ewret_t = ewret_t.add_prefix('port') \n",
    "ewret_t = ewret_t.rename(columns={'port1':'losers', 'port10':'winners'}) \n",
    "ewret_t['long_short'] = ewret_t.winners - ewret_t.losers\n",
    "ewret_t.head()"
   ]
  },
  {
   "cell_type": "code",
   "execution_count": null,
   "id": "982f2fa7",
   "metadata": {},
   "outputs": [],
   "source": [
    "ewret_t['cumret_winners'] = (1 + ewret_t.winners).cumprod() - 1 \n",
    "ewret_t['cumret_losers'] = (1 + ewret_t.losers).cumprod() - 1\n",
    "ewret_t['cumret_long_short'] = (1 + ewret_t.long_short).cumprod() - 1\n",
    "\n",
    "mom_mean = ewret_t[['winners', 'losers', 'long_short']].mean().to_frame()\n",
    "mom_mean = mom_mean.rename(columns={0:'mean'}).reset_index()\n",
    "mom_mean"
   ]
  },
  {
   "cell_type": "code",
   "execution_count": null,
   "id": "2b4a08fd",
   "metadata": {},
   "outputs": [],
   "source": [
    "t_losers = pd.Series(stats.ttest_1samp(ewret_t['losers'], 0.0, nan_policy='omit')).to_frame().T \n",
    "t_winners = pd.Series(stats.ttest_1samp(ewret_t['winners'], 0.0, nan_policy='omit')).to_frame().T \n",
    "t_long_short = pd.Series(stats.ttest_1samp(ewret_t['long_short'], 0.0, nan_policy='omit')).to_frame().T\n",
    "\n",
    "t_losers['MomR'] = 'losers'\n",
    "t_winners['MomR'] = 'winners'\n",
    "t_long_short['MomR'] = 'long_short'"
   ]
  },
  {
   "cell_type": "code",
   "execution_count": null,
   "id": "48920137",
   "metadata": {},
   "outputs": [],
   "source": [
    "t_output = pd.concat([t_winners, t_losers, t_long_short]).rename(columns={0:'t-stat', 1:'p-value'}) \n",
    "\n",
    "# Combine mean, t and p and format output \n",
    "mom_output = pd.merge(mom_mean, t_output, on=['MomR'], how='inner')\n",
    "\n",
    "mom_output['mean'] = mom_output['mean'].map('{:.2%}'.format) \n",
    "mom_output['t-stat'] = mom_output['t-stat'].map('{:.2f}'.format) \n",
    "mom_output['p-value'] = mom_output['p-value'].map('{:.2f}'.format) \n",
    "\n",
    "print('Momentum Strategy Summary:\\n\\n', mom_output)"
   ]
  },
  {
   "cell_type": "code",
   "execution_count": null,
   "id": "92fe6de4",
   "metadata": {},
   "outputs": [],
   "source": [
    "plt.figure(figsize=(12,9)) \n",
    "plt.suptitle('Momentum Strategy', fontsize=20) \n",
    "\n",
    "ax1 = plt.subplot(211) \n",
    "ax1.set_title('Long/Short Momentum Strategy', fontsize=15) \n",
    "ax1.plot(ewret_t['cumret_long_short']) \n",
    "\n",
    "ax2 = plt.subplot(212) \n",
    "ax2.set_title('Cumulative Momentum Portfolios', fontsize=15) \n",
    "ax2.plot(ewret_t['cumret_winners'], 'b-', ewret_t['cumret_losers'], 'r--') \n",
    "ax2.legend(('Winners','Losers'), loc='upper left', shadow=True)\n",
    "\n",
    "plt.subplots_adjust(top=0.92, hspace=0.2)"
   ]
  }
 ],
 "metadata": {
  "kernelspec": {
   "display_name": "Python 3 (ipykernel)",
   "language": "python",
   "name": "python3"
  },
  "language_info": {
   "codemirror_mode": {
    "name": "ipython",
    "version": 3
   },
   "file_extension": ".py",
   "mimetype": "text/x-python",
   "name": "python",
   "nbconvert_exporter": "python",
   "pygments_lexer": "ipython3",
   "version": "3.11.4"
  }
 },
 "nbformat": 4,
 "nbformat_minor": 5
}
