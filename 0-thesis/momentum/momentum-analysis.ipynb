{
 "cells": [
  {
   "cell_type": "code",
   "execution_count": 305,
   "id": "5a052f9b",
   "metadata": {},
   "outputs": [],
   "source": [
    "import numpy as np\n",
    "import pandas as pd\n",
    "from scipy import stats\n",
    "import matplotlib.pyplot as plt\n",
    "from pandas.tseries.offsets import *"
   ]
  },
  {
   "cell_type": "markdown",
   "id": "7abfc820",
   "metadata": {},
   "source": [
    "### Data Preprocessing"
   ]
  },
  {
   "cell_type": "code",
   "execution_count": 306,
   "id": "872a34b8",
   "metadata": {},
   "outputs": [],
   "source": [
    "directory = 'source/topBonds.csv'\n",
    "\n",
    "# read sql\n",
    "df = pd.read_csv(directory, parse_dates=['TrdExctnDtEOM'])\n",
    "\n",
    "# select columns\n",
    "df = df[['CusipId', 'TrdExctnDtEOM', 'TD_Volume', 'Coupon', 'RatingClass', 'MaturityBand', 'R']]\n",
    "\n",
    "# rename columns\n",
    "df.columns = ['Cusip', 'Date', 'Volume', 'Coupon', 'RatingClass', 'MaturityBand', 'R']\n",
    "\n",
    "# sort values to CusipId-Date\n",
    "df = df.sort_values(by=['Cusip', 'Date'])"
   ]
  },
  {
   "cell_type": "markdown",
   "id": "baca9eda",
   "metadata": {},
   "source": [
    "### Quantile Filtering and Outlier Visualization"
   ]
  },
  {
   "cell_type": "code",
   "execution_count": 307,
   "id": "e77aec74",
   "metadata": {},
   "outputs": [
    {
     "data": {
      "image/png": "[encoded data removed]",
      "text/plain": [
       "<Figure size 1200x500 with 1 Axes>"
      ]
     },
     "metadata": {},
     "output_type": "display_data"
    }
   ],
   "source": [
    "# identify values > 99.5th and < 0.05th percentiles\n",
    "df['quantiles'] = pd.qcut(df.R, np.linspace(0, 1, 201), labels=np.linspace(0, 1, 200)).astype(float)\n",
    "\n",
    "# mark them as outliers\n",
    "df['outliers'] = np.where((df['quantiles'] > 0.995) | (df['quantiles'] < 0.005), 1, 0)\n",
    "\n",
    "# visualize outliers per year\n",
    "df['Year'] = df['Date'].dt.year\n",
    "df_g = df.groupby('Year')['outliers'].sum().reset_index()\n",
    "plt.figure(figsize=(12, 5))\n",
    "plt.title('Outliers Distribution')\n",
    "plt.bar(df_g['Year'], df_g['outliers'], width = 0.6)\n",
    "plt.xticks([i for i in range(2002, 2023)], fontsize=8)\n",
    "plt.show()"
   ]
  },
  {
   "cell_type": "code",
   "execution_count": 308,
   "id": "a8f46fdf",
   "metadata": {},
   "outputs": [],
   "source": [
    "# this filter requires for the bond to be present in the full duration of the formation period\n",
    "df['R'] = np.where(df['outliers'] == 0, df['R'], np.nan)"
   ]
  },
  {
   "cell_type": "markdown",
   "id": "ec23624e",
   "metadata": {},
   "source": [
    "### Exploratory Analysis"
   ]
  },
  {
   "cell_type": "code",
   "execution_count": 309,
   "id": "9484ce81",
   "metadata": {},
   "outputs": [
    {
     "data": {
      "text/plain": [
       "18673"
      ]
     },
     "execution_count": 309,
     "metadata": {},
     "output_type": "execute_result"
    }
   ],
   "source": [
    "df['Cusip'].nunique()"
   ]
  },
  {
   "cell_type": "code",
   "execution_count": 310,
   "id": "91690134",
   "metadata": {},
   "outputs": [
    {
     "data": {
      "text/plain": [
       "IG    251441\n",
       "HY    105727\n",
       "Name: RatingClass, dtype: int64"
      ]
     },
     "execution_count": 310,
     "metadata": {},
     "output_type": "execute_result"
    }
   ],
   "source": [
    "# number of entries\n",
    "df['RatingClass'].value_counts()"
   ]
  },
  {
   "cell_type": "code",
   "execution_count": 311,
   "id": "4c391225",
   "metadata": {},
   "outputs": [
    {
     "data": {
      "text/plain": [
       "RatingClass\n",
       "HY     4797\n",
       "IG    15566\n",
       "Name: Cusip, dtype: int64"
      ]
     },
     "execution_count": 311,
     "metadata": {},
     "output_type": "execute_result"
    }
   ],
   "source": [
    "# number of distinct Cusips\n",
    "df.groupby('RatingClass').Cusip.nunique()"
   ]
  },
  {
   "cell_type": "code",
   "execution_count": 312,
   "id": "253eb4e5",
   "metadata": {},
   "outputs": [
    {
     "data": {
      "text/plain": [
       "2.0    271390\n",
       "3.0     72007\n",
       "1.0     13653\n",
       "Name: MaturityBand, dtype: int64"
      ]
     },
     "execution_count": 312,
     "metadata": {},
     "output_type": "execute_result"
    }
   ],
   "source": [
    "# number of entries\n",
    "df['MaturityBand'].value_counts()"
   ]
  },
  {
   "cell_type": "code",
   "execution_count": 313,
   "id": "510b02ca",
   "metadata": {},
   "outputs": [
    {
     "data": {
      "text/plain": [
       "MaturityBand\n",
       "1.0     1604\n",
       "2.0    13555\n",
       "3.0     3500\n",
       "Name: Cusip, dtype: int64"
      ]
     },
     "execution_count": 313,
     "metadata": {},
     "output_type": "execute_result"
    }
   ],
   "source": [
    "# number of distinct Cusips\n",
    "df.groupby('MaturityBand').Cusip.nunique()"
   ]
  },
  {
   "cell_type": "code",
   "execution_count": 314,
   "id": "f400fc67",
   "metadata": {},
   "outputs": [
    {
     "name": "stdout",
     "output_type": "stream",
     "text": [
      "Number of observations: 1,050,018\n",
      "Returns: Mean: 0.48082 | Median: 0.34490 | Std returns: 0.03159\n",
      "Volume Mean: 693015699.39151\n",
      "Coupon Mean: 5.46051\n"
     ]
    }
   ],
   "source": [
    "print('Number of observations: {:,}'.format(len(df.index)))\n",
    "print('Returns: Mean: {:.5f} | Median: {:.5f} | Std returns: {:.5f}'.format(\n",
    "    100 * df['R'].mean(), 100 * df['R'].median(), df['R'].std()))\n",
    "print('Volume Mean: {:.5f}'.format(df['Volume'].mean()))\n",
    "print('Coupon Mean: {:.5f}'.format(df['Coupon'].mean()))"
   ]
  },
  {
   "cell_type": "markdown",
   "id": "09eb3055",
   "metadata": {},
   "source": [
    "### Portfolio Analysis"
   ]
  },
  {
   "cell_type": "code",
   "execution_count": 315,
   "id": "4fcdb723",
   "metadata": {},
   "outputs": [
    {
     "data": {
      "text/plain": [
       "MomentumRanking\n",
       "1    -0.046554\n",
       "2    -0.016112\n",
       "3    -0.006935\n",
       "4    -0.000624\n",
       "5     0.005020\n",
       "6     0.010725\n",
       "7     0.016955\n",
       "8     0.024808\n",
       "9     0.037029\n",
       "10    0.076554\n",
       "Name: CumReturns, dtype: float64"
      ]
     },
     "execution_count": 315,
     "metadata": {},
     "output_type": "execute_result"
    }
   ],
   "source": [
    "# log returns\n",
    "df['LogR'] = np.log(1 + df['R'])\n",
    "\n",
    "# formation period in months\n",
    "J = 2\n",
    "\n",
    "# sort on Cusip, Date\n",
    "df_ = df[['Cusip', 'Date', 'R', 'LogR']].sort_values(['Cusip', 'Date']).set_index('Date')\n",
    "\n",
    "# cumulative sum of returns given the formation period\n",
    "cumulative_r = df_.groupby(['Cusip'])['LogR'].rolling(J, min_periods=J).sum().reset_index()\n",
    "cumulative_r = cumulative_r.rename(columns = {'LogR': 'SumLogR'})\n",
    "cumulative_r['CumReturns'] = np.exp(cumulative_r['SumLogR'])-1\n",
    "\n",
    "# momentum ranking\n",
    "r = 10 \n",
    "cumulative_r = cumulative_r.dropna(axis=0, subset=['CumReturns'])\n",
    "cumulative_r['MomentumRanking'] = cumulative_r.groupby('Date')['CumReturns'].transform(lambda x: pd.qcut(x, r, labels=False))\n",
    "cumulative_r['MomentumRanking'] = 1 + cumulative_r['MomentumRanking'].astype(int)\n",
    "\n",
    "# mean of cumulative returns for the momentum ranking\n",
    "cumulative_r.groupby('MomentumRanking')['CumReturns'].mean()"
   ]
  },
  {
   "cell_type": "code",
   "execution_count": 316,
   "id": "2eeee8db",
   "metadata": {},
   "outputs": [
    {
     "data": {
      "text/html": [
       "<div>\n",
       "<style scoped>\n",
       "    .dataframe tbody tr th:only-of-type {\n",
       "        vertical-align: middle;\n",
       "    }\n",
       "\n",
       "    .dataframe tbody tr th {\n",
       "        vertical-align: top;\n",
       "    }\n",
       "\n",
       "    .dataframe thead th {\n",
       "        text-align: right;\n",
       "    }\n",
       "</style>\n",
       "<table border=\"1\" class=\"dataframe\">\n",
       "  <thead>\n",
       "    <tr style=\"text-align: right;\">\n",
       "      <th></th>\n",
       "      <th>MomentumRanking</th>\n",
       "      <th>count</th>\n",
       "      <th>mean</th>\n",
       "      <th>std</th>\n",
       "    </tr>\n",
       "  </thead>\n",
       "  <tbody>\n",
       "    <tr>\n",
       "      <th>0</th>\n",
       "      <td>1</td>\n",
       "      <td>225.0</td>\n",
       "      <td>0.005273</td>\n",
       "      <td>0.029321</td>\n",
       "    </tr>\n",
       "    <tr>\n",
       "      <th>1</th>\n",
       "      <td>2</td>\n",
       "      <td>225.0</td>\n",
       "      <td>0.004224</td>\n",
       "      <td>0.020623</td>\n",
       "    </tr>\n",
       "    <tr>\n",
       "      <th>2</th>\n",
       "      <td>3</td>\n",
       "      <td>225.0</td>\n",
       "      <td>0.004071</td>\n",
       "      <td>0.019234</td>\n",
       "    </tr>\n",
       "    <tr>\n",
       "      <th>3</th>\n",
       "      <td>4</td>\n",
       "      <td>225.0</td>\n",
       "      <td>0.004119</td>\n",
       "      <td>0.016688</td>\n",
       "    </tr>\n",
       "    <tr>\n",
       "      <th>4</th>\n",
       "      <td>5</td>\n",
       "      <td>225.0</td>\n",
       "      <td>0.003971</td>\n",
       "      <td>0.016990</td>\n",
       "    </tr>\n",
       "    <tr>\n",
       "      <th>5</th>\n",
       "      <td>6</td>\n",
       "      <td>225.0</td>\n",
       "      <td>0.004071</td>\n",
       "      <td>0.016513</td>\n",
       "    </tr>\n",
       "    <tr>\n",
       "      <th>6</th>\n",
       "      <td>7</td>\n",
       "      <td>225.0</td>\n",
       "      <td>0.004167</td>\n",
       "      <td>0.016189</td>\n",
       "    </tr>\n",
       "    <tr>\n",
       "      <th>7</th>\n",
       "      <td>8</td>\n",
       "      <td>225.0</td>\n",
       "      <td>0.004424</td>\n",
       "      <td>0.016841</td>\n",
       "    </tr>\n",
       "    <tr>\n",
       "      <th>8</th>\n",
       "      <td>9</td>\n",
       "      <td>225.0</td>\n",
       "      <td>0.004520</td>\n",
       "      <td>0.018069</td>\n",
       "    </tr>\n",
       "    <tr>\n",
       "      <th>9</th>\n",
       "      <td>10</td>\n",
       "      <td>225.0</td>\n",
       "      <td>0.007695</td>\n",
       "      <td>0.022995</td>\n",
       "    </tr>\n",
       "  </tbody>\n",
       "</table>\n",
       "</div>"
      ],
      "text/plain": [
       "   MomentumRanking  count      mean       std\n",
       "0                1  225.0  0.005273  0.029321\n",
       "1                2  225.0  0.004224  0.020623\n",
       "2                3  225.0  0.004071  0.019234\n",
       "3                4  225.0  0.004119  0.016688\n",
       "4                5  225.0  0.003971  0.016990\n",
       "5                6  225.0  0.004071  0.016513\n",
       "6                7  225.0  0.004167  0.016189\n",
       "7                8  225.0  0.004424  0.016841\n",
       "8                9  225.0  0.004520  0.018069\n",
       "9               10  225.0  0.007695  0.022995"
      ]
     },
     "execution_count": 316,
     "metadata": {},
     "output_type": "execute_result"
    }
   ],
   "source": [
    "# holding period in months\n",
    "K = 3\n",
    "cumulative_r['FormationDate'] = cumulative_r['Date']\n",
    "\n",
    "# holding period date ranges\n",
    "cumulative_r['HoldingDate1'], cumulative_r['HoldingDate2'] = cumulative_r['Date'] + MonthBegin(1), cumulative_r['Date'] + MonthEnd(K)\n",
    "cumulative_r = cumulative_r[['Cusip', 'FormationDate', 'MomentumRanking', 'HoldingDate1', 'HoldingDate2']]\n",
    "\n",
    "# join momentum ranking and returns\n",
    "portfolios = pd.merge(df[['Cusip', 'Date', 'R']], cumulative_r, on=['Cusip'], how='inner')\n",
    "portfolios = portfolios[(portfolios['HoldingDate1'] <= portfolios['Date']) & (portfolios['Date'] <= portfolios['HoldingDate2'])]\n",
    "portfolios = portfolios[['Cusip', 'FormationDate', 'MomentumRanking', 'HoldingDate1', 'HoldingDate2', 'Date', 'R']]\n",
    "\n",
    "agg_portfolios = portfolios.groupby(['Date', 'MomentumRanking', 'FormationDate'])['R'].mean().reset_index()\n",
    "\n",
    "# skip first two years\n",
    "agg_portfolios = agg_portfolios.loc[agg_portfolios.Date.dt.year >= agg_portfolios['Date'].dt.year.min() + 2]\n",
    "agg_portfolios = agg_portfolios.sort_values(by=['Date', 'MomentumRanking'])\n",
    "\n",
    "# calculate mean and std on returns\n",
    "eq_weighted_return = agg_portfolios.groupby(['Date', 'MomentumRanking'])['R'].mean().reset_index()\n",
    "eq_weighted_std = agg_portfolios.groupby(['Date', 'MomentumRanking'])['R'].std().reset_index()\n",
    "\n",
    "# rename columns\n",
    "eq_weighted_return = eq_weighted_return.rename(columns={'R': 'EqualWeightedReturn'})\n",
    "eq_weighted_std = eq_weighted_std.rename(columns={'R': 'EqualWeightedStd'})\n",
    "\n",
    "# unify equal weighted return metrics\n",
    "eq_weighted_return_df = pd.merge(eq_weighted_return, eq_weighted_std, on=['Date', 'MomentumRanking'], how='inner')\n",
    "eq_weighted_return_df = eq_weighted_return_df.sort_values(by=['MomentumRanking', 'Date'])\n",
    "\n",
    "# portfolio summary\n",
    "eq_weighted_return_df.groupby(['MomentumRanking'])['EqualWeightedReturn'].describe()[['count','mean', 'std']].reset_index()"
   ]
  },
  {
   "cell_type": "code",
   "execution_count": 317,
   "id": "0d041aed",
   "metadata": {},
   "outputs": [
    {
     "data": {
      "text/html": [
       "<div>\n",
       "<style scoped>\n",
       "    .dataframe tbody tr th:only-of-type {\n",
       "        vertical-align: middle;\n",
       "    }\n",
       "\n",
       "    .dataframe tbody tr th {\n",
       "        vertical-align: top;\n",
       "    }\n",
       "\n",
       "    .dataframe thead th {\n",
       "        text-align: right;\n",
       "    }\n",
       "</style>\n",
       "<table border=\"1\" class=\"dataframe\">\n",
       "  <thead>\n",
       "    <tr style=\"text-align: right;\">\n",
       "      <th>MomentumRanking</th>\n",
       "      <th>Losers</th>\n",
       "      <th>Portfolio-2</th>\n",
       "      <th>Portfolio-3</th>\n",
       "      <th>Portfolio-4</th>\n",
       "      <th>Portfolio-5</th>\n",
       "      <th>Portfolio-6</th>\n",
       "      <th>Portfolio-7</th>\n",
       "      <th>Portfolio-8</th>\n",
       "      <th>Portfolio-9</th>\n",
       "      <th>Winners</th>\n",
       "      <th>LongShort</th>\n",
       "    </tr>\n",
       "    <tr>\n",
       "      <th>Date</th>\n",
       "      <th></th>\n",
       "      <th></th>\n",
       "      <th></th>\n",
       "      <th></th>\n",
       "      <th></th>\n",
       "      <th></th>\n",
       "      <th></th>\n",
       "      <th></th>\n",
       "      <th></th>\n",
       "      <th></th>\n",
       "      <th></th>\n",
       "    </tr>\n",
       "  </thead>\n",
       "  <tbody>\n",
       "    <tr>\n",
       "      <th>2004-01-31</th>\n",
       "      <td>0.014976</td>\n",
       "      <td>0.008388</td>\n",
       "      <td>0.007582</td>\n",
       "      <td>0.013135</td>\n",
       "      <td>0.004069</td>\n",
       "      <td>0.010897</td>\n",
       "      <td>0.006526</td>\n",
       "      <td>0.010976</td>\n",
       "      <td>0.006844</td>\n",
       "      <td>0.011510</td>\n",
       "      <td>-0.003466</td>\n",
       "    </tr>\n",
       "    <tr>\n",
       "      <th>2004-02-29</th>\n",
       "      <td>0.024077</td>\n",
       "      <td>0.013626</td>\n",
       "      <td>0.012079</td>\n",
       "      <td>0.010938</td>\n",
       "      <td>0.013779</td>\n",
       "      <td>0.014118</td>\n",
       "      <td>0.010568</td>\n",
       "      <td>0.004414</td>\n",
       "      <td>-0.005978</td>\n",
       "      <td>-0.013216</td>\n",
       "      <td>-0.037292</td>\n",
       "    </tr>\n",
       "    <tr>\n",
       "      <th>2004-03-31</th>\n",
       "      <td>0.012911</td>\n",
       "      <td>0.011159</td>\n",
       "      <td>0.002144</td>\n",
       "      <td>0.006219</td>\n",
       "      <td>0.009483</td>\n",
       "      <td>0.012485</td>\n",
       "      <td>0.012114</td>\n",
       "      <td>0.001111</td>\n",
       "      <td>0.004987</td>\n",
       "      <td>0.011320</td>\n",
       "      <td>-0.001591</td>\n",
       "    </tr>\n",
       "    <tr>\n",
       "      <th>2004-04-30</th>\n",
       "      <td>0.002006</td>\n",
       "      <td>-0.008606</td>\n",
       "      <td>-0.006681</td>\n",
       "      <td>-0.025584</td>\n",
       "      <td>-0.026751</td>\n",
       "      <td>-0.029546</td>\n",
       "      <td>-0.034030</td>\n",
       "      <td>-0.026930</td>\n",
       "      <td>-0.026932</td>\n",
       "      <td>-0.008073</td>\n",
       "      <td>-0.010079</td>\n",
       "    </tr>\n",
       "    <tr>\n",
       "      <th>2004-05-31</th>\n",
       "      <td>-0.003648</td>\n",
       "      <td>-0.022945</td>\n",
       "      <td>-0.007884</td>\n",
       "      <td>-0.009534</td>\n",
       "      <td>-0.008585</td>\n",
       "      <td>-0.007664</td>\n",
       "      <td>-0.005776</td>\n",
       "      <td>-0.012149</td>\n",
       "      <td>-0.010096</td>\n",
       "      <td>-0.003162</td>\n",
       "      <td>0.000486</td>\n",
       "    </tr>\n",
       "  </tbody>\n",
       "</table>\n",
       "</div>"
      ],
      "text/plain": [
       "MomentumRanking    Losers  Portfolio-2  Portfolio-3  Portfolio-4  Portfolio-5  \\\n",
       "Date                                                                            \n",
       "2004-01-31       0.014976     0.008388     0.007582     0.013135     0.004069   \n",
       "2004-02-29       0.024077     0.013626     0.012079     0.010938     0.013779   \n",
       "2004-03-31       0.012911     0.011159     0.002144     0.006219     0.009483   \n",
       "2004-04-30       0.002006    -0.008606    -0.006681    -0.025584    -0.026751   \n",
       "2004-05-31      -0.003648    -0.022945    -0.007884    -0.009534    -0.008585   \n",
       "\n",
       "MomentumRanking  Portfolio-6  Portfolio-7  Portfolio-8  Portfolio-9   Winners  \\\n",
       "Date                                                                            \n",
       "2004-01-31          0.010897     0.006526     0.010976     0.006844  0.011510   \n",
       "2004-02-29          0.014118     0.010568     0.004414    -0.005978 -0.013216   \n",
       "2004-03-31          0.012485     0.012114     0.001111     0.004987  0.011320   \n",
       "2004-04-30         -0.029546    -0.034030    -0.026930    -0.026932 -0.008073   \n",
       "2004-05-31         -0.007664    -0.005776    -0.012149    -0.010096 -0.003162   \n",
       "\n",
       "MomentumRanking  LongShort  \n",
       "Date                        \n",
       "2004-01-31       -0.003466  \n",
       "2004-02-29       -0.037292  \n",
       "2004-03-31       -0.001591  \n",
       "2004-04-30       -0.010079  \n",
       "2004-05-31        0.000486  "
      ]
     },
     "execution_count": 317,
     "metadata": {},
     "output_type": "execute_result"
    }
   ],
   "source": [
    "# transpose equal weighted returns\n",
    "eq_weighted_return_tdf = eq_weighted_return_df.pivot(index='Date', columns='MomentumRanking', values='EqualWeightedReturn') \n",
    "\n",
    "# modify portfolio naming\n",
    "eq_weighted_return_tdf = eq_weighted_return_tdf.add_prefix('Portfolio-') \n",
    "\n",
    "# identify losers and winners\n",
    "eq_weighted_return_tdf = eq_weighted_return_tdf.rename(columns={'Portfolio-1': 'Losers', 'Portfolio-10': 'Winners'})\n",
    "\n",
    "# calculate long-short strategy\n",
    "eq_weighted_return_tdf['LongShort'] = eq_weighted_return_tdf.Winners - eq_weighted_return_tdf.Losers\n",
    "\n",
    "# portfolio summary\n",
    "eq_weighted_return_tdf.head()"
   ]
  },
  {
   "cell_type": "code",
   "execution_count": 318,
   "id": "982f2fa7",
   "metadata": {},
   "outputs": [
    {
     "data": {
      "text/html": [
       "<div>\n",
       "<style scoped>\n",
       "    .dataframe tbody tr th:only-of-type {\n",
       "        vertical-align: middle;\n",
       "    }\n",
       "\n",
       "    .dataframe tbody tr th {\n",
       "        vertical-align: top;\n",
       "    }\n",
       "\n",
       "    .dataframe thead th {\n",
       "        text-align: right;\n",
       "    }\n",
       "</style>\n",
       "<table border=\"1\" class=\"dataframe\">\n",
       "  <thead>\n",
       "    <tr style=\"text-align: right;\">\n",
       "      <th></th>\n",
       "      <th>MomentumRanking</th>\n",
       "      <th>mean</th>\n",
       "    </tr>\n",
       "  </thead>\n",
       "  <tbody>\n",
       "    <tr>\n",
       "      <th>0</th>\n",
       "      <td>Winners</td>\n",
       "      <td>0.007695</td>\n",
       "    </tr>\n",
       "    <tr>\n",
       "      <th>1</th>\n",
       "      <td>Losers</td>\n",
       "      <td>0.005273</td>\n",
       "    </tr>\n",
       "    <tr>\n",
       "      <th>2</th>\n",
       "      <td>LongShort</td>\n",
       "      <td>0.002422</td>\n",
       "    </tr>\n",
       "  </tbody>\n",
       "</table>\n",
       "</div>"
      ],
      "text/plain": [
       "  MomentumRanking      mean\n",
       "0         Winners  0.007695\n",
       "1          Losers  0.005273\n",
       "2       LongShort  0.002422"
      ]
     },
     "execution_count": 318,
     "metadata": {},
     "output_type": "execute_result"
    }
   ],
   "source": [
    "# compute cumulative returns\n",
    "eq_weighted_return_tdf['CumulativeReturns_Winners'] = (1 + eq_weighted_return_tdf.Winners).cumprod() - 1 \n",
    "eq_weighted_return_tdf['CumulativeReturns_Losers'] = (1 + eq_weighted_return_tdf.Losers).cumprod() - 1\n",
    "eq_weighted_return_tdf['CumulativeReturns_LongShort'] = (1 + eq_weighted_return_tdf.LongShort).cumprod() - 1\n",
    "\n",
    "momentum_mean = eq_weighted_return_tdf[['Winners', 'Losers', 'LongShort']].mean().to_frame()\n",
    "momentum_mean = momentum_mean.rename(columns={0: 'mean'}).reset_index()\n",
    "momentum_mean"
   ]
  },
  {
   "cell_type": "code",
   "execution_count": 319,
   "id": "2b4a08fd",
   "metadata": {},
   "outputs": [
    {
     "name": "stdout",
     "output_type": "stream",
     "text": [
      "Momentum Strategy Summary:\n",
      "\n",
      "   MomentumRanking   mean t-stat p-value\n",
      "0         Winners  0.77%   5.02    0.00\n",
      "1          Losers  0.53%   2.70    0.01\n",
      "2       LongShort  0.24%   1.81    0.07\n"
     ]
    }
   ],
   "source": [
    "# t-statistics for winners, losers, long-short\n",
    "t_losers = pd.Series(stats.ttest_1samp(eq_weighted_return_tdf['Losers'], 0.0)).to_frame().T \n",
    "t_winners = pd.Series(stats.ttest_1samp(eq_weighted_return_tdf['Winners'], 0.0)).to_frame().T \n",
    "t_long_short = pd.Series(stats.ttest_1samp(eq_weighted_return_tdf['LongShort'], 0.0)).to_frame().T\n",
    "\n",
    "# build structures\n",
    "t_losers['MomentumRanking'] = 'Losers'\n",
    "t_winners['MomentumRanking'] = 'Winners'\n",
    "t_long_short['MomentumRanking'] = 'LongShort'\n",
    "\n",
    "# combine statistics\n",
    "t_output = pd.concat([t_winners, t_losers, t_long_short]).rename(columns={0: 't-stat', 1: 'p-value'}) \n",
    "momentum_output = pd.merge(momentum_mean, t_output, on=['MomentumRanking'], how='inner')\n",
    "\n",
    "# format output\n",
    "momentum_output['mean'] = momentum_output['mean'].map('{:.2%}'.format) \n",
    "momentum_output['t-stat'] = momentum_output['t-stat'].map('{:.2f}'.format) \n",
    "momentum_output['p-value'] = momentum_output['p-value'].map('{:.2f}'.format) \n",
    "print('Momentum Strategy Summary:\\n\\n', momentum_output)"
   ]
  },
  {
   "cell_type": "code",
   "execution_count": 320,
   "id": "92fe6de4",
   "metadata": {},
   "outputs": [
    {
     "data": {
      "image/png": "[encoded data removed]",
      "text/plain": [
       "<Figure size 1200x900 with 2 Axes>"
      ]
     },
     "metadata": {},
     "output_type": "display_data"
    }
   ],
   "source": [
    "# visualization of cumulative strategy, winners, losers\n",
    "plt.figure(figsize=(12,9)) \n",
    "plt.suptitle('Momentum Strategy', fontsize=20) \n",
    "ax1 = plt.subplot(211) \n",
    "ax1.set_title('Long/Short Momentum Strategy', fontsize=15) \n",
    "ax1.plot(eq_weighted_return_tdf['CumulativeReturns_LongShort']) \n",
    "ax2 = plt.subplot(212) \n",
    "ax2.set_title('Cumulative Momentum Portfolios', fontsize=15) \n",
    "ax2.plot(eq_weighted_return_tdf['CumulativeReturns_Winners'], 'b-', eq_weighted_return_tdf['CumulativeReturns_Losers'], 'r--') \n",
    "ax2.legend(('Winners','Losers'), loc='upper left', shadow=True)\n",
    "plt.subplots_adjust(top=0.92, hspace=0.2)"
   ]
  }
 ],
 "metadata": {
  "kernelspec": {
   "display_name": "Python 3 (ipykernel)",
   "language": "python",
   "name": "python3"
  },
  "language_info": {
   "codemirror_mode": {
    "name": "ipython",
    "version": 3
   },
   "file_extension": ".py",
   "mimetype": "text/x-python",
   "name": "python",
   "nbconvert_exporter": "python",
   "pygments_lexer": "ipython3",
   "version": "3.11.4"
  }
 },
 "nbformat": 4,
 "nbformat_minor": 5
}
