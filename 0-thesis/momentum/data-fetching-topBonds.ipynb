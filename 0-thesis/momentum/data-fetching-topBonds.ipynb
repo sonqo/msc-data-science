{
 "cells": [
  {
   "cell_type": "code",
   "execution_count": null,
   "metadata": {},
   "outputs": [],
   "source": [
    "import os\n",
    "import pandas as pd\n",
    "import sqlalchemy as db\n",
    "from dotenv import load_dotenv"
   ]
  },
  {
   "cell_type": "code",
   "execution_count": null,
   "metadata": {},
   "outputs": [],
   "source": [
    "load_dotenv()\n",
    "\n",
    "# config and credentials\n",
    "server = os.getenv('server')\n",
    "database = os.getenv('database')\n",
    "username = os.getenv('username')\n",
    "password = os.getenv('password')\n",
    "\n",
    "# connection\n",
    "engine = db.create_engine(\n",
    "    'mssql://{}:{}@{}/{}?driver=ODBC+Driver+18+for+SQL+Server'.format(\n",
    "        username, password, server, database\n",
    "    )\n",
    ")\n",
    "\n",
    "# establish connection\n",
    "connection = engine.connect()"
   ]
  },
  {
   "cell_type": "markdown",
   "metadata": {},
   "source": [
    "### Top Bonds"
   ]
  },
  {
   "cell_type": "code",
   "execution_count": null,
   "metadata": {},
   "outputs": [],
   "source": [
    "query = '''\n",
    "    DECLARE @RC int\n",
    "    EXECUTE @RC = [dbo].[Momentum_topBonds] \n",
    "        NULL, -- CreditRisk : IG | HY\n",
    "        NULL -- Ownership : Private | Public\n",
    "'''\n",
    "\n",
    "# read sql\n",
    "df = pd.read_sql_query(query, connection)\n",
    "df.to_csv('source/topBonds.csv', index=False)"
   ]
  },
  {
   "cell_type": "markdown",
   "metadata": {},
   "source": [
    "### Investment Grade"
   ]
  },
  {
   "cell_type": "code",
   "execution_count": null,
   "metadata": {},
   "outputs": [],
   "source": [
    "query = '''\n",
    "    DECLARE @RC int\n",
    "    EXECUTE @RC = [dbo].[Momentum_topBonds] \n",
    "        'IG', -- CreditRisk : IG | HY\n",
    "        NULL -- Ownership : Private | Public\n",
    "'''\n",
    "\n",
    "# read sql\n",
    "df = pd.read_sql_query(query, connection)\n",
    "df.to_csv('source/topBonds-IG.csv', index=False)"
   ]
  },
  {
   "cell_type": "markdown",
   "metadata": {},
   "source": [
    "### High Yield"
   ]
  },
  {
   "cell_type": "code",
   "execution_count": null,
   "metadata": {},
   "outputs": [],
   "source": [
    "query = '''\n",
    "    DECLARE @RC int\n",
    "    EXECUTE @RC = [dbo].[Momentum_topBonds] \n",
    "        'HY', -- CreditRisk : IG | HY\n",
    "        NULL -- Ownership : Private | Public\n",
    "'''\n",
    "\n",
    "# read sql\n",
    "df = pd.read_sql_query(query, connection)\n",
    "df.to_csv('source/topBonds-HY.csv', index=False)"
   ]
  },
  {
   "cell_type": "markdown",
   "metadata": {},
   "source": [
    "### Private"
   ]
  },
  {
   "cell_type": "code",
   "execution_count": null,
   "metadata": {},
   "outputs": [],
   "source": [
    "query = '''\n",
    "    DECLARE @RC int\n",
    "    EXECUTE @RC = [dbo].[Momentum_topBonds] \n",
    "        NULL, -- CreditRisk : IG | HY\n",
    "        'Private' -- Ownership : Private | Public\n",
    "'''\n",
    "\n",
    "# read sql\n",
    "df = pd.read_sql_query(query, connection)\n",
    "df.to_csv('source/topBonds-private.csv', index=False)"
   ]
  },
  {
   "cell_type": "markdown",
   "metadata": {},
   "source": [
    "### Public"
   ]
  },
  {
   "cell_type": "code",
   "execution_count": null,
   "metadata": {},
   "outputs": [],
   "source": [
    "query = '''\n",
    "    DECLARE @RC int\n",
    "    EXECUTE @RC = [dbo].[Momentum_topBonds] \n",
    "        NULL, -- CreditRisk : IG | HY\n",
    "        'Public' -- Ownership : Private | Public\n",
    "'''\n",
    "\n",
    "# read sql\n",
    "df = pd.read_sql_query(query, connection)\n",
    "df.to_csv('source/topBonds-public.csv', index=False)"
   ]
  },
  {
   "cell_type": "markdown",
   "metadata": {},
   "source": [
    "### Investment Grade & Private"
   ]
  },
  {
   "cell_type": "code",
   "execution_count": null,
   "metadata": {},
   "outputs": [],
   "source": [
    "query = '''\n",
    "    DECLARE @RC int\n",
    "    EXECUTE @RC = [dbo].[Momentum_topBonds] \n",
    "        'IG', -- CreditRisk : IG | HY\n",
    "        'Private' -- Ownership : Private | Public\n",
    "'''\n",
    "\n",
    "# read sql\n",
    "df = pd.read_sql_query(query, connection)\n",
    "df.to_csv('source/topBonds-privateIG.csv', index=False)"
   ]
  },
  {
   "cell_type": "markdown",
   "metadata": {},
   "source": [
    "### Investment Grade & Public"
   ]
  },
  {
   "cell_type": "code",
   "execution_count": null,
   "metadata": {},
   "outputs": [],
   "source": [
    "query = '''\n",
    "    DECLARE @RC int\n",
    "    EXECUTE @RC = [dbo].[Momentum_topBonds] \n",
    "        'IG', -- CreditRisk : IG | HY\n",
    "        'Public' -- Ownership : Private | Public\n",
    "'''\n",
    "\n",
    "# read sql\n",
    "df = pd.read_sql_query(query, connection)\n",
    "df.to_csv('source/topBonds-publicIG.csv', index=False)"
   ]
  },
  {
   "cell_type": "markdown",
   "metadata": {},
   "source": [
    "### High Yield & Private"
   ]
  },
  {
   "cell_type": "code",
   "execution_count": null,
   "metadata": {},
   "outputs": [],
   "source": [
    "query = '''\n",
    "    DECLARE @RC int\n",
    "    EXECUTE @RC = [dbo].[Momentum_topBonds] \n",
    "        'HY', -- CreditRisk : IG | HY\n",
    "        'Private' -- Ownership : Private | Public\n",
    "'''\n",
    "\n",
    "# read sql\n",
    "df = pd.read_sql_query(query, connection)\n",
    "df.to_csv('source/topBonds-privateHY.csv', index=False)"
   ]
  },
  {
   "cell_type": "markdown",
   "metadata": {},
   "source": [
    "### High Yield & Public"
   ]
  },
  {
   "cell_type": "code",
   "execution_count": null,
   "metadata": {},
   "outputs": [],
   "source": [
    "query = '''\n",
    "    DECLARE @RC int\n",
    "    EXECUTE @RC = [dbo].[Momentum_topBonds] \n",
    "        'HY', -- CreditRisk : IG | HY\n",
    "        'Public' -- Ownership : Private | Public\n",
    "'''\n",
    "\n",
    "# read sql\n",
    "df = pd.read_sql_query(query, connection)\n",
    "df.to_csv('source/topBonds-publicHY.csv', index=False)"
   ]
  }
 ],
 "metadata": {
  "kernelspec": {
   "display_name": "msc-thesis",
   "language": "python",
   "name": "python3"
  },
  "language_info": {
   "codemirror_mode": {
    "name": "ipython",
    "version": 3
   },
   "file_extension": ".py",
   "mimetype": "text/x-python",
   "name": "python",
   "nbconvert_exporter": "python",
   "pygments_lexer": "ipython3",
   "version": "3.11.4"
  },
  "orig_nbformat": 4
 },
 "nbformat": 4,
 "nbformat_minor": 2
}
