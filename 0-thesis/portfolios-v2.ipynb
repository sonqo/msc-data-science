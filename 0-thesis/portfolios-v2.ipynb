{
 "cells": [
  {
   "cell_type": "code",
   "execution_count": 1,
   "id": "5a052f9b",
   "metadata": {},
   "outputs": [],
   "source": [
    "import os\n",
    "import numpy as np\n",
    "import pandas as pd\n",
    "import datetime as dt\n",
    "from scipy import stats\n",
    "import sqlalchemy as db\n",
    "from dotenv import load_dotenv\n",
    "import matplotlib.pyplot as plt\n",
    "from pandas.tseries.offsets import *\n",
    "\n",
    "np.seterr(divide = 'ignore')\n",
    "pd.set_option('display.max_rows', 500)"
   ]
  },
  {
   "cell_type": "code",
   "execution_count": 2,
   "id": "60a1e5e7",
   "metadata": {},
   "outputs": [],
   "source": [
    "load_dotenv()\n",
    "\n",
    "# config and credentials\n",
    "server = os.getenv('server')\n",
    "database = os.getenv('database')\n",
    "username = os.getenv('username')\n",
    "password = os.getenv('password')\n",
    "\n",
    "# connection\n",
    "engine = db.create_engine(\n",
    "    'mssql://{}:{}@{}/{}?driver=ODBC+Driver+18+for+SQL+Server'.format(\n",
    "        username, password, server, database\n",
    "    )\n",
    ")\n",
    "\n",
    "# establish connection\n",
    "connection = engine.connect()"
   ]
  },
  {
   "cell_type": "code",
   "execution_count": 3,
   "id": "6764cb89",
   "metadata": {},
   "outputs": [],
   "source": [
    "def get_sample_particulars(df):\n",
    "    print('Number of observations: {:,}'.format(len(df.index)))\n",
    "    print('Returns: Mean: {:.5f} | Median: {:.5f} | Std returns: {:.5f}'.format(\n",
    "        100 * df['R'].mean(), 100 * df['R'].median(), 100 * df['R'].std()))\n",
    "    print('Volume mean: {:.5f}'.format(df['TDvolume'].mean()))\n",
    "    print('Coupon mean: {:.5f}'.format(df['Coupon'].mean()))\n",
    "    print('Yield mean: {:.5f}'.format(df['Yield'].mean()))"
   ]
  },
  {
   "cell_type": "markdown",
   "id": "5ba6d2bb",
   "metadata": {},
   "source": [
    "### Query Selection"
   ]
  },
  {
   "cell_type": "code",
   "execution_count": 4,
   "id": "46fc8b35",
   "metadata": {},
   "outputs": [],
   "source": [
    "# vanilla\n",
    "bondReturns_vanilla = '''\n",
    "    SELECT\n",
    "        Date,\n",
    "        Cusip,\n",
    "        CompanySymbol,\n",
    "        Coupon,\n",
    "        Yield,\n",
    "        TDvolume,\n",
    "        RetEom / 100 AS R,\n",
    "        RatingNum,\n",
    "        RatingClass,\n",
    "        CASE\n",
    "            WHEN DATEDIFF(DAY, OfferingDate, Maturity) * 1.0 / 360 < 5 THEN 1\n",
    "            WHEN DATEDIFF(DAY, OfferingDate, Maturity) * 1.0 / 360 < 15 THEN 2\n",
    "            ELSE 3\n",
    "        END AS MaturityBand\n",
    "    FROM \n",
    "        BondReturns\n",
    "    WHERE\n",
    "        Cusip IN (SELECT DISTINCT CusipId FROM Trace_filtered_withRatings )\n",
    "'''\n",
    "\n",
    "# top performing bonds\n",
    "bondReturns_topPerforming = '''\n",
    "    SELECT\n",
    "        A.Date,\n",
    "        A.Cusip,\n",
    "        A.CompanySymbol,\n",
    "        A.Coupon,\n",
    "        A.Yield,\n",
    "        A.TDvolume,\n",
    "        A.RetEom / 100 AS R,\n",
    "        A.RatingNum,\n",
    "        A.RatingClass,\n",
    "        CASE\n",
    "            WHEN DATEDIFF(DAY, A.OfferingDate, A.Maturity) * 1.0 / 360 < 5 THEN 1\n",
    "            WHEN DATEDIFF(DAY, A.OfferingDate, A.Maturity) * 1.0 / 360 < 15 THEN 2\n",
    "            ELSE 3\n",
    "        END AS MaturityBand\n",
    "    FROM\n",
    "        BondReturns A\n",
    "    INNER JOIN (\n",
    "        SELECT\n",
    "            Date,\n",
    "            CompanySymbol,\n",
    "            MAX(TDvolume) AS MaxVolume\n",
    "        FROM \n",
    "            BondReturns\n",
    "        WHERE\n",
    "            Cusip IN (SELECT DISTINCT CusipId FROM Trace_filtered_withRatings)\n",
    "        GROUP BY\n",
    "            Date,\n",
    "            CompanySymbol\n",
    "    ) B ON A.Date = B.Date AND A.CompanySymbol = B.CompanySymbol AND A.TDvolume = B.MaxVolume\n",
    "'''"
   ]
  },
  {
   "cell_type": "code",
   "execution_count": 5,
   "id": "b4590732",
   "metadata": {},
   "outputs": [
    {
     "name": "stdout",
     "output_type": "stream",
     "text": [
      "Please type: vanilla | topPerforming\n",
      "topPerforming\n"
     ]
    }
   ],
   "source": [
    "query_selection = input('Please type: vanilla | topPerforming\\n')"
   ]
  },
  {
   "cell_type": "code",
   "execution_count": 6,
   "id": "872a34b8",
   "metadata": {},
   "outputs": [],
   "source": [
    "if query_selection == 'vanilla':\n",
    "    query = bondReturns_vanilla\n",
    "    query_n = 'bondReturns_vanilla'\n",
    "else:\n",
    "    query = bondReturns_topPerforming\n",
    "    query_n = 'bondReturns_topPerforming'\n",
    "\n",
    "# read sql\n",
    "# df = pd.read_sql(query, connection)\n",
    "# df.to_csv('data/output/bonds/{}.csv'.format(query_n), index=False)\n",
    "\n",
    "# read csv\n",
    "df = pd.read_csv('data/output/bonds/{}.csv'.format(query_n))\n",
    "df['Date'] = pd.to_datetime(df['Date'])"
   ]
  },
  {
   "cell_type": "markdown",
   "id": "baca9eda",
   "metadata": {},
   "source": [
    "### Quantile Filtering and Outlier Visualization"
   ]
  },
  {
   "cell_type": "code",
   "execution_count": 7,
   "id": "e77aec74",
   "metadata": {},
   "outputs": [],
   "source": [
    "df['quantiles'] = pd.qcut(df.R, np.linspace(0, 1, 201), labels=np.linspace(0, 1, 200)).astype(float)\n",
    "df['outliers'] = np.where((df['quantiles'] > 0.995) | (df['quantiles'] < 0.005), 1, 0)\n",
    "df['Year'] = df['Date'].dt.year"
   ]
  },
  {
   "cell_type": "code",
   "execution_count": 8,
   "id": "4549431a",
   "metadata": {},
   "outputs": [
    {
     "data": {
      "image/png": "[encoded data removed]",
      "text/plain": [
       "<Figure size 1200x500 with 1 Axes>"
      ]
     },
     "metadata": {},
     "output_type": "display_data"
    }
   ],
   "source": [
    "df_g = df.groupby('Year')['outliers'].sum().reset_index()\n",
    "\n",
    "plt.figure(figsize=(12, 5))\n",
    "plt.title('Outliers Distribution')\n",
    "plt.bar(df_g['Year'], df_g['outliers'], width = 0.6)\n",
    "plt.xticks([i for i in range(2002, 2023)], fontsize=8)\n",
    "plt.show()"
   ]
  },
  {
   "cell_type": "code",
   "execution_count": 9,
   "id": "a8f46fdf",
   "metadata": {},
   "outputs": [],
   "source": [
    "# filter out outliers\n",
    "df = df[df['outliers'] == 0]"
   ]
  },
  {
   "cell_type": "markdown",
   "id": "ec23624e",
   "metadata": {},
   "source": [
    "### Exploratory Analysis"
   ]
  },
  {
   "cell_type": "code",
   "execution_count": 10,
   "id": "9484ce81",
   "metadata": {},
   "outputs": [
    {
     "data": {
      "text/plain": [
       "15984"
      ]
     },
     "execution_count": 10,
     "metadata": {},
     "output_type": "execute_result"
    }
   ],
   "source": [
    "df['Cusip'].nunique()"
   ]
  },
  {
   "cell_type": "code",
   "execution_count": 11,
   "id": "91690134",
   "metadata": {},
   "outputs": [
    {
     "data": {
      "text/plain": [
       "0.IG    142589\n",
       "1.HY     84923\n",
       "NaN       6628\n",
       "Name: RatingClass, dtype: int64"
      ]
     },
     "execution_count": 11,
     "metadata": {},
     "output_type": "execute_result"
    }
   ],
   "source": [
    "# number of entries\n",
    "df['RatingClass'].value_counts(dropna=False)"
   ]
  },
  {
   "cell_type": "code",
   "execution_count": 12,
   "id": "4c391225",
   "metadata": {},
   "outputs": [
    {
     "data": {
      "text/plain": [
       "RatingClass\n",
       "0.IG    12656\n",
       "1.HY     4177\n",
       "NaN       998\n",
       "Name: Cusip, dtype: int64"
      ]
     },
     "execution_count": 12,
     "metadata": {},
     "output_type": "execute_result"
    }
   ],
   "source": [
    "# number of distinct Cusips\n",
    "df.groupby('RatingClass', dropna=False).Cusip.nunique()"
   ]
  },
  {
   "cell_type": "code",
   "execution_count": 13,
   "id": "253eb4e5",
   "metadata": {},
   "outputs": [
    {
     "data": {
      "text/plain": [
       "2    182160\n",
       "3     37278\n",
       "1      8786\n",
       "Name: MaturityBand, dtype: int64"
      ]
     },
     "execution_count": 13,
     "metadata": {},
     "output_type": "execute_result"
    }
   ],
   "source": [
    "# drop NR\n",
    "df = df.dropna(subset=['RatingNum'])\n",
    "\n",
    "# number of entries\n",
    "df['MaturityBand'].value_counts(dropna=False)"
   ]
  },
  {
   "cell_type": "code",
   "execution_count": 14,
   "id": "510b02ca",
   "metadata": {},
   "outputs": [
    {
     "data": {
      "text/plain": [
       "MaturityBand\n",
       "1     1433\n",
       "2    11502\n",
       "3     2796\n",
       "Name: Cusip, dtype: int64"
      ]
     },
     "execution_count": 14,
     "metadata": {},
     "output_type": "execute_result"
    }
   ],
   "source": [
    "# number of distinct Cusips\n",
    "df.groupby('MaturityBand').Cusip.nunique()"
   ]
  },
  {
   "cell_type": "code",
   "execution_count": 15,
   "id": "5279fc8f",
   "metadata": {},
   "outputs": [
    {
     "data": {
      "text/plain": [
       "15731"
      ]
     },
     "execution_count": 15,
     "metadata": {},
     "output_type": "execute_result"
    }
   ],
   "source": [
    "df['Cusip'].nunique()"
   ]
  },
  {
   "cell_type": "code",
   "execution_count": 16,
   "id": "98565e7a",
   "metadata": {},
   "outputs": [],
   "source": [
    "# filtering\n",
    "# df = df[df['MaturityBand'] == 1]\n",
    "# df = df[df['RatingClass'] == '1.HY']"
   ]
  },
  {
   "cell_type": "code",
   "execution_count": 17,
   "id": "f400fc67",
   "metadata": {},
   "outputs": [
    {
     "name": "stdout",
     "output_type": "stream",
     "text": [
      "Number of observations: 228,224\n",
      "Returns: Mean: 0.59256 | Median: 0.44580 | Std returns: 3.07999\n",
      "Volume mean: 108991064.55447\n",
      "Coupon mean: 6.08637\n",
      "Yield mean: 5.87170\n"
     ]
    }
   ],
   "source": [
    "get_sample_particulars(df)"
   ]
  },
  {
   "cell_type": "markdown",
   "id": "09eb3055",
   "metadata": {},
   "source": [
    "### Portfolio Analysis"
   ]
  },
  {
   "cell_type": "code",
   "execution_count": 18,
   "id": "f5edd7a5",
   "metadata": {},
   "outputs": [],
   "source": [
    "# fill NULL returns\n",
    "df['R'] = df['R'].fillna(0)\n",
    "\n",
    "# log returns\n",
    "df['logR'] = np.log(1 + df['R'])"
   ]
  },
  {
   "cell_type": "code",
   "execution_count": 19,
   "id": "4fcdb723",
   "metadata": {},
   "outputs": [],
   "source": [
    "J = 3 # formation period\n",
    "\n",
    "df_ = df[\n",
    "    ['Cusip', 'Date', 'R', 'logR']\n",
    "].sort_values(['Cusip', 'Date']).set_index('Date')\n",
    "\n",
    "cumr = df_.groupby(['Cusip'])['logR'].rolling(J, min_periods=J).sum().reset_index()\n",
    "cumr = cumr.rename(columns = {'logR': 'SumLogR'})\n",
    "\n",
    "cumr['CumRet'] = np.exp(cumr['SumLogR'])-1"
   ]
  },
  {
   "cell_type": "code",
   "execution_count": 20,
   "id": "df7ced8b",
   "metadata": {},
   "outputs": [],
   "source": [
    "r = 10 # momentum ranking\n",
    "\n",
    "cumr = cumr.dropna(axis=0, subset=['CumRet'])\n",
    "\n",
    "cumr['MomR'] = cumr.groupby('Date')['CumRet'].transform(lambda x: pd.qcut(x, r, labels=False))\n",
    "cumr['MomR'] = 1 + cumr['MomR'].astype(int)"
   ]
  },
  {
   "cell_type": "code",
   "execution_count": 21,
   "id": "33a68ede",
   "metadata": {},
   "outputs": [
    {
     "data": {
      "text/plain": [
       "MomR\n",
       "1    -0.058501\n",
       "2    -0.014910\n",
       "3    -0.003208\n",
       "4     0.004768\n",
       "5     0.011719\n",
       "6     0.018705\n",
       "7     0.026530\n",
       "8     0.036579\n",
       "9     0.052488\n",
       "10    0.103394\n",
       "Name: CumRet, dtype: float64"
      ]
     },
     "execution_count": 21,
     "metadata": {},
     "output_type": "execute_result"
    }
   ],
   "source": [
    "cumr.groupby('MomR')['CumRet'].mean()"
   ]
  },
  {
   "cell_type": "code",
   "execution_count": 22,
   "id": "2eeee8db",
   "metadata": {},
   "outputs": [],
   "source": [
    "K = 3 # Holding Period Length: K can be between 3 to 12 months\n",
    "\n",
    "cumr['form_date'] = cumr['Date']\n",
    "cumr['medate'] = cumr['Date'] + MonthEnd(0)\n",
    "cumr['hdate1'] = cumr['medate'] + MonthBegin(1)\n",
    "cumr['hdate2'] = cumr['medate'] + MonthEnd(K)\n",
    "cumr = cumr[['Cusip', 'form_date','MomR','hdate1','hdate2', 'CumRet']]\n",
    "\n",
    "port = pd.merge(df[['Cusip', 'Date', 'R']], cumr, on=['Cusip'], how='inner')\n",
    "port = port[(port['hdate1'] <= port['Date']) & (port['Date'] <= port['hdate2'])]\n",
    "port = port[['Cusip','form_date', 'MomR', 'hdate1','hdate2', 'Date', 'R', 'CumRet']]\n",
    "port['Date'] = pd.to_datetime(port['Date'])"
   ]
  },
  {
   "cell_type": "code",
   "execution_count": 23,
   "id": "191008cc",
   "metadata": {},
   "outputs": [],
   "source": [
    "cumr_port = port.groupby(['Date','MomR', 'form_date'])['CumRet'].mean().reset_index()\n",
    "\n",
    "start_yr = cumr_port['Date'].dt.year.min()+2\n",
    "cumr_port = cumr_port.loc[cumr_port.Date.dt.year >= start_yr]\n",
    "cumr_port = cumr_port.sort_values(by=['Date','MomR'])\n",
    "\n",
    "ewret = cumr_port.groupby(['Date','MomR'])['CumRet'].mean().reset_index()\n",
    "ewstd = cumr_port.groupby(['Date','MomR'])['CumRet'].std().reset_index()\n",
    "\n",
    "ewret = ewret.rename(columns={'CumRet':'ewret'})\n",
    "ewstd = ewstd.rename(columns={'CumRet':'ewretstd'})\n",
    "\n",
    "ewretdf = pd.merge(ewret, ewstd, on=['Date','MomR'], how='inner')\n",
    "ewretdf = ewretdf.sort_values(by=['MomR', 'Date'])"
   ]
  },
  {
   "cell_type": "code",
   "execution_count": 24,
   "id": "a025a20a",
   "metadata": {},
   "outputs": [
    {
     "data": {
      "text/html": [
       "<div>\n",
       "<style scoped>\n",
       "    .dataframe tbody tr th:only-of-type {\n",
       "        vertical-align: middle;\n",
       "    }\n",
       "\n",
       "    .dataframe tbody tr th {\n",
       "        vertical-align: top;\n",
       "    }\n",
       "\n",
       "    .dataframe thead th {\n",
       "        text-align: right;\n",
       "    }\n",
       "</style>\n",
       "<table border=\"1\" class=\"dataframe\">\n",
       "  <thead>\n",
       "    <tr style=\"text-align: right;\">\n",
       "      <th></th>\n",
       "      <th>MomR</th>\n",
       "      <th>count</th>\n",
       "      <th>mean</th>\n",
       "      <th>std</th>\n",
       "    </tr>\n",
       "  </thead>\n",
       "  <tbody>\n",
       "    <tr>\n",
       "      <th>0</th>\n",
       "      <td>1</td>\n",
       "      <td>219.0</td>\n",
       "      <td>-0.056982</td>\n",
       "      <td>0.035062</td>\n",
       "    </tr>\n",
       "    <tr>\n",
       "      <th>1</th>\n",
       "      <td>2</td>\n",
       "      <td>219.0</td>\n",
       "      <td>-0.015150</td>\n",
       "      <td>0.022262</td>\n",
       "    </tr>\n",
       "    <tr>\n",
       "      <th>2</th>\n",
       "      <td>3</td>\n",
       "      <td>219.0</td>\n",
       "      <td>-0.003477</td>\n",
       "      <td>0.016712</td>\n",
       "    </tr>\n",
       "    <tr>\n",
       "      <th>3</th>\n",
       "      <td>4</td>\n",
       "      <td>219.0</td>\n",
       "      <td>0.004486</td>\n",
       "      <td>0.013999</td>\n",
       "    </tr>\n",
       "    <tr>\n",
       "      <th>4</th>\n",
       "      <td>5</td>\n",
       "      <td>219.0</td>\n",
       "      <td>0.011425</td>\n",
       "      <td>0.013306</td>\n",
       "    </tr>\n",
       "    <tr>\n",
       "      <th>5</th>\n",
       "      <td>6</td>\n",
       "      <td>219.0</td>\n",
       "      <td>0.018393</td>\n",
       "      <td>0.014228</td>\n",
       "    </tr>\n",
       "    <tr>\n",
       "      <th>6</th>\n",
       "      <td>7</td>\n",
       "      <td>219.0</td>\n",
       "      <td>0.026197</td>\n",
       "      <td>0.016612</td>\n",
       "    </tr>\n",
       "    <tr>\n",
       "      <th>7</th>\n",
       "      <td>8</td>\n",
       "      <td>219.0</td>\n",
       "      <td>0.036201</td>\n",
       "      <td>0.020493</td>\n",
       "    </tr>\n",
       "    <tr>\n",
       "      <th>8</th>\n",
       "      <td>9</td>\n",
       "      <td>219.0</td>\n",
       "      <td>0.051958</td>\n",
       "      <td>0.027939</td>\n",
       "    </tr>\n",
       "    <tr>\n",
       "      <th>9</th>\n",
       "      <td>10</td>\n",
       "      <td>219.0</td>\n",
       "      <td>0.102474</td>\n",
       "      <td>0.047227</td>\n",
       "    </tr>\n",
       "  </tbody>\n",
       "</table>\n",
       "</div>"
      ],
      "text/plain": [
       "   MomR  count      mean       std\n",
       "0     1  219.0 -0.056982  0.035062\n",
       "1     2  219.0 -0.015150  0.022262\n",
       "2     3  219.0 -0.003477  0.016712\n",
       "3     4  219.0  0.004486  0.013999\n",
       "4     5  219.0  0.011425  0.013306\n",
       "5     6  219.0  0.018393  0.014228\n",
       "6     7  219.0  0.026197  0.016612\n",
       "7     8  219.0  0.036201  0.020493\n",
       "8     9  219.0  0.051958  0.027939\n",
       "9    10  219.0  0.102474  0.047227"
      ]
     },
     "execution_count": 24,
     "metadata": {},
     "output_type": "execute_result"
    }
   ],
   "source": [
    "ewretdf.groupby(['MomR'])['ewret'].describe()[['count','mean', 'std']].reset_index()"
   ]
  },
  {
   "cell_type": "code",
   "execution_count": 25,
   "id": "0d041aed",
   "metadata": {},
   "outputs": [
    {
     "data": {
      "text/html": [
       "<div>\n",
       "<style scoped>\n",
       "    .dataframe tbody tr th:only-of-type {\n",
       "        vertical-align: middle;\n",
       "    }\n",
       "\n",
       "    .dataframe tbody tr th {\n",
       "        vertical-align: top;\n",
       "    }\n",
       "\n",
       "    .dataframe thead th {\n",
       "        text-align: right;\n",
       "    }\n",
       "</style>\n",
       "<table border=\"1\" class=\"dataframe\">\n",
       "  <thead>\n",
       "    <tr style=\"text-align: right;\">\n",
       "      <th>MomR</th>\n",
       "      <th>losers</th>\n",
       "      <th>port2</th>\n",
       "      <th>port3</th>\n",
       "      <th>port4</th>\n",
       "      <th>port5</th>\n",
       "      <th>port6</th>\n",
       "      <th>port7</th>\n",
       "      <th>port8</th>\n",
       "      <th>port9</th>\n",
       "      <th>winners</th>\n",
       "      <th>long_short</th>\n",
       "    </tr>\n",
       "    <tr>\n",
       "      <th>Date</th>\n",
       "      <th></th>\n",
       "      <th></th>\n",
       "      <th></th>\n",
       "      <th></th>\n",
       "      <th></th>\n",
       "      <th></th>\n",
       "      <th></th>\n",
       "      <th></th>\n",
       "      <th></th>\n",
       "      <th></th>\n",
       "      <th></th>\n",
       "    </tr>\n",
       "  </thead>\n",
       "  <tbody>\n",
       "    <tr>\n",
       "      <th>2004-01-31</th>\n",
       "      <td>-0.046529</td>\n",
       "      <td>-0.005768</td>\n",
       "      <td>0.005005</td>\n",
       "      <td>0.012799</td>\n",
       "      <td>0.021153</td>\n",
       "      <td>0.029793</td>\n",
       "      <td>0.040686</td>\n",
       "      <td>0.054571</td>\n",
       "      <td>0.074638</td>\n",
       "      <td>0.147136</td>\n",
       "      <td>0.193665</td>\n",
       "    </tr>\n",
       "    <tr>\n",
       "      <th>2004-02-29</th>\n",
       "      <td>-0.038182</td>\n",
       "      <td>-0.002671</td>\n",
       "      <td>0.006661</td>\n",
       "      <td>0.014457</td>\n",
       "      <td>0.022660</td>\n",
       "      <td>0.031617</td>\n",
       "      <td>0.042579</td>\n",
       "      <td>0.056543</td>\n",
       "      <td>0.077467</td>\n",
       "      <td>0.155767</td>\n",
       "      <td>0.193948</td>\n",
       "    </tr>\n",
       "    <tr>\n",
       "      <th>2004-03-31</th>\n",
       "      <td>-0.031908</td>\n",
       "      <td>-0.001681</td>\n",
       "      <td>0.007198</td>\n",
       "      <td>0.014527</td>\n",
       "      <td>0.021514</td>\n",
       "      <td>0.029876</td>\n",
       "      <td>0.038708</td>\n",
       "      <td>0.050382</td>\n",
       "      <td>0.071551</td>\n",
       "      <td>0.150902</td>\n",
       "      <td>0.182810</td>\n",
       "    </tr>\n",
       "    <tr>\n",
       "      <th>2004-04-30</th>\n",
       "      <td>-0.036610</td>\n",
       "      <td>-0.000222</td>\n",
       "      <td>0.008841</td>\n",
       "      <td>0.016197</td>\n",
       "      <td>0.023186</td>\n",
       "      <td>0.030406</td>\n",
       "      <td>0.038458</td>\n",
       "      <td>0.049275</td>\n",
       "      <td>0.068232</td>\n",
       "      <td>0.130752</td>\n",
       "      <td>0.167362</td>\n",
       "    </tr>\n",
       "    <tr>\n",
       "      <th>2004-05-31</th>\n",
       "      <td>-0.045131</td>\n",
       "      <td>-0.008654</td>\n",
       "      <td>0.001180</td>\n",
       "      <td>0.008509</td>\n",
       "      <td>0.014898</td>\n",
       "      <td>0.021009</td>\n",
       "      <td>0.028030</td>\n",
       "      <td>0.038143</td>\n",
       "      <td>0.054282</td>\n",
       "      <td>0.109044</td>\n",
       "      <td>0.154175</td>\n",
       "    </tr>\n",
       "  </tbody>\n",
       "</table>\n",
       "</div>"
      ],
      "text/plain": [
       "MomR          losers     port2     port3     port4     port5     port6  \\\n",
       "Date                                                                     \n",
       "2004-01-31 -0.046529 -0.005768  0.005005  0.012799  0.021153  0.029793   \n",
       "2004-02-29 -0.038182 -0.002671  0.006661  0.014457  0.022660  0.031617   \n",
       "2004-03-31 -0.031908 -0.001681  0.007198  0.014527  0.021514  0.029876   \n",
       "2004-04-30 -0.036610 -0.000222  0.008841  0.016197  0.023186  0.030406   \n",
       "2004-05-31 -0.045131 -0.008654  0.001180  0.008509  0.014898  0.021009   \n",
       "\n",
       "MomR           port7     port8     port9   winners  long_short  \n",
       "Date                                                            \n",
       "2004-01-31  0.040686  0.054571  0.074638  0.147136    0.193665  \n",
       "2004-02-29  0.042579  0.056543  0.077467  0.155767    0.193948  \n",
       "2004-03-31  0.038708  0.050382  0.071551  0.150902    0.182810  \n",
       "2004-04-30  0.038458  0.049275  0.068232  0.130752    0.167362  \n",
       "2004-05-31  0.028030  0.038143  0.054282  0.109044    0.154175  "
      ]
     },
     "execution_count": 25,
     "metadata": {},
     "output_type": "execute_result"
    }
   ],
   "source": [
    "ewret_t = ewretdf.pivot(index='Date', columns='MomR', values='ewret') \n",
    "\n",
    "# Add prefix port in front of each column \n",
    "ewret_t = ewret_t.add_prefix('port') \n",
    "ewret_t = ewret_t.rename(columns={'port1':'losers', 'port10':'winners'}) \n",
    "ewret_t['long_short'] = ewret_t.winners - ewret_t.losers\n",
    "ewret_t.head()"
   ]
  },
  {
   "cell_type": "code",
   "execution_count": 26,
   "id": "982f2fa7",
   "metadata": {},
   "outputs": [
    {
     "data": {
      "text/html": [
       "<div>\n",
       "<style scoped>\n",
       "    .dataframe tbody tr th:only-of-type {\n",
       "        vertical-align: middle;\n",
       "    }\n",
       "\n",
       "    .dataframe tbody tr th {\n",
       "        vertical-align: top;\n",
       "    }\n",
       "\n",
       "    .dataframe thead th {\n",
       "        text-align: right;\n",
       "    }\n",
       "</style>\n",
       "<table border=\"1\" class=\"dataframe\">\n",
       "  <thead>\n",
       "    <tr style=\"text-align: right;\">\n",
       "      <th></th>\n",
       "      <th>MomR</th>\n",
       "      <th>mean</th>\n",
       "    </tr>\n",
       "  </thead>\n",
       "  <tbody>\n",
       "    <tr>\n",
       "      <th>0</th>\n",
       "      <td>winners</td>\n",
       "      <td>0.102474</td>\n",
       "    </tr>\n",
       "    <tr>\n",
       "      <th>1</th>\n",
       "      <td>losers</td>\n",
       "      <td>-0.056982</td>\n",
       "    </tr>\n",
       "    <tr>\n",
       "      <th>2</th>\n",
       "      <td>long_short</td>\n",
       "      <td>0.159456</td>\n",
       "    </tr>\n",
       "  </tbody>\n",
       "</table>\n",
       "</div>"
      ],
      "text/plain": [
       "         MomR      mean\n",
       "0     winners  0.102474\n",
       "1      losers -0.056982\n",
       "2  long_short  0.159456"
      ]
     },
     "execution_count": 26,
     "metadata": {},
     "output_type": "execute_result"
    }
   ],
   "source": [
    "ewret_t['cumret_winners'] = (1 + ewret_t.winners).cumprod() - 1 \n",
    "ewret_t['cumret_losers'] = (1 + ewret_t.losers).cumprod() - 1\n",
    "ewret_t['cumret_long_short'] = (1 + ewret_t.long_short).cumprod() - 1\n",
    "\n",
    "mom_mean = ewret_t[['winners', 'losers', 'long_short']].mean().to_frame() \n",
    "mom_mean = mom_mean.rename(columns={0:'mean'}).reset_index() \n",
    "mom_mean"
   ]
  },
  {
   "cell_type": "code",
   "execution_count": 27,
   "id": "2b4a08fd",
   "metadata": {},
   "outputs": [],
   "source": [
    "t_losers = pd.Series(stats.ttest_1samp(ewret_t['losers'], 0.0)).to_frame().T \n",
    "t_winners = pd.Series(stats.ttest_1samp(ewret_t['winners'], 0.0)).to_frame().T \n",
    "t_long_short = pd.Series(stats.ttest_1samp(ewret_t['long_short'], 0.0)).to_frame().T\n",
    "\n",
    "t_losers['MomR'] = 'losers' \n",
    "t_winners['MomR'] = 'winners' \n",
    "t_long_short['MomR'] = 'long_short'"
   ]
  },
  {
   "cell_type": "code",
   "execution_count": 28,
   "id": "48920137",
   "metadata": {},
   "outputs": [
    {
     "name": "stdout",
     "output_type": "stream",
     "text": [
      "Momentum Strategy Summary:\n",
      "\n",
      "          MomR    mean  t-stat p-value\n",
      "0     winners  10.25%   32.11    0.00\n",
      "1      losers  -5.70%  -24.05    0.00\n",
      "2  long_short  15.95%   38.79    0.00\n"
     ]
    }
   ],
   "source": [
    "t_output = pd.concat([t_winners, t_losers, t_long_short]).rename(columns={0:'t-stat', 1:'p-value'}) \n",
    "\n",
    "# Combine mean, t and p and format output \n",
    "mom_output = pd.merge(mom_mean, t_output, on=['MomR'], how='inner')\n",
    "\n",
    "mom_output['mean'] = mom_output['mean'].map('{:.2%}'.format) \n",
    "mom_output['t-stat'] = mom_output['t-stat'].map('{:.2f}'.format) \n",
    "mom_output['p-value'] = mom_output['p-value'].map('{:.2f}'.format) \n",
    "\n",
    "print('Momentum Strategy Summary:\\n\\n', mom_output)"
   ]
  },
  {
   "cell_type": "code",
   "execution_count": 146,
   "id": "92fe6de4",
   "metadata": {},
   "outputs": [
    {
     "data": {
      "image/png": "[encoded data removed]",
      "text/plain": [
       "<Figure size 2000x1400 with 2 Axes>"
      ]
     },
     "metadata": {},
     "output_type": "display_data"
    }
   ],
   "source": [
    "plt.figure(figsize=(20, 14)) \n",
    "plt.suptitle('Momentum Strategy', fontsize=20) \n",
    "\n",
    "ax1 = plt.subplot(211)\n",
    "ax1.set_title('Long/Short Momentum Strategy', fontsize=15) \n",
    "ax1.plot(ewret_t['cumret_long_short'])\n",
    "ax1.set_yscale('log')\n",
    "\n",
    "ax2 = plt.subplot(212) \n",
    "ax2.set_title('Cumulative Momentum Portfolios', fontsize=15)\n",
    "ax2.plot(ewret_t['cumret_winners'], 'b-', ewret_t['cumret_losers'], 'r--') \n",
    "ax2.legend(('Winners','Losers'), loc='upper left', shadow=True) \n",
    "ax2.set_yscale('symlog')\n",
    "\n",
    "axins = ax2.inset_axes([0.85, 0.25, 0.25, 0.25])\n",
    "axins.plot(ewret_t['cumret_losers'], 'r--')\n",
    "axins.set_xticklabels([])\n",
    "ax2.indicate_inset_zoom(axins, edgecolor=\"black\")\n",
    "# # subregion of the original image\n",
    "# x1, x2, y1, y2 = , -10, 10\n",
    "# axins.set_xlim(x1, x2)\n",
    "# axins.set_ylim(y1, y2)\n",
    "# axins.set_xticklabels([])\n",
    "# axins.set_yticklabels([])\n",
    "\n",
    "plt.show()"
   ]
  },
  {
   "cell_type": "code",
   "execution_count": 79,
   "id": "55a1308a",
   "metadata": {},
   "outputs": [
    {
     "data": {
      "image/png": "[encoded data removed]",
      "text/plain": [
       "<Figure size 500x400 with 1 Axes>"
      ]
     },
     "metadata": {},
     "output_type": "display_data"
    }
   ],
   "source": [
    "from matplotlib import cbook\n",
    "import matplotlib.pyplot as plt\n",
    "import numpy as np\n",
    "\n",
    "\n",
    "def get_demo_image():\n",
    "    z = cbook.get_sample_data(\"axes_grid/bivariate_normal.npy\", np_load=True)\n",
    "    # z is a numpy array of 15x15\n",
    "    return z, (-3, 4, -4, 3)\n",
    "\n",
    "fig, ax = plt.subplots(figsize=[5, 4])\n",
    "\n",
    "# make data\n",
    "Z, extent = get_demo_image()\n",
    "Z2 = np.zeros((150, 150))\n",
    "ny, nx = Z.shape\n",
    "Z2[30:30+ny, 30:30+nx] = Z\n",
    "\n",
    "ax.imshow(Z2, extent=extent, origin=\"lower\")\n",
    "\n",
    "# inset axes....\n",
    "axins = ax.inset_axes([0.5, 0.5, 0.47, 0.47])\n",
    "axins.imshow(Z2, extent=extent, origin=\"lower\")\n",
    "# subregion of the original image\n",
    "x1, x2, y1, y2 = -1.5, -0.9, -2.5, -1.9\n",
    "axins.set_xlim(x1, x2)\n",
    "axins.set_ylim(y1, y2)\n",
    "axins.set_xticklabels([])\n",
    "axins.set_yticklabels([])\n",
    "\n",
    "# ax.indicate_inset_zoom(axins, edgecolor=\"black\")\n",
    "\n",
    "plt.show()"
   ]
  },
  {
   "cell_type": "code",
   "execution_count": null,
   "id": "6845ef54",
   "metadata": {},
   "outputs": [],
   "source": []
  }
 ],
 "metadata": {
  "kernelspec": {
   "display_name": "Python 3 (ipykernel)",
   "language": "python",
   "name": "python3"
  },
  "language_info": {
   "codemirror_mode": {
    "name": "ipython",
    "version": 3
   },
   "file_extension": ".py",
   "mimetype": "text/x-python",
   "name": "python",
   "nbconvert_exporter": "python",
   "pygments_lexer": "ipython3",
   "version": "3.11.4"
  }
 },
 "nbformat": 4,
 "nbformat_minor": 5
}
