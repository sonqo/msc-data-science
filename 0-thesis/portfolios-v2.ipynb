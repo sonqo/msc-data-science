{
 "cells": [
  {
   "cell_type": "code",
   "execution_count": 243,
   "id": "5a052f9b",
   "metadata": {},
   "outputs": [],
   "source": [
    "import os\n",
    "import numpy as np\n",
    "import pandas as pd\n",
    "import datetime as dt\n",
    "from scipy import stats\n",
    "import sqlalchemy as db\n",
    "from dotenv import load_dotenv\n",
    "import matplotlib.pyplot as plt\n",
    "from pandas.tseries.offsets import *\n",
    "\n",
    "np.seterr(divide = 'ignore')\n",
    "pd.set_option('display.max_rows', 500)"
   ]
  },
  {
   "cell_type": "code",
   "execution_count": 244,
   "id": "60a1e5e7",
   "metadata": {},
   "outputs": [],
   "source": [
    "load_dotenv()\n",
    "\n",
    "# config and credentials\n",
    "server = os.getenv('server')\n",
    "database = os.getenv('database')\n",
    "username = os.getenv('username')\n",
    "password = os.getenv('password')\n",
    "\n",
    "# connection\n",
    "engine = db.create_engine(\n",
    "    'mssql://{}:{}@{}/{}?driver=ODBC+Driver+18+for+SQL+Server'.format(\n",
    "        username, password, server, database\n",
    "    )\n",
    ")\n",
    "\n",
    "# establish connection\n",
    "connection = engine.connect()"
   ]
  },
  {
   "cell_type": "code",
   "execution_count": 3,
   "id": "6764cb89",
   "metadata": {},
   "outputs": [],
   "source": [
    "def get_sample_particulars(df):\n",
    "    print('Number of observations: {:,}'.format(len(df.index)))\n",
    "    print('Returns: Mean: {:.5f} | Median: {:.5f} | Std returns: {:.5f}'.format(\n",
    "        100 * df['R'].mean(), 100 * df['R'].median(), 100 * df['R'].std()))\n",
    "    print('Volume mean: {:.5f}'.format(df['TDvolume'].mean()))\n",
    "    print('Coupon mean: {:.5f}'.format(df['Coupon'].mean()))\n",
    "    print('Yield mean: {:.5f}'.format(df['Yield'].mean()))"
   ]
  },
  {
   "cell_type": "markdown",
   "id": "5ba6d2bb",
   "metadata": {},
   "source": [
    "### Query Selection"
   ]
  },
  {
   "cell_type": "code",
   "execution_count": 4,
   "id": "46fc8b35",
   "metadata": {},
   "outputs": [],
   "source": [
    "# vanilla\n",
    "bondReturns_vanilla = '''\n",
    "    SELECT\n",
    "        Date,\n",
    "        Cusip,\n",
    "        CompanySymbol,\n",
    "        Coupon,\n",
    "        Yield,\n",
    "        TDvolume,\n",
    "        RetEom / 100 AS R,\n",
    "        RatingNum,\n",
    "        RatingClass,\n",
    "        CASE\n",
    "            WHEN DATEDIFF(DAY, OfferingDate, Maturity) * 1.0 / 360 < 5 THEN 1\n",
    "            WHEN DATEDIFF(DAY, OfferingDate, Maturity) * 1.0 / 360 < 15 THEN 2\n",
    "            ELSE 3\n",
    "        END AS MaturityBand\n",
    "    FROM \n",
    "        BondReturns\n",
    "    WHERE\n",
    "        Cusip IN (SELECT DISTINCT CusipId FROM Trace_filtered_withRatings )\n",
    "'''\n",
    "\n",
    "# top performing bonds\n",
    "bondReturns_topPerforming = '''\n",
    "    SELECT\n",
    "        A.Date,\n",
    "        A.Cusip,\n",
    "        A.CompanySymbol,\n",
    "        A.Coupon,\n",
    "        A.Yield,\n",
    "        A.TDvolume,\n",
    "        A.RetEom / 100 AS R,\n",
    "        A.RatingNum,\n",
    "        A.RatingClass,\n",
    "        CASE\n",
    "            WHEN DATEDIFF(DAY, A.OfferingDate, A.Maturity) * 1.0 / 360 < 5 THEN 1\n",
    "            WHEN DATEDIFF(DAY, A.OfferingDate, A.Maturity) * 1.0 / 360 < 15 THEN 2\n",
    "            ELSE 3\n",
    "        END AS MaturityBand\n",
    "    FROM\n",
    "        BondReturns A\n",
    "    INNER JOIN (\n",
    "        SELECT\n",
    "            Date,\n",
    "            CompanySymbol,\n",
    "            MAX(TDvolume) AS MaxVolume\n",
    "        FROM \n",
    "            BondReturns\n",
    "        WHERE\n",
    "            Cusip IN (SELECT DISTINCT CusipId FROM Trace_filtered_withRatings)\n",
    "        GROUP BY\n",
    "            Date,\n",
    "            CompanySymbol\n",
    "    ) B ON A.Date = B.Date AND A.CompanySymbol = B.CompanySymbol AND A.TDvolume = B.MaxVolume\n",
    "'''"
   ]
  },
  {
   "cell_type": "code",
   "execution_count": 5,
   "id": "b4590732",
   "metadata": {},
   "outputs": [
    {
     "name": "stdout",
     "output_type": "stream",
     "text": [
      "Please type: vanilla | topPerforming\n",
      "vanilla\n"
     ]
    }
   ],
   "source": [
    "query_selection = input('Please type: vanilla | topPerforming\\n')"
   ]
  },
  {
   "cell_type": "code",
   "execution_count": 274,
   "id": "872a34b8",
   "metadata": {},
   "outputs": [],
   "source": [
    "if query_selection == 'vanilla':\n",
    "    query = bondReturns_vanilla\n",
    "    query_n = 'bondReturns_vanilla'\n",
    "else:\n",
    "    query = bondReturns_topPerforming\n",
    "    query_n = 'bondReturns_topPerforming'\n",
    "\n",
    "# read sql\n",
    "# df = pd.read_sql(query, connection)\n",
    "# df.to_csv('data/output/bonds/{}.csv'.format(query_n), index=False)\n",
    "\n",
    "# read csv\n",
    "df = pd.read_csv('data/output/bonds/{}.csv'.format(query_n))\n",
    "df['Date'] = pd.to_datetime(df['Date'])"
   ]
  },
  {
   "cell_type": "markdown",
   "id": "baca9eda",
   "metadata": {},
   "source": [
    "### Quantile Filtering and Outlier Visualization"
   ]
  },
  {
   "cell_type": "code",
   "execution_count": 275,
   "id": "e77aec74",
   "metadata": {},
   "outputs": [],
   "source": [
    "df['quantiles'] = pd.qcut(df.R, np.linspace(0, 1, 201), labels=np.linspace(0, 1, 200)).astype(float)\n",
    "df['outliers'] = np.where((df['quantiles'] > 0.995) | (df['quantiles'] < 0.005), 1, 0)\n",
    "df['Year'] = df['Date'].dt.year"
   ]
  },
  {
   "cell_type": "code",
   "execution_count": 276,
   "id": "4549431a",
   "metadata": {},
   "outputs": [
    {
     "data": {
      "image/png": "[encoded data removed]",
      "text/plain": [
       "<Figure size 1200x500 with 1 Axes>"
      ]
     },
     "metadata": {},
     "output_type": "display_data"
    }
   ],
   "source": [
    "df_g = df.groupby('Year')['outliers'].sum().reset_index()\n",
    "\n",
    "plt.figure(figsize=(12, 5))\n",
    "plt.title('Outliers Distribution')\n",
    "plt.bar(df_g['Year'], df_g['outliers'], width = 0.6)\n",
    "plt.xticks([i for i in range(2002, 2023)], fontsize=8)\n",
    "plt.show()"
   ]
  },
  {
   "cell_type": "code",
   "execution_count": 277,
   "id": "a8f46fdf",
   "metadata": {},
   "outputs": [],
   "source": [
    "# filter out outliers\n",
    "df = df[df['outliers'] == 0]"
   ]
  },
  {
   "cell_type": "markdown",
   "id": "ec23624e",
   "metadata": {},
   "source": [
    "### Exploratory Analysis"
   ]
  },
  {
   "cell_type": "code",
   "execution_count": 278,
   "id": "9484ce81",
   "metadata": {},
   "outputs": [
    {
     "data": {
      "text/plain": [
       "60013"
      ]
     },
     "execution_count": 278,
     "metadata": {},
     "output_type": "execute_result"
    }
   ],
   "source": [
    "df['Cusip'].nunique()"
   ]
  },
  {
   "cell_type": "code",
   "execution_count": 279,
   "id": "91690134",
   "metadata": {},
   "outputs": [
    {
     "data": {
      "text/plain": [
       "0.IG    1081436\n",
       "1.HY     227090\n",
       "NaN      138051\n",
       "Name: RatingClass, dtype: int64"
      ]
     },
     "execution_count": 279,
     "metadata": {},
     "output_type": "execute_result"
    }
   ],
   "source": [
    "# number of entries\n",
    "df['RatingClass'].value_counts(dropna=False)"
   ]
  },
  {
   "cell_type": "code",
   "execution_count": 280,
   "id": "4c391225",
   "metadata": {},
   "outputs": [
    {
     "data": {
      "text/plain": [
       "RatingClass\n",
       "0.IG    22601\n",
       "1.HY     5662\n",
       "NaN     38275\n",
       "Name: Cusip, dtype: int64"
      ]
     },
     "execution_count": 280,
     "metadata": {},
     "output_type": "execute_result"
    }
   ],
   "source": [
    "# number of distinct Cusips\n",
    "df.groupby('RatingClass', dropna=False).Cusip.nunique()"
   ]
  },
  {
   "cell_type": "code",
   "execution_count": 281,
   "id": "253eb4e5",
   "metadata": {},
   "outputs": [
    {
     "data": {
      "text/plain": [
       "2    844810\n",
       "3    386935\n",
       "1     78071\n",
       "Name: MaturityBand, dtype: int64"
      ]
     },
     "execution_count": 281,
     "metadata": {},
     "output_type": "execute_result"
    }
   ],
   "source": [
    "# drop NR\n",
    "df = df.dropna(subset=['RatingNum'])\n",
    "\n",
    "# number of entries\n",
    "df['MaturityBand'].value_counts(dropna=False)"
   ]
  },
  {
   "cell_type": "code",
   "execution_count": 282,
   "id": "510b02ca",
   "metadata": {},
   "outputs": [
    {
     "data": {
      "text/plain": [
       "MaturityBand\n",
       "1     4327\n",
       "2    17281\n",
       "3     4484\n",
       "Name: Cusip, dtype: int64"
      ]
     },
     "execution_count": 282,
     "metadata": {},
     "output_type": "execute_result"
    }
   ],
   "source": [
    "# number of distinct Cusips\n",
    "df.groupby('MaturityBand').Cusip.nunique()"
   ]
  },
  {
   "cell_type": "code",
   "execution_count": 283,
   "id": "5279fc8f",
   "metadata": {},
   "outputs": [
    {
     "data": {
      "text/plain": [
       "26092"
      ]
     },
     "execution_count": 283,
     "metadata": {},
     "output_type": "execute_result"
    }
   ],
   "source": [
    "df['Cusip'].nunique()"
   ]
  },
  {
   "cell_type": "code",
   "execution_count": 284,
   "id": "98565e7a",
   "metadata": {},
   "outputs": [],
   "source": [
    "# filtering\n",
    "# df = df[df['MaturityBand'] == 1]\n",
    "# df = df[df['RatingClass'] == '1.HY']"
   ]
  },
  {
   "cell_type": "code",
   "execution_count": 285,
   "id": "f400fc67",
   "metadata": {},
   "outputs": [
    {
     "name": "stdout",
     "output_type": "stream",
     "text": [
      "Number of observations: 1,309,816\n",
      "Returns: Mean: 0.40973 | Median: 0.29740 | Std returns: 2.68072\n",
      "Volume mean: 51078836.47833\n",
      "Coupon mean: 5.32929\n",
      "Yield mean: 4.40405\n"
     ]
    }
   ],
   "source": [
    "get_sample_particulars(df)"
   ]
  },
  {
   "cell_type": "markdown",
   "id": "09eb3055",
   "metadata": {},
   "source": [
    "### Portfolio Analysis"
   ]
  },
  {
   "cell_type": "code",
   "execution_count": 286,
   "id": "f5edd7a5",
   "metadata": {},
   "outputs": [],
   "source": [
    "# fill NULL returns\n",
    "df['R'] = df['R'].fillna(0)\n",
    "\n",
    "# log returns\n",
    "df['logR'] = np.log(1 + df['R'])"
   ]
  },
  {
   "cell_type": "code",
   "execution_count": 287,
   "id": "4fcdb723",
   "metadata": {},
   "outputs": [],
   "source": [
    "J = 3 # formation period\n",
    "\n",
    "df_ = df[\n",
    "    ['Cusip', 'Date', 'R', 'logR']\n",
    "].sort_values(['Cusip', 'Date']).set_index('Date')\n",
    "\n",
    "cumr = df_.groupby(['Cusip'])['logR'].rolling(J, min_periods=J).sum().reset_index()\n",
    "cumr = cumr.rename(columns = {'logR': 'SumLogR'})\n",
    "\n",
    "cumr['CumRet'] = np.exp(cumr['SumLogR'])-1"
   ]
  },
  {
   "cell_type": "code",
   "execution_count": 288,
   "id": "df7ced8b",
   "metadata": {},
   "outputs": [],
   "source": [
    "r = 10 # momentum ranking\n",
    "\n",
    "cumr = cumr.dropna(axis=0, subset=['CumRet'])\n",
    "\n",
    "cumr['MomR'] = cumr.groupby('Date')['CumRet'].transform(lambda x: pd.qcut(x, r, labels=False))\n",
    "cumr['MomR'] = 1 + cumr['MomR'].astype(int)"
   ]
  },
  {
   "cell_type": "code",
   "execution_count": 289,
   "id": "33a68ede",
   "metadata": {},
   "outputs": [
    {
     "data": {
      "text/plain": [
       "MomR\n",
       "1    -0.044013\n",
       "2    -0.014981\n",
       "3    -0.005499\n",
       "4     0.001344\n",
       "5     0.007316\n",
       "6     0.013345\n",
       "7     0.019952\n",
       "8     0.028274\n",
       "9     0.040829\n",
       "10    0.077163\n",
       "Name: CumRet, dtype: float64"
      ]
     },
     "execution_count": 289,
     "metadata": {},
     "output_type": "execute_result"
    }
   ],
   "source": [
    "cumr.groupby('MomR')['CumRet'].mean()"
   ]
  },
  {
   "cell_type": "code",
   "execution_count": 291,
   "id": "2eeee8db",
   "metadata": {},
   "outputs": [],
   "source": [
    "K = 3 # Holding Period Length: K can be between 3 to 12 months\n",
    "\n",
    "cumr['form_date'] = cumr['Date']\n",
    "cumr['medate'] = cumr['Date'] + MonthEnd(0)\n",
    "cumr['hdate1'] = cumr['medate'] + MonthBegin(1)\n",
    "cumr['hdate2'] = cumr['medate'] + MonthEnd(K)\n",
    "cumr = cumr[['Cusip', 'form_date','MomR','hdate1','hdate2', 'CumRet']]\n",
    "\n",
    "port = pd.merge(df[['Cusip', 'Date', 'R']], cumr, on=['Cusip'], how='inner')\n",
    "port = port[(port['hdate1'] <= port['Date']) & (port['Date'] <= port['hdate2'])]\n",
    "port = port[['Cusip','form_date', 'MomR', 'hdate1','hdate2', 'Date', 'R', 'CumRet']]\n",
    "port['Date'] = pd.to_datetime(port['Date'])"
   ]
  },
  {
   "cell_type": "code",
   "execution_count": 292,
   "id": "191008cc",
   "metadata": {},
   "outputs": [],
   "source": [
    "cumr_port = port.groupby(['Date','MomR', 'form_date'])['CumRet'].mean().reset_index()\n",
    "\n",
    "start_yr = cumr_port['Date'].dt.year.min()+2\n",
    "cumr_port = cumr_port.loc[cumr_port.Date.dt.year >= start_yr]\n",
    "cumr_port = cumr_port.sort_values(by=['Date','MomR'])\n",
    "\n",
    "ewret = cumr_port.groupby(['Date','MomR'])['CumRet'].mean().reset_index()\n",
    "ewstd = cumr_port.groupby(['Date','MomR'])['CumRet'].std().reset_index()\n",
    "\n",
    "ewret = ewret.rename(columns={'CumRet':'ewret'})\n",
    "ewstd = ewstd.rename(columns={'CumRet':'ewretstd'})\n",
    "\n",
    "ewretdf = pd.merge(ewret, ewstd, on=['Date','MomR'], how='inner')\n",
    "ewretdf = ewretdf.sort_values(by=['MomR', 'Date'])"
   ]
  },
  {
   "cell_type": "code",
   "execution_count": 293,
   "id": "a025a20a",
   "metadata": {},
   "outputs": [
    {
     "data": {
      "text/html": [
       "<div>\n",
       "<style scoped>\n",
       "    .dataframe tbody tr th:only-of-type {\n",
       "        vertical-align: middle;\n",
       "    }\n",
       "\n",
       "    .dataframe tbody tr th {\n",
       "        vertical-align: top;\n",
       "    }\n",
       "\n",
       "    .dataframe thead th {\n",
       "        text-align: right;\n",
       "    }\n",
       "</style>\n",
       "<table border=\"1\" class=\"dataframe\">\n",
       "  <thead>\n",
       "    <tr style=\"text-align: right;\">\n",
       "      <th></th>\n",
       "      <th>MomR</th>\n",
       "      <th>count</th>\n",
       "      <th>mean</th>\n",
       "      <th>std</th>\n",
       "    </tr>\n",
       "  </thead>\n",
       "  <tbody>\n",
       "    <tr>\n",
       "      <th>0</th>\n",
       "      <td>1</td>\n",
       "      <td>225.0</td>\n",
       "      <td>-0.043448</td>\n",
       "      <td>0.034616</td>\n",
       "    </tr>\n",
       "    <tr>\n",
       "      <th>1</th>\n",
       "      <td>2</td>\n",
       "      <td>225.0</td>\n",
       "      <td>-0.014726</td>\n",
       "      <td>0.025230</td>\n",
       "    </tr>\n",
       "    <tr>\n",
       "      <th>2</th>\n",
       "      <td>3</td>\n",
       "      <td>225.0</td>\n",
       "      <td>-0.005097</td>\n",
       "      <td>0.020418</td>\n",
       "    </tr>\n",
       "    <tr>\n",
       "      <th>3</th>\n",
       "      <td>4</td>\n",
       "      <td>225.0</td>\n",
       "      <td>0.001777</td>\n",
       "      <td>0.017823</td>\n",
       "    </tr>\n",
       "    <tr>\n",
       "      <th>4</th>\n",
       "      <td>5</td>\n",
       "      <td>225.0</td>\n",
       "      <td>0.007764</td>\n",
       "      <td>0.016841</td>\n",
       "    </tr>\n",
       "    <tr>\n",
       "      <th>5</th>\n",
       "      <td>6</td>\n",
       "      <td>225.0</td>\n",
       "      <td>0.013776</td>\n",
       "      <td>0.017038</td>\n",
       "    </tr>\n",
       "    <tr>\n",
       "      <th>6</th>\n",
       "      <td>7</td>\n",
       "      <td>225.0</td>\n",
       "      <td>0.020392</td>\n",
       "      <td>0.018517</td>\n",
       "    </tr>\n",
       "    <tr>\n",
       "      <th>7</th>\n",
       "      <td>8</td>\n",
       "      <td>225.0</td>\n",
       "      <td>0.028702</td>\n",
       "      <td>0.021575</td>\n",
       "    </tr>\n",
       "    <tr>\n",
       "      <th>8</th>\n",
       "      <td>9</td>\n",
       "      <td>225.0</td>\n",
       "      <td>0.041210</td>\n",
       "      <td>0.026875</td>\n",
       "    </tr>\n",
       "    <tr>\n",
       "      <th>9</th>\n",
       "      <td>10</td>\n",
       "      <td>225.0</td>\n",
       "      <td>0.076892</td>\n",
       "      <td>0.040249</td>\n",
       "    </tr>\n",
       "  </tbody>\n",
       "</table>\n",
       "</div>"
      ],
      "text/plain": [
       "   MomR  count      mean       std\n",
       "0     1  225.0 -0.043448  0.034616\n",
       "1     2  225.0 -0.014726  0.025230\n",
       "2     3  225.0 -0.005097  0.020418\n",
       "3     4  225.0  0.001777  0.017823\n",
       "4     5  225.0  0.007764  0.016841\n",
       "5     6  225.0  0.013776  0.017038\n",
       "6     7  225.0  0.020392  0.018517\n",
       "7     8  225.0  0.028702  0.021575\n",
       "8     9  225.0  0.041210  0.026875\n",
       "9    10  225.0  0.076892  0.040249"
      ]
     },
     "execution_count": 293,
     "metadata": {},
     "output_type": "execute_result"
    }
   ],
   "source": [
    "ewretdf.groupby(['MomR'])['ewret'].describe()[['count','mean', 'std']].reset_index()"
   ]
  },
  {
   "cell_type": "code",
   "execution_count": 295,
   "id": "0d041aed",
   "metadata": {},
   "outputs": [
    {
     "data": {
      "text/html": [
       "<div>\n",
       "<style scoped>\n",
       "    .dataframe tbody tr th:only-of-type {\n",
       "        vertical-align: middle;\n",
       "    }\n",
       "\n",
       "    .dataframe tbody tr th {\n",
       "        vertical-align: top;\n",
       "    }\n",
       "\n",
       "    .dataframe thead th {\n",
       "        text-align: right;\n",
       "    }\n",
       "</style>\n",
       "<table border=\"1\" class=\"dataframe\">\n",
       "  <thead>\n",
       "    <tr style=\"text-align: right;\">\n",
       "      <th>MomR</th>\n",
       "      <th>losers</th>\n",
       "      <th>port2</th>\n",
       "      <th>port3</th>\n",
       "      <th>port4</th>\n",
       "      <th>port5</th>\n",
       "      <th>port6</th>\n",
       "      <th>port7</th>\n",
       "      <th>port8</th>\n",
       "      <th>port9</th>\n",
       "      <th>winners</th>\n",
       "      <th>long_short</th>\n",
       "    </tr>\n",
       "    <tr>\n",
       "      <th>Date</th>\n",
       "      <th></th>\n",
       "      <th></th>\n",
       "      <th></th>\n",
       "      <th></th>\n",
       "      <th></th>\n",
       "      <th></th>\n",
       "      <th></th>\n",
       "      <th></th>\n",
       "      <th></th>\n",
       "      <th></th>\n",
       "      <th></th>\n",
       "    </tr>\n",
       "  </thead>\n",
       "  <tbody>\n",
       "    <tr>\n",
       "      <th>2004-01-31</th>\n",
       "      <td>-0.027718</td>\n",
       "      <td>-0.000733</td>\n",
       "      <td>0.004703</td>\n",
       "      <td>0.009398</td>\n",
       "      <td>0.014901</td>\n",
       "      <td>0.021604</td>\n",
       "      <td>0.029777</td>\n",
       "      <td>0.041311</td>\n",
       "      <td>0.059218</td>\n",
       "      <td>0.111809</td>\n",
       "      <td>0.139527</td>\n",
       "    </tr>\n",
       "    <tr>\n",
       "      <th>2004-02-29</th>\n",
       "      <td>-0.020733</td>\n",
       "      <td>0.000968</td>\n",
       "      <td>0.006120</td>\n",
       "      <td>0.010882</td>\n",
       "      <td>0.016165</td>\n",
       "      <td>0.022514</td>\n",
       "      <td>0.030232</td>\n",
       "      <td>0.041486</td>\n",
       "      <td>0.059308</td>\n",
       "      <td>0.114121</td>\n",
       "      <td>0.134854</td>\n",
       "    </tr>\n",
       "    <tr>\n",
       "      <th>2004-03-31</th>\n",
       "      <td>-0.019259</td>\n",
       "      <td>0.001238</td>\n",
       "      <td>0.006509</td>\n",
       "      <td>0.010913</td>\n",
       "      <td>0.015521</td>\n",
       "      <td>0.020960</td>\n",
       "      <td>0.027565</td>\n",
       "      <td>0.036958</td>\n",
       "      <td>0.052238</td>\n",
       "      <td>0.102188</td>\n",
       "      <td>0.121447</td>\n",
       "    </tr>\n",
       "    <tr>\n",
       "      <th>2004-04-30</th>\n",
       "      <td>-0.018717</td>\n",
       "      <td>0.003937</td>\n",
       "      <td>0.009479</td>\n",
       "      <td>0.014754</td>\n",
       "      <td>0.020004</td>\n",
       "      <td>0.025602</td>\n",
       "      <td>0.031786</td>\n",
       "      <td>0.039851</td>\n",
       "      <td>0.052587</td>\n",
       "      <td>0.092633</td>\n",
       "      <td>0.111350</td>\n",
       "    </tr>\n",
       "    <tr>\n",
       "      <th>2004-05-31</th>\n",
       "      <td>-0.033581</td>\n",
       "      <td>-0.004739</td>\n",
       "      <td>0.002196</td>\n",
       "      <td>0.007918</td>\n",
       "      <td>0.012995</td>\n",
       "      <td>0.017851</td>\n",
       "      <td>0.022902</td>\n",
       "      <td>0.029331</td>\n",
       "      <td>0.039379</td>\n",
       "      <td>0.071755</td>\n",
       "      <td>0.105336</td>\n",
       "    </tr>\n",
       "  </tbody>\n",
       "</table>\n",
       "</div>"
      ],
      "text/plain": [
       "MomR          losers     port2     port3     port4     port5     port6  \\\n",
       "Date                                                                     \n",
       "2004-01-31 -0.027718 -0.000733  0.004703  0.009398  0.014901  0.021604   \n",
       "2004-02-29 -0.020733  0.000968  0.006120  0.010882  0.016165  0.022514   \n",
       "2004-03-31 -0.019259  0.001238  0.006509  0.010913  0.015521  0.020960   \n",
       "2004-04-30 -0.018717  0.003937  0.009479  0.014754  0.020004  0.025602   \n",
       "2004-05-31 -0.033581 -0.004739  0.002196  0.007918  0.012995  0.017851   \n",
       "\n",
       "MomR           port7     port8     port9   winners  long_short  \n",
       "Date                                                            \n",
       "2004-01-31  0.029777  0.041311  0.059218  0.111809    0.139527  \n",
       "2004-02-29  0.030232  0.041486  0.059308  0.114121    0.134854  \n",
       "2004-03-31  0.027565  0.036958  0.052238  0.102188    0.121447  \n",
       "2004-04-30  0.031786  0.039851  0.052587  0.092633    0.111350  \n",
       "2004-05-31  0.022902  0.029331  0.039379  0.071755    0.105336  "
      ]
     },
     "execution_count": 295,
     "metadata": {},
     "output_type": "execute_result"
    }
   ],
   "source": [
    "ewret_t = ewretdf.pivot(index='Date', columns='MomR', values='ewret') \n",
    "\n",
    "# Add prefix port in front of each column \n",
    "ewret_t = ewret_t.add_prefix('port') \n",
    "ewret_t = ewret_t.rename(columns={'port1':'losers', 'port10':'winners'}) \n",
    "ewret_t['long_short'] = ewret_t.winners - ewret_t.losers\n",
    "ewret_t.head()"
   ]
  },
  {
   "cell_type": "code",
   "execution_count": 296,
   "id": "982f2fa7",
   "metadata": {},
   "outputs": [
    {
     "data": {
      "text/html": [
       "<div>\n",
       "<style scoped>\n",
       "    .dataframe tbody tr th:only-of-type {\n",
       "        vertical-align: middle;\n",
       "    }\n",
       "\n",
       "    .dataframe tbody tr th {\n",
       "        vertical-align: top;\n",
       "    }\n",
       "\n",
       "    .dataframe thead th {\n",
       "        text-align: right;\n",
       "    }\n",
       "</style>\n",
       "<table border=\"1\" class=\"dataframe\">\n",
       "  <thead>\n",
       "    <tr style=\"text-align: right;\">\n",
       "      <th></th>\n",
       "      <th>MomR</th>\n",
       "      <th>mean</th>\n",
       "    </tr>\n",
       "  </thead>\n",
       "  <tbody>\n",
       "    <tr>\n",
       "      <th>0</th>\n",
       "      <td>winners</td>\n",
       "      <td>0.076892</td>\n",
       "    </tr>\n",
       "    <tr>\n",
       "      <th>1</th>\n",
       "      <td>losers</td>\n",
       "      <td>-0.043448</td>\n",
       "    </tr>\n",
       "    <tr>\n",
       "      <th>2</th>\n",
       "      <td>long_short</td>\n",
       "      <td>0.120340</td>\n",
       "    </tr>\n",
       "  </tbody>\n",
       "</table>\n",
       "</div>"
      ],
      "text/plain": [
       "         MomR      mean\n",
       "0     winners  0.076892\n",
       "1      losers -0.043448\n",
       "2  long_short  0.120340"
      ]
     },
     "execution_count": 296,
     "metadata": {},
     "output_type": "execute_result"
    }
   ],
   "source": [
    "ewret_t['cumret_winners'] = (1 + ewret_t.winners).cumprod() - 1 \n",
    "ewret_t['cumret_losers'] = (1 + ewret_t.losers).cumprod() - 1\n",
    "ewret_t['cumret_long_short'] = (1 + ewret_t.long_short).cumprod() - 1\n",
    "\n",
    "mom_mean = ewret_t[['winners', 'losers', 'long_short']].mean().to_frame() \n",
    "mom_mean = mom_mean.rename(columns={0:'mean'}).reset_index() \n",
    "mom_mean"
   ]
  },
  {
   "cell_type": "code",
   "execution_count": 297,
   "id": "2b4a08fd",
   "metadata": {},
   "outputs": [],
   "source": [
    "t_losers = pd.Series(stats.ttest_1samp(ewret_t['losers'], 0.0)).to_frame().T \n",
    "t_winners = pd.Series(stats.ttest_1samp(ewret_t['winners'], 0.0)).to_frame().T \n",
    "t_long_short = pd.Series(stats.ttest_1samp(ewret_t['long_short'], 0.0)).to_frame().T\n",
    "\n",
    "t_losers['MomR'] = 'losers' \n",
    "t_winners['MomR'] = 'winners' \n",
    "t_long_short['MomR'] = 'long_short'"
   ]
  },
  {
   "cell_type": "code",
   "execution_count": 298,
   "id": "48920137",
   "metadata": {},
   "outputs": [
    {
     "name": "stdout",
     "output_type": "stream",
     "text": [
      "Momentum Strategy Summary:\n",
      "\n",
      "          MomR    mean  t-stat p-value\n",
      "0     winners   7.69%   28.66    0.00\n",
      "1      losers  -4.34%  -18.83    0.00\n",
      "2  long_short  12.03%   36.28    0.00\n"
     ]
    }
   ],
   "source": [
    "t_output = pd.concat([t_winners, t_losers, t_long_short]).rename(columns={0:'t-stat', 1:'p-value'}) \n",
    "\n",
    "# Combine mean, t and p and format output \n",
    "mom_output = pd.merge(mom_mean, t_output, on=['MomR'], how='inner')\n",
    "\n",
    "mom_output['mean'] = mom_output['mean'].map('{:.2%}'.format) \n",
    "mom_output['t-stat'] = mom_output['t-stat'].map('{:.2f}'.format) \n",
    "mom_output['p-value'] = mom_output['p-value'].map('{:.2f}'.format) \n",
    "\n",
    "print('Momentum Strategy Summary:\\n\\n', mom_output)"
   ]
  },
  {
   "cell_type": "code",
   "execution_count": 328,
   "id": "92fe6de4",
   "metadata": {},
   "outputs": [
    {
     "data": {
      "text/plain": [
       "<matplotlib.legend.Legend at 0x7f6e41a5ca90>"
      ]
     },
     "execution_count": 328,
     "metadata": {},
     "output_type": "execute_result"
    },
    {
     "data": {
      "image/png": "[encoded data removed]",
      "text/plain": [
       "<Figure size 1600x1200 with 3 Axes>"
      ]
     },
     "metadata": {},
     "output_type": "display_data"
    }
   ],
   "source": [
    "plt.figure(figsize=(16, 12)) \n",
    "plt.suptitle('Momentum Strategy', fontsize=20) \n",
    "\n",
    "ax1 = plt.subplot(311) \n",
    "ax1.set_title('Long/Short Momentum Strategy', fontsize=15) \n",
    "ax1.plot(ewret_t['cumret_long_short'])\n",
    "ax1.set_yscale('log')\n",
    "\n",
    "ax2 = plt.subplot(312) \n",
    "ax2.set_title('Cumulative Momentum Portfolios', fontsize=15)\n",
    "ax2.plot(ewret_t['cumret_winners'], 'b-') \n",
    "ax2.legend(('Winners','Losers'), loc='upper left', shadow=True) \n",
    "ax2.set_yscale('log')\n",
    "\n",
    "ax3 = plt.subplot(313) \n",
    "ax3.set_title('Cumulative Momentum Portfolios', fontsize=15)\n",
    "ax3.plot(ewret_t['cumret_losers'], 'r--') \n",
    "ax3.legend(('Winners','Losers'), loc='upper left', shadow=True) \n",
    "# ax3.set_yscale('log')"
   ]
  },
  {
   "cell_type": "code",
   "execution_count": null,
   "id": "ff1f96ba",
   "metadata": {},
   "outputs": [],
   "source": []
  }
 ],
 "metadata": {
  "kernelspec": {
   "display_name": "Python 3 (ipykernel)",
   "language": "python",
   "name": "python3"
  },
  "language_info": {
   "codemirror_mode": {
    "name": "ipython",
    "version": 3
   },
   "file_extension": ".py",
   "mimetype": "text/x-python",
   "name": "python",
   "nbconvert_exporter": "python",
   "pygments_lexer": "ipython3",
   "version": "3.10.12"
  }
 },
 "nbformat": 4,
 "nbformat_minor": 5
}
