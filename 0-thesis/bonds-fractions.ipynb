{
 "cells": [
  {
   "cell_type": "code",
   "execution_count": 2,
   "id": "c03e255b",
   "metadata": {},
   "outputs": [],
   "source": [
    "import os\n",
    "import pandas as pd\n",
    "import sqlalchemy as db\n",
    "from dotenv import load_dotenv"
   ]
  },
  {
   "cell_type": "code",
   "execution_count": 3,
   "id": "a64df0cc",
   "metadata": {},
   "outputs": [],
   "source": [
    "load_dotenv()\n",
    "\n",
    "# config and credentials\n",
    "server = os.getenv('server')\n",
    "database = os.getenv('database')\n",
    "username = os.getenv('username')\n",
    "password = os.getenv('password')\n",
    "\n",
    "# connection\n",
    "engine = db.create_engine(\n",
    "    'mssql://{}:{}@{}/{}?driver=ODBC+Driver+18+for+SQL+Server'.format(\n",
    "        username, password, server, database\n",
    "    )\n",
    ")\n",
    "\n",
    "# establish connection\n",
    "connection = engine.connect()"
   ]
  },
  {
   "cell_type": "code",
   "execution_count": 14,
   "id": "b1dfd094",
   "metadata": {},
   "outputs": [],
   "source": [
    "query = '''\n",
    "    SELECT\n",
    "        *\n",
    "    FROM \n",
    "        BondFractions\n",
    "'''\n",
    "\n",
    "# df = pd.read_sql(query, connection)\n",
    "# df.to_csv('data/output/fractions.csv', index=False)\n",
    "df = pd.read_csv('data/output/fractions.csv')"
   ]
  },
  {
   "cell_type": "code",
   "execution_count": 15,
   "id": "2879d7b1",
   "metadata": {},
   "outputs": [
    {
     "data": {
      "text/html": [
       "<div>\n",
       "<style scoped>\n",
       "    .dataframe tbody tr th:only-of-type {\n",
       "        vertical-align: middle;\n",
       "    }\n",
       "\n",
       "    .dataframe tbody tr th {\n",
       "        vertical-align: top;\n",
       "    }\n",
       "\n",
       "    .dataframe thead th {\n",
       "        text-align: right;\n",
       "    }\n",
       "</style>\n",
       "<table border=\"1\" class=\"dataframe\">\n",
       "  <thead>\n",
       "    <tr style=\"text-align: right;\">\n",
       "      <th></th>\n",
       "      <th>CusipId</th>\n",
       "      <th>TrdExctnDt</th>\n",
       "      <th>StdRetailFraction</th>\n",
       "      <th>StdInstitunionalFraction</th>\n",
       "    </tr>\n",
       "  </thead>\n",
       "  <tbody>\n",
       "    <tr>\n",
       "      <th>0</th>\n",
       "      <td>202795FR6</td>\n",
       "      <td>2002-07-05</td>\n",
       "      <td>-0.373145</td>\n",
       "      <td>0.879606</td>\n",
       "    </tr>\n",
       "    <tr>\n",
       "      <th>1</th>\n",
       "      <td>345397RS4</td>\n",
       "      <td>2002-07-05</td>\n",
       "      <td>0.423643</td>\n",
       "      <td>-1.339985</td>\n",
       "    </tr>\n",
       "    <tr>\n",
       "      <th>2</th>\n",
       "      <td>001546AC4</td>\n",
       "      <td>2002-07-05</td>\n",
       "      <td>-0.373145</td>\n",
       "      <td>-1.339985</td>\n",
       "    </tr>\n",
       "    <tr>\n",
       "      <th>3</th>\n",
       "      <td>191216AJ9</td>\n",
       "      <td>2002-07-05</td>\n",
       "      <td>-0.373145</td>\n",
       "      <td>0.879606</td>\n",
       "    </tr>\n",
       "    <tr>\n",
       "      <th>4</th>\n",
       "      <td>87612EAJ5</td>\n",
       "      <td>2002-07-05</td>\n",
       "      <td>1.283782</td>\n",
       "      <td>0.879606</td>\n",
       "    </tr>\n",
       "  </tbody>\n",
       "</table>\n",
       "</div>"
      ],
      "text/plain": [
       "     CusipId TrdExctnDt  StdRetailFraction  StdInstitunionalFraction\n",
       "0  202795FR6 2002-07-05          -0.373145                  0.879606\n",
       "1  345397RS4 2002-07-05           0.423643                 -1.339985\n",
       "2  001546AC4 2002-07-05          -0.373145                 -1.339985\n",
       "3  191216AJ9 2002-07-05          -0.373145                  0.879606\n",
       "4  87612EAJ5 2002-07-05           1.283782                  0.879606"
      ]
     },
     "execution_count": 15,
     "metadata": {},
     "output_type": "execute_result"
    }
   ],
   "source": [
    "df['TrdExctnDt'] = pd.to_datetime(df['TrdExctnDt'])\n",
    "df.head()"
   ]
  },
  {
   "cell_type": "code",
   "execution_count": 16,
   "id": "b573b70d",
   "metadata": {},
   "outputs": [],
   "source": [
    "df = df.sort_values(['CusipId', 'TrdExctnDt'])"
   ]
  },
  {
   "cell_type": "code",
   "execution_count": 25,
   "id": "1dbcb8e8",
   "metadata": {},
   "outputs": [],
   "source": [
    "df = df.set_index('CusipId')"
   ]
  },
  {
   "cell_type": "code",
   "execution_count": 26,
   "id": "ce2a9e1e",
   "metadata": {},
   "outputs": [],
   "source": [
    "df_shift = df.groupby(level='CusipId')[['StdRetailFraction', 'StdInstitunionalFraction']].shift(-1)"
   ]
  },
  {
   "cell_type": "code",
   "execution_count": null,
   "id": "4e5dfba2",
   "metadata": {},
   "outputs": [],
   "source": [
    "sonqo = df.join(df_shift.rename(columns=lambda x: x+\"_lag\"))"
   ]
  },
  {
   "cell_type": "code",
   "execution_count": null,
   "id": "6866d723",
   "metadata": {},
   "outputs": [],
   "source": [
    "sonqo"
   ]
  },
  {
   "cell_type": "code",
   "execution_count": null,
   "id": "9315665b",
   "metadata": {},
   "outputs": [],
   "source": []
  }
 ],
 "metadata": {
  "kernelspec": {
   "display_name": "Python 3 (ipykernel)",
   "language": "python",
   "name": "python3"
  },
  "language_info": {
   "codemirror_mode": {
    "name": "ipython",
    "version": 3
   },
   "file_extension": ".py",
   "mimetype": "text/x-python",
   "name": "python",
   "nbconvert_exporter": "python",
   "pygments_lexer": "ipython3",
   "version": "3.10.12"
  }
 },
 "nbformat": 4,
 "nbformat_minor": 5
}
