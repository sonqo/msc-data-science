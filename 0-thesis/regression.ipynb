{
 "cells": [
  {
   "cell_type": "code",
   "execution_count": 46,
   "id": "cde8ac56",
   "metadata": {},
   "outputs": [],
   "source": [
    "import pandas as pd\n",
    "import numpy as np\n",
    "import statsmodels.api as sn\n",
    "import matplotlib.pyplot as plt"
   ]
  },
  {
   "cell_type": "code",
   "execution_count": 61,
   "id": "5ae279b1",
   "metadata": {},
   "outputs": [
    {
     "data": {
      "text/html": [
       "<div>\n",
       "<style scoped>\n",
       "    .dataframe tbody tr th:only-of-type {\n",
       "        vertical-align: middle;\n",
       "    }\n",
       "\n",
       "    .dataframe tbody tr th {\n",
       "        vertical-align: top;\n",
       "    }\n",
       "\n",
       "    .dataframe thead th {\n",
       "        text-align: right;\n",
       "    }\n",
       "</style>\n",
       "<table border=\"1\" class=\"dataframe\">\n",
       "  <thead>\n",
       "    <tr style=\"text-align: right;\">\n",
       "      <th></th>\n",
       "      <th>Datadate</th>\n",
       "      <th>MktRf</th>\n",
       "      <th>Smb</th>\n",
       "      <th>Hml</th>\n",
       "      <th>Rmw</th>\n",
       "      <th>Cma</th>\n",
       "      <th>Rf</th>\n",
       "      <th>Rm</th>\n",
       "      <th>AbsoluteRm</th>\n",
       "      <th>SquaredRm</th>\n",
       "      <th>Measure</th>\n",
       "      <th>LeftTail</th>\n",
       "      <th>RightTail</th>\n",
       "    </tr>\n",
       "  </thead>\n",
       "  <tbody>\n",
       "    <tr>\n",
       "      <th>1</th>\n",
       "      <td>2002-01-03</td>\n",
       "      <td>0.99</td>\n",
       "      <td>0.77</td>\n",
       "      <td>-0.40</td>\n",
       "      <td>-0.30</td>\n",
       "      <td>-0.80</td>\n",
       "      <td>0.007</td>\n",
       "      <td>0.997</td>\n",
       "      <td>0.997</td>\n",
       "      <td>0.994009</td>\n",
       "      <td>0.010510</td>\n",
       "      <td>0</td>\n",
       "      <td>0</td>\n",
       "    </tr>\n",
       "    <tr>\n",
       "      <th>2</th>\n",
       "      <td>2002-01-04</td>\n",
       "      <td>0.70</td>\n",
       "      <td>0.20</td>\n",
       "      <td>0.39</td>\n",
       "      <td>-0.08</td>\n",
       "      <td>-0.23</td>\n",
       "      <td>0.007</td>\n",
       "      <td>0.707</td>\n",
       "      <td>0.707</td>\n",
       "      <td>0.499849</td>\n",
       "      <td>0.008074</td>\n",
       "      <td>0</td>\n",
       "      <td>0</td>\n",
       "    </tr>\n",
       "    <tr>\n",
       "      <th>3</th>\n",
       "      <td>2002-01-07</td>\n",
       "      <td>-0.70</td>\n",
       "      <td>-0.24</td>\n",
       "      <td>0.85</td>\n",
       "      <td>-0.07</td>\n",
       "      <td>0.16</td>\n",
       "      <td>0.007</td>\n",
       "      <td>-0.693</td>\n",
       "      <td>0.693</td>\n",
       "      <td>0.480249</td>\n",
       "      <td>0.001003</td>\n",
       "      <td>0</td>\n",
       "      <td>0</td>\n",
       "    </tr>\n",
       "    <tr>\n",
       "      <th>4</th>\n",
       "      <td>2002-01-08</td>\n",
       "      <td>-0.23</td>\n",
       "      <td>1.21</td>\n",
       "      <td>0.29</td>\n",
       "      <td>-0.21</td>\n",
       "      <td>-0.01</td>\n",
       "      <td>0.007</td>\n",
       "      <td>-0.223</td>\n",
       "      <td>0.223</td>\n",
       "      <td>0.049729</td>\n",
       "      <td>0.004037</td>\n",
       "      <td>0</td>\n",
       "      <td>0</td>\n",
       "    </tr>\n",
       "    <tr>\n",
       "      <th>5</th>\n",
       "      <td>2002-01-09</td>\n",
       "      <td>-0.45</td>\n",
       "      <td>0.08</td>\n",
       "      <td>-0.11</td>\n",
       "      <td>0.22</td>\n",
       "      <td>0.07</td>\n",
       "      <td>0.007</td>\n",
       "      <td>-0.443</td>\n",
       "      <td>0.443</td>\n",
       "      <td>0.196249</td>\n",
       "      <td>0.000474</td>\n",
       "      <td>0</td>\n",
       "      <td>0</td>\n",
       "    </tr>\n",
       "  </tbody>\n",
       "</table>\n",
       "</div>"
      ],
      "text/plain": [
       "     Datadate  MktRf   Smb   Hml   Rmw   Cma     Rf     Rm  AbsoluteRm  \\\n",
       "1  2002-01-03   0.99  0.77 -0.40 -0.30 -0.80  0.007  0.997       0.997   \n",
       "2  2002-01-04   0.70  0.20  0.39 -0.08 -0.23  0.007  0.707       0.707   \n",
       "3  2002-01-07  -0.70 -0.24  0.85 -0.07  0.16  0.007 -0.693       0.693   \n",
       "4  2002-01-08  -0.23  1.21  0.29 -0.21 -0.01  0.007 -0.223       0.223   \n",
       "5  2002-01-09  -0.45  0.08 -0.11  0.22  0.07  0.007 -0.443       0.443   \n",
       "\n",
       "   SquaredRm   Measure  LeftTail  RightTail  \n",
       "1   0.994009  0.010510         0          0  \n",
       "2   0.499849  0.008074         0          0  \n",
       "3   0.480249  0.001003         0          0  \n",
       "4   0.049729  0.004037         0          0  \n",
       "5   0.196249  0.000474         0          0  "
      ]
     },
     "execution_count": 61,
     "metadata": {},
     "output_type": "execute_result"
    }
   ],
   "source": [
    "df = pd.read_csv('data/output/herding_stockMarket_2002-2022.csv')\n",
    "df = df.dropna()\n",
    "df.head()"
   ]
  },
  {
   "cell_type": "code",
   "execution_count": 57,
   "id": "d6df4881",
   "metadata": {},
   "outputs": [],
   "source": [
    "# period splitting\n",
    "df = df[(df['Datadate'] >= '2004-01-01') & (df['Datadate'] < '2008-01-01')]"
   ]
  },
  {
   "cell_type": "markdown",
   "id": "88ec72c3",
   "metadata": {},
   "source": [
    "## Model 1"
   ]
  },
  {
   "cell_type": "code",
   "execution_count": 48,
   "id": "42ff48f2",
   "metadata": {},
   "outputs": [
    {
     "name": "stdout",
     "output_type": "stream",
     "text": [
      "                            OLS Regression Results                            \n",
      "==============================================================================\n",
      "Dep. Variable:                Measure   R-squared:                       0.758\n",
      "Model:                            OLS   Adj. R-squared:                  0.758\n",
      "Method:                 Least Squares   F-statistic:                     5514.\n",
      "Date:                Fri, 04 Aug 2023   Prob (F-statistic):               0.00\n",
      "Time:                        11:42:57   Log-Likelihood:                 21831.\n",
      "No. Observations:                5286   AIC:                        -4.365e+04\n",
      "Df Residuals:                    5282   BIC:                        -4.363e+04\n",
      "Df Model:                           3                                         \n",
      "Covariance Type:            nonrobust                                         \n",
      "==============================================================================\n",
      "                 coef    std err          t      P>|t|      [0.025      0.975]\n",
      "------------------------------------------------------------------------------\n",
      "const          0.0015   8.39e-05     17.600      0.000       0.001       0.002\n",
      "Rm            -0.0007    4.3e-05    -15.956      0.000      -0.001      -0.001\n",
      "AbsoluteRm     0.0061      0.000     57.696      0.000       0.006       0.006\n",
      "SquaredRm      0.0002   1.82e-05     13.161      0.000       0.000       0.000\n",
      "==============================================================================\n",
      "Omnibus:                     4323.326   Durbin-Watson:                   1.741\n",
      "Prob(Omnibus):                  0.000   Jarque-Bera (JB):           763996.111\n",
      "Skew:                           3.113   Prob(JB):                         0.00\n",
      "Kurtosis:                      61.566   Cond. No.                         13.5\n",
      "==============================================================================\n",
      "\n",
      "Notes:\n",
      "[1] Standard Errors assume that the covariance matrix of the errors is correctly specified.\n"
     ]
    }
   ],
   "source": [
    "x1 = df[\n",
    "    ['Rm', 'AbsoluteRm', 'SquaredRm']\n",
    "]\n",
    "y1 = df['Measure']\n",
    "\n",
    "x1 = sm.add_constant(x1)\n",
    "\n",
    "model1 = sn.OLS(y1, x1).fit()\n",
    "ypred1 = model1.predict(x1) \n",
    "\n",
    "print(model1.summary())"
   ]
  },
  {
   "cell_type": "markdown",
   "id": "a5eaf39c",
   "metadata": {},
   "source": [
    "## Model 2"
   ]
  },
  {
   "cell_type": "code",
   "execution_count": 63,
   "id": "ca15ebfd",
   "metadata": {},
   "outputs": [
    {
     "name": "stdout",
     "output_type": "stream",
     "text": [
      "                            OLS Regression Results                            \n",
      "==============================================================================\n",
      "Dep. Variable:                Measure   R-squared:                       0.034\n",
      "Model:                            OLS   Adj. R-squared:                  0.033\n",
      "Method:                 Least Squares   F-statistic:                     31.42\n",
      "Date:                Fri, 04 Aug 2023   Prob (F-statistic):           2.54e-37\n",
      "Time:                        11:48:20   Log-Likelihood:                 18174.\n",
      "No. Observations:                5286   AIC:                        -3.633e+04\n",
      "Df Residuals:                    5279   BIC:                        -3.629e+04\n",
      "Df Model:                           6                                         \n",
      "Covariance Type:            nonrobust                                         \n",
      "==============================================================================\n",
      "                 coef    std err          t      P>|t|      [0.025      0.975]\n",
      "------------------------------------------------------------------------------\n",
      "const          0.0075      0.000     54.537      0.000       0.007       0.008\n",
      "MktRf         -0.0009   9.47e-05     -9.911      0.000      -0.001      -0.001\n",
      "Smb        -4.032e-05      0.000     -0.219      0.827      -0.000       0.000\n",
      "Hml         2.754e-06      0.000      0.017      0.986      -0.000       0.000\n",
      "Rmw            0.0001      0.000      0.495      0.620      -0.000       0.001\n",
      "Cma            0.0004      0.000      1.148      0.251      -0.000       0.001\n",
      "Rf            -0.1433      0.018     -7.779      0.000      -0.179      -0.107\n",
      "==============================================================================\n",
      "Omnibus:                     5008.824   Durbin-Watson:                   1.347\n",
      "Prob(Omnibus):                  0.000   Jarque-Bera (JB):           335447.545\n",
      "Skew:                           4.419   Prob(JB):                         0.00\n",
      "Kurtosis:                      41.012   Cond. No.                         219.\n",
      "==============================================================================\n",
      "\n",
      "Notes:\n",
      "[1] Standard Errors assume that the covariance matrix of the errors is correctly specified.\n"
     ]
    }
   ],
   "source": [
    "x2 = df[\n",
    "    ['MktRf', 'Smb', 'Hml', 'Rmw', 'Cma', 'Rf']\n",
    "]\n",
    "y2 = df['Measure']\n",
    "\n",
    "x2 = sm.add_constant(x2)\n",
    "\n",
    "model2 = sn.OLS(y2, x2).fit()\n",
    "ypred2 = model1.predict(x2) \n",
    "\n",
    "print(model2.summary())"
   ]
  },
  {
   "cell_type": "markdown",
   "id": "2033f7e5",
   "metadata": {},
   "source": [
    "## Model 3"
   ]
  },
  {
   "cell_type": "code",
   "execution_count": 73,
   "id": "a4cec20a",
   "metadata": {},
   "outputs": [],
   "source": [
    "df['Measure_'] = df['Measure'] - np.sqrt(model2.scale)"
   ]
  },
  {
   "cell_type": "code",
   "execution_count": 74,
   "id": "55807c7c",
   "metadata": {},
   "outputs": [
    {
     "name": "stdout",
     "output_type": "stream",
     "text": [
      "                            OLS Regression Results                            \n",
      "==============================================================================\n",
      "Dep. Variable:               Measure_   R-squared:                       0.758\n",
      "Model:                            OLS   Adj. R-squared:                  0.758\n",
      "Method:                 Least Squares   F-statistic:                     5514.\n",
      "Date:                Fri, 04 Aug 2023   Prob (F-statistic):               0.00\n",
      "Time:                        12:00:34   Log-Likelihood:                 21831.\n",
      "No. Observations:                5286   AIC:                        -4.365e+04\n",
      "Df Residuals:                    5282   BIC:                        -4.363e+04\n",
      "Df Model:                           3                                         \n",
      "Covariance Type:            nonrobust                                         \n",
      "==============================================================================\n",
      "                 coef    std err          t      P>|t|      [0.025      0.975]\n",
      "------------------------------------------------------------------------------\n",
      "const         -0.0063   8.39e-05    -75.151      0.000      -0.006      -0.006\n",
      "Rm            -0.0007    4.3e-05    -15.956      0.000      -0.001      -0.001\n",
      "AbsoluteRm     0.0061      0.000     57.696      0.000       0.006       0.006\n",
      "SquaredRm      0.0002   1.82e-05     13.161      0.000       0.000       0.000\n",
      "==============================================================================\n",
      "Omnibus:                     4323.326   Durbin-Watson:                   1.741\n",
      "Prob(Omnibus):                  0.000   Jarque-Bera (JB):           763996.111\n",
      "Skew:                           3.113   Prob(JB):                         0.00\n",
      "Kurtosis:                      61.566   Cond. No.                         13.5\n",
      "==============================================================================\n",
      "\n",
      "Notes:\n",
      "[1] Standard Errors assume that the covariance matrix of the errors is correctly specified.\n"
     ]
    }
   ],
   "source": [
    "x3 = df[\n",
    "    ['Rm', 'AbsoluteRm', 'SquaredRm']\n",
    "]\n",
    "y3 = df['Measure_']\n",
    "\n",
    "x3 = sm.add_constant(x3)\n",
    "\n",
    "model3 = sn.OLS(y3, x3).fit()\n",
    "ypred3 = model3.predict(x3) \n",
    "\n",
    "print(model3.summary())"
   ]
  },
  {
   "cell_type": "markdown",
   "id": "b0fa11d6",
   "metadata": {},
   "source": [
    "## Model 4"
   ]
  },
  {
   "cell_type": "code",
   "execution_count": 75,
   "id": "b6c17ed0",
   "metadata": {},
   "outputs": [],
   "source": [
    "df['CSAD_nonFund'] = np.sqrt(model2.scale)"
   ]
  },
  {
   "cell_type": "code",
   "execution_count": 76,
   "id": "c846fa25",
   "metadata": {},
   "outputs": [
    {
     "name": "stdout",
     "output_type": "stream",
     "text": [
      "                            OLS Regression Results                            \n",
      "==============================================================================\n",
      "Dep. Variable:           CSAD_nonFund   R-squared:                       0.005\n",
      "Model:                            OLS   Adj. R-squared:                  0.004\n",
      "Method:                 Least Squares   F-statistic:                     8.217\n",
      "Date:                Fri, 04 Aug 2023   Prob (F-statistic):           1.88e-05\n",
      "Time:                        12:02:44   Log-Likelihood:             2.0654e+05\n",
      "No. Observations:                5286   AIC:                        -4.131e+05\n",
      "Df Residuals:                    5282   BIC:                        -4.131e+05\n",
      "Df Model:                           3                                         \n",
      "Covariance Type:            nonrobust                                         \n",
      "==============================================================================\n",
      "                 coef    std err          t      P>|t|      [0.025      0.975]\n",
      "------------------------------------------------------------------------------\n",
      "const          0.0078   5.59e-20   1.39e+17      0.000       0.008       0.008\n",
      "Rm         -1.897e-19   2.87e-20     -6.609      0.000   -2.46e-19   -1.33e-19\n",
      "AbsoluteRm  1.559e-18      7e-20     22.266      0.000    1.42e-18     1.7e-18\n",
      "SquaredRm  -7.115e-20   1.22e-20     -5.847      0.000    -9.5e-20   -4.73e-20\n",
      "==============================================================================\n",
      "Omnibus:                     2121.801   Durbin-Watson:                   0.357\n",
      "Prob(Omnibus):                  0.000   Jarque-Bera (JB):            10785.863\n",
      "Skew:                          -1.882   Prob(JB):                         0.00\n",
      "Kurtosis:                       8.900   Cond. No.                         13.5\n",
      "==============================================================================\n",
      "\n",
      "Notes:\n",
      "[1] Standard Errors assume that the covariance matrix of the errors is correctly specified.\n"
     ]
    }
   ],
   "source": [
    "x4 = df[\n",
    "    ['Rm', 'AbsoluteRm', 'SquaredRm']\n",
    "]\n",
    "y4 = df['CSAD_nonFund']\n",
    "\n",
    "x4 = sm.add_constant(x3)\n",
    "\n",
    "model4 = sn.OLS(y4, x4).fit()\n",
    "ypred4 = model4.predict(x4) \n",
    "\n",
    "print(model4.summary())"
   ]
  }
 ],
 "metadata": {
  "kernelspec": {
   "display_name": "Python 3 (ipykernel)",
   "language": "python",
   "name": "python3"
  },
  "language_info": {
   "codemirror_mode": {
    "name": "ipython",
    "version": 3
   },
   "file_extension": ".py",
   "mimetype": "text/x-python",
   "name": "python",
   "nbconvert_exporter": "python",
   "pygments_lexer": "ipython3",
   "version": "3.10.12"
  }
 },
 "nbformat": 4,
 "nbformat_minor": 5
}
