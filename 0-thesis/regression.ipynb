{
 "cells": [
  {
   "cell_type": "code",
   "execution_count": null,
   "id": "cde8ac56",
   "metadata": {},
   "outputs": [],
   "source": [
    "import pandas as pd\n",
    "import numpy as np\n",
    "import statsmodels.api as sm\n",
    "import matplotlib.pyplot as plt"
   ]
  },
  {
   "cell_type": "code",
   "execution_count": null,
   "id": "5ae279b1",
   "metadata": {},
   "outputs": [],
   "source": [
    "df = pd.read_csv('data/output/stocks/herding_stockMarket_2002-2022.csv')\n",
    "df = df.dropna()\n",
    "df.head()"
   ]
  },
  {
   "cell_type": "code",
   "execution_count": null,
   "id": "d6df4881",
   "metadata": {},
   "outputs": [],
   "source": [
    "# period splitting\n",
    "df = df[(df['Datadate'] >= '2004-01-01') & (df['Datadate'] < '2008-01-01')]"
   ]
  },
  {
   "cell_type": "markdown",
   "id": "88ec72c3",
   "metadata": {},
   "source": [
    "## Model 1"
   ]
  },
  {
   "cell_type": "code",
   "execution_count": null,
   "id": "42ff48f2",
   "metadata": {},
   "outputs": [],
   "source": [
    "x1 = df[\n",
    "    ['Rm', 'AbsoluteRm', 'SquaredRm']\n",
    "]\n",
    "y1 = df['Csad']\n",
    "\n",
    "x1 = sm.add_constant(x1)\n",
    "\n",
    "model1 = sm.OLS(y1, x1).fit()\n",
    "ypred1 = model1.predict(x1) \n",
    "\n",
    "print(model1.summary())"
   ]
  },
  {
   "cell_type": "markdown",
   "id": "a5eaf39c",
   "metadata": {},
   "source": [
    "## Model 2"
   ]
  },
  {
   "cell_type": "code",
   "execution_count": null,
   "id": "ca15ebfd",
   "metadata": {},
   "outputs": [],
   "source": [
    "x2 = df[\n",
    "    ['MktRf', 'Smb', 'Hml', 'Rmw', 'Cma', 'Rf']\n",
    "]\n",
    "y2 = df['Csad']\n",
    "\n",
    "x2 = sm.add_constant(x2)\n",
    "\n",
    "model2 = sm.OLS(y2, x2).fit()\n",
    "# ypred2 = model1.predict(x2) \n",
    "\n",
    "print(model2.summary())"
   ]
  },
  {
   "cell_type": "markdown",
   "id": "2033f7e5",
   "metadata": {},
   "source": [
    "## Model 3"
   ]
  },
  {
   "cell_type": "code",
   "execution_count": null,
   "id": "a4cec20a",
   "metadata": {},
   "outputs": [],
   "source": [
    "df['Measure_'] = df['Csad'] - np.sqrt(model2.scale)"
   ]
  },
  {
   "cell_type": "code",
   "execution_count": null,
   "id": "55807c7c",
   "metadata": {},
   "outputs": [],
   "source": [
    "x3 = df[\n",
    "    ['Rm', 'AbsoluteRm', 'SquaredRm']\n",
    "]\n",
    "y3 = df['Measure_']\n",
    "\n",
    "x3 = sm.add_constant(x3)\n",
    "\n",
    "model3 = sm.OLS(y3, x3).fit()\n",
    "ypred3 = model3.predict(x3) \n",
    "\n",
    "print(model3.summary())"
   ]
  },
  {
   "cell_type": "markdown",
   "id": "b0fa11d6",
   "metadata": {},
   "source": [
    "## Model 4"
   ]
  },
  {
   "cell_type": "code",
   "execution_count": null,
   "id": "b6c17ed0",
   "metadata": {},
   "outputs": [],
   "source": [
    "df['CSAD_nonFund'] = np.sqrt(model2.scale)"
   ]
  },
  {
   "cell_type": "code",
   "execution_count": null,
   "id": "c846fa25",
   "metadata": {},
   "outputs": [],
   "source": [
    "x4 = df[\n",
    "    ['Rm', 'AbsoluteRm', 'SquaredRm']\n",
    "]\n",
    "y4 = df['CSAD_nonFund']\n",
    "\n",
    "x4 = sm.add_constant(x3)\n",
    "\n",
    "model4 = sm.OLS(y4, x4).fit()\n",
    "ypred4 = model4.predict(x4) \n",
    "\n",
    "print(model4.summary())"
   ]
  }
 ],
 "metadata": {
  "kernelspec": {
   "display_name": "Python 3 (ipykernel)",
   "language": "python",
   "name": "python3"
  },
  "language_info": {
   "codemirror_mode": {
    "name": "ipython",
    "version": 3
   },
   "file_extension": ".py",
   "mimetype": "text/x-python",
   "name": "python",
   "nbconvert_exporter": "python",
   "pygments_lexer": "ipython3",
   "version": "3.10.12"
  }
 },
 "nbformat": 4,
 "nbformat_minor": 5
}
