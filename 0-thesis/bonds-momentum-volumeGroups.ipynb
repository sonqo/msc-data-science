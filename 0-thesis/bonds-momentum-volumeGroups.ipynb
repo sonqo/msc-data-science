{
 "cells": [
  {
   "cell_type": "code",
   "execution_count": 1,
   "id": "5a052f9b",
   "metadata": {},
   "outputs": [],
   "source": [
    "import os\n",
    "import numpy as np\n",
    "import pandas as pd\n",
    "import datetime as dt\n",
    "from scipy import stats\n",
    "import sqlalchemy as db\n",
    "from dotenv import load_dotenv\n",
    "import matplotlib.pyplot as plt\n",
    "from pandas.tseries.offsets import *\n",
    "\n",
    "np.seterr(divide = 'ignore')\n",
    "pd.set_option('display.max_rows', 500)"
   ]
  },
  {
   "cell_type": "code",
   "execution_count": 2,
   "id": "60a1e5e7",
   "metadata": {},
   "outputs": [],
   "source": [
    "load_dotenv()\n",
    "\n",
    "# config and credentials\n",
    "server = os.getenv('server')\n",
    "database = os.getenv('database')\n",
    "username = os.getenv('username')\n",
    "password = os.getenv('password')\n",
    "\n",
    "# connection\n",
    "engine = db.create_engine(\n",
    "    'mssql://{}:{}@{}/{}?driver=ODBC+Driver+18+for+SQL+Server'.format(\n",
    "        username, password, server, database\n",
    "    )\n",
    ")\n",
    "\n",
    "# establish connection\n",
    "connection = engine.connect()"
   ]
  },
  {
   "cell_type": "code",
   "execution_count": 3,
   "id": "6764cb89",
   "metadata": {},
   "outputs": [],
   "source": [
    "def get_sample_particulars(df):\n",
    "    print('Number of observations: {:,}'.format(len(df.index)))\n",
    "    print('Returns: Mean: {:.5f} | Median: {:.5f} | Std returns: {:.5f}'.format(\n",
    "        100 * df['R'].mean(), 100 * df['R'].median(), df['R'].std()))\n",
    "    print('Volume mean: {:.5f}'.format(df['Volume'].mean()))\n",
    "    print('Coupon mean: {:.5f}'.format(df['Coupon'].mean()))"
   ]
  },
  {
   "cell_type": "markdown",
   "id": "5ba6d2bb",
   "metadata": {},
   "source": [
    "### Query Selection"
   ]
  },
  {
   "cell_type": "code",
   "execution_count": 178,
   "id": "872a34b8",
   "metadata": {},
   "outputs": [],
   "source": [
    "query_top = '''\n",
    "    SELECT\n",
    "        CusipId,\n",
    "        TrdExctnDtEOM,\n",
    "        Coupon,\n",
    "        CASE\n",
    "            WHEN RatingNum <= 10 THEN 'HY'\n",
    "            WHEN RatingNum >= 11 THEN 'IG'\n",
    "            ELSE NULL\n",
    "        END AS RatingClass,\n",
    "        Volume,\n",
    "        R\n",
    "    FROM\n",
    "        BondReturns_topPerformers_wholeMonth\n",
    "    ORDER BY\n",
    "        CusipId,\n",
    "        TrdExctnDtEOM\n",
    "'''\n",
    "\n",
    "# read sql\n",
    "df = pd.read_sql(query_top, connection)\n",
    "df.to_csv('data/output/momentum/mom-topPerformers-wholeMonth.csv', index=False)"
   ]
  },
  {
   "cell_type": "code",
   "execution_count": 179,
   "id": "9e28e3c3",
   "metadata": {},
   "outputs": [],
   "source": [
    "# read csv\n",
    "df = pd.read_csv(\n",
    "    'data/output/momentum/mom-topPerformers-wholeMonth.csv', \n",
    "    dtype={\n",
    "        'CusipId': 'string',\n",
    "        'TrdExctnDtEOM': 'string',\n",
    "        'Coupon': 'float64',\n",
    "        'RatingClass': 'string',\n",
    "        'Volume': 'float64',\n",
    "        'R': 'float64'\n",
    "    },\n",
    "    parse_dates=['TrdExctnDtEOM']\n",
    ")\n",
    "\n",
    "df.columns = ['Cusip', 'Date', 'Coupon', 'RatingClass', 'Volume', 'R']"
   ]
  },
  {
   "cell_type": "markdown",
   "id": "baca9eda",
   "metadata": {},
   "source": [
    "### Quantile Filtering and Outlier Visualization"
   ]
  },
  {
   "cell_type": "code",
   "execution_count": 160,
   "id": "e77aec74",
   "metadata": {},
   "outputs": [],
   "source": [
    "df['quantiles'] = pd.qcut(df.R, np.linspace(0, 1, 201), labels=np.linspace(0, 1, 200)).astype(float)\n",
    "df['outliers'] = np.where((df['quantiles'] > 0.995) | (df['quantiles'] < 0.005), 1, 0)\n",
    "df['Year'] = df['Date'].dt.year"
   ]
  },
  {
   "cell_type": "code",
   "execution_count": 161,
   "id": "4549431a",
   "metadata": {
    "scrolled": false
   },
   "outputs": [
    {
     "data": {
      "image/png": "[encoded data removed]",
      "text/plain": [
       "<Figure size 1200x500 with 1 Axes>"
      ]
     },
     "metadata": {},
     "output_type": "display_data"
    }
   ],
   "source": [
    "df_g = df.groupby('Year')['outliers'].sum().reset_index()\n",
    "\n",
    "plt.figure(figsize=(12, 5))\n",
    "plt.title('Outliers Distribution')\n",
    "plt.bar(df_g['Year'], df_g['outliers'], width = 0.6)\n",
    "plt.xticks([i for i in range(2002, 2023)], fontsize=8)\n",
    "plt.show()"
   ]
  },
  {
   "cell_type": "code",
   "execution_count": 162,
   "id": "a8f46fdf",
   "metadata": {},
   "outputs": [],
   "source": [
    "# filter out outliers\n",
    "df['R'] = np.where(df['outliers'] == 0, df['R'], 0)"
   ]
  },
  {
   "cell_type": "markdown",
   "id": "ec23624e",
   "metadata": {},
   "source": [
    "### Exploratory Analysis"
   ]
  },
  {
   "cell_type": "code",
   "execution_count": 163,
   "id": "9484ce81",
   "metadata": {},
   "outputs": [
    {
     "data": {
      "text/plain": [
       "18443"
      ]
     },
     "execution_count": 163,
     "metadata": {},
     "output_type": "execute_result"
    }
   ],
   "source": [
    "df['Cusip'].nunique()"
   ]
  },
  {
   "cell_type": "code",
   "execution_count": 182,
   "id": "91690134",
   "metadata": {},
   "outputs": [
    {
     "data": {
      "text/plain": [
       "HY    325908\n",
       "IG    137978\n",
       "Name: RatingClass, dtype: Int64"
      ]
     },
     "execution_count": 182,
     "metadata": {},
     "output_type": "execute_result"
    }
   ],
   "source": [
    "# number of entries\n",
    "df['RatingClass'].value_counts()"
   ]
  },
  {
   "cell_type": "code",
   "execution_count": 183,
   "id": "4c391225",
   "metadata": {},
   "outputs": [
    {
     "data": {
      "text/plain": [
       "RatingClass\n",
       "HY    15355\n",
       "IG     4783\n",
       "Name: Cusip, dtype: int64"
      ]
     },
     "execution_count": 183,
     "metadata": {},
     "output_type": "execute_result"
    }
   ],
   "source": [
    "# number of distinct Cusips\n",
    "df.groupby('RatingClass').Cusip.nunique()"
   ]
  },
  {
   "cell_type": "code",
   "execution_count": 141,
   "id": "253eb4e5",
   "metadata": {},
   "outputs": [],
   "source": [
    "# drop NR\n",
    "# df = df.dropna(subset=['RatingNum'])\n",
    "\n",
    "# number of entries\n",
    "# df['MaturityBand'].value_counts(dropna=False)"
   ]
  },
  {
   "cell_type": "code",
   "execution_count": 142,
   "id": "510b02ca",
   "metadata": {},
   "outputs": [],
   "source": [
    "# number of distinct Cusips\n",
    "# df.groupby('MaturityBand').Cusip.nunique()"
   ]
  },
  {
   "cell_type": "code",
   "execution_count": 143,
   "id": "5279fc8f",
   "metadata": {},
   "outputs": [],
   "source": [
    "# df['Cusip'].nunique()"
   ]
  },
  {
   "cell_type": "code",
   "execution_count": 144,
   "id": "98565e7a",
   "metadata": {},
   "outputs": [],
   "source": [
    "# filtering\n",
    "# df = df[df['MaturityBand'] == 1]\n",
    "# df = df[df['RatingClass'] == '1.HY']"
   ]
  },
  {
   "cell_type": "code",
   "execution_count": 145,
   "id": "f400fc67",
   "metadata": {},
   "outputs": [
    {
     "name": "stdout",
     "output_type": "stream",
     "text": [
      "Number of observations: 1,023,685\n",
      "Returns: Mean: 0.02423 | Median: -0.01953 | Std returns: 0.03033\n",
      "Volume mean: 4829603.67594\n",
      "Coupon mean: 5.55755\n"
     ]
    }
   ],
   "source": [
    "get_sample_particulars(df)"
   ]
  },
  {
   "cell_type": "markdown",
   "id": "09eb3055",
   "metadata": {},
   "source": [
    "### Portfolio Analysis"
   ]
  },
  {
   "cell_type": "code",
   "execution_count": 146,
   "id": "f5edd7a5",
   "metadata": {},
   "outputs": [],
   "source": [
    "# fill NULL returns\n",
    "# df['R'] = df['R'].fillna(0)\n",
    "\n",
    "# log returns\n",
    "df['logR'] = np.log(1 + df['R'])"
   ]
  },
  {
   "cell_type": "code",
   "execution_count": 147,
   "id": "4fcdb723",
   "metadata": {},
   "outputs": [],
   "source": [
    "J = 3 # formation period\n",
    "\n",
    "df_ = df[\n",
    "    ['Cusip', 'Date', 'R', 'logR']\n",
    "].sort_values(['Cusip', 'Date']).set_index('Date')\n",
    "\n",
    "cumr = df_.groupby(['Cusip'])['logR'].rolling(J, min_periods=J).sum().reset_index()\n",
    "cumr = cumr.rename(columns = {'logR': 'SumLogR'})\n",
    "\n",
    "cumr['CumRet'] = np.exp(cumr['SumLogR'])-1"
   ]
  },
  {
   "cell_type": "code",
   "execution_count": 148,
   "id": "df7ced8b",
   "metadata": {},
   "outputs": [],
   "source": [
    "r = 10 # momentum ranking\n",
    "\n",
    "cumr = cumr.dropna(axis=0, subset=['CumRet'])\n",
    "\n",
    "cumr['MomR'] = cumr.groupby('Date')['CumRet'].transform(lambda x: pd.qcut(x, r, labels=False))\n",
    "cumr['MomR'] = 1 + cumr['MomR'].astype(int)"
   ]
  },
  {
   "cell_type": "code",
   "execution_count": 149,
   "id": "33a68ede",
   "metadata": {},
   "outputs": [
    {
     "data": {
      "text/plain": [
       "MomR\n",
       "1    -0.071411\n",
       "2    -0.029285\n",
       "3    -0.017551\n",
       "4    -0.009793\n",
       "5    -0.003167\n",
       "6     0.003345\n",
       "7     0.010246\n",
       "8     0.018811\n",
       "9     0.032318\n",
       "10    0.077645\n",
       "Name: CumRet, dtype: float64"
      ]
     },
     "execution_count": 149,
     "metadata": {},
     "output_type": "execute_result"
    }
   ],
   "source": [
    "cumr.groupby('MomR')['CumRet'].mean()"
   ]
  },
  {
   "cell_type": "code",
   "execution_count": 150,
   "id": "2eeee8db",
   "metadata": {},
   "outputs": [],
   "source": [
    "K = 6 # Holding Period Length: K can be between 3 to 12 months\n",
    "\n",
    "cumr['form_date'] = cumr['Date']\n",
    "cumr['medate'] = cumr['Date'] + MonthEnd(0)\n",
    "cumr['hdate1'] = cumr['medate'] + MonthBegin(1)\n",
    "cumr['hdate2'] = cumr['medate'] + MonthEnd(K)\n",
    "cumr = cumr[['Cusip', 'form_date','MomR','hdate1','hdate2']]\n",
    "\n",
    "port = pd.merge(df[['Cusip', 'Date', 'R']], cumr, on=['Cusip'], how='inner')\n",
    "port = port[(port['hdate1'] <= port['Date']) & (port['Date'] <= port['hdate2'])]\n",
    "port = port[['Cusip','form_date', 'MomR', 'hdate1','hdate2', 'Date', 'R']]\n",
    "port['Date'] = pd.to_datetime(port['Date'])"
   ]
  },
  {
   "cell_type": "code",
   "execution_count": 151,
   "id": "191008cc",
   "metadata": {},
   "outputs": [],
   "source": [
    "cumr_port = port.groupby(['Date','MomR', 'form_date'])['R'].mean().reset_index()\n",
    "\n",
    "start_yr = cumr_port['Date'].dt.year.min() + 2\n",
    "cumr_port = cumr_port.loc[cumr_port.Date.dt.year >= start_yr]\n",
    "cumr_port = cumr_port.sort_values(by=['Date','MomR'])\n",
    "\n",
    "ewret = cumr_port.groupby(['Date','MomR'])['R'].mean().reset_index()\n",
    "ewstd = cumr_port.groupby(['Date','MomR'])['R'].std().reset_index()\n",
    "\n",
    "ewret = ewret.rename(columns={'R':'ewret'})\n",
    "ewstd = ewstd.rename(columns={'R':'ewretstd'})\n",
    "\n",
    "ewretdf = pd.merge(ewret, ewstd, on=['Date','MomR'], how='inner')\n",
    "ewretdf = ewretdf.sort_values(by=['MomR', 'Date'])"
   ]
  },
  {
   "cell_type": "code",
   "execution_count": 152,
   "id": "a025a20a",
   "metadata": {},
   "outputs": [
    {
     "data": {
      "text/html": [
       "<div>\n",
       "<style scoped>\n",
       "    .dataframe tbody tr th:only-of-type {\n",
       "        vertical-align: middle;\n",
       "    }\n",
       "\n",
       "    .dataframe tbody tr th {\n",
       "        vertical-align: top;\n",
       "    }\n",
       "\n",
       "    .dataframe thead th {\n",
       "        text-align: right;\n",
       "    }\n",
       "</style>\n",
       "<table border=\"1\" class=\"dataframe\">\n",
       "  <thead>\n",
       "    <tr style=\"text-align: right;\">\n",
       "      <th></th>\n",
       "      <th>MomR</th>\n",
       "      <th>count</th>\n",
       "      <th>mean</th>\n",
       "      <th>std</th>\n",
       "    </tr>\n",
       "  </thead>\n",
       "  <tbody>\n",
       "    <tr>\n",
       "      <th>0</th>\n",
       "      <td>1</td>\n",
       "      <td>225.0</td>\n",
       "      <td>0.000369</td>\n",
       "      <td>0.023341</td>\n",
       "    </tr>\n",
       "    <tr>\n",
       "      <th>1</th>\n",
       "      <td>2</td>\n",
       "      <td>225.0</td>\n",
       "      <td>-0.000750</td>\n",
       "      <td>0.018737</td>\n",
       "    </tr>\n",
       "    <tr>\n",
       "      <th>2</th>\n",
       "      <td>3</td>\n",
       "      <td>225.0</td>\n",
       "      <td>-0.000728</td>\n",
       "      <td>0.015577</td>\n",
       "    </tr>\n",
       "    <tr>\n",
       "      <th>3</th>\n",
       "      <td>4</td>\n",
       "      <td>225.0</td>\n",
       "      <td>-0.000788</td>\n",
       "      <td>0.014296</td>\n",
       "    </tr>\n",
       "    <tr>\n",
       "      <th>4</th>\n",
       "      <td>5</td>\n",
       "      <td>225.0</td>\n",
       "      <td>-0.000802</td>\n",
       "      <td>0.013693</td>\n",
       "    </tr>\n",
       "    <tr>\n",
       "      <th>5</th>\n",
       "      <td>6</td>\n",
       "      <td>225.0</td>\n",
       "      <td>-0.000657</td>\n",
       "      <td>0.013750</td>\n",
       "    </tr>\n",
       "    <tr>\n",
       "      <th>6</th>\n",
       "      <td>7</td>\n",
       "      <td>225.0</td>\n",
       "      <td>-0.000599</td>\n",
       "      <td>0.013749</td>\n",
       "    </tr>\n",
       "    <tr>\n",
       "      <th>7</th>\n",
       "      <td>8</td>\n",
       "      <td>225.0</td>\n",
       "      <td>-0.000385</td>\n",
       "      <td>0.014562</td>\n",
       "    </tr>\n",
       "    <tr>\n",
       "      <th>8</th>\n",
       "      <td>9</td>\n",
       "      <td>225.0</td>\n",
       "      <td>-0.000114</td>\n",
       "      <td>0.015736</td>\n",
       "    </tr>\n",
       "    <tr>\n",
       "      <th>9</th>\n",
       "      <td>10</td>\n",
       "      <td>225.0</td>\n",
       "      <td>0.000878</td>\n",
       "      <td>0.019052</td>\n",
       "    </tr>\n",
       "  </tbody>\n",
       "</table>\n",
       "</div>"
      ],
      "text/plain": [
       "   MomR  count      mean       std\n",
       "0     1  225.0  0.000369  0.023341\n",
       "1     2  225.0 -0.000750  0.018737\n",
       "2     3  225.0 -0.000728  0.015577\n",
       "3     4  225.0 -0.000788  0.014296\n",
       "4     5  225.0 -0.000802  0.013693\n",
       "5     6  225.0 -0.000657  0.013750\n",
       "6     7  225.0 -0.000599  0.013749\n",
       "7     8  225.0 -0.000385  0.014562\n",
       "8     9  225.0 -0.000114  0.015736\n",
       "9    10  225.0  0.000878  0.019052"
      ]
     },
     "execution_count": 152,
     "metadata": {},
     "output_type": "execute_result"
    }
   ],
   "source": [
    "ewretdf.groupby(['MomR'])['ewret'].describe()[['count','mean', 'std']].reset_index()"
   ]
  },
  {
   "cell_type": "code",
   "execution_count": 153,
   "id": "0d041aed",
   "metadata": {},
   "outputs": [
    {
     "data": {
      "text/html": [
       "<div>\n",
       "<style scoped>\n",
       "    .dataframe tbody tr th:only-of-type {\n",
       "        vertical-align: middle;\n",
       "    }\n",
       "\n",
       "    .dataframe tbody tr th {\n",
       "        vertical-align: top;\n",
       "    }\n",
       "\n",
       "    .dataframe thead th {\n",
       "        text-align: right;\n",
       "    }\n",
       "</style>\n",
       "<table border=\"1\" class=\"dataframe\">\n",
       "  <thead>\n",
       "    <tr style=\"text-align: right;\">\n",
       "      <th>MomR</th>\n",
       "      <th>losers</th>\n",
       "      <th>port2</th>\n",
       "      <th>port3</th>\n",
       "      <th>port4</th>\n",
       "      <th>port5</th>\n",
       "      <th>port6</th>\n",
       "      <th>port7</th>\n",
       "      <th>port8</th>\n",
       "      <th>port9</th>\n",
       "      <th>winners</th>\n",
       "      <th>long_short</th>\n",
       "    </tr>\n",
       "    <tr>\n",
       "      <th>Date</th>\n",
       "      <th></th>\n",
       "      <th></th>\n",
       "      <th></th>\n",
       "      <th></th>\n",
       "      <th></th>\n",
       "      <th></th>\n",
       "      <th></th>\n",
       "      <th></th>\n",
       "      <th></th>\n",
       "      <th></th>\n",
       "      <th></th>\n",
       "    </tr>\n",
       "  </thead>\n",
       "  <tbody>\n",
       "    <tr>\n",
       "      <th>2004-01-31</th>\n",
       "      <td>0.007381</td>\n",
       "      <td>0.006582</td>\n",
       "      <td>0.005388</td>\n",
       "      <td>0.004617</td>\n",
       "      <td>0.005511</td>\n",
       "      <td>0.005660</td>\n",
       "      <td>0.003300</td>\n",
       "      <td>0.004560</td>\n",
       "      <td>0.009812</td>\n",
       "      <td>0.019791</td>\n",
       "      <td>0.012410</td>\n",
       "    </tr>\n",
       "    <tr>\n",
       "      <th>2004-02-29</th>\n",
       "      <td>0.004703</td>\n",
       "      <td>0.004327</td>\n",
       "      <td>0.004426</td>\n",
       "      <td>0.005946</td>\n",
       "      <td>0.004237</td>\n",
       "      <td>0.004915</td>\n",
       "      <td>0.003930</td>\n",
       "      <td>-0.000244</td>\n",
       "      <td>-0.005923</td>\n",
       "      <td>-0.020099</td>\n",
       "      <td>-0.024802</td>\n",
       "    </tr>\n",
       "    <tr>\n",
       "      <th>2004-03-31</th>\n",
       "      <td>0.006842</td>\n",
       "      <td>0.001348</td>\n",
       "      <td>0.000765</td>\n",
       "      <td>0.003869</td>\n",
       "      <td>0.004206</td>\n",
       "      <td>0.002868</td>\n",
       "      <td>0.003386</td>\n",
       "      <td>0.005121</td>\n",
       "      <td>0.001640</td>\n",
       "      <td>-0.006237</td>\n",
       "      <td>-0.013079</td>\n",
       "    </tr>\n",
       "    <tr>\n",
       "      <th>2004-04-30</th>\n",
       "      <td>-0.007536</td>\n",
       "      <td>-0.014508</td>\n",
       "      <td>-0.019949</td>\n",
       "      <td>-0.028098</td>\n",
       "      <td>-0.029410</td>\n",
       "      <td>-0.032686</td>\n",
       "      <td>-0.031384</td>\n",
       "      <td>-0.033546</td>\n",
       "      <td>-0.030780</td>\n",
       "      <td>-0.019889</td>\n",
       "      <td>-0.012353</td>\n",
       "    </tr>\n",
       "    <tr>\n",
       "      <th>2004-05-31</th>\n",
       "      <td>-0.012985</td>\n",
       "      <td>-0.009495</td>\n",
       "      <td>-0.013619</td>\n",
       "      <td>-0.012660</td>\n",
       "      <td>-0.011330</td>\n",
       "      <td>-0.014003</td>\n",
       "      <td>-0.012723</td>\n",
       "      <td>-0.011408</td>\n",
       "      <td>-0.015231</td>\n",
       "      <td>-0.021506</td>\n",
       "      <td>-0.008520</td>\n",
       "    </tr>\n",
       "  </tbody>\n",
       "</table>\n",
       "</div>"
      ],
      "text/plain": [
       "MomR          losers     port2     port3     port4     port5     port6  \\\n",
       "Date                                                                     \n",
       "2004-01-31  0.007381  0.006582  0.005388  0.004617  0.005511  0.005660   \n",
       "2004-02-29  0.004703  0.004327  0.004426  0.005946  0.004237  0.004915   \n",
       "2004-03-31  0.006842  0.001348  0.000765  0.003869  0.004206  0.002868   \n",
       "2004-04-30 -0.007536 -0.014508 -0.019949 -0.028098 -0.029410 -0.032686   \n",
       "2004-05-31 -0.012985 -0.009495 -0.013619 -0.012660 -0.011330 -0.014003   \n",
       "\n",
       "MomR           port7     port8     port9   winners  long_short  \n",
       "Date                                                            \n",
       "2004-01-31  0.003300  0.004560  0.009812  0.019791    0.012410  \n",
       "2004-02-29  0.003930 -0.000244 -0.005923 -0.020099   -0.024802  \n",
       "2004-03-31  0.003386  0.005121  0.001640 -0.006237   -0.013079  \n",
       "2004-04-30 -0.031384 -0.033546 -0.030780 -0.019889   -0.012353  \n",
       "2004-05-31 -0.012723 -0.011408 -0.015231 -0.021506   -0.008520  "
      ]
     },
     "execution_count": 153,
     "metadata": {},
     "output_type": "execute_result"
    }
   ],
   "source": [
    "ewret_t = ewretdf.pivot(index='Date', columns='MomR', values='ewret') \n",
    "\n",
    "# Add prefix port in front of each column \n",
    "ewret_t = ewret_t.add_prefix('port') \n",
    "ewret_t = ewret_t.rename(columns={'port1':'losers', 'port10':'winners'}) \n",
    "ewret_t['long_short'] = ewret_t.winners - ewret_t.losers\n",
    "ewret_t.head()"
   ]
  },
  {
   "cell_type": "code",
   "execution_count": 154,
   "id": "982f2fa7",
   "metadata": {},
   "outputs": [
    {
     "data": {
      "text/html": [
       "<div>\n",
       "<style scoped>\n",
       "    .dataframe tbody tr th:only-of-type {\n",
       "        vertical-align: middle;\n",
       "    }\n",
       "\n",
       "    .dataframe tbody tr th {\n",
       "        vertical-align: top;\n",
       "    }\n",
       "\n",
       "    .dataframe thead th {\n",
       "        text-align: right;\n",
       "    }\n",
       "</style>\n",
       "<table border=\"1\" class=\"dataframe\">\n",
       "  <thead>\n",
       "    <tr style=\"text-align: right;\">\n",
       "      <th></th>\n",
       "      <th>MomR</th>\n",
       "      <th>mean</th>\n",
       "    </tr>\n",
       "  </thead>\n",
       "  <tbody>\n",
       "    <tr>\n",
       "      <th>0</th>\n",
       "      <td>winners</td>\n",
       "      <td>0.000878</td>\n",
       "    </tr>\n",
       "    <tr>\n",
       "      <th>1</th>\n",
       "      <td>losers</td>\n",
       "      <td>0.000369</td>\n",
       "    </tr>\n",
       "    <tr>\n",
       "      <th>2</th>\n",
       "      <td>long_short</td>\n",
       "      <td>0.000509</td>\n",
       "    </tr>\n",
       "  </tbody>\n",
       "</table>\n",
       "</div>"
      ],
      "text/plain": [
       "         MomR      mean\n",
       "0     winners  0.000878\n",
       "1      losers  0.000369\n",
       "2  long_short  0.000509"
      ]
     },
     "execution_count": 154,
     "metadata": {},
     "output_type": "execute_result"
    }
   ],
   "source": [
    "ewret_t['cumret_winners'] = (1 + ewret_t.winners).cumprod() - 1 \n",
    "ewret_t['cumret_losers'] = (1 + ewret_t.losers).cumprod() - 1\n",
    "ewret_t['cumret_long_short'] = (1 + ewret_t.long_short).cumprod() - 1\n",
    "\n",
    "mom_mean = ewret_t[['winners', 'losers', 'long_short']].mean().to_frame()\n",
    "mom_mean = mom_mean.rename(columns={0:'mean'}).reset_index()\n",
    "mom_mean"
   ]
  },
  {
   "cell_type": "code",
   "execution_count": 155,
   "id": "2b4a08fd",
   "metadata": {},
   "outputs": [],
   "source": [
    "t_losers = pd.Series(stats.ttest_1samp(ewret_t['losers'], 0.0, nan_policy='omit')).to_frame().T \n",
    "t_winners = pd.Series(stats.ttest_1samp(ewret_t['winners'], 0.0, nan_policy='omit')).to_frame().T \n",
    "t_long_short = pd.Series(stats.ttest_1samp(ewret_t['long_short'], 0.0, nan_policy='omit')).to_frame().T\n",
    "\n",
    "t_losers['MomR'] = 'losers'\n",
    "t_winners['MomR'] = 'winners'\n",
    "t_long_short['MomR'] = 'long_short'"
   ]
  },
  {
   "cell_type": "code",
   "execution_count": 156,
   "id": "48920137",
   "metadata": {},
   "outputs": [
    {
     "name": "stdout",
     "output_type": "stream",
     "text": [
      "Momentum Strategy Summary:\n",
      "\n",
      "          MomR   mean t-stat p-value\n",
      "0     winners  0.09%   0.69    0.49\n",
      "1      losers  0.04%   0.24    0.81\n",
      "2  long_short  0.05%   0.52    0.60\n"
     ]
    }
   ],
   "source": [
    "t_output = pd.concat([t_winners, t_losers, t_long_short]).rename(columns={0:'t-stat', 1:'p-value'}) \n",
    "\n",
    "# Combine mean, t and p and format output \n",
    "mom_output = pd.merge(mom_mean, t_output, on=['MomR'], how='inner')\n",
    "\n",
    "mom_output['mean'] = mom_output['mean'].map('{:.2%}'.format) \n",
    "mom_output['t-stat'] = mom_output['t-stat'].map('{:.2f}'.format) \n",
    "mom_output['p-value'] = mom_output['p-value'].map('{:.2f}'.format) \n",
    "\n",
    "print('Momentum Strategy Summary:\\n\\n', mom_output)"
   ]
  },
  {
   "cell_type": "code",
   "execution_count": 157,
   "id": "92fe6de4",
   "metadata": {},
   "outputs": [
    {
     "data": {
      "image/png": "[encoded data removed]",
      "text/plain": [
       "<Figure size 1200x900 with 2 Axes>"
      ]
     },
     "metadata": {},
     "output_type": "display_data"
    }
   ],
   "source": [
    "plt.figure(figsize=(12,9)) \n",
    "plt.suptitle('Momentum Strategy', fontsize=20) \n",
    "\n",
    "ax1 = plt.subplot(211) \n",
    "ax1.set_title('Long/Short Momentum Strategy', fontsize=15) \n",
    "ax1.plot(ewret_t['cumret_long_short']) \n",
    "\n",
    "ax2 = plt.subplot(212) \n",
    "ax2.set_title('Cumulative Momentum Portfolios', fontsize=15) \n",
    "ax2.plot(ewret_t['cumret_winners'], 'b-', ewret_t['cumret_losers'], 'r--') \n",
    "ax2.legend(('Winners','Losers'), loc='upper left', shadow=True)\n",
    "\n",
    "plt.subplots_adjust(top=0.92, hspace=0.2)"
   ]
  }
 ],
 "metadata": {
  "kernelspec": {
   "display_name": "Python 3 (ipykernel)",
   "language": "python",
   "name": "python3"
  },
  "language_info": {
   "codemirror_mode": {
    "name": "ipython",
    "version": 3
   },
   "file_extension": ".py",
   "mimetype": "text/x-python",
   "name": "python",
   "nbconvert_exporter": "python",
   "pygments_lexer": "ipython3",
   "version": "3.11.4"
  }
 },
 "nbformat": 4,
 "nbformat_minor": 5
}
