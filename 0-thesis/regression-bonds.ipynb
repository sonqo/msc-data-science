{
 "cells": [
  {
   "cell_type": "code",
   "execution_count": 5,
   "id": "cde8ac56",
   "metadata": {},
   "outputs": [],
   "source": [
    "import numpy as np\n",
    "import pandas as pd\n",
    "import statsmodels.api as sm\n",
    "from linearmodels.iv import IVGMM\n",
    "from linearmodels.iv import IV2SLS\n",
    "from statsmodels.api import add_constant"
   ]
  },
  {
   "cell_type": "code",
   "execution_count": 6,
   "id": "5ae279b1",
   "metadata": {},
   "outputs": [
    {
     "data": {
      "text/html": [
       "<div>\n",
       "<style scoped>\n",
       "    .dataframe tbody tr th:only-of-type {\n",
       "        vertical-align: middle;\n",
       "    }\n",
       "\n",
       "    .dataframe tbody tr th {\n",
       "        vertical-align: top;\n",
       "    }\n",
       "\n",
       "    .dataframe thead th {\n",
       "        text-align: right;\n",
       "    }\n",
       "</style>\n",
       "<table border=\"1\" class=\"dataframe\">\n",
       "  <thead>\n",
       "    <tr style=\"text-align: right;\">\n",
       "      <th></th>\n",
       "      <th>const</th>\n",
       "      <th>Date</th>\n",
       "      <th>Rm</th>\n",
       "      <th>AbsoluteRm</th>\n",
       "      <th>SquaredRm</th>\n",
       "      <th>Csad</th>\n",
       "      <th>index</th>\n",
       "    </tr>\n",
       "  </thead>\n",
       "  <tbody>\n",
       "    <tr>\n",
       "      <th>0</th>\n",
       "      <td>1.0</td>\n",
       "      <td>2002-07-02</td>\n",
       "      <td>-0.046100</td>\n",
       "      <td>0.046100</td>\n",
       "      <td>0.002125</td>\n",
       "      <td>0.022339</td>\n",
       "      <td>0</td>\n",
       "    </tr>\n",
       "    <tr>\n",
       "      <th>1</th>\n",
       "      <td>1.0</td>\n",
       "      <td>2002-07-03</td>\n",
       "      <td>0.018747</td>\n",
       "      <td>0.018747</td>\n",
       "      <td>0.000351</td>\n",
       "      <td>0.112890</td>\n",
       "      <td>1</td>\n",
       "    </tr>\n",
       "    <tr>\n",
       "      <th>2</th>\n",
       "      <td>1.0</td>\n",
       "      <td>2002-07-08</td>\n",
       "      <td>-0.010717</td>\n",
       "      <td>0.010717</td>\n",
       "      <td>0.000115</td>\n",
       "      <td>0.159018</td>\n",
       "      <td>2</td>\n",
       "    </tr>\n",
       "    <tr>\n",
       "      <th>3</th>\n",
       "      <td>1.0</td>\n",
       "      <td>2002-07-09</td>\n",
       "      <td>0.019075</td>\n",
       "      <td>0.019075</td>\n",
       "      <td>0.000364</td>\n",
       "      <td>0.020062</td>\n",
       "      <td>3</td>\n",
       "    </tr>\n",
       "    <tr>\n",
       "      <th>4</th>\n",
       "      <td>1.0</td>\n",
       "      <td>2002-07-10</td>\n",
       "      <td>-0.103931</td>\n",
       "      <td>0.103931</td>\n",
       "      <td>0.010802</td>\n",
       "      <td>0.008890</td>\n",
       "      <td>4</td>\n",
       "    </tr>\n",
       "  </tbody>\n",
       "</table>\n",
       "</div>"
      ],
      "text/plain": [
       "   const        Date        Rm  AbsoluteRm  SquaredRm      Csad  index\n",
       "0    1.0  2002-07-02 -0.046100    0.046100   0.002125  0.022339      0\n",
       "1    1.0  2002-07-03  0.018747    0.018747   0.000351  0.112890      1\n",
       "2    1.0  2002-07-08 -0.010717    0.010717   0.000115  0.159018      2\n",
       "3    1.0  2002-07-09  0.019075    0.019075   0.000364  0.020062      3\n",
       "4    1.0  2002-07-10 -0.103931    0.103931   0.010802  0.008890      4"
      ]
     },
     "execution_count": 6,
     "metadata": {},
     "output_type": "execute_result"
    }
   ],
   "source": [
    "np.seterr(divide = 'ignore')\n",
    "\n",
    "# all\n",
    "df = pd.read_csv('data/output/bonds/herding_bondMarket_2002-2022.csv')\n",
    "df = df.dropna()\n",
    "# add constant\n",
    "df = add_constant(df, has_constant='add')\n",
    "df['index'] = df.index\n",
    "\n",
    "# retail\n",
    "# df_ret = pd.read_csv('data/output/bonds/herding_bondMarket_ret_2002-2022.csv')\n",
    "# df_ret = df_ret.dropna()\n",
    "# add constant\n",
    "# df_ret = add_constant(df_ret, has_constant='add')\n",
    "\n",
    "# retail\n",
    "# df_int = pd.read_csv('data/output/bonds/herding_bondMarket_int_2002-2022.csv')\n",
    "# df_int = df_int.dropna()\n",
    "# add constant\n",
    "# df_int = add_constant(df_int, has_constant='add')\n",
    "\n",
    "df.head()"
   ]
  },
  {
   "cell_type": "code",
   "execution_count": null,
   "id": "d6df4881",
   "metadata": {},
   "outputs": [],
   "source": [
    "# period splitting\n",
    "df = df[(df['Date'] >= '2002-01-01') & (df['Date'] < '2023-01-01')]\n",
    "df_ret = df_ret[(df_ret['Date'] >= '2002-01-01') & (df_ret['Date'] < '2023-01-01')]\n",
    "df_int = df_int[(df_int['Date'] >= '2002-01-01') & (df_int['Date'] < '2023-01-01')]"
   ]
  },
  {
   "cell_type": "markdown",
   "id": "88ec72c3",
   "metadata": {},
   "source": [
    "## Model 1: All"
   ]
  },
  {
   "cell_type": "markdown",
   "id": "37550cd0",
   "metadata": {},
   "source": [
    "#### OLS"
   ]
  },
  {
   "cell_type": "code",
   "execution_count": null,
   "id": "1ee16a1f",
   "metadata": {},
   "outputs": [],
   "source": [
    "x1 = df[\n",
    "    ['Rm', 'AbsoluteRm', 'SquaredRm']\n",
    "]\n",
    "y1 = df['Csad']\n",
    "\n",
    "model1 = sm.OLS(y1, x1).fit()\n",
    "\n",
    "print(model1.summary())"
   ]
  },
  {
   "cell_type": "markdown",
   "id": "246bcce8",
   "metadata": {},
   "source": [
    "#### TSNL"
   ]
  },
  {
   "cell_type": "code",
   "execution_count": 8,
   "id": "42ff48f2",
   "metadata": {},
   "outputs": [
    {
     "name": "stdout",
     "output_type": "stream",
     "text": [
      "                          IV-GMM Estimation Summary                           \n",
      "==============================================================================\n",
      "Dep. Variable:                   Csad   R-squared:                      0.2859\n",
      "Estimator:                     IV-GMM   Adj. R-squared:                 0.2853\n",
      "No. Observations:                4912   F-statistic:                -8.754e-08\n",
      "Date:                Fri, Aug 25 2023   P-value (F-stat)                1.0000\n",
      "Time:                        14:49:02   Distribution:                  chi2(4)\n",
      "Cov. Estimator:            unadjusted                                         \n",
      "                                                                              \n",
      "                             Parameter Estimates                              \n",
      "==============================================================================\n",
      "            Parameter  Std. Err.     T-stat    P-value    Lower CI    Upper CI\n",
      "------------------------------------------------------------------------------\n",
      "Rm            -25.000  4.223e+05  -5.92e-05     1.0000  -8.277e+05   8.277e+05\n",
      "AbsoluteRm     26.000  9.422e+05   2.76e-05     1.0000  -1.847e+06   1.847e+06\n",
      "SquaredRm      0.0312     7096.8  4.403e-06     1.0000  -1.391e+04   1.391e+04\n",
      "index       1.144e-05     3.9503  2.897e-06     1.0000     -7.7425      7.7425\n",
      "const          0.0625  1.742e+04  3.588e-06     1.0000  -3.414e+04   3.414e+04\n",
      "==============================================================================\n"
     ]
    }
   ],
   "source": [
    "res_ols_v1 = IVGMM(\n",
    "    df.Csad, df[\n",
    "        ['Rm', 'AbsoluteRm', 'SquaredRm', 'index', 'const']\n",
    "    ], None, None\n",
    ").fit(cov_type='unadjusted')\n",
    "\n",
    "print(res_ols_v1)"
   ]
  },
  {
   "cell_type": "markdown",
   "id": "2033f7e5",
   "metadata": {},
   "source": [
    "## Model 2: Retail"
   ]
  },
  {
   "cell_type": "markdown",
   "id": "03ba6bb3",
   "metadata": {},
   "source": [
    "#### OLS"
   ]
  },
  {
   "cell_type": "code",
   "execution_count": null,
   "id": "e83ae0ef",
   "metadata": {},
   "outputs": [],
   "source": [
    "x1 = df_ret[\n",
    "    ['Rm', 'AbsoluteRm', 'SquaredRm']\n",
    "]\n",
    "y1 = df_ret['Csad']\n",
    "\n",
    "model2 = sm.OLS(y1, x1).fit()\n",
    "\n",
    "print(model2.summary())"
   ]
  },
  {
   "cell_type": "markdown",
   "id": "316b7641",
   "metadata": {},
   "source": [
    "#### TSNL"
   ]
  },
  {
   "cell_type": "code",
   "execution_count": null,
   "id": "55807c7c",
   "metadata": {},
   "outputs": [],
   "source": [
    "res_ols_v2 = IVGMM(\n",
    "    df_ret.Csad, df_ret[\n",
    "        ['Rm', 'AbsoluteRm', 'SquaredRm', 'const']\n",
    "    ], None, None\n",
    ").fit(cov_type='unadjusted')\n",
    "\n",
    "print(res_ols_v2)"
   ]
  },
  {
   "cell_type": "markdown",
   "id": "b0fa11d6",
   "metadata": {},
   "source": [
    "## Model 3: Institunional|"
   ]
  },
  {
   "cell_type": "markdown",
   "id": "b833cca5",
   "metadata": {},
   "source": [
    "#### OLS"
   ]
  },
  {
   "cell_type": "code",
   "execution_count": null,
   "id": "b4ea352d",
   "metadata": {},
   "outputs": [],
   "source": [
    "x1 = df_int[\n",
    "    ['Rm', 'AbsoluteRm', 'SquaredRm']\n",
    "]\n",
    "y1 = df_int['Csad']\n",
    "\n",
    "model3 = sm.OLS(y1, x1).fit()\n",
    "\n",
    "print(model3.summary())"
   ]
  },
  {
   "cell_type": "markdown",
   "id": "5f2f1368",
   "metadata": {},
   "source": [
    "#### TSNL"
   ]
  },
  {
   "cell_type": "code",
   "execution_count": null,
   "id": "c846fa25",
   "metadata": {},
   "outputs": [],
   "source": [
    "res_ols_v3 = IVGMM(\n",
    "    df_int.Csad, df_int[\n",
    "        ['Rm', 'AbsoluteRm', 'SquaredRm', 'const']\n",
    "    ], None, None\n",
    ").fit(cov_type='unadjusted')\n",
    "\n",
    "print(res_ols_v3)"
   ]
  }
 ],
 "metadata": {
  "kernelspec": {
   "display_name": "Python 3 (ipykernel)",
   "language": "python",
   "name": "python3"
  },
  "language_info": {
   "codemirror_mode": {
    "name": "ipython",
    "version": 3
   },
   "file_extension": ".py",
   "mimetype": "text/x-python",
   "name": "python",
   "nbconvert_exporter": "python",
   "pygments_lexer": "ipython3",
   "version": "3.10.12"
  }
 },
 "nbformat": 4,
 "nbformat_minor": 5
}
