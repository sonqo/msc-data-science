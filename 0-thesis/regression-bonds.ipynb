{
 "cells": [
  {
   "cell_type": "code",
   "execution_count": 1,
   "id": "cde8ac56",
   "metadata": {},
   "outputs": [],
   "source": [
    "import numpy as np\n",
    "import pandas as pd\n",
    "import statsmodels.api as sm\n",
    "from linearmodels.iv import IVGMM\n",
    "from linearmodels.iv import IV2SLS\n",
    "from statsmodels.api import add_constant"
   ]
  },
  {
   "cell_type": "code",
   "execution_count": 2,
   "id": "5ae279b1",
   "metadata": {},
   "outputs": [
    {
     "data": {
      "text/html": [
       "<div>\n",
       "<style scoped>\n",
       "    .dataframe tbody tr th:only-of-type {\n",
       "        vertical-align: middle;\n",
       "    }\n",
       "\n",
       "    .dataframe tbody tr th {\n",
       "        vertical-align: top;\n",
       "    }\n",
       "\n",
       "    .dataframe thead th {\n",
       "        text-align: right;\n",
       "    }\n",
       "</style>\n",
       "<table border=\"1\" class=\"dataframe\">\n",
       "  <thead>\n",
       "    <tr style=\"text-align: right;\">\n",
       "      <th></th>\n",
       "      <th>const</th>\n",
       "      <th>Date</th>\n",
       "      <th>Rm</th>\n",
       "      <th>AbsoluteRm</th>\n",
       "      <th>SquaredRm</th>\n",
       "      <th>Csad</th>\n",
       "      <th>LeftTail</th>\n",
       "      <th>RightTail</th>\n",
       "      <th>index</th>\n",
       "    </tr>\n",
       "  </thead>\n",
       "  <tbody>\n",
       "    <tr>\n",
       "      <th>0</th>\n",
       "      <td>1.0</td>\n",
       "      <td>2002-07-31</td>\n",
       "      <td>-0.002323</td>\n",
       "      <td>0.002323</td>\n",
       "      <td>0.000005</td>\n",
       "      <td>0.072513</td>\n",
       "      <td>0</td>\n",
       "      <td>0</td>\n",
       "      <td>0</td>\n",
       "    </tr>\n",
       "    <tr>\n",
       "      <th>1</th>\n",
       "      <td>1.0</td>\n",
       "      <td>2002-08-31</td>\n",
       "      <td>0.034931</td>\n",
       "      <td>0.034931</td>\n",
       "      <td>0.001220</td>\n",
       "      <td>1.890931</td>\n",
       "      <td>0</td>\n",
       "      <td>1</td>\n",
       "      <td>1</td>\n",
       "    </tr>\n",
       "    <tr>\n",
       "      <th>2</th>\n",
       "      <td>1.0</td>\n",
       "      <td>2002-09-30</td>\n",
       "      <td>0.002131</td>\n",
       "      <td>0.002131</td>\n",
       "      <td>0.000005</td>\n",
       "      <td>0.987137</td>\n",
       "      <td>0</td>\n",
       "      <td>0</td>\n",
       "      <td>2</td>\n",
       "    </tr>\n",
       "    <tr>\n",
       "      <th>3</th>\n",
       "      <td>1.0</td>\n",
       "      <td>2002-10-31</td>\n",
       "      <td>-0.006728</td>\n",
       "      <td>0.006728</td>\n",
       "      <td>0.000045</td>\n",
       "      <td>0.820465</td>\n",
       "      <td>0</td>\n",
       "      <td>0</td>\n",
       "      <td>3</td>\n",
       "    </tr>\n",
       "    <tr>\n",
       "      <th>4</th>\n",
       "      <td>1.0</td>\n",
       "      <td>2002-11-30</td>\n",
       "      <td>0.045550</td>\n",
       "      <td>0.045550</td>\n",
       "      <td>0.002075</td>\n",
       "      <td>3.016086</td>\n",
       "      <td>0</td>\n",
       "      <td>1</td>\n",
       "      <td>4</td>\n",
       "    </tr>\n",
       "  </tbody>\n",
       "</table>\n",
       "</div>"
      ],
      "text/plain": [
       "   const        Date        Rm  AbsoluteRm  SquaredRm      Csad  LeftTail  \\\n",
       "0    1.0  2002-07-31 -0.002323    0.002323   0.000005  0.072513         0   \n",
       "1    1.0  2002-08-31  0.034931    0.034931   0.001220  1.890931         0   \n",
       "2    1.0  2002-09-30  0.002131    0.002131   0.000005  0.987137         0   \n",
       "3    1.0  2002-10-31 -0.006728    0.006728   0.000045  0.820465         0   \n",
       "4    1.0  2002-11-30  0.045550    0.045550   0.002075  3.016086         0   \n",
       "\n",
       "   RightTail  index  \n",
       "0          0      0  \n",
       "1          1      1  \n",
       "2          0      2  \n",
       "3          0      3  \n",
       "4          1      4  "
      ]
     },
     "execution_count": 2,
     "metadata": {},
     "output_type": "execute_result"
    }
   ],
   "source": [
    "np.seterr(divide = 'ignore')\n",
    "\n",
    "# all\n",
    "df = pd.read_csv('data/output/bonds/herding_bondMarket_None_2002-2022.csv')\n",
    "df = df.dropna()\n",
    "# add constant\n",
    "df = add_constant(df, has_constant='add')\n",
    "df['index'] = df.index\n",
    "\n",
    "# retail\n",
    "# df_ret = pd.read_csv('data/output/bonds/herding_bondMarket_ret_2002-2022.csv')\n",
    "# df_ret = df_ret.dropna()\n",
    "# add constant\n",
    "# df_ret = add_constant(df_ret, has_constant='add')\n",
    "\n",
    "# retail\n",
    "# df_int = pd.read_csv('data/output/bonds/herding_bondMarket_int_2002-2022.csv')\n",
    "# df_int = df_int.dropna()\n",
    "# add constant\n",
    "# df_int = add_constant(df_int, has_constant='add')\n",
    "\n",
    "df.head()"
   ]
  },
  {
   "cell_type": "code",
   "execution_count": null,
   "id": "d6df4881",
   "metadata": {},
   "outputs": [],
   "source": [
    "# period splitting\n",
    "df = df[(df['Date'] >= '2002-01-01') & (df['Date'] < '2023-01-01')]\n",
    "df_ret = df_ret[(df_ret['Date'] >= '2002-01-01') & (df_ret['Date'] < '2023-01-01')]\n",
    "df_int = df_int[(df_int['Date'] >= '2002-01-01') & (df_int['Date'] < '2023-01-01')]"
   ]
  },
  {
   "cell_type": "markdown",
   "id": "88ec72c3",
   "metadata": {},
   "source": [
    "## Model 1: All"
   ]
  },
  {
   "cell_type": "markdown",
   "id": "37550cd0",
   "metadata": {},
   "source": [
    "#### OLS"
   ]
  },
  {
   "cell_type": "code",
   "execution_count": null,
   "id": "1ee16a1f",
   "metadata": {},
   "outputs": [],
   "source": [
    "x1 = df[\n",
    "    ['Rm', 'AbsoluteRm', 'SquaredRm']\n",
    "]\n",
    "y1 = df['Csad']\n",
    "\n",
    "model1 = sm.OLS(y1, x1).fit()\n",
    "\n",
    "print(model1.summary())"
   ]
  },
  {
   "cell_type": "markdown",
   "id": "246bcce8",
   "metadata": {},
   "source": [
    "#### TSNL"
   ]
  },
  {
   "cell_type": "code",
   "execution_count": 4,
   "id": "42ff48f2",
   "metadata": {},
   "outputs": [
    {
     "name": "stdout",
     "output_type": "stream",
     "text": [
      "                          IV-GMM Estimation Summary                           \n",
      "==============================================================================\n",
      "Dep. Variable:                   Csad   R-squared:                      0.7019\n",
      "Estimator:                     IV-GMM   Adj. R-squared:                 0.6969\n",
      "No. Observations:                 243   F-statistic:                    572.22\n",
      "Date:                Tue, Aug 29 2023   P-value (F-stat)                0.0000\n",
      "Time:                        13:56:41   Distribution:                  chi2(4)\n",
      "Cov. Estimator:            unadjusted                                         \n",
      "                                                                              \n",
      "                             Parameter Estimates                              \n",
      "==============================================================================\n",
      "            Parameter  Std. Err.     T-stat    P-value    Lower CI    Upper CI\n",
      "------------------------------------------------------------------------------\n",
      "Rm             0.7388     2.3617     0.3128     0.7544     -3.8900      5.3676\n",
      "AbsoluteRm     100.54     6.7164     14.969     0.0000      87.373      113.70\n",
      "SquaredRm     -481.46     97.135    -4.9567     0.0000     -671.85     -291.08\n",
      "index          0.0002     0.0005     0.4156     0.6777     -0.0008      0.0013\n",
      "const         -0.0257     0.0940    -0.2732     0.7847     -0.2099      0.1585\n",
      "==============================================================================\n"
     ]
    }
   ],
   "source": [
    "res_ols_v1 = IVGMM(\n",
    "    df.Csad, df[\n",
    "        ['Rm', 'AbsoluteRm', 'SquaredRm', 'index', 'const']\n",
    "    ], None, None\n",
    ").fit(cov_type='unadjusted')\n",
    "\n",
    "print(res_ols_v1)"
   ]
  },
  {
   "cell_type": "markdown",
   "id": "2033f7e5",
   "metadata": {},
   "source": [
    "## Model 2: Retail"
   ]
  },
  {
   "cell_type": "markdown",
   "id": "03ba6bb3",
   "metadata": {},
   "source": [
    "#### OLS"
   ]
  },
  {
   "cell_type": "code",
   "execution_count": null,
   "id": "e83ae0ef",
   "metadata": {},
   "outputs": [],
   "source": [
    "x1 = df_ret[\n",
    "    ['Rm', 'AbsoluteRm', 'SquaredRm']\n",
    "]\n",
    "y1 = df_ret['Csad']\n",
    "\n",
    "model2 = sm.OLS(y1, x1).fit()\n",
    "\n",
    "print(model2.summary())"
   ]
  },
  {
   "cell_type": "markdown",
   "id": "316b7641",
   "metadata": {},
   "source": [
    "#### TSNL"
   ]
  },
  {
   "cell_type": "code",
   "execution_count": null,
   "id": "55807c7c",
   "metadata": {},
   "outputs": [],
   "source": [
    "res_ols_v2 = IVGMM(\n",
    "    df_ret.Csad, df_ret[\n",
    "        ['Rm', 'AbsoluteRm', 'SquaredRm', 'const']\n",
    "    ], None, None\n",
    ").fit(cov_type='unadjusted')\n",
    "\n",
    "print(res_ols_v2)"
   ]
  },
  {
   "cell_type": "markdown",
   "id": "b0fa11d6",
   "metadata": {},
   "source": [
    "## Model 3: Institunional|"
   ]
  },
  {
   "cell_type": "markdown",
   "id": "b833cca5",
   "metadata": {},
   "source": [
    "#### OLS"
   ]
  },
  {
   "cell_type": "code",
   "execution_count": null,
   "id": "b4ea352d",
   "metadata": {},
   "outputs": [],
   "source": [
    "x1 = df_int[\n",
    "    ['Rm', 'AbsoluteRm', 'SquaredRm']\n",
    "]\n",
    "y1 = df_int['Csad']\n",
    "\n",
    "model3 = sm.OLS(y1, x1).fit()\n",
    "\n",
    "print(model3.summary())"
   ]
  },
  {
   "cell_type": "markdown",
   "id": "5f2f1368",
   "metadata": {},
   "source": [
    "#### TSNL"
   ]
  },
  {
   "cell_type": "code",
   "execution_count": null,
   "id": "c846fa25",
   "metadata": {},
   "outputs": [],
   "source": [
    "res_ols_v3 = IVGMM(\n",
    "    df_int.Csad, df_int[\n",
    "        ['Rm', 'AbsoluteRm', 'SquaredRm', 'const']\n",
    "    ], None, None\n",
    ").fit(cov_type='unadjusted')\n",
    "\n",
    "print(res_ols_v3)"
   ]
  }
 ],
 "metadata": {
  "kernelspec": {
   "display_name": "Python 3 (ipykernel)",
   "language": "python",
   "name": "python3"
  },
  "language_info": {
   "codemirror_mode": {
    "name": "ipython",
    "version": 3
   },
   "file_extension": ".py",
   "mimetype": "text/x-python",
   "name": "python",
   "nbconvert_exporter": "python",
   "pygments_lexer": "ipython3",
   "version": "3.10.12"
  }
 },
 "nbformat": 4,
 "nbformat_minor": 5
}
