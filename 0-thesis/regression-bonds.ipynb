{
 "cells": [
  {
   "cell_type": "code",
   "execution_count": 1,
   "id": "cde8ac56",
   "metadata": {},
   "outputs": [],
   "source": [
    "import numpy as np\n",
    "import pandas as pd\n",
    "import statsmodels.api as sm\n",
    "from linearmodels.iv import IVGMM\n",
    "from linearmodels.iv import IV2SLS\n",
    "from statsmodels.api import add_constant"
   ]
  },
  {
   "cell_type": "code",
   "execution_count": 2,
   "id": "5ae279b1",
   "metadata": {},
   "outputs": [
    {
     "data": {
      "text/html": [
       "<div>\n",
       "<style scoped>\n",
       "    .dataframe tbody tr th:only-of-type {\n",
       "        vertical-align: middle;\n",
       "    }\n",
       "\n",
       "    .dataframe tbody tr th {\n",
       "        vertical-align: top;\n",
       "    }\n",
       "\n",
       "    .dataframe thead th {\n",
       "        text-align: right;\n",
       "    }\n",
       "</style>\n",
       "<table border=\"1\" class=\"dataframe\">\n",
       "  <thead>\n",
       "    <tr style=\"text-align: right;\">\n",
       "      <th></th>\n",
       "      <th>const</th>\n",
       "      <th>Date</th>\n",
       "      <th>Rm</th>\n",
       "      <th>AbsoluteRm</th>\n",
       "      <th>SquaredRm</th>\n",
       "      <th>Csad</th>\n",
       "      <th>LeftTail</th>\n",
       "      <th>RightTail</th>\n",
       "    </tr>\n",
       "  </thead>\n",
       "  <tbody>\n",
       "    <tr>\n",
       "      <th>0</th>\n",
       "      <td>1.0</td>\n",
       "      <td>2002-07-31</td>\n",
       "      <td>-0.002184</td>\n",
       "      <td>0.002184</td>\n",
       "      <td>0.000005</td>\n",
       "      <td>0.072513</td>\n",
       "      <td>0</td>\n",
       "      <td>0</td>\n",
       "    </tr>\n",
       "    <tr>\n",
       "      <th>1</th>\n",
       "      <td>1.0</td>\n",
       "      <td>2002-08-31</td>\n",
       "      <td>0.034135</td>\n",
       "      <td>0.034135</td>\n",
       "      <td>0.001165</td>\n",
       "      <td>1.890931</td>\n",
       "      <td>0</td>\n",
       "      <td>1</td>\n",
       "    </tr>\n",
       "    <tr>\n",
       "      <th>2</th>\n",
       "      <td>1.0</td>\n",
       "      <td>2002-09-30</td>\n",
       "      <td>0.003122</td>\n",
       "      <td>0.003122</td>\n",
       "      <td>0.000010</td>\n",
       "      <td>0.987137</td>\n",
       "      <td>0</td>\n",
       "      <td>0</td>\n",
       "    </tr>\n",
       "    <tr>\n",
       "      <th>3</th>\n",
       "      <td>1.0</td>\n",
       "      <td>2002-10-31</td>\n",
       "      <td>-0.007174</td>\n",
       "      <td>0.007174</td>\n",
       "      <td>0.000051</td>\n",
       "      <td>0.820465</td>\n",
       "      <td>0</td>\n",
       "      <td>0</td>\n",
       "    </tr>\n",
       "    <tr>\n",
       "      <th>4</th>\n",
       "      <td>1.0</td>\n",
       "      <td>2002-11-30</td>\n",
       "      <td>0.043976</td>\n",
       "      <td>0.043976</td>\n",
       "      <td>0.001934</td>\n",
       "      <td>3.016087</td>\n",
       "      <td>0</td>\n",
       "      <td>1</td>\n",
       "    </tr>\n",
       "  </tbody>\n",
       "</table>\n",
       "</div>"
      ],
      "text/plain": [
       "   const        Date        Rm  AbsoluteRm  SquaredRm      Csad  LeftTail  \\\n",
       "0    1.0  2002-07-31 -0.002184    0.002184   0.000005  0.072513         0   \n",
       "1    1.0  2002-08-31  0.034135    0.034135   0.001165  1.890931         0   \n",
       "2    1.0  2002-09-30  0.003122    0.003122   0.000010  0.987137         0   \n",
       "3    1.0  2002-10-31 -0.007174    0.007174   0.000051  0.820465         0   \n",
       "4    1.0  2002-11-30  0.043976    0.043976   0.001934  3.016087         0   \n",
       "\n",
       "   RightTail  \n",
       "0          0  \n",
       "1          1  \n",
       "2          0  \n",
       "3          0  \n",
       "4          1  "
      ]
     },
     "execution_count": 2,
     "metadata": {},
     "output_type": "execute_result"
    }
   ],
   "source": [
    "np.seterr(divide = 'ignore')\n",
    "\n",
    "# all\n",
    "df = pd.read_csv('data/output/bonds/herding_bondMarket_None_2002-2022.csv')\n",
    "df = df.dropna()\n",
    "# add constant\n",
    "df = add_constant(df, has_constant='add')\n",
    "\n",
    "# retail\n",
    "df_ret = pd.read_csv('data/output/bonds/herding_bondMarket_ret_2002-2022.csv')\n",
    "df_ret = df_ret.dropna()\n",
    "# add constant\n",
    "df_ret = add_constant(df_ret, has_constant='add')\n",
    "\n",
    "# retail\n",
    "df_int = pd.read_csv('data/output/bonds/herding_bondMarket_int_2002-2022.csv')\n",
    "df_int = df_int.dropna()\n",
    "# add constant\n",
    "df_int = add_constant(df_int, has_constant='add')\n",
    "\n",
    "df.head()"
   ]
  },
  {
   "cell_type": "code",
   "execution_count": 3,
   "id": "d6df4881",
   "metadata": {},
   "outputs": [],
   "source": [
    "# period splitting\n",
    "df = df[(df['Date'] >= '2002-01-01') & (df['Date'] < '2023-01-01')]\n",
    "df_ret = df_ret[(df_ret['Date'] >= '2002-01-01') & (df_ret['Date'] < '2023-01-01')]\n",
    "df_int = df_int[(df_int['Date'] >= '2002-01-01') & (df_int['Date'] < '2023-01-01')]"
   ]
  },
  {
   "cell_type": "markdown",
   "id": "88ec72c3",
   "metadata": {},
   "source": [
    "## Model 1: All"
   ]
  },
  {
   "cell_type": "markdown",
   "id": "37550cd0",
   "metadata": {},
   "source": [
    "#### OLS"
   ]
  },
  {
   "cell_type": "code",
   "execution_count": 4,
   "id": "1ee16a1f",
   "metadata": {},
   "outputs": [
    {
     "name": "stdout",
     "output_type": "stream",
     "text": [
      "                            OLS Regression Results                            \n",
      "==============================================================================\n",
      "Dep. Variable:                   Csad   R-squared:                       0.748\n",
      "Model:                            OLS   Adj. R-squared:                  0.745\n",
      "Method:                 Least Squares   F-statistic:                     237.1\n",
      "Date:                Tue, 22 Aug 2023   Prob (F-statistic):           2.53e-71\n",
      "Time:                        01:48:20   Log-Likelihood:                -194.87\n",
      "No. Observations:                 243   AIC:                             397.7\n",
      "Df Residuals:                     239   BIC:                             411.7\n",
      "Df Model:                           3                                         \n",
      "Covariance Type:            nonrobust                                         \n",
      "==============================================================================\n",
      "                 coef    std err          t      P>|t|      [0.025      0.975]\n",
      "------------------------------------------------------------------------------\n",
      "const         -0.0065      0.062     -0.104      0.917      -0.128       0.116\n",
      "Rm             0.2472      2.135      0.116      0.908      -3.958       4.452\n",
      "AbsoluteRm    97.2557      6.350     15.317      0.000      84.747     109.764\n",
      "SquaredRm   -392.2772     96.346     -4.072      0.000    -582.073    -202.481\n",
      "==============================================================================\n",
      "Omnibus:                      203.085   Durbin-Watson:                   1.996\n",
      "Prob(Omnibus):                  0.000   Jarque-Bera (JB):             4636.793\n",
      "Skew:                           3.101   Prob(JB):                         0.00\n",
      "Kurtosis:                      23.482   Cond. No.                     2.77e+03\n",
      "==============================================================================\n",
      "\n",
      "Notes:\n",
      "[1] Standard Errors assume that the covariance matrix of the errors is correctly specified.\n",
      "[2] The condition number is large, 2.77e+03. This might indicate that there are\n",
      "strong multicollinearity or other numerical problems.\n"
     ]
    }
   ],
   "source": [
    "x1 = df[\n",
    "    ['Rm', 'AbsoluteRm', 'SquaredRm']\n",
    "]\n",
    "y1 = df['Csad']\n",
    "\n",
    "x1 = sm.add_constant(x1)\n",
    "\n",
    "model1 = sm.OLS(y1, x1).fit()\n",
    "\n",
    "print(model1.summary())"
   ]
  },
  {
   "cell_type": "markdown",
   "id": "246bcce8",
   "metadata": {},
   "source": [
    "#### TSNL"
   ]
  },
  {
   "cell_type": "code",
   "execution_count": 5,
   "id": "42ff48f2",
   "metadata": {},
   "outputs": [
    {
     "name": "stdout",
     "output_type": "stream",
     "text": [
      "                          IV-GMM Estimation Summary                           \n",
      "==============================================================================\n",
      "Dep. Variable:                   Csad   R-squared:                      0.7485\n",
      "Estimator:                     IV-GMM   Adj. R-squared:                 0.7453\n",
      "No. Observations:                 243   F-statistic:                    723.05\n",
      "Date:                Tue, Aug 22 2023   P-value (F-stat)                0.0000\n",
      "Time:                        01:48:20   Distribution:                  chi2(3)\n",
      "Cov. Estimator:            unadjusted                                         \n",
      "                                                                              \n",
      "                             Parameter Estimates                              \n",
      "==============================================================================\n",
      "            Parameter  Std. Err.     T-stat    P-value    Lower CI    Upper CI\n",
      "------------------------------------------------------------------------------\n",
      "Rm             0.2472     2.1170     0.1168     0.9071     -3.9020      4.3964\n",
      "AbsoluteRm     97.256     6.2971     15.445     0.0000      84.914      109.60\n",
      "SquaredRm     -392.28     95.550    -4.1055     0.0000     -579.55     -205.00\n",
      "const         -0.0065     0.0614    -0.1050     0.9164     -0.1268      0.1139\n",
      "==============================================================================\n"
     ]
    }
   ],
   "source": [
    "res_ols_v1 = IVGMM(\n",
    "    df.Csad, df[\n",
    "        ['Rm', 'AbsoluteRm', 'SquaredRm', 'const']\n",
    "    ], None, None\n",
    ").fit(cov_type='unadjusted')\n",
    "\n",
    "print(res_ols_v1)"
   ]
  },
  {
   "cell_type": "markdown",
   "id": "2033f7e5",
   "metadata": {},
   "source": [
    "## Model 2: Retail"
   ]
  },
  {
   "cell_type": "markdown",
   "id": "03ba6bb3",
   "metadata": {},
   "source": [
    "#### OLS"
   ]
  },
  {
   "cell_type": "code",
   "execution_count": 6,
   "id": "e83ae0ef",
   "metadata": {},
   "outputs": [
    {
     "name": "stdout",
     "output_type": "stream",
     "text": [
      "                            OLS Regression Results                            \n",
      "==============================================================================\n",
      "Dep. Variable:                   Csad   R-squared:                       0.779\n",
      "Model:                            OLS   Adj. R-squared:                  0.776\n",
      "Method:                 Least Squares   F-statistic:                     279.1\n",
      "Date:                Tue, 22 Aug 2023   Prob (F-statistic):           1.24e-77\n",
      "Time:                        01:48:21   Log-Likelihood:                -178.67\n",
      "No. Observations:                 242   AIC:                             365.3\n",
      "Df Residuals:                     238   BIC:                             379.3\n",
      "Df Model:                           3                                         \n",
      "Covariance Type:            nonrobust                                         \n",
      "==============================================================================\n",
      "                 coef    std err          t      P>|t|      [0.025      0.975]\n",
      "------------------------------------------------------------------------------\n",
      "const          0.1715      0.061      2.809      0.005       0.051       0.292\n",
      "Rm             4.1637      4.120      1.011      0.313      -3.952      12.279\n",
      "AbsoluteRm   114.2215     11.745      9.726      0.000      91.085     137.358\n",
      "SquaredRm    749.8780    324.121      2.314      0.022     111.366    1388.390\n",
      "==============================================================================\n",
      "Omnibus:                       32.943   Durbin-Watson:                   2.005\n",
      "Prob(Omnibus):                  0.000   Jarque-Bera (JB):               57.141\n",
      "Skew:                           0.748   Prob(JB):                     3.91e-13\n",
      "Kurtosis:                       4.852   Cond. No.                     9.88e+03\n",
      "==============================================================================\n",
      "\n",
      "Notes:\n",
      "[1] Standard Errors assume that the covariance matrix of the errors is correctly specified.\n",
      "[2] The condition number is large, 9.88e+03. This might indicate that there are\n",
      "strong multicollinearity or other numerical problems.\n"
     ]
    }
   ],
   "source": [
    "x1 = df_ret[\n",
    "    ['Rm', 'AbsoluteRm', 'SquaredRm']\n",
    "]\n",
    "y1 = df_ret['Csad']\n",
    "\n",
    "x1 = sm.add_constant(x1)\n",
    "\n",
    "model2 = sm.OLS(y1, x1).fit()\n",
    "\n",
    "print(model2.summary())"
   ]
  },
  {
   "cell_type": "markdown",
   "id": "316b7641",
   "metadata": {},
   "source": [
    "#### TSNL"
   ]
  },
  {
   "cell_type": "code",
   "execution_count": 7,
   "id": "55807c7c",
   "metadata": {},
   "outputs": [
    {
     "name": "stdout",
     "output_type": "stream",
     "text": [
      "                          IV-GMM Estimation Summary                           \n",
      "==============================================================================\n",
      "Dep. Variable:                   Csad   R-squared:                      0.7787\n",
      "Estimator:                     IV-GMM   Adj. R-squared:                 0.7759\n",
      "No. Observations:                 242   F-statistic:                    851.47\n",
      "Date:                Tue, Aug 22 2023   P-value (F-stat)                0.0000\n",
      "Time:                        01:48:21   Distribution:                  chi2(3)\n",
      "Cov. Estimator:            unadjusted                                         \n",
      "                                                                              \n",
      "                             Parameter Estimates                              \n",
      "==============================================================================\n",
      "            Parameter  Std. Err.     T-stat    P-value    Lower CI    Upper CI\n",
      "------------------------------------------------------------------------------\n",
      "Rm             4.1637     4.0854     1.0192     0.3081     -3.8436      12.171\n",
      "AbsoluteRm     114.22     11.647     9.8069     0.0000      91.394      137.05\n",
      "SquaredRm      749.88     321.43     2.3329     0.0197      119.88      1379.9\n",
      "const          0.1715     0.0605     2.8327     0.0046      0.0528      0.2901\n",
      "==============================================================================\n"
     ]
    }
   ],
   "source": [
    "res_ols_v2 = IVGMM(\n",
    "    df_ret.Csad, df_ret[\n",
    "        ['Rm', 'AbsoluteRm', 'SquaredRm', 'const']\n",
    "    ], None, None\n",
    ").fit(cov_type='unadjusted')\n",
    "\n",
    "print(res_ols_v2)"
   ]
  },
  {
   "cell_type": "markdown",
   "id": "b0fa11d6",
   "metadata": {},
   "source": [
    "## Model 3: Institunional|"
   ]
  },
  {
   "cell_type": "markdown",
   "id": "b833cca5",
   "metadata": {},
   "source": [
    "#### OLS"
   ]
  },
  {
   "cell_type": "code",
   "execution_count": 8,
   "id": "b4ea352d",
   "metadata": {},
   "outputs": [
    {
     "name": "stdout",
     "output_type": "stream",
     "text": [
      "                            OLS Regression Results                            \n",
      "==============================================================================\n",
      "Dep. Variable:                   Csad   R-squared:                       0.748\n",
      "Model:                            OLS   Adj. R-squared:                  0.745\n",
      "Method:                 Least Squares   F-statistic:                     237.0\n",
      "Date:                Tue, 22 Aug 2023   Prob (F-statistic):           2.56e-71\n",
      "Time:                        01:48:21   Log-Likelihood:                -194.88\n",
      "No. Observations:                 243   AIC:                             397.8\n",
      "Df Residuals:                     239   BIC:                             411.7\n",
      "Df Model:                           3                                         \n",
      "Covariance Type:            nonrobust                                         \n",
      "==============================================================================\n",
      "                 coef    std err          t      P>|t|      [0.025      0.975]\n",
      "------------------------------------------------------------------------------\n",
      "const         -0.0065      0.062     -0.104      0.917      -0.128       0.116\n",
      "Rm             0.2474      2.135      0.116      0.908      -3.958       4.452\n",
      "AbsoluteRm    97.2549      6.349     15.318      0.000      84.747     109.762\n",
      "SquaredRm   -392.3429     96.326     -4.073      0.000    -582.099    -202.587\n",
      "==============================================================================\n",
      "Omnibus:                      203.091   Durbin-Watson:                   1.996\n",
      "Prob(Omnibus):                  0.000   Jarque-Bera (JB):             4637.196\n",
      "Skew:                           3.101   Prob(JB):                         0.00\n",
      "Kurtosis:                      23.483   Cond. No.                     2.76e+03\n",
      "==============================================================================\n",
      "\n",
      "Notes:\n",
      "[1] Standard Errors assume that the covariance matrix of the errors is correctly specified.\n",
      "[2] The condition number is large, 2.76e+03. This might indicate that there are\n",
      "strong multicollinearity or other numerical problems.\n"
     ]
    }
   ],
   "source": [
    "x1 = df_int[\n",
    "    ['Rm', 'AbsoluteRm', 'SquaredRm']\n",
    "]\n",
    "y1 = df_int['Csad']\n",
    "\n",
    "x1 = sm.add_constant(x1)\n",
    "\n",
    "model3 = sm.OLS(y1, x1).fit()\n",
    "\n",
    "print(model3.summary())"
   ]
  },
  {
   "cell_type": "markdown",
   "id": "5f2f1368",
   "metadata": {},
   "source": [
    "#### TSNL"
   ]
  },
  {
   "cell_type": "code",
   "execution_count": 9,
   "id": "c846fa25",
   "metadata": {},
   "outputs": [
    {
     "name": "stdout",
     "output_type": "stream",
     "text": [
      "                          IV-GMM Estimation Summary                           \n",
      "==============================================================================\n",
      "Dep. Variable:                   Csad   R-squared:                      0.7484\n",
      "Estimator:                     IV-GMM   Adj. R-squared:                 0.7453\n",
      "No. Observations:                 243   F-statistic:                    722.94\n",
      "Date:                Tue, Aug 22 2023   P-value (F-stat)                0.0000\n",
      "Time:                        01:48:21   Distribution:                  chi2(3)\n",
      "Cov. Estimator:            unadjusted                                         \n",
      "                                                                              \n",
      "                             Parameter Estimates                              \n",
      "==============================================================================\n",
      "            Parameter  Std. Err.     T-stat    P-value    Lower CI    Upper CI\n",
      "------------------------------------------------------------------------------\n",
      "Rm             0.2474     2.1170     0.1169     0.9070     -3.9018      4.3966\n",
      "AbsoluteRm     97.255     6.2967     15.445     0.0000      84.914      109.60\n",
      "SquaredRm     -392.34     95.530    -4.1070     0.0000     -579.58     -205.11\n",
      "const         -0.0065     0.0614    -0.1052     0.9162     -0.1268      0.1139\n",
      "==============================================================================\n"
     ]
    }
   ],
   "source": [
    "res_ols_v3 = IVGMM(\n",
    "    df_int.Csad, df_int[\n",
    "        ['Rm', 'AbsoluteRm', 'SquaredRm', 'const']\n",
    "    ], None, None\n",
    ").fit(cov_type='unadjusted')\n",
    "\n",
    "print(res_ols_v3)"
   ]
  }
 ],
 "metadata": {
  "kernelspec": {
   "display_name": "Python 3 (ipykernel)",
   "language": "python",
   "name": "python3"
  },
  "language_info": {
   "codemirror_mode": {
    "name": "ipython",
    "version": 3
   },
   "file_extension": ".py",
   "mimetype": "text/x-python",
   "name": "python",
   "nbconvert_exporter": "python",
   "pygments_lexer": "ipython3",
   "version": "3.10.12"
  }
 },
 "nbformat": 4,
 "nbformat_minor": 5
}
