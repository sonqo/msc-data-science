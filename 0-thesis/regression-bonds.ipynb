{
 "cells": [
  {
   "cell_type": "code",
   "execution_count": null,
   "id": "cde8ac56",
   "metadata": {},
   "outputs": [],
   "source": [
    "import numpy as np\n",
    "import pandas as pd\n",
    "import statsmodels.api as sm\n",
    "import matplotlib.pyplot as plt"
   ]
  },
  {
   "cell_type": "code",
   "execution_count": null,
   "id": "5ae279b1",
   "metadata": {},
   "outputs": [],
   "source": [
    "np.seterr(divide = 'ignore')\n",
    "\n",
    "df = pd.read_csv('data/output/bonds/herding_bondMarket_2002-2022.csv')\n",
    "df = df.dropna()\n",
    "df.head()"
   ]
  },
  {
   "cell_type": "code",
   "execution_count": null,
   "id": "d6df4881",
   "metadata": {},
   "outputs": [],
   "source": [
    "# period splitting\n",
    "# df = df[(df['Date'] >= '2004-01-01') & (df['Date'] < '2008-01-01')]"
   ]
  },
  {
   "cell_type": "markdown",
   "id": "88ec72c3",
   "metadata": {},
   "source": [
    "## Model 1"
   ]
  },
  {
   "cell_type": "code",
   "execution_count": null,
   "id": "42ff48f2",
   "metadata": {},
   "outputs": [],
   "source": [
    "x1 = df[\n",
    "    ['Rm', 'AbsoluteRm', 'SquaredRm']\n",
    "]\n",
    "y1 = df['Csad']\n",
    "\n",
    "x1 = sm.add_constant(x1)\n",
    "\n",
    "model1 = sm.OLS(y1, x1).fit()\n",
    "\n",
    "print(model1.summary())"
   ]
  },
  {
   "cell_type": "markdown",
   "id": "2033f7e5",
   "metadata": {},
   "source": [
    "## Model 2"
   ]
  },
  {
   "cell_type": "code",
   "execution_count": null,
   "id": "a4cec20a",
   "metadata": {},
   "outputs": [],
   "source": [
    "df['Csad_Fund'] = df['Csad'] - np.sqrt(model1.scale)"
   ]
  },
  {
   "cell_type": "code",
   "execution_count": null,
   "id": "55807c7c",
   "metadata": {},
   "outputs": [],
   "source": [
    "x3 = df[\n",
    "    ['Rm', 'AbsoluteRm', 'SquaredRm']\n",
    "]\n",
    "y3 = df['Csad_Fund']\n",
    "\n",
    "x3 = sm.add_constant(x3)\n",
    "\n",
    "model3 = sm.OLS(y3, x3).fit()\n",
    "\n",
    "print(model3.summary())"
   ]
  },
  {
   "cell_type": "markdown",
   "id": "b0fa11d6",
   "metadata": {},
   "source": [
    "## Model 3"
   ]
  },
  {
   "cell_type": "code",
   "execution_count": null,
   "id": "b6c17ed0",
   "metadata": {},
   "outputs": [],
   "source": [
    "df['CSAD_nonFund'] = np.sqrt(model1.scale)"
   ]
  },
  {
   "cell_type": "code",
   "execution_count": null,
   "id": "c846fa25",
   "metadata": {},
   "outputs": [],
   "source": [
    "x4 = df[\n",
    "    ['Rm', 'AbsoluteRm', 'SquaredRm']\n",
    "]\n",
    "y4 = df['CSAD_nonFund']\n",
    "\n",
    "x4 = sm.add_constant(x3)\n",
    "\n",
    "model4 = sm.OLS(y4, x4).fit()\n",
    "\n",
    "print(model4.summary())"
   ]
  }
 ],
 "metadata": {
  "kernelspec": {
   "display_name": "Python 3 (ipykernel)",
   "language": "python",
   "name": "python3"
  },
  "language_info": {
   "codemirror_mode": {
    "name": "ipython",
    "version": 3
   },
   "file_extension": ".py",
   "mimetype": "text/x-python",
   "name": "python",
   "nbconvert_exporter": "python",
   "pygments_lexer": "ipython3",
   "version": "3.11.4"
  }
 },
 "nbformat": 4,
 "nbformat_minor": 5
}
