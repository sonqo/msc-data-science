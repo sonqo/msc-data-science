{
 "cells": [
  {
   "cell_type": "code",
   "execution_count": 1,
   "id": "5a052f9b",
   "metadata": {},
   "outputs": [],
   "source": [
    "import os\n",
    "import numpy as np\n",
    "import pandas as pd\n",
    "import datetime as dt\n",
    "from scipy import stats\n",
    "import sqlalchemy as db\n",
    "from dotenv import load_dotenv\n",
    "import matplotlib.pyplot as plt\n",
    "from pandas.tseries.offsets import *\n",
    "\n",
    "np.seterr(divide = 'ignore')\n",
    "pd.set_option('display.max_rows', 500)"
   ]
  },
  {
   "cell_type": "code",
   "execution_count": 2,
   "id": "60a1e5e7",
   "metadata": {},
   "outputs": [],
   "source": [
    "load_dotenv()\n",
    "\n",
    "# config and credentials\n",
    "server = os.getenv('server')\n",
    "database = os.getenv('database')\n",
    "username = os.getenv('username')\n",
    "password = os.getenv('password')\n",
    "\n",
    "# connection\n",
    "engine = db.create_engine(\n",
    "    'mssql://{}:{}@{}/{}?driver=ODBC+Driver+18+for+SQL+Server'.format(\n",
    "        username, password, server, database\n",
    "    )\n",
    ")\n",
    "\n",
    "# establish connection\n",
    "connection = engine.connect()"
   ]
  },
  {
   "cell_type": "code",
   "execution_count": 3,
   "id": "6764cb89",
   "metadata": {},
   "outputs": [],
   "source": [
    "def get_sample_particulars(df):\n",
    "    print('Number of observations: {:,}'.format(len(df.index)))\n",
    "    print('Returns: Mean: {:.5f} | Median: {:.5f} | Std returns: {:.5f}'.format(\n",
    "        100 * df['R'].mean(), 100 * df['R'].median(), df['R'].std()))\n",
    "    print('Volume mean: {:.5f}'.format(df['TDvolume'].mean()))\n",
    "    print('Coupon mean: {:.5f}'.format(df['Coupon'].mean()))\n",
    "    print('Yield mean: {:.5f}'.format(df['Yield'].mean()))"
   ]
  },
  {
   "cell_type": "markdown",
   "id": "5ba6d2bb",
   "metadata": {},
   "source": [
    "### Query Selection"
   ]
  },
  {
   "cell_type": "code",
   "execution_count": 4,
   "id": "46fc8b35",
   "metadata": {},
   "outputs": [],
   "source": [
    "# vanilla\n",
    "bondReturns_vanilla = '''\n",
    "    SELECT\n",
    "        Date,\n",
    "        Cusip,\n",
    "        CompanySymbol,\n",
    "        Coupon,\n",
    "        Yield,\n",
    "        TDvolume,\n",
    "        RetEom / 100 AS R,\n",
    "        RatingNum,\n",
    "        RatingClass,\n",
    "        CASE\n",
    "            WHEN DATEDIFF(DAY, OfferingDate, Maturity) * 1.0 / 360 < 5 THEN 1\n",
    "            WHEN DATEDIFF(DAY, OfferingDate, Maturity) * 1.0 / 360 < 15 THEN 2\n",
    "            ELSE 3\n",
    "        END AS MaturityBand\n",
    "    FROM \n",
    "        BondReturns\n",
    "    WHERE\n",
    "        Cusip IN (SELECT DISTINCT CusipId FROM Trace_filtered_withRatings )\n",
    "'''\n",
    "\n",
    "# top performing bonds\n",
    "bondReturns_topPerforming = '''\n",
    "    SELECT\n",
    "        A.Date,\n",
    "        A.Cusip,\n",
    "        A.CompanySymbol,\n",
    "        A.Coupon,\n",
    "        A.Yield,\n",
    "        A.TDvolume,\n",
    "        A.RetEom / 100 AS R,\n",
    "        A.RatingNum,\n",
    "        A.RatingClass,\n",
    "        CASE\n",
    "            WHEN DATEDIFF(DAY, A.OfferingDate, A.Maturity) * 1.0 / 360 < 5 THEN 1\n",
    "            WHEN DATEDIFF(DAY, A.OfferingDate, A.Maturity) * 1.0 / 360 < 15 THEN 2\n",
    "            ELSE 3\n",
    "        END AS MaturityBand\n",
    "    FROM\n",
    "        BondReturns A\n",
    "    INNER JOIN (\n",
    "        SELECT\n",
    "            Date,\n",
    "            CompanySymbol,\n",
    "            MAX(TDvolume) AS MaxVolume\n",
    "        FROM \n",
    "            BondReturns\n",
    "        WHERE\n",
    "            Cusip IN (SELECT DISTINCT CusipId FROM Trace_filtered_withRatings)\n",
    "        GROUP BY\n",
    "            Date,\n",
    "            CompanySymbol\n",
    "    ) B ON A.Date = B.Date AND A.CompanySymbol = B.CompanySymbol AND A.TDvolume = B.MaxVolume\n",
    "'''"
   ]
  },
  {
   "cell_type": "code",
   "execution_count": 5,
   "id": "b4590732",
   "metadata": {},
   "outputs": [
    {
     "name": "stdout",
     "output_type": "stream",
     "text": [
      "Please type: vanilla | topPerforming\n",
      "vanilla\n"
     ]
    }
   ],
   "source": [
    "query_selection = input('Please type: vanilla | topPerforming\\n')"
   ]
  },
  {
   "cell_type": "code",
   "execution_count": 6,
   "id": "872a34b8",
   "metadata": {},
   "outputs": [],
   "source": [
    "if query_selection == 'vanilla':\n",
    "    query = bondReturns_vanilla\n",
    "    query_n = 'bondReturns_vanilla'\n",
    "else:\n",
    "    query = bondReturns_topPerforming\n",
    "    query_n = 'bondReturns_topPerforming'\n",
    "\n",
    "# read sql\n",
    "# df = pd.read_sql(query, connection)\n",
    "# df.to_csv('data/output/bonds/{}.csv'.format(query_n), index=False)\n",
    "\n",
    "# read csv\n",
    "df = pd.read_csv('data/output/bonds/{}.csv'.format(query_n))\n",
    "df['Date'] = pd.to_datetime(df['Date'])"
   ]
  },
  {
   "cell_type": "markdown",
   "id": "baca9eda",
   "metadata": {},
   "source": [
    "### Quantile Filtering and Outlier Visualization"
   ]
  },
  {
   "cell_type": "code",
   "execution_count": 7,
   "id": "e77aec74",
   "metadata": {},
   "outputs": [],
   "source": [
    "df['quantiles'] = pd.qcut(df.R, np.linspace(0, 1, 201), labels=np.linspace(0, 1, 200)).astype(float)\n",
    "df['outliers'] = np.where((df['quantiles'] > 0.995) | (df['quantiles'] < 0.005), 1, 0)\n",
    "df['Year'] = df['Date'].dt.year"
   ]
  },
  {
   "cell_type": "code",
   "execution_count": 8,
   "id": "4549431a",
   "metadata": {},
   "outputs": [
    {
     "data": {
      "image/png": "[encoded data removed]",
      "text/plain": [
       "<Figure size 1200x500 with 1 Axes>"
      ]
     },
     "metadata": {},
     "output_type": "display_data"
    }
   ],
   "source": [
    "df_g = df.groupby('Year')['outliers'].sum().reset_index()\n",
    "\n",
    "plt.figure(figsize=(12, 5))\n",
    "plt.title('Outliers Distribution')\n",
    "plt.bar(df_g['Year'], df_g['outliers'], width = 0.6)\n",
    "plt.xticks([i for i in range(2002, 2023)], fontsize=8)\n",
    "plt.show()"
   ]
  },
  {
   "cell_type": "code",
   "execution_count": 9,
   "id": "a8f46fdf",
   "metadata": {},
   "outputs": [],
   "source": [
    "# filter out outliers\n",
    "df = df[df['outliers'] == 0]"
   ]
  },
  {
   "cell_type": "markdown",
   "id": "ec23624e",
   "metadata": {},
   "source": [
    "### Exploratory Analysis"
   ]
  },
  {
   "cell_type": "code",
   "execution_count": 10,
   "id": "9484ce81",
   "metadata": {},
   "outputs": [
    {
     "data": {
      "text/plain": [
       "60013"
      ]
     },
     "execution_count": 10,
     "metadata": {},
     "output_type": "execute_result"
    }
   ],
   "source": [
    "df['Cusip'].nunique()"
   ]
  },
  {
   "cell_type": "code",
   "execution_count": 11,
   "id": "91690134",
   "metadata": {},
   "outputs": [
    {
     "data": {
      "text/plain": [
       "0.IG    1081436\n",
       "1.HY     227090\n",
       "NaN      138051\n",
       "Name: RatingClass, dtype: int64"
      ]
     },
     "execution_count": 11,
     "metadata": {},
     "output_type": "execute_result"
    }
   ],
   "source": [
    "# number of entries\n",
    "df['RatingClass'].value_counts(dropna=False)"
   ]
  },
  {
   "cell_type": "code",
   "execution_count": 12,
   "id": "4c391225",
   "metadata": {},
   "outputs": [
    {
     "data": {
      "text/plain": [
       "RatingClass\n",
       "0.IG    22601\n",
       "1.HY     5662\n",
       "NaN     38275\n",
       "Name: Cusip, dtype: int64"
      ]
     },
     "execution_count": 12,
     "metadata": {},
     "output_type": "execute_result"
    }
   ],
   "source": [
    "# number of distinct Cusips\n",
    "df.groupby('RatingClass', dropna=False).Cusip.nunique()"
   ]
  },
  {
   "cell_type": "code",
   "execution_count": 13,
   "id": "253eb4e5",
   "metadata": {},
   "outputs": [
    {
     "data": {
      "text/plain": [
       "2    844810\n",
       "3    386935\n",
       "1     78071\n",
       "Name: MaturityBand, dtype: int64"
      ]
     },
     "execution_count": 13,
     "metadata": {},
     "output_type": "execute_result"
    }
   ],
   "source": [
    "# drop NR\n",
    "df = df.dropna(subset=['RatingNum'])\n",
    "\n",
    "# number of entries\n",
    "df['MaturityBand'].value_counts(dropna=False)"
   ]
  },
  {
   "cell_type": "code",
   "execution_count": 14,
   "id": "510b02ca",
   "metadata": {},
   "outputs": [
    {
     "data": {
      "text/plain": [
       "MaturityBand\n",
       "1     4327\n",
       "2    17281\n",
       "3     4484\n",
       "Name: Cusip, dtype: int64"
      ]
     },
     "execution_count": 14,
     "metadata": {},
     "output_type": "execute_result"
    }
   ],
   "source": [
    "# number of distinct Cusips\n",
    "df.groupby('MaturityBand').Cusip.nunique()"
   ]
  },
  {
   "cell_type": "code",
   "execution_count": 15,
   "id": "5279fc8f",
   "metadata": {},
   "outputs": [
    {
     "data": {
      "text/plain": [
       "26092"
      ]
     },
     "execution_count": 15,
     "metadata": {},
     "output_type": "execute_result"
    }
   ],
   "source": [
    "df['Cusip'].nunique()"
   ]
  },
  {
   "cell_type": "code",
   "execution_count": 16,
   "id": "98565e7a",
   "metadata": {},
   "outputs": [],
   "source": [
    "# filtering\n",
    "# df = df[df['MaturityBand'] == 1]\n",
    "# df = df[df['RatingClass'] == '1.HY']"
   ]
  },
  {
   "cell_type": "code",
   "execution_count": 17,
   "id": "f400fc67",
   "metadata": {},
   "outputs": [
    {
     "name": "stdout",
     "output_type": "stream",
     "text": [
      "Number of observations: 1,309,816\n",
      "Returns: Mean: 0.40973 | Median: 0.29740 | Std returns: 0.02681\n",
      "Volume mean: 51078836.47833\n",
      "Coupon mean: 5.32929\n",
      "Yield mean: 4.40405\n"
     ]
    }
   ],
   "source": [
    "get_sample_particulars(df)"
   ]
  },
  {
   "cell_type": "markdown",
   "id": "09eb3055",
   "metadata": {},
   "source": [
    "### Portfolio Analysis"
   ]
  },
  {
   "cell_type": "code",
   "execution_count": 18,
   "id": "f5edd7a5",
   "metadata": {},
   "outputs": [],
   "source": [
    "# fill NULL returns\n",
    "df['R'] = df['R'].fillna(0)\n",
    "\n",
    "# log returns\n",
    "df['logR'] = np.log(1 + df['R'])"
   ]
  },
  {
   "cell_type": "code",
   "execution_count": 19,
   "id": "4fcdb723",
   "metadata": {},
   "outputs": [],
   "source": [
    "J = 6 # formation period\n",
    "\n",
    "df_ = df[\n",
    "    ['Cusip', 'Date', 'R', 'logR']\n",
    "].sort_values(['Cusip', 'Date']).set_index('Date')\n",
    "\n",
    "cumr = df_.groupby(['Cusip'])['logR'].rolling(J, min_periods=J).sum().reset_index()\n",
    "cumr = cumr.rename(columns = {'logR': 'SumLogR'})\n",
    "\n",
    "cumr['CumRet'] = np.exp(cumr['SumLogR'])-1"
   ]
  },
  {
   "cell_type": "code",
   "execution_count": 20,
   "id": "df7ced8b",
   "metadata": {},
   "outputs": [],
   "source": [
    "r = 10 # momentum ranking\n",
    "\n",
    "cumr = cumr.dropna(axis=0, subset=['CumRet'])\n",
    "\n",
    "cumr['MomR'] = cumr.groupby('Date')['CumRet'].transform(lambda x: pd.qcut(x, r, labels=False))\n",
    "cumr['MomR'] = 1 + cumr['MomR'].astype(int)"
   ]
  },
  {
   "cell_type": "code",
   "execution_count": 21,
   "id": "33a68ede",
   "metadata": {},
   "outputs": [
    {
     "data": {
      "text/plain": [
       "MomR\n",
       "1    -0.052158\n",
       "2    -0.014285\n",
       "3    -0.001259\n",
       "4     0.008666\n",
       "5     0.017445\n",
       "6     0.026247\n",
       "7     0.035904\n",
       "8     0.048338\n",
       "9     0.067143\n",
       "10    0.121236\n",
       "Name: CumRet, dtype: float64"
      ]
     },
     "execution_count": 21,
     "metadata": {},
     "output_type": "execute_result"
    }
   ],
   "source": [
    "cumr.groupby('MomR')['CumRet'].mean()"
   ]
  },
  {
   "cell_type": "code",
   "execution_count": 22,
   "id": "2eeee8db",
   "metadata": {},
   "outputs": [],
   "source": [
    "K = 1 # Holding Period Length: K can be between 3 to 12 months\n",
    "\n",
    "cumr['form_date'] = cumr['Date']\n",
    "cumr['medate'] = cumr['Date'] + MonthEnd(0)\n",
    "cumr['hdate1'] = cumr['medate'] + MonthBegin(1)\n",
    "cumr['hdate2'] = cumr['medate'] + MonthEnd(K)\n",
    "cumr = cumr[['Cusip', 'form_date','MomR','hdate1','hdate2']]\n",
    "\n",
    "port = pd.merge(df[['Cusip', 'Date', 'R']], cumr, on=['Cusip'], how='inner')\n",
    "port = port[(port['hdate1'] <= port['Date']) & (port['Date'] <= port['hdate2'])]\n",
    "port = port[['Cusip','form_date', 'MomR', 'hdate1','hdate2', 'Date', 'R']]\n",
    "port['Date'] = pd.to_datetime(port['Date'])"
   ]
  },
  {
   "cell_type": "code",
   "execution_count": 23,
   "id": "191008cc",
   "metadata": {},
   "outputs": [],
   "source": [
    "cumr_port = port.groupby(['Date','MomR', 'form_date'])['R'].mean().reset_index()\n",
    "\n",
    "start_yr = cumr_port['Date'].dt.year.min()+2\n",
    "cumr_port = cumr_port.loc[cumr_port.Date.dt.year >= start_yr]\n",
    "cumr_port = cumr_port.sort_values(by=['Date','MomR'])\n",
    "\n",
    "ewret = cumr_port.groupby(['Date','MomR'])['R'].mean().reset_index()\n",
    "ewstd = cumr_port.groupby(['Date','MomR'])['R'].std().reset_index()\n",
    "\n",
    "ewret = ewret.rename(columns={'R':'ewret'})\n",
    "ewstd = ewstd.rename(columns={'R':'ewretstd'})\n",
    "\n",
    "ewretdf = pd.merge(ewret, ewstd, on=['Date','MomR'], how='inner')\n",
    "ewretdf = ewretdf.sort_values(by=['MomR', 'Date'])"
   ]
  },
  {
   "cell_type": "code",
   "execution_count": 24,
   "id": "a025a20a",
   "metadata": {},
   "outputs": [
    {
     "data": {
      "text/html": [
       "<div>\n",
       "<style scoped>\n",
       "    .dataframe tbody tr th:only-of-type {\n",
       "        vertical-align: middle;\n",
       "    }\n",
       "\n",
       "    .dataframe tbody tr th {\n",
       "        vertical-align: top;\n",
       "    }\n",
       "\n",
       "    .dataframe thead th {\n",
       "        text-align: right;\n",
       "    }\n",
       "</style>\n",
       "<table border=\"1\" class=\"dataframe\">\n",
       "  <thead>\n",
       "    <tr style=\"text-align: right;\">\n",
       "      <th></th>\n",
       "      <th>MomR</th>\n",
       "      <th>count</th>\n",
       "      <th>mean</th>\n",
       "      <th>std</th>\n",
       "    </tr>\n",
       "  </thead>\n",
       "  <tbody>\n",
       "    <tr>\n",
       "      <th>0</th>\n",
       "      <td>1</td>\n",
       "      <td>213.0</td>\n",
       "      <td>0.008356</td>\n",
       "      <td>0.022050</td>\n",
       "    </tr>\n",
       "    <tr>\n",
       "      <th>1</th>\n",
       "      <td>2</td>\n",
       "      <td>213.0</td>\n",
       "      <td>0.004652</td>\n",
       "      <td>0.017407</td>\n",
       "    </tr>\n",
       "    <tr>\n",
       "      <th>2</th>\n",
       "      <td>3</td>\n",
       "      <td>213.0</td>\n",
       "      <td>0.003718</td>\n",
       "      <td>0.014916</td>\n",
       "    </tr>\n",
       "    <tr>\n",
       "      <th>3</th>\n",
       "      <td>4</td>\n",
       "      <td>213.0</td>\n",
       "      <td>0.003673</td>\n",
       "      <td>0.012918</td>\n",
       "    </tr>\n",
       "    <tr>\n",
       "      <th>4</th>\n",
       "      <td>5</td>\n",
       "      <td>213.0</td>\n",
       "      <td>0.003605</td>\n",
       "      <td>0.011915</td>\n",
       "    </tr>\n",
       "    <tr>\n",
       "      <th>5</th>\n",
       "      <td>6</td>\n",
       "      <td>213.0</td>\n",
       "      <td>0.003628</td>\n",
       "      <td>0.011481</td>\n",
       "    </tr>\n",
       "    <tr>\n",
       "      <th>6</th>\n",
       "      <td>7</td>\n",
       "      <td>213.0</td>\n",
       "      <td>0.003512</td>\n",
       "      <td>0.011717</td>\n",
       "    </tr>\n",
       "    <tr>\n",
       "      <th>7</th>\n",
       "      <td>8</td>\n",
       "      <td>213.0</td>\n",
       "      <td>0.003534</td>\n",
       "      <td>0.012636</td>\n",
       "    </tr>\n",
       "    <tr>\n",
       "      <th>8</th>\n",
       "      <td>9</td>\n",
       "      <td>213.0</td>\n",
       "      <td>0.003403</td>\n",
       "      <td>0.014606</td>\n",
       "    </tr>\n",
       "    <tr>\n",
       "      <th>9</th>\n",
       "      <td>10</td>\n",
       "      <td>213.0</td>\n",
       "      <td>0.003195</td>\n",
       "      <td>0.016892</td>\n",
       "    </tr>\n",
       "  </tbody>\n",
       "</table>\n",
       "</div>"
      ],
      "text/plain": [
       "   MomR  count      mean       std\n",
       "0     1  213.0  0.008356  0.022050\n",
       "1     2  213.0  0.004652  0.017407\n",
       "2     3  213.0  0.003718  0.014916\n",
       "3     4  213.0  0.003673  0.012918\n",
       "4     5  213.0  0.003605  0.011915\n",
       "5     6  213.0  0.003628  0.011481\n",
       "6     7  213.0  0.003512  0.011717\n",
       "7     8  213.0  0.003534  0.012636\n",
       "8     9  213.0  0.003403  0.014606\n",
       "9    10  213.0  0.003195  0.016892"
      ]
     },
     "execution_count": 24,
     "metadata": {},
     "output_type": "execute_result"
    }
   ],
   "source": [
    "ewretdf.groupby(['MomR'])['ewret'].describe()[['count','mean', 'std']].reset_index()"
   ]
  },
  {
   "cell_type": "code",
   "execution_count": 25,
   "id": "0d041aed",
   "metadata": {},
   "outputs": [
    {
     "data": {
      "text/html": [
       "<div>\n",
       "<style scoped>\n",
       "    .dataframe tbody tr th:only-of-type {\n",
       "        vertical-align: middle;\n",
       "    }\n",
       "\n",
       "    .dataframe tbody tr th {\n",
       "        vertical-align: top;\n",
       "    }\n",
       "\n",
       "    .dataframe thead th {\n",
       "        text-align: right;\n",
       "    }\n",
       "</style>\n",
       "<table border=\"1\" class=\"dataframe\">\n",
       "  <thead>\n",
       "    <tr style=\"text-align: right;\">\n",
       "      <th>MomR</th>\n",
       "      <th>losers</th>\n",
       "      <th>port2</th>\n",
       "      <th>port3</th>\n",
       "      <th>port4</th>\n",
       "      <th>port5</th>\n",
       "      <th>port6</th>\n",
       "      <th>port7</th>\n",
       "      <th>port8</th>\n",
       "      <th>port9</th>\n",
       "      <th>winners</th>\n",
       "      <th>long_short</th>\n",
       "    </tr>\n",
       "    <tr>\n",
       "      <th>Date</th>\n",
       "      <th></th>\n",
       "      <th></th>\n",
       "      <th></th>\n",
       "      <th></th>\n",
       "      <th></th>\n",
       "      <th></th>\n",
       "      <th></th>\n",
       "      <th></th>\n",
       "      <th></th>\n",
       "      <th></th>\n",
       "      <th></th>\n",
       "    </tr>\n",
       "  </thead>\n",
       "  <tbody>\n",
       "    <tr>\n",
       "      <th>2005-01-31</th>\n",
       "      <td>0.010028</td>\n",
       "      <td>0.002405</td>\n",
       "      <td>0.002672</td>\n",
       "      <td>0.003778</td>\n",
       "      <td>0.002404</td>\n",
       "      <td>0.004270</td>\n",
       "      <td>0.005846</td>\n",
       "      <td>0.010803</td>\n",
       "      <td>0.014284</td>\n",
       "      <td>0.007783</td>\n",
       "      <td>-0.002245</td>\n",
       "    </tr>\n",
       "    <tr>\n",
       "      <th>2005-02-28</th>\n",
       "      <td>0.007244</td>\n",
       "      <td>0.001962</td>\n",
       "      <td>0.000612</td>\n",
       "      <td>0.000863</td>\n",
       "      <td>-0.000103</td>\n",
       "      <td>0.002048</td>\n",
       "      <td>0.001394</td>\n",
       "      <td>0.005255</td>\n",
       "      <td>0.008680</td>\n",
       "      <td>0.006927</td>\n",
       "      <td>-0.000317</td>\n",
       "    </tr>\n",
       "    <tr>\n",
       "      <th>2005-03-31</th>\n",
       "      <td>-0.012198</td>\n",
       "      <td>-0.003969</td>\n",
       "      <td>-0.003720</td>\n",
       "      <td>-0.006503</td>\n",
       "      <td>-0.010171</td>\n",
       "      <td>-0.014063</td>\n",
       "      <td>-0.016344</td>\n",
       "      <td>-0.022314</td>\n",
       "      <td>-0.024706</td>\n",
       "      <td>-0.030894</td>\n",
       "      <td>-0.018696</td>\n",
       "    </tr>\n",
       "    <tr>\n",
       "      <th>2005-04-30</th>\n",
       "      <td>0.009274</td>\n",
       "      <td>0.013129</td>\n",
       "      <td>0.010839</td>\n",
       "      <td>0.008913</td>\n",
       "      <td>0.007774</td>\n",
       "      <td>0.006650</td>\n",
       "      <td>0.006758</td>\n",
       "      <td>0.009333</td>\n",
       "      <td>0.006596</td>\n",
       "      <td>-0.004921</td>\n",
       "      <td>-0.014195</td>\n",
       "    </tr>\n",
       "    <tr>\n",
       "      <th>2005-05-31</th>\n",
       "      <td>0.025529</td>\n",
       "      <td>0.014941</td>\n",
       "      <td>0.007324</td>\n",
       "      <td>0.007725</td>\n",
       "      <td>0.006045</td>\n",
       "      <td>0.006329</td>\n",
       "      <td>0.006146</td>\n",
       "      <td>0.008794</td>\n",
       "      <td>0.011012</td>\n",
       "      <td>0.008307</td>\n",
       "      <td>-0.017222</td>\n",
       "    </tr>\n",
       "  </tbody>\n",
       "</table>\n",
       "</div>"
      ],
      "text/plain": [
       "MomR          losers     port2     port3     port4     port5     port6  \\\n",
       "Date                                                                     \n",
       "2005-01-31  0.010028  0.002405  0.002672  0.003778  0.002404  0.004270   \n",
       "2005-02-28  0.007244  0.001962  0.000612  0.000863 -0.000103  0.002048   \n",
       "2005-03-31 -0.012198 -0.003969 -0.003720 -0.006503 -0.010171 -0.014063   \n",
       "2005-04-30  0.009274  0.013129  0.010839  0.008913  0.007774  0.006650   \n",
       "2005-05-31  0.025529  0.014941  0.007324  0.007725  0.006045  0.006329   \n",
       "\n",
       "MomR           port7     port8     port9   winners  long_short  \n",
       "Date                                                            \n",
       "2005-01-31  0.005846  0.010803  0.014284  0.007783   -0.002245  \n",
       "2005-02-28  0.001394  0.005255  0.008680  0.006927   -0.000317  \n",
       "2005-03-31 -0.016344 -0.022314 -0.024706 -0.030894   -0.018696  \n",
       "2005-04-30  0.006758  0.009333  0.006596 -0.004921   -0.014195  \n",
       "2005-05-31  0.006146  0.008794  0.011012  0.008307   -0.017222  "
      ]
     },
     "execution_count": 25,
     "metadata": {},
     "output_type": "execute_result"
    }
   ],
   "source": [
    "ewret_t = ewretdf.pivot(index='Date', columns='MomR', values='ewret') \n",
    "\n",
    "# Add prefix port in front of each column \n",
    "ewret_t = ewret_t.add_prefix('port') \n",
    "ewret_t = ewret_t.rename(columns={'port1':'losers', 'port10':'winners'}) \n",
    "ewret_t['long_short'] = ewret_t.winners - ewret_t.losers\n",
    "ewret_t.head()"
   ]
  },
  {
   "cell_type": "code",
   "execution_count": 26,
   "id": "982f2fa7",
   "metadata": {},
   "outputs": [
    {
     "data": {
      "text/html": [
       "<div>\n",
       "<style scoped>\n",
       "    .dataframe tbody tr th:only-of-type {\n",
       "        vertical-align: middle;\n",
       "    }\n",
       "\n",
       "    .dataframe tbody tr th {\n",
       "        vertical-align: top;\n",
       "    }\n",
       "\n",
       "    .dataframe thead th {\n",
       "        text-align: right;\n",
       "    }\n",
       "</style>\n",
       "<table border=\"1\" class=\"dataframe\">\n",
       "  <thead>\n",
       "    <tr style=\"text-align: right;\">\n",
       "      <th></th>\n",
       "      <th>MomR</th>\n",
       "      <th>mean</th>\n",
       "    </tr>\n",
       "  </thead>\n",
       "  <tbody>\n",
       "    <tr>\n",
       "      <th>0</th>\n",
       "      <td>winners</td>\n",
       "      <td>0.003195</td>\n",
       "    </tr>\n",
       "    <tr>\n",
       "      <th>1</th>\n",
       "      <td>losers</td>\n",
       "      <td>0.008356</td>\n",
       "    </tr>\n",
       "    <tr>\n",
       "      <th>2</th>\n",
       "      <td>long_short</td>\n",
       "      <td>-0.005161</td>\n",
       "    </tr>\n",
       "  </tbody>\n",
       "</table>\n",
       "</div>"
      ],
      "text/plain": [
       "         MomR      mean\n",
       "0     winners  0.003195\n",
       "1      losers  0.008356\n",
       "2  long_short -0.005161"
      ]
     },
     "execution_count": 26,
     "metadata": {},
     "output_type": "execute_result"
    }
   ],
   "source": [
    "ewret_t['cumret_winners'] = (1 + ewret_t.winners).cumprod() - 1 \n",
    "ewret_t['cumret_losers'] = (1 + ewret_t.losers).cumprod() - 1\n",
    "ewret_t['cumret_long_short'] = (1 + ewret_t.long_short).cumprod() - 1\n",
    "\n",
    "mom_mean = ewret_t[['winners', 'losers', 'long_short']].mean().to_frame() \n",
    "mom_mean = mom_mean.rename(columns={0:'mean'}).reset_index() \n",
    "mom_mean"
   ]
  },
  {
   "cell_type": "code",
   "execution_count": 27,
   "id": "2b4a08fd",
   "metadata": {},
   "outputs": [],
   "source": [
    "t_losers = pd.Series(stats.ttest_1samp(ewret_t['losers'], 0.0)).to_frame().T \n",
    "t_winners = pd.Series(stats.ttest_1samp(ewret_t['winners'], 0.0)).to_frame().T \n",
    "t_long_short = pd.Series(stats.ttest_1samp(ewret_t['long_short'], 0.0)).to_frame().T\n",
    "\n",
    "t_losers['MomR'] = 'losers' \n",
    "t_winners['MomR'] = 'winners' \n",
    "t_long_short['MomR'] = 'long_short'"
   ]
  },
  {
   "cell_type": "code",
   "execution_count": 28,
   "id": "48920137",
   "metadata": {},
   "outputs": [
    {
     "name": "stdout",
     "output_type": "stream",
     "text": [
      "Momentum Strategy Summary:\n",
      "\n",
      "          MomR    mean t-stat p-value\n",
      "0     winners   0.32%   2.76    0.01\n",
      "1      losers   0.84%   5.53    0.00\n",
      "2  long_short  -0.52%  -4.06    0.00\n"
     ]
    }
   ],
   "source": [
    "t_output = pd.concat([t_winners, t_losers, t_long_short]).rename(columns={0:'t-stat', 1:'p-value'}) \n",
    "\n",
    "# Combine mean, t and p and format output \n",
    "mom_output = pd.merge(mom_mean, t_output, on=['MomR'], how='inner')\n",
    "\n",
    "mom_output['mean'] = mom_output['mean'].map('{:.2%}'.format) \n",
    "mom_output['t-stat'] = mom_output['t-stat'].map('{:.2f}'.format) \n",
    "mom_output['p-value'] = mom_output['p-value'].map('{:.2f}'.format) \n",
    "\n",
    "print('Momentum Strategy Summary:\\n\\n', mom_output)"
   ]
  },
  {
   "cell_type": "code",
   "execution_count": 29,
   "id": "92fe6de4",
   "metadata": {},
   "outputs": [
    {
     "data": {
      "image/png": "[encoded data removed]",
      "text/plain": [
       "<Figure size 1200x900 with 2 Axes>"
      ]
     },
     "metadata": {},
     "output_type": "display_data"
    }
   ],
   "source": [
    "plt.figure(figsize=(12,9)) \n",
    "plt.suptitle('Momentum Strategy', fontsize=20) \n",
    "\n",
    "ax1 = plt.subplot(211) \n",
    "ax1.set_title('Long/Short Momentum Strategy', fontsize=15) \n",
    "ax1.plot(ewret_t['cumret_long_short']) \n",
    "\n",
    "ax2 = plt.subplot(212) \n",
    "ax2.set_title('Cumulative Momentum Portfolios', fontsize=15) \n",
    "ax2.plot(ewret_t['cumret_winners'], 'b-', ewret_t['cumret_losers'], 'r--') \n",
    "ax2.legend(('Winners','Losers'), loc='upper left', shadow=True) \n",
    "\n",
    "plt.subplots_adjust(top=0.92, hspace=0.2)"
   ]
  }
 ],
 "metadata": {
  "kernelspec": {
   "display_name": "Python 3 (ipykernel)",
   "language": "python",
   "name": "python3"
  },
  "language_info": {
   "codemirror_mode": {
    "name": "ipython",
    "version": 3
   },
   "file_extension": ".py",
   "mimetype": "text/x-python",
   "name": "python",
   "nbconvert_exporter": "python",
   "pygments_lexer": "ipython3",
   "version": "3.10.12"
  }
 },
 "nbformat": 4,
 "nbformat_minor": 5
}
