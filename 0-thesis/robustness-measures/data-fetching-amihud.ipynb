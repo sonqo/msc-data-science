{
 "cells": [
  {
   "cell_type": "code",
   "execution_count": 2,
   "metadata": {},
   "outputs": [],
   "source": [
    "import os\n",
    "import pandas as pd\n",
    "import sqlalchemy as db\n",
    "from dotenv import load_dotenv"
   ]
  },
  {
   "cell_type": "code",
   "execution_count": 2,
   "metadata": {},
   "outputs": [],
   "source": [
    "load_dotenv()\n",
    "\n",
    "# config and credentials\n",
    "server = os.getenv('server')\n",
    "database = os.getenv('database')\n",
    "username = os.getenv('username')\n",
    "password = os.getenv('password')\n",
    "\n",
    "# connection\n",
    "engine = db.create_engine(\n",
    "    'mssql://{}:{}@{}/{}?driver=ODBC+Driver+18+for+SQL+Server'.format(\n",
    "        username, password, server, database\n",
    "    )\n",
    ")\n",
    "\n",
    "# establish connection\n",
    "connection = engine.connect()"
   ]
  },
  {
   "cell_type": "markdown",
   "metadata": {},
   "source": [
    "### Daily"
   ]
  },
  {
   "cell_type": "code",
   "execution_count": 4,
   "metadata": {},
   "outputs": [],
   "source": [
    "query = '''\n",
    "    SELECT DISTINCT\n",
    "        TrdExctnDt,\n",
    "        PERCENTILE_DISC(0.5) WITHIN GROUP (ORDER BY Amihud) OVER (PARTITION BY TrdExctnDt) * 1000000 AS MedianAmihud\n",
    "    FROM (\n",
    "        SELECT\n",
    "            CusipId,\n",
    "            TrdExctnDt,\n",
    "            ABS(RptdPr - LagRptdPr) / (RptdPr * Volume) AS Amihud\n",
    "        FROM (    \n",
    "            SELECT\n",
    "                A.CusipId,\n",
    "                A.TrdExctnDt,\n",
    "                A.RptdPr,\n",
    "                LAG(A.RptdPr) OVER (PARTITION BY A.CusipId ORDER BY A.TrdExctnDt) AS LagRptdPr,\n",
    "                B.Volume\n",
    "            FROM\n",
    "                Trace_filteredWithRatings A\n",
    "            INNER JOIN (    \n",
    "                SELECT\n",
    "                    CusipId,\n",
    "                    TrdExctnDt,\n",
    "                    MAX(TrdExctnTm) AS CloseTime,\n",
    "                    SUM(EntrdVolQt) AS Volume\n",
    "                FROM\n",
    "                    Trace_filteredWithRatings\n",
    "                GROUP BY\n",
    "                    CusipId,\n",
    "                    TrdExctnDt\n",
    "            ) B ON A.CusipId = B.CusipId AND A.TrdExctnDt = B.TrdExctnDt AND A.TrdExctnTm = B.CloseTime\n",
    "            WHERE\n",
    "                B.Volume <> 0\n",
    "        ) C\n",
    "        WHERE\n",
    "           RptdPr <> 0 \n",
    "    ) D\n",
    "    ORDER BY\n",
    "        TrdExctnDt\n",
    "'''\n",
    "\n",
    "# read sql\n",
    "df = pd.read_sql(query, connection)\n",
    "df.to_csv('source/amihud-daily.csv', index=False)"
   ]
  },
  {
   "cell_type": "markdown",
   "metadata": {},
   "source": [
    "### Monthly"
   ]
  },
  {
   "cell_type": "code",
   "execution_count": 8,
   "metadata": {},
   "outputs": [],
   "source": [
    "query = '''\n",
    "    SELECT DISTINCT\n",
    "        TrdExctnDtEOM,\n",
    "        PERCENTILE_DISC(0.5) WITHIN GROUP (ORDER BY Amihud) OVER (PARTITION BY TrdExctnDtEOM) * 1000000 AS MedianAmihud\n",
    "    FROM (\n",
    "        SELECT\n",
    "            CusipId,\n",
    "            TrdExctnDtEOM,\n",
    "            ABS(RptdPr - LagRptdPr) / Volume AS Amihud\n",
    "        FROM (    \n",
    "            SELECT\n",
    "                A.CusipId,\n",
    "                A.TrdExctnDtEOM,\n",
    "                A.RptdPr,\n",
    "                LAG(A.RptdPr) OVER (PARTITION BY A.CusipId ORDER BY A.TrdExctnDtEOM) AS LagRptdPr,\n",
    "                B.Volume\n",
    "            FROM (\n",
    "                SELECT\n",
    "                    *,\n",
    "                    EOMONTH(TrdExctnDt) AS TrdExctnDtEOM\n",
    "                FROM \n",
    "                    Trace_filteredWithRatings\n",
    "            ) A\n",
    "            INNER JOIN (    \n",
    "                SELECT\n",
    "                    CusipId,\n",
    "                    EOMONTH(TrdExctnDt) AS TrdExctnDtEOM,\n",
    "                    MAX(TrdExctnTm) AS CloseTime,\n",
    "                    SUM(EntrdVolQt) AS Volume\n",
    "                FROM\n",
    "                    Trace_filteredWithRatings\n",
    "                GROUP BY\n",
    "                    CusipId,\n",
    "                    EOMONTH(TrdExctnDt)\n",
    "            ) B ON A.CusipId = B.CusipId AND A.TrdExctnDtEOM = B.TrdExctnDtEOM AND A.TrdExctnTm = B.CloseTime\n",
    "            WHERE\n",
    "                B.Volume <> 0\n",
    "        ) C\n",
    "    ) D\n",
    "    ORDER BY\n",
    "        TrdExctnDtEOM\n",
    "'''\n",
    "\n",
    "# read sql\n",
    "df = pd.read_sql(query, connection)\n",
    "df.to_csv('source/amihud-monthly.csv', index=False)"
   ]
  }
 ],
 "metadata": {
  "kernelspec": {
   "display_name": "msc-thesis",
   "language": "python",
   "name": "python3"
  },
  "language_info": {
   "codemirror_mode": {
    "name": "ipython",
    "version": 3
   },
   "file_extension": ".py",
   "mimetype": "text/x-python",
   "name": "python",
   "nbconvert_exporter": "python",
   "pygments_lexer": "ipython3",
   "version": "3.10.12"
  },
  "orig_nbformat": 4
 },
 "nbformat": 4,
 "nbformat_minor": 2
}
