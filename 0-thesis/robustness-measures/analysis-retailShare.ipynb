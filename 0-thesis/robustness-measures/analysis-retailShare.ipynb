{
 "cells": [
  {
   "cell_type": "code",
   "execution_count": 1,
   "metadata": {},
   "outputs": [],
   "source": [
    "import pandas as pd\n",
    "from scipy import stats"
   ]
  },
  {
   "cell_type": "code",
   "execution_count": 2,
   "metadata": {},
   "outputs": [],
   "source": [
    "df_topBonds = pd.read_csv('source/informationAsymmetry-topBonds.csv', parse_dates=['TrdExctnDtEOM'])\n",
    "\n",
    "df_nonTopBonds = pd.read_csv('source/informationAsymmetry-nonTopBonds.csv', parse_dates=['TrdExctnDtEOM'])"
   ]
  },
  {
   "cell_type": "code",
   "execution_count": 3,
   "metadata": {},
   "outputs": [
    {
     "name": "stdout",
     "output_type": "stream",
     "text": [
      "Top Bonds\n",
      "Volume: Mean: 0.0406 | Median: 0.0426\n",
      "Trades: Mean: 0.7616 | Median: 0.7755\n",
      "\n",
      "Non-Top Bonds\n",
      "Volume: Mean: 0.0789 | Median: 0.0805\n",
      "Trades: Mean: 0.8676 | Median: 0.8700\n",
      "\n",
      "Difference\n",
      "Volume: Mean: 0.0383 | Median: 0.0378\n",
      "Trades: Mean: 0.1060 | Median: 0.0946\n"
     ]
    }
   ],
   "source": [
    "print('Top Bonds')\n",
    "print('Volume: Mean: {:.4f} | Median: {:.4f}'.format(df_topBonds['VolumeFraction'].mean(), df_topBonds['VolumeFraction'].median()))\n",
    "print('Trades: Mean: {:.4f} | Median: {:.4f}'.format(df_topBonds['TradesFraction'].mean(), df_topBonds['TradesFraction'].median()))\n",
    "print()\n",
    "print('Non-Top Bonds')\n",
    "print('Volume: Mean: {:.4f} | Median: {:.4f}'.format(df_nonTopBonds['VolumeFraction'].mean(), df_nonTopBonds['VolumeFraction'].median()))\n",
    "print('Trades: Mean: {:.4f} | Median: {:.4f}'.format(df_nonTopBonds['TradesFraction'].mean(), df_nonTopBonds['TradesFraction'].median()))\n",
    "print()\n",
    "print('Difference')\n",
    "print('Volume: Mean: {:.4f} | Median: {:.4f}'.format(df_nonTopBonds['VolumeFraction'].mean()-df_topBonds['VolumeFraction'].mean(), df_nonTopBonds['VolumeFraction'].median()-df_topBonds['VolumeFraction'].median()))\n",
    "print('Trades: Mean: {:.4f} | Median: {:.4f}'.format(df_nonTopBonds['TradesFraction'].mean()-df_topBonds['TradesFraction'].mean(), df_nonTopBonds['TradesFraction'].median()-df_topBonds['TradesFraction'].median()))"
   ]
  },
  {
   "cell_type": "code",
   "execution_count": 4,
   "metadata": {},
   "outputs": [
    {
     "name": "stdout",
     "output_type": "stream",
     "text": [
      "T-Test on Difference of Means\n",
      "\n",
      "t-stat: -57.9267 | p-value: 0.0000\n"
     ]
    }
   ],
   "source": [
    "t_means = pd.Series(stats.ttest_1samp(df_topBonds['VolumeFraction'] - df_nonTopBonds['VolumeFraction'], 0.0)).to_frame().T\n",
    "t_means = t_means.rename(columns={0: 't-stat', 1: 'p-value'})\n",
    "\n",
    "print('T-Test on Difference of Means')\n",
    "print()\n",
    "print('t-stat: {:.4f} | p-value: {:.4f}'.format(t_means['t-stat'].max(), t_means['p-value'].max()))"
   ]
  },
  {
   "cell_type": "code",
   "execution_count": 5,
   "metadata": {},
   "outputs": [
    {
     "name": "stdout",
     "output_type": "stream",
     "text": [
      "U-Test on Top/Non-Top Bonds\n",
      "\n",
      "t-stat: 243.4897 | p-value: 0.0000\n"
     ]
    }
   ],
   "source": [
    "t_median = pd.Series(stats.median_test(df_topBonds['VolumeFraction'], df_nonTopBonds['VolumeFraction'])).to_frame().T\n",
    "t_median = t_median.rename(columns={0: 't-stat', 1: 'p-value'})\n",
    "\n",
    "print('U-Test on Top/Non-Top Bonds')\n",
    "print()\n",
    "print('t-stat: {:.4f} | p-value: {:.4f}'.format(t_median['t-stat'].max(), t_median['p-value'].max()))"
   ]
  }
 ],
 "metadata": {
  "kernelspec": {
   "display_name": "msc-thesis",
   "language": "python",
   "name": "python3"
  },
  "language_info": {
   "codemirror_mode": {
    "name": "ipython",
    "version": 3
   },
   "file_extension": ".py",
   "mimetype": "text/x-python",
   "name": "python",
   "nbconvert_exporter": "python",
   "pygments_lexer": "ipython3",
   "version": "3.11.4"
  },
  "orig_nbformat": 4
 },
 "nbformat": 4,
 "nbformat_minor": 2
}
