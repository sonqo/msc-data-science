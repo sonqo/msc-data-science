{
 "cells": [
  {
   "cell_type": "code",
   "execution_count": 2,
   "metadata": {},
   "outputs": [],
   "source": [
    "import os\n",
    "import pandas as pd\n",
    "import sqlalchemy as db\n",
    "from dotenv import load_dotenv"
   ]
  },
  {
   "cell_type": "code",
   "execution_count": 3,
   "metadata": {},
   "outputs": [],
   "source": [
    "load_dotenv()\n",
    "\n",
    "# config and credentials\n",
    "server = os.getenv('server')\n",
    "database = os.getenv('database')\n",
    "username = os.getenv('username')\n",
    "password = os.getenv('password')\n",
    "\n",
    "# connection\n",
    "engine = db.create_engine(\n",
    "    'mssql://{}:{}@{}/{}?driver=ODBC+Driver+18+for+SQL+Server'.format(\n",
    "        username, password, server, database\n",
    "    )\n",
    ")\n",
    "\n",
    "# establish connection\n",
    "connection = engine.connect()"
   ]
  },
  {
   "cell_type": "markdown",
   "metadata": {},
   "source": [
    "### Volume Herding"
   ]
  },
  {
   "cell_type": "code",
   "execution_count": 4,
   "metadata": {},
   "outputs": [],
   "source": [
    "query = '''\n",
    "    SELECT\n",
    "        CusipId,\n",
    "        TrdExctnDt,\n",
    "        ABS(BuyAmount - SellAmount) / (BuyAmount + SellAmount) AS Hm,\n",
    "        CASE\n",
    "            WHEN BuyAmount > SellAmount THEN 'Buy Herding'\n",
    "            WHEN SellAmount > BuyAmount THEN 'Sell Herding'\n",
    "        END AS Flag\n",
    "    FROM (\n",
    "        SELECT\n",
    "            CusipId,\n",
    "            TrdExctnDt,\n",
    "            SUM(CASE WHEN RptSideCd = 'S' THEN EntrdVolQt * RptdPr / 100 ELSE 0 END) AS BuyAmount,\n",
    "            SUM(CASE WHEN RptSideCd = 'B' THEN EntrdVolQt * RptdPr / 100 ELSE 0 END) AS SellAmount\n",
    "        FROM\n",
    "            Trace_filteredWithRatings\n",
    "        WHERE\n",
    "            CntraMpId = 'C'\n",
    "        GROUP BY\n",
    "            CusipId,\n",
    "            TrdExctnDt\n",
    "    ) A\n",
    "    WHERE\n",
    "        BuyAmount <> 0 AND SellAmount <> 0\n",
    "    ORDER BY\n",
    "        TrdExctnDt,\n",
    "        CusipId\n",
    "'''\n",
    "\n",
    "# read sql\n",
    "df = pd.read_sql(query, connection)\n",
    "df.to_csv('source/volumeHerding.csv', index=False)"
   ]
  }
 ],
 "metadata": {
  "kernelspec": {
   "display_name": "msc-thesis",
   "language": "python",
   "name": "python3"
  },
  "language_info": {
   "codemirror_mode": {
    "name": "ipython",
    "version": 3
   },
   "file_extension": ".py",
   "mimetype": "text/x-python",
   "name": "python",
   "nbconvert_exporter": "python",
   "pygments_lexer": "ipython3",
   "version": "3.11.4"
  },
  "orig_nbformat": 4
 },
 "nbformat": 4,
 "nbformat_minor": 2
}
