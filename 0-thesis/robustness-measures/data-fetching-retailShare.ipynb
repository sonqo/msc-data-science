{
 "cells": [
  {
   "cell_type": "code",
   "execution_count": 1,
   "metadata": {},
   "outputs": [],
   "source": [
    "import os\n",
    "import pandas as pd\n",
    "import sqlalchemy as db\n",
    "from dotenv import load_dotenv"
   ]
  },
  {
   "cell_type": "code",
   "execution_count": 2,
   "metadata": {},
   "outputs": [],
   "source": [
    "load_dotenv()\n",
    "\n",
    "# config and credentials\n",
    "server = os.getenv('server')\n",
    "database = os.getenv('database')\n",
    "username = os.getenv('username')\n",
    "password = os.getenv('password')\n",
    "\n",
    "# connection\n",
    "engine = db.create_engine(\n",
    "    'mssql://{}:{}@{}/{}?driver=ODBC+Driver+18+for+SQL+Server'.format(\n",
    "        username, password, server, database\n",
    "    )\n",
    ")\n",
    "\n",
    "# establish connection\n",
    "connection = engine.connect()"
   ]
  },
  {
   "cell_type": "markdown",
   "metadata": {},
   "source": [
    "### Top Bonds"
   ]
  },
  {
   "cell_type": "code",
   "execution_count": 3,
   "metadata": {},
   "outputs": [],
   "source": [
    "query = '''\n",
    "    SELECT\n",
    "        *,\n",
    "        1.0 * RetailVolume / (InstitutionalVolume + RetailVolume) AS VolumeFraction,\n",
    "        1.0 * RetailTrades / (InstitutionalTrades + RetailTrades) AS TradesFraction\n",
    "    FROM (\n",
    "        SELECT\n",
    "            EOMONTH(A.TrdExctnDt) AS TrdExctnDtEOM,\n",
    "            SUM(CASE WHEN EntrdVolQt >= 500000 THEN EntrdVolQt ELSE 0 END) AS InstitutionalVolume,\n",
    "            SUM(CASE WHEN EntrdVolQt < 250000 THEN EntrdVolQt ELSE 0 END) AS RetailVolume,\n",
    "            SUM(CASE WHEN EntrdVolQt >= 500000 THEN 1 ELSE 0 END) AS InstitutionalTrades,\n",
    "            SUM(CASE WHEN EntrdVolQt < 250000 THEN 1 ELSE 0 END) AS RetailTrades,\n",
    "            COUNT(DISTINCT (CASE WHEN EntrdVolQt >= 500000 THEN A.CusipId END)) AS InstitutionalCusips,\n",
    "            COUNT(DISTINCT (CASE WHEN EntrdVolQt < 250000 THEN A.CusipId END)) AS RetailCusips\n",
    "        FROM\n",
    "            Trace_filteredWithRatings A\n",
    "        INNER JOIN\n",
    "            BondReturns_topBonds B ON A.CusipId = B.CusipId AND EOMONTH(A.TrdExctnDt) = B.TrdExctnDtEOM\n",
    "        WHERE\n",
    "            A.RatingNum <> 0\n",
    "        GROUP BY\n",
    "            EOMONTH(A.TrdExctnDt)\n",
    "    ) A\n",
    "    ORDER BY\n",
    "        TrdExctnDtEOM\n",
    "'''\n",
    "\n",
    "# read sql\n",
    "df = pd.read_sql_query(query, connection)\n",
    "df.to_csv('source/retailShare-topBonds.csv', index=False)"
   ]
  },
  {
   "cell_type": "markdown",
   "metadata": {},
   "source": [
    "### Non-Top Bonds"
   ]
  },
  {
   "cell_type": "code",
   "execution_count": 4,
   "metadata": {},
   "outputs": [],
   "source": [
    "query = '''\n",
    "    SELECT\n",
    "        *,\n",
    "        1.0 * RetailVolume / (InstitutionalVolume + RetailVolume) AS VolumeFraction,\n",
    "        1.0 * RetailTrades/ (InstitutionalTrades + RetailTrades) AS TradesFraction\n",
    "    FROM (\n",
    "        SELECT\n",
    "            EOMONTH(A.TrdExctnDt) AS TrdExctnDtEOM,\n",
    "            SUM(CASE WHEN EntrdVolQt >= 500000 THEN EntrdVolQt ELSE 0 END) AS InstitutionalVolume,\n",
    "            SUM(CASE WHEN EntrdVolQt < 250000 THEN EntrdVolQt ELSE 0 END) AS RetailVolume,\n",
    "            SUM(CASE WHEN EntrdVolQt >= 500000 THEN 1 ELSE 0 END) AS InstitutionalTrades,\n",
    "            SUM(CASE WHEN EntrdVolQt < 250000 THEN 1 ELSE 0 END) AS RetailTrades,\n",
    "            COUNT(DISTINCT (CASE WHEN EntrdVolQt >= 500000 THEN A.CusipId END)) AS InstitutionalCusips,\n",
    "            COUNT(DISTINCT (CASE WHEN EntrdVolQt < 250000 THEN A.CusipId END)) AS RetailCusips\n",
    "        FROM\n",
    "            Trace_filteredWithRatings A\n",
    "        LEFT JOIN \n",
    "            BondReturns_topBonds B ON A.CusipId = B.CusipId AND EOMONTH(A.TrdExctnDt) = B.TrdExctnDtEOM\n",
    "        WHERE\n",
    "            A.RatingNum <> 0\n",
    "            AND B.CusipId IS NULL\n",
    "        GROUP BY\n",
    "            EOMONTH(A.TrdExctnDt)\n",
    "    ) A\n",
    "    ORDER BY\n",
    "        TrdExctnDtEOM\n",
    "'''\n",
    "\n",
    "# read sql\n",
    "df = pd.read_sql_query(query, connection)\n",
    "df.to_csv('source/retailShare-nonTopBonds.csv', index=False)"
   ]
  }
 ],
 "metadata": {
  "kernelspec": {
   "display_name": "msc-thesis",
   "language": "python",
   "name": "python3"
  },
  "language_info": {
   "codemirror_mode": {
    "name": "ipython",
    "version": 3
   },
   "file_extension": ".py",
   "mimetype": "text/x-python",
   "name": "python",
   "nbconvert_exporter": "python",
   "pygments_lexer": "ipython3",
   "version": "3.11.4"
  },
  "orig_nbformat": 4
 },
 "nbformat": 4,
 "nbformat_minor": 2
}
