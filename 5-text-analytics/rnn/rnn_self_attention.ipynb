{
 "cells": [
  {
   "cell_type": "code",
   "execution_count": 1,
   "metadata": {},
   "outputs": [],
   "source": [
    "import os\n",
    "import re\n",
    "import string\n",
    "import fasttext \n",
    "import numpy as np\n",
    "import pandas as pd\n",
    "import matplotlib.pyplot as plt\n",
    "\n",
    "import keras\n",
    "import tensorflow as tf\n",
    "from keras.layers import Dense\n",
    "from keras.layers import Dropout\n",
    "from keras.layers import Softmax\n",
    "from keras.models import Sequential\n",
    "from tensorflow.keras.optimizers import Adam\n",
    "\n",
    "import spacy\n",
    "from spacy.lang.en.stop_words import STOP_WORDS\n",
    "\n",
    "from sklearn.metrics import auc\n",
    "from sklearn.metrics import f1_score\n",
    "from sklearn.metrics import recall_score\n",
    "from sklearn.dummy import DummyClassifier\n",
    "from sklearn.metrics import precision_score\n",
    "from sklearn.metrics import confusion_matrix\n",
    "from sklearn.model_selection import ShuffleSplit\n",
    "from sklearn.model_selection import GridSearchCV\n",
    "from sklearn.metrics import classification_report\n",
    "from sklearn.metrics import ConfusionMatrixDisplay\n",
    "from sklearn.model_selection import learning_curve\n",
    "from sklearn.linear_model import LogisticRegression\n",
    "from sklearn.model_selection import train_test_split\n",
    "from sklearn.feature_extraction.text import TfidfVectorizer\n",
    "\n",
    "import nltk\n",
    "from nltk.corpus import stopwords\n",
    "from nltk.corpus import movie_reviews\n",
    "from nltk.stem.snowball import PorterStemmer"
   ]
  },
  {
   "cell_type": "code",
   "execution_count": 2,
   "metadata": {},
   "outputs": [],
   "source": [
    "fasttext.FastText.eprint = lambda x: None"
   ]
  },
  {
   "cell_type": "markdown",
   "metadata": {},
   "source": [
    "## Data preprocessing\n",
    "---\n",
    "\n",
    "We will use the Cornell Movie Review Dataset as offered by the `nltk` package: "
   ]
  },
  {
   "cell_type": "code",
   "execution_count": 3,
   "metadata": {},
   "outputs": [
    {
     "data": {
      "text/plain": [
       "True"
      ]
     },
     "execution_count": 3,
     "metadata": {},
     "output_type": "execute_result"
    }
   ],
   "source": [
    "nltk.download('movie_reviews', quiet=True)"
   ]
  },
  {
   "cell_type": "markdown",
   "metadata": {},
   "source": [
    "Each review corresponds to a `file_id` which we are going to utilize to create two lists of strings; one for reviews and one for the sentiment label:"
   ]
  },
  {
   "cell_type": "code",
   "execution_count": 4,
   "metadata": {},
   "outputs": [],
   "source": [
    "x = [' '.join(movie_reviews.words(file_id)) for file_id in movie_reviews.fileids()]\n",
    "y = [movie_reviews.categories(file_id)[0] for file_id in movie_reviews.fileids()]"
   ]
  },
  {
   "cell_type": "markdown",
   "metadata": {},
   "source": [
    "We split our data to 70% training, 15% development, and 15% testing sets:"
   ]
  },
  {
   "cell_type": "code",
   "execution_count": 5,
   "metadata": {},
   "outputs": [
    {
     "data": {
      "text/plain": [
       "(1400, 300, 300)"
      ]
     },
     "execution_count": 5,
     "metadata": {},
     "output_type": "execute_result"
    }
   ],
   "source": [
    "y = [0 if label == 'neg' else 1 for label in y]\n",
    "x_train, x_test, y_train, y_test = train_test_split(x, y, test_size=0.3, random_state=42)\n",
    "x_test, x_val, y_test, y_val = train_test_split(x_test, y_test, test_size=0.5, random_state=42)\n",
    "\n",
    "(len(x_train), len(x_val), len(x_test))"
   ]
  },
  {
   "cell_type": "markdown",
   "metadata": {},
   "source": [
    "The final length of our training, development and test subset equal to 1400, 300 and 300 reviews respectively.\n",
    "\n",
    "## Feature selection\n",
    "---\n",
    "\n",
    "We tokenize each review to word level, while removing stopwords and punctuation symbols:"
   ]
  },
  {
   "cell_type": "code",
   "execution_count": 6,
   "metadata": {},
   "outputs": [],
   "source": [
    "nlp = spacy.load('en_core_web_sm', disable=['tagger', 'parser', 'ner', 'lemmatizer'])\n",
    "nlp.add_pipe('sentencizer') \n",
    "\n",
    "x_train_tokenized = []\n",
    "for idx in range(len(x_train)):\n",
    "    doc = nlp(x_train[idx])\n",
    "    tokens = []\n",
    "    for sent in doc.sents:\n",
    "        for tok in sent:\n",
    "            if '\\n' in tok.text or '\\t' in tok.text or '--' in tok.text or\\\n",
    "            '*' in tok.text or tok.text.lower() in STOP_WORDS or tok.text in string.punctuation:\n",
    "                continue\n",
    "            if tok.text.strip():  \n",
    "                tokens.append(tok.text.replace('\"', \"'\").strip())\n",
    "    x_train_tokenized.append(tokens)\n",
    "\n",
    "x_val_tokenized = []\n",
    "for idx in range(len(x_val)):\n",
    "    doc = nlp(x_val[idx])\n",
    "    tokens = []\n",
    "    for sent in doc.sents:\n",
    "        for tok in sent:\n",
    "            if '\\n' in tok.text or '\\t' in tok.text or '--' in tok.text or\\\n",
    "            '*' in tok.text or tok.text.lower() in STOP_WORDS or tok.text in string.punctuation:\n",
    "                continue\n",
    "            if tok.text.strip():\n",
    "                tokens.append(tok.text.replace('\"', \"'\").strip())\n",
    "    x_val_tokenized.append(tokens)\n",
    "\n",
    "x_test_tokenized = []\n",
    "for idx in range(len(x_test)):\n",
    "    doc = nlp(x_test[idx])\n",
    "    tokens = []\n",
    "    for sent in doc.sents:\n",
    "        for tok in sent:\n",
    "            if '\\n' in tok.text or '\\t' in tok.text or '--' in tok.text or\\\n",
    "            '*' in tok.text or tok.text.lower() in STOP_WORDS or tok.text in string.punctuation:\n",
    "                continue\n",
    "            if tok.text.strip():\n",
    "                tokens.append(tok.text.replace('\"', \"'\").strip())\n",
    "    x_test_tokenized.append(tokens)"
   ]
  },
  {
   "cell_type": "code",
   "execution_count": 7,
   "metadata": {},
   "outputs": [
    {
     "name": "stdout",
     "output_type": "stream",
     "text": [
      "Mean review word length before feature selection: 3912.91\n",
      "Mean review word length after feature selection: 330.44\n"
     ]
    }
   ],
   "source": [
    "print('Mean review word length before feature selection: {:.2f}'.format(np.mean([len(x) for x in x_train])))\n",
    "print('Mean review word length after feature selection: {:.2f}'.format(np.mean([len(x) for x in x_train_tokenized])))"
   ]
  },
  {
   "cell_type": "markdown",
   "metadata": {},
   "source": [
    "We notice how the applied feature selection procedure decreases the dimensionality of our problem by roughly 90%.\n",
    "\n",
    "We continue with transforming our tokenized reviews to sequences of index and padding short-enough reviews to a fixed sequence length:"
   ]
  },
  {
   "cell_type": "code",
   "execution_count": 8,
   "metadata": {},
   "outputs": [],
   "source": [
    "MAX_WORDS = 100000\n",
    "EMBEDDING_DIM = 300\n",
    "MAX_SEQUENCE_LENGTH = 256\n",
    "\n",
    "tokenizer = tf.keras.preprocessing.text.Tokenizer(num_words=MAX_WORDS, oov_token='UNK')\n",
    "\n",
    "tokenizer.fit_on_texts([\" \".join(x) for x in x_train_tokenized])\n",
    "\n",
    "train_seqs = tokenizer.texts_to_sequences([\" \".join(x) for x in x_train_tokenized])\n",
    "train_data = tf.keras.utils.pad_sequences(train_seqs, maxlen=MAX_SEQUENCE_LENGTH, padding='post')\n",
    "\n",
    "val_seqs = tokenizer.texts_to_sequences([\" \".join(x) for x in x_val_tokenized])\n",
    "val_data = tf.keras.utils.pad_sequences(val_seqs, maxlen=MAX_SEQUENCE_LENGTH, padding='post')\n",
    "\n",
    "test_seqs = tokenizer.texts_to_sequences([\" \".join(x) for x in x_test_tokenized])\n",
    "test_data = tf.keras.utils.pad_sequences(test_seqs, maxlen=MAX_SEQUENCE_LENGTH, padding='post')"
   ]
  },
  {
   "cell_type": "code",
   "execution_count": 9,
   "metadata": {},
   "outputs": [
    {
     "name": "stdout",
     "output_type": "stream",
     "text": [
      "Found 33964 unique tokens.\n"
     ]
    }
   ],
   "source": [
    "word_index = tokenizer.word_index\n",
    "print('Found %s unique tokens.' % len(word_index))"
   ]
  },
  {
   "cell_type": "markdown",
   "metadata": {},
   "source": [
    "The unique tokens found on the training dataset are about 34k.\n",
    "\n",
    "Moving on, we create an embedding matrix by utilizing `fasttext` pre-trained embeddings on the english language:"
   ]
  },
  {
   "cell_type": "code",
   "execution_count": 10,
   "metadata": {},
   "outputs": [],
   "source": [
    "fasttext_model = fasttext.load_model('cc.en.300.bin')\n",
    "embedding_matrix = np.zeros(shape=((MAX_WORDS + 2), 300))\n",
    "\n",
    "for key, value in word_index.items():\n",
    "    if value <= MAX_WORDS:\n",
    "        embedding_matrix[value] = fasttext_model.get_word_vector(word=key)\n",
    "\n",
    "del fasttext_model"
   ]
  },
  {
   "cell_type": "markdown",
   "metadata": {},
   "source": [
    "## Bi-directional RNN with self-attention MLP\n",
    "---\n",
    "\n",
    "First things first, we one-hot-encode our problems' labels:"
   ]
  },
  {
   "cell_type": "code",
   "execution_count": 11,
   "metadata": {},
   "outputs": [],
   "source": [
    "y_train = tf.keras.utils.to_categorical(y_train, num_classes=2)\n",
    "y_val = tf.keras.utils.to_categorical(y_val, num_classes=2)\n",
    "y_test = tf.keras.utils.to_categorical(y_test, num_classes=2)"
   ]
  },
  {
   "cell_type": "markdown",
   "metadata": {},
   "source": [
    "For monitoring the development performance we will use the following callback metrics function:"
   ]
  },
  {
   "cell_type": "code",
   "execution_count": 12,
   "metadata": {},
   "outputs": [],
   "source": [
    "class Metrics(tf.keras.callbacks.Callback):\n",
    "    \n",
    "    def __init__(self, valid_data):\n",
    "        super(Metrics, self).__init__()\n",
    "        self.validation_data = valid_data\n",
    "\n",
    "    def on_epoch_end(self, epoch, logs=None):\n",
    "        logs = logs or {}\n",
    "        val_predict = np.argmax(self.model.predict(self.validation_data[0]), -1)\n",
    "        val_targ = self.validation_data[1]\n",
    "        if len(val_targ.shape) == 2 and val_targ.shape[1] != 1:\n",
    "            val_targ = np.argmax(val_targ, -1)\n",
    "        val_targ = tf.cast(val_targ,dtype=tf.float32)\n",
    "        _val_f1 = f1_score(val_targ, val_predict,average=\"weighted\")\n",
    "        _val_recall = recall_score(val_targ, val_predict,average=\"weighted\")\n",
    "        _val_precision = precision_score(val_targ, val_predict,average=\"weighted\")\n",
    "        logs['val_f1'] = _val_f1\n",
    "        logs['val_recall'] = _val_recall\n",
    "        logs['val_precision'] = _val_precision\n",
    "        print(\" — val_f1: %f — val_precision: %f — val_recall: %f\" % (_val_f1, _val_precision, _val_recall))\n",
    "        return"
   ]
  },
  {
   "cell_type": "markdown",
   "metadata": {},
   "source": [
    "We will also use the following function for calculating per class metrics:"
   ]
  },
  {
   "cell_type": "code",
   "execution_count": 21,
   "metadata": {},
   "outputs": [],
   "source": [
    "def calculate_class_AUC_score(y_true, y_pred, labels):\n",
    "    \"\"\"\n",
    "    Calculates AUC scores for the given class label.\n",
    "    \"\"\"\n",
    "    precision = [0, _, 1]\n",
    "    recall = [1, _, 0]\n",
    "    cr = classification_report(y_true, y_pred, output_dict=True, zero_division=0)\n",
    "    precision[1] = cr[labels]['precision']\n",
    "    recall[1] = cr[labels]['recall']\n",
    "    auc_score = auc(recall, precision)\n",
    "    return auc_score"
   ]
  },
  {
   "cell_type": "markdown",
   "metadata": {},
   "source": [
    "We will create a custom class for creating a slef-attention layer:"
   ]
  },
  {
   "cell_type": "code",
   "execution_count": 13,
   "metadata": {},
   "outputs": [],
   "source": [
    "class SelfAttention(tf.keras.layers.Layer):\n",
    "\n",
    "    def __init__(self, mlp_layers, units, return_attention=False, **kwargs):\n",
    "        super(SelfAttention, self).__init__(**kwargs)\n",
    "        self.mlp_layers = mlp_layers\n",
    "        self.mlp_units = units\n",
    "        self.return_attention = return_attention\n",
    "        self.attention_mlp = self.build_mlp()\n",
    "  \n",
    "    def build_mlp(self):\n",
    "        mlp = tf.keras.Sequential()\n",
    "        for i in range(self.mlp_layers):\n",
    "            mlp.add(tf.keras.layers.Dense(self.mlp_units, activation='elu'))\n",
    "        mlp.add(tf.keras.layers.Dense(1))\n",
    "        return mlp\n",
    "  \n",
    "    def call(self, x, mask=None):\n",
    "        a = self.attention_mlp(x)\n",
    "        a = tf.squeeze(a, axis=2)\n",
    "        if mask is not None:\n",
    "            mask = tf.keras.backend.cast(mask, tf.keras.backend.floatx())\n",
    "            a -= 100000.0 * (1.0 - mask)\n",
    "            a = tf.keras.backend.expand_dims(tf.keras.backend.softmax(a, axis=-1))\n",
    "            weighted_input = x * a\n",
    "            result = tf.keras.backend.sum(weighted_input, axis=1)\n",
    "        if self.return_attention:\n",
    "            return [result, a]\n",
    "        return result"
   ]
  },
  {
   "cell_type": "markdown",
   "metadata": {},
   "source": [
    "Our model consists of the embedding layer, a bi-directional RNN, the self-attention with 3 hidden layers and a fully connected layer with 1024 nodes. We utilize dropout layers in between for reguralization purposes. Last, but not least, we follow the eraly stopping approach, forcing the training to terminate if the validation loss stops improving for 10 consecutive epochs:"
   ]
  },
  {
   "cell_type": "code",
   "execution_count": 16,
   "metadata": {
    "scrolled": true
   },
   "outputs": [
    {
     "name": "stdout",
     "output_type": "stream",
     "text": [
      "Model: \"sequential_4\"\n",
      "_________________________________________________________________\n",
      " Layer (type)                Output Shape              Param #   \n",
      "=================================================================\n",
      " embedding_2 (Embedding)     (None, 256, 300)          30000600  \n",
      "                                                                 \n",
      " dropout_6 (Dropout)         (None, 256, 300)          0         \n",
      "                                                                 \n",
      " bidirectional_2 (Bidirectio  (None, 256, 600)         1083600   \n",
      " nal)                                                            \n",
      "                                                                 \n",
      " dropout_7 (Dropout)         (None, 256, 600)          0         \n",
      "                                                                 \n",
      " self_attention_2 (SelfAtten  (None, 600)              285697    \n",
      " tion)                                                           \n",
      "                                                                 \n",
      " dense_16 (Dense)            (None, 1024)              615424    \n",
      "                                                                 \n",
      " dropout_8 (Dropout)         (None, 1024)              0         \n",
      "                                                                 \n",
      " dense_17 (Dense)            (None, 2)                 2050      \n",
      "                                                                 \n",
      "=================================================================\n",
      "Total params: 31,987,371\n",
      "Trainable params: 1,986,771\n",
      "Non-trainable params: 30,000,600\n",
      "_________________________________________________________________\n",
      "None\n",
      "Epoch 1/50\n",
      "10/10 [==============================] - 10s 931ms/step0.6851 - categoric\n",
      " — val_f1: 0.648550 — val_precision: 0.661111 — val_recall: 0.653333\n",
      "6/6 [==============================] - 46s 7s/step - loss: 0.6851 - categorical_accuracy: 0.5393 - val_loss: 0.6560 - val_categorical_accuracy: 0.6533 - val_f1: 0.6485 - val_recall: 0.6533 - val_precision: 0.6611\n",
      "Epoch 2/50\n",
      "10/10 [==============================] - 10s 967ms/step0.6583 - categori\n",
      " — val_f1: 0.651315 — val_precision: 0.704657 — val_recall: 0.666667\n",
      "6/6 [==============================] - 48s 8s/step - loss: 0.6583 - categorical_accuracy: 0.6057 - val_loss: 0.6332 - val_categorical_accuracy: 0.6667 - val_f1: 0.6513 - val_recall: 0.6667 - val_precision: 0.7047\n",
      "Epoch 3/50\n",
      "10/10 [==============================] - 10s 961ms/step0.5863 - categoric\n",
      " — val_f1: 0.669569 — val_precision: 0.694771 — val_recall: 0.676667\n",
      "6/6 [==============================] - 47s 8s/step - loss: 0.5863 - categorical_accuracy: 0.6943 - val_loss: 0.6030 - val_categorical_accuracy: 0.6767 - val_f1: 0.6696 - val_recall: 0.6767 - val_precision: 0.6948\n",
      "Epoch 4/50\n",
      "10/10 [==============================] - 9s 906ms/step 0.5431 - categori\n",
      " — val_f1: 0.733241 — val_precision: 0.748335 — val_recall: 0.736667\n",
      "6/6 [==============================] - 47s 8s/step - loss: 0.5431 - categorical_accuracy: 0.7271 - val_loss: 0.5551 - val_categorical_accuracy: 0.7367 - val_f1: 0.7332 - val_recall: 0.7367 - val_precision: 0.7483\n",
      "Epoch 5/50\n",
      "10/10 [==============================] - 13s 1s/steps: 0.4944 - categoric\n",
      " — val_f1: 0.756496 — val_precision: 0.757151 — val_recall: 0.756667\n",
      "6/6 [==============================] - 58s 10s/step - loss: 0.4944 - categorical_accuracy: 0.7729 - val_loss: 0.5196 - val_categorical_accuracy: 0.7567 - val_f1: 0.7565 - val_recall: 0.7567 - val_precision: 0.7572\n",
      "Epoch 6/50\n",
      "10/10 [==============================] - 11s 1s/steps: 0.4284 - categoric\n",
      " — val_f1: 0.773333 — val_precision: 0.773333 — val_recall: 0.773333\n",
      "6/6 [==============================] - 57s 9s/step - loss: 0.4284 - categorical_accuracy: 0.8086 - val_loss: 0.5060 - val_categorical_accuracy: 0.7733 - val_f1: 0.7733 - val_recall: 0.7733 - val_precision: 0.7733\n",
      "Epoch 7/50\n",
      "10/10 [==============================] - 10s 993ms/step0.4011 - categori\n",
      " — val_f1: 0.759056 — val_precision: 0.784978 — val_recall: 0.763333\n",
      "6/6 [==============================] - 52s 9s/step - loss: 0.4011 - categorical_accuracy: 0.8257 - val_loss: 0.5203 - val_categorical_accuracy: 0.7633 - val_f1: 0.7591 - val_recall: 0.7633 - val_precision: 0.7850\n",
      "Epoch 8/50\n",
      "10/10 [==============================] - 10s 983ms/step0.3550 - categori\n",
      " — val_f1: 0.798820 — val_precision: 0.808083 — val_recall: 0.800000\n",
      "6/6 [==============================] - 52s 9s/step - loss: 0.3550 - categorical_accuracy: 0.8450 - val_loss: 0.5046 - val_categorical_accuracy: 0.8000 - val_f1: 0.7988 - val_recall: 0.8000 - val_precision: 0.8081\n",
      "Epoch 9/50\n",
      "10/10 [==============================] - 12s 1s/steps: 0.3572 - categorica\n",
      " — val_f1: 0.791890 — val_precision: 0.800830 — val_recall: 0.793333\n",
      "6/6 [==============================] - 54s 9s/step - loss: 0.3572 - categorical_accuracy: 0.8343 - val_loss: 0.5136 - val_categorical_accuracy: 0.7933 - val_f1: 0.7919 - val_recall: 0.7933 - val_precision: 0.8008\n",
      "Epoch 10/50\n",
      "10/10 [==============================] - 11s 1s/steps: 0.3662 - categoric\n",
      " — val_f1: 0.819952 — val_precision: 0.820561 — val_recall: 0.820000\n",
      "6/6 [==============================] - 56s 10s/step - loss: 0.3662 - categorical_accuracy: 0.8307 - val_loss: 0.4558 - val_categorical_accuracy: 0.8200 - val_f1: 0.8200 - val_recall: 0.8200 - val_precision: 0.8206\n",
      "Epoch 11/50\n",
      "10/10 [==============================] - 10s 1s/steps: 0.3546 - categoric\n",
      " — val_f1: 0.803196 — val_precision: 0.803934 — val_recall: 0.803333\n",
      "6/6 [==============================] - 52s 9s/step - loss: 0.3546 - categorical_accuracy: 0.8457 - val_loss: 0.4643 - val_categorical_accuracy: 0.8033 - val_f1: 0.8032 - val_recall: 0.8033 - val_precision: 0.8039\n",
      "Epoch 12/50\n",
      "10/10 [==============================] - 8s 794ms/step 0.3087 - categori\n",
      " — val_f1: 0.809994 — val_precision: 0.810149 — val_recall: 0.810000\n",
      "6/6 [==============================] - 47s 8s/step - loss: 0.3087 - categorical_accuracy: 0.8771 - val_loss: 0.4856 - val_categorical_accuracy: 0.8100 - val_f1: 0.8100 - val_recall: 0.8100 - val_precision: 0.8101\n",
      "Epoch 13/50\n",
      "10/10 [==============================] - 11s 1s/steps: 0.2950 - categoric\n",
      " — val_f1: 0.826667 — val_precision: 0.826667 — val_recall: 0.826667\n",
      "6/6 [==============================] - 55s 10s/step - loss: 0.2950 - categorical_accuracy: 0.8843 - val_loss: 0.4612 - val_categorical_accuracy: 0.8267 - val_f1: 0.8267 - val_recall: 0.8267 - val_precision: 0.8267\n",
      "Epoch 14/50\n",
      "10/10 [==============================] - 10s 944ms/step0.2699 - categori\n",
      " — val_f1: 0.829631 — val_precision: 0.833443 — val_recall: 0.830000\n",
      "6/6 [==============================] - 47s 8s/step - loss: 0.2699 - categorical_accuracy: 0.8950 - val_loss: 0.4798 - val_categorical_accuracy: 0.8300 - val_f1: 0.8296 - val_recall: 0.8300 - val_precision: 0.8334\n",
      "Epoch 15/50\n",
      "10/10 [==============================] - 9s 885ms/step 0.2669 - categori\n",
      " — val_f1: 0.833244 — val_precision: 0.834343 — val_recall: 0.833333\n",
      "6/6 [==============================] - 47s 8s/step - loss: 0.2669 - categorical_accuracy: 0.9000 - val_loss: 0.4815 - val_categorical_accuracy: 0.8333 - val_f1: 0.8332 - val_recall: 0.8333 - val_precision: 0.8343\n",
      "Epoch 16/50\n",
      "10/10 [==============================] - 9s 914ms/step 0.2349 - categori\n",
      " — val_f1: 0.771764 — val_precision: 0.804400 — val_recall: 0.776667\n",
      "6/6 [==============================] - 51s 9s/step - loss: 0.2349 - categorical_accuracy: 0.9050 - val_loss: 0.5683 - val_categorical_accuracy: 0.7767 - val_f1: 0.7718 - val_recall: 0.7767 - val_precision: 0.8044\n",
      "Epoch 17/50\n",
      "10/10 [==============================] - 8s 798ms/step 0.2258 - categori\n",
      " — val_f1: 0.804846 — val_precision: 0.819677 — val_recall: 0.806667\n",
      "6/6 [==============================] - 47s 8s/step - loss: 0.2258 - categorical_accuracy: 0.9107 - val_loss: 0.5686 - val_categorical_accuracy: 0.8067 - val_f1: 0.8048 - val_recall: 0.8067 - val_precision: 0.8197\n",
      "Epoch 18/50\n",
      "10/10 [==============================] - 10s 968ms/step0.1937 - categoric\n",
      " — val_f1: 0.783728 — val_precision: 0.804490 — val_recall: 0.786667\n",
      "6/6 [==============================] - 51s 9s/step - loss: 0.1937 - categorical_accuracy: 0.9186 - val_loss: 0.6217 - val_categorical_accuracy: 0.7867 - val_f1: 0.7837 - val_recall: 0.7867 - val_precision: 0.8045\n"
     ]
    },
    {
     "name": "stdout",
     "output_type": "stream",
     "text": [
      "Epoch 19/50\n",
      "10/10 [==============================] - 10s 1s/steps: 0.2241 - categori\n",
      " — val_f1: 0.784368 — val_precision: 0.800612 — val_recall: 0.786667\n",
      "6/6 [==============================] - 49s 9s/step - loss: 0.2241 - categorical_accuracy: 0.9114 - val_loss: 0.5830 - val_categorical_accuracy: 0.7867 - val_f1: 0.7844 - val_recall: 0.7867 - val_precision: 0.8006\n",
      "Epoch 20/50\n",
      "10/10 [==============================] - 9s 896ms/step 0.2171 - categori\n",
      " — val_f1: 0.775819 — val_precision: 0.804168 — val_recall: 0.780000\n",
      "6/6 [==============================] - 46s 8s/step - loss: 0.2171 - categorical_accuracy: 0.9171 - val_loss: 0.6199 - val_categorical_accuracy: 0.7800 - val_f1: 0.7758 - val_recall: 0.7800 - val_precision: 0.8042\n"
     ]
    }
   ],
   "source": [
    "os.environ['TF_CPP_MIN_LOG_LEVEL'] = '3'\n",
    "\n",
    "GRU_SIZE = 300\n",
    "\n",
    "model = tf.keras.Sequential()\n",
    "\n",
    "model.add(\n",
    "    tf.keras.layers.Embedding(\n",
    "        MAX_WORDS+2, \n",
    "        EMBEDDING_DIM, \n",
    "        weights=[embedding_matrix], \n",
    "        input_length=MAX_SEQUENCE_LENGTH, \n",
    "        mask_zero=True,\n",
    "        trainable=False\n",
    "    )\n",
    ")\n",
    "model.add(tf.keras.layers.Dropout(0.25))\n",
    "\n",
    "model.add(\n",
    "    tf.keras.layers.Bidirectional(\n",
    "        tf.keras.layers.GRU(\n",
    "            GRU_SIZE,\n",
    "            return_sequences=True,\n",
    "            recurrent_dropout = 0.25\n",
    "        )\n",
    "    )\n",
    ")\n",
    "model.add(tf.keras.layers.Dropout(0.25))\n",
    "\n",
    "model.add(SelfAttention(mlp_layers=3, units=256))\n",
    "\n",
    "model.add(tf.keras.layers.Dense(1024, activation='relu' ))\n",
    "model.add(tf.keras.layers.Dropout(0.35))\n",
    "\n",
    "model.add(tf.keras.layers.Dense(2, activation='softmax'))\n",
    "\n",
    "print(model.summary())\n",
    "\n",
    "model.compile(\n",
    "    loss='categorical_crossentropy',\n",
    "    optimizer=tf.keras.optimizers.Adam(learning_rate=0.001),\n",
    "    metrics=[\"categorical_accuracy\"]\n",
    ")\n",
    "\n",
    "history = model.fit(\n",
    "    train_data,\n",
    "    y_train,\n",
    "    validation_data=(val_data, y_val),\n",
    "    batch_size=256,\n",
    "    epochs=50,\n",
    "    shuffle=True,\n",
    "    callbacks=[\n",
    "        Metrics(valid_data=(val_data, y_val)),\n",
    "        tf.keras.callbacks.EarlyStopping(monitor='val_loss', patience=10, restore_best_weights=True)\n",
    "    ]\n",
    ")"
   ]
  },
  {
   "cell_type": "markdown",
   "metadata": {},
   "source": [
    "We visualize the model's train and validation loss:"
   ]
  },
  {
   "cell_type": "code",
   "execution_count": 18,
   "metadata": {},
   "outputs": [
    {
     "data": {
      "image/png": "[encoded data removed]",
      "text/plain": [
       "<Figure size 640x480 with 1 Axes>"
      ]
     },
     "metadata": {},
     "output_type": "display_data"
    }
   ],
   "source": [
    "# summarize history for loss\n",
    "plt.plot(history.history['loss'])\n",
    "plt.plot(history.history['val_loss'])\n",
    "plt.title('train-dev loss')\n",
    "plt.ylabel('loss')\n",
    "plt.xlabel('epoch')\n",
    "plt.legend(['train', 'dev'], loc='upper right')\n",
    "plt.show()"
   ]
  },
  {
   "cell_type": "markdown",
   "metadata": {},
   "source": [
    "We notice how during the last epochs of training the two curves significantly deviate indicating ealy steps of overfitting."
   ]
  },
  {
   "cell_type": "code",
   "execution_count": 22,
   "metadata": {},
   "outputs": [
    {
     "name": "stdout",
     "output_type": "stream",
     "text": [
      "Training set\n",
      "===========\n",
      "              precision    recall  f1-score   support\n",
      "\n",
      "           0       0.92      0.86      0.89       698\n",
      "           1       0.87      0.93      0.90       702\n",
      "\n",
      "    accuracy                           0.89      1400\n",
      "   macro avg       0.90      0.89      0.89      1400\n",
      "weighted avg       0.90      0.89      0.89      1400\n",
      "\n",
      "class 0 AUC: 0.891\n",
      "class 1 AUC: 0.899\n",
      "\n",
      "macro-average AUC: 0.895\n"
     ]
    }
   ],
   "source": [
    "# train: precision, recall, f1\n",
    "predictions_train = np.argmax(model.predict(train_data, verbose=0), -1)\n",
    "y_train_ = np.argmax(y_train, -1)\n",
    "print('Training set')\n",
    "print('===========')\n",
    "print(classification_report(y_train_, predictions_train))\n",
    "\n",
    "# train: auc\n",
    "auc_class0_test = calculate_class_AUC_score(y_train_, predictions_train, '0')\n",
    "print('class 0 AUC: {0:.3f}'.format(auc_class0_test))\n",
    "auc_class1_test = calculate_class_AUC_score(y_train_, predictions_train, '1')\n",
    "print('class 1 AUC: {0:.3f}\\n'.format(auc_class1_test))\n",
    "print('macro-average AUC: {0:.3f}'.format((auc_class0_test + auc_class1_test)/2))"
   ]
  },
  {
   "cell_type": "code",
   "execution_count": 23,
   "metadata": {},
   "outputs": [
    {
     "name": "stdout",
     "output_type": "stream",
     "text": [
      "Training set\n",
      "===========\n",
      "              precision    recall  f1-score   support\n",
      "\n",
      "           0       0.81      0.84      0.82       149\n",
      "           1       0.83      0.80      0.82       151\n",
      "\n",
      "    accuracy                           0.82       300\n",
      "   macro avg       0.82      0.82      0.82       300\n",
      "weighted avg       0.82      0.82      0.82       300\n",
      "\n",
      "class 0 AUC: 0.823\n",
      "class 1 AUC: 0.818\n",
      "\n",
      "macro-average AUC: 0.820\n"
     ]
    }
   ],
   "source": [
    "# val: precision, recall, f1\n",
    "predictions_dev = np.argmax(model.predict(val_data, verbose=0), -1)\n",
    "y_val_ = np.argmax(y_val, -1)\n",
    "print('Training set')\n",
    "print('===========')\n",
    "print(classification_report(y_val_, predictions_dev))\n",
    "\n",
    "# val: auc\n",
    "auc_class0_test = calculate_class_AUC_score(y_val_, predictions_dev, '0')\n",
    "print('class 0 AUC: {0:.3f}'.format(auc_class0_test))\n",
    "auc_class1_test = calculate_class_AUC_score(y_val_, predictions_dev, '1')\n",
    "print('class 1 AUC: {0:.3f}\\n'.format(auc_class1_test))\n",
    "print('macro-average AUC: {0:.3f}'.format((auc_class0_test + auc_class1_test)/2))"
   ]
  },
  {
   "cell_type": "code",
   "execution_count": 26,
   "metadata": {},
   "outputs": [
    {
     "name": "stdout",
     "output_type": "stream",
     "text": [
      "Testing set\n",
      "===========\n",
      "              precision    recall  f1-score   support\n",
      "\n",
      "           0       0.83      0.88      0.85       153\n",
      "           1       0.87      0.81      0.84       147\n",
      "\n",
      "    accuracy                           0.85       300\n",
      "   macro avg       0.85      0.85      0.85       300\n",
      "weighted avg       0.85      0.85      0.85       300\n",
      "\n",
      "class 0 AUC: 0.855\n",
      "class 1 AUC: 0.839\n",
      "\n",
      "macro-average AUC: 0.847\n"
     ]
    },
    {
     "data": {
      "image/png": "[encoded data removed]",
      "text/plain": [
       "<Figure size 640x480 with 2 Axes>"
      ]
     },
     "metadata": {},
     "output_type": "display_data"
    }
   ],
   "source": [
    "# test: precision, recall, f1\n",
    "predictions_test = np.argmax(model.predict(test_data, verbose=0), -1)\n",
    "y_test_ = np.argmax(y_test, -1)\n",
    "print('Testing set')\n",
    "print('===========')\n",
    "print(classification_report(y_test_, predictions_test))\n",
    "\n",
    "# test: auc\n",
    "auc_class0_test = calculate_class_AUC_score(y_test_, predictions_test, '0')\n",
    "print('class 0 AUC: {0:.3f}'.format(auc_class0_test))\n",
    "auc_class1_test = calculate_class_AUC_score(y_test_, predictions_test, '1')\n",
    "print('class 1 AUC: {0:.3f}\\n'.format(auc_class1_test))\n",
    "print('macro-average AUC: {0:.3f}'.format((auc_class0_test + auc_class1_test)/2))\n",
    "\n",
    "# test: confusion matrix\n",
    "cf_matrix = confusion_matrix(y_test_, predictions_test)\n",
    "cm_display = ConfusionMatrixDisplay(confusion_matrix=cf_matrix, display_labels=['0', '1'])\n",
    "cm_display.plot()\n",
    "plt.show()"
   ]
  }
 ],
 "metadata": {
  "kernelspec": {
   "display_name": "Python 3",
   "language": "python",
   "name": "python3"
  },
  "language_info": {
   "codemirror_mode": {
    "name": "ipython",
    "version": 3
   },
   "file_extension": ".py",
   "mimetype": "text/x-python",
   "name": "python",
   "nbconvert_exporter": "python",
   "pygments_lexer": "ipython3",
   "version": "3.8.3"
  }
 },
 "nbformat": 4,
 "nbformat_minor": 5
}
