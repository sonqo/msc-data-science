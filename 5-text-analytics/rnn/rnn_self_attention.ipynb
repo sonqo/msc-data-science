{
 "cells": [
  {
   "cell_type": "code",
   "execution_count": 20,
   "id": "6bd4b938",
   "metadata": {},
   "outputs": [],
   "source": [
    "import os\n",
    "import re\n",
    "import string\n",
    "import fasttext \n",
    "import numpy as np\n",
    "import pandas as pd\n",
    "import matplotlib.pyplot as plt\n",
    "\n",
    "import keras\n",
    "import tensorflow as tf\n",
    "from keras.layers import Dense\n",
    "from keras.layers import Dropout\n",
    "from keras.layers import Softmax\n",
    "from keras.models import Sequential\n",
    "from tensorflow.keras.optimizers import Adam\n",
    "\n",
    "import spacy\n",
    "from spacy.lang.en.stop_words import STOP_WORDS\n",
    "\n",
    "from sklearn.metrics import auc\n",
    "from sklearn.metrics import f1_score\n",
    "from sklearn.metrics import recall_score\n",
    "from sklearn.dummy import DummyClassifier\n",
    "from sklearn.metrics import precision_score\n",
    "from sklearn.metrics import confusion_matrix\n",
    "from sklearn.model_selection import ShuffleSplit\n",
    "from sklearn.model_selection import GridSearchCV\n",
    "from sklearn.metrics import classification_report\n",
    "from sklearn.metrics import ConfusionMatrixDisplay\n",
    "from sklearn.model_selection import learning_curve\n",
    "from sklearn.linear_model import LogisticRegression\n",
    "from sklearn.model_selection import train_test_split\n",
    "from sklearn.feature_extraction.text import TfidfVectorizer\n",
    "\n",
    "import nltk\n",
    "from nltk.corpus import stopwords\n",
    "from nltk.corpus import movie_reviews\n",
    "from nltk.stem.snowball import PorterStemmer"
   ]
  },
  {
   "cell_type": "code",
   "execution_count": 2,
   "id": "f2f7ea43",
   "metadata": {},
   "outputs": [],
   "source": [
    "fasttext.FastText.eprint = lambda x: None"
   ]
  },
  {
   "cell_type": "markdown",
   "id": "6dd1d1b3",
   "metadata": {},
   "source": [
    "## Data preprocessing\n",
    "---\n",
    "\n",
    "We will use the Cornell Movie Review Dataset as offered by the `nltk` package: "
   ]
  },
  {
   "cell_type": "code",
   "execution_count": 3,
   "id": "2da70bd5",
   "metadata": {},
   "outputs": [
    {
     "data": {
      "text/plain": [
       "True"
      ]
     },
     "execution_count": 3,
     "metadata": {},
     "output_type": "execute_result"
    }
   ],
   "source": [
    "nltk.download('movie_reviews', quiet=True)"
   ]
  },
  {
   "cell_type": "markdown",
   "id": "6e3afc56",
   "metadata": {},
   "source": [
    "Each review corresponds to a `file_id` which we are going to utilize to create two lists of strings; one for reviews and one for the sentiment label:"
   ]
  },
  {
   "cell_type": "code",
   "execution_count": 4,
   "id": "3fd50c63",
   "metadata": {},
   "outputs": [],
   "source": [
    "x = [' '.join(movie_reviews.words(file_id)) for file_id in movie_reviews.fileids()]\n",
    "y = [movie_reviews.categories(file_id)[0] for file_id in movie_reviews.fileids()]"
   ]
  },
  {
   "cell_type": "markdown",
   "id": "c91614ce",
   "metadata": {},
   "source": [
    "We split our data to 70% training, 15% development, and 15% testing sets:"
   ]
  },
  {
   "cell_type": "code",
   "execution_count": 5,
   "id": "e522e422",
   "metadata": {},
   "outputs": [
    {
     "data": {
      "text/plain": [
       "(1400, 300, 300)"
      ]
     },
     "execution_count": 5,
     "metadata": {},
     "output_type": "execute_result"
    }
   ],
   "source": [
    "y = [0 if label == 'neg' else 1 for label in y]\n",
    "x_train, x_test, y_train, y_test = train_test_split(x, y, test_size=0.3, random_state=42)\n",
    "x_test, x_val, y_test, y_val = train_test_split(x_test, y_test, test_size=0.5, random_state=42)\n",
    "\n",
    "(len(x_train), len(x_val), len(x_test))"
   ]
  },
  {
   "cell_type": "markdown",
   "id": "95e9bc87",
   "metadata": {},
   "source": [
    "The final length of our training, development and test subset equal to 1400, 300 and 300 reviews respectively.\n",
    "\n",
    "## Feature selection\n",
    "---\n",
    "\n",
    "We tokenize each review to word level, while removing stopwords and punctuation symbols:"
   ]
  },
  {
   "cell_type": "code",
   "execution_count": 6,
   "id": "86fcf1b9",
   "metadata": {},
   "outputs": [],
   "source": [
    "nlp = spacy.load('en_core_web_sm', disable=['tagger', 'parser', 'ner', 'lemmatizer'])\n",
    "nlp.add_pipe('sentencizer') \n",
    "\n",
    "x_train_tokenized = []\n",
    "for idx in range(len(x_train)):\n",
    "    doc = nlp(x_train[idx])\n",
    "    tokens = []\n",
    "    for sent in doc.sents:\n",
    "        for tok in sent:\n",
    "            if '\\n' in tok.text or '\\t' in tok.text or '--' in tok.text or\\\n",
    "            '*' in tok.text or tok.text.lower() in STOP_WORDS or tok.text in string.punctuation:\n",
    "                continue\n",
    "            if tok.text.strip():  \n",
    "                tokens.append(tok.text.replace('\"', \"'\").strip())\n",
    "    x_train_tokenized.append(tokens)\n",
    "\n",
    "x_val_tokenized = []\n",
    "for idx in range(len(x_val)):\n",
    "    doc = nlp(x_val[idx])\n",
    "    tokens = []\n",
    "    for sent in doc.sents:\n",
    "        for tok in sent:\n",
    "            if '\\n' in tok.text or '\\t' in tok.text or '--' in tok.text or\\\n",
    "            '*' in tok.text or tok.text.lower() in STOP_WORDS or tok.text in string.punctuation:\n",
    "                continue\n",
    "            if tok.text.strip():\n",
    "                tokens.append(tok.text.replace('\"', \"'\").strip())\n",
    "    x_val_tokenized.append(tokens)\n",
    "\n",
    "x_test_tokenized = []\n",
    "for idx in range(len(x_test)):\n",
    "    doc = nlp(x_test[idx])\n",
    "    tokens = []\n",
    "    for sent in doc.sents:\n",
    "        for tok in sent:\n",
    "            if '\\n' in tok.text or '\\t' in tok.text or '--' in tok.text or\\\n",
    "            '*' in tok.text or tok.text.lower() in STOP_WORDS or tok.text in string.punctuation:\n",
    "                continue\n",
    "            if tok.text.strip():\n",
    "                tokens.append(tok.text.replace('\"', \"'\").strip())\n",
    "    x_test_tokenized.append(tokens)"
   ]
  },
  {
   "cell_type": "code",
   "execution_count": 7,
   "id": "959ed426",
   "metadata": {},
   "outputs": [
    {
     "name": "stdout",
     "output_type": "stream",
     "text": [
      "Mean review word length before feature selection: 3912.91\n",
      "Mean review word length after feature selection: 330.44\n"
     ]
    }
   ],
   "source": [
    "print('Mean review word length before feature selection: {:.2f}'.format(np.mean([len(x) for x in x_train])))\n",
    "print('Mean review word length after feature selection: {:.2f}'.format(np.mean([len(x) for x in x_train_tokenized])))"
   ]
  },
  {
   "cell_type": "markdown",
   "id": "92e6d539",
   "metadata": {},
   "source": [
    "We continue with transforming our tokenized reviews to sequences of index and padding short-enough reviews to a fixed sequence length:"
   ]
  },
  {
   "cell_type": "code",
   "execution_count": 8,
   "id": "8f1cd3b2",
   "metadata": {},
   "outputs": [],
   "source": [
    "MAX_WORDS = 100000\n",
    "EMBEDDING_DIM = 300\n",
    "MAX_SEQUENCE_LENGTH = 1024\n",
    "\n",
    "tokenizer = tf.keras.preprocessing.text.Tokenizer(num_words=MAX_WORDS, oov_token='UNK')\n",
    "\n",
    "tokenizer.fit_on_texts([\" \".join(x) for x in x_train_tokenized])\n",
    "\n",
    "train_seqs = tokenizer.texts_to_sequences([\" \".join(x) for x in x_train_tokenized])\n",
    "train_data = tf.keras.utils.pad_sequences(train_seqs, maxlen=MAX_SEQUENCE_LENGTH, padding='post')\n",
    "\n",
    "val_seqs = tokenizer.texts_to_sequences([\" \".join(x) for x in x_val_tokenized])\n",
    "val_data = tf.keras.utils.pad_sequences(val_seqs, maxlen=MAX_SEQUENCE_LENGTH, padding='post')\n",
    "\n",
    "test_seqs = tokenizer.texts_to_sequences([\" \".join(x) for x in x_test_tokenized])\n",
    "test_data = tf.keras.utils.pad_sequences(test_seqs, maxlen=MAX_SEQUENCE_LENGTH, padding='post')"
   ]
  },
  {
   "cell_type": "code",
   "execution_count": 9,
   "id": "ce518861",
   "metadata": {},
   "outputs": [
    {
     "name": "stdout",
     "output_type": "stream",
     "text": [
      "Found 33964 unique tokens.\n"
     ]
    }
   ],
   "source": [
    "word_index = tokenizer.word_index\n",
    "print('Found %s unique tokens.' % len(word_index))"
   ]
  },
  {
   "cell_type": "markdown",
   "id": "a11e9193",
   "metadata": {},
   "source": [
    "The unique tokens found on the training dataset are about 34k.\n",
    "\n",
    "Moving on, we create an embedding matrix by utilizing `fasttext` pre-trained embeddings on the english language:"
   ]
  },
  {
   "cell_type": "code",
   "execution_count": 10,
   "id": "ad862ef9",
   "metadata": {},
   "outputs": [],
   "source": [
    "fasttext_model = fasttext.load_model('cc.en.300.bin')\n",
    "embedding_matrix = np.zeros(shape=((MAX_WORDS + 2), 300))\n",
    "\n",
    "for key, value in word_index.items():\n",
    "    if value <= MAX_WORDS:\n",
    "        embedding_matrix[value] = fasttext_model.get_word_vector(word=key)\n",
    "\n",
    "del fasttext_model"
   ]
  },
  {
   "cell_type": "markdown",
   "id": "b631a91b",
   "metadata": {},
   "source": [
    "## Bi-directional RNN with self-attention MLP\n",
    "---\n",
    "\n",
    "First things first, we one-hot-encode our problems' labels:"
   ]
  },
  {
   "cell_type": "code",
   "execution_count": 11,
   "id": "3c3f1c8b",
   "metadata": {},
   "outputs": [],
   "source": [
    "y_train = tf.keras.utils.to_categorical(y_train, num_classes=2)\n",
    "y_val = tf.keras.utils.to_categorical(y_val, num_classes=2)\n",
    "y_test = tf.keras.utils.to_categorical(y_test, num_classes=2)"
   ]
  },
  {
   "cell_type": "markdown",
   "id": "5401a9e6",
   "metadata": {},
   "source": [
    "For monitoring the development performance we will use the following callback metrics function:"
   ]
  },
  {
   "cell_type": "code",
   "execution_count": 12,
   "id": "9895e45d",
   "metadata": {},
   "outputs": [],
   "source": [
    "class Metrics(tf.keras.callbacks.Callback):\n",
    "    \n",
    "    def __init__(self, valid_data):\n",
    "        super(Metrics, self).__init__()\n",
    "        self.validation_data = valid_data\n",
    "\n",
    "    def on_epoch_end(self, epoch, logs=None):\n",
    "        logs = logs or {}\n",
    "        val_predict = np.argmax(self.model.predict(self.validation_data[0]), -1)\n",
    "        val_targ = self.validation_data[1]\n",
    "        if len(val_targ.shape) == 2 and val_targ.shape[1] != 1:\n",
    "            val_targ = np.argmax(val_targ, -1)\n",
    "        val_targ = tf.cast(val_targ,dtype=tf.float32)\n",
    "        _val_f1 = f1_score(val_targ, val_predict,average=\"weighted\")\n",
    "        _val_recall = recall_score(val_targ, val_predict,average=\"weighted\")\n",
    "        _val_precision = precision_score(val_targ, val_predict,average=\"weighted\")\n",
    "        logs['val_f1'] = _val_f1\n",
    "        logs['val_recall'] = _val_recall\n",
    "        logs['val_precision'] = _val_precision\n",
    "        print(\" — val_f1: %f — val_precision: %f — val_recall: %f\" % (_val_f1, _val_precision, _val_recall))\n",
    "        return"
   ]
  },
  {
   "cell_type": "markdown",
   "id": "2dff49b8",
   "metadata": {},
   "source": [
    "We will also use the following function for calculating per class metrics:"
   ]
  },
  {
   "cell_type": "code",
   "execution_count": 13,
   "id": "2d96af31",
   "metadata": {},
   "outputs": [],
   "source": [
    "def calculate_class_AUC_score(y_true, y_pred, labels):\n",
    "    \"\"\"\n",
    "    Calculates AUC scores for the given class label.\n",
    "    \"\"\"\n",
    "    precision = [0, _, 1]\n",
    "    recall = [1, _, 0]\n",
    "    cr = classification_report(y_true, y_pred, output_dict=True, zero_division=0)\n",
    "    precision[1] = cr[labels]['precision']\n",
    "    recall[1] = cr[labels]['recall']\n",
    "    auc_score = auc(recall, precision)\n",
    "    return auc_score"
   ]
  },
  {
   "cell_type": "markdown",
   "id": "8e9b99f4",
   "metadata": {},
   "source": [
    "We will create a custom class for creating a slef-attention layer:"
   ]
  },
  {
   "cell_type": "code",
   "execution_count": 14,
   "id": "5dbb5937",
   "metadata": {},
   "outputs": [],
   "source": [
    "class SelfAttention(tf.keras.layers.Layer):\n",
    "\n",
    "    def __init__(self, mlp_layers, units, return_attention=False, **kwargs):\n",
    "        super(SelfAttention, self).__init__(**kwargs)\n",
    "        self.mlp_layers = mlp_layers\n",
    "        self.mlp_units = units\n",
    "        self.return_attention = return_attention\n",
    "        self.attention_mlp = self.build_mlp()\n",
    "  \n",
    "    def build_mlp(self):\n",
    "        mlp = tf.keras.Sequential()\n",
    "        for i in range(self.mlp_layers):\n",
    "            mlp.add(tf.keras.layers.Dense(self.mlp_units, activation='elu'))\n",
    "        mlp.add(tf.keras.layers.Dense(1))\n",
    "        return mlp\n",
    "  \n",
    "    def call(self, x, mask=None):\n",
    "        a = self.attention_mlp(x)\n",
    "        a = tf.squeeze(a, axis=2)\n",
    "        if mask is not None:\n",
    "            mask = tf.keras.backend.cast(mask, tf.keras.backend.floatx())\n",
    "            a -= 100000.0 * (1.0 - mask)\n",
    "            a = tf.keras.backend.expand_dims(tf.keras.backend.softmax(a, axis=-1))\n",
    "            weighted_input = x * a\n",
    "            result = tf.keras.backend.sum(weighted_input, axis=1)\n",
    "        if self.return_attention:\n",
    "            return [result, a]\n",
    "        return result"
   ]
  },
  {
   "cell_type": "markdown",
   "id": "e1d0528c",
   "metadata": {},
   "source": [
    "Our model consists of the embedding layer, a bi-directional RNN, the self-attention with 3 hidden layers and a fully connected layer with 1024 nodes. We utilize dropout layers in between for reguralization purposes. Last, but not least, we follow the eraly stopping approach, forcing the training to terminate if the validation loss stops improving for 10 consecutive epochs:"
   ]
  },
  {
   "cell_type": "code",
   "execution_count": 15,
   "id": "8f63750c",
   "metadata": {
    "scrolled": true
   },
   "outputs": [
    {
     "name": "stdout",
     "output_type": "stream",
     "text": [
      "Model: \"sequential\"\n",
      "_________________________________________________________________\n",
      " Layer (type)                Output Shape              Param #   \n",
      "=================================================================\n",
      " embedding (Embedding)       (None, 1024, 300)         30000600  \n",
      "                                                                 \n",
      " dropout (Dropout)           (None, 1024, 300)         0         \n",
      "                                                                 \n",
      " bidirectional (Bidirectiona  (None, 1024, 600)        1083600   \n",
      " l)                                                              \n",
      "                                                                 \n",
      " dropout_1 (Dropout)         (None, 1024, 600)         0         \n",
      "                                                                 \n",
      " self_attention (SelfAttenti  (None, 600)              285697    \n",
      " on)                                                             \n",
      "                                                                 \n",
      " dense_4 (Dense)             (None, 1024)              615424    \n",
      "                                                                 \n",
      " dropout_2 (Dropout)         (None, 1024)              0         \n",
      "                                                                 \n",
      " dense_5 (Dense)             (None, 2)                 2050      \n",
      "                                                                 \n",
      "=================================================================\n",
      "Total params: 31,987,371\n",
      "Trainable params: 1,986,771\n",
      "Non-trainable params: 30,000,600\n",
      "_________________________________________________________________\n",
      "None\n",
      "Epoch 1/50\n",
      "10/10 [==============================] - 31s 3s/steps: 0.6849 - categorical_acc\n",
      " — val_f1: 0.329636 — val_precision: 0.246678 — val_recall: 0.496667\n"
     ]
    },
    {
     "name": "stderr",
     "output_type": "stream",
     "text": [
      "/opt/anaconda3/envs/practical-ds/lib/python3.10/site-packages/sklearn/metrics/_classification.py:1334: UndefinedMetricWarning: Precision is ill-defined and being set to 0.0 in labels with no predicted samples. Use `zero_division` parameter to control this behavior.\n",
      "  _warn_prf(average, modifier, msg_start, len(result))\n"
     ]
    },
    {
     "name": "stdout",
     "output_type": "stream",
     "text": [
      "6/6 [==============================] - 187s 31s/step - loss: 0.6849 - categorical_accuracy: 0.5757 - val_loss: 0.7006 - val_categorical_accuracy: 0.4967 - val_f1: 0.3296 - val_recall: 0.4967 - val_precision: 0.2467\n",
      "Epoch 2/50\n",
      "10/10 [==============================] - 30s 3s/steps: 0.6736 - categorical_acc\n",
      " — val_f1: 0.536590 — val_precision: 0.751923 — val_recall: 0.603333\n",
      "6/6 [==============================] - 181s 31s/step - loss: 0.6736 - categorical_accuracy: 0.5650 - val_loss: 0.6565 - val_categorical_accuracy: 0.6033 - val_f1: 0.5366 - val_recall: 0.6033 - val_precision: 0.7519\n",
      "Epoch 3/50\n",
      "10/10 [==============================] - 30s 3s/steps: 0.6114 - categorical_acc\n",
      " — val_f1: 0.647308 — val_precision: 0.702019 — val_recall: 0.663333\n",
      "6/6 [==============================] - 179s 31s/step - loss: 0.6114 - categorical_accuracy: 0.6729 - val_loss: 0.6281 - val_categorical_accuracy: 0.6633 - val_f1: 0.6473 - val_recall: 0.6633 - val_precision: 0.7020\n",
      "Epoch 4/50\n",
      "10/10 [==============================] - 30s 3s/steps: 0.5724 - categorical_acc\n",
      " — val_f1: 0.690350 — val_precision: 0.730440 — val_recall: 0.700000\n",
      "6/6 [==============================] - 183s 31s/step - loss: 0.5724 - categorical_accuracy: 0.7100 - val_loss: 0.5848 - val_categorical_accuracy: 0.7000 - val_f1: 0.6904 - val_recall: 0.7000 - val_precision: 0.7304\n",
      "Epoch 5/50\n",
      "10/10 [==============================] - 30s 3s/steps: 0.5458 - categorical_acc\n",
      " — val_f1: 0.619379 — val_precision: 0.762531 — val_recall: 0.656667\n",
      "6/6 [==============================] - 183s 31s/step - loss: 0.5458 - categorical_accuracy: 0.7207 - val_loss: 0.6136 - val_categorical_accuracy: 0.6567 - val_f1: 0.6194 - val_recall: 0.6567 - val_precision: 0.7625\n",
      "Epoch 6/50\n",
      "10/10 [==============================] - 30s 3s/steps: 0.5173 - categorical_acc\n",
      " — val_f1: 0.687950 — val_precision: 0.738803 — val_recall: 0.700000\n",
      "6/6 [==============================] - 182s 31s/step - loss: 0.5173 - categorical_accuracy: 0.7429 - val_loss: 0.5907 - val_categorical_accuracy: 0.7000 - val_f1: 0.6879 - val_recall: 0.7000 - val_precision: 0.7388\n",
      "Epoch 7/50\n",
      "10/10 [==============================] - 30s 3s/steps: 0.4651 - categorical_acc\n",
      " — val_f1: 0.676459 — val_precision: 0.785915 — val_recall: 0.700000\n",
      "6/6 [==============================] - 183s 31s/step - loss: 0.4651 - categorical_accuracy: 0.7829 - val_loss: 0.6598 - val_categorical_accuracy: 0.7000 - val_f1: 0.6765 - val_recall: 0.7000 - val_precision: 0.7859\n",
      "Epoch 8/50\n",
      "10/10 [==============================] - 30s 3s/steps: 0.4446 - categorical_acc\n",
      " — val_f1: 0.760947 — val_precision: 0.775389 — val_recall: 0.763333\n",
      "6/6 [==============================] - 184s 31s/step - loss: 0.4446 - categorical_accuracy: 0.7893 - val_loss: 0.5064 - val_categorical_accuracy: 0.7633 - val_f1: 0.7609 - val_recall: 0.7633 - val_precision: 0.7754\n",
      "Epoch 9/50\n",
      "10/10 [==============================] - 30s 3s/steps: 0.3837 - categorical_acc\n",
      " — val_f1: 0.774415 — val_precision: 0.789296 — val_recall: 0.776667\n",
      "6/6 [==============================] - 183s 31s/step - loss: 0.3837 - categorical_accuracy: 0.8329 - val_loss: 0.5157 - val_categorical_accuracy: 0.7767 - val_f1: 0.7744 - val_recall: 0.7767 - val_precision: 0.7893\n",
      "Epoch 10/50\n",
      "10/10 [==============================] - 31s 3s/steps: 0.3447 - categorical_acc\n",
      " — val_f1: 0.711427 — val_precision: 0.790357 — val_recall: 0.726667\n",
      "6/6 [==============================] - 184s 31s/step - loss: 0.3447 - categorical_accuracy: 0.8564 - val_loss: 0.6394 - val_categorical_accuracy: 0.7267 - val_f1: 0.7114 - val_recall: 0.7267 - val_precision: 0.7904\n",
      "Epoch 11/50\n",
      "10/10 [==============================] - 31s 3s/steps: 0.3843 - categorical_acc\n",
      " — val_f1: 0.764471 — val_precision: 0.799790 — val_recall: 0.770000\n",
      "6/6 [==============================] - 184s 31s/step - loss: 0.3843 - categorical_accuracy: 0.8250 - val_loss: 0.5312 - val_categorical_accuracy: 0.7700 - val_f1: 0.7645 - val_recall: 0.7700 - val_precision: 0.7998\n",
      "Epoch 12/50\n",
      "10/10 [==============================] - 31s 3s/steps: 0.3400 - categorical_acc\n",
      " — val_f1: 0.820000 — val_precision: 0.820000 — val_recall: 0.820000\n",
      "6/6 [==============================] - 183s 31s/step - loss: 0.3400 - categorical_accuracy: 0.8657 - val_loss: 0.4388 - val_categorical_accuracy: 0.8200 - val_f1: 0.8200 - val_recall: 0.8200 - val_precision: 0.8200\n",
      "Epoch 13/50\n",
      "10/10 [==============================] - 30s 3s/steps: 0.3118 - categorical_acc\n",
      " — val_f1: 0.822950 — val_precision: 0.826714 — val_recall: 0.823333\n",
      "6/6 [==============================] - 184s 31s/step - loss: 0.3118 - categorical_accuracy: 0.8757 - val_loss: 0.4843 - val_categorical_accuracy: 0.8233 - val_f1: 0.8229 - val_recall: 0.8233 - val_precision: 0.8267\n",
      "Epoch 14/50\n",
      "10/10 [==============================] - 30s 3s/steps: 0.2873 - categorical_acc\n",
      " — val_f1: 0.801074 — val_precision: 0.819017 — val_recall: 0.803333\n",
      "6/6 [==============================] - 183s 31s/step - loss: 0.2873 - categorical_accuracy: 0.8843 - val_loss: 0.4909 - val_categorical_accuracy: 0.8033 - val_f1: 0.8011 - val_recall: 0.8033 - val_precision: 0.8190\n",
      "Epoch 15/50\n",
      "10/10 [==============================] - 30s 3s/steps: 0.2647 - categorical_acc\n",
      " — val_f1: 0.794330 — val_precision: 0.812022 — val_recall: 0.796667\n",
      "6/6 [==============================] - 183s 31s/step - loss: 0.2647 - categorical_accuracy: 0.8907 - val_loss: 0.5494 - val_categorical_accuracy: 0.7967 - val_f1: 0.7943 - val_recall: 0.7967 - val_precision: 0.8120\n",
      "Epoch 16/50\n",
      "10/10 [==============================] - 30s 3s/steps: 0.2576 - categorical_acc\n",
      " — val_f1: 0.807817 — val_precision: 0.826011 — val_recall: 0.810000\n",
      "6/6 [==============================] - 186s 32s/step - loss: 0.2576 - categorical_accuracy: 0.8921 - val_loss: 0.4994 - val_categorical_accuracy: 0.8100 - val_f1: 0.8078 - val_recall: 0.8100 - val_precision: 0.8260\n",
      "Epoch 17/50\n",
      "10/10 [==============================] - 30s 3s/steps: 0.2780 - categorical_acc\n",
      " — val_f1: 0.819663 — val_precision: 0.821967 — val_recall: 0.820000\n",
      "6/6 [==============================] - 184s 31s/step - loss: 0.2780 - categorical_accuracy: 0.8793 - val_loss: 0.4930 - val_categorical_accuracy: 0.8200 - val_f1: 0.8197 - val_recall: 0.8200 - val_precision: 0.8220\n",
      "Epoch 18/50\n",
      "10/10 [==============================] - 30s 3s/steps: 0.2721 - categorical_acc\n",
      " — val_f1: 0.833022 — val_precision: 0.835393 — val_recall: 0.833333\n",
      "6/6 [==============================] - 185s 31s/step - loss: 0.2721 - categorical_accuracy: 0.8829 - val_loss: 0.4580 - val_categorical_accuracy: 0.8333 - val_f1: 0.8330 - val_recall: 0.8333 - val_precision: 0.8354\n",
      "Epoch 19/50\n",
      "10/10 [==============================] - 30s 3s/steps: 0.2565 - categorical_acc\n",
      " — val_f1: 0.833111 — val_precision: 0.834748 — val_recall: 0.833333\n",
      "6/6 [==============================] - 183s 31s/step - loss: 0.2565 - categorical_accuracy: 0.8986 - val_loss: 0.4585 - val_categorical_accuracy: 0.8333 - val_f1: 0.8331 - val_recall: 0.8333 - val_precision: 0.8347\n",
      "Epoch 20/50\n",
      "10/10 [==============================] - 30s 3s/steps: 0.2362 - categorical_acc\n",
      " — val_f1: 0.836312 — val_precision: 0.840173 — val_recall: 0.836667\n",
      "6/6 [==============================] - 181s 31s/step - loss: 0.2362 - categorical_accuracy: 0.9121 - val_loss: 0.4368 - val_categorical_accuracy: 0.8367 - val_f1: 0.8363 - val_recall: 0.8367 - val_precision: 0.8402\n",
      "Epoch 21/50\n",
      "10/10 [==============================] - 30s 3s/steps: 0.2074 - categorical_acc\n",
      " — val_f1: 0.839957 — val_precision: 0.840587 — val_recall: 0.840000\n",
      "6/6 [==============================] - 184s 31s/step - loss: 0.2074 - categorical_accuracy: 0.9200 - val_loss: 0.4533 - val_categorical_accuracy: 0.8400 - val_f1: 0.8400 - val_recall: 0.8400 - val_precision: 0.8406\n",
      "Epoch 22/50\n",
      "10/10 [==============================] - 30s 3s/steps: 0.1882 - categorical_acc\n",
      " — val_f1: 0.793356 — val_precision: 0.818473 — val_recall: 0.796667\n",
      "6/6 [==============================] - 185s 32s/step - loss: 0.1882 - categorical_accuracy: 0.9271 - val_loss: 0.6089 - val_categorical_accuracy: 0.7967 - val_f1: 0.7934 - val_recall: 0.7967 - val_precision: 0.8185\n",
      "Epoch 23/50\n",
      "10/10 [==============================] - 30s 3s/steps: 0.1926 - categorical_acc\n",
      " — val_f1: 0.789406 — val_precision: 0.818604 — val_recall: 0.793333\n",
      "6/6 [==============================] - 185s 32s/step - loss: 0.1926 - categorical_accuracy: 0.9221 - val_loss: 0.5656 - val_categorical_accuracy: 0.7933 - val_f1: 0.7894 - val_recall: 0.7933 - val_precision: 0.8186\n",
      "Epoch 24/50\n",
      "10/10 [==============================] - 30s 3s/steps: 0.1957 - categorical_acc\n",
      " — val_f1: 0.829729 — val_precision: 0.831702 — val_recall: 0.830000\n",
      "6/6 [==============================] - 184s 31s/step - loss: 0.1957 - categorical_accuracy: 0.9171 - val_loss: 0.4566 - val_categorical_accuracy: 0.8300 - val_f1: 0.8297 - val_recall: 0.8300 - val_precision: 0.8317\n",
      "Epoch 25/50\n",
      "10/10 [==============================] - 30s 3s/steps: 0.1953 - categorical_acc\n",
      " — val_f1: 0.826651 — val_precision: 0.826930 — val_recall: 0.826667\n",
      "6/6 [==============================] - 185s 32s/step - loss: 0.1953 - categorical_accuracy: 0.9214 - val_loss: 0.5105 - val_categorical_accuracy: 0.8267 - val_f1: 0.8267 - val_recall: 0.8267 - val_precision: 0.8269\n",
      "Epoch 26/50\n",
      "10/10 [==============================] - 30s 3s/steps: 0.1526 - categorical_acc\n",
      " — val_f1: 0.849895 — val_precision: 0.851324 — val_recall: 0.850000\n",
      "6/6 [==============================] - 184s 31s/step - loss: 0.1526 - categorical_accuracy: 0.9407 - val_loss: 0.5076 - val_categorical_accuracy: 0.8500 - val_f1: 0.8499 - val_recall: 0.8500 - val_precision: 0.8513\n",
      "Epoch 27/50\n",
      "10/10 [==============================] - 30s 3s/steps: 0.1364 - categorical_acc\n",
      " — val_f1: 0.839957 — val_precision: 0.840587 — val_recall: 0.840000\n",
      "6/6 [==============================] - 185s 31s/step - loss: 0.1364 - categorical_accuracy: 0.9514 - val_loss: 0.5312 - val_categorical_accuracy: 0.8400 - val_f1: 0.8400 - val_recall: 0.8400 - val_precision: 0.8406\n",
      "Epoch 28/50\n",
      "10/10 [==============================] - 30s 3s/steps: 0.1528 - categorical_acc\n",
      " — val_f1: 0.836639 — val_precision: 0.837077 — val_recall: 0.836667\n",
      "6/6 [==============================] - 182s 31s/step - loss: 0.1528 - categorical_accuracy: 0.9421 - val_loss: 0.4973 - val_categorical_accuracy: 0.8367 - val_f1: 0.8366 - val_recall: 0.8367 - val_precision: 0.8371\n",
      "Epoch 29/50\n",
      "10/10 [==============================] - 30s 3s/steps: 0.1427 - categorical_acc\n",
      " — val_f1: 0.802069 — val_precision: 0.812205 — val_recall: 0.803333\n",
      "6/6 [==============================] - 182s 31s/step - loss: 0.1427 - categorical_accuracy: 0.9521 - val_loss: 0.6551 - val_categorical_accuracy: 0.8033 - val_f1: 0.8021 - val_recall: 0.8033 - val_precision: 0.8122\n",
      "Epoch 30/50\n",
      "10/10 [==============================] - 31s 3s/steps: 0.1550 - categorical_acc\n",
      " — val_f1: 0.761710 — val_precision: 0.815979 — val_recall: 0.770000\n",
      "6/6 [==============================] - 185s 32s/step - loss: 0.1550 - categorical_accuracy: 0.9414 - val_loss: 0.7227 - val_categorical_accuracy: 0.7700 - val_f1: 0.7617 - val_recall: 0.7700 - val_precision: 0.8160\n"
     ]
    }
   ],
   "source": [
    "os.environ['TF_CPP_MIN_LOG_LEVEL'] = '3'\n",
    "\n",
    "GRU_SIZE = 300\n",
    "\n",
    "model = tf.keras.Sequential()\n",
    "\n",
    "model.add(\n",
    "    tf.keras.layers.Embedding(\n",
    "        MAX_WORDS+2, \n",
    "        EMBEDDING_DIM, \n",
    "        weights=[embedding_matrix], \n",
    "        input_length=MAX_SEQUENCE_LENGTH, \n",
    "        mask_zero=True,\n",
    "        trainable=False\n",
    "    )\n",
    ")\n",
    "model.add(tf.keras.layers.Dropout(0.25))\n",
    "\n",
    "model.add(\n",
    "    tf.keras.layers.Bidirectional(\n",
    "        tf.keras.layers.GRU(\n",
    "            GRU_SIZE,\n",
    "            return_sequences=True,\n",
    "            recurrent_dropout = 0.25\n",
    "        )\n",
    "    )\n",
    ")\n",
    "model.add(tf.keras.layers.Dropout(0.25))\n",
    "\n",
    "model.add(SelfAttention(mlp_layers=3, units=256))\n",
    "\n",
    "model.add(tf.keras.layers.Dense(1024, activation='relu' ))\n",
    "model.add(tf.keras.layers.Dropout(0.35))\n",
    "\n",
    "model.add(tf.keras.layers.Dense(2, activation='softmax'))\n",
    "\n",
    "print(model.summary())\n",
    "\n",
    "model.compile(\n",
    "    loss='categorical_crossentropy',\n",
    "    optimizer=tf.keras.optimizers.Adam(learning_rate=0.001),\n",
    "    metrics=[\"categorical_accuracy\"]\n",
    ")\n",
    "\n",
    "history = model.fit(\n",
    "    train_data,\n",
    "    y_train,\n",
    "    validation_data=(val_data, y_val),\n",
    "    batch_size=256,\n",
    "    epochs=50,\n",
    "    shuffle=True,\n",
    "    callbacks=[\n",
    "        Metrics(valid_data=(val_data, y_val)),\n",
    "        tf.keras.callbacks.EarlyStopping(monitor='val_loss', patience=10, restore_best_weights=True)\n",
    "    ]\n",
    ")"
   ]
  },
  {
   "cell_type": "markdown",
   "id": "17b503f9",
   "metadata": {},
   "source": [
    "We visualize the model's train and validation loss:"
   ]
  },
  {
   "cell_type": "code",
   "execution_count": 16,
   "id": "193cc708",
   "metadata": {},
   "outputs": [
    {
     "data": {
      "image/png": "[encoded data removed]",
      "text/plain": [
       "<Figure size 640x480 with 1 Axes>"
      ]
     },
     "metadata": {},
     "output_type": "display_data"
    }
   ],
   "source": [
    "# summarize history for loss\n",
    "plt.plot(history.history['loss'])\n",
    "plt.plot(history.history['val_loss'])\n",
    "plt.title('train-dev loss')\n",
    "plt.ylabel('loss')\n",
    "plt.xlabel('epoch')\n",
    "plt.legend(['train', 'dev'], loc='upper right')\n",
    "plt.show()"
   ]
  },
  {
   "cell_type": "markdown",
   "id": "7018e81c",
   "metadata": {},
   "source": [
    "We notice how during the last epochs of training the two curves significantly deviate indicating ealy steps of overfitting."
   ]
  },
  {
   "cell_type": "code",
   "execution_count": 17,
   "id": "c07fca2e",
   "metadata": {},
   "outputs": [
    {
     "name": "stdout",
     "output_type": "stream",
     "text": [
      "Training set\n",
      "===========\n",
      "              precision    recall  f1-score   support\n",
      "\n",
      "           0       0.96      0.93      0.95       698\n",
      "           1       0.93      0.96      0.95       702\n",
      "\n",
      "    accuracy                           0.95      1400\n",
      "   macro avg       0.95      0.95      0.95      1400\n",
      "weighted avg       0.95      0.95      0.95      1400\n",
      "\n",
      "class 0 AUC: 0.947\n",
      "class 1 AUC: 0.949\n",
      "\n",
      "macro-average AUC: 0.948\n"
     ]
    }
   ],
   "source": [
    "# train: precision, recall, f1\n",
    "predictions_train = np.argmax(model.predict(train_data, verbose=0), -1)\n",
    "y_train_ = np.argmax(y_train, -1)\n",
    "print('Training set')\n",
    "print('===========')\n",
    "print(classification_report(y_train_, predictions_train))\n",
    "\n",
    "# train: auc\n",
    "auc_class0_test = calculate_class_AUC_score(y_train_, predictions_train, '0')\n",
    "print('class 0 AUC: {0:.3f}'.format(auc_class0_test))\n",
    "auc_class1_test = calculate_class_AUC_score(y_train_, predictions_train, '1')\n",
    "print('class 1 AUC: {0:.3f}\\n'.format(auc_class1_test))\n",
    "print('macro-average AUC: {0:.3f}'.format((auc_class0_test + auc_class1_test)/2))"
   ]
  },
  {
   "cell_type": "code",
   "execution_count": 18,
   "id": "8b02cd61",
   "metadata": {},
   "outputs": [
    {
     "name": "stdout",
     "output_type": "stream",
     "text": [
      "Validation set\n",
      "===========\n",
      "              precision    recall  f1-score   support\n",
      "\n",
      "           0       0.80      0.89      0.84       149\n",
      "           1       0.88      0.79      0.83       151\n",
      "\n",
      "    accuracy                           0.84       300\n",
      "   macro avg       0.84      0.84      0.84       300\n",
      "weighted avg       0.84      0.84      0.84       300\n",
      "\n",
      "class 0 AUC: 0.845\n",
      "class 1 AUC: 0.832\n",
      "\n",
      "macro-average AUC: 0.838\n"
     ]
    }
   ],
   "source": [
    "# val: precision, recall, f1\n",
    "predictions_dev = np.argmax(model.predict(val_data, verbose=0), -1)\n",
    "y_val_ = np.argmax(y_val, -1)\n",
    "print('Validation set')\n",
    "print('===========')\n",
    "print(classification_report(y_val_, predictions_dev))\n",
    "\n",
    "# val: auc\n",
    "auc_class0_test = calculate_class_AUC_score(y_val_, predictions_dev, '0')\n",
    "print('class 0 AUC: {0:.3f}'.format(auc_class0_test))\n",
    "auc_class1_test = calculate_class_AUC_score(y_val_, predictions_dev, '1')\n",
    "print('class 1 AUC: {0:.3f}\\n'.format(auc_class1_test))\n",
    "print('macro-average AUC: {0:.3f}'.format((auc_class0_test + auc_class1_test)/2))"
   ]
  },
  {
   "cell_type": "code",
   "execution_count": 19,
   "id": "742e04da",
   "metadata": {},
   "outputs": [
    {
     "name": "stdout",
     "output_type": "stream",
     "text": [
      "Testing set\n",
      "===========\n",
      "              precision    recall  f1-score   support\n",
      "\n",
      "           0       0.83      0.90      0.87       153\n",
      "           1       0.89      0.81      0.85       147\n",
      "\n",
      "    accuracy                           0.86       300\n",
      "   macro avg       0.86      0.86      0.86       300\n",
      "weighted avg       0.86      0.86      0.86       300\n",
      "\n",
      "class 0 AUC: 0.867\n",
      "class 1 AUC: 0.849\n",
      "\n",
      "macro-average AUC: 0.858\n"
     ]
    },
    {
     "data": {
      "image/png": "[encoded data removed]",
      "text/plain": [
       "<Figure size 640x480 with 2 Axes>"
      ]
     },
     "metadata": {},
     "output_type": "display_data"
    }
   ],
   "source": [
    "# test: precision, recall, f1\n",
    "predictions_test = np.argmax(model.predict(test_data, verbose=0), -1)\n",
    "y_test_ = np.argmax(y_test, -1)\n",
    "print('Testing set')\n",
    "print('===========')\n",
    "print(classification_report(y_test_, predictions_test))\n",
    "\n",
    "# test: auc\n",
    "auc_class0_test = calculate_class_AUC_score(y_test_, predictions_test, '0')\n",
    "print('class 0 AUC: {0:.3f}'.format(auc_class0_test))\n",
    "auc_class1_test = calculate_class_AUC_score(y_test_, predictions_test, '1')\n",
    "print('class 1 AUC: {0:.3f}\\n'.format(auc_class1_test))\n",
    "print('macro-average AUC: {0:.3f}'.format((auc_class0_test + auc_class1_test)/2))\n",
    "\n",
    "# test: confusion matrix\n",
    "cf_matrix = confusion_matrix(y_test_, predictions_test)\n",
    "cm_display = ConfusionMatrixDisplay(confusion_matrix=cf_matrix, display_labels=['0', '1'])\n",
    "cm_display.plot()\n",
    "plt.show()"
   ]
  }
 ],
 "metadata": {
  "kernelspec": {
   "display_name": "Python 3 (ipykernel)",
   "language": "python",
   "name": "python3"
  },
  "language_info": {
   "codemirror_mode": {
    "name": "ipython",
    "version": 3
   },
   "file_extension": ".py",
   "mimetype": "text/x-python",
   "name": "python",
   "nbconvert_exporter": "python",
   "pygments_lexer": "ipython3",
   "version": "3.8.13"
  }
 },
 "nbformat": 4,
 "nbformat_minor": 5
}
